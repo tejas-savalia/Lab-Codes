{
 "cells": [
  {
   "cell_type": "code",
   "execution_count": 1,
   "metadata": {},
   "outputs": [],
   "source": [
    "from __future__ import absolute_import, division, print_function\n",
    "\n",
    "from psychopy import visual, core, event, gui, data\n",
    "import numpy as np\n",
    "import matplotlib.pyplot as plt\n",
    "import pandas as pd"
   ]
  },
  {
   "cell_type": "markdown",
   "metadata": {},
   "source": [
    "# Experiment Prompt"
   ]
  },
  {
   "cell_type": "code",
   "execution_count": 69,
   "metadata": {},
   "outputs": [
    {
     "name": "stdout",
     "output_type": "stream",
     "text": [
      "['3000']\n"
     ]
    }
   ],
   "source": [
    "myDlg = gui.Dlg(title = 'Visuomotor Adaptation')\n",
    "myDlg.addField('Participant Number: ')\n",
    "ok_data = myDlg.show()  # show dialog and wait for OK or Cancel\n",
    "if myDlg.OK:  # or if ok_data is not None\n",
    "    print(ok_data)\n",
    "else:\n",
    "    print('user cancelled')"
   ]
  },
  {
   "cell_type": "code",
   "execution_count": 42,
   "metadata": {},
   "outputs": [],
   "source": [
    "def run_blocks(block_no, rotation, thetas):\n",
    "\n",
    "    target_position_thetas = np.array([np.random.permutation(thetas), np.random.permutation(thetas), np.random.permutation(thetas), np.random.permutation(thetas)])\n",
    "    target_angle_pos = np.ravel(target_position_thetas)\n",
    "    target_pos_radius = 0.75\n",
    "    target_xpos = 0.42*np.cos(target_angle_pos)\n",
    "    target_ypos = 0.75*np.sin(target_angle_pos)\n",
    "    num_trials = len(target_angle_pos)\n",
    "    # Create a window to draw in\n",
    "    my_win = visual.Window((1920, 1080), allowGUI=True, fullscr = True)\n",
    "    \n",
    "      \n",
    "    #Center fixation\n",
    "    fixation = visual.Circle(my_win, edges=64, size = (0.03, 0.05), pos = [0, 0], fillColor = [1, 0, 0], lineColor = [1, 0, 0])\n",
    "\n",
    "    #Initialize Variables to return\n",
    "    rotated_traj_x = np.empty(num_trials, dtype = object)\n",
    "    rotated_traj_y = np.empty(num_trials, dtype = object)\n",
    "    initial_time = np.zeros(num_trials)\n",
    "    movement_time = np.zeros(num_trials)\n",
    "\n",
    "    for trial in range(num_trials):\n",
    "        traj_x = list()\n",
    "        traj_y = list()\n",
    "\n",
    "        fixation.draw()\n",
    "        my_win.update()\n",
    "        #isi\n",
    "        core.wait(np.random.normal(0.75, 1))\n",
    "        #Go Target\n",
    "        target = visual.Circle(my_win, edges=64, size = (0.1, 0.17), pos = [target_xpos[trial], target_ypos[trial]], fillColor = [1, 0, 0], lineColor = [1, 0, 0])\n",
    "        target.draw()            \n",
    "        my_win.update()\n",
    "        #Initialize mouse object\n",
    "        my_mouse = event.Mouse(visible=False,newPos=[0,0],win=my_win)\n",
    "        #my_win.update()\n",
    "        clock_it = core.Clock()\n",
    "        clock_mt = core.Clock()\n",
    "        my_mouse.clickReset()\n",
    "        first_flag = True\n",
    "        while True:\n",
    "            #Get current mouse position\n",
    "            #mouse_x, mouse_y = my_mouse.getPos()\n",
    "\n",
    "            if my_mouse.getPressed()[0]:\n",
    "                if first_flag:\n",
    "                    mouse_x, mouse_y = my_mouse.getPos()\n",
    "\n",
    "                    initial_time[trial] = clock_it.getTime()\n",
    "                    x_center = mouse_x\n",
    "                    y_center = mouse_y\n",
    "                    #fixation.pos = (0, 0)\n",
    "                    #fixation.draw()\n",
    "                    #target.draw()\n",
    "                    #my_win.update()\n",
    "                    first_flag = False\n",
    "                    #print (x_center, y_center)\n",
    "\n",
    "                mouse_x, mouse_y = my_mouse.getPos()\n",
    "                cursor_x, cursor_y = (mouse_x-x_center)*np.cos(rotation) + (mouse_y-y_center)*np.sin(rotation), -(mouse_x-x_center)*np.sin(rotation) + (mouse_y-y_center)*np.cos(rotation)\n",
    "                #Change the position of the fixation to the rotated movement from the mouse\n",
    "                fixation.pos = (cursor_x, cursor_y)\n",
    "                traj_x.append(cursor_x)\n",
    "                traj_y.append(cursor_y)\n",
    "                \n",
    "                #Draw on screen\n",
    "                fixation.draw()\n",
    "                target.draw()\n",
    "\n",
    "                #Display on Screen\n",
    "                my_win.update()\n",
    "\n",
    "                #Break if fixation reaches the target\n",
    "                if visual.helpers.polygonsOverlap(fixation, target):\n",
    "                    movement_time[trial] = clock_mt.getTime()\n",
    "                    print(\"Broke\")\n",
    "                    fixation.pos = [0, 0]\n",
    "                    fixation.draw()\n",
    "                    \n",
    "                    #Store Trajectory\n",
    "                    #print (traj_x)\n",
    "                    rotated_traj_x[trial] = traj_x\n",
    "                    #print ('Here')\n",
    "                    #print (rotated_traj_x)\n",
    "                    rotated_traj_y[trial] = traj_y\n",
    "                    break\n",
    "                #print(rotated_traj_x)\n",
    "            else:\n",
    "                traj_x = list()\n",
    "                traj_y = list()\n",
    "                fixation.pos = [0, 0]\n",
    "                fixation.draw()\n",
    "                clock_it = core.Clock()\n",
    "                clock_mt = core.Clock()\n",
    "                first_flag = True\n",
    "                target.draw()\n",
    "                my_mouse.setPos([0, 0])\n",
    "                my_win.update()\n",
    "\n",
    "        #return fixation back to center\n",
    "        fixation.fillColor = [1, 0, 0]\n",
    "        fixation.lineColor = [1, 0, 0]\n",
    "        fixation.pos = [0, 0]\n",
    "        fixation.draw()\n",
    "        my_win.flip()\n",
    "\n",
    "    core.wait(1.0)\n",
    "\n",
    "    actual_traj = np.array([rotated_traj_x, rotated_traj_y])\n",
    "    #Cleanup\n",
    "    my_win.close()\n",
    "    #core.quit()\n",
    "    return (target_angle_pos, actual_traj, initial_time, movement_time)\n",
    "\n"
   ]
  },
  {
   "cell_type": "markdown",
   "metadata": {},
   "source": [
    "# Experiment"
   ]
  },
  {
   "cell_type": "code",
   "execution_count": 27,
   "metadata": {},
   "outputs": [
    {
     "name": "stdout",
     "output_type": "stream",
     "text": [
      "0.06354166666666666 -0.26\n",
      "Broke\n",
      "0.07708333333333334 0.3383333333333333\n",
      "Broke\n",
      "0.24270833333333333 -0.32\n",
      "Broke\n",
      "0.26666666666666666 -0.2866666666666667\n",
      "Broke\n",
      "0.059375 -0.165\n",
      "Broke\n",
      "-0.022916666666666665 -0.043333333333333335\n",
      "Broke\n",
      "-0.023958333333333335 -0.15833333333333333\n",
      "Broke\n",
      "-0.090625 -0.17166666666666666\n",
      "Broke\n",
      "0.059375 -0.135\n",
      "Broke\n",
      "-0.057291666666666664 -0.11833333333333333\n",
      "Broke\n",
      "-0.08020833333333334 -0.12\n",
      "Broke\n",
      "-0.04583333333333333 0.09333333333333334\n",
      "Broke\n",
      "5829.4954 \tWARNING \tMonitor specification not found. Creating a temporary one...\n",
      "5829.4965 \tWARNING \tUser requested fullscreen with size [1920 1080], but screen is actually [1920, 1200]. Using actual size\n"
     ]
    }
   ],
   "source": [
    "total_blocks = 12\n",
    "targets = np.empty(total_blocks, dtype = object)\n",
    "actual_traj = np.empty(total_blocks, dtype = object)\n",
    "initial_time = np.empty(total_blocks, dtype = object)\n",
    "movement_time = np.empty(total_blocks, dtype = object)\n",
    "\n",
    "for block_no in range(12):\n",
    "    if block_no >0 and block_no < 11:\n",
    "        random_thetas = np.random.choice(np.array([np.pi/4, 3*np.pi/4, 5*np.pi/4, 7*np.pi/4]), 3 ,replace = False)\n",
    "        thetas = np.repeat(random_thetas, 1)           \n",
    "        rotation = np.random.choice(np.arange(np.pi/3, np.pi/2, 0.05), 4)\n",
    "    else:\n",
    "        thetas = np.repeat(np.array([np.pi/4, 3*np.pi/4, 5*np.pi/4, 7*np.pi/4]), 4)\n",
    "        rotation = 0    \n",
    "    targets[block_no], actual_traj[block_no], initial_time[block_no], movement_time[block_no] = run_blocks(block_no, rotation, thetas)\n",
    "    "
   ]
  },
  {
   "cell_type": "markdown",
   "metadata": {},
   "source": [
    "# Save the data"
   ]
  },
  {
   "cell_type": "code",
   "execution_count": 66,
   "metadata": {},
   "outputs": [],
   "source": [
    "import os"
   ]
  },
  {
   "cell_type": "code",
   "execution_count": 72,
   "metadata": {},
   "outputs": [
    {
     "data": {
      "text/plain": [
       "'C:\\\\Users\\\\Tejas\\\\Documents\\\\Research\\\\Lab-Codes\\\\psychopy_codes'"
      ]
     },
     "execution_count": 72,
     "metadata": {},
     "output_type": "execute_result"
    }
   ],
   "source": [
    "os.getcwd()"
   ]
  },
  {
   "cell_type": "code",
   "execution_count": null,
   "metadata": {},
   "outputs": [],
   "source": []
  },
  {
   "cell_type": "code",
   "execution_count": null,
   "metadata": {},
   "outputs": [],
   "source": [
    "#Directory for templates\n",
    "np.save(os.path.join(parent_dir, 'targets.npy'), targets)\n",
    "np.save(os.path.join(parent_dir, 'actual_trajectories.npy'), actual_traj)\n",
    "np.save(os.path.join(parent_dir, 'its.npy'), initial_time)\n",
    "np.save(os.path.join(parent_dir, 'mts.npy'), movement_time)"
   ]
  }
 ],
 "metadata": {
  "kernelspec": {
   "display_name": "Python 3",
   "language": "python",
   "name": "python3"
  },
  "language_info": {
   "codemirror_mode": {
    "name": "ipython",
    "version": 3
   },
   "file_extension": ".py",
   "mimetype": "text/x-python",
   "name": "python",
   "nbconvert_exporter": "python",
   "pygments_lexer": "ipython3",
   "version": "3.7.0"
  }
 },
 "nbformat": 4,
 "nbformat_minor": 4
}
