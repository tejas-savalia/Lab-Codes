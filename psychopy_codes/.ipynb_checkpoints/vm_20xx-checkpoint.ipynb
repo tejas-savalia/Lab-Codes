{
 "cells": [
  {
   "cell_type": "code",
   "execution_count": 1,
   "metadata": {},
   "outputs": [],
   "source": [
    "from __future__ import absolute_import, division, print_function\n",
    "\n",
    "from psychopy import visual, core, event, gui, data\n",
    "import numpy as np\n",
    "import matplotlib.pyplot as plt"
   ]
  },
  {
   "cell_type": "code",
   "execution_count": 9,
   "metadata": {},
   "outputs": [
    {
     "name": "stdout",
     "output_type": "stream",
     "text": [
      "0.0\n",
      "0.0\n",
      "0.0\n",
      "0.0\n",
      "0.0\n",
      "0.0\n",
      "0.0\n",
      "0.0\n",
      "0.0\n",
      "0.0\n",
      "0.0\n",
      "0.0\n",
      "0.0\n",
      "0.0\n",
      "0.0\n",
      "0.0\n",
      "0.0\n",
      "0.0\n",
      "0.0\n",
      "0.0\n",
      "0.0\n",
      "0.0\n",
      "0.0\n",
      "0.0\n",
      "0.0\n",
      "0.0\n",
      "0.0\n",
      "0.0\n",
      "0.0\n",
      "0.0\n",
      "0.0\n",
      "0.0\n",
      "0.0\n",
      "0.0\n",
      "0.0\n",
      "0.0\n",
      "0.0\n",
      "0.0\n",
      "0.0\n",
      "0.0\n",
      "0.0\n",
      "0.0\n",
      "0.0\n",
      "0.0\n",
      "0.0\n",
      "0.0\n",
      "0.0\n",
      "0.0\n",
      "0.0\n",
      "0.0\n",
      "0.0\n",
      "0.0\n",
      "0.0\n",
      "0.0\n",
      "0.0\n",
      "0.023333333333333334\n",
      "0.05\n",
      "0.06333333333333334\n",
      "0.07\n",
      "0.09333333333333334\n",
      "0.11\n",
      "0.12666666666666668\n",
      "0.15\n",
      "0.16\n",
      "0.17333333333333334\n",
      "0.18333333333333332\n",
      "0.21\n",
      "0.22\n",
      "0.23666666666666666\n",
      "0.25666666666666665\n",
      "0.26666666666666666\n",
      "0.27666666666666667\n",
      "0.2833333333333333\n",
      "0.2966666666666667\n",
      "0.30666666666666664\n",
      "0.3233333333333333\n",
      "0.3466666666666667\n",
      "0.36333333333333334\n",
      "0.37666666666666665\n",
      "0.3933333333333333\n",
      "0.4033333333333333\n",
      "0.4166666666666667\n",
      "0.42333333333333334\n",
      "0.43\n",
      "0.44333333333333336\n",
      "0.44666666666666666\n",
      "0.45\n",
      "0.4633333333333333\n",
      "Broke\n",
      "3257.9548 \tWARNING \tMonitor specification not found. Creating a temporary one...\n"
     ]
    },
    {
     "ename": "SystemExit",
     "evalue": "0",
     "output_type": "error",
     "traceback": [
      "An exception has occurred, use %tb to see the full traceback.\n",
      "\u001b[1;31mSystemExit\u001b[0m\u001b[1;31m:\u001b[0m 0\n"
     ]
    }
   ],
   "source": [
    "\n",
    "# Create a window to draw in\n",
    "my_win = visual.Window((600, 600), allowGUI=True)\n",
    "\n",
    "#Center fixation\n",
    "fixation = visual.Circle(my_win, edges=64, radius=0.01, fillColor = [1, -1, -1], lineColor = [1, -1, -1])\n",
    "#Target\n",
    "target = visual.Circle(my_win, edges=64, radius=0.1, pos = [0.5, 0.5], fillColor = [1, -1, -1], lineColor = [1, -1, -1])\n",
    "\n",
    "#Initialize mouse object\n",
    "my_mouse = event.Mouse(visible=True,newPos=[0,0],win=my_win)\n",
    "#my_mouse.setExclusive(True)\n",
    "mouse_x, mouse_y = my_mouse.getPos()\n",
    "\n",
    "while True:\n",
    "    #Get current mouse position\n",
    "    cursor_x, cursor_y = mouse_x*np.cos(np.pi/4) - mouse_y*np.sin(np.pi/4), mouse_x*np.sin(np.pi/4) + mouse_y*np.cos(np.pi/4)\n",
    "    #Change the position of the fixation to the rotated movement from the mouse\n",
    "    fixation.pos = (cursor_x, cursor_y)\n",
    "    mouse_x, mouse_y = my_mouse.getPos()\n",
    "    print(mouse_x)\n",
    "    #Draw on screen\n",
    "    fixation.draw()\n",
    "    target.draw()\n",
    "\n",
    "    #Display on Screen\n",
    "    my_win.flip()\n",
    "    if my_mouse.isPressedIn(target):\n",
    "        print(\"Broke\")\n",
    "        break\n",
    "\n",
    "core.wait(1.0)\n",
    "\n",
    "#Cleanup\n",
    "my_win.close()\n",
    "core.quit()\n",
    "\n"
   ]
  },
  {
   "cell_type": "code",
   "execution_count": 11,
   "metadata": {},
   "outputs": [
    {
     "data": {
      "text/plain": [
       "-0.5033333333333333"
      ]
     },
     "execution_count": 11,
     "metadata": {},
     "output_type": "execute_result"
    }
   ],
   "source": [
    "mouse_x"
   ]
  },
  {
   "cell_type": "markdown",
   "metadata": {},
   "source": [
    "# To Do\n",
    "1. Stimuli Creation\n",
    "2. Stimuli Display\n",
    "3. Mouse Read and update."
   ]
  },
  {
   "cell_type": "code",
   "execution_count": 16,
   "metadata": {},
   "outputs": [
    {
     "data": {
      "text/plain": [
       "0.0"
      ]
     },
     "execution_count": 16,
     "metadata": {},
     "output_type": "execute_result"
    }
   ],
   "source": [
    "mouse_dX"
   ]
  }
 ],
 "metadata": {
  "kernelspec": {
   "display_name": "Python 3",
   "language": "python",
   "name": "python3"
  },
  "language_info": {
   "codemirror_mode": {
    "name": "ipython",
    "version": 3
   },
   "file_extension": ".py",
   "mimetype": "text/x-python",
   "name": "python",
   "nbconvert_exporter": "python",
   "pygments_lexer": "ipython3",
   "version": "3.7.0"
  }
 },
 "nbformat": 4,
 "nbformat_minor": 4
}
