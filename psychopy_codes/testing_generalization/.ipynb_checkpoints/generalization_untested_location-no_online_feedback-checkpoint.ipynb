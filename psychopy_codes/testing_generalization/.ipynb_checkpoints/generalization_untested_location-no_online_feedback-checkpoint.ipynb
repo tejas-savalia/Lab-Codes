{
 "cells": [
  {
   "cell_type": "code",
   "execution_count": 1,
   "metadata": {},
   "outputs": [],
   "source": [
    "from __future__ import absolute_import, division, print_function\n",
    "\n",
    "from psychopy import visual, core, event, gui, data\n",
    "import numpy as np\n",
    "import matplotlib.pyplot as plt\n",
    "import pandas as pd"
   ]
  },
  {
   "cell_type": "markdown",
   "metadata": {},
   "source": [
    "# Experiment Prompt"
   ]
  },
  {
   "cell_type": "code",
   "execution_count": null,
   "metadata": {},
   "outputs": [],
   "source": [
    "myDlg = gui.Dlg(title = 'Visuomotor Adaptation')\n",
    "myDlg.addField('Participant Number: ')\n",
    "ok_data = myDlg.show()  # show dialog and wait for OK or Cancel\n",
    "if myDlg.OK:  # or if ok_data is not None\n",
    "    print(ok_data)\n",
    "else:\n",
    "    print('user cancelled')"
   ]
  },
  {
   "cell_type": "code",
   "execution_count": 2,
   "metadata": {},
   "outputs": [
    {
     "name": "stdout",
     "output_type": "stream",
     "text": [
      "32.6637 \tWARNING \tMonitor specification not found. Creating a temporary one...\n",
      "32.6772 \tWARNING \tUser requested fullscreen with size [1920 1080], but screen is actually [1280, 720]. Using actual size\n"
     ]
    }
   ],
   "source": [
    "my_win = visual.Window((1920, 1080), allowGUI=True, fullscr = True, color = [0, 0, 0])\n",
    "outer = visual.Circle(my_win, edges=64, size = (1.1, 1.87), pos = [0, 0], fillColor = [0, 0, 0], lineColor = [1, -1, -1], autoDraw = True)\n",
    "outer.draw()\n",
    "inner = visual.Circle(my_win, edges=64, size = (0.9, 1.53), pos = [0, 0], fillColor = [0, 0, 0], lineColor = [1, -1, -1], autoDraw = True)\n",
    "inner.draw()\n",
    "fixation = visual.Circle(my_win, edges=64, size = (0.03, 0.05), pos = [0, 0], fillColor = [1, 0, 0], lineColor = [1, 0, 0], autoDraw = True)\n",
    "fixation.draw()\n",
    "\n",
    "target = visual.Polygon(my_win, edges=4, size = (0.1, 0.17), pos = [0.5*np.cos(np.pi/4), 0.85*np.sin(np.pi/4)], fillColor = [1, 0, 0], lineColor = [1, 0, 0], autoDraw = True)\n",
    "target.draw()\n",
    "my_win.update()\n",
    "core.wait(2)\n",
    "my_win.close()"
   ]
  },
  {
   "cell_type": "code",
   "execution_count": 3,
   "metadata": {},
   "outputs": [],
   "source": [
    "def run_blocks(block_no, rotation, thetas):\n",
    "\n",
    "    target_position_thetas = np.array([np.random.permutation(thetas), np.random.permutation(thetas), np.random.permutation(thetas), np.random.permutation(thetas)])\n",
    "    target_angle_pos = np.ravel(target_position_thetas)\n",
    "    target_pos_radius = 0.75\n",
    "    target_xpos = 0.5*np.cos(target_angle_pos)\n",
    "    target_ypos = 0.85*np.sin(target_angle_pos)\n",
    "    num_trials = len(target_angle_pos)\n",
    "    # Create a window to draw in\n",
    "    my_win = visual.Window((1920, 1080), allowGUI=True, fullscr = True)\n",
    "    \n",
    "      \n",
    "    #Center fixation\n",
    "    outer = visual.Circle(my_win, edges=64, size = (1.1, 1.87), pos = [0, 0], fillColor = [0, 0, 0], lineColor = [1, -1, -1])\n",
    "    outer.draw()\n",
    "    inner = visual.Circle(my_win, edges=64, size = (0.9, 1.53), pos = [0, 0], fillColor = [0, 0, 0], lineColor = [1, -1, -1])\n",
    "    inner.draw()\n",
    "    fixation = visual.Circle(my_win, edges=64, size = (0.03, 0.05), pos = [0, 0], fillColor = [1, 0, 0], lineColor = [1, 0, 0])\n",
    "    fixation.draw()\n",
    "\n",
    "    #Initialize Variables to return\n",
    "    rotated_traj_x = np.empty(num_trials, dtype = object)\n",
    "    rotated_traj_y = np.empty(num_trials, dtype = object)\n",
    "    initial_time = np.zeros(num_trials)\n",
    "    movement_time = np.zeros(num_trials)\n",
    "    target_hit = np.zeros(num_trials)\n",
    "    \n",
    "\n",
    "    for trial in range(num_trials):\n",
    "        traj_x = list()\n",
    "        traj_y = list()\n",
    "        #outer.draw()\n",
    "        #inner.draw()\n",
    "        #fixation.draw()\n",
    "        #my_win.update()\n",
    "        #isi\n",
    "        core.wait(np.random.normal(0.75, 1))\n",
    "        #Go Target\n",
    "        target = visual.Polygon(my_win, edges=4, size = (0.1, 0.17), pos = [target_xpos[trial], target_ypos[trial]], fillColor = [1, 0, 0], lineColor = [1, 0, 0])\n",
    "        target.draw()            \n",
    "        my_win.update()\n",
    "        #Initialize mouse object\n",
    "        my_mouse = event.Mouse(visible=False,newPos=[0,0],win=my_win)\n",
    "        #my_win.update()\n",
    "        clock_it = core.Clock()\n",
    "        clock_mt = core.Clock()\n",
    "        my_mouse.clickReset()\n",
    "        first_flag = True\n",
    "        while True:\n",
    "            #Get current mouse position\n",
    "            #mouse_x, mouse_y = my_mouse.getPos()\n",
    "\n",
    "            if my_mouse.getPressed()[0]:\n",
    "                if first_flag:\n",
    "                    mouse_x, mouse_y = my_mouse.getPos()\n",
    "\n",
    "                    initial_time[trial] = clock_it.getTime()\n",
    "                    x_center = mouse_x\n",
    "                    y_center = mouse_y\n",
    "                    #fixation.pos = (0, 0)\n",
    "                    #fixation.draw()\n",
    "                    #target.draw()\n",
    "                    #my_win.update()\n",
    "                    first_flag = False\n",
    "                    #print (x_center, y_center)\n",
    "\n",
    "                mouse_x, mouse_y = my_mouse.getPos()\n",
    "                cursor_x = (mouse_x-x_center)*np.cos(rotation) + (mouse_y-y_center)*np.sin(rotation)\n",
    "                cursor_y = -(mouse_x-x_center)*np.sin(rotation) + (mouse_y-y_center)*np.cos(rotation)\n",
    "                #Change the position of the fixation to the rotated movement from the mouse\n",
    "                try:\n",
    "                    fixation.pos = [cursor_x[0], cursor_y[0]]\n",
    "                    traj_x.append(cursor_x[0])\n",
    "                    traj_y.append(cursor_y[0])\n",
    "                except:\n",
    "                    fixation.pos = [cursor_x, cursor_y]\n",
    "                    traj_x.append(cursor_x)\n",
    "                    traj_y.append(cursor_y)\n",
    "\n",
    "                #Draw on screen\n",
    "                fixation.opacity = 0\n",
    "                outer.draw()\n",
    "                inner.draw()\n",
    "                fixation.draw()\n",
    "                target.draw()\n",
    "\n",
    "                #Display on Screen\n",
    "                my_win.update()\n",
    "\n",
    "                #Break if fixation reaches the target\n",
    "                if visual.helpers.polygonsOverlap(fixation, outer) and not visual.helpers.polygonsOverlap(fixation, inner):\n",
    "                    movement_time[trial] = clock_mt.getTime()\n",
    "                    target_hit[trial] = visual.helpers.polygonsOverlap(fixation, target)\n",
    "                    fixation.opacity = 1\n",
    "                    outer.draw()\n",
    "                    inner.draw()\n",
    "                    fixation.draw()\n",
    "                    target.draw()\n",
    "                    my_win.update()\n",
    "                    core.wait(0.3)\n",
    "                    fixation.pos = [0, 0]\n",
    "                    fixation.draw()\n",
    "                    \n",
    "                    #Store Trajectory\n",
    "                    #print (traj_x)\n",
    "                    rotated_traj_x[trial] = traj_x\n",
    "                    #print ('Here')\n",
    "                    #print (rotated_traj_x)\n",
    "                    rotated_traj_y[trial] = traj_y\n",
    "                    break\n",
    "                #print(rotated_traj_x)\n",
    "            else:\n",
    "                traj_x = list()\n",
    "                traj_y = list()\n",
    "                fixation.pos = [0, 0]\n",
    "                outer.draw()\n",
    "                inner.draw()\n",
    "                fixation.draw()\n",
    "                clock_it = core.Clock()\n",
    "                clock_mt = core.Clock()\n",
    "                first_flag = True\n",
    "                target.draw()\n",
    "                my_mouse.setPos([0, 0])\n",
    "                \n",
    "                my_win.update()\n",
    "\n",
    "        #return fixation back to center\n",
    "        fixation.fillColor = [1, 0, 0]\n",
    "        fixation.lineColor = [1, 0, 0]\n",
    "        fixation.pos = [0, 0]\n",
    "        outer.draw()\n",
    "        inner.draw()\n",
    "        fixation.draw()\n",
    "        my_win.update()\n",
    "\n",
    "    core.wait(1.0)\n",
    "\n",
    "    actual_traj = np.array([rotated_traj_x, rotated_traj_y])\n",
    "    #Cleanup\n",
    "    my_win.close()\n",
    "    #core.quit()\n",
    "    return (target_angle_pos, actual_traj, initial_time, movement_time, target_hit)\n",
    "\n"
   ]
  },
  {
   "cell_type": "code",
   "execution_count": 4,
   "metadata": {},
   "outputs": [
    {
     "name": "stdout",
     "output_type": "stream",
     "text": [
      "56.6910 \tWARNING \tMonitor specification not found. Creating a temporary one...\n",
      "56.6919 \tWARNING \tUser requested fullscreen with size [1920 1080], but screen is actually [1280, 720]. Using actual size\n"
     ]
    },
    {
     "data": {
      "text/plain": [
       "(array([5.49778714, 5.49778714, 5.49778714, 5.49778714]),\n",
       " array([[list([0.0, 0.0, 0.0, 0.0, 0.0, 0.0, 0.0, 0.0, 0.0, 0.0, 0.0, 0.0, 0.0234375, 0.0515625, 0.075, 0.1, 0.121875, 0.1421875, 0.1625, 0.1796875, 0.2046875, 0.2265625, 0.259375, 0.2828125, 0.3078125]),\n",
       "         list([0.0, 0.0, 0.0, 0.0, 0.0, 0.0, 0.0, 0.0, 0.0, 0.0, 0.0, 0.009375, 0.0234375, 0.0390625, 0.0453125, 0.0609375, 0.0734375, 0.09375, 0.1046875, 0.121875, 0.146875]),\n",
       "         list([0.0, 0.0, 0.0, 0.0, 0.0, 0.0, 0.0, 0.0, 0.0, 0.0, 0.0, 0.0, 0.0, 0.0078125, 0.0625, 0.1046875, 0.1828125, 0.2390625, 0.2671875, 0.2921875, 0.309375, 0.3609375]),\n",
       "         list([0.0, 0.0, 0.0, 0.0, 0.0, 0.0, 0.0, 0.0, 0.0, 0.0, 0.0, 0.0, 0.0, 0.0203125, 0.1171875, 0.2078125, 0.2578125, 0.3265625])],\n",
       "        [list([0.0, 0.0, 0.0, 0.0, 0.0, 0.0, 0.0, 0.0, 0.0, 0.0, 0.0, 0.0, -0.03888888888888889, -0.09166666666666666, -0.14166666666666666, -0.20833333333333334, -0.25555555555555554, -0.2972222222222222, -0.3472222222222222, -0.3861111111111111, -0.43333333333333335, -0.475, -0.5361111111111111, -0.575, -0.6138888888888889]),\n",
       "         list([0.0, 0.0, 0.0, 0.0, 0.0, 0.0, 0.0, 0.0, 0.0, 0.0, 0.0, -0.06388888888888888, -0.18055555555555555, -0.2916666666666667, -0.36944444444444446, -0.44166666666666665, -0.5166666666666667, -0.6194444444444445, -0.6861111111111111, -0.75, -0.8527777777777777]),\n",
       "         list([0.0, 0.0, 0.0, 0.0, 0.0, 0.0, 0.0, 0.0, 0.0, 0.0, 0.0, 0.0, 0.0, -0.016666666666666666, -0.09444444444444444, -0.1638888888888889, -0.26944444444444443, -0.35, -0.39166666666666666, -0.42777777777777776, -0.4527777777777778, -0.5305555555555556]),\n",
       "         list([0.0, 0.0, 0.0, 0.0, 0.0, 0.0, 0.0, 0.0, 0.0, 0.0, 0.0, 0.0, 0.0, -0.04722222222222222, -0.24166666666666667, -0.3972222222222222, -0.49722222222222223, -0.625])]],\n",
       "       dtype=object),\n",
       " array([0.0285645, 0.0166645, 0.0163369, 0.0165519]),\n",
       " array([0.4316169, 0.3656312, 0.3828369, 0.3154978]),\n",
       " array([1., 0., 1., 1.]))"
      ]
     },
     "execution_count": 4,
     "metadata": {},
     "output_type": "execute_result"
    }
   ],
   "source": [
    "thetas = np.repeat(np.array([7*np.pi/4]), 1)\n",
    "run_blocks(0, 0, thetas)"
   ]
  },
  {
   "cell_type": "markdown",
   "metadata": {},
   "source": [
    "# Experiment"
   ]
  },
  {
   "cell_type": "code",
   "execution_count": 18,
   "metadata": {},
   "outputs": [],
   "source": [
    "total_blocks = 13\n",
    "targets = np.empty(total_blocks, dtype = object)\n",
    "actual_traj = np.empty(total_blocks, dtype = object)\n",
    "initial_time = np.empty(total_blocks, dtype = object)\n",
    "movement_time = np.empty(total_blocks, dtype = object)\n",
    "target_hit = np.empty(total_blocks, dtype = object)\n",
    "\n",
    "random_thetas = np.random.choice(np.array([np.pi/4, 3*np.pi/4, 5*np.pi/4, 7*np.pi/4]), 3 ,replace = False)\n",
    "learning_thetas = np.repeat(random_thetas, 4)           \n",
    "learning_rotation = np.pi/2\n",
    "\n",
    "thetas = np.repeat(np.array([np.pi/4, 3*np.pi/4, 5*np.pi/4, 7*np.pi/4]), 4)\n"
   ]
  },
  {
   "cell_type": "code",
   "execution_count": 19,
   "metadata": {},
   "outputs": [
    {
     "name": "stdout",
     "output_type": "stream",
     "text": [
      "1334.7555 \tWARNING \tMonitor specification not found. Creating a temporary one...\n",
      "1334.7568 \tWARNING \tUser requested fullscreen with size [1920 1080], but screen is actually [1280, 720]. Using actual size\n"
     ]
    }
   ],
   "source": [
    "#baseline\n",
    "targets[0], actual_traj[0], initial_time[0], movement_time[0], target_hit[0] = run_blocks(0, 0, thetas)"
   ]
  },
  {
   "cell_type": "code",
   "execution_count": 21,
   "metadata": {},
   "outputs": [
    {
     "name": "stdout",
     "output_type": "stream",
     "text": [
      "1491.7163 \tWARNING \tMonitor specification not found. Creating a temporary one...\n",
      "1491.7176 \tWARNING \tUser requested fullscreen with size [1920 1080], but screen is actually [1280, 720]. Using actual size\n",
      "1631.4437 \tWARNING \tMonitor specification not found. Creating a temporary one...\n",
      "1631.4458 \tWARNING \tUser requested fullscreen with size [1920 1080], but screen is actually [1280, 720]. Using actual size\n",
      "1778.0077 \tWARNING \tMonitor specification not found. Creating a temporary one...\n",
      "1778.0119 \tWARNING \tUser requested fullscreen with size [1920 1080], but screen is actually [1280, 720]. Using actual size\n",
      "1926.3913 \tWARNING \tMonitor specification not found. Creating a temporary one...\n",
      "1926.3945 \tWARNING \tUser requested fullscreen with size [1920 1080], but screen is actually [1280, 720]. Using actual size\n",
      "2073.3334 \tWARNING \tMonitor specification not found. Creating a temporary one...\n",
      "2073.3364 \tWARNING \tUser requested fullscreen with size [1920 1080], but screen is actually [1280, 720]. Using actual size\n",
      "2199.1808 \tWARNING \tMonitor specification not found. Creating a temporary one...\n",
      "2199.1849 \tWARNING \tUser requested fullscreen with size [1920 1080], but screen is actually [1280, 720]. Using actual size\n",
      "2312.3248 \tWARNING \tMonitor specification not found. Creating a temporary one...\n",
      "2312.3293 \tWARNING \tUser requested fullscreen with size [1920 1080], but screen is actually [1280, 720]. Using actual size\n",
      "2444.8031 \tWARNING \tMonitor specification not found. Creating a temporary one...\n",
      "2444.8063 \tWARNING \tUser requested fullscreen with size [1920 1080], but screen is actually [1280, 720]. Using actual size\n",
      "2591.0412 \tWARNING \tMonitor specification not found. Creating a temporary one...\n",
      "2591.0440 \tWARNING \tUser requested fullscreen with size [1920 1080], but screen is actually [1280, 720]. Using actual size\n",
      "2711.5595 \tWARNING \tMonitor specification not found. Creating a temporary one...\n",
      "2711.5624 \tWARNING \tUser requested fullscreen with size [1920 1080], but screen is actually [1280, 720]. Using actual size\n",
      "2835.6295 \tWARNING \tMonitor specification not found. Creating a temporary one...\n",
      "2835.6335 \tWARNING \tUser requested fullscreen with size [1920 1080], but screen is actually [1280, 720]. Using actual size\n",
      "3029.5920 \tWARNING \tMonitor specification not found. Creating a temporary one...\n",
      "3029.5942 \tWARNING \tUser requested fullscreen with size [1920 1080], but screen is actually [1280, 720]. Using actual size\n"
     ]
    }
   ],
   "source": [
    "#Training\n",
    "for block_no in range(1, 11):\n",
    "        targets[block_no], actual_traj[block_no], initial_time[block_no], movement_time[block_no], target_hit[block_no] = run_blocks(block_no, learning_rotation, learning_thetas)\n",
    "#Test\n",
    "targets[11], actual_traj[11], initial_time[11], movement_time[11], target_hit[11] = run_blocks(11, learning_rotation, thetas)    \n",
    "#Transfer\n",
    "targets[12], actual_traj[12], initial_time[12], movement_time[12], target_hit[12] = run_blocks(12, 0, thetas)\n",
    "    "
   ]
  },
  {
   "cell_type": "code",
   "execution_count": 23,
   "metadata": {},
   "outputs": [
    {
     "data": {
      "text/plain": [
       "array([5.49778714, 0.78539816, 0.78539816, 5.49778714, 5.49778714,\n",
       "       3.92699082, 3.92699082, 3.92699082, 3.92699082, 0.78539816,\n",
       "       5.49778714, 0.78539816, 3.92699082, 3.92699082, 5.49778714,\n",
       "       0.78539816, 5.49778714, 0.78539816, 0.78539816, 3.92699082,\n",
       "       5.49778714, 0.78539816, 3.92699082, 5.49778714, 0.78539816,\n",
       "       3.92699082, 5.49778714, 0.78539816, 0.78539816, 3.92699082,\n",
       "       5.49778714, 5.49778714, 3.92699082, 5.49778714, 3.92699082,\n",
       "       0.78539816, 5.49778714, 3.92699082, 5.49778714, 3.92699082,\n",
       "       0.78539816, 5.49778714, 0.78539816, 5.49778714, 3.92699082,\n",
       "       0.78539816, 0.78539816, 3.92699082])"
      ]
     },
     "execution_count": 23,
     "metadata": {},
     "output_type": "execute_result"
    }
   ],
   "source": [
    "targets[10]"
   ]
  },
  {
   "cell_type": "markdown",
   "metadata": {},
   "source": [
    "# Save the data"
   ]
  },
  {
   "cell_type": "code",
   "execution_count": null,
   "metadata": {},
   "outputs": [],
   "source": [
    "import os"
   ]
  },
  {
   "cell_type": "code",
   "execution_count": 28,
   "metadata": {},
   "outputs": [
    {
     "data": {
      "text/plain": [
       "0.3358757210636101"
      ]
     },
     "execution_count": 28,
     "metadata": {},
     "output_type": "execute_result"
    }
   ],
   "source": [
    "0.475*np.cos(np.pi/4)"
   ]
  },
  {
   "cell_type": "code",
   "execution_count": null,
   "metadata": {},
   "outputs": [],
   "source": [
    "actual_traj = np.load('testing_generalization/untested_direction/data/data3000/actual_trajectories.npy', allow_pickle = True)"
   ]
  },
  {
   "cell_type": "code",
   "execution_count": 11,
   "metadata": {},
   "outputs": [
    {
     "data": {
      "text/plain": [
       "array([0.78539816, 2.35619449, 3.92699082, 5.49778714])"
      ]
     },
     "execution_count": 11,
     "metadata": {},
     "output_type": "execute_result"
    }
   ],
   "source": []
  },
  {
   "cell_type": "code",
   "execution_count": null,
   "metadata": {},
   "outputs": [],
   "source": []
  },
  {
   "cell_type": "code",
   "execution_count": null,
   "metadata": {},
   "outputs": [],
   "source": [
    "np.shape(actual_traj[10])"
   ]
  },
  {
   "cell_type": "code",
   "execution_count": 43,
   "metadata": {},
   "outputs": [
    {
     "data": {
      "image/png": "[encoded data removed]",
      "text/plain": [
       "<Figure size 432x288 with 1 Axes>"
      ]
     },
     "metadata": {
      "needs_background": "light"
     },
     "output_type": "display_data"
    }
   ],
   "source": [
    "block = 12\n",
    "for i in range(64):\n",
    "    plt.plot(actual_traj[block][0, i], actual_traj[block][1, i])\n",
    "    plt.title('Block ' + str(block) + ': 0-degree Rotation')"
   ]
  },
  {
   "cell_type": "code",
   "execution_count": 46,
   "metadata": {},
   "outputs": [],
   "source": [
    "import os\n",
    "import pandas as pd"
   ]
  },
  {
   "cell_type": "code",
   "execution_count": 45,
   "metadata": {},
   "outputs": [],
   "source": [
    "os.makedirs(\"testing_generalization\\\\data\\\\pilot\")"
   ]
  },
  {
   "cell_type": "code",
   "execution_count": 47,
   "metadata": {},
   "outputs": [],
   "source": [
    "df = pd.DataFrame({\"targets\":targets, \"actual_traj\":actual_traj, \"initial_time\":initial_time, \"movement_time\": movement_time, \"target_hit\":target_hit})"
   ]
  },
  {
   "cell_type": "code",
   "execution_count": 50,
   "metadata": {},
   "outputs": [],
   "source": [
    "df.to_csv(\"testing_generalization/data/pilot/data4000.csv\")"
   ]
  },
  {
   "cell_type": "code",
   "execution_count": 66,
   "metadata": {},
   "outputs": [],
   "source": [
    "target_hitrate = np.zeros(12)\n",
    "\n",
    "for block in range(12):\n",
    "    target_hitrate[block] = np.sum(df.target_hit[block])/len(df.target_hit[block])"
   ]
  },
  {
   "cell_type": "code",
   "execution_count": 71,
   "metadata": {},
   "outputs": [
    {
     "data": {
      "text/plain": [
       "Text(0.5, 0, 'Block')"
      ]
     },
     "execution_count": 71,
     "metadata": {},
     "output_type": "execute_result"
    },
    {
     "data": {
      "image/png": "[encoded data removed]",
      "text/plain": [
       "<Figure size 432x288 with 1 Axes>"
      ]
     },
     "metadata": {
      "needs_background": "light"
     },
     "output_type": "display_data"
    }
   ],
   "source": [
    "plt.plot(target_hitrate)\n",
    "plt.title(\"Target hit rate\")\n",
    "plt.xlabel(\"Block\")\n"
   ]
  },
  {
   "cell_type": "code",
   "execution_count": null,
   "metadata": {},
   "outputs": [],
   "source": []
  }
 ],
 "metadata": {
  "kernelspec": {
   "display_name": "Python 3",
   "language": "python",
   "name": "python3"
  },
  "language_info": {
   "codemirror_mode": {
    "name": "ipython",
    "version": 3
   },
   "file_extension": ".py",
   "mimetype": "text/x-python",
   "name": "python",
   "nbconvert_exporter": "python",
   "pygments_lexer": "ipython3",
   "version": "3.7.0"
  }
 },
 "nbformat": 4,
 "nbformat_minor": 4
}
