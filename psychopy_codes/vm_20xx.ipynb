{
 "cells": [
  {
   "cell_type": "code",
   "execution_count": 1,
   "metadata": {},
   "outputs": [],
   "source": [
    "from __future__ import absolute_import, division, print_function\n",
    "\n",
    "from psychopy import visual, core, event, gui, data\n",
    "import numpy as np\n",
    "import matplotlib.pyplot as plt\n",
    "import pandas as pd"
   ]
  },
  {
   "cell_type": "markdown",
   "metadata": {},
   "source": [
    "# Experiment Design\n",
    "## Block structure\n",
    "1. 4 Blocks of Template Trials\n",
    "    - 8 Directions. \n",
    "    - No rotation\n",
    "    - No Go/NoGo\n",
    "2. 4 Blocks of Rotated Trials\n",
    "    - 4 Directions.\n",
    "    - 90$^{\\circ}$ rotation\n",
    "    - Go/NoGo\n",
    "3. 4 Blocks of Transfer Trials\n",
    "    - 4 Directions.\n",
    "    - No Rotations\n",
    "    - Go NoGo\n",
    "\n",
    "\n",
    "## Trial Structure\n",
    "1. Template Trials:\n",
    "    - Target and Fixation Appear\n",
    "    - Drag and rop fixation to target\n",
    "    - Trial ends with the drop. Next set of target and fixations appear after 2.5-5 seconds later, centered on 3.5 seconds\n",
    "2. Rotation Trials:\n",
    "    - Fixation Appears.\n",
    "    - Target Appears after "
   ]
  },
  {
   "cell_type": "markdown",
   "metadata": {},
   "source": [
    "## Experiment Prompt"
   ]
  },
  {
   "cell_type": "code",
   "execution_count": 31,
   "metadata": {},
   "outputs": [
    {
     "name": "stdout",
     "output_type": "stream",
     "text": [
      "['2000']\n"
     ]
    }
   ],
   "source": [
    "myDlg = gui.Dlg(title = 'Visuomotor Adaptation')\n",
    "myDlg.addField('Participant Number: ')\n",
    "ok_data = myDlg.show()  # show dialog and wait for OK or Cancel\n",
    "if myDlg.OK:  # or if ok_data is not None\n",
    "    print(ok_data)\n",
    "else:\n",
    "    print('user cancelled')"
   ]
  },
  {
   "cell_type": "markdown",
   "metadata": {},
   "source": [
    "## "
   ]
  },
  {
   "cell_type": "code",
   "execution_count": null,
   "metadata": {},
   "outputs": [],
   "source": []
  },
  {
   "cell_type": "markdown",
   "metadata": {},
   "source": [
    "## Create Target Stimuli"
   ]
  },
  {
   "cell_type": "code",
   "execution_count": null,
   "metadata": {},
   "outputs": [],
   "source": []
  },
  {
   "cell_type": "markdown",
   "metadata": {},
   "source": [
    "## Scoreboard"
   ]
  },
  {
   "cell_type": "code",
   "execution_count": 82,
   "metadata": {},
   "outputs": [],
   "source": [
    "def display_scoreboard(window, text):\n",
    "    score_text = visual.TextBox(window, \n",
    "               text, \n",
    "               font_size=21,\n",
    "               font_color=[-1,-1,1], \n",
    "                size = (0.75, 1),\n",
    "               pos=(0.0,0.0), \n",
    "               grid_horz_justification='center',\n",
    "                align_horz='center',\n",
    "               units='norm')\n",
    "    score_text.draw()\n",
    "    my_mouse = event.Mouse(visible=False,newPos=[0,0],win=window)\n",
    "    window.update()\n",
    "    while True:\n",
    "        buttons = my_mouse.getPressed()\n",
    "        if buttons == [1, 0, 0]:\n",
    "            break\n"
   ]
  },
  {
   "cell_type": "markdown",
   "metadata": {},
   "source": [
    "# Template Trials"
   ]
  },
  {
   "cell_type": "markdown",
   "metadata": {},
   "source": [
    "### Target Stimuli"
   ]
  },
  {
   "cell_type": "code",
   "execution_count": null,
   "metadata": {},
   "outputs": [],
   "source": []
  },
  {
   "cell_type": "code",
   "execution_count": null,
   "metadata": {},
   "outputs": [],
   "source": []
  },
  {
   "cell_type": "markdown",
   "metadata": {},
   "source": [
    "### Experiment display"
   ]
  },
  {
   "cell_type": "code",
   "execution_count": 59,
   "metadata": {},
   "outputs": [],
   "source": [
    "def template_blocks(num_blocks, num_trials, rotation):\n",
    "    thetas = np.repeat(np.array([0, np.pi/4, np.pi/2, 3*np.pi/4, 2*np.pi, 5*np.pi/4, 3*np.pi/2, 7*np.pi/4]), 2)\n",
    "    target_position_thetas = np.array([np.random.permutation(thetas), np.random.permutation(thetas), np.random.permutation(thetas), np.random.permutation(thetas)])\n",
    "    target_angle_pos = np.ravel(target_position_thetas)\n",
    "    target_pos_radius = 0.75\n",
    "    target_xpos = 0.42*np.cos(target_angle_pos)\n",
    "    target_ypos = 0.75*np.sin(target_angle_pos)\n",
    "    \n",
    "    # Create a window to draw in\n",
    "    my_win = visual.Window((1920, 1080), allowGUI=True)\n",
    "    \n",
    "  \n",
    "    #Center fixation\n",
    "    fixation = visual.Circle(my_win, edges=64, size = (0.03, 0.05), pos = [0, 0], fillColor = [0.5, 0.5, 0.5], lineColor = [0.5, 0.5, 0.5])\n",
    "\n",
    "    #Initialize Variables to return\n",
    "    rotated_traj_x = np.empty((num_blocks, num_trials), dtype = object)\n",
    "    rotated_traj_y = np.empty((num_blocks, num_trials), dtype = object)\n",
    "    initial_time = np.zeros((num_blocks, num_trials))\n",
    "    movement_time = np.zeros((num_blocks, num_trials))\n",
    "\n",
    "    for block in range(num_blocks):\n",
    "        display_scoreboard(my_win, 'Your score: 10 \\n Tap Stylus to continue')\n",
    "        for trial in range(num_trials):\n",
    "            traj_x = list()\n",
    "            traj_y = list()\n",
    "\n",
    "            fixation.draw()\n",
    "            my_win.update()\n",
    "            #isi\n",
    "            core.wait(np.random.normal(3.5, 1))\n",
    "            #Go Target\n",
    "            target = visual.Circle(my_win, edges=64, size = (0.1, 0.17), pos = [target_xpos[trial], target_ypos[trial]], fillColor = [1, -1, -1], lineColor = [1, -1, -1])\n",
    "            target.draw()            \n",
    "            my_win.update()\n",
    "            #Wait for color change\n",
    "#            core.wait(np.random.uniform())\n",
    "#            #Change fixation color\n",
    "            fixation.fillColor = [-0.5, 1, 0.9] \n",
    "            fixation.lineColor = [-0.5, 1, 0.9]\n",
    "            fixation.draw()\n",
    "            target.draw()\n",
    "            #Initialize mouse object\n",
    "            my_mouse = event.Mouse(visible=False,newPos=[0,0],win=my_win)\n",
    "            my_win.update()\n",
    "            clock_it = core.Clock()\n",
    "            clock_mt = core.Clock()\n",
    "            first_flag = True\n",
    "            while True:\n",
    "                #Get current mouse position\n",
    "                mouse_x, mouse_y = my_mouse.getPos()\n",
    "\n",
    "                if my_mouse.getPressed()[0]:\n",
    "                    if first_flag:\n",
    "                        initial_time[block][trial] = clock_it.getTime()\n",
    "                        x_center = mouse_x\n",
    "                        y_center = mouse_y\n",
    "                        first_flag = False\n",
    "                    cursor_x, cursor_y = (mouse_x-x_center)*np.cos(rotation) - (mouse_y-y_center)*np.sin(rotation), (mouse_x-x_center)*np.sin(rotation) + (mouse_y-y_center)*np.cos(rotation)\n",
    "                    #Change the position of the fixation to the rotated movement from the mouse\n",
    "                    fixation.pos = (cursor_x, cursor_y)\n",
    "                    traj_x.append(cursor_x)\n",
    "                    traj_y.append(cursor_y)\n",
    "                    #Draw on screen\n",
    "                    fixation.draw()\n",
    "                    target.draw()\n",
    "\n",
    "                    #Display on Screen\n",
    "                    my_win.flip()\n",
    "\n",
    "                    #Break if fixation reaches the target\n",
    "                    if visual.helpers.polygonsOverlap(fixation, target):\n",
    "                        movement_time[block][trial] = clock_mt.getTime()\n",
    "                        print(\"Broke\")\n",
    "                        fixation.pos = [0, 0]\n",
    "                        fixation.draw()\n",
    "                        #Store Trajectory\n",
    "                        #print (traj_x)\n",
    "                        rotated_traj_x[block][trial] = traj_x\n",
    "                        #print ('Here')\n",
    "                        #print (rotated_traj_x)\n",
    "                        rotated_traj_y[block][trial] = traj_y\n",
    "                        break\n",
    "                    #print(rotated_traj_x)\n",
    "                else:\n",
    "                    fixation.pos = [0, 0]\n",
    "                    fixation.draw()\n",
    "                    target.draw()\n",
    "                    my_mouse.setPos([0, 0])\n",
    "                    my_win.flip()\n",
    "                    \n",
    "            #return fixation back to center\n",
    "            fixation.fillColor = [0.5, 0.5, 0.5]\n",
    "            fixation.lineColor = [0.5, 0.5, 0.5]\n",
    "            fixation.pos = [0, 0]\n",
    "            fixation.draw()\n",
    "            my_win.flip()\n",
    "\n",
    "    core.wait(1.0)\n",
    "\n",
    "    actual_traj = np.array([rotated_traj_x, rotated_traj_y])\n",
    "    #Cleanup\n",
    "    my_win.close()\n",
    "    #core.quit()\n",
    "    return (target_angle_pos, actual_traj, initial_time, movement_time)\n",
    "\n"
   ]
  },
  {
   "cell_type": "code",
   "execution_count": null,
   "metadata": {},
   "outputs": [],
   "source": []
  },
  {
   "cell_type": "code",
   "execution_count": null,
   "metadata": {},
   "outputs": [],
   "source": []
  },
  {
   "cell_type": "code",
   "execution_count": null,
   "metadata": {},
   "outputs": [],
   "source": []
  },
  {
   "cell_type": "code",
   "execution_count": null,
   "metadata": {},
   "outputs": [],
   "source": []
  },
  {
   "cell_type": "markdown",
   "metadata": {},
   "source": [
    "### Display"
   ]
  },
  {
   "cell_type": "code",
   "execution_count": 119,
   "metadata": {},
   "outputs": [],
   "source": [
    "def rotated_blocks(num_blocks, num_trials, rotation):\n",
    "    thetas = np.repeat(np.array([np.pi/4, 3*np.pi/4, 5*np.pi/4, 7*np.pi/4]), 4)\n",
    "    target_pos_dict = {'Go':np.random.permutation(thetas), 'NoGo': np.random.permutation(thetas)}\n",
    "    target_pos_df = pd.DataFrame(target_pos_dict)\n",
    "    target_pos = target_pos_df.melt().take(np.random.permutation(32))\n",
    "    target_pos = target_pos.append(target_pos_df.melt().take(np.random.permutation(32)), ignore_index = True)\n",
    "    #Access using target_pos.iloc[i].value/var\n",
    "    #target_pos_arrays = target_pos.to_numpy()\n",
    "    target_pos_arrays = np.array(target_pos)\n",
    "    target_pos_radius = 0.75\n",
    "    #multiplication factor. ADjust according to screen dimensions\n",
    "    target_xpos_rotated = 0.42*np.cos(target_pos_arrays[:, 1].astype(float))\n",
    "    target_ypos_rotated = 0.75*np.sin(target_pos_arrays[:, 1].astype(float))\n",
    "    \n",
    "    \n",
    "    # Create a window to draw in\n",
    "    my_win = visual.Window((1920, 1080), allowGUI=True)\n",
    "    \n",
    "    \n",
    "    \n",
    "    #Initialize Variables to return\n",
    "    rotated_traj_x = np.empty((num_blocks, num_trials), dtype = object)\n",
    "    rotated_traj_y = np.empty((num_blocks, num_trials), dtype = object)\n",
    "    initial_time = np.zeros((num_blocks, num_trials))\n",
    "    movement_time = np.zeros((num_blocks, num_trials))\n",
    "    #Center fixation\n",
    "    fixation = visual.Circle(my_win, edges=64, size = (0.03, 0.05), pos = [0, 0], fillColor = [0.5, 0.5, 0.5], lineColor = [0.5, 0.5, 0.5])\n",
    "\n",
    "    #Initialize mouse object\n",
    "    for block in range(num_blocks):\n",
    "        display_scoreboard(my_win, 'Your score: 10\\n Tap Stylus to continue')\n",
    "        for trial in range(num_trials):\n",
    "            traj_x = list()\n",
    "            traj_y = list()\n",
    "            fixation.draw()\n",
    "            my_win.update()\n",
    "            #isi\n",
    "            core.wait(np.random.normal(3.5, 1))\n",
    "            \n",
    "            target = visual.Circle(my_win, edges=64, size = (0.1, 0.17), pos = [target_xpos_rotated[trial], target_ypos_rotated[trial]], fillColor = [1, -1, -1], lineColor = [1, -1, -1])\n",
    "            fixation.draw()\n",
    "            target.draw()            \n",
    "            my_win.update()\n",
    "            \n",
    "            \n",
    "            #Wait for color change\n",
    "            core.wait(np.random.uniform(1.5, 2.5))\n",
    "            \n",
    "            if target_pos_arrays[trial, 0] == 'NoGo':\n",
    "                fixation.fillColor = [1, 0.32, 0.28] \n",
    "                fixation.lineColor = [1, 0.332, 0.28]\n",
    "                fixation.draw()\n",
    "                target.draw()\n",
    "                my_win.update()\n",
    "                core.wait(0.5, 1)\n",
    "                fixation.fillColor = [0.5, 0.5, 0.5]\n",
    "                fixation.lineColor = [0.5, 0.5, 0.5]\n",
    "                fixation.pos = [0, 0]\n",
    "                fixation.draw()\n",
    "                my_win.flip()\n",
    "\n",
    "                continue\n",
    "                \n",
    "            #Change fixation color\n",
    "            fixation.fillColor = [-0.5, 1, 0.9] \n",
    "            fixation.lineColor = [-0.5, 1, 0.9]\n",
    "            fixation.draw()\n",
    "            target.draw()\n",
    "            my_mouse = event.Mouse(visible=False,newPos=[0,0],win=my_win)\n",
    "            my_win.update()\n",
    "            clock_it = core.Clock()\n",
    "            clock_mt = core.Clock()\n",
    "            first_flag = True\n",
    "            while True:\n",
    "                #Get current mouse position\n",
    "                mouse_x, mouse_y = my_mouse.getPos()\n",
    "                    \n",
    "                #print (mouse_x, mouse_y)\n",
    "            #    if first == True:\n",
    "            #        mouse_x, mouse_y = x_center, y_center\n",
    "            #        first = False\n",
    "                if my_mouse.getPressed()[0]:\n",
    "                    if first_flag:\n",
    "                        mouse_x, mouse_y = my_mouse.getPos()\n",
    "                        initial_time[block][trial] = clock_it.getTime()\n",
    "                        x_center = mouse_x\n",
    "                        y_center = mouse_y\n",
    "                        first_flag = False\n",
    "                    cursor_x, cursor_y = (mouse_x-x_center)*np.cos(rotation) + (mouse_y-y_center)*np.sin(rotation), -(mouse_x-x_center)*np.sin(rotation) + (mouse_y-y_center)*np.cos(rotation)\n",
    "                    #Change the position of the fixation to the rotated movement from the mouse\n",
    "                    fixation.pos = (cursor_x, cursor_y)\n",
    "                    traj_x.append(cursor_x)\n",
    "                    traj_y.append(cursor_y)\n",
    "                    #Draw on screen\n",
    "                    fixation.draw()\n",
    "                    target.draw()\n",
    "\n",
    "                    #Display on Screen\n",
    "                    my_win.flip()\n",
    "\n",
    "                    #Break if fixation reaches the target\n",
    "                    if visual.helpers.polygonsOverlap(fixation, target):\n",
    "                        movement_time[block][trial] = clock_mt.getTime()\n",
    "                        print(\"Broke\")\n",
    "                        fixation.pos = [0, 0]\n",
    "                        fixation.draw()\n",
    "                        #Store Trajectory\n",
    "                        #print (traj_x)\n",
    "                        rotated_traj_x[block][trial] = traj_x\n",
    "                        #print ('Here')\n",
    "                        #print (rotated_traj_x)\n",
    "                        rotated_traj_y[block][trial] = traj_y\n",
    "                        break\n",
    "                    #print(rotated_traj_x)\n",
    "                else:\n",
    "                    fixation.pos = [0, 0]\n",
    "                    fixation.draw()\n",
    "                    target.draw()\n",
    "                    my_mouse.setPos([0, 0])\n",
    "                    my_win.flip()\n",
    "\n",
    "                    \n",
    "            #return fixation back to center\n",
    "            fixation.fillColor = [0.5, 0.5, 0.5]\n",
    "            fixation.lineColor = [0.5, 0.5, 0.5]\n",
    "            fixation.pos = [0, 0]\n",
    "            fixation.draw()\n",
    "            my_win.flip()\n",
    "            \n",
    "\n",
    "    core.wait(1.0)\n",
    "    actual_traj = np.array([rotated_traj_x, rotated_traj_y])\n",
    "    #Cleanup\n",
    "    my_win.close()\n",
    "    #core.quit()\n",
    "    return (target_pos_arrays, actual_traj, initial_time, movement_time)\n",
    "\n"
   ]
  },
  {
   "cell_type": "code",
   "execution_count": null,
   "metadata": {},
   "outputs": [],
   "source": []
  },
  {
   "cell_type": "code",
   "execution_count": null,
   "metadata": {},
   "outputs": [],
   "source": []
  },
  {
   "cell_type": "markdown",
   "metadata": {},
   "source": [
    "## Transfer Blocks\n"
   ]
  },
  {
   "cell_type": "markdown",
   "metadata": {},
   "source": [
    "### Target Stimuli"
   ]
  },
  {
   "cell_type": "code",
   "execution_count": 73,
   "metadata": {},
   "outputs": [
    {
     "name": "stdout",
     "output_type": "stream",
     "text": [
      "8180.7754 \tWARNING \tMonitor specification not found. Creating a temporary one...\n"
     ]
    }
   ],
   "source": []
  },
  {
   "cell_type": "code",
   "execution_count": null,
   "metadata": {},
   "outputs": [],
   "source": []
  },
  {
   "cell_type": "code",
   "execution_count": 112,
   "metadata": {},
   "outputs": [],
   "source": [
    "def transfer_blocks(num_blocks, num_trials, rotation):\n",
    "    thetas = np.repeat(np.array([np.pi/4, 3*np.pi/4, 5*np.pi/4, 7*np.pi/4]), 4)\n",
    "    target_pos_dict = {'Go':np.random.permutation(thetas), 'NoGo': np.random.permutation(thetas)}\n",
    "    target_pos_df = pd.DataFrame(target_pos_dict)\n",
    "    target_pos = target_pos_df.melt().take(np.random.permutation(32))\n",
    "    target_pos = target_pos.append(target_pos_df.melt().take(np.random.permutation(32)), ignore_index = True)\n",
    "    #Access using target_pos.iloc[i].value/var\n",
    "    target_pos_arrays = target_pos.to_numpy()\n",
    "    #target_pos_radius = 0.75\n",
    "    target_xpos_rotated = 0.42*np.cos(target_pos_arrays[:, 1].astype(float))\n",
    "    target_ypos_rotated = 0.75*np.sin(target_pos_arrays[:, 1].astype(float))\n",
    "    \n",
    "    \n",
    "    # Create a window to draw in\n",
    "    my_win = visual.Window((1920, 1080), allowGUI=True)\n",
    "    rotated_traj_x = np.empty((num_blocks, num_trials), dtype = object)\n",
    "    rotated_traj_y = np.empty((num_blocks, num_trials), dtype = object)\n",
    "    initial_time = np.zeros((num_blocks, num_trials))\n",
    "    movement_time = np.zeros((num_blocks, num_trials))\n",
    "    #Center fixation\n",
    "    fixation = visual.Circle(my_win, edges=64, size = (0.03, 0.05), pos = [0, 0], fillColor = [0.5, 0.5, 0.5], lineColor = [0.5, 0.5, 0.5])\n",
    "\n",
    "    #Initialize mouse object\n",
    "    for block in range(num_blocks):\n",
    "        display_scoreboard(my_win, 'Your score: 10 \\n Tap Stylus to continue.')\n",
    "        for trial in range(num_trials):\n",
    "            traj_x = list()\n",
    "            traj_y = list()\n",
    "            fixation.draw()\n",
    "            my_win.update()\n",
    "            #isi\n",
    "            core.wait(np.random.normal(3.5, 1))\n",
    "            \n",
    "            target = visual.Circle(my_win, edges=64, size = (0.1, 0.17), pos = [target_xpos_rotated[trial], target_ypos_rotated[trial]], fillColor = [1, -1, -1], lineColor = [1, -1, -1])\n",
    "            fixation.draw()\n",
    "            target.draw()            \n",
    "            my_win.update()\n",
    "            \n",
    "            \n",
    "            #Wait for color change\n",
    "            core.wait(np.random.uniform(1.5, 2.5))\n",
    "            \n",
    "            if target_pos_arrays[trial, 0] == 'NoGo':\n",
    "                fixation.fillColor = [1, 0.32, 0.28] \n",
    "                fixation.lineColor = [1, 0.332, 0.28]\n",
    "                fixation.draw()\n",
    "                target.draw()\n",
    "                my_win.update()\n",
    "                core.wait(0.5, 1)\n",
    "                fixation.fillColor = [0.5, 0.5, 0.5]\n",
    "                fixation.lineColor = [0.5, 0.5, 0.5]\n",
    "                fixation.pos = [0, 0]\n",
    "                fixation.draw()\n",
    "                my_win.flip()\n",
    "\n",
    "                continue\n",
    "                \n",
    "            #Change fixation color\n",
    "            fixation.fillColor = [-0.5, 1, 0.9] \n",
    "            fixation.lineColor = [-0.5, 1, 0.9]\n",
    "            fixation.draw()\n",
    "            target.draw()\n",
    "            my_mouse = event.Mouse(visible=False,newPos=[0,0],win=my_win)\n",
    "            my_win.update()\n",
    "            clock_it = core.Clock()\n",
    "            clock_mt = core.Clock()\n",
    "            first_flag = True\n",
    "            while True:\n",
    "                #Get current mouse position\n",
    "                mouse_x, mouse_y = my_mouse.getPos()\n",
    "                    \n",
    "                #print (mouse_x, mouse_y)\n",
    "            #    if first == True:\n",
    "            #        mouse_x, mouse_y = x_center, y_center\n",
    "            #        first = False\n",
    "                if my_mouse.getPressed()[0]:\n",
    "                    if first_flag:\n",
    "                        initial_time[block][trial] = clock_it.getTime()\n",
    "                        x_center = mouse_x\n",
    "                        y_center = mouse_y\n",
    "                        first_flag = False\n",
    "                    cursor_x, cursor_y = (mouse_x-x_center)*np.cos(rotation) - (mouse_y-y_center)*np.sin(rotation), -(mouse_x-x_center)*np.sin(rotation) + (mouse_y-y_center)*np.cos(rotation)\n",
    "                    #Change the position of the fixation to the rotated movement from the mouse\n",
    "                    fixation.pos = (cursor_x, cursor_y)\n",
    "                    traj_x.append(cursor_x)\n",
    "                    traj_y.append(cursor_y)\n",
    "                    #Draw on screen\n",
    "                    fixation.draw()\n",
    "                    target.draw()\n",
    "\n",
    "                    #Display on Screen\n",
    "                    my_win.flip()\n",
    "\n",
    "                    #Break if fixation reaches the target\n",
    "                    if visual.helpers.polygonsOverlap(fixation, target):\n",
    "                        movement_time[block][trial] = clock_mt.getTime()\n",
    "                        print(\"Broke\")\n",
    "                        fixation.pos = [0, 0]\n",
    "                        fixation.draw()\n",
    "                        #Store Trajectory\n",
    "                        #print (traj_x)\n",
    "                        rotated_traj_x[block][trial] = traj_x\n",
    "                        #print ('Here')\n",
    "                        #print (rotated_traj_x)\n",
    "                        rotated_traj_y[block][trial] = traj_y\n",
    "                        break\n",
    "                    #print(rotated_traj_x)\n",
    "                else:\n",
    "                    fixation.pos = [0, 0]\n",
    "                    fixation.draw()\n",
    "                    target.draw()\n",
    "                    my_mouse.setPos([0, 0])\n",
    "                    my_win.flip()\n",
    "                    \n",
    "            #return fixation back to center\n",
    "            fixation.fillColor = [0.5, 0.5, 0.5]\n",
    "            fixation.lineColor = [0.5, 0.5, 0.5]\n",
    "            fixation.pos = [0, 0]\n",
    "            fixation.draw()\n",
    "            my_win.flip()\n",
    "            \n",
    "\n",
    "    core.wait(1.0)\n",
    "    actual_traj = np.array([rotated_traj_x, rotated_traj_y])\n",
    "    #Cleanup\n",
    "    display_scoreboard('Thank you for your Participation!')\n",
    "    core.wait(5.0)\n",
    "    my_win.close()\n",
    "    #core.quit()\n",
    "    return (target_pos_arrays, actual_traj, initial_time, movement_time)\n",
    "\n"
   ]
  },
  {
   "cell_type": "markdown",
   "metadata": {},
   "source": [
    "# Experiment"
   ]
  },
  {
   "cell_type": "markdown",
   "metadata": {},
   "source": [
    "## Demo"
   ]
  },
  {
   "cell_type": "code",
   "execution_count": 87,
   "metadata": {},
   "outputs": [
    {
     "name": "stdout",
     "output_type": "stream",
     "text": [
      "8495.4811 \tWARNING \tMonitor specification not found. Creating a temporary one...\n",
      "Broke\n",
      "Broke\n",
      "Broke\n",
      "Broke\n",
      "8498.5954 \tWARNING \tMonitor specification not found. Creating a temporary one...\n",
      "8524.1749 \tWARNING \tMonitor specification not found. Creating a temporary one...\n",
      "Broke\n",
      "Broke\n",
      "Broke\n",
      "Broke\n",
      "8529.4128 \tWARNING \tMonitor specification not found. Creating a temporary one...\n"
     ]
    },
    {
     "data": {
      "text/plain": [
       "(array([6.28318531, 2.35619449, 3.92699082, 5.49778714, 5.49778714,\n",
       "        0.        , 2.35619449, 0.        , 6.28318531, 3.92699082,\n",
       "        1.57079633, 1.57079633, 0.78539816, 0.78539816, 4.71238898,\n",
       "        4.71238898, 6.28318531, 0.        , 5.49778714, 4.71238898,\n",
       "        0.78539816, 5.49778714, 6.28318531, 0.78539816, 1.57079633,\n",
       "        3.92699082, 1.57079633, 2.35619449, 0.        , 4.71238898,\n",
       "        3.92699082, 2.35619449, 4.71238898, 5.49778714, 1.57079633,\n",
       "        3.92699082, 5.49778714, 1.57079633, 6.28318531, 0.        ,\n",
       "        3.92699082, 6.28318531, 0.        , 2.35619449, 0.78539816,\n",
       "        4.71238898, 0.78539816, 2.35619449, 5.49778714, 0.78539816,\n",
       "        4.71238898, 1.57079633, 2.35619449, 0.        , 1.57079633,\n",
       "        6.28318531, 3.92699082, 0.        , 0.78539816, 2.35619449,\n",
       "        4.71238898, 3.92699082, 5.49778714, 6.28318531]),\n",
       " array([[[list([0.0, 0.0, 0.0, 0.0, 0.0, 0.0, 0.0, 0.0, 0.0, 0.0, 0.0, 0.0, 0.0, 0.0, 0.0, 0.005208333333333333, 0.020833333333333332, 0.035416666666666666, 0.057291666666666664, 0.09166666666666666, 0.11145833333333334, 0.140625, 0.165625, 0.19583333333333333, 0.21666666666666667, 0.23645833333333333, 0.25, 0.27708333333333335, 0.296875, 0.3177083333333333, 0.33645833333333336, 0.3541666666666667, 0.37395833333333334]),\n",
       "          list([0.0, 0.0, 0.0, 0.0, 0.0, 0.0, 0.0, 0.0, 0.0, 0.0, 0.0, 0.0, 0.0, 0.0, -0.021875, -0.057291666666666664, -0.09375, -0.10625, -0.11770833333333333, -0.13958333333333334, -0.15, -0.15833333333333333, -0.1625, -0.178125, -0.190625, -0.203125, -0.21354166666666666, -0.225, -0.234375, -0.24375, -0.25, -0.25625, -0.2604166666666667, -0.2677083333333333, -0.27395833333333336, -0.284375, -0.28958333333333336, -0.29375, -0.30104166666666665, -0.303125, -0.30520833333333336, -0.30625, -0.3104166666666667, -0.3125, -0.3145833333333333, -0.315625, -0.31979166666666664, -0.31979166666666664, -0.31979166666666664, -0.31979166666666664, -0.31979166666666664, -0.31979166666666664, -0.31979166666666664, -0.31979166666666664, -0.31979166666666664, -0.31979166666666664]),\n",
       "          list([0.0, 0.0, 0.0, 0.0, 0.0, 0.0, 0.0, 0.0, 0.0, 0.0, 0.0, 0.0, 0.0, 0.0, -0.03333333333333333, -0.057291666666666664, -0.08125, -0.10208333333333333, -0.12916666666666668, -0.14791666666666667, -0.16145833333333334, -0.184375, -0.19583333333333333, -0.20625, -0.215625, -0.23020833333333332, -0.24375, -0.2552083333333333]),\n",
       "          list([0.0, 0.0, 0.0, 0.0, 0.0, 0.0, 0.0, 0.0, 0.0, 0.0, 0.0, 0.0, 0.0, 0.0, 0.0, 0.0, 0.0010416666666666667, 0.013541666666666667, 0.03125, 0.05520833333333333, 0.09479166666666666, 0.11875, 0.13125, 0.13958333333333334, 0.14791666666666667, 0.15208333333333332, 0.15833333333333333, 0.16354166666666667, 0.17708333333333334, 0.1875, 0.196875, 0.20729166666666668, 0.21354166666666666, 0.22395833333333334, 0.23541666666666666, 0.2552083333333333])]],\n",
       " \n",
       "        [[list([0.0, 0.0, 0.0, 0.0, 0.0, 0.0, 0.0, 0.0, 0.0, 0.0, 0.0, 0.0, 0.0, 0.0, 0.0, 0.0, 0.0, 0.005555555555555556, 0.011111111111111112, 0.018518518518518517, 0.027777777777777776, 0.02962962962962963, 0.03333333333333333, 0.03518518518518519, 0.03888888888888889, 0.040740740740740744, 0.04259259259259259, 0.053703703703703705, 0.05740740740740741, 0.05740740740740741, 0.05740740740740741, 0.05555555555555555, 0.04814814814814815]),\n",
       "          list([0.0, 0.0, 0.0, 0.0, 0.0, 0.0, 0.0, 0.0, 0.0, 0.0, 0.0, 0.0, 0.0, 0.0, 0.05925925925925926, 0.1537037037037037, 0.2462962962962963, 0.29444444444444445, 0.3333333333333333, 0.39814814814814814, 0.42777777777777776, 0.45, 0.46296296296296297, 0.49444444444444446, 0.5259259259259259, 0.5555555555555556, 0.5814814814814815, 0.6074074074074074, 0.6259259259259259, 0.6388888888888888, 0.6574074074074074, 0.6703703703703704, 0.6759259259259259, 0.6833333333333333, 0.687037037037037, 0.6944444444444444, 0.6944444444444444, 0.6944444444444444, 0.6944444444444444, 0.6944444444444444, 0.6944444444444444, 0.6944444444444444, 0.6907407407407408, 0.687037037037037, 0.6833333333333333, 0.6796296296296296, 0.674074074074074, 0.6703703703703704, 0.6666666666666666, 0.6648148148148149, 0.6574074074074074, 0.6537037037037037, 0.6518518518518519, 0.6481481481481481, 0.6351851851851852, 0.6277777777777778]),\n",
       "          list([0.0, 0.0, 0.0, 0.0, 0.0, 0.0, 0.0, 0.0, 0.0, 0.0, 0.0, 0.0, 0.0, 0.0, -0.05925925925925926, -0.1, -0.15, -0.18518518518518517, -0.22962962962962963, -0.2740740740740741, -0.3037037037037037, -0.3425925925925926, -0.3592592592592593, -0.37777777777777777, -0.39444444444444443, -0.4166666666666667, -0.4351851851851852, -0.4537037037037037]),\n",
       "          list([0.0, 0.0, 0.0, 0.0, 0.0, 0.0, 0.0, 0.0, 0.0, 0.0, 0.0, 0.0, 0.0, 0.0, 0.0, 0.0, -0.007407407407407408, -0.037037037037037035, -0.07592592592592592, -0.12037037037037036, -0.1962962962962963, -0.2388888888888889, -0.25925925925925924, -0.2759259259259259, -0.29444444444444445, -0.3037037037037037, -0.31666666666666665, -0.3296296296296296, -0.35185185185185186, -0.3685185185185185, -0.37962962962962965, -0.39444444444444443, -0.40555555555555556, -0.4166666666666667, -0.4351851851851852, -0.46296296296296297])]]],\n",
       "       dtype=object),\n",
       " array([[0.53274686, 0.73370805, 0.50045854, 0.5342659 ]]),\n",
       " array([[1.08127728, 1.66511713, 0.96648719, 1.13260828]]))"
      ]
     },
     "execution_count": 87,
     "metadata": {},
     "output_type": "execute_result"
    }
   ],
   "source": [
    "my_win = visual.Window((1920, 1080), allowGUI=True)\n",
    "text = \"This is just a demo.\\nTap Stylus to continue\"\n",
    "display_scoreboard(my_win, text)\n",
    "text = \"Drag the smaller circle to the target using your stylus.\\nTap Stylus to continue\"\n",
    "display_scoreboard(my_win, text)\n",
    "my_win.close()\n",
    "garbage = template_blocks(1, 4, 0)\n",
    "\n",
    "my_win = visual.Window((1920, 1080), allowGUI=True)\n",
    "text = \"One more demo.\\nDrag the smaller circle to the target using your stylus.\\nTap Stylus to continue\"\n",
    "display_scoreboard(my_win, text)\n",
    "my_win.close()\n",
    "garbage = template_blocks(1, 4, 0)"
   ]
  },
  {
   "cell_type": "code",
   "execution_count": 61,
   "metadata": {},
   "outputs": [
    {
     "name": "stdout",
     "output_type": "stream",
     "text": [
      "7702.3489 \tWARNING \tMonitor specification not found. Creating a temporary one...\n"
     ]
    }
   ],
   "source": []
  },
  {
   "cell_type": "markdown",
   "metadata": {},
   "source": [
    "## Run Template trials"
   ]
  },
  {
   "cell_type": "code",
   "execution_count": 110,
   "metadata": {},
   "outputs": [
    {
     "name": "stdout",
     "output_type": "stream",
     "text": [
      "Broke\n",
      "Broke\n",
      "12734.0124 \tWARNING \tMonitor specification not found. Creating a temporary one...\n"
     ]
    }
   ],
   "source": [
    "template_targets, template_traj, template_it, template_mt = template_blocks(1, 2, 0)"
   ]
  },
  {
   "cell_type": "markdown",
   "metadata": {},
   "source": [
    "## Display Instructions for the rest of the experiment"
   ]
  },
  {
   "cell_type": "code",
   "execution_count": 58,
   "metadata": {},
   "outputs": [
    {
     "name": "stdout",
     "output_type": "stream",
     "text": [
      "7326.1587 \tWARNING \tMonitor specification not found. Creating a temporary one...\n",
      "Broke\n",
      "7339.5674 \tWARNING \tMonitor specification not found. Creating a temporary one...\n",
      "Broke\n",
      "7357.2514 \tWARNING \tMonitor specification not found. Creating a temporary one...\n",
      "7367.0520 \tWARNING \tMonitor specification not found. Creating a temporary one...\n"
     ]
    }
   ],
   "source": [
    "my_win = visual.Window((1920, 1080), allowGUI=True)\n",
    "text = 'For the rest of the experiment, wait for the center fixation to change color.\\nTap stylus to continue'\n",
    "display_scoreboard(my_win, text)\n",
    "\n",
    "text = 'Drag the center to the target when the center turns Blue.\\n Tap stylus for a short demo'\n",
    "display_scoreboard(my_win, text)\n",
    "\n",
    "\n",
    "text = 'Do not drag the center to the target when the center turns Red.\\n Tap stylus for a short demo'\n",
    "display_scoreboard(my_win, text)\n",
    "my_win.close()\n",
    "\n",
    "\n",
    "garbage = transfer_blocks(1, 2, 0)\n",
    "\n",
    "my_win = visual.Window((1920, 1080), allowGUI=True)\n",
    "text = 'One more short demo. Tap stylus. Go when blue. Do not go when Red'\n",
    "display_scoreboard(my_win, text)\n",
    "garbage = transfer_blocks(1, 2, 0)\n",
    "\n",
    "my_win.close()\n"
   ]
  },
  {
   "cell_type": "markdown",
   "metadata": {},
   "source": [
    "## Rotated Blocks"
   ]
  },
  {
   "cell_type": "code",
   "execution_count": 120,
   "metadata": {},
   "outputs": [
    {
     "name": "stdout",
     "output_type": "stream",
     "text": [
      "Broke\n",
      "Broke\n",
      "17023.2265 \tWARNING \tMonitor specification not found. Creating a temporary one...\n"
     ]
    }
   ],
   "source": [
    "rotated_targets, rotated_traj, rotated_it, rotated_mt = rotated_blocks(1, 2, 90)"
   ]
  },
  {
   "cell_type": "markdown",
   "metadata": {},
   "source": [
    "## Transfer Blocks"
   ]
  },
  {
   "cell_type": "code",
   "execution_count": 105,
   "metadata": {},
   "outputs": [
    {
     "name": "stdout",
     "output_type": "stream",
     "text": [
      "Broke\n",
      "12159.8421 \tWARNING \tMonitor specification not found. Creating a temporary one...\n"
     ]
    }
   ],
   "source": [
    "transfer_targets, transfer_traj, transfer_it, transfer_mt = transfer_blocks(1, 2, 0)"
   ]
  },
  {
   "cell_type": "markdown",
   "metadata": {},
   "source": [
    "## Save the data"
   ]
  },
  {
   "cell_type": "code",
   "execution_count": 88,
   "metadata": {},
   "outputs": [],
   "source": [
    "import os"
   ]
  },
  {
   "cell_type": "code",
   "execution_count": 94,
   "metadata": {},
   "outputs": [],
   "source": [
    "#make parent dir\n",
    "parent_dir = 'data\\\\data'+ok_data[0]\n",
    "os.mkdir(parent_dir)"
   ]
  },
  {
   "cell_type": "code",
   "execution_count": 102,
   "metadata": {},
   "outputs": [
    {
     "name": "stdout",
     "output_type": "stream",
     "text": [
      "Already exists\n"
     ]
    }
   ],
   "source": [
    "#Directory for templates\n",
    "template_directory = 'templates'\n",
    "try:\n",
    "    os.mkdir(os.path.join(parent_dir, template_directory))\n",
    "except OSError as error:\n",
    "    print ('Already exists')\n",
    "np.save(os.path.join(parent_dir, template_directory, 'targets.npy'), template_targets)\n",
    "np.save(os.path.join(parent_dir, template_directory, 'trajectories.npy'), template_traj)\n",
    "np.save(os.path.join(parent_dir, template_directory, 'its.npy'), template_it)\n",
    "np.save(os.path.join(parent_dir, template_directory, 'mts.npy'), template_mt)"
   ]
  },
  {
   "cell_type": "code",
   "execution_count": 107,
   "metadata": {},
   "outputs": [
    {
     "name": "stdout",
     "output_type": "stream",
     "text": [
      "Already exists\n"
     ]
    }
   ],
   "source": [
    "#Directory for Rotated\n",
    "rotated_directory = 'rotated'\n",
    "try:\n",
    "    os.mkdir(os.path.join(parent_dir, rotated_directory))\n",
    "except OSError as error:\n",
    "    print ('Already exists')\n",
    "np.save(os.path.join(parent_dir, rotated_directory, 'targets.npy'), rotated_targets)\n",
    "np.save(os.path.join(parent_dir, rotated_directory, 'trajectories.npy'), rotated_traj)\n",
    "np.save(os.path.join(parent_dir, rotated_directory, 'its.npy'), rotated_it)\n",
    "np.save(os.path.join(parent_dir, rotated_directory, 'mts.npy'), rotated_mt)"
   ]
  },
  {
   "cell_type": "code",
   "execution_count": 106,
   "metadata": {},
   "outputs": [],
   "source": [
    "#Directory for Rotated\n",
    "transfer_directory = 'transfer'\n",
    "try:\n",
    "    os.mkdir(os.path.join(parent_dir, transfer_directory))\n",
    "except OSError as error:\n",
    "    print ('Already exists')\n",
    "np.save(os.path.join(parent_dir, transfer_directory, 'targets.npy'), transfer_targets)\n",
    "np.save(os.path.join(parent_dir, transfer_directory, 'trajectories.npy'), transfer_traj)\n",
    "np.save(os.path.join(parent_dir, transfer_directory, 'its.npy'), transfer_it)\n",
    "np.save(os.path.join(parent_dir, transfer_directory, 'mts.npy'), transfer_mt)"
   ]
  },
  {
   "cell_type": "code",
   "execution_count": null,
   "metadata": {},
   "outputs": [],
   "source": []
  }
 ],
 "metadata": {
  "kernelspec": {
   "display_name": "Python 3",
   "language": "python",
   "name": "python3"
  },
  "language_info": {
   "codemirror_mode": {
    "name": "ipython",
    "version": 3
   },
   "file_extension": ".py",
   "mimetype": "text/x-python",
   "name": "python",
   "nbconvert_exporter": "python",
   "pygments_lexer": "ipython3",
   "version": "3.7.0"
  }
 },
 "nbformat": 4,
 "nbformat_minor": 4
}
