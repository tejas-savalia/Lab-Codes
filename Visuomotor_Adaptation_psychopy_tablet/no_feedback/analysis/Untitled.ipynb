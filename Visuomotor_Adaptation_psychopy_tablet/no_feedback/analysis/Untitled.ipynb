{
 "cells": [
  {
   "cell_type": "code",
   "execution_count": 1,
   "metadata": {},
   "outputs": [],
   "source": [
    "#%% Import libraries\n",
    "import numpy as np\n",
    "import matplotlib.pyplot as plt\n",
    "import csv\n",
    "import pandas as pd\n",
    "import ast\n",
    "from scipy.ndimage import gaussian_filter\n",
    "import pickle\n",
    "import scipy.stats"
   ]
  },
  {
   "cell_type": "code",
   "execution_count": 2,
   "metadata": {},
   "outputs": [],
   "source": [
    "#%%\n",
    "errors = np.zeros((768))\n",
    "its = np.zeros((768))\n",
    "mts = np.zeros((768))"
   ]
  },
  {
   "cell_type": "code",
   "execution_count": 3,
   "metadata": {},
   "outputs": [],
   "source": [
    "#%%\n",
    "def euclidean_dist(df):\n",
    "    errors = list()\n",
    "    for i in range(len(df)):\n",
    "        errors.append(np.sqrt((df['target_x'][i] - df['transfer_mouse.x'][i][-1])**2 + (df['target_y'][i] - df['transfer_mouse.y'][i][-1])**2))        \n",
    "\n",
    "    return errors       \n",
    "def angular_dist(vec1, vec2):\n",
    "    uv1 = vec1/np.linalg.norm(vec1)\n",
    "    uv2 = vec2/np.linalg.norm(vec2)\n",
    "    dot_prod = np.dot(uv1, uv2)\n",
    "    return np.arccos(dot_prod)\n",
    "\n",
    "def rotate(x, y, angle):\n",
    "    radians = (np.pi/180)*angle\n",
    "    cos_val = np.cos(radians)\n",
    "    sin_val = np.sin(radians)\n",
    "    nx = x*cos_val + y*sin_val\n",
    "    ny = y*cos_val - x*sin_val\n",
    "    return [nx, ny];\n"
   ]
  },
  {
   "cell_type": "code",
   "execution_count": 19,
   "metadata": {},
   "outputs": [
    {
     "data": {
      "text/plain": [
       "'C:\\\\Users\\\\Tejas\\\\Documents\\\\Lab-Codes\\\\Visuomotor_Adaptation_psychopy_tablet\\\\no_feedback\\\\analysis'"
      ]
     },
     "execution_count": 19,
     "metadata": {},
     "output_type": "execute_result"
    }
   ],
   "source": [
    "import os\n",
    "os.getcwd()"
   ]
  },
  {
   "cell_type": "code",
   "execution_count": 116,
   "metadata": {},
   "outputs": [],
   "source": [
    "data = pd.read_csv('data/2010.csv')"
   ]
  },
  {
   "cell_type": "code",
   "execution_count": 117,
   "metadata": {},
   "outputs": [
    {
     "name": "stderr",
     "output_type": "stream",
     "text": [
      "<ipython-input-117-5183793939cc>:2: SettingWithCopyWarning: \n",
      "A value is trying to be set on a copy of a slice from a DataFrame\n",
      "\n",
      "See the caveats in the documentation: https://pandas.pydata.org/pandas-docs/stable/user_guide/indexing.html#returning-a-view-versus-a-copy\n",
      "  data_baseline.dropna('columns', inplace = True)\n"
     ]
    }
   ],
   "source": [
    "data_baseline = data.dropna(subset = ['baseline_mouse.x'], inplace = False)\n",
    "data_baseline.dropna('columns', inplace = True)\n",
    "data_baseline.reset_index(drop = True, inplace = True)\n"
   ]
  },
  {
   "cell_type": "code",
   "execution_count": 118,
   "metadata": {},
   "outputs": [
    {
     "data": {
      "text/plain": [
       "Index(['target_x', 'target_y', 'rotation', 'baseline_trials.thisRepN',\n",
       "       'baseline_trials.thisTrialN', 'baseline_trials.thisN',\n",
       "       'baseline_trials.thisIndex', 'baseline_enclosing_1.started',\n",
       "       'baseline_enclosing_1.stopped', 'baseline_enclosing.started',\n",
       "       'baseline_enclosing.stopped', 'baseline_target.started',\n",
       "       'baseline_target.stopped', 'baseline_fixation.started',\n",
       "       'baseline_fixation.stopped', 'baseline_mouse.x', 'baseline_mouse.y',\n",
       "       'baseline_mouse.leftButton', 'baseline_mouse.midButton',\n",
       "       'baseline_mouse.rightButton', 'baseline_mouse.time',\n",
       "       'baseline_mouse.started', 'baseline_mouse.stopped',\n",
       "       'baseline_enclosing_feedback_1.started',\n",
       "       'baseline_enclosing_feedback_1.stopped',\n",
       "       'baseline_enclosing_feedback.started',\n",
       "       'baseline_enclosing_feedback.stopped',\n",
       "       'baseline_target_feedback.started', 'baseline_target_feedback.stopped',\n",
       "       'baseline_fixation_feedback.started',\n",
       "       'baseline_fixation_feedback.stopped', 'baseline_score_text.started',\n",
       "       'baseline_score_text.stopped', 'participant', 'session', 'date',\n",
       "       'expName', 'psychopyVersion', 'frameRate'],\n",
       "      dtype='object')"
      ]
     },
     "execution_count": 118,
     "metadata": {},
     "output_type": "execute_result"
    }
   ],
   "source": [
    "data_baseline.columns"
   ]
  },
  {
   "cell_type": "code",
   "execution_count": 119,
   "metadata": {},
   "outputs": [],
   "source": [
    "def data_cleanup(data):\n",
    "    #Preliminary cleanup. Includes dropping NAs, separating in three sets and resetting indices to start from 0\n",
    "    data_baseline = data.dropna(subset = ['baseline_mouse.x'], inplace = False)\n",
    "    data_baseline.dropna('columns', inplace = True)\n",
    "    data_baseline.reset_index(drop = True, inplace = True)\n",
    "    \n",
    "    data_rotated = data.dropna(subset = ['rotated_mouse.x'], inplace = False)\n",
    "    data_rotated.dropna('columns', inplace = True)\n",
    "    data_rotated.reset_index(drop = True, inplace = True)\n",
    "    \n",
    "    data_transfer = data.dropna(subset = ['transfer_mouse.x'], inplace = False)\n",
    "    data_transfer.dropna('columns', inplace = True)\n",
    "    data_transfer.reset_index(drop = True, inplace = True)\n",
    "    \n",
    "    #Convert string lists to regular lists\n",
    "    for column in data_rotated.columns:\n",
    "        try:\n",
    "            data_rotated[column] = data_rotated[column].apply(ast.literal_eval)\n",
    "        except:\n",
    "            print(column)\n",
    "    for column in data_baseline.columns:\n",
    "        try:\n",
    "            data_baseline[column] = data_baseline[column].apply(ast.literal_eval)\n",
    "        except:\n",
    "            print(column)\n",
    "    for column in data_transfer.columns:\n",
    "        try:\n",
    "            data_transfer[column] = data_transfer[column].apply(ast.literal_eval)            \n",
    "        except:\n",
    "            print(column)\n",
    "\n",
    "\n",
    "    return data_baseline, data_rotated, data_transfer"
   ]
  },
  {
   "cell_type": "code",
   "execution_count": 120,
   "metadata": {},
   "outputs": [
    {
     "name": "stderr",
     "output_type": "stream",
     "text": [
      "<ipython-input-119-99337c7f6ea1>:4: SettingWithCopyWarning: \n",
      "A value is trying to be set on a copy of a slice from a DataFrame\n",
      "\n",
      "See the caveats in the documentation: https://pandas.pydata.org/pandas-docs/stable/user_guide/indexing.html#returning-a-view-versus-a-copy\n",
      "  data_baseline.dropna('columns', inplace = True)\n",
      "<ipython-input-119-99337c7f6ea1>:8: SettingWithCopyWarning: \n",
      "A value is trying to be set on a copy of a slice from a DataFrame\n",
      "\n",
      "See the caveats in the documentation: https://pandas.pydata.org/pandas-docs/stable/user_guide/indexing.html#returning-a-view-versus-a-copy\n",
      "  data_rotated.dropna('columns', inplace = True)\n",
      "<ipython-input-119-99337c7f6ea1>:12: SettingWithCopyWarning: \n",
      "A value is trying to be set on a copy of a slice from a DataFrame\n",
      "\n",
      "See the caveats in the documentation: https://pandas.pydata.org/pandas-docs/stable/user_guide/indexing.html#returning-a-view-versus-a-copy\n",
      "  data_transfer.dropna('columns', inplace = True)\n",
      "<ipython-input-119-99337c7f6ea1>:18: SettingWithCopyWarning: \n",
      "A value is trying to be set on a copy of a slice from a DataFrame.\n",
      "Try using .loc[row_indexer,col_indexer] = value instead\n",
      "\n",
      "See the caveats in the documentation: https://pandas.pydata.org/pandas-docs/stable/user_guide/indexing.html#returning-a-view-versus-a-copy\n",
      "  data_rotated[column] = data_rotated[column].apply(ast.literal_eval)\n"
     ]
    },
    {
     "name": "stdout",
     "output_type": "stream",
     "text": [
      "target_x\n",
      "target_y\n",
      "rotation\n",
      "blocks.thisRepN\n",
      "blocks.thisTrialN\n",
      "blocks.thisN\n",
      "blocks.thisIndex\n",
      "block_trials.thisRepN\n",
      "block_trials.thisTrialN\n",
      "block_trials.thisN\n",
      "block_trials.thisIndex\n",
      "rotated_enclosing_1.started\n",
      "rotated_enclosing.started\n",
      "rotated_fixation.started\n",
      "rotated_enclosing_feedback_1.started\n",
      "rotated_enclosing_feedback.started\n",
      "rotated_target_feedback.started\n",
      "rotated_fixation_feedback.started\n",
      "rotated_fixation_feedback.stopped\n",
      "rotated_score_text.started\n",
      "participant\n",
      "session\n",
      "date\n",
      "expName\n",
      "psychopyVersion\n",
      "frameRate\n",
      "target_x\n",
      "target_y\n",
      "rotation\n",
      "baseline_trials.thisRepN\n",
      "baseline_trials.thisTrialN\n",
      "baseline_trials.thisN\n",
      "baseline_trials.thisIndex\n",
      "baseline_enclosing_1.started\n",
      "baseline_enclosing.started\n",
      "baseline_target.started\n",
      "baseline_fixation.started\n"
     ]
    },
    {
     "name": "stderr",
     "output_type": "stream",
     "text": [
      "<ipython-input-119-99337c7f6ea1>:23: SettingWithCopyWarning: \n",
      "A value is trying to be set on a copy of a slice from a DataFrame.\n",
      "Try using .loc[row_indexer,col_indexer] = value instead\n",
      "\n",
      "See the caveats in the documentation: https://pandas.pydata.org/pandas-docs/stable/user_guide/indexing.html#returning-a-view-versus-a-copy\n",
      "  data_baseline[column] = data_baseline[column].apply(ast.literal_eval)\n"
     ]
    },
    {
     "name": "stdout",
     "output_type": "stream",
     "text": [
      "baseline_mouse.started\n",
      "baseline_enclosing_feedback_1.started\n",
      "baseline_enclosing_feedback.started\n",
      "baseline_target_feedback.started\n",
      "baseline_fixation_feedback.started\n",
      "baseline_fixation_feedback.stopped\n",
      "baseline_score_text.started\n",
      "participant\n",
      "session\n",
      "date\n",
      "expName\n",
      "psychopyVersion\n",
      "frameRate\n",
      "target_x\n",
      "target_y\n",
      "rotation\n",
      "transfer_trials.thisRepN\n",
      "transfer_trials.thisTrialN\n",
      "transfer_trials.thisN\n",
      "transfer_trials.thisIndex\n",
      "transfer_enclosing_1.started\n",
      "transfer_enclosing.started\n",
      "transfer_target.started\n",
      "transfer_fixation.started\n"
     ]
    },
    {
     "name": "stderr",
     "output_type": "stream",
     "text": [
      "<ipython-input-119-99337c7f6ea1>:28: SettingWithCopyWarning: \n",
      "A value is trying to be set on a copy of a slice from a DataFrame.\n",
      "Try using .loc[row_indexer,col_indexer] = value instead\n",
      "\n",
      "See the caveats in the documentation: https://pandas.pydata.org/pandas-docs/stable/user_guide/indexing.html#returning-a-view-versus-a-copy\n",
      "  data_transfer[column] = data_transfer[column].apply(ast.literal_eval)\n"
     ]
    },
    {
     "name": "stdout",
     "output_type": "stream",
     "text": [
      "transfer_mouse.started\n",
      "transfer_enclosing_feedback_1.started\n",
      "transfer_enclosing_feedback.started\n",
      "transfer_target_feedback.started\n",
      "transfer_fixation_feedback.started\n",
      "transfer_fixation_feedback.stopped\n",
      "text_4.started\n",
      "participant\n",
      "session\n",
      "date\n",
      "expName\n",
      "psychopyVersion\n",
      "frameRate\n"
     ]
    }
   ],
   "source": [
    "data_baseline, data_rotated, data_transfer = data_cleanup(data)"
   ]
  },
  {
   "cell_type": "code",
   "execution_count": null,
   "metadata": {},
   "outputs": [],
   "source": []
  },
  {
   "cell_type": "code",
   "execution_count": null,
   "metadata": {},
   "outputs": [],
   "source": []
  },
  {
   "cell_type": "code",
   "execution_count": 125,
   "metadata": {},
   "outputs": [
    {
     "name": "stdout",
     "output_type": "stream",
     "text": [
      "here\n"
     ]
    }
   ],
   "source": [
    "baseline_fix_pos = np.zeros((64, 2))\n",
    "for trial in range(64):\n",
    "    try:\n",
    "        baseline_fix_pos[trial][:] = np.array(rotate(data_baseline['baseline_mouse.x'][trial][-1], data_baseline['baseline_mouse.y'][trial][-1], 0))        \n",
    "    except:\n",
    "        print('here')\n",
    "\n",
    "rotated_fix_pos = np.zeros((640, 2))\n",
    "for trial in range(640):\n",
    "    try:\n",
    "        rotated_fix_pos[trial][:] = np.array(rotate(data_rotated['rotated_mouse.x'][trial][-1], data_rotated['rotated_mouse.y'][trial][-1], 90))        \n",
    "    except:\n",
    "        print('here')\n",
    "        \n",
    "transfer_fix_pos = np.zeros((64, 2))\n",
    "for trial in range(64):\n",
    "    try:\n",
    "        transfer_fix_pos[trial][:] = np.array(rotate(data_transfer['transfer_mouse.x'][trial][-1], data_transfer['transfer_mouse.y'][trial][-1], 0))        \n",
    "    except:\n",
    "        print('here')\n"
   ]
  },
  {
   "cell_type": "code",
   "execution_count": 126,
   "metadata": {},
   "outputs": [
    {
     "data": {
      "text/plain": [
       "(array([0.19537037, 0.02592593]), (0.3, 0.3))"
      ]
     },
     "execution_count": 126,
     "metadata": {},
     "output_type": "execute_result"
    }
   ],
   "source": [
    "trial = 55\n",
    "transfer_fix_pos[trial], (data_transfer['target_x'][trial],data_transfer['target_y'][trial])"
   ]
  },
  {
   "cell_type": "code",
   "execution_count": 127,
   "metadata": {},
   "outputs": [
    {
     "name": "stderr",
     "output_type": "stream",
     "text": [
      "<ipython-input-3-37506489b2d9>:9: RuntimeWarning: invalid value encountered in true_divide\n",
      "  uv1 = vec1/np.linalg.norm(vec1)\n"
     ]
    }
   ],
   "source": [
    "errors = np.zeros(768)\n",
    "ang_errors = np.zeros(768)\n",
    "for trial in range(64):\n",
    "    errors[trial] = np.sqrt((baseline_fix_pos[trial][0] - data_baseline['target_x'][trial])**2 + (baseline_fix_pos[trial][1] - data_baseline['target_y'][trial])**2)\n",
    "    ang_errors[trial] = angular_dist(baseline_fix_pos[trial], [data_baseline['target_x'][trial], data_baseline['target_y'][trial]])\n",
    "for trial in range(640):\n",
    "    errors[trial+64] = np.sqrt((rotated_fix_pos[trial][0] - data_rotated['target_x'][trial])**2 + (rotated_fix_pos[trial][1] - data_rotated['target_y'][trial])**2)\n",
    "    ang_errors[trial+64] = angular_dist(rotated_fix_pos[trial], [data_rotated['target_x'][trial], data_rotated['target_y'][trial]])\n",
    "for trial in range(64):\n",
    "    errors[trial+704] = np.sqrt((transfer_fix_pos[trial][0] - data_transfer['target_x'][trial])**2 + (transfer_fix_pos[trial][1] - data_transfer['target_y'][trial])**2)\n",
    "    ang_errors[trial+704] = angular_dist(transfer_fix_pos[trial], [data_transfer['target_x'][trial], data_transfer['target_y'][trial]])\n",
    "    "
   ]
  },
  {
   "cell_type": "code",
   "execution_count": 128,
   "metadata": {},
   "outputs": [
    {
     "data": {
      "text/plain": [
       "<matplotlib.legend.Legend at 0x1cce140ac40>"
      ]
     },
     "execution_count": 128,
     "metadata": {},
     "output_type": "execute_result"
    },
    {
     "data": {
      "image/png": "[encoded data removed]",
      "text/plain": [
       "<Figure size 432x288 with 1 Axes>"
      ]
     },
     "metadata": {
      "needs_background": "light"
     },
     "output_type": "display_data"
    }
   ],
   "source": [
    "plt_angular, = plt.plot(gaussian_filter(ang_errors, sigma = 3))\n",
    "plt_euclidean, = plt.plot(gaussian_filter(errors, sigma = 3))\n",
    "plt.legend((plt_angular, plt_euclidean), ('Angular Errors', \"Euclidean Errors\"))"
   ]
  },
  {
   "cell_type": "code",
   "execution_count": 57,
   "metadata": {},
   "outputs": [
    {
     "data": {
      "text/plain": [
       "array([0., 0.])"
      ]
     },
     "execution_count": 57,
     "metadata": {},
     "output_type": "execute_result"
    }
   ],
   "source": [
    "baseline_fix_pos[2]"
   ]
  },
  {
   "cell_type": "code",
   "execution_count": 82,
   "metadata": {},
   "outputs": [
    {
     "data": {
      "text/plain": [
       "0     0.3\n",
       "1    -0.3\n",
       "2     0.3\n",
       "3    -0.3\n",
       "4    -0.3\n",
       "     ... \n",
       "59    0.3\n",
       "60    0.3\n",
       "61   -0.3\n",
       "62    0.3\n",
       "63    0.3\n",
       "Name: target_x, Length: 64, dtype: float64"
      ]
     },
     "execution_count": 82,
     "metadata": {},
     "output_type": "execute_result"
    }
   ],
   "source": [
    "data_transfer['target_x']"
   ]
  },
  {
   "cell_type": "markdown",
   "metadata": {},
   "source": [
    "# RTs"
   ]
  },
  {
   "cell_type": "code",
   "execution_count": 130,
   "metadata": {},
   "outputs": [
    {
     "data": {
      "text/plain": [
       "Index(['target_x', 'target_y', 'rotation', 'baseline_trials.thisRepN',\n",
       "       'baseline_trials.thisTrialN', 'baseline_trials.thisN',\n",
       "       'baseline_trials.thisIndex', 'baseline_enclosing_1.started',\n",
       "       'baseline_enclosing_1.stopped', 'baseline_enclosing.started',\n",
       "       'baseline_enclosing.stopped', 'baseline_target.started',\n",
       "       'baseline_target.stopped', 'baseline_fixation.started',\n",
       "       'baseline_fixation.stopped', 'baseline_mouse.x', 'baseline_mouse.y',\n",
       "       'baseline_mouse.leftButton', 'baseline_mouse.midButton',\n",
       "       'baseline_mouse.rightButton', 'baseline_mouse.time',\n",
       "       'baseline_mouse.started', 'baseline_mouse.stopped',\n",
       "       'baseline_enclosing_feedback_1.started',\n",
       "       'baseline_enclosing_feedback_1.stopped',\n",
       "       'baseline_enclosing_feedback.started',\n",
       "       'baseline_enclosing_feedback.stopped',\n",
       "       'baseline_target_feedback.started', 'baseline_target_feedback.stopped',\n",
       "       'baseline_fixation_feedback.started',\n",
       "       'baseline_fixation_feedback.stopped', 'baseline_score_text.started',\n",
       "       'baseline_score_text.stopped', 'participant', 'session', 'date',\n",
       "       'expName', 'psychopyVersion', 'frameRate'],\n",
       "      dtype='object')"
      ]
     },
     "execution_count": 130,
     "metadata": {},
     "output_type": "execute_result"
    }
   ],
   "source": [
    "data_baseline.columns"
   ]
  },
  {
   "cell_type": "code",
   "execution_count": 132,
   "metadata": {},
   "outputs": [
    {
     "data": {
      "text/plain": [
       "0     2158.511954\n",
       "1     2162.784457\n",
       "2     2165.115824\n",
       "3     2168.287687\n",
       "4     2173.010395\n",
       "         ...     \n",
       "59    2349.903919\n",
       "60    2355.587252\n",
       "61    2366.873903\n",
       "62    2374.738469\n",
       "63    2377.540125\n",
       "Name: baseline_target.started, Length: 64, dtype: float64"
      ]
     },
     "execution_count": 132,
     "metadata": {},
     "output_type": "execute_result"
    }
   ],
   "source": [
    "data_baseline['baseline_target.started']"
   ]
  },
  {
   "cell_type": "code",
   "execution_count": null,
   "metadata": {},
   "outputs": [],
   "source": []
  }
 ],
 "metadata": {
  "kernelspec": {
   "display_name": "Python 3",
   "language": "python",
   "name": "python3"
  },
  "language_info": {
   "codemirror_mode": {
    "name": "ipython",
    "version": 3
   },
   "file_extension": ".py",
   "mimetype": "text/x-python",
   "name": "python",
   "nbconvert_exporter": "python",
   "pygments_lexer": "ipython3",
   "version": "3.8.3"
  }
 },
 "nbformat": 4,
 "nbformat_minor": 4
}
