{
 "cells": [
  {
   "cell_type": "code",
   "execution_count": 1,
   "metadata": {},
   "outputs": [],
   "source": [
    "#%% Import libraries\n",
    "import numpy as np\n",
    "import matplotlib.pyplot as plt\n",
    "import csv\n",
    "import pandas as pd\n",
    "import ast\n",
    "from scipy.ndimage import gaussian_filter\n",
    "import pickle\n",
    "import scipy.stats\n",
    "import os\n"
   ]
  },
  {
   "cell_type": "code",
   "execution_count": 2,
   "metadata": {},
   "outputs": [],
   "source": [
    "#%%\n",
    "errors = np.zeros((768))\n",
    "its = np.zeros((768))\n",
    "mts = np.zeros((768))"
   ]
  },
  {
   "cell_type": "code",
   "execution_count": 2,
   "metadata": {},
   "outputs": [],
   "source": [
    "#%%\n",
    "def euclidean_dist(df):\n",
    "    errors = list()\n",
    "    for i in range(len(df)):\n",
    "        errors.append(np.sqrt((df['target_x'][i] - df['transfer_mouse.x'][i][-1])**2 + (df['target_y'][i] - df['transfer_mouse.y'][i][-1])**2))        \n",
    "\n",
    "    return errors       \n",
    "def angular_dist(vec1, vec2):\n",
    "    uv1 = vec1/np.linalg.norm(vec1)\n",
    "    uv2 = vec2/np.linalg.norm(vec2)\n",
    "    dot_prod = np.dot(uv1, uv2)\n",
    "    return np.arccos(dot_prod)\n",
    "\n",
    "def rotate(x, y, angle):\n",
    "    radians = (np.pi/180)*angle\n",
    "    cos_val = np.cos(radians)\n",
    "    sin_val = np.sin(radians)\n",
    "    nx = x*cos_val + y*sin_val\n",
    "    ny = y*cos_val - x*sin_val\n",
    "    return [nx, ny];\n"
   ]
  },
  {
   "cell_type": "markdown",
   "metadata": {},
   "source": [
    "# Preprocessing"
   ]
  },
  {
   "cell_type": "markdown",
   "metadata": {},
   "source": [
    "## 0. Read Data"
   ]
  },
  {
   "cell_type": "code",
   "execution_count": 3,
   "metadata": {},
   "outputs": [],
   "source": [
    "def data_read(participant):\n",
    "    return pd.read_csv('data/'+str(participant)+'.csv')"
   ]
  },
  {
   "cell_type": "markdown",
   "metadata": {},
   "source": [
    "## 1. Data Cleanup "
   ]
  },
  {
   "cell_type": "code",
   "execution_count": 4,
   "metadata": {},
   "outputs": [],
   "source": [
    "def data_cleanup(data):\n",
    "    #Preliminary cleanup. Includes dropping NAs, separating in three sets and resetting indices to start from 0\n",
    "    data_baseline = data.dropna(subset = ['baseline_mouse.x'], inplace = False)\n",
    "    data_baseline.dropna('columns', inplace = True)\n",
    "    data_baseline.reset_index(drop = True, inplace = True)\n",
    "    \n",
    "    data_rotated = data.dropna(subset = ['rotated_mouse.x'], inplace = False)\n",
    "    data_rotated.dropna('columns', inplace = True)\n",
    "    data_rotated.reset_index(drop = True, inplace = True)\n",
    "    \n",
    "    data_transfer = data.dropna(subset = ['transfer_mouse.x'], inplace = False)\n",
    "    data_transfer.dropna('columns', inplace = True)\n",
    "    data_transfer.reset_index(drop = True, inplace = True)\n",
    "    \n",
    "    #Convert string lists to regular lists\n",
    "    for column in data_rotated.columns:\n",
    "        try:\n",
    "            data_rotated[column] = data_rotated[column].apply(ast.literal_eval)\n",
    "        except:\n",
    "            continue\n",
    "            #print()\n",
    "    for column in data_baseline.columns:\n",
    "        try:\n",
    "            data_baseline[column] = data_baseline[column].apply(ast.literal_eval)\n",
    "        except:\n",
    "            continue\n",
    "            #print()\n",
    "    for column in data_transfer.columns:\n",
    "        try:\n",
    "            data_transfer[column] = data_transfer[column].apply(ast.literal_eval)            \n",
    "        except:\n",
    "            continue\n",
    "            #print()\n",
    "\n",
    "\n",
    "    return data_baseline, data_rotated, data_transfer"
   ]
  },
  {
   "cell_type": "markdown",
   "metadata": {},
   "source": [
    "## 2. Reading fixation positions"
   ]
  },
  {
   "cell_type": "code",
   "execution_count": 5,
   "metadata": {},
   "outputs": [],
   "source": [
    "def get_fix_positions(cleaned_data, participant):\n",
    "    data_baseline, data_rotated, data_transfer = cleaned_data\n",
    "    baseline_fix_pos = np.zeros((64, 2))\n",
    "    for trial in range(64):\n",
    "        try:\n",
    "            baseline_fix_pos[trial][:] = np.array(rotate(data_baseline['baseline_mouse.x'][trial][-1], data_baseline['baseline_mouse.y'][trial][-1], 0))        \n",
    "        except:\n",
    "            continue\n",
    "    rotated_fix_pos = np.zeros((640, 2))\n",
    "    if participant%2 == 0:\n",
    "        for trial in range(640):\n",
    "            try:\n",
    "                rotated_fix_pos[trial][:] = np.array(rotate(data_rotated['rotated_mouse.x'][trial][-1], data_rotated['rotated_mouse.y'][trial][-1], 90))        \n",
    "            except:\n",
    "                continue\n",
    "    else:\n",
    "        for trial in range(640):\n",
    "            try:\n",
    "                rotation = int(trial/64 + 1) * 10\n",
    "                if rotation > 90:\n",
    "                    rotation = 90\n",
    "                #rotation = 0\n",
    "                #print(rotation)\n",
    "                rotated_fix_pos[trial][:] = np.array(rotate(data_rotated['rotated_mouse.x'][trial][-1], data_rotated['rotated_mouse.y'][trial][-1], rotation))\n",
    "            except:\n",
    "                print (trial)\n",
    "                continue\n",
    "                #print()\n",
    "    transfer_fix_pos = np.zeros((64, 2))\n",
    "    for trial in range(64):\n",
    "        try:\n",
    "            transfer_fix_pos[trial][:] = np.array(rotate(data_transfer['transfer_mouse.x'][trial][-1], data_transfer['transfer_mouse.y'][trial][-1], 0))        \n",
    "        except:\n",
    "            continue\n",
    "            #print()\n",
    "    return baseline_fix_pos, rotated_fix_pos, transfer_fix_pos"
   ]
  },
  {
   "cell_type": "markdown",
   "metadata": {},
   "source": [
    "## 3. Calculating euclidean and angular errors"
   ]
  },
  {
   "cell_type": "code",
   "execution_count": 6,
   "metadata": {},
   "outputs": [],
   "source": [
    "def calc_error(cleaned_data, fix_position):\n",
    "    data_baseline, data_rotated, data_transfer = cleaned_data\n",
    "    baseline_fix_pos, rotated_fix_pos, transfer_fix_pos = fix_position\n",
    "    errors = np.zeros(768)\n",
    "    ang_errors = np.zeros(768)\n",
    "    for trial in range(64):\n",
    "        errors[trial] = np.sqrt((baseline_fix_pos[trial][0] - data_baseline['target_x'][trial])**2 + (baseline_fix_pos[trial][1] - data_baseline['target_y'][trial])**2)\n",
    "        ang_errors[trial] = angular_dist(baseline_fix_pos[trial], [data_baseline['target_x'][trial], data_baseline['target_y'][trial]])\n",
    "    for trial in range(640):\n",
    "        errors[trial+64] = np.sqrt((rotated_fix_pos[trial][0] - data_rotated['target_x'][trial])**2 + (rotated_fix_pos[trial][1] - data_rotated['target_y'][trial])**2)\n",
    "        ang_errors[trial+64] = angular_dist(rotated_fix_pos[trial], [data_rotated['target_x'][trial], data_rotated['target_y'][trial]])\n",
    "    for trial in range(64):\n",
    "        errors[trial+704] = np.sqrt((transfer_fix_pos[trial][0] - data_transfer['target_x'][trial])**2 + (transfer_fix_pos[trial][1] - data_transfer['target_y'][trial])**2)\n",
    "        ang_errors[trial+704] = angular_dist(transfer_fix_pos[trial], [data_transfer['target_x'][trial], data_transfer['target_y'][trial]])\n",
    "    return errors, ang_errors"
   ]
  },
  {
   "cell_type": "markdown",
   "metadata": {},
   "source": [
    "## 4. Pipeline to calculate errors for each participant"
   ]
  },
  {
   "cell_type": "code",
   "execution_count": 15,
   "metadata": {},
   "outputs": [],
   "source": [
    "def get_errors(participant):\n",
    "    data = data_read(participant)\n",
    "    cleaned_data = data_cleanup(data)\n",
    "    fix_position = get_fix_positions(cleaned_data, participant)\n",
    "    errors, ang_errors = calc_error(cleaned_data, fix_position)\n",
    "    #ang_errors = np.nan_to_num(ang_errors, nan = np.nanmean(ang_errors))\n",
    "    d = {'trial': range(768),\n",
    "        'errors_temp': errors,\n",
    "        'ang_errors_temp': ang_errors}\n",
    "    df = pd.DataFrame(d)\n",
    "    df['errors'] = df['errors_temp'].interpolate()\n",
    "    df['ang_errors'] = df['ang_errors_temp'].interpolate()\n",
    "    return df"
   ]
  },
  {
   "cell_type": "code",
   "execution_count": 53,
   "metadata": {},
   "outputs": [
    {
     "name": "stderr",
     "output_type": "stream",
     "text": [
      "<ipython-input-4-396cf816f312>:4: SettingWithCopyWarning: \n",
      "A value is trying to be set on a copy of a slice from a DataFrame\n",
      "\n",
      "See the caveats in the documentation: https://pandas.pydata.org/pandas-docs/stable/user_guide/indexing.html#returning-a-view-versus-a-copy\n",
      "  data_baseline.dropna('columns', inplace = True)\n",
      "<ipython-input-4-396cf816f312>:8: SettingWithCopyWarning: \n",
      "A value is trying to be set on a copy of a slice from a DataFrame\n",
      "\n",
      "See the caveats in the documentation: https://pandas.pydata.org/pandas-docs/stable/user_guide/indexing.html#returning-a-view-versus-a-copy\n",
      "  data_rotated.dropna('columns', inplace = True)\n",
      "<ipython-input-4-396cf816f312>:12: SettingWithCopyWarning: \n",
      "A value is trying to be set on a copy of a slice from a DataFrame\n",
      "\n",
      "See the caveats in the documentation: https://pandas.pydata.org/pandas-docs/stable/user_guide/indexing.html#returning-a-view-versus-a-copy\n",
      "  data_transfer.dropna('columns', inplace = True)\n",
      "<ipython-input-4-396cf816f312>:18: SettingWithCopyWarning: \n",
      "A value is trying to be set on a copy of a slice from a DataFrame.\n",
      "Try using .loc[row_indexer,col_indexer] = value instead\n",
      "\n",
      "See the caveats in the documentation: https://pandas.pydata.org/pandas-docs/stable/user_guide/indexing.html#returning-a-view-versus-a-copy\n",
      "  data_rotated[column] = data_rotated[column].apply(ast.literal_eval)\n",
      "<ipython-input-4-396cf816f312>:24: SettingWithCopyWarning: \n",
      "A value is trying to be set on a copy of a slice from a DataFrame.\n",
      "Try using .loc[row_indexer,col_indexer] = value instead\n",
      "\n",
      "See the caveats in the documentation: https://pandas.pydata.org/pandas-docs/stable/user_guide/indexing.html#returning-a-view-versus-a-copy\n",
      "  data_baseline[column] = data_baseline[column].apply(ast.literal_eval)\n",
      "<ipython-input-4-396cf816f312>:30: SettingWithCopyWarning: \n",
      "A value is trying to be set on a copy of a slice from a DataFrame.\n",
      "Try using .loc[row_indexer,col_indexer] = value instead\n",
      "\n",
      "See the caveats in the documentation: https://pandas.pydata.org/pandas-docs/stable/user_guide/indexing.html#returning-a-view-versus-a-copy\n",
      "  data_transfer[column] = data_transfer[column].apply(ast.literal_eval)\n",
      "<ipython-input-2-37506489b2d9>:9: RuntimeWarning: invalid value encountered in true_divide\n",
      "  uv1 = vec1/np.linalg.norm(vec1)\n",
      "<ipython-input-4-396cf816f312>:4: SettingWithCopyWarning: \n",
      "A value is trying to be set on a copy of a slice from a DataFrame\n",
      "\n",
      "See the caveats in the documentation: https://pandas.pydata.org/pandas-docs/stable/user_guide/indexing.html#returning-a-view-versus-a-copy\n",
      "  data_baseline.dropna('columns', inplace = True)\n",
      "<ipython-input-4-396cf816f312>:8: SettingWithCopyWarning: \n",
      "A value is trying to be set on a copy of a slice from a DataFrame\n",
      "\n",
      "See the caveats in the documentation: https://pandas.pydata.org/pandas-docs/stable/user_guide/indexing.html#returning-a-view-versus-a-copy\n",
      "  data_rotated.dropna('columns', inplace = True)\n",
      "<ipython-input-4-396cf816f312>:12: SettingWithCopyWarning: \n",
      "A value is trying to be set on a copy of a slice from a DataFrame\n",
      "\n",
      "See the caveats in the documentation: https://pandas.pydata.org/pandas-docs/stable/user_guide/indexing.html#returning-a-view-versus-a-copy\n",
      "  data_transfer.dropna('columns', inplace = True)\n",
      "<ipython-input-4-396cf816f312>:18: SettingWithCopyWarning: \n",
      "A value is trying to be set on a copy of a slice from a DataFrame.\n",
      "Try using .loc[row_indexer,col_indexer] = value instead\n",
      "\n",
      "See the caveats in the documentation: https://pandas.pydata.org/pandas-docs/stable/user_guide/indexing.html#returning-a-view-versus-a-copy\n",
      "  data_rotated[column] = data_rotated[column].apply(ast.literal_eval)\n",
      "<ipython-input-4-396cf816f312>:24: SettingWithCopyWarning: \n",
      "A value is trying to be set on a copy of a slice from a DataFrame.\n",
      "Try using .loc[row_indexer,col_indexer] = value instead\n",
      "\n",
      "See the caveats in the documentation: https://pandas.pydata.org/pandas-docs/stable/user_guide/indexing.html#returning-a-view-versus-a-copy\n",
      "  data_baseline[column] = data_baseline[column].apply(ast.literal_eval)\n",
      "<ipython-input-4-396cf816f312>:30: SettingWithCopyWarning: \n",
      "A value is trying to be set on a copy of a slice from a DataFrame.\n",
      "Try using .loc[row_indexer,col_indexer] = value instead\n",
      "\n",
      "See the caveats in the documentation: https://pandas.pydata.org/pandas-docs/stable/user_guide/indexing.html#returning-a-view-versus-a-copy\n",
      "  data_transfer[column] = data_transfer[column].apply(ast.literal_eval)\n"
     ]
    },
    {
     "name": "stdout",
     "output_type": "stream",
     "text": [
      "448\n",
      "474\n"
     ]
    },
    {
     "name": "stderr",
     "output_type": "stream",
     "text": [
      "<ipython-input-2-37506489b2d9>:9: RuntimeWarning: invalid value encountered in true_divide\n",
      "  uv1 = vec1/np.linalg.norm(vec1)\n",
      "<ipython-input-4-396cf816f312>:4: SettingWithCopyWarning: \n",
      "A value is trying to be set on a copy of a slice from a DataFrame\n",
      "\n",
      "See the caveats in the documentation: https://pandas.pydata.org/pandas-docs/stable/user_guide/indexing.html#returning-a-view-versus-a-copy\n",
      "  data_baseline.dropna('columns', inplace = True)\n",
      "<ipython-input-4-396cf816f312>:8: SettingWithCopyWarning: \n",
      "A value is trying to be set on a copy of a slice from a DataFrame\n",
      "\n",
      "See the caveats in the documentation: https://pandas.pydata.org/pandas-docs/stable/user_guide/indexing.html#returning-a-view-versus-a-copy\n",
      "  data_rotated.dropna('columns', inplace = True)\n",
      "<ipython-input-4-396cf816f312>:12: SettingWithCopyWarning: \n",
      "A value is trying to be set on a copy of a slice from a DataFrame\n",
      "\n",
      "See the caveats in the documentation: https://pandas.pydata.org/pandas-docs/stable/user_guide/indexing.html#returning-a-view-versus-a-copy\n",
      "  data_transfer.dropna('columns', inplace = True)\n",
      "<ipython-input-4-396cf816f312>:18: SettingWithCopyWarning: \n",
      "A value is trying to be set on a copy of a slice from a DataFrame.\n",
      "Try using .loc[row_indexer,col_indexer] = value instead\n",
      "\n",
      "See the caveats in the documentation: https://pandas.pydata.org/pandas-docs/stable/user_guide/indexing.html#returning-a-view-versus-a-copy\n",
      "  data_rotated[column] = data_rotated[column].apply(ast.literal_eval)\n",
      "<ipython-input-4-396cf816f312>:24: SettingWithCopyWarning: \n",
      "A value is trying to be set on a copy of a slice from a DataFrame.\n",
      "Try using .loc[row_indexer,col_indexer] = value instead\n",
      "\n",
      "See the caveats in the documentation: https://pandas.pydata.org/pandas-docs/stable/user_guide/indexing.html#returning-a-view-versus-a-copy\n",
      "  data_baseline[column] = data_baseline[column].apply(ast.literal_eval)\n",
      "<ipython-input-4-396cf816f312>:30: SettingWithCopyWarning: \n",
      "A value is trying to be set on a copy of a slice from a DataFrame.\n",
      "Try using .loc[row_indexer,col_indexer] = value instead\n",
      "\n",
      "See the caveats in the documentation: https://pandas.pydata.org/pandas-docs/stable/user_guide/indexing.html#returning-a-view-versus-a-copy\n",
      "  data_transfer[column] = data_transfer[column].apply(ast.literal_eval)\n",
      "<ipython-input-4-396cf816f312>:4: SettingWithCopyWarning: \n",
      "A value is trying to be set on a copy of a slice from a DataFrame\n",
      "\n",
      "See the caveats in the documentation: https://pandas.pydata.org/pandas-docs/stable/user_guide/indexing.html#returning-a-view-versus-a-copy\n",
      "  data_baseline.dropna('columns', inplace = True)\n",
      "<ipython-input-4-396cf816f312>:8: SettingWithCopyWarning: \n",
      "A value is trying to be set on a copy of a slice from a DataFrame\n",
      "\n",
      "See the caveats in the documentation: https://pandas.pydata.org/pandas-docs/stable/user_guide/indexing.html#returning-a-view-versus-a-copy\n",
      "  data_rotated.dropna('columns', inplace = True)\n",
      "<ipython-input-4-396cf816f312>:12: SettingWithCopyWarning: \n",
      "A value is trying to be set on a copy of a slice from a DataFrame\n",
      "\n",
      "See the caveats in the documentation: https://pandas.pydata.org/pandas-docs/stable/user_guide/indexing.html#returning-a-view-versus-a-copy\n",
      "  data_transfer.dropna('columns', inplace = True)\n",
      "<ipython-input-4-396cf816f312>:18: SettingWithCopyWarning: \n",
      "A value is trying to be set on a copy of a slice from a DataFrame.\n",
      "Try using .loc[row_indexer,col_indexer] = value instead\n",
      "\n",
      "See the caveats in the documentation: https://pandas.pydata.org/pandas-docs/stable/user_guide/indexing.html#returning-a-view-versus-a-copy\n",
      "  data_rotated[column] = data_rotated[column].apply(ast.literal_eval)\n",
      "<ipython-input-4-396cf816f312>:24: SettingWithCopyWarning: \n",
      "A value is trying to be set on a copy of a slice from a DataFrame.\n",
      "Try using .loc[row_indexer,col_indexer] = value instead\n",
      "\n",
      "See the caveats in the documentation: https://pandas.pydata.org/pandas-docs/stable/user_guide/indexing.html#returning-a-view-versus-a-copy\n",
      "  data_baseline[column] = data_baseline[column].apply(ast.literal_eval)\n",
      "<ipython-input-4-396cf816f312>:30: SettingWithCopyWarning: \n",
      "A value is trying to be set on a copy of a slice from a DataFrame.\n",
      "Try using .loc[row_indexer,col_indexer] = value instead\n",
      "\n",
      "See the caveats in the documentation: https://pandas.pydata.org/pandas-docs/stable/user_guide/indexing.html#returning-a-view-versus-a-copy\n",
      "  data_transfer[column] = data_transfer[column].apply(ast.literal_eval)\n",
      "<ipython-input-4-396cf816f312>:4: SettingWithCopyWarning: \n",
      "A value is trying to be set on a copy of a slice from a DataFrame\n",
      "\n",
      "See the caveats in the documentation: https://pandas.pydata.org/pandas-docs/stable/user_guide/indexing.html#returning-a-view-versus-a-copy\n",
      "  data_baseline.dropna('columns', inplace = True)\n",
      "<ipython-input-4-396cf816f312>:8: SettingWithCopyWarning: \n",
      "A value is trying to be set on a copy of a slice from a DataFrame\n",
      "\n",
      "See the caveats in the documentation: https://pandas.pydata.org/pandas-docs/stable/user_guide/indexing.html#returning-a-view-versus-a-copy\n",
      "  data_rotated.dropna('columns', inplace = True)\n",
      "<ipython-input-4-396cf816f312>:12: SettingWithCopyWarning: \n",
      "A value is trying to be set on a copy of a slice from a DataFrame\n",
      "\n",
      "See the caveats in the documentation: https://pandas.pydata.org/pandas-docs/stable/user_guide/indexing.html#returning-a-view-versus-a-copy\n",
      "  data_transfer.dropna('columns', inplace = True)\n",
      "<ipython-input-4-396cf816f312>:18: SettingWithCopyWarning: \n",
      "A value is trying to be set on a copy of a slice from a DataFrame.\n",
      "Try using .loc[row_indexer,col_indexer] = value instead\n",
      "\n",
      "See the caveats in the documentation: https://pandas.pydata.org/pandas-docs/stable/user_guide/indexing.html#returning-a-view-versus-a-copy\n",
      "  data_rotated[column] = data_rotated[column].apply(ast.literal_eval)\n",
      "<ipython-input-4-396cf816f312>:24: SettingWithCopyWarning: \n",
      "A value is trying to be set on a copy of a slice from a DataFrame.\n",
      "Try using .loc[row_indexer,col_indexer] = value instead\n",
      "\n",
      "See the caveats in the documentation: https://pandas.pydata.org/pandas-docs/stable/user_guide/indexing.html#returning-a-view-versus-a-copy\n",
      "  data_baseline[column] = data_baseline[column].apply(ast.literal_eval)\n",
      "<ipython-input-4-396cf816f312>:30: SettingWithCopyWarning: \n",
      "A value is trying to be set on a copy of a slice from a DataFrame.\n",
      "Try using .loc[row_indexer,col_indexer] = value instead\n",
      "\n",
      "See the caveats in the documentation: https://pandas.pydata.org/pandas-docs/stable/user_guide/indexing.html#returning-a-view-versus-a-copy\n",
      "  data_transfer[column] = data_transfer[column].apply(ast.literal_eval)\n",
      "<ipython-input-2-37506489b2d9>:9: RuntimeWarning: invalid value encountered in true_divide\n",
      "  uv1 = vec1/np.linalg.norm(vec1)\n",
      "<ipython-input-4-396cf816f312>:4: SettingWithCopyWarning: \n",
      "A value is trying to be set on a copy of a slice from a DataFrame\n",
      "\n",
      "See the caveats in the documentation: https://pandas.pydata.org/pandas-docs/stable/user_guide/indexing.html#returning-a-view-versus-a-copy\n",
      "  data_baseline.dropna('columns', inplace = True)\n",
      "<ipython-input-4-396cf816f312>:8: SettingWithCopyWarning: \n",
      "A value is trying to be set on a copy of a slice from a DataFrame\n",
      "\n",
      "See the caveats in the documentation: https://pandas.pydata.org/pandas-docs/stable/user_guide/indexing.html#returning-a-view-versus-a-copy\n",
      "  data_rotated.dropna('columns', inplace = True)\n",
      "<ipython-input-4-396cf816f312>:12: SettingWithCopyWarning: \n",
      "A value is trying to be set on a copy of a slice from a DataFrame\n",
      "\n",
      "See the caveats in the documentation: https://pandas.pydata.org/pandas-docs/stable/user_guide/indexing.html#returning-a-view-versus-a-copy\n",
      "  data_transfer.dropna('columns', inplace = True)\n",
      "<ipython-input-4-396cf816f312>:18: SettingWithCopyWarning: \n",
      "A value is trying to be set on a copy of a slice from a DataFrame.\n",
      "Try using .loc[row_indexer,col_indexer] = value instead\n",
      "\n",
      "See the caveats in the documentation: https://pandas.pydata.org/pandas-docs/stable/user_guide/indexing.html#returning-a-view-versus-a-copy\n",
      "  data_rotated[column] = data_rotated[column].apply(ast.literal_eval)\n",
      "<ipython-input-4-396cf816f312>:24: SettingWithCopyWarning: \n",
      "A value is trying to be set on a copy of a slice from a DataFrame.\n",
      "Try using .loc[row_indexer,col_indexer] = value instead\n",
      "\n",
      "See the caveats in the documentation: https://pandas.pydata.org/pandas-docs/stable/user_guide/indexing.html#returning-a-view-versus-a-copy\n",
      "  data_baseline[column] = data_baseline[column].apply(ast.literal_eval)\n",
      "<ipython-input-4-396cf816f312>:30: SettingWithCopyWarning: \n",
      "A value is trying to be set on a copy of a slice from a DataFrame.\n",
      "Try using .loc[row_indexer,col_indexer] = value instead\n",
      "\n",
      "See the caveats in the documentation: https://pandas.pydata.org/pandas-docs/stable/user_guide/indexing.html#returning-a-view-versus-a-copy\n",
      "  data_transfer[column] = data_transfer[column].apply(ast.literal_eval)\n"
     ]
    },
    {
     "name": "stdout",
     "output_type": "stream",
     "text": [
      "126\n",
      "192\n",
      "256\n",
      "320\n",
      "448\n"
     ]
    },
    {
     "name": "stderr",
     "output_type": "stream",
     "text": [
      "<ipython-input-2-37506489b2d9>:9: RuntimeWarning: invalid value encountered in true_divide\n",
      "  uv1 = vec1/np.linalg.norm(vec1)\n",
      "<ipython-input-4-396cf816f312>:4: SettingWithCopyWarning: \n",
      "A value is trying to be set on a copy of a slice from a DataFrame\n",
      "\n",
      "See the caveats in the documentation: https://pandas.pydata.org/pandas-docs/stable/user_guide/indexing.html#returning-a-view-versus-a-copy\n",
      "  data_baseline.dropna('columns', inplace = True)\n",
      "<ipython-input-4-396cf816f312>:8: SettingWithCopyWarning: \n",
      "A value is trying to be set on a copy of a slice from a DataFrame\n",
      "\n",
      "See the caveats in the documentation: https://pandas.pydata.org/pandas-docs/stable/user_guide/indexing.html#returning-a-view-versus-a-copy\n",
      "  data_rotated.dropna('columns', inplace = True)\n",
      "<ipython-input-4-396cf816f312>:12: SettingWithCopyWarning: \n",
      "A value is trying to be set on a copy of a slice from a DataFrame\n",
      "\n",
      "See the caveats in the documentation: https://pandas.pydata.org/pandas-docs/stable/user_guide/indexing.html#returning-a-view-versus-a-copy\n",
      "  data_transfer.dropna('columns', inplace = True)\n",
      "<ipython-input-4-396cf816f312>:18: SettingWithCopyWarning: \n",
      "A value is trying to be set on a copy of a slice from a DataFrame.\n",
      "Try using .loc[row_indexer,col_indexer] = value instead\n",
      "\n",
      "See the caveats in the documentation: https://pandas.pydata.org/pandas-docs/stable/user_guide/indexing.html#returning-a-view-versus-a-copy\n",
      "  data_rotated[column] = data_rotated[column].apply(ast.literal_eval)\n",
      "<ipython-input-4-396cf816f312>:24: SettingWithCopyWarning: \n",
      "A value is trying to be set on a copy of a slice from a DataFrame.\n",
      "Try using .loc[row_indexer,col_indexer] = value instead\n",
      "\n",
      "See the caveats in the documentation: https://pandas.pydata.org/pandas-docs/stable/user_guide/indexing.html#returning-a-view-versus-a-copy\n",
      "  data_baseline[column] = data_baseline[column].apply(ast.literal_eval)\n",
      "<ipython-input-4-396cf816f312>:30: SettingWithCopyWarning: \n",
      "A value is trying to be set on a copy of a slice from a DataFrame.\n",
      "Try using .loc[row_indexer,col_indexer] = value instead\n",
      "\n",
      "See the caveats in the documentation: https://pandas.pydata.org/pandas-docs/stable/user_guide/indexing.html#returning-a-view-versus-a-copy\n",
      "  data_transfer[column] = data_transfer[column].apply(ast.literal_eval)\n",
      "<ipython-input-4-396cf816f312>:4: SettingWithCopyWarning: \n",
      "A value is trying to be set on a copy of a slice from a DataFrame\n",
      "\n",
      "See the caveats in the documentation: https://pandas.pydata.org/pandas-docs/stable/user_guide/indexing.html#returning-a-view-versus-a-copy\n",
      "  data_baseline.dropna('columns', inplace = True)\n",
      "<ipython-input-4-396cf816f312>:8: SettingWithCopyWarning: \n",
      "A value is trying to be set on a copy of a slice from a DataFrame\n",
      "\n",
      "See the caveats in the documentation: https://pandas.pydata.org/pandas-docs/stable/user_guide/indexing.html#returning-a-view-versus-a-copy\n",
      "  data_rotated.dropna('columns', inplace = True)\n",
      "<ipython-input-4-396cf816f312>:12: SettingWithCopyWarning: \n",
      "A value is trying to be set on a copy of a slice from a DataFrame\n",
      "\n",
      "See the caveats in the documentation: https://pandas.pydata.org/pandas-docs/stable/user_guide/indexing.html#returning-a-view-versus-a-copy\n",
      "  data_transfer.dropna('columns', inplace = True)\n",
      "<ipython-input-4-396cf816f312>:18: SettingWithCopyWarning: \n",
      "A value is trying to be set on a copy of a slice from a DataFrame.\n",
      "Try using .loc[row_indexer,col_indexer] = value instead\n",
      "\n",
      "See the caveats in the documentation: https://pandas.pydata.org/pandas-docs/stable/user_guide/indexing.html#returning-a-view-versus-a-copy\n",
      "  data_rotated[column] = data_rotated[column].apply(ast.literal_eval)\n",
      "<ipython-input-4-396cf816f312>:24: SettingWithCopyWarning: \n",
      "A value is trying to be set on a copy of a slice from a DataFrame.\n",
      "Try using .loc[row_indexer,col_indexer] = value instead\n",
      "\n",
      "See the caveats in the documentation: https://pandas.pydata.org/pandas-docs/stable/user_guide/indexing.html#returning-a-view-versus-a-copy\n",
      "  data_baseline[column] = data_baseline[column].apply(ast.literal_eval)\n",
      "<ipython-input-4-396cf816f312>:30: SettingWithCopyWarning: \n",
      "A value is trying to be set on a copy of a slice from a DataFrame.\n",
      "Try using .loc[row_indexer,col_indexer] = value instead\n",
      "\n",
      "See the caveats in the documentation: https://pandas.pydata.org/pandas-docs/stable/user_guide/indexing.html#returning-a-view-versus-a-copy\n",
      "  data_transfer[column] = data_transfer[column].apply(ast.literal_eval)\n"
     ]
    },
    {
     "name": "stdout",
     "output_type": "stream",
     "text": [
      "476\n",
      "534\n"
     ]
    },
    {
     "name": "stderr",
     "output_type": "stream",
     "text": [
      "<ipython-input-2-37506489b2d9>:9: RuntimeWarning: invalid value encountered in true_divide\n",
      "  uv1 = vec1/np.linalg.norm(vec1)\n",
      "<ipython-input-4-396cf816f312>:4: SettingWithCopyWarning: \n",
      "A value is trying to be set on a copy of a slice from a DataFrame\n",
      "\n",
      "See the caveats in the documentation: https://pandas.pydata.org/pandas-docs/stable/user_guide/indexing.html#returning-a-view-versus-a-copy\n",
      "  data_baseline.dropna('columns', inplace = True)\n",
      "<ipython-input-4-396cf816f312>:8: SettingWithCopyWarning: \n",
      "A value is trying to be set on a copy of a slice from a DataFrame\n",
      "\n",
      "See the caveats in the documentation: https://pandas.pydata.org/pandas-docs/stable/user_guide/indexing.html#returning-a-view-versus-a-copy\n",
      "  data_rotated.dropna('columns', inplace = True)\n",
      "<ipython-input-4-396cf816f312>:12: SettingWithCopyWarning: \n",
      "A value is trying to be set on a copy of a slice from a DataFrame\n",
      "\n",
      "See the caveats in the documentation: https://pandas.pydata.org/pandas-docs/stable/user_guide/indexing.html#returning-a-view-versus-a-copy\n",
      "  data_transfer.dropna('columns', inplace = True)\n",
      "<ipython-input-4-396cf816f312>:18: SettingWithCopyWarning: \n",
      "A value is trying to be set on a copy of a slice from a DataFrame.\n",
      "Try using .loc[row_indexer,col_indexer] = value instead\n",
      "\n",
      "See the caveats in the documentation: https://pandas.pydata.org/pandas-docs/stable/user_guide/indexing.html#returning-a-view-versus-a-copy\n",
      "  data_rotated[column] = data_rotated[column].apply(ast.literal_eval)\n",
      "<ipython-input-4-396cf816f312>:24: SettingWithCopyWarning: \n",
      "A value is trying to be set on a copy of a slice from a DataFrame.\n",
      "Try using .loc[row_indexer,col_indexer] = value instead\n",
      "\n",
      "See the caveats in the documentation: https://pandas.pydata.org/pandas-docs/stable/user_guide/indexing.html#returning-a-view-versus-a-copy\n",
      "  data_baseline[column] = data_baseline[column].apply(ast.literal_eval)\n",
      "<ipython-input-4-396cf816f312>:30: SettingWithCopyWarning: \n",
      "A value is trying to be set on a copy of a slice from a DataFrame.\n",
      "Try using .loc[row_indexer,col_indexer] = value instead\n",
      "\n",
      "See the caveats in the documentation: https://pandas.pydata.org/pandas-docs/stable/user_guide/indexing.html#returning-a-view-versus-a-copy\n",
      "  data_transfer[column] = data_transfer[column].apply(ast.literal_eval)\n"
     ]
    }
   ],
   "source": [
    "ang_errors = np.zeros((10, 768))\n",
    "errors = np.zeros((10, 768))\n",
    "for participant in range(2010, 2019):\n",
    "    errors_df = get_errors(participant)\n",
    "    ang_errors[participant-2010] = gaussian_filter(errors_df['ang_errors'], sigma = 2)\n",
    "    errors[participant - 2010] = gaussian_filter(errors_df['errors'], sigma = 2)"
   ]
  },
  {
   "cell_type": "code",
   "execution_count": null,
   "metadata": {},
   "outputs": [],
   "source": []
  },
  {
   "cell_type": "code",
   "execution_count": 61,
   "metadata": {},
   "outputs": [
    {
     "data": {
      "text/plain": [
       "<matplotlib.legend.Legend at 0x1ccb4cb4cd0>"
      ]
     },
     "execution_count": 61,
     "metadata": {},
     "output_type": "execute_result"
    },
    {
     "data": {
      "image/png": "[encoded data removed]",
      "text/plain": [
       "<Figure size 432x288 with 1 Axes>"
      ]
     },
     "metadata": {
      "needs_background": "light"
     },
     "output_type": "display_data"
    }
   ],
   "source": [
    "plt_angular, = plt.plot(np.mean(ang_errors[0::2], axis = 0))\n",
    "plt_euclidean, = plt.plot(np.mean(errors[0::2], axis = 0))\n",
    "plt.legend((plt_angular, plt_euclidean), ('Angular Errors', \"Euclidean Errors\"))"
   ]
  },
  {
   "cell_type": "code",
   "execution_count": null,
   "metadata": {},
   "outputs": [],
   "source": []
  },
  {
   "cell_type": "code",
   "execution_count": null,
   "metadata": {},
   "outputs": [],
   "source": []
  },
  {
   "cell_type": "code",
   "execution_count": null,
   "metadata": {},
   "outputs": [],
   "source": []
  },
  {
   "cell_type": "markdown",
   "metadata": {},
   "source": [
    "# RTs"
   ]
  },
  {
   "cell_type": "code",
   "execution_count": 64,
   "metadata": {},
   "outputs": [
    {
     "name": "stderr",
     "output_type": "stream",
     "text": [
      "<ipython-input-4-396cf816f312>:4: SettingWithCopyWarning: \n",
      "A value is trying to be set on a copy of a slice from a DataFrame\n",
      "\n",
      "See the caveats in the documentation: https://pandas.pydata.org/pandas-docs/stable/user_guide/indexing.html#returning-a-view-versus-a-copy\n",
      "  data_baseline.dropna('columns', inplace = True)\n",
      "<ipython-input-4-396cf816f312>:8: SettingWithCopyWarning: \n",
      "A value is trying to be set on a copy of a slice from a DataFrame\n",
      "\n",
      "See the caveats in the documentation: https://pandas.pydata.org/pandas-docs/stable/user_guide/indexing.html#returning-a-view-versus-a-copy\n",
      "  data_rotated.dropna('columns', inplace = True)\n",
      "<ipython-input-4-396cf816f312>:12: SettingWithCopyWarning: \n",
      "A value is trying to be set on a copy of a slice from a DataFrame\n",
      "\n",
      "See the caveats in the documentation: https://pandas.pydata.org/pandas-docs/stable/user_guide/indexing.html#returning-a-view-versus-a-copy\n",
      "  data_transfer.dropna('columns', inplace = True)\n",
      "<ipython-input-4-396cf816f312>:18: SettingWithCopyWarning: \n",
      "A value is trying to be set on a copy of a slice from a DataFrame.\n",
      "Try using .loc[row_indexer,col_indexer] = value instead\n",
      "\n",
      "See the caveats in the documentation: https://pandas.pydata.org/pandas-docs/stable/user_guide/indexing.html#returning-a-view-versus-a-copy\n",
      "  data_rotated[column] = data_rotated[column].apply(ast.literal_eval)\n",
      "<ipython-input-4-396cf816f312>:24: SettingWithCopyWarning: \n",
      "A value is trying to be set on a copy of a slice from a DataFrame.\n",
      "Try using .loc[row_indexer,col_indexer] = value instead\n",
      "\n",
      "See the caveats in the documentation: https://pandas.pydata.org/pandas-docs/stable/user_guide/indexing.html#returning-a-view-versus-a-copy\n",
      "  data_baseline[column] = data_baseline[column].apply(ast.literal_eval)\n",
      "<ipython-input-4-396cf816f312>:30: SettingWithCopyWarning: \n",
      "A value is trying to be set on a copy of a slice from a DataFrame.\n",
      "Try using .loc[row_indexer,col_indexer] = value instead\n",
      "\n",
      "See the caveats in the documentation: https://pandas.pydata.org/pandas-docs/stable/user_guide/indexing.html#returning-a-view-versus-a-copy\n",
      "  data_transfer[column] = data_transfer[column].apply(ast.literal_eval)\n"
     ]
    }
   ],
   "source": [
    "a, b, c = data_cleanup(data_read(2010))"
   ]
  },
  {
   "cell_type": "code",
   "execution_count": 66,
   "metadata": {},
   "outputs": [
    {
     "data": {
      "text/plain": [
       "Index(['target_x', 'target_y', 'rotation', 'baseline_trials.thisRepN',\n",
       "       'baseline_trials.thisTrialN', 'baseline_trials.thisN',\n",
       "       'baseline_trials.thisIndex', 'baseline_enclosing_1.started',\n",
       "       'baseline_enclosing_1.stopped', 'baseline_enclosing.started',\n",
       "       'baseline_enclosing.stopped', 'baseline_target.started',\n",
       "       'baseline_target.stopped', 'baseline_fixation.started',\n",
       "       'baseline_fixation.stopped', 'baseline_mouse.x', 'baseline_mouse.y',\n",
       "       'baseline_mouse.leftButton', 'baseline_mouse.midButton',\n",
       "       'baseline_mouse.rightButton', 'baseline_mouse.time',\n",
       "       'baseline_mouse.started', 'baseline_mouse.stopped',\n",
       "       'baseline_enclosing_feedback_1.started',\n",
       "       'baseline_enclosing_feedback_1.stopped',\n",
       "       'baseline_enclosing_feedback.started',\n",
       "       'baseline_enclosing_feedback.stopped',\n",
       "       'baseline_target_feedback.started', 'baseline_target_feedback.stopped',\n",
       "       'baseline_fixation_feedback.started',\n",
       "       'baseline_fixation_feedback.stopped', 'baseline_score_text.started',\n",
       "       'baseline_score_text.stopped', 'participant', 'session', 'date',\n",
       "       'expName', 'psychopyVersion', 'frameRate'],\n",
       "      dtype='object')"
      ]
     },
     "execution_count": 66,
     "metadata": {},
     "output_type": "execute_result"
    }
   ],
   "source": [
    "a.columns"
   ]
  },
  {
   "cell_type": "code",
   "execution_count": 121,
   "metadata": {},
   "outputs": [
    {
     "data": {
      "text/plain": [
       "(array([ 92,  93,  94,  95,  96,  97,  98,  99, 100, 101, 102, 103, 104,\n",
       "        105, 106, 107, 211, 212, 227, 228, 229, 230, 231, 232, 233, 234,\n",
       "        235, 236, 237, 238, 239, 240, 241, 242, 243], dtype=int64),)"
      ]
     },
     "execution_count": 121,
     "metadata": {},
     "output_type": "execute_result"
    }
   ],
   "source": [
    "np.nonzero(np.array(a['baseline_mouse.x'][0]))"
   ]
  },
  {
   "cell_type": "code",
   "execution_count": 109,
   "metadata": {},
   "outputs": [
    {
     "data": {
      "text/plain": [
       "(array([ 91,  92,  93,  94,  95,  96,  97,  98,  99, 100, 101, 102, 103,\n",
       "        104, 105, 106, 226, 227, 228, 229, 230, 231, 232, 233, 234, 235,\n",
       "        236, 237, 238, 239, 240, 241, 242, 243], dtype=int64),)"
      ]
     },
     "execution_count": 109,
     "metadata": {},
     "output_type": "execute_result"
    }
   ],
   "source": []
  },
  {
   "cell_type": "code",
   "execution_count": 85,
   "metadata": {},
   "outputs": [],
   "source": [
    "total_time = gaussian_filter(c['transfer_fixation_feedback.started'] - c['transfer_fixation.started'], sigma = 2)"
   ]
  },
  {
   "cell_type": "code",
   "execution_count": 86,
   "metadata": {},
   "outputs": [
    {
     "data": {
      "text/plain": [
       "[<matplotlib.lines.Line2D at 0x1ccb7cea580>]"
      ]
     },
     "execution_count": 86,
     "metadata": {},
     "output_type": "execute_result"
    },
    {
     "data": {
      "image/png": "[encoded data removed]",
      "text/plain": [
       "<Figure size 432x288 with 1 Axes>"
      ]
     },
     "metadata": {
      "needs_background": "light"
     },
     "output_type": "display_data"
    }
   ],
   "source": [
    "plt.plot(total_time)"
   ]
  }
 ],
 "metadata": {
  "kernelspec": {
   "display_name": "Python 3",
   "language": "python",
   "name": "python3"
  },
  "language_info": {
   "codemirror_mode": {
    "name": "ipython",
    "version": 3
   },
   "file_extension": ".py",
   "mimetype": "text/x-python",
   "name": "python",
   "nbconvert_exporter": "python",
   "pygments_lexer": "ipython3",
   "version": "3.8.5"
  }
 },
 "nbformat": 4,
 "nbformat_minor": 4
}
