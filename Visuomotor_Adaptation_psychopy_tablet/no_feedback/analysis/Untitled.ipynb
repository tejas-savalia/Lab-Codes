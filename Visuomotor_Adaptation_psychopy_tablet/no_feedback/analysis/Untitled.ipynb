{
 "cells": [
  {
   "cell_type": "code",
   "execution_count": 1,
   "metadata": {},
   "outputs": [],
   "source": [
    "#%% Import libraries\n",
    "import numpy as np\n",
    "import matplotlib.pyplot as plt\n",
    "import csv\n",
    "import pandas as pd\n",
    "import ast\n",
    "from scipy.ndimage import gaussian_filter\n",
    "import pickle\n",
    "import scipy.stats"
   ]
  },
  {
   "cell_type": "code",
   "execution_count": 2,
   "metadata": {},
   "outputs": [],
   "source": [
    "#%%\n",
    "errors = np.zeros((768))\n",
    "its = np.zeros((768))\n",
    "mts = np.zeros((768))"
   ]
  },
  {
   "cell_type": "code",
   "execution_count": 3,
   "metadata": {},
   "outputs": [],
   "source": [
    "#%%\n",
    "def euclidean_dist(df):\n",
    "    errors = list()\n",
    "    for i in range(len(df)):\n",
    "        errors.append(np.sqrt((df['target_x'][i] - df['transfer_mouse.x'][i][-1])**2 + (df['target_y'][i] - df['transfer_mouse.y'][i][-1])**2))        \n",
    "\n",
    "    return errors       \n",
    "def angular_dist(vec1, vec2):\n",
    "    uv1 = vec1/np.linalg.norm(vec1)\n",
    "    uv2 = vec2/np.linalg.norm(vec2)\n",
    "    dot_prod = np.dot(uv1, uv2)\n",
    "    return np.arccos(dot_prod)\n",
    "\n",
    "def rotate(x, y, angle):\n",
    "    radians = (np.pi/180)*angle\n",
    "    cos_val = np.cos(radians)\n",
    "    sin_val = np.sin(radians)\n",
    "    nx = x*cos_val + y*sin_val\n",
    "    ny = y*cos_val - x*sin_val\n",
    "    return [nx, ny];\n"
   ]
  },
  {
   "cell_type": "code",
   "execution_count": null,
   "metadata": {},
   "outputs": [],
   "source": []
  },
  {
   "cell_type": "code",
   "execution_count": 48,
   "metadata": {},
   "outputs": [],
   "source": [
    "data = pd.read_csv('data//2016.csv')"
   ]
  },
  {
   "cell_type": "code",
   "execution_count": 61,
   "metadata": {},
   "outputs": [
    {
     "data": {
      "text/plain": [
       "'[0.0, 0.0, 0.0, 0.0, 0.0, 0.0, 0.0, 0.0, 0.0, 0.0, 0.0, 0.0, 0.0, 0.0, 0.0, 0.0, 0.0, 0.0, 0.0, 0.0, 0.0, 0.0, 0.0, 0.0, 0.0, 0.0, 0.0, 0.0, 0.0, 0.0, 0.0, 0.0, 0.0, 0.0, 0.0, 0.0, 0.0, 0.0, 0.0, 0.0, 0.0, 0.0, 0.0, 0.0, 0.0, 0.0, 0.0, 0.0, 0.0, 0.0, 0.0, 0.0, 0.0, 0.0, 0.0, 0.0, 0.0, 0.0, 0.0, 0.0, 0.0, 0.0, 0.0, 0.0, 0.0, 0.0, 0.0, 0.0, 0.0, 0.0, 0.0, 0.0, 0.0, 0.0, 0.0, 0.0, 0.0, 0.0, 0.0, 0.0, 0.0, 0.0, 0.0, 0.0, 0.0, 0.0, 0.0, 0.0, 0.0, 0.0, 0.0, 0.0, 0.0, 0.0, 0.0, 0.0, 0.0, 0.0, 0.0, 0.0, 0.0, 0.0, 0.0, 0.0, 0.0, 0.0, 0.0, 0.0, 0.0, 0.0, 0.0, 0.0, 0.0, 0.0, 0.0, 0.0, 0.0, 0.0, 0.0, 0.0, 0.0, 0.0, 0.0, 0.0, 0.0, 0.0, 0.0, 0.0, 0.0, 0.0, 0.0, 0.0, -0.10740740740740741, -0.10833333333333334, 0.0, 0.0, 0.0, 0.0, 0.0, -0.10462962962962963, 0.0, -0.1037037037037037, 0.0, -0.10185185185185185, -0.09907407407407408, -0.0962962962962963, 0.0, 0.0, 0.0, 0.0, 0.0, 0.0, 0.0, 0.0, 0.0, 0.0, 0.0, 0.0, 0.0, 0.0, 0.0, 0.0, -0.07407407407407407, -0.075, -0.0787037037037037, -0.08518518518518518, -0.0962962962962963, -0.10925925925925926, -0.12314814814814815, -0.14351851851851852, -0.16666666666666666, -0.1925925925925926, -0.2212962962962963, -0.2574074074074074, -0.29814814814814816, -0.33425925925925926, -0.3814814814814815]'"
      ]
     },
     "execution_count": 61,
     "metadata": {},
     "output_type": "execute_result"
    }
   ],
   "source": [
    "data['baseline_mouse.x'][12]"
   ]
  },
  {
   "cell_type": "code",
   "execution_count": 49,
   "metadata": {},
   "outputs": [],
   "source": [
    "def data_cleanup(data):\n",
    "    #Preliminary cleanup. Includes dropping NAs, separating in three sets and resetting indices to start from 0\n",
    "    data_baseline = data.dropna(subset = ['baseline_mouse.x'], inplace = False)\n",
    "    data_baseline.dropna('columns', inplace = True)\n",
    "    data_baseline.reset_index(drop = True, inplace = True)\n",
    "    \n",
    "    data_rotated = data.dropna(subset = ['rotated_mouse.x'], inplace = False)\n",
    "    data_rotated.dropna('columns', inplace = True)\n",
    "    data_rotated.reset_index(drop = True, inplace = True)\n",
    "    \n",
    "    data_transfer = data.dropna(subset = ['transfer_mouse.x'], inplace = False)\n",
    "    data_transfer.dropna('columns', inplace = True)\n",
    "    data_transfer.reset_index(drop = True, inplace = True)\n",
    "    \n",
    "    #Convert string lists to regular lists\n",
    "    for column in data_rotated.columns:\n",
    "        try:\n",
    "            data_rotated[column] = data_rotated[column].apply(ast.literal_eval)\n",
    "            data_baseline[column] = data_baseline[column].apply(ast.literal_eval)\n",
    "            data_transfer[column] = data_transfer[column].apply(ast.literal_eval)            \n",
    "        except:\n",
    "            print(column)\n",
    "    return data_baseline, data_rotated, data_transfer"
   ]
  },
  {
   "cell_type": "code",
   "execution_count": 50,
   "metadata": {},
   "outputs": [
    {
     "name": "stderr",
     "output_type": "stream",
     "text": [
      "<ipython-input-49-de0e4bdf1c57>:4: SettingWithCopyWarning: \n",
      "A value is trying to be set on a copy of a slice from a DataFrame\n",
      "\n",
      "See the caveats in the documentation: https://pandas.pydata.org/pandas-docs/stable/user_guide/indexing.html#returning-a-view-versus-a-copy\n",
      "  data_baseline.dropna('columns', inplace = True)\n",
      "<ipython-input-49-de0e4bdf1c57>:7: SettingWithCopyWarning: \n",
      "A value is trying to be set on a copy of a slice from a DataFrame\n",
      "\n",
      "See the caveats in the documentation: https://pandas.pydata.org/pandas-docs/stable/user_guide/indexing.html#returning-a-view-versus-a-copy\n",
      "  data_rotated.dropna('columns', inplace = True)\n",
      "<ipython-input-49-de0e4bdf1c57>:10: SettingWithCopyWarning: \n",
      "A value is trying to be set on a copy of a slice from a DataFrame\n",
      "\n",
      "See the caveats in the documentation: https://pandas.pydata.org/pandas-docs/stable/user_guide/indexing.html#returning-a-view-versus-a-copy\n",
      "  data_transfer.dropna('columns', inplace = True)\n",
      "<ipython-input-49-de0e4bdf1c57>:16: SettingWithCopyWarning: \n",
      "A value is trying to be set on a copy of a slice from a DataFrame.\n",
      "Try using .loc[row_indexer,col_indexer] = value instead\n",
      "\n",
      "See the caveats in the documentation: https://pandas.pydata.org/pandas-docs/stable/user_guide/indexing.html#returning-a-view-versus-a-copy\n",
      "  data_rotated[column] = data_rotated[column].apply(ast.literal_eval)\n"
     ]
    },
    {
     "name": "stdout",
     "output_type": "stream",
     "text": [
      "target_x\n",
      "target_y\n",
      "rotation\n",
      "blocks.thisRepN\n",
      "blocks.thisTrialN\n",
      "blocks.thisN\n",
      "blocks.thisIndex\n",
      "block_trials.thisRepN\n",
      "block_trials.thisTrialN\n",
      "block_trials.thisN\n",
      "block_trials.thisIndex\n",
      "rotated_enclosing_1.started\n",
      "rotated_enclosing_1.stopped\n",
      "rotated_enclosing.started\n",
      "rotated_enclosing.stopped\n",
      "rotated_target.started\n",
      "rotated_target.stopped\n",
      "rotated_fixation.started\n",
      "rotated_fixation.stopped\n",
      "rotated_mouse.x\n",
      "rotated_mouse.y\n",
      "rotated_mouse.leftButton\n",
      "rotated_mouse.midButton\n",
      "rotated_mouse.rightButton\n",
      "rotated_mouse.time\n",
      "rotated_mouse.started\n",
      "rotated_mouse.stopped\n",
      "rotated_enclosing_feedback_1.started\n",
      "rotated_enclosing_feedback_1.stopped\n",
      "rotated_enclosing_feedback.started\n",
      "rotated_enclosing_feedback.stopped\n",
      "rotated_target_feedback.started\n",
      "rotated_target_feedback.stopped\n",
      "rotated_fixation_feedback.started\n",
      "rotated_fixation_feedback.stopped\n",
      "rotated_score_text.started\n",
      "rotated_score_text.stopped\n",
      "participant\n",
      "session\n",
      "date\n",
      "expName\n",
      "psychopyVersion\n",
      "frameRate\n"
     ]
    }
   ],
   "source": [
    "data_baseline, data_rotated, data_transfer = data_cleanup(data)"
   ]
  },
  {
   "cell_type": "code",
   "execution_count": null,
   "metadata": {},
   "outputs": [],
   "source": []
  },
  {
   "cell_type": "code",
   "execution_count": null,
   "metadata": {},
   "outputs": [],
   "source": []
  },
  {
   "cell_type": "code",
   "execution_count": 52,
   "metadata": {},
   "outputs": [
    {
     "name": "stdout",
     "output_type": "stream",
     "text": [
      "here\n",
      "here\n",
      "here\n",
      "here\n",
      "here\n",
      "here\n",
      "here\n",
      "here\n",
      "here\n",
      "here\n",
      "here\n",
      "here\n",
      "here\n",
      "here\n",
      "here\n",
      "here\n",
      "here\n",
      "here\n",
      "here\n",
      "here\n",
      "here\n",
      "here\n",
      "here\n",
      "here\n",
      "here\n",
      "here\n",
      "here\n",
      "here\n",
      "here\n",
      "here\n",
      "here\n",
      "here\n",
      "here\n",
      "here\n",
      "here\n",
      "here\n",
      "here\n",
      "here\n",
      "here\n",
      "here\n",
      "here\n",
      "here\n",
      "here\n",
      "here\n",
      "here\n",
      "here\n",
      "here\n",
      "here\n",
      "here\n",
      "here\n",
      "here\n",
      "here\n",
      "here\n",
      "here\n",
      "here\n",
      "here\n",
      "here\n",
      "here\n",
      "here\n",
      "here\n",
      "here\n",
      "here\n",
      "here\n",
      "here\n"
     ]
    }
   ],
   "source": [
    "baseline_fix_pos = np.zeros((64, 2))\n",
    "for trial in range(64):\n",
    "    try:\n",
    "        baseline_fix_pos[trial][:] = np.array(rotate(data_baseline['baseline_mouse.x'][trial][-1], data_baseline['baseline_mouse.y'][trial][-1], 0))        \n",
    "    except:\n",
    "        print('here')\n",
    "\n",
    "rotated_fix_pos = np.zeros((640, 2))\n",
    "for trial in range(640):\n",
    "    try:\n",
    "        rotated_fix_pos[trial][:] = np.array(rotate(data_rotated['rotated_mouse.x'][trial][-1], data_rotated['rotated_mouse.y'][trial][-1], 90))        \n",
    "    except:\n",
    "        print('here')\n",
    "        \n",
    "transfer_fix_pos = np.zeros((64, 2))\n",
    "for trial in range(64):\n",
    "    try:\n",
    "        transfer_fix_pos[trial][:] = np.array(rotate(data_rotated['rotated_mouse.x'][trial][-1], data_rotated['rotated_mouse.y'][trial][-1], 0))        \n",
    "    except:\n",
    "        print('here')\n"
   ]
  },
  {
   "cell_type": "code",
   "execution_count": 53,
   "metadata": {},
   "outputs": [
    {
     "name": "stderr",
     "output_type": "stream",
     "text": [
      "<ipython-input-3-37506489b2d9>:9: RuntimeWarning: invalid value encountered in true_divide\n",
      "  uv1 = vec1/np.linalg.norm(vec1)\n"
     ]
    }
   ],
   "source": [
    "errors = np.zeros(768)\n",
    "ang_errors = np.zeros(768)\n",
    "for trial in range(64):\n",
    "    errors[trial] = np.sqrt((baseline_fix_pos[trial][0] - data_baseline['target_x'][trial])**2 + (baseline_fix_pos[trial][1] - data_baseline['target_y'][trial])**2)\n",
    "    ang_errors[trial] = angular_dist(baseline_fix_pos[trial], [data_baseline['target_x'][trial], data_baseline['target_y'][trial]])\n",
    "for trial in range(640):\n",
    "    errors[trial+64] = np.sqrt((rotated_fix_pos[trial][0] - data_rotated['target_x'][trial])**2 + (rotated_fix_pos[trial][1] - data_rotated['target_y'][trial])**2)\n",
    "    ang_errors[trial+64] = angular_dist(rotated_fix_pos[trial], [data_rotated['target_x'][trial], data_rotated['target_y'][trial]])\n",
    "for trial in range(64):\n",
    "    errors[trial+704] = np.sqrt((transfer_fix_pos[trial][0] - data_transfer['target_x'][trial])**2 + (transfer_fix_pos[trial][1] - data_transfer['target_y'][trial])**2)\n",
    "    ang_errors[trial+704] = angular_dist(transfer_fix_pos[trial], [data_transfer['target_x'][trial], data_transfer['target_y'][trial]])\n",
    "    "
   ]
  },
  {
   "cell_type": "code",
   "execution_count": 54,
   "metadata": {},
   "outputs": [
    {
     "data": {
      "text/plain": [
       "<matplotlib.legend.Legend at 0x17c678df490>"
      ]
     },
     "execution_count": 54,
     "metadata": {},
     "output_type": "execute_result"
    },
    {
     "data": {
      "image/png": "[encoded data removed]",
      "text/plain": [
       "<Figure size 432x288 with 1 Axes>"
      ]
     },
     "metadata": {
      "needs_background": "light"
     },
     "output_type": "display_data"
    }
   ],
   "source": [
    "plt_angular, = plt.plot(gaussian_filter(ang_errors, sigma = 2))\n",
    "plt_euclidean, = plt.plot(gaussian_filter(errors, sigma = 2))\n",
    "plt.legend((plt_angular, plt_euclidean), ('Angular Errors', \"Euclidean Errors\"))"
   ]
  },
  {
   "cell_type": "code",
   "execution_count": 57,
   "metadata": {},
   "outputs": [
    {
     "data": {
      "text/plain": [
       "array([0., 0.])"
      ]
     },
     "execution_count": 57,
     "metadata": {},
     "output_type": "execute_result"
    }
   ],
   "source": [
    "baseline_fix_pos[2]"
   ]
  },
  {
   "cell_type": "code",
   "execution_count": null,
   "metadata": {},
   "outputs": [],
   "source": [
    "\n"
   ]
  }
 ],
 "metadata": {
  "kernelspec": {
   "display_name": "Python 3",
   "language": "python",
   "name": "python3"
  },
  "language_info": {
   "codemirror_mode": {
    "name": "ipython",
    "version": 3
   },
   "file_extension": ".py",
   "mimetype": "text/x-python",
   "name": "python",
   "nbconvert_exporter": "python",
   "pygments_lexer": "ipython3",
   "version": "3.8.3"
  }
 },
 "nbformat": 4,
 "nbformat_minor": 4
}
