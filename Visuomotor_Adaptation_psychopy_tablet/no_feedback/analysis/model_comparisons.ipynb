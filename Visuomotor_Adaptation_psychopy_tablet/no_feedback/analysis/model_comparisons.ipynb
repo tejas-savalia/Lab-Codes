{
 "cells": [
  {
   "cell_type": "code",
   "execution_count": 1,
   "metadata": {},
   "outputs": [],
   "source": [
    "import scipy.io\n",
    "import numpy as np\n",
    "import matplotlib.pyplot as plt\n",
    "from ipywidgets import interact, interactive, fixed, interact_manual\n",
    "import ipywidgets as widgets\n",
    "import scipy.stats as stat\n",
    "from sklearn.linear_model import LinearRegression\n",
    "import statsmodels.api as sm\n",
    "import statsmodels.formula.api as smf\n",
    "from scipy import stats\n",
    "import pickle\n",
    "from sklearn.metrics import *\n",
    "import pandas as pd\n",
    "import seaborn as sns\n",
    "import statsmodels"
   ]
  },
  {
   "cell_type": "code",
   "execution_count": 2,
   "metadata": {},
   "outputs": [],
   "source": [
    "from all_models import *\n",
    "#from transfer_models import *"
   ]
  },
  {
   "cell_type": "code",
   "execution_count": 3,
   "metadata": {},
   "outputs": [],
   "source": [
    "# read fit values\n",
    "#fits_single = pickle.load(open('fit_single_CV_704.pickle', 'rb'))\n",
    "#fits_dual = pickle.load(open('fit_dual_CV_704.pickle', 'rb'))\n",
    "#fits_avg = pickle.load(open('fit_dual_fastavg_CV_704.pickle', 'rb'))\n",
    "#fits_eight = pickle.load(open('fit_dual_eight_CV_704.pickle', 'rb'))\n",
    "#fits_alpha = pickle.load(open('fit_dual_2alpha_CV_704.pickle', 'rb'))\n",
    "#fits_six = pickle.load(open('fit_six_CV_704.pickle', 'rb'))\n",
    "#fits_mixed = pickle.load(open('fit_mixed_CV_704.pickle', 'rb'))\n",
    "fits_single = pickle.load(open('fit_single_CV_640.pickle', 'rb'))\n",
    "fits_dual = pickle.load(open('fit_dual_CV_640.pickle', 'rb'))\n",
    "fits_hybrid = pickle.load(open('fit_hybrid_CV_704.pickle', 'rb'))\n",
    "#fits_single_transfer = pickle.load(open('fit_single_CV_transfer.pickle', 'rb'))\n",
    "#fits_dual_transfer = pickle.load(open('fit_dual_CV_transfer.pickle', 'rb'))\n",
    "\n",
    "curvatures_smooth = pickle.load(open('curvatures_smooth.pickle', 'rb'))\n",
    "curvatures_smooth = curvatures_smooth/90\n",
    "curvatures = pickle.load(open('curvatures.pickle', 'rb'))"
   ]
  },
  {
   "cell_type": "code",
   "execution_count": 43,
   "metadata": {},
   "outputs": [],
   "source": [
    "#fits_dual_nocv = pickle.load(open('dual_gridsearch_fits.pickle', 'rb'))\n",
    "#fits_single_nocv = pickle.load(open('fit_single_640_starting_point.pickle', 'rb'))\n",
    "fits = pickle.load(open('fit_nocv_640.pickle', 'rb'))\n",
    "fits_dual_cv = pickle.load(open('fit_dual_CV_640_bestfit_starting_point.pickle', 'rb'))\n",
    "fits_single_cv = pickle.load(open('fit_single_CV_640_bestfit_starting_point.pickle', 'rb'))\n",
    "\n"
   ]
  },
  {
   "cell_type": "code",
   "execution_count": 33,
   "metadata": {},
   "outputs": [
    {
     "data": {
      "text/plain": [
       "-360.60590753096716"
      ]
     },
     "execution_count": 33,
     "metadata": {},
     "output_type": "execute_result"
    }
   ],
   "source": []
  },
  {
   "cell_type": "code",
   "execution_count": 44,
   "metadata": {},
   "outputs": [],
   "source": [
    "fits_single_nocv = np.vstack(fits[:, 0])\n",
    "fits_dual_nocv = np.vstack(fits[:, 1])"
   ]
  },
  {
   "cell_type": "code",
   "execution_count": 46,
   "metadata": {},
   "outputs": [
    {
     "data": {
      "text/plain": [
       "-1265.3754745573249"
      ]
     },
     "execution_count": 46,
     "metadata": {},
     "output_type": "execute_result"
    }
   ],
   "source": [
    "fits_single_nocv[25, -1]"
   ]
  },
  {
   "cell_type": "code",
   "execution_count": 47,
   "metadata": {},
   "outputs": [],
   "source": [
    "#for participant in range(60):\n",
    "#    if fits_dual_nocv[participant, -1] > fits_single_nocv[participant, -1]:\n",
    "#        fits_dual_nocv[participant, -1] = fits_single_nocv[participant, -1]\n",
    "lr = (fits_single_nocv[:, -1]-fits_dual_nocv[:, -1])"
   ]
  },
  {
   "cell_type": "code",
   "execution_count": 48,
   "metadata": {},
   "outputs": [
    {
     "name": "stdout",
     "output_type": "stream",
     "text": [
      "649.7171558469461 649.2274768361743\n",
      "574.551207629837 469.34065234290404\n"
     ]
    }
   ],
   "source": [
    "p = 5\n",
    "print(fits_dual_nocv[p][-1], fits_single_nocv[p][-1])\n",
    "print(fits_dual_cv[0][p][-3], fits_single_cv[0][p][-3])"
   ]
  },
  {
   "cell_type": "code",
   "execution_count": null,
   "metadata": {},
   "outputs": [],
   "source": []
  },
  {
   "cell_type": "code",
   "execution_count": 45,
   "metadata": {},
   "outputs": [
    {
     "data": {
      "text/plain": [
       "array([], dtype=int64)"
      ]
     },
     "execution_count": 45,
     "metadata": {},
     "output_type": "execute_result"
    }
   ],
   "source": [
    "np.where(fits_single_nocv[:, -1] == fits_dual_nocv[:, -1])[0]"
   ]
  },
  {
   "cell_type": "code",
   "execution_count": 20,
   "metadata": {},
   "outputs": [
    {
     "data": {
      "text/plain": [
       "array([ 9.99999998e-01,  1.58984123e-03, -1.21998753e+02,  2.19968835e-01])"
      ]
     },
     "execution_count": 20,
     "metadata": {},
     "output_type": "execute_result"
    }
   ],
   "source": [
    "fits_single_nocv[np.where(fits_single_nocv[:, -1] == fits_dual_nocv[:, -1])[0][13]]"
   ]
  },
  {
   "cell_type": "code",
   "execution_count": 49,
   "metadata": {},
   "outputs": [],
   "source": [
    "AIC_single = fits_single_nocv[:, -1] + 6\n",
    "AIC_dual = fits_dual_nocv[:, -1] + 10\n",
    "\n",
    "BIC_single = fits_single_nocv[:, -1] + 3*np.log(640)\n",
    "BIC_dual = fits_dual_nocv[:, -1] + 5*np.log(640)"
   ]
  },
  {
   "cell_type": "code",
   "execution_count": 50,
   "metadata": {},
   "outputs": [],
   "source": [
    "p_val = stat.chi2.sf(lr, 2)"
   ]
  },
  {
   "cell_type": "code",
   "execution_count": 51,
   "metadata": {},
   "outputs": [
    {
     "data": {
      "text/plain": [
       "4"
      ]
     },
     "execution_count": 51,
     "metadata": {},
     "output_type": "execute_result"
    }
   ],
   "source": [
    "sum(BIC_dual < BIC_single)"
   ]
  },
  {
   "cell_type": "code",
   "execution_count": 52,
   "metadata": {},
   "outputs": [
    {
     "data": {
      "text/plain": [
       "7"
      ]
     },
     "execution_count": 52,
     "metadata": {},
     "output_type": "execute_result"
    }
   ],
   "source": [
    "sum(AIC_dual < AIC_single)"
   ]
  },
  {
   "cell_type": "code",
   "execution_count": 53,
   "metadata": {},
   "outputs": [],
   "source": [
    "chisq = np.repeat('single_selected', 64)\n",
    "chisq[p_val < 0.05] = 'dual_selected'\n",
    "aic = np.repeat('single_selected', 64)\n",
    "aic[np.where(AIC_dual < AIC_single)[0]] = 'dual_selected'\n",
    "bic = np.repeat('single_selected', 64)\n",
    "bic[np.where(BIC_dual < BIC_single)[0]] = 'dual_selected'\n",
    "\n"
   ]
  },
  {
   "cell_type": "code",
   "execution_count": 60,
   "metadata": {},
   "outputs": [
    {
     "data": {
      "text/plain": [
       "(array([ 8, 18, 24, 40, 44, 50, 56]),)"
      ]
     },
     "execution_count": 60,
     "metadata": {},
     "output_type": "execute_result"
    }
   ],
   "source": [
    "np.where(AIC_dual < AIC_single)"
   ]
  },
  {
   "cell_type": "code",
   "execution_count": null,
   "metadata": {},
   "outputs": [],
   "source": [
    "    "
   ]
  },
  {
   "cell_type": "code",
   "execution_count": 304,
   "metadata": {},
   "outputs": [],
   "source": [
    "#curvatures_smooth = pickle.load(open('avg_smooth.pickle', 'rb'))\n",
    "#curvatures_smooth = curvatures_smooth/90"
   ]
  },
  {
   "cell_type": "code",
   "execution_count": 55,
   "metadata": {},
   "outputs": [],
   "source": [
    "model_comparison_df = pd.DataFrame({'participant_id': np.arange(64),\n",
    "                                    'rotation': np.tile(['Sudden', 'Gradual'], 32),\n",
    "                                    'emphasis': np.repeat(['Accuracy', 'Speed'], 32),\n",
    "                                    'AIC': aic,\n",
    "                                    'BIC': bic,\n",
    "                                    'Chisq': chisq,\n",
    "                                    'A': fits_single_nocv[:, 0], \n",
    "                                    'B': fits_single_nocv[:, 1],\n",
    "                                    'Af': fits_dual_nocv[:, 0],\n",
    "                                    'Bf': fits_dual_nocv[:, 1],\n",
    "                                    'As': fits_dual_nocv[:, 2],\n",
    "                                    'Bs': fits_dual_nocv[:, 3],\n",
    "                                   })"
   ]
  },
  {
   "cell_type": "code",
   "execution_count": 56,
   "metadata": {},
   "outputs": [],
   "source": [
    "model_param = pd.melt(model_comparison_df, id_vars=['participant_id', 'rotation', 'emphasis', 'AIC', 'BIC', 'Chisq'], \n",
    "                           value_vars=['A', 'B', 'Af', 'Bf', 'As', 'Bs'], \n",
    "                           value_name=\"param_value\", var_name = \"param\")"
   ]
  },
  {
   "cell_type": "code",
   "execution_count": 57,
   "metadata": {},
   "outputs": [],
   "source": [
    "model_param['condition'] = model_param['rotation'] + ' ' + model_param['emphasis']"
   ]
  },
  {
   "cell_type": "code",
   "execution_count": 58,
   "metadata": {},
   "outputs": [],
   "source": [
    "model_param_dual_selected = model_param.query(\"AIC == 'dual_selected'\")"
   ]
  },
  {
   "cell_type": "code",
   "execution_count": 64,
   "metadata": {},
   "outputs": [
    {
     "data": {
      "image/png": "[encoded data removed]",
      "text/plain": [
       "<Figure size 546.025x360 with 1 Axes>"
      ]
     },
     "metadata": {},
     "output_type": "display_data"
    }
   ],
   "source": [
    "sns.set(font_scale = 1.5)\n",
    "sns.set_style('white')\n",
    "\n",
    "colors = ['#808A87', '#292421', '#808A87', '#292421']\n",
    "sns.set_palette(sns.color_palette(colors))\n",
    "\n",
    "g = sns.catplot(x = 'param',  y = 'param_value', \n",
    "                hue = 'Chisq',\n",
    "                data = model_param.query(\"param == 'B' or param == 'Bs' or param == 'Bf'\"), \n",
    "                capsize = 0.2, kind = 'bar')\n",
    "#hatches = ['//', '', '//', '', '//', '', '//', '', '//', '', '//', '']\n",
    "#num_locations = len(model_param.rotation.unique())\n",
    "#for i, patch in enumerate(g.ax.patches):\n",
    "#    patch.set_hatch(hatches[i])\n",
    "\n",
    "#sns.catplot(x = \"param\", y = \"param_value\", hue = 'rotation', row = 'AIC',  \n",
    "#            data = model_param.query(\"param == 'Af' or param == 'A' or param == 'As'\"), \n",
    "#            kind = 'bar', capsize = 0.3)\n",
    "#x1, x2 = 0, 1\n",
    "#y, h, col = 0.25, 0.01, 'k'\n",
    "#plt.plot([x1, x1, x2, x2], [y, y+h, y+h, y], lw=1.5, c=col)\n",
    "#plt.text((x1+x2)*.5, y+h-0.005, \"*\", ha='center', va='bottom', color=col)\n",
    "\n",
    "x1, x2 = 0, 2\n",
    "y, h, col = 0.2, 0.01, 'k'\n",
    "plt.plot([x1, x1, x2, x2], [y+0.02, y+h+0.02, y+h+0.02, y+0.02], lw=1.5, c=col)\n",
    "plt.text((x1+x2)*.5, y+h+0.015, \"*\", ha='center', va='bottom', color=col)\n",
    "\n",
    "x1, x2 = 0.75, 1.25\n",
    "y, h, col = 0.2, 0.01, 'k'\n",
    "plt.plot([x1, x1, x2, x2], [y, y+h, y+h, y], lw=1.5, c=col)\n",
    "plt.text((x1+x2)*.5, y+h-0.005, \"*\", ha='center', va='bottom', color=col)\n",
    "\n",
    "\n",
    "plt.ylabel('Parameter Value')\n",
    "plt.text(0.3, y+h+0.09-0.05, 'Learning Rates')\n",
    "plt.xlabel('Parameters')\n",
    "\n",
    "#\n",
    "plt.savefig('learning_rates.png', dpi = 600, bbox_inches = 'tight')"
   ]
  },
  {
   "cell_type": "code",
   "execution_count": 88,
   "metadata": {},
   "outputs": [
    {
     "data": {
      "text/html": [
       "<div>\n",
       "<style scoped>\n",
       "    .dataframe tbody tr th:only-of-type {\n",
       "        vertical-align: middle;\n",
       "    }\n",
       "\n",
       "    .dataframe tbody tr th {\n",
       "        vertical-align: top;\n",
       "    }\n",
       "\n",
       "    .dataframe thead th {\n",
       "        text-align: right;\n",
       "    }\n",
       "</style>\n",
       "<table border=\"1\" class=\"dataframe\">\n",
       "  <thead>\n",
       "    <tr style=\"text-align: right;\">\n",
       "      <th></th>\n",
       "      <th>df</th>\n",
       "      <th>sum_sq</th>\n",
       "      <th>mean_sq</th>\n",
       "      <th>F</th>\n",
       "      <th>PR(&gt;F)</th>\n",
       "    </tr>\n",
       "  </thead>\n",
       "  <tbody>\n",
       "    <tr>\n",
       "      <th>BIC</th>\n",
       "      <td>1.0</td>\n",
       "      <td>0.029605</td>\n",
       "      <td>0.029605</td>\n",
       "      <td>63.386943</td>\n",
       "      <td>9.236905e-13</td>\n",
       "    </tr>\n",
       "    <tr>\n",
       "      <th>param</th>\n",
       "      <td>1.0</td>\n",
       "      <td>0.000043</td>\n",
       "      <td>0.000043</td>\n",
       "      <td>0.092965</td>\n",
       "      <td>7.609527e-01</td>\n",
       "    </tr>\n",
       "    <tr>\n",
       "      <th>BIC:param</th>\n",
       "      <td>1.0</td>\n",
       "      <td>0.001423</td>\n",
       "      <td>0.001423</td>\n",
       "      <td>3.046246</td>\n",
       "      <td>8.340114e-02</td>\n",
       "    </tr>\n",
       "    <tr>\n",
       "      <th>Residual</th>\n",
       "      <td>124.0</td>\n",
       "      <td>0.057914</td>\n",
       "      <td>0.000467</td>\n",
       "      <td>NaN</td>\n",
       "      <td>NaN</td>\n",
       "    </tr>\n",
       "  </tbody>\n",
       "</table>\n",
       "</div>"
      ],
      "text/plain": [
       "              df    sum_sq   mean_sq          F        PR(>F)\n",
       "BIC          1.0  0.029605  0.029605  63.386943  9.236905e-13\n",
       "param        1.0  0.000043  0.000043   0.092965  7.609527e-01\n",
       "BIC:param    1.0  0.001423  0.001423   3.046246  8.340114e-02\n",
       "Residual   124.0  0.057914  0.000467        NaN           NaN"
      ]
     },
     "execution_count": 88,
     "metadata": {},
     "output_type": "execute_result"
    }
   ],
   "source": [
    "model = smf.ols('param_value ~ BIC*param', data = model_param.query(\" param == 'B' or param == 'Bf'\")).fit()\n",
    "sm.stats.anova_lm(model, type = 2)"
   ]
  },
  {
   "cell_type": "code",
   "execution_count": 299,
   "metadata": {},
   "outputs": [
    {
     "data": {
      "text/plain": [
       "Ttest_indResult(statistic=-3.1984803783910563, pvalue=0.002274498910513359)"
      ]
     },
     "execution_count": 299,
     "metadata": {},
     "output_type": "execute_result"
    }
   ],
   "source": [
    "stat.ttest_ind(model_param_dual_selected[model_param_dual_selected.param == 'B']['param_value'], model_param_dual_selected[model_param_dual_selected.param == 'Bf']['param_value'])"
   ]
  },
  {
   "cell_type": "code",
   "execution_count": 118,
   "metadata": {},
   "outputs": [
    {
     "data": {
      "text/plain": [
       "<seaborn.axisgrid.FacetGrid at 0x23c7e0f7df0>"
      ]
     },
     "execution_count": 118,
     "metadata": {},
     "output_type": "execute_result"
    },
    {
     "data": {
      "image/png": "[encoded data removed]",
      "text/plain": [
       "<Figure size 473.125x360 with 1 Axes>"
      ]
     },
     "metadata": {
      "needs_background": "light"
     },
     "output_type": "display_data"
    }
   ],
   "source": [
    "sns.catplot(x = \"param\", y = \"param_value\", hue = 'AIC', data = model_param.query(\"param == 'B' or param == 'Bf'\"), kind = 'bar', capsize = 0.3)"
   ]
  },
  {
   "cell_type": "code",
   "execution_count": 33,
   "metadata": {},
   "outputs": [
    {
     "data": {
      "text/html": [
       "<div>\n",
       "<style scoped>\n",
       "    .dataframe tbody tr th:only-of-type {\n",
       "        vertical-align: middle;\n",
       "    }\n",
       "\n",
       "    .dataframe tbody tr th {\n",
       "        vertical-align: top;\n",
       "    }\n",
       "\n",
       "    .dataframe thead th {\n",
       "        text-align: right;\n",
       "    }\n",
       "</style>\n",
       "<table border=\"1\" class=\"dataframe\">\n",
       "  <thead>\n",
       "    <tr style=\"text-align: right;\">\n",
       "      <th></th>\n",
       "      <th>df</th>\n",
       "      <th>sum_sq</th>\n",
       "      <th>mean_sq</th>\n",
       "      <th>F</th>\n",
       "      <th>PR(&gt;F)</th>\n",
       "    </tr>\n",
       "  </thead>\n",
       "  <tbody>\n",
       "    <tr>\n",
       "      <th>AIC</th>\n",
       "      <td>1.0</td>\n",
       "      <td>0.463251</td>\n",
       "      <td>0.463251</td>\n",
       "      <td>9.838970</td>\n",
       "      <td>2.006567e-03</td>\n",
       "    </tr>\n",
       "    <tr>\n",
       "      <th>param</th>\n",
       "      <td>2.0</td>\n",
       "      <td>4.940979</td>\n",
       "      <td>2.470490</td>\n",
       "      <td>52.470623</td>\n",
       "      <td>1.472911e-18</td>\n",
       "    </tr>\n",
       "    <tr>\n",
       "      <th>AIC:param</th>\n",
       "      <td>2.0</td>\n",
       "      <td>0.335405</td>\n",
       "      <td>0.167703</td>\n",
       "      <td>3.561827</td>\n",
       "      <td>3.047506e-02</td>\n",
       "    </tr>\n",
       "    <tr>\n",
       "      <th>Residual</th>\n",
       "      <td>174.0</td>\n",
       "      <td>8.192493</td>\n",
       "      <td>0.047083</td>\n",
       "      <td>NaN</td>\n",
       "      <td>NaN</td>\n",
       "    </tr>\n",
       "  </tbody>\n",
       "</table>\n",
       "</div>"
      ],
      "text/plain": [
       "              df    sum_sq   mean_sq          F        PR(>F)\n",
       "AIC          1.0  0.463251  0.463251   9.838970  2.006567e-03\n",
       "param        2.0  4.940979  2.470490  52.470623  1.472911e-18\n",
       "AIC:param    2.0  0.335405  0.167703   3.561827  3.047506e-02\n",
       "Residual   174.0  8.192493  0.047083        NaN           NaN"
      ]
     },
     "execution_count": 33,
     "metadata": {},
     "output_type": "execute_result"
    }
   ],
   "source": [
    "model = smf.ols('param_value ~ AIC*param', data = model_param.query(\"param == 'As' or param == 'A' or param == 'Af'\")).fit()\n",
    "sm.stats.anova_lm(model, type = 2)"
   ]
  },
  {
   "cell_type": "code",
   "execution_count": 39,
   "metadata": {},
   "outputs": [],
   "source": [
    "corr = model_comparison_df.corr()\n",
    "mask = np.triu(np.ones_like(corr, dtype=bool))"
   ]
  },
  {
   "cell_type": "code",
   "execution_count": 324,
   "metadata": {},
   "outputs": [
    {
     "data": {
      "text/plain": [
       "Ttest_indResult(statistic=4.380939211533341, pvalue=5.0187161561609644e-05)"
      ]
     },
     "execution_count": 324,
     "metadata": {},
     "output_type": "execute_result"
    }
   ],
   "source": [
    "stats.ttest_ind(model_comparison_df[model_comparison_df['BIC'] == 'dual_selected']['Bf'], model_comparison_df[model_comparison_df['BIC'] == 'single_selected']['Bf'])"
   ]
  },
  {
   "cell_type": "code",
   "execution_count": 61,
   "metadata": {},
   "outputs": [],
   "source": [
    "single_model_errors = np.zeros((60, 704))\n",
    "dual_model_errors = np.zeros((60, 704))\n",
    "\n",
    "single_r_est = np.zeros((60, 704))\n",
    "dual_r_est = np.zeros((60, 704))\n",
    "\n",
    "fast_est = np.zeros((60, 704))\n",
    "slow_est = np.zeros((60, 704))\n",
    "\n",
    "for participant in range(60):\n",
    "    if participant%4 == 0 or participant%4 == 1:\n",
    "        single_model_errors[participant], single_r_est[participant] = model_sudden(704, fits_single_nocv[participant][0], fits_single_nocv[participant][1])\n",
    "        dual_model_errors[participant], dual_r_est[participant], fast_est[participant], slow_est[participant] = dual_model_sudden(704, fits_dual_nocv[participant][0], fits_dual_nocv[participant][1], fits_dual_nocv[participant][3], fits_dual_nocv[participant][4])\n",
    "        \n",
    "    else:\n",
    "        single_model_errors[participant], single_r_est[participant] = model_gradual(704, fits_single_nocv[participant][0], fits_single_nocv[participant][1])\n",
    "        dual_model_errors[participant], dual_r_est[participant], fast_est[participant], slow_est[participant] = dual_model_gradual(704, fits_dual_nocv[participant][0], fits_dual_nocv[participant][1], fits_dual_nocv[participant][3], fits_dual_nocv[participant][4])\n"
   ]
  },
  {
   "cell_type": "code",
   "execution_count": 62,
   "metadata": {},
   "outputs": [],
   "source": [
    "dual_selected_fast_est = fast_est[np.unique(model_param.query(\"AIC == 'dual_selected'\")['participant_id'])]\n",
    "dual_selected_slow_est = slow_est[np.unique(model_param.query(\"AIC == 'dual_selected'\")['participant_id'])]\n",
    "\n",
    "dual_selected_single_error = single_model_errors[np.unique(model_param.query(\"AIC == 'dual_selected'\")['participant_id'])]\n",
    "dual_selected_dual_error = dual_model_errors[np.unique(model_param.query(\"AIC == 'dual_selected'\")['participant_id'])]\n",
    "\n",
    "dual_selected_single_r_est = single_r_est[np.unique(model_param.query(\"AIC == 'dual_selected'\")['participant_id'])]\n",
    "dual_selected_dual_r_est = dual_r_est[np.unique(model_param.query(\"AIC == 'dual_selected'\")['participant_id'])]\n"
   ]
  },
  {
   "cell_type": "code",
   "execution_count": 63,
   "metadata": {},
   "outputs": [],
   "source": [
    "curvatures_smooth = pickle.load(open('curvatures_smooth.pickle', 'rb'))/90"
   ]
  },
  {
   "cell_type": "code",
   "execution_count": 88,
   "metadata": {},
   "outputs": [
    {
     "data": {
      "text/plain": [
       "array([ 1,  3,  4,  5,  7,  8,  9, 13, 15, 16, 17, 20, 21, 25, 31, 32, 33,\n",
       "       35, 37, 39, 41, 43, 47, 49, 52, 53, 56, 57, 59])"
      ]
     },
     "execution_count": 88,
     "metadata": {},
     "output_type": "execute_result"
    }
   ],
   "source": []
  },
  {
   "cell_type": "code",
   "execution_count": 70,
   "metadata": {},
   "outputs": [],
   "source": [
    "dual_participants = np.unique(model_param.query(\"AIC == 'dual_selected'\")['participant_id'])"
   ]
  },
  {
   "cell_type": "code",
   "execution_count": 73,
   "metadata": {},
   "outputs": [],
   "source": [
    "curvatures_dual_participants = curvatures_smooth[dual_participants]"
   ]
  },
  {
   "cell_type": "code",
   "execution_count": 91,
   "metadata": {},
   "outputs": [],
   "source": [
    "dual_participants_rotation = np.zeros(len(dual_participants), dtype = object)\n",
    "dual_participants_emphasis = np.zeros(len(dual_participants), dtype = object)\n",
    "\n",
    "for i in range(len(dual_participants)):\n",
    "    if dual_participants[i]%4 == 0 or dual_participants[i]%4 == 1:\n",
    "        dual_participants_rotation[i] = 'Sudden'\n",
    "    else:\n",
    "        dual_participants_rotation[i] = 'Gradual'\n",
    "        \n",
    "    if dual_participants[i]%2 == 0:\n",
    "        dual_participants_emphasis[i] = 'Speed'\n",
    "    else:\n",
    "        dual_participants_emphasis[i] = 'Accuracy'\n",
    "        \n",
    "            "
   ]
  },
  {
   "cell_type": "code",
   "execution_count": null,
   "metadata": {},
   "outputs": [],
   "source": []
  },
  {
   "cell_type": "code",
   "execution_count": 76,
   "metadata": {},
   "outputs": [],
   "source": [
    "dual_washout_pred_dual_select = dual_selected_dual_error[:, 640:]\n",
    "single_washout_pred_dual_select = dual_selected_single_error[:, 640:]\n",
    "washout_errors_dual_select = curvatures_dual_participants[:, -1]"
   ]
  },
  {
   "cell_type": "code",
   "execution_count": 83,
   "metadata": {},
   "outputs": [],
   "source": [
    "corr_mat = np.zeros((29, 2))\n",
    "p_val_mat = np.zeros((29, 2))"
   ]
  },
  {
   "cell_type": "code",
   "execution_count": 84,
   "metadata": {},
   "outputs": [],
   "source": [
    "for participant in range(29):\n",
    "    corr_mat[participant][0], p_val_mat[participant][0] = stats.pearsonr(dual_washout_pred_dual_select[participant], washout_errors_dual_select[participant])\n",
    "    corr_mat[participant][1], p_val_mat[participant][1] = stats.pearsonr(single_washout_pred_dual_select[participant], washout_errors_dual_select[participant])\n",
    "    "
   ]
  },
  {
   "cell_type": "code",
   "execution_count": 95,
   "metadata": {},
   "outputs": [
    {
     "data": {
      "text/plain": [
       "array([[ 0.42123804,  0.86736272],\n",
       "       [ 0.67563921,  0.88917118],\n",
       "       [ 0.87433862,  0.91950939],\n",
       "       [ 0.68837901,  0.61290871],\n",
       "       [ 0.77204849,  0.93309761],\n",
       "       [-0.08669244,  0.4665874 ],\n",
       "       [ 0.50154523,  0.0289104 ],\n",
       "       [ 0.61112142,  0.82108807],\n",
       "       [ 0.18404922,  0.66107499],\n",
       "       [ 0.56036881,  0.33704815],\n",
       "       [ 0.84653289,  0.78696542],\n",
       "       [ 0.27572418,  0.79486647],\n",
       "       [ 0.4091289 ,  0.81931078],\n",
       "       [ 0.94681681,  0.84394352],\n",
       "       [ 0.90597854,  0.86751655],\n",
       "       [ 0.45340783,  0.33264223],\n",
       "       [ 0.73231298,  0.8699032 ],\n",
       "       [ 0.3557935 ,  0.76612368],\n",
       "       [ 0.84279981,  0.6335881 ],\n",
       "       [ 0.84532225,  0.91061533],\n",
       "       [ 0.93884453,  0.96014172],\n",
       "       [ 0.86436434,  0.69666083],\n",
       "       [ 0.68713172,  0.70467519],\n",
       "       [ 0.86140496,  0.5393333 ],\n",
       "       [ 0.00363447,  0.19585738],\n",
       "       [ 0.67238696,  0.82518242],\n",
       "       [ 0.43151884,  0.85111566],\n",
       "       [ 0.9234529 ,  0.49600187],\n",
       "       [-0.05026045,  0.36717215]])"
      ]
     },
     "execution_count": 95,
     "metadata": {},
     "output_type": "execute_result"
    }
   ],
   "source": [
    "corr_mat"
   ]
  },
  {
   "cell_type": "code",
   "execution_count": null,
   "metadata": {},
   "outputs": [],
   "source": []
  },
  {
   "cell_type": "code",
   "execution_count": 98,
   "metadata": {},
   "outputs": [],
   "source": [
    "washout_pred_df = pd.DataFrame({'participant_id': np.repeat(dual_participants, 2),\n",
    "                                'rotation': np.repeat(dual_participants_rotation, 2),\n",
    "                                'emphasis': np.repeat(dual_participants_emphasis, 2),\n",
    "                                'corr_label': np.tile(['dual_corr_washout', 'single_corr_washout'], len(dual_participants)),\n",
    "                                'correlations': np.ravel(corr_mat),\n",
    "                               })\n",
    "washout_pred_df['condition'] = washout_pred_df['rotation'] + '_' + washout_pred_df['emphasis']"
   ]
  },
  {
   "cell_type": "code",
   "execution_count": 101,
   "metadata": {},
   "outputs": [
    {
     "data": {
      "text/plain": [
       "<seaborn.axisgrid.FacetGrid at 0x1f4e7774eb0>"
      ]
     },
     "execution_count": 101,
     "metadata": {},
     "output_type": "execute_result"
    },
    {
     "data": {
      "image/png": "[encoded data removed]",
      "text/plain": [
       "<Figure size 486.5x360 with 1 Axes>"
      ]
     },
     "metadata": {
      "needs_background": "light"
     },
     "output_type": "display_data"
    }
   ],
   "source": [
    "sns.catplot(x = 'corr_label', y = 'correlations', hue = 'condition', data = washout_pred_df, kind='bar', capsize = 0.2)"
   ]
  }
 ],
 "metadata": {
  "kernelspec": {
   "display_name": "Python 3",
   "language": "python",
   "name": "python3"
  },
  "language_info": {
   "codemirror_mode": {
    "name": "ipython",
    "version": 3
   },
   "file_extension": ".py",
   "mimetype": "text/x-python",
   "name": "python",
   "nbconvert_exporter": "python",
   "pygments_lexer": "ipython3",
   "version": "3.8.5"
  }
 },
 "nbformat": 4,
 "nbformat_minor": 4
}
