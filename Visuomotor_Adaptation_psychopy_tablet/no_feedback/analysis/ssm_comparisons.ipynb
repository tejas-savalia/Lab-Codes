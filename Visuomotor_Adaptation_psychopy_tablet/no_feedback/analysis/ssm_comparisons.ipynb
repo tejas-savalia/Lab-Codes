{
 "cells": [
  {
   "cell_type": "code",
   "execution_count": 1,
   "metadata": {},
   "outputs": [],
   "source": [
    "import numpy as np\n",
    "import pandas as pd\n",
    "import matplotlib.pyplot as plt\n",
    "import seaborn as sns\n",
    "import pickle\n",
    "from all_models import dual_model_sudden, dual_model_gradual, model_sudden, model_gradual\n",
    "import scipy.stats as stat"
   ]
  },
  {
   "cell_type": "code",
   "execution_count": 2,
   "metadata": {},
   "outputs": [],
   "source": [
    "fits_dual = pickle.load(open('fit_dual_CV_704.pickle', 'rb'))\n",
    "fits_single = pickle.load(open('fit_single_CV_704.pickle', 'rb'))\n",
    "curvatures_smooth = pickle.load(open('curvatures_smooth.pickle', 'rb'))\n",
    "curvatures_smooth = curvatures_smooth/90"
   ]
  },
  {
   "cell_type": "code",
   "execution_count": null,
   "metadata": {},
   "outputs": [],
   "source": []
  },
  {
   "cell_type": "code",
   "execution_count": 14,
   "metadata": {},
   "outputs": [],
   "source": [
    "num_participants = 32\n",
    "dual_errors = np.zeros((100, num_participants, 704))\n",
    "single_errors = np.zeros((100, num_participants, 704))\n",
    "for i in range(100):\n",
    "    for participant in range(num_participants):\n",
    "        if participant%2 == 0:\n",
    "            dual_errors[i][participant] = dual_model_sudden(704, fits_dual[i][participant][0], fits_dual[i][participant][1], fits_dual[i][participant][2], fits_dual[i][participant][3])[0]\n",
    "            single_errors[i][participant] = model_sudden(704, fits_single[i][participant][0], fits_single[i][participant][1])[0]\n",
    "        else:\n",
    "            dual_errors[i][participant] = dual_model_gradual(704, fits_dual[i][participant][0], fits_dual[i][participant][1], fits_dual[i][participant][2], fits_dual[i][participant][3])[0]\n",
    "            single_errors[i][participant] = model_gradual(704, fits_single[i][participant][0], fits_single[i][participant][1])[0]"
   ]
  },
  {
   "cell_type": "code",
   "execution_count": 15,
   "metadata": {},
   "outputs": [],
   "source": [
    "ll_single = np.zeros((100, num_participants, 704))\n",
    "ll_dual = np.zeros((100, num_participants, 704))\n",
    "for i in range(100):\n",
    "    for participant in range(num_participants):\n",
    "        ll_dual[i][participant] = stat.norm.logpdf(np.ravel(curvatures_smooth[participant][1:]), dual_errors[i][participant], fits_dual[i][participant][5])\n",
    "        ll_single[i][participant] = stat.norm.logpdf(np.ravel(curvatures_smooth[participant][1:]), single_errors[i][participant], fits_single[i][participant][3])"
   ]
  },
  {
   "cell_type": "code",
   "execution_count": 23,
   "metadata": {},
   "outputs": [],
   "source": [
    "def get_lls(fits, ll, num_participants):\n",
    "    ll_rotate_train = np.zeros((100, num_participants))\n",
    "    ll_transfer_train = np.zeros((100, num_participants))\n",
    "    ll_rotate_test = np.zeros((100, num_participants))\n",
    "    ll_transfer_test = np.zeros((100, num_participants))\n",
    "    ll_all_test = np.zeros((100, num_participants))\n",
    "    ll_all_train = np.zeros((100, num_participants))\n",
    "\n",
    "    for i in range(100):\n",
    "        for participant in range(num_participants):\n",
    "            rotate_train_indices = fits[i][participant, -1][fits[i][participant, -1] < 640]\n",
    "            transfer_train_indices = fits[i][participant, -1][fits[i][participant, -1] >= 640]\n",
    "            \n",
    "            all_test_indices = np.delete(range(704), fits[i][participant, -1])\n",
    "            rotate_test_indices = all_test_indices[all_test_indices<640]\n",
    "            transfer_test_indices = all_test_indices[all_test_indices>=640]\n",
    "            #if rotate:\n",
    "            ll_rotate_train[i][participant] = sum(ll[i][participant][rotate_train_indices])\n",
    "            ll_rotate_test[i][participant] = sum(ll[i][participant][rotate_test_indices])\n",
    "            #else:\n",
    "            ll_transfer_train[i][participant] = sum(ll[i][participant][transfer_train_indices])\n",
    "            ll_transfer_test[i][participant] = sum(ll[i][participant][transfer_test_indices])\n",
    "            #Uncomment for combined rotate + transfer\n",
    "            ll_all_test[i][participant] = sum(ll[i][participant][all_test_indices])\n",
    "            ll_all_train[i][participant] = sum(ll[i][participant][fits[i][participant, -1]])\n",
    "            \n",
    "    return [ll_rotate_train, ll_rotate_test, ll_transfer_train, ll_transfer_test, ll_all_train, ll_all_test]"
   ]
  },
  {
   "cell_type": "code",
   "execution_count": 24,
   "metadata": {},
   "outputs": [],
   "source": [
    "ll_duals = np.array(get_lls(fits_dual, ll_dual, 32))\n",
    "ll_singles = np.array(get_lls(fits_single, ll_single, 32))"
   ]
  },
  {
   "cell_type": "code",
   "execution_count": 25,
   "metadata": {},
   "outputs": [],
   "source": [
    "def get_train_test_split(ll_selected, ll_compared, model_selected, num_participants):\n",
    "    d = {'Rotation': np.ravel(np.row_stack((np.repeat('Sudden', num_participants), np.repeat('Gradual', num_participants)))),\n",
    "     'Set': np.ravel(np.row_stack((np.repeat('Train', num_participants/2), np.repeat('Test', num_participants/2), np.repeat('Train', num_participants/2), np.repeat('Test', num_participants/2))))}\n",
    "    df = pd.DataFrame(d)\n",
    "    df[model_selected] = np.concatenate((\n",
    "    sum(ll_compared[4][:, 0::2] <= ll_selected[4][:, 0::2]), \n",
    "    sum(ll_compared[5][:, 0::2] <= ll_selected[5][:, 0::2]),\n",
    "\n",
    "    sum(ll_compared[4][:, 1::2] <= ll_selected[4][:, 1::2]), \n",
    "    sum(ll_compared[5][:, 1::2] <= ll_selected[5][:, 1::2]),\n",
    "    ))\n",
    "    return df"
   ]
  },
  {
   "cell_type": "code",
   "execution_count": 27,
   "metadata": {},
   "outputs": [],
   "source": [
    "df_train_test = get_train_test_split(ll_duals, ll_singles, \"Dual_Selected\", 32)"
   ]
  },
  {
   "cell_type": "code",
   "execution_count": 28,
   "metadata": {},
   "outputs": [
    {
     "data": {
      "text/plain": [
       "Text(0.5, 0.98, 'Compared to Single')"
      ]
     },
     "execution_count": 28,
     "metadata": {},
     "output_type": "execute_result"
    },
    {
     "data": {
      "image/png": "[encoded data removed]",
      "text/plain": [
       "<Figure size 648x432 with 2 Axes>"
      ]
     },
     "metadata": {
      "needs_background": "light"
     },
     "output_type": "display_data"
    }
   ],
   "source": [
    "g = sns.catplot(x=\"Rotation\", y=\"Dual_Selected\", col=\"Set\", \n",
    "                capsize=.2, height=6, aspect=.75,ci = 95,\n",
    "                kind = 'bar', data=df_train_test)\n",
    "plt.subplots_adjust(top=0.91)\n",
    "plt.ylim((0, 100))\n",
    "g.fig.suptitle('Compared to Single')\n"
   ]
  },
  {
   "cell_type": "code",
   "execution_count": 44,
   "metadata": {},
   "outputs": [],
   "source": [
    "df_train_test['Model_Selected'] = 1"
   ]
  },
  {
   "cell_type": "code",
   "execution_count": 45,
   "metadata": {},
   "outputs": [
    {
     "name": "stderr",
     "output_type": "stream",
     "text": [
      "<ipython-input-45-55495f3cb61d>:1: SettingWithCopyWarning: \n",
      "A value is trying to be set on a copy of a slice from a DataFrame\n",
      "\n",
      "See the caveats in the documentation: https://pandas.pydata.org/pandas-docs/stable/user_guide/indexing.html#returning-a-view-versus-a-copy\n",
      "  df_train_test['Model_Selected'][df_train_test['Dual_Selected'] < 50] = 0\n"
     ]
    }
   ],
   "source": [
    "df_train_test['Model_Selected'][df_train_test['Dual_Selected'] < 50] = 0"
   ]
  },
  {
   "cell_type": "code",
   "execution_count": 49,
   "metadata": {},
   "outputs": [
    {
     "data": {
      "text/html": [
       "<div>\n",
       "<style scoped>\n",
       "    .dataframe tbody tr th:only-of-type {\n",
       "        vertical-align: middle;\n",
       "    }\n",
       "\n",
       "    .dataframe tbody tr th {\n",
       "        vertical-align: top;\n",
       "    }\n",
       "\n",
       "    .dataframe thead th {\n",
       "        text-align: right;\n",
       "    }\n",
       "</style>\n",
       "<table border=\"1\" class=\"dataframe\">\n",
       "  <thead>\n",
       "    <tr style=\"text-align: right;\">\n",
       "      <th></th>\n",
       "      <th></th>\n",
       "      <th>Dual_Selected</th>\n",
       "      <th>Model_Selected</th>\n",
       "    </tr>\n",
       "    <tr>\n",
       "      <th>Rotation</th>\n",
       "      <th>Set</th>\n",
       "      <th></th>\n",
       "      <th></th>\n",
       "    </tr>\n",
       "  </thead>\n",
       "  <tbody>\n",
       "    <tr>\n",
       "      <th rowspan=\"2\" valign=\"top\">Gradual</th>\n",
       "      <th>Test</th>\n",
       "      <td>631</td>\n",
       "      <td>7</td>\n",
       "    </tr>\n",
       "    <tr>\n",
       "      <th>Train</th>\n",
       "      <td>599</td>\n",
       "      <td>7</td>\n",
       "    </tr>\n",
       "    <tr>\n",
       "      <th rowspan=\"2\" valign=\"top\">Sudden</th>\n",
       "      <th>Test</th>\n",
       "      <td>910</td>\n",
       "      <td>11</td>\n",
       "    </tr>\n",
       "    <tr>\n",
       "      <th>Train</th>\n",
       "      <td>914</td>\n",
       "      <td>10</td>\n",
       "    </tr>\n",
       "  </tbody>\n",
       "</table>\n",
       "</div>"
      ],
      "text/plain": [
       "                Dual_Selected  Model_Selected\n",
       "Rotation Set                                 \n",
       "Gradual  Test             631               7\n",
       "         Train            599               7\n",
       "Sudden   Test             910              11\n",
       "         Train            914              10"
      ]
     },
     "execution_count": 49,
     "metadata": {},
     "output_type": "execute_result"
    }
   ],
   "source": [
    "df_train_test.groupby(['Rotation', 'Set']).sum()"
   ]
  },
  {
   "cell_type": "code",
   "execution_count": 47,
   "metadata": {},
   "outputs": [
    {
     "data": {
      "text/html": [
       "<div>\n",
       "<style scoped>\n",
       "    .dataframe tbody tr th:only-of-type {\n",
       "        vertical-align: middle;\n",
       "    }\n",
       "\n",
       "    .dataframe tbody tr th {\n",
       "        vertical-align: top;\n",
       "    }\n",
       "\n",
       "    .dataframe thead th {\n",
       "        text-align: right;\n",
       "    }\n",
       "</style>\n",
       "<table border=\"1\" class=\"dataframe\">\n",
       "  <thead>\n",
       "    <tr style=\"text-align: right;\">\n",
       "      <th></th>\n",
       "      <th>Rotation</th>\n",
       "      <th>Set</th>\n",
       "      <th>Dual_Selected</th>\n",
       "      <th>Model_Selected</th>\n",
       "    </tr>\n",
       "  </thead>\n",
       "  <tbody>\n",
       "    <tr>\n",
       "      <th>0</th>\n",
       "      <td>Sudden</td>\n",
       "      <td>Train</td>\n",
       "      <td>96</td>\n",
       "      <td>1</td>\n",
       "    </tr>\n",
       "    <tr>\n",
       "      <th>1</th>\n",
       "      <td>Sudden</td>\n",
       "      <td>Train</td>\n",
       "      <td>0</td>\n",
       "      <td>0</td>\n",
       "    </tr>\n",
       "    <tr>\n",
       "      <th>2</th>\n",
       "      <td>Sudden</td>\n",
       "      <td>Train</td>\n",
       "      <td>86</td>\n",
       "      <td>1</td>\n",
       "    </tr>\n",
       "    <tr>\n",
       "      <th>3</th>\n",
       "      <td>Sudden</td>\n",
       "      <td>Train</td>\n",
       "      <td>90</td>\n",
       "      <td>1</td>\n",
       "    </tr>\n",
       "    <tr>\n",
       "      <th>4</th>\n",
       "      <td>Sudden</td>\n",
       "      <td>Train</td>\n",
       "      <td>0</td>\n",
       "      <td>0</td>\n",
       "    </tr>\n",
       "    <tr>\n",
       "      <th>...</th>\n",
       "      <td>...</td>\n",
       "      <td>...</td>\n",
       "      <td>...</td>\n",
       "      <td>...</td>\n",
       "    </tr>\n",
       "    <tr>\n",
       "      <th>59</th>\n",
       "      <td>Gradual</td>\n",
       "      <td>Test</td>\n",
       "      <td>73</td>\n",
       "      <td>1</td>\n",
       "    </tr>\n",
       "    <tr>\n",
       "      <th>60</th>\n",
       "      <td>Gradual</td>\n",
       "      <td>Test</td>\n",
       "      <td>1</td>\n",
       "      <td>0</td>\n",
       "    </tr>\n",
       "    <tr>\n",
       "      <th>61</th>\n",
       "      <td>Gradual</td>\n",
       "      <td>Test</td>\n",
       "      <td>0</td>\n",
       "      <td>0</td>\n",
       "    </tr>\n",
       "    <tr>\n",
       "      <th>62</th>\n",
       "      <td>Gradual</td>\n",
       "      <td>Test</td>\n",
       "      <td>42</td>\n",
       "      <td>0</td>\n",
       "    </tr>\n",
       "    <tr>\n",
       "      <th>63</th>\n",
       "      <td>Gradual</td>\n",
       "      <td>Test</td>\n",
       "      <td>4</td>\n",
       "      <td>0</td>\n",
       "    </tr>\n",
       "  </tbody>\n",
       "</table>\n",
       "<p>64 rows × 4 columns</p>\n",
       "</div>"
      ],
      "text/plain": [
       "   Rotation    Set  Dual_Selected  Model_Selected\n",
       "0    Sudden  Train             96               1\n",
       "1    Sudden  Train              0               0\n",
       "2    Sudden  Train             86               1\n",
       "3    Sudden  Train             90               1\n",
       "4    Sudden  Train              0               0\n",
       "..      ...    ...            ...             ...\n",
       "59  Gradual   Test             73               1\n",
       "60  Gradual   Test              1               0\n",
       "61  Gradual   Test              0               0\n",
       "62  Gradual   Test             42               0\n",
       "63  Gradual   Test              4               0\n",
       "\n",
       "[64 rows x 4 columns]"
      ]
     },
     "execution_count": 47,
     "metadata": {},
     "output_type": "execute_result"
    }
   ],
   "source": [
    "df_train_test"
   ]
  }
 ],
 "metadata": {
  "kernelspec": {
   "display_name": "Python 3",
   "language": "python",
   "name": "python3"
  },
  "language_info": {
   "codemirror_mode": {
    "name": "ipython",
    "version": 3
   },
   "file_extension": ".py",
   "mimetype": "text/x-python",
   "name": "python",
   "nbconvert_exporter": "python",
   "pygments_lexer": "ipython3",
   "version": "3.8.5"
  }
 },
 "nbformat": 4,
 "nbformat_minor": 4
}
