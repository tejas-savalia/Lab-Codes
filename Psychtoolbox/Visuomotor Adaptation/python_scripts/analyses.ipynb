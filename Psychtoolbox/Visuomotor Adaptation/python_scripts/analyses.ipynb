{
 "cells": [
  {
   "cell_type": "code",
   "execution_count": 1,
   "metadata": {},
   "outputs": [],
   "source": [
    "import scipy.io\n",
    "import numpy\n",
    "import matplotlib.pyplot as plt\n",
    "from ipywidgets import interact, interactive, fixed, interact_manual\n",
    "import ipywidgets as widgets\n",
    "import scipy.stats as stat\n",
    "from sklearn.linear_model import LinearRegression\n",
    "import statsmodels.api as sm\n",
    "import statsmodels.formula.api as smf\n",
    "from multiprocessing import Pool"
   ]
  },
  {
   "cell_type": "markdown",
   "metadata": {},
   "source": [
    "# Lineplots first!\n",
    "## Odd is Accuracy Even is Speed\n",
    "\n",
    "## 0 1 are sudden"
   ]
  },
  {
   "cell_type": "code",
   "execution_count": null,
   "metadata": {},
   "outputs": [],
   "source": []
  },
  {
   "cell_type": "code",
   "execution_count": null,
   "metadata": {},
   "outputs": [],
   "source": []
  },
  {
   "cell_type": "code",
   "execution_count": 2,
   "metadata": {},
   "outputs": [],
   "source": [
    "def lineplots(data, block, first, last):\n",
    "    traj = scipy.io.loadmat('data/participants/data{data}/actual_trajectories/trajectories{block}.mat'.format(block=str(block), data=str(data)))\n",
    "\n",
    "    for i in range(first,last):\n",
    "        plt.plot(traj['x'][0][i][0], traj['y'][0][i][0])\n"
   ]
  },
  {
   "cell_type": "code",
   "execution_count": 3,
   "metadata": {},
   "outputs": [
    {
     "data": {
      "application/vnd.jupyter.widget-view+json": {
       "model_id": "22fd29252f71432389b5b941cb2ae509",
       "version_major": 2,
       "version_minor": 0
      },
      "text/plain": [
       "interactive(children=(ToggleButtons(description='data', options=(1, 2, 3, 4, 5, 6, 7, 8, 9, 10, 11, 12, 13, 14…"
      ]
     },
     "metadata": {},
     "output_type": "display_data"
    },
    {
     "data": {
      "text/plain": [
       "<function __main__.lineplots(data, block, first, last)>"
      ]
     },
     "execution_count": 3,
     "metadata": {},
     "output_type": "execute_result"
    }
   ],
   "source": [
    "interact(lineplots, data = widgets.ToggleButtons(options = range(1,59)), block = widgets.IntSlider(max = 11, min = 0, value = 0, step = 1),\n",
    "        first = widgets.IntSlider(max = 63, min = 0, value = 0, step = 1), last = widgets.IntSlider(max = 64, min = 1, value = 1, step = 1))"
   ]
  },
  {
   "cell_type": "markdown",
   "metadata": {},
   "source": [
    "## Error Vs Time plots\n",
    "\n",
    "Divide Trajectories by 5. Calculate mean and standard deviation of difference between ideal and actual trajectories (both divided by 5) for all 64 trajectories in a block. \n",
    "From the movement time, calculate how long it took to finish each of these 5 trajectories. Calculate mean and standard deviation across 64 trials. \n",
    "\n",
    "This might as well just be equal to the mean and standard deviation of the **number** of points in each of those five quantiles for all trajectories.\n",
    "\n"
   ]
  },
  {
   "cell_type": "markdown",
   "metadata": {},
   "source": [
    "# Error Calculation\n",
    "Takes in a trajectory loaded from the mat file and calculates error by comparing minimum distance from x and y coordinates of the actual trajectory to the ideal trajectory"
   ]
  },
  {
   "cell_type": "code",
   "execution_count": 4,
   "metadata": {},
   "outputs": [],
   "source": [
    "#square_coord = scipy.io.loadmat('data/pilot/pilot_1/squares/coordinates/squares3.mat')\n",
    "#traj = scipy.io.loadmat('data/pilot/pilot_1/actual_trajectories/trajectories3.mat')\n",
    "#def calc_error(traj, square_coord):\n",
    "# The version above uses square coordinates\n",
    "def calc_error(traj):    \n",
    "    error = list()\n",
    "    for j in range(64):\n",
    "        traj_dist = list()\n",
    "        trajx, trajy = traj['x'][0][j][0], traj['y'][0][j][0]\n",
    "        #end_pointx, end_pointy  = square_coord['squareX'][0][j], square_coord['squareY'][0][j]\n",
    "        end_pointx, end_pointy  = traj['x'][0][j][0][-1], traj['y'][0][j][0][-1]\n",
    "\n",
    "        xline = numpy.linspace(0, end_pointx, 500)\n",
    "        yline = numpy.linspace(0, end_pointy, 500)\n",
    "\n",
    "        for i in range(len(trajx)):\n",
    "            xdist = min(numpy.absolute(xline-trajx[i]))\n",
    "            ydist = min(numpy.absolute(yline-trajy[i]))\n",
    "            dist = numpy.sqrt(xdist**2 + ydist**2)\n",
    "            traj_dist.append(dist)\n",
    "        error.append(traj_dist)\n",
    "    return error\n",
    "#dist = numpy.linalg.norm(numpy.cross(p2-p1, p1-p3))/numpy.linalg.norm(p2-p1)"
   ]
  },
  {
   "cell_type": "code",
   "execution_count": null,
   "metadata": {},
   "outputs": [],
   "source": [
    "#traj['x'][0][0][0][-1]"
   ]
  },
  {
   "cell_type": "code",
   "execution_count": null,
   "metadata": {},
   "outputs": [],
   "source": [
    "#calc_error(traj, square_coord)"
   ]
  },
  {
   "cell_type": "markdown",
   "metadata": {},
   "source": [
    "Participant 1 Gradual Change Accuracy emphasis\n",
    "\n",
    "Participant 2 Sudden change Accuracy emphasis\n",
    "\n",
    "Participant 3 Gradual change Speed emphasis\n",
    "\n",
    "# Time quintiles:\n",
    "X axis is cummulative sum of the number of samples in the trajectory, averaged across all trajectories. \n",
    "Y axis is the mean of error in that time quantile, averaged across all trajectories\n"
   ]
  },
  {
   "cell_type": "code",
   "execution_count": null,
   "metadata": {},
   "outputs": [],
   "source": [
    "def errorvstime(data, block):\n",
    "    traj = scipy.io.loadmat('data/participants/data{data}/actual_trajectories/trajectories{block}.mat'.format(block=str(block), data=str(data)))\n",
    "    ideal_traj = scipy.io.loadmat('data/participants/data{data}/ideal_trajectories/ideal_trajectories{block}.mat'.format(block = str(block), data=str(data)))\n",
    "    #squares = scipy.io.loadmat('data/participants/data{data}/squares/coordinates/squares{block}.mat'.format(block=str(block), data=str(data)))\n",
    "    #xdiff = (ideal_traj['idealXs'] - traj['x'])\n",
    "    #ydiff = (ideal_traj['idealYs'] - traj['y'])\n",
    "    error = calc_error(traj)[:64]\n",
    "    #error = xdiff**2+ydiff**2\n",
    "    #print (error)\n",
    "    error_means = numpy.zeros((64, 5))\n",
    "    for i in range(64):\n",
    "        n = len(error[i])\n",
    "        for j in range(5):\n",
    "#            error_means[i, j] = numpy.mean(error[i][int(numpy.floor((j)*n/5)):int(numpy.floor((j+1)*n/5))])\n",
    "            error_means[i, j] = numpy.median(error[i][int(numpy.floor((j)*n/5)):int(numpy.floor((j+1)*n/5))])\n",
    "         #error_means[i, ] = error_means[i, ]/max(error_means[i,])\n",
    "\n",
    "    \n",
    "    time_means = numpy.zeros((64, 5))\n",
    "\n",
    "    for i in range(64):\n",
    "        n = len(error[i])\n",
    "        for j in range(5):\n",
    "            time_means[i, j] = len(error[i][int(numpy.floor((j)*n/5)):int(numpy.floor((j+1)*n/5))])\n",
    "    times = numpy.cumsum(numpy.mean(time_means, axis = 0))\n",
    "    plt.errorbar(times, numpy.mean(error_means, axis = 0), xerr = stat.sem(time_means, axis = 0), yerr = stat.sem(error_means, axis = 0))\n",
    "    plt.ylabel('Error')\n",
    "    plt.xlabel('Time')\n",
    "    plt.xlim(0, 100)\n",
    "    plt.ylim(-20, 70)\n",
    "    return times, numpy.mean(error_means, axis = 0)"
   ]
  },
  {
   "cell_type": "code",
   "execution_count": null,
   "metadata": {},
   "outputs": [],
   "source": []
  },
  {
   "cell_type": "markdown",
   "metadata": {},
   "source": [
    "Calculate error vs time for each block collapsed across participants."
   ]
  },
  {
   "cell_type": "code",
   "execution_count": null,
   "metadata": {},
   "outputs": [],
   "source": [
    "times = numpy.zeros((59, 5))\n",
    "errors = numpy.zeros((59, 5))\n",
    "for i in range(1, 59):\n",
    "    if i == 7:\n",
    "        continue\n",
    "    temp = errorvstime(i, 11)\n",
    "    times[i] = temp[0]\n",
    "    errors[i] = temp[1] \n",
    "    #print (i)"
   ]
  },
  {
   "cell_type": "code",
   "execution_count": null,
   "metadata": {},
   "outputs": [],
   "source": []
  },
  {
   "cell_type": "code",
   "execution_count": null,
   "metadata": {},
   "outputs": [],
   "source": [
    "times_speed_sudden = numpy.zeros((59, 5))\n",
    "times_speed_gradual = numpy.zeros((59, 5))\n",
    "times_accuracy_sudden = numpy.zeros((59, 5))\n",
    "times_accuracy_gradual = numpy.zeros((59, 5))\n",
    "errors_speed_sudden = numpy.zeros((59, 5))\n",
    "errors_speed_gradual = numpy.zeros((59, 5))\n",
    "errors_accuracy_sudden = numpy.zeros((59, 5))\n",
    "errors_accuracy_gradual = numpy.zeros((59, 5))\n",
    "for i in range(len(times)):\n",
    "    if i%4 == 0:\n",
    "        times_speed_sudden[i] = times[i]\n",
    "        errors_speed_sudden[i] = errors[i]\n",
    "    elif i%4 == 1:\n",
    "        times_accuracy_sudden[i] = times[i]\n",
    "        errors_accuracy_sudden[i] = errors[i]\n",
    "    elif i%4 == 2:\n",
    "        times_speed_gradual[i] = times[i]\n",
    "        errors_speed_gradual[i] = errors[i]\n",
    "    elif i%4 == 3:\n",
    "        times_accuracy_gradual[i] = times[i]\n",
    "        errors_accuracy_gradual[i] = errors[i]\n",
    "       "
   ]
  },
  {
   "cell_type": "code",
   "execution_count": null,
   "metadata": {},
   "outputs": [],
   "source": [
    "times_speed_gradual = numpy.reshape(times_speed_gradual[numpy.nonzero(times_speed_gradual)], (int(len(times_speed_gradual[numpy.nonzero(times_speed_gradual)])/5), 5))\n",
    "errors_speed_gradual = numpy.reshape(errors_speed_gradual[numpy.nonzero(errors_speed_gradual)], (int(len(errors_speed_gradual[numpy.nonzero(errors_speed_gradual)])/5), 5))\n",
    "times_speed_sudden = numpy.reshape(times_speed_sudden[numpy.nonzero(times_speed_sudden)], (int(len(times_speed_sudden[numpy.nonzero(times_speed_sudden)])/5), 5))\n",
    "errors_speed_sudden = numpy.reshape(errors_speed_sudden[numpy.nonzero(errors_speed_sudden)], (int(len(errors_speed_sudden[numpy.nonzero(errors_speed_sudden)])/5), 5))\n",
    "times_accuracy_gradual = numpy.reshape(times_accuracy_gradual[numpy.nonzero(times_accuracy_gradual)], (int(len(times_accuracy_gradual[numpy.nonzero(times_accuracy_gradual)])/5), 5))\n",
    "errors_accuracy_gradual = numpy.reshape(errors_accuracy_gradual[numpy.nonzero(errors_accuracy_gradual)], (int(len(errors_accuracy_gradual[numpy.nonzero(errors_accuracy_gradual)])/5), 5))\n",
    "times_accuracy_sudden = numpy.reshape(times_accuracy_sudden[numpy.nonzero(times_accuracy_sudden)], (int(len(times_accuracy_sudden[numpy.nonzero(times_accuracy_sudden)])/5), 5))\n",
    "errors_accuracy_sudden = numpy.reshape(errors_accuracy_sudden[numpy.nonzero(errors_accuracy_sudden)], (int(len(errors_accuracy_sudden[numpy.nonzero(errors_accuracy_sudden)])/5), 5))\n"
   ]
  },
  {
   "cell_type": "code",
   "execution_count": null,
   "metadata": {},
   "outputs": [],
   "source": [
    "#numpy.mean(times_accuracy_gradual, axis = 0)\n",
    "#numpy.nanmean(errors_speed_sudden, axis = 0)\n",
    "#stat.sem(times_accuracy_gradual, axis = 0)\n",
    "#numpy.nanstd(errors_accuracy_gradual, axis = 0)/numpy.sqrt(errors_accuracy_gradual)\n",
    "#numpy.nanstd(errors_accuracy_gradual)\n",
    "\n",
    "numpy.shape(numpy.nonzero(times_accuracy_sudden))"
   ]
  },
  {
   "cell_type": "code",
   "execution_count": null,
   "metadata": {},
   "outputs": [],
   "source": [
    "fig,(ax1)=plt.subplots(1,1)\n",
    "ax1.errorbar(numpy.mean(times_speed_gradual, axis = 0), numpy.nanmean(errors_speed_gradual, axis = 0), xerr=stat.sem(times_speed_gradual, axis = 0), yerr=numpy.nanstd(errors_speed_gradual, axis = 0)/numpy.sqrt(len(errors_speed_gradual)), label = \"speed_gradual\")\n",
    "ax1.errorbar(numpy.mean(times_speed_sudden, axis = 0), numpy.nanmean(errors_speed_sudden, axis = 0), xerr=stat.sem(times_speed_sudden, axis = 0), yerr=numpy.nanstd(errors_speed_sudden, axis = 0)/numpy.sqrt(len(errors_speed_sudden)), label = \"speed_sudden\")\n",
    "ax1.errorbar(numpy.mean(times_accuracy_gradual, axis = 0), numpy.nanmean(errors_accuracy_gradual, axis = 0), xerr=stat.sem(times_accuracy_gradual, axis = 0), yerr=numpy.nanstd(errors_accuracy_gradual, axis = 0)/numpy.sqrt(len(errors_accuracy_gradual)), label = \"accuracy_gradual\")\n",
    "ax1.errorbar(numpy.mean(times_accuracy_sudden, axis = 0), numpy.nanmean(errors_accuracy_sudden, axis = 0), xerr=stat.sem(times_accuracy_sudden, axis = 0), yerr=numpy.nanstd(errors_accuracy_sudden, axis = 0)/numpy.sqrt(len(errors_accuracy_sudden)), label = \"accuracy_sudden\")\n",
    "ax1.legend()\n",
    "plt.xlabel('Mean time point in quintile')\n",
    "plt.ylabel('Error')\n"
   ]
  },
  {
   "cell_type": "markdown",
   "metadata": {},
   "source": [
    "# Time Bar plots"
   ]
  },
  {
   "cell_type": "code",
   "execution_count": null,
   "metadata": {},
   "outputs": [],
   "source": [
    "pos = [0, 1, 2, 3]\n",
    "handles = plt.bar(pos, [numpy.mean(times_speed_gradual), numpy.mean(times_accuracy_gradual), numpy.mean(times_speed_sudden), numpy.mean(times_accuracy_sudden)], yerr = [numpy.mean(stat.sem(times_speed_gradual)), numpy.mean(stat.sem(times_accuracy_gradual)), numpy.mean(stat.sem(times_speed_sudden)), numpy.mean(stat.sem(times_accuracy_sudden))], color = ['Blue', 'Green', 'Blue', 'Green'])\n",
    "plt.xticks([0.5, 2.5], ['Gradual', 'Sudden'])\n",
    "plt.ylabel('Times')\n",
    "plt.xlabel('Condition')\n",
    "\n",
    "plt.legend([handles[0], handles[1]], ['Speed', 'Accuracy'])\n",
    "#handles[0]"
   ]
  },
  {
   "cell_type": "code",
   "execution_count": null,
   "metadata": {},
   "outputs": [],
   "source": [
    "numpy.ravel(times_accuracy_gradual)"
   ]
  },
  {
   "cell_type": "code",
   "execution_count": null,
   "metadata": {},
   "outputs": [],
   "source": [
    "pos = [1, 2]\n",
    "yerr = [numpy.mean(stat.sem(numpy.concatenate((times_speed_gradual, times_accuracy_gradual)))), numpy.mean(stat.sem(numpy.concatenate((times_speed_sudden, times_accuracy_sudden))))]\n",
    "plt.bar(pos, [numpy.mean(numpy.concatenate((times_speed_gradual, times_accuracy_gradual))), numpy.mean(numpy.concatenate((times_speed_sudden, times_accuracy_sudden)))], yerr = yerr, color = 'blue')\n",
    "plt.xticks(pos, ['Gradual', 'Sudden'])\n",
    "plt.ylabel('Times')\n",
    "plt.xlabel('Condition')\n"
   ]
  },
  {
   "cell_type": "code",
   "execution_count": null,
   "metadata": {},
   "outputs": [],
   "source": [
    "pos = [0, 1]\n",
    "yerr = [numpy.mean(stat.sem(numpy.concatenate((times_speed_gradual, times_speed_sudden)))), numpy.mean(stat.sem(numpy.concatenate((times_accuracy_gradual, times_accuracy_sudden))))]\n",
    "plt.bar(pos, [numpy.mean(numpy.concatenate((times_speed_gradual, times_speed_sudden))), numpy.mean(numpy.concatenate((times_accuracy_gradual, times_accuracy_sudden)))], yerr = yerr)\n",
    "plt.xticks(pos, ['Speed', 'Accuracy'])\n",
    "plt.ylabel('Times')\n",
    "plt.xlabel('Condition')\n"
   ]
  },
  {
   "cell_type": "markdown",
   "metadata": {},
   "source": [
    "# Error Bar plots"
   ]
  },
  {
   "cell_type": "code",
   "execution_count": null,
   "metadata": {},
   "outputs": [],
   "source": [
    "pos = [0, 1, 2, 3]\n",
    "handles = plt.bar(pos, [numpy.nanmean(errors_speed_gradual), numpy.nanmean(errors_accuracy_gradual), numpy.nanmean(errors_speed_sudden), numpy.nanmean(errors_accuracy_sudden)], yerr = [numpy.mean(stat.sem(times_speed_gradual)), numpy.nanmean(stat.sem(errors_accuracy_gradual)), numpy.nanmean(stat.sem(times_speed_sudden)), numpy.mean(stat.sem(times_accuracy_sudden))], color = ['Blue', 'Green', 'Blue', 'Green'])\n",
    "plt.xticks([0.5, 2.5], ['Gradual', 'Sudden'])\n",
    "plt.ylabel('Error')\n",
    "plt.xlabel('Condition')\n",
    "plt.legend([handles[0], handles[1]], ['Speed', 'Accuracy'])\n"
   ]
  },
  {
   "cell_type": "code",
   "execution_count": null,
   "metadata": {},
   "outputs": [],
   "source": [
    "yerr = [numpy.nanmean(stat.sem(numpy.concatenate((errors_speed_gradual, errors_speed_sudden)))), numpy.nanmean(stat.sem(numpy.concatenate((errors_accuracy_gradual, errors_accuracy_sudden))))]\n",
    "plt.bar(['Speed', 'Accuracy'], [numpy.nanmean(numpy.concatenate((errors_speed_gradual, errors_speed_sudden))), numpy.nanmean(numpy.concatenate((errors_accuracy_gradual, errors_accuracy_sudden)))], yerr = yerr)\n",
    "plt.xlabel('Emphasis')\n",
    "plt.ylabel('Error')\n",
    "print (yerr)"
   ]
  },
  {
   "cell_type": "code",
   "execution_count": null,
   "metadata": {},
   "outputs": [],
   "source": [
    "yerr = [numpy.nanmean(stat.sem(numpy.concatenate((errors_speed_gradual, errors_accuracy_gradual)))), numpy.nanmean(stat.sem(numpy.concatenate((errors_speed_sudden, errors_accuracy_sudden))))]\n",
    "plt.bar(['Gradual', 'Sudden'], [numpy.nanmean(numpy.concatenate((errors_speed_gradual, errors_accuracy_gradual))), numpy.nanmean(numpy.concatenate((errors_speed_sudden, errors_accuracy_sudden)))], yerr = yerr)\n",
    "plt.xlabel('Condition')\n",
    "plt.ylabel('Error')\n",
    "print (yerr)"
   ]
  },
  {
   "cell_type": "code",
   "execution_count": null,
   "metadata": {},
   "outputs": [],
   "source": [
    "interact(errorvstime, data = widgets.ToggleButtons(options = range(1,27)), \n",
    "                      block = widgets.IntSlider(max = 11, min = 0, value = 0, step = 1))"
   ]
  },
  {
   "cell_type": "code",
   "execution_count": null,
   "metadata": {},
   "outputs": [],
   "source": [
    "def get_qdata(data):\n",
    "    mtq = numpy.quantile(data['mt'], numpy.array([0, 0.1, 0.3, 0.5, 0.7, 0.9, 1]))\n",
    "\n",
    "    rmspoints = list()\n",
    "    mtpoints = list()\n",
    "    for i in range(len(mtq)):\n",
    "        rmspoints.append(data['rmse'][numpy.where(data['mt']<mtq[i])[0], numpy.where(data['mt']<mtq[i])[1]])\n",
    "        mtpoints.append(data['mt'][numpy.where(data['mt']<mtq[i])[0], numpy.where(data['mt']<mtq[i])[1]])\n",
    "    return rmspoints, mtpoints"
   ]
  },
  {
   "cell_type": "code",
   "execution_count": null,
   "metadata": {},
   "outputs": [],
   "source": [
    "def qplots(data, qno):\n",
    "    rmspoints, mtpoints = get_qdata(data)\n",
    "    plt.hist2d(rmspoints[qno], mtpoints[qno])\n",
    "    "
   ]
  },
  {
   "cell_type": "code",
   "execution_count": null,
   "metadata": {},
   "outputs": [],
   "source": [
    "qplots(mat, 5)"
   ]
  },
  {
   "cell_type": "code",
   "execution_count": null,
   "metadata": {},
   "outputs": [],
   "source": [
    "interact(qplots, data = widgets.ToggleButtons(options = [mat, mat2, mat3]), qno = widgets.IntSlider(max = 6, min = 0, value = 0, step = 1))"
   ]
  },
  {
   "cell_type": "code",
   "execution_count": null,
   "metadata": {},
   "outputs": [],
   "source": [
    "def ztrans(data):\n",
    "    mt = data['mt']\n",
    "    rmse = data['rmse']\n",
    "    for i in range(10):\n",
    "        mt[i] = (mt[i] - numpy.mean(mt[i]))/numpy.std(mt[i])\n",
    "        rmse[i] = (rmse[i] - numpy.mean(rmse[i]))/numpy.std(rmse[i])\n",
    "    return (mt, rmse)"
   ]
  },
  {
   "cell_type": "code",
   "execution_count": null,
   "metadata": {},
   "outputs": [],
   "source": [
    "def block_plot(block, data):\n",
    "\n",
    "    mt, rmse = ztrans(data)\n",
    "    plt.hist2d(mt[block], rmse[block], bins = 10)\n",
    "    return"
   ]
  },
  {
   "cell_type": "code",
   "execution_count": null,
   "metadata": {},
   "outputs": [],
   "source": []
  },
  {
   "cell_type": "code",
   "execution_count": null,
   "metadata": {},
   "outputs": [],
   "source": [
    "interact(block_plot, block = widgets.IntSlider(min=0,max=9,step=1,value=0), data = widgets.ToggleButtons(options = [mat, mat2, mat3]))"
   ]
  },
  {
   "cell_type": "code",
   "execution_count": null,
   "metadata": {},
   "outputs": [],
   "source": [
    "def errorplots(data, block):\n",
    "    traj = scipy.io.loadmat('data/pilot/pilot_{data}/actual_trajectories/trajectories{block}.mat'.format(block=str(block), data=str(data)))\n",
    "    ideal_traj = scipy.io.loadmat('data/pilot/pilot_{data}/ideal_trajectories/ideal_trajectories{block}.mat'.format(block = str(block), data=str(data)))\n",
    "    xdiff = (ideal_traj['idealXs'] - traj['x'])\n",
    "    ydiff = (ideal_traj['idealYs'] - traj['y'])\n",
    "    error = xdiff**2+ydiff**2\n"
   ]
  },
  {
   "cell_type": "code",
   "execution_count": null,
   "metadata": {},
   "outputs": [],
   "source": [
    "errorplots(1, 1)"
   ]
  },
  {
   "cell_type": "code",
   "execution_count": null,
   "metadata": {},
   "outputs": [],
   "source": [
    "def errorvstime2(data, block):\n",
    "    traj = scipy.io.loadmat('data/pilot/pilot_{data}/actual_trajectories/trajectories{block}.mat'.format(block=str(block), data=str(data)))\n",
    "    ideal_traj = scipy.io.loadmat('data/pilot/pilot_{data}/ideal_trajectories/ideal_trajectories{block}.mat'.format(block = str(block), data=str(data)))\n",
    "\n",
    "    xdiff = (ideal_traj['idealXs'] - traj['x'])\n",
    "    ydiff = (ideal_traj['idealYs'] - traj['y'])\n",
    "    error = xdiff**2+ydiff**2\n",
    "\n",
    "    error_means = numpy.zeros((64, 5))\n",
    "    for i in range(64):\n",
    "        n = len(error[0][i][0])\n",
    "        for j in range(5):\n",
    "            error_means[i, j] = numpy.mean(error[0][i][0][int(numpy.floor((j)*n/5)):int(numpy.floor((j+1)*n/5))])\n",
    "        error_means[i, ] = error_means[i, ]\n",
    "\n",
    "\n",
    "    time_means = numpy.zeros((64, 5))\n",
    "    for i in range(64):\n",
    "        n = len(error[0][i][0])\n",
    "        for j in range(5):\n",
    "            time_means[i, j] = len(error[0][i][0][int(numpy.floor((j)*n/5)):int(numpy.floor((j+1)*n/5))])\n",
    "    times = numpy.cumsum(numpy.mean(time_means, axis = 0))\n",
    "    plt.errorbar(times, numpy.mean(error_means, axis = 0), xerr = numpy.std(time_means, axis = 0), yerr = numpy.std(error_means, axis = 0))\n"
   ]
  },
  {
   "cell_type": "code",
   "execution_count": null,
   "metadata": {},
   "outputs": [],
   "source": [
    "interact(errorvstime2, data = widgets.ToggleButtons(options = [1, 2, 3]), block = widgets.IntSlider(max = 11, min = 0, value = 0, step = 1))"
   ]
  },
  {
   "cell_type": "code",
   "execution_count": null,
   "metadata": {},
   "outputs": [],
   "source": [
    "def wald_fit(block, data):\n",
    "    means = list()\n",
    "    scales = list()\n",
    "    initial_times = scipy.io.loadmat('data/pilot/pilot_{data}/initial_time/initial_time{block}.mat'.format(data = data, block = block))\n",
    "    initial_times = initial_times['initial_time']\n",
    "    mean, scale = stat.wald.fit(initial_times)\n",
    "    #mean, sigma, tau = stat.exponnorm(initial_times)\n",
    "    if mean <= 0:\n",
    "        mean = 0.0000001\n",
    "    plt.hist(numpy.random.wald(mean, scale, size=10000))"
   ]
  },
  {
   "cell_type": "code",
   "execution_count": null,
   "metadata": {},
   "outputs": [],
   "source": [
    "interact(wald_fit, data = widgets.ToggleButtons(options = [1, 2, 3]), block = widgets.IntSlider(max = 11, min = 0, value = 0, step = 1))"
   ]
  },
  {
   "cell_type": "markdown",
   "metadata": {},
   "source": [
    "Likelihood of the data"
   ]
  },
  {
   "cell_type": "code",
   "execution_count": null,
   "metadata": {},
   "outputs": [],
   "source": [
    "def mle_waldfit(data, block):\n",
    "    #best_location = 0.0001\n",
    "    #best_scale = 0\n",
    "    #ter = 0\n",
    "    initial_times = scipy.io.loadmat('data/pilot/pilot_{data}/initial_time/initial_time{block}.mat'.format(data = data, block = block))\n",
    "    initial_times = initial_times['initial_time']\n",
    "\n",
    "    ll_old = float('-inf')\n",
    "    for non_dec_time in numpy.arange(0.001, 0.2, 0.001):\n",
    "        loc, scale = stat.wald.fit(initial_times)\n",
    "        #print (loc)\n",
    "        ll_new = numpy.product(stat.wald.pdf(initial_times - non_dec_time, loc, scale))\n",
    "        if ll_new > ll_old:\n",
    "            #print ('here')\n",
    "            ll_old = ll_new\n",
    "            best_location = loc\n",
    "            best_scale = scale\n",
    "            ter = non_dec_time\n",
    "    return ll_old, best_location, best_scale, ter"
   ]
  },
  {
   "cell_type": "code",
   "execution_count": null,
   "metadata": {},
   "outputs": [],
   "source": [
    "ll = numpy.zeros((3, 12))\n",
    "loc = numpy.zeros((3, 12))\n",
    "scale = numpy.zeros((3, 12))\n",
    "ter = numpy.zeros((3, 12))\n",
    "for data in range(3):\n",
    "    for block in range(12):\n",
    "        ll[data, block], loc[data, block], scale[data, block], ter[data, block] = mle_waldfit(data+1, block)\n",
    "        #print (data, block)"
   ]
  },
  {
   "cell_type": "code",
   "execution_count": null,
   "metadata": {},
   "outputs": [],
   "source": [
    "initial_times = list()\n",
    "for i in range(12):\n",
    "    initial_times_load = scipy.io.loadmat('data/pilot/pilot_{data}/initial_time/initial_time{block}.mat'.format(data = 1, block = i))\n",
    "    initial_times.append(numpy.concatenate(initial_times_load['initial_time']).tolist())\n",
    "initial_times = numpy.ravel(numpy.array(initial_times))"
   ]
  },
  {
   "cell_type": "code",
   "execution_count": null,
   "metadata": {},
   "outputs": [],
   "source": []
  },
  {
   "cell_type": "code",
   "execution_count": null,
   "metadata": {},
   "outputs": [],
   "source": [
    "numpy.exp(1)"
   ]
  },
  {
   "cell_type": "code",
   "execution_count": null,
   "metadata": {},
   "outputs": [],
   "source": [
    "def wald_logdensity(params):\n",
    "    #print (params)\n",
    "    drift, boundary = params\n",
    "    \n",
    "    exp = -(boundary - drift*initial_times)/(2*initial_times)\n",
    "    base = boundary/numpy.sqrt(2*numpy.pi*(initial_times**3))\n",
    "    density = base*numpy.exp(exp)\n",
    "   \n",
    "    return sum(-numpy.log(density))"
   ]
  },
  {
   "cell_type": "code",
   "execution_count": null,
   "metadata": {},
   "outputs": [],
   "source": [
    "ll = sum(numpy.log(wald_density(initial_times, 0.01, 0.1)))"
   ]
  },
  {
   "cell_type": "code",
   "execution_count": null,
   "metadata": {},
   "outputs": [],
   "source": [
    "ll_array = numpy.zeros((3, 1))\n",
    "boundary_array = numpy.zeros((3, 1))\n",
    "drift_array = numpy.zeros((3, 1))\n",
    "ter_array = numpy.zeros((3, 1))\n",
    "ll_old = float('-inf')\n",
    "count = 0\n",
    "for data in range(3):\n",
    "    initial_times = list()\n",
    "    for i in range(12):\n",
    "        initial_times_load = scipy.io.loadmat('data/pilot/pilot_{data}/initial_time/initial_time{block}.mat'.format(data = 1, block = i))\n",
    "        initial_times.append(numpy.concatenate(initial_times_load['initial_time']).tolist())\n",
    "    initial_times = numpy.ravel(numpy.array(initial_times))\n",
    "    for drift in numpy.arange(0.1, 1, 0.001):\n",
    "        for boundary in numpy.arange(0.1, 1, 0.001):\n",
    "            for ter in numpy.arange(0.08, 0.15, 0.001):\n",
    "                ll_new = sum(numpy.log(wald_density(initial_times - ter, drift, boundary)))\n",
    "                if ll_new > ll_old:\n",
    "                    ll_old = ll_new\n",
    "                    best_drift = drift\n",
    "                    best_boundary = boundary\n",
    "                    best_ter = ter\n",
    "    count = count + 1\n",
    "    ll_array[data,1] = ll_old\n",
    "    drift_array[data,1] = best_drift\n",
    "    boundary_array[data,1] = best_boundary\n",
    "    ter_array[data,1] = best_ter\n",
    "    print (count)"
   ]
  },
  {
   "cell_type": "code",
   "execution_count": null,
   "metadata": {},
   "outputs": [],
   "source": [
    "from scipy import optimize"
   ]
  },
  {
   "cell_type": "code",
   "execution_count": null,
   "metadata": {},
   "outputs": [],
   "source": [
    "initial_times = scipy.io.loadmat('data/pilot/pilot_{data}/initial_time/initial_time{block}.mat'.format(data = 1, block = 3))\n",
    "initial_times = initial_times['initial_time']\n",
    "optimize.minimize(wald_logdensity, (0.0001, 0.0001), method='nelder-mead', options={\"maxiter\":500})"
   ]
  },
  {
   "cell_type": "markdown",
   "metadata": {},
   "source": [
    "Boundary is how good my plan is. Boundary affected by speed/accuracy.\n",
    "\n",
    "Drift rate affected by gradual vs sudden."
   ]
  },
  {
   "cell_type": "code",
   "execution_count": null,
   "metadata": {},
   "outputs": [],
   "source": [
    "def errors(data, block):\n",
    "    traj = scipy.io.loadmat('data/participants/data{data}/actual_trajectories/trajectories{block}.mat'.format(block=str(block), data=str(data)))\n",
    "    ideal_traj = scipy.io.loadmat('data/participants/data{data}/ideal_trajectories/ideal_trajectories{block}.mat'.format(block = str(block), data=str(data)))\n",
    "    #print (traj)\n",
    "    #squares = scipy.io.loadmat('data/participants/data{data}/squares/coordinates/squares{block}.mat'.format(block=str(block), data=str(data)))\n",
    "    #xdiff = (ideal_traj['idealXs'] - traj['x'])\n",
    "    #ydiff = (ideal_traj['idealYs'] - traj['y'])\n",
    "    error = calc_error(traj)\n",
    "    return error"
   ]
  },
  {
   "cell_type": "code",
   "execution_count": null,
   "metadata": {},
   "outputs": [],
   "source": [
    "temp = errors(1, 1)"
   ]
  },
  {
   "cell_type": "code",
   "execution_count": null,
   "metadata": {},
   "outputs": [],
   "source": []
  },
  {
   "cell_type": "code",
   "execution_count": null,
   "metadata": {},
   "outputs": [],
   "source": [
    "error_sum = numpy.zeros((59, 12))\n",
    "error_std = numpy.zeros((59, 12))\n",
    "for participant in range(1, 59):\n",
    "    if participant  == 7:\n",
    "        continue\n",
    "    for block in range(12):\n",
    "        temp = errors(participant, block)\n",
    "        error_sum[participant, block] = numpy.mean(numpy.sum(temp, axis=0))\n",
    "        error_std[participant, block] = stat.sem(numpy.sum(temp, axis=0))\n",
    "\n",
    "        #error_sum1.append(numpy.mean(numpy.sum(errors(1, block), axis=0)))\n",
    "        #error_std1.append(numpy.std(numpy.sum(errors(1, block), axis=0)))\n",
    "        #error_sum2.append(numpy.mean(numpy.sum(errors(2, block), axis=0)))\n",
    "        #error_std2.append(numpy.std(numpy.sum(errors(2, block), axis=0)))\n",
    "        #error_sum3.append(numpy.mean(numpy.sum(errors(3, block), axis=0)))\n",
    "        #error_std3.append(numpy.std(numpy.sum(errors(3, block), axis=0)))    "
   ]
  },
  {
   "cell_type": "code",
   "execution_count": null,
   "metadata": {},
   "outputs": [],
   "source": [
    "plt.plot(numpy.mean((error_sum[1:-1:2]), axis = 0), 'k-')\n",
    "plt.plot(numpy.mean((error_sum[2:-1:2]), axis = 0), 'k-')\n",
    "\n",
    "plot1 = plt.fill_between(range(12), numpy.mean(error_sum[1:-1:2], axis = 0) + stat.sem(error_sum[1:-1:2]), numpy.mean(error_sum[1:-1:2], axis = 0) - stat.sem(error_sum[1:-1:2]), alpha = 0.5)\n",
    "plot2 = plt.fill_between(range(12), numpy.mean(error_sum[2:-1:2], axis = 0) + stat.sem(error_sum[2:-1:2]), numpy.mean(error_sum[2:-1:2], axis = 0) - stat.sem(error_sum[2:-1:2]), alpha = 0.5)\n",
    "plt.legend((plot1, plot2), (\"Accuracy\", \"Speed\"))\n",
    "#error_sum[3]\n",
    "#error_sum1\n",
    "plt.xlabel('Block')\n",
    "plt.ylabel('Error')"
   ]
  },
  {
   "cell_type": "code",
   "execution_count": null,
   "metadata": {},
   "outputs": [],
   "source": []
  },
  {
   "cell_type": "code",
   "execution_count": null,
   "metadata": {},
   "outputs": [],
   "source": [
    "plt.plot(numpy.mean(numpy.row_stack((error_sum[4:-1:4], error_sum[1:-1:4])), axis = 0), 'k-')\n",
    "plt.plot(numpy.mean(numpy.row_stack((error_sum[2:-1:4], error_sum[3:-1:4])), axis = 0), 'k-')\n",
    "\n",
    "plot1 = plt.fill_between(range(12), numpy.mean(numpy.row_stack((error_sum[4:-1:4], error_sum[1:-1:4])), axis = 0) + stat.sem(numpy.row_stack((error_sum[4:-1:4], error_sum[1:-1:4]))), numpy.mean(numpy.row_stack((error_sum[4:-1:4], error_sum[1:-1:4])), axis = 0) - stat.sem(numpy.row_stack((error_sum[4:-1:4], error_sum[1:-1:4]))), alpha = 0.5, color = 'red')\n",
    "plot2 = plt.fill_between(range(12), numpy.mean(numpy.row_stack((error_sum[2:-1:4], error_sum[3:-1:4])), axis = 0) + stat.sem(numpy.row_stack((error_sum[2:-1:4], error_sum[3:-1:4]))), numpy.mean(numpy.row_stack((error_sum[2:-1:4], error_sum[3:-1:4])), axis = 0) - stat.sem(numpy.row_stack((error_sum[2:-1:4], error_sum[3:-1:4]))), alpha = 0.5, color = 'green')\n",
    "plt.legend((plot1, plot2), (\"Sudden\", \"Gradual\"))\n",
    "#error_sum[3]\n",
    "#error_sum\n",
    "plt.xlabel('Block')\n",
    "plt.ylabel('Error')\n",
    "#plot1."
   ]
  },
  {
   "cell_type": "code",
   "execution_count": null,
   "metadata": {},
   "outputs": [],
   "source": [
    "bar1 = (numpy.mean(numpy.row_stack((error_sum[4:-1:4], error_sum[1:-1:4])), axis = 0)[1] - numpy.mean(numpy.row_stack((error_sum[4:-1:4], error_sum[1:-1:4])), axis = 0)[0])/numpy.mean(numpy.row_stack((error_sum[4:-1:4], error_sum[1:-1:4])), axis = 0)[0]\n",
    "bar2 = (numpy.mean(numpy.row_stack((error_sum[2:-1:4], error_sum[3:-1:4])), axis = 0)[-1] - numpy.mean(numpy.row_stack((error_sum[2:-1:4], error_sum[3:-1:4])), axis = 0)[-2])/numpy.mean(numpy.row_stack((error_sum[2:-1:4], error_sum[3:-1:4])), axis = 0)[-2]"
   ]
  },
  {
   "cell_type": "code",
   "execution_count": null,
   "metadata": {},
   "outputs": [],
   "source": [
    "#numpy.mean(numpy.row_stack((error_sum[4:-1:4], error_sum[1:-1:4])), axis = 0)[0]\n",
    "numpy.mean(numpy.row_stack((error_sum[2:-1:4], error_sum[3:-1:4])), axis = 0)[0]"
   ]
  },
  {
   "cell_type": "code",
   "execution_count": null,
   "metadata": {},
   "outputs": [],
   "source": [
    "ybar = [numpy.mean(numpy.row_stack((error_sum[4:-1:4], error_sum[1:-1:4])), axis = 0)[11] - numpy.mean(numpy.row_stack((error_sum[4:-1:4], error_sum[1:-1:4])), axis = 0)[10], numpy.mean(numpy.row_stack((error_sum[2:-1:4], error_sum[3:-1:4])), axis = 0)[11] - numpy.mean(numpy.row_stack((error_sum[2:-1:4], error_sum[3:-1:4])), axis = 0)[10]]\n",
    "#ybar = [numpy.mean(numpy.row_stack((error_sum[4:-1:4][:, -1], error_sum[1:-1:4][:, -1]))) - numpy.mean(numpy.concatenate((error_sum[4:-1:4][:, -2], error_sum[1:-1:4][:, -2]))), numpy.mean(numpy.concatenate((error_sum[4:-1:4][:, -1], error_sum[1:-1:4][:, -1]))) - numpy.mean(numpy.concatenate((error_sum[2:-1:4][:, -2], error_sum[3:-1:4][:, -2])))]\n",
    "yerr = [stat.sem(numpy.concatenate((error_sum[4:-1:4][:, -1], error_sum[1:-1:4][:, -1]))) - stat.sem(numpy.concatenate((error_sum[4:-1:4][:, -2], error_sum[1:-1:4][:, -2]))), stat.sem(numpy.concatenate((error_sum[2:-1:4][:, -1], error_sum[3:-1:4][:, -1]))) - stat.sem(numpy.concatenate((error_sum[2:-1:4][:, -2], error_sum[3:-1:4][:, -2])))]\n",
    "stat.sem(numpy.row_stack((error_sum[4:-1:4], error_sum[1:-1:4]))[:, 11] - numpy.row_stack((error_sum[4:-1:4], error_sum[1:-1:4]))[:, 10]), stat.sem(numpy.row_stack((error_sum[2:-1:4], error_sum[3:-1:4]))[:, 11] - numpy.row_stack((error_sum[2:-1:4], error_sum[3:-1:4]))[:, 10])\n",
    "plt.bar(['Gradual', 'Sudden'], [ybar[1], ybar[0]], yerr = [yerr[1], yerr[0]])\n",
    "plt.xlabel('Condition')\n",
    "plt.ylabel('Errors')\n",
    "plt.title('Error difference. Last block - Second last Block')"
   ]
  },
  {
   "cell_type": "code",
   "execution_count": null,
   "metadata": {},
   "outputs": [],
   "source": [
    "ybar = [numpy.mean(numpy.row_stack((error_sum[4:-1:4], error_sum[2:-1:4])), axis = 0)[11] - numpy.mean(numpy.row_stack((error_sum[4:-1:4], error_sum[2:-1:4])), axis = 0)[10], numpy.mean(numpy.row_stack((error_sum[1:-1:4], error_sum[3:-1:4])), axis = 0)[11] - numpy.mean(numpy.row_stack((error_sum[1:-1:4], error_sum[3:-1:4])), axis = 0)[10]]\n",
    "#ybar = [numpy.mean(numpy.row_stack((error_sum[4:-1:4][:, -1], error_sum[1:-1:4][:, -1]))) - numpy.mean(numpy.concatenate((error_sum[4:-1:4][:, -2], error_sum[1:-1:4][:, -2]))), numpy.mean(numpy.concatenate((error_sum[4:-1:4][:, -1], error_sum[1:-1:4][:, -1]))) - numpy.mean(numpy.concatenate((error_sum[2:-1:4][:, -2], error_sum[3:-1:4][:, -2])))]\n",
    "yerr = [stat.sem(numpy.concatenate((error_sum[4:-1:4][:, -1], error_sum[2:-1:4][:, -1]))) - stat.sem(numpy.concatenate((error_sum[4:-1:4][:, -2], error_sum[2:-1:4][:, -2]))), stat.sem(numpy.concatenate((error_sum[1:-1:4][:, -1], error_sum[3:-1:4][:, -1]))) - stat.sem(numpy.concatenate((error_sum[1:-1:4][:, -2], error_sum[3:-1:4][:, -2])))]\n",
    "yerr = [stat.sem(numpy.row_stack((error_sum[4:-1:4], error_sum[2:-1:4]))[:, 11] - numpy.row_stack((error_sum[4:-1:4], error_sum[2:-1:4]))[:, 10]), stat.sem(numpy.row_stack((error_sum[1:-1:4], error_sum[3:-1:4]))[:, 11] - numpy.row_stack((error_sum[1:-1:4], error_sum[3:-1:4]))[:, 10])]\n",
    "plt.bar(['Speed', 'Accuracy'], ybar, yerr = yerr)\n",
    "plt.xlabel('Condition')\n",
    "plt.ylabel('Errors')\n",
    "plt.title('Error difference. Last block - Second last Block')\n",
    "yerr"
   ]
  },
  {
   "cell_type": "code",
   "execution_count": null,
   "metadata": {},
   "outputs": [],
   "source": [
    "stat.sem(error_sum[4:-1:4][:,11] - error_sum[4:-1:4][:,10])"
   ]
  },
  {
   "cell_type": "code",
   "execution_count": null,
   "metadata": {},
   "outputs": [],
   "source": [
    "ybar = [numpy.mean(error_sum[2:-1:4], axis = 0)[11] - numpy.mean(error_sum[2:-1:4], axis = 0)[10], numpy.mean(error_sum[3:-1:4], axis = 0)[11] - numpy.mean(error_sum[3:-1:4], axis = 0)[10], numpy.mean(error_sum[4:-1:4], axis = 0)[11] - numpy.mean(error_sum[4:-1:4], axis = 0)[10], numpy.mean(error_sum[1:-1:4], axis = 0)[11] - numpy.mean(error_sum[1:-1:4], axis = 0)[10]]\n",
    "#stat.sem((error_sum[4:-1:4][:, 11] - (error_sum[4:-1:4], error_sum[2:-1:4]))[:, 10]), stat.sem(numpy.row_stack((error_sum[1:-1:4], error_sum[3:-1:4]))[:, 11] - numpy.row_stack((error_sum[1:-1:4], error_sum[3:-1:4]))[:, 10])\n",
    "yerr = [stat.sem(error_sum[4:-1:4][:, -1] - error_sum[4:-1:4][:, -2]), stat.sem(error_sum[1:-1:4][:, -1] - error_sum[1:-1:4][:, -2]), stat.sem(error_sum[2:-1:4][:, -1] - error_sum[2:-1:4][:, -2]), stat.sem(error_sum[3:-1:4][:, -1] - error_sum[3:-1:4][:, -2])]\n",
    "yerr = [stat.sem(error_sum[2:-1:4][:,11] - error_sum[2:-1:4][:,10]), stat.sem(error_sum[3:-1:4][:,11] - error_sum[3:-1:4][:,10]), stat.sem(error_sum[4:-1:4][:,11] - error_sum[4:-1:4][:,10]), stat.sem(error_sum[1:-1:4][:,11] - error_sum[1:-1:4][:,10])]\n",
    "handles = plt.bar([0, 1, 2, 3], ybar, yerr = yerr, color = ['Blue', 'Green', 'Blue', 'Green'])\n",
    "plt.xlabel('Condition')\n",
    "plt.ylabel('Errors')\n",
    "plt.xticks([0.5, 2.5], ['Gradual', 'Sudden'])\n",
    "plt.title('Error difference. Last block - Second last Block')\n",
    "plt.legend([handles[0], handles[1]], ['Speed', 'Accuracy'])"
   ]
  },
  {
   "cell_type": "code",
   "execution_count": null,
   "metadata": {},
   "outputs": [],
   "source": [
    "#ybar = [error_sum[2:-1:4] - error_sum[2:-1:4][10], numpy.mean(error_sum[3:-1:4], axis = 0)[11] - numpy.mean(error_sum[3:-1:4], axis = 0)[10], numpy.mean(error_sum[4:-1:4], axis = 0)[11] - numpy.mean(error_sum[4:-1:4], axis = 0)[10], numpy.mean(error_sum[1:-1:4], axis = 0)[11] - numpy.mean(error_sum[1:-1:4], axis = 0)[10]]\n",
    "y = [error_sum[2:-1:4][:, 11] - error_sum[2:-1:4][:, 10], error_sum[3:-1:4][:, 11] - error_sum[3:-1:4][:, 10], error_sum[4:-1:4][:, 11] - error_sum[4:-1:4][:, 10], error_sum[1:-1:4][:, 11] - error_sum[1:-1:4][:, 10]]\n",
    "for i in y[3]:\n",
    "    print (i)\n"
   ]
  },
  {
   "cell_type": "code",
   "execution_count": null,
   "metadata": {},
   "outputs": [],
   "source": [
    "plt.plot(numpy.mean((error_sum[1:-1:4]), axis = 0), 'k-')\n",
    "plt.plot(numpy.mean((error_sum[2:-1:4]), axis = 0), 'k-')\n",
    "plt.plot(numpy.mean((error_sum[3:-1:4]), axis = 0), 'k-')\n",
    "plt.plot(numpy.mean((error_sum[4:-1:4]), axis = 0), 'k-')\n",
    "\n",
    "plot1 = plt.fill_between(range(12), numpy.mean(error_sum[1:-1:2], axis = 0) + stat.sem(error_sum[1:-1:2]), numpy.mean(error_sum[1:-1:2], axis = 0) - stat.sem(error_sum[1:-1:2]), alpha = 0.5)\n",
    "plot2 = plt.fill_between(range(12), numpy.mean(error_sum[2:-1:2], axis = 0) + stat.sem(error_sum[2:-1:2]), numpy.mean(error_sum[2:-1:2], axis = 0) - stat.sem(error_sum[2:-1:2]), alpha = 0.5)\n",
    "plot3 = plt.fill_between(range(12), numpy.mean(error_sum[3:-1:2], axis = 0) + stat.sem(error_sum[3:-1:2]), numpy.mean(error_sum[3:-1:2], axis = 0) - stat.sem(error_sum[3:-1:2]), alpha = 0.5)\n",
    "plot4 = plt.fill_between(range(12), numpy.mean(error_sum[4:-1:2], axis = 0) + stat.sem(error_sum[4:-1:2]), numpy.mean(error_sum[4:-1:2], axis = 0) - stat.sem(error_sum[4:-1:2]), alpha = 0.5)\n",
    "\n",
    "plt.legend((plot1, plot2, plot3, plot4), (\"AS\", \"SG\", \"AG\", \"SS\"))\n",
    "#error_sum[3]\n",
    "#error_sum1\n",
    "plt.xlabel('Block')\n",
    "plt.ylabel('Error')"
   ]
  },
  {
   "cell_type": "code",
   "execution_count": null,
   "metadata": {},
   "outputs": [],
   "source": [
    "all_errors1 = numpy.zeros((10, 64))\n",
    "all_errors2 = numpy.zeros((10, 64))\n",
    "for i in range(10):\n",
    "    errors1 = errors(1, i)\n",
    "    errors2 = errors(3, i)\n",
    "    for j in range(64):\n",
    "        all_errors1[i,j] = numpy.sum(errors1[j])\n",
    "        all_errors2[i, j] = numpy.sum(errors2[j])\n",
    "#numpy.sum(errors(1, 1))"
   ]
  },
  {
   "cell_type": "code",
   "execution_count": null,
   "metadata": {},
   "outputs": [],
   "source": [
    "plt.axes([0, 0.6, 3, 1.5])\n",
    "plt.plot(numpy.ravel(all_errors1))\n",
    "plt.plot(numpy.ravel(all_errors2))\n"
   ]
  },
  {
   "cell_type": "code",
   "execution_count": null,
   "metadata": {},
   "outputs": [],
   "source": [
    "lm = LinearRegression()\n",
    "lm.fit(numpy.transpose([range(12)]), error_sum)"
   ]
  },
  {
   "cell_type": "code",
   "execution_count": null,
   "metadata": {},
   "outputs": [],
   "source": [
    "lm.predict(11)\n"
   ]
  },
  {
   "cell_type": "code",
   "execution_count": null,
   "metadata": {},
   "outputs": [],
   "source": [
    "error_sum[11]"
   ]
  },
  {
   "cell_type": "code",
   "execution_count": null,
   "metadata": {},
   "outputs": [],
   "source": []
  },
  {
   "cell_type": "code",
   "execution_count": null,
   "metadata": {},
   "outputs": [],
   "source": [
    "trial_errors = list()\n",
    "for i in range(12):\n",
    "    block_error = errors(1, i)\n",
    "    for j in range(64):\n",
    "        trial_errors.append(numpy.mean(block_error[j]))"
   ]
  },
  {
   "cell_type": "code",
   "execution_count": null,
   "metadata": {},
   "outputs": [],
   "source": [
    "plt.plot(trial_errors)"
   ]
  },
  {
   "cell_type": "code",
   "execution_count": null,
   "metadata": {},
   "outputs": [],
   "source": [
    "trial_errors = list()\n",
    "for i in range(12):\n",
    "    block_error = errors(2, i)\n",
    "    for j in range(64):\n",
    "        trial_errors.append(numpy.mean(block_error[j]))"
   ]
  },
  {
   "cell_type": "code",
   "execution_count": null,
   "metadata": {},
   "outputs": [],
   "source": [
    "ax = plt.axes()\n",
    "ax.plot(trial_errors)"
   ]
  },
  {
   "cell_type": "markdown",
   "metadata": {},
   "source": [
    "Error, movement time and initiation time in the same plot.\n",
    "Across groups\n",
    "Collapse movements across subjects in the group"
   ]
  },
  {
   "cell_type": "code",
   "execution_count": 5,
   "metadata": {},
   "outputs": [],
   "source": [
    "def times(data, block):\n",
    "    initial_time = scipy.io.loadmat('data/participants/data{data}/initial_time/initial_time{block}.mat'.format(block=str(block), data=str(data)))\n",
    "    movement_time = scipy.io.loadmat('data/participants/data{data}/movement_time/movement_time{block}.mat'.format(block = str(block), data=str(data)))\n",
    "    #squares = scipy.io.loadmat('data/participants/data{data}/squares/coordinates/squares{block}.mat'.format(block=str(block), data=str(data)))\n",
    "    #xdiff = (ideal_traj['idealXs'] - traj['x'])\n",
    "    #ydiff = (ideal_traj['idealYs'] - traj['y'])\n",
    "    return initial_time, movement_time\n"
   ]
  },
  {
   "cell_type": "code",
   "execution_count": null,
   "metadata": {},
   "outputs": [],
   "source": [
    "initial_times = numpy.zeros((27, 12))\n",
    "movement_times = numpy.zeros((27, 12))"
   ]
  },
  {
   "cell_type": "code",
   "execution_count": null,
   "metadata": {},
   "outputs": [],
   "source": [
    "for participant in range(1,27):\n",
    "    if participant == 7:\n",
    "        continue\n",
    "    for block in range(12):\n",
    "        initial_time, movement_time = times(participant, block)\n",
    "        initial_times[participant, block] = numpy.mean(initial_time['initial_time'])\n",
    "        movement_times[participant, block] = numpy.mean(movement_time['movement_time'])"
   ]
  },
  {
   "cell_type": "code",
   "execution_count": null,
   "metadata": {
    "scrolled": true
   },
   "outputs": [],
   "source": [
    "initial_times_mean_sudden = numpy.mean(numpy.row_stack((initial_times[4:-1:4], initial_times[1:-1:4])), axis = 0)\n",
    "initial_times_sem_sudden = stat.sem(numpy.row_stack((initial_times[4:-1:4], initial_times[1:-1:4])))\n",
    "plt.plot(initial_times_mean_sudden, 'k-')\n",
    "plot1 = plt.fill_between(range(12), initial_times_mean_sudden + initial_times_sem_sudden, initial_times_mean_sudden - initial_times_sem_sudden, alpha = 0.5)\n",
    "\n",
    "\n",
    "initial_times_mean_gradual = numpy.mean(numpy.row_stack((initial_times[2:-1:4], initial_times[3:-1:4])), axis = 0)\n",
    "initial_times_sem_gradual = stat.sem(numpy.row_stack((initial_times[2:-1:4], initial_times[3:-1:4])))\n",
    "plt.plot(initial_times_mean_gradual, 'k-')\n",
    "plot2 = plt.fill_between(range(12), initial_times_mean_gradual + initial_times_sem_gradual, initial_times_mean_gradual - initial_times_sem_gradual, alpha = 0.5)\n",
    "\n",
    "plt.legend((plot1, plot2), (\"Sudden\", \"Gradual\"))\n",
    "plt.xlabel('Block')\n",
    "plt.ylabel('Initial Times')"
   ]
  },
  {
   "cell_type": "code",
   "execution_count": null,
   "metadata": {},
   "outputs": [],
   "source": [
    "initial_times_mean_speed = numpy.mean(initial_times[2:-1:2], axis = 0)\n",
    "initial_times_sem_speed = stat.sem(initial_times[2:-1:2])\n",
    "plt.plot(initial_times_mean_speed, 'k-')\n",
    "plot1 = plt.fill_between(range(12), initial_times_mean_speed + initial_times_sem_speed, initial_times_mean_speed - initial_times_sem_speed, alpha = 0.5, color = 'red')\n",
    "\n",
    "\n",
    "initial_times_mean_accuracy = numpy.mean(initial_times[1:-1:2], axis = 0)\n",
    "initial_times_sem_accuracy = stat.sem(initial_times[1:-1:2])\n",
    "plt.plot(initial_times_mean_accuracy, 'k-')\n",
    "plot2 = plt.fill_between(range(12), initial_times_mean_accuracy + initial_times_sem_accuracy, initial_times_mean_accuracy - initial_times_sem_accuracy, alpha = 0.5, color = 'green')\n",
    "\n",
    "plt.legend((plot1, plot2), (\"Speed\", \"Accuracy\"))\n",
    "plt.xlabel('Block')\n",
    "plt.ylabel('Initial Time')"
   ]
  },
  {
   "cell_type": "code",
   "execution_count": null,
   "metadata": {},
   "outputs": [],
   "source": [
    "initial_times_mean_speed_gradual = numpy.mean(initial_times[2:-1:4], axis = 0)\n",
    "initial_times_sem_speed_gradual = stat.sem(initial_times[2:-1:4])\n",
    "plt.plot(initial_times_mean_speed_gradual, 'k-')\n",
    "plot1 = plt.fill_between(range(12), initial_times_mean_speed_gradual + initial_times_sem_speed_gradual, initial_times_mean_speed_gradual - initial_times_sem_speed_gradual, alpha = 0.5)\n",
    "\n",
    "initial_times_mean_accuracy_gradual = numpy.mean(initial_times[3:-1:4], axis = 0)\n",
    "initial_times_sem_accuracy_gradual = stat.sem(initial_times[3:-1:4])\n",
    "plt.plot(initial_times_mean_accuracy_gradual, 'k-')\n",
    "plot2 = plt.fill_between(range(12), initial_times_mean_accuracy_gradual + initial_times_sem_accuracy_gradual, initial_times_mean_accuracy_gradual - initial_times_sem_accuracy_gradual, alpha = 0.5)\n",
    "\n",
    "initial_times_mean_speed_sudden = numpy.mean(initial_times[4:-1:4], axis = 0)\n",
    "initial_times_sem_speed_sudden = stat.sem(initial_times[4:-1:4])\n",
    "plt.plot(initial_times_mean_speed_sudden, 'k-')\n",
    "plot3 = plt.fill_between(range(12), initial_times_mean_speed_sudden + initial_times_sem_speed_sudden, initial_times_mean_speed_sudden - initial_times_sem_speed_sudden, alpha = 0.5)\n",
    "\n",
    "initial_times_mean_accuracy_sudden = numpy.mean(initial_times[1:-1:4], axis = 0)\n",
    "initial_times_sem_accuracy_sudden = stat.sem(initial_times[1:-1:4])\n",
    "plt.plot(initial_times_mean_accuracy_sudden, 'k-')\n",
    "plot4 = plt.fill_between(range(12), initial_times_mean_accuracy_sudden + initial_times_sem_accuracy_sudden, initial_times_mean_accuracy_sudden - initial_times_sem_accuracy_sudden, alpha = 0.5)\n",
    "\n",
    "\n",
    "plt.legend((plot1, plot2, plot3, plot4), (\"SG\", \"AG\", \"SS\", \"AS\"))\n",
    "plt.xlabel('Block')\n",
    "plt.ylabel('Initial Time')"
   ]
  },
  {
   "cell_type": "code",
   "execution_count": null,
   "metadata": {},
   "outputs": [],
   "source": [
    "plt.bar(range(4), [initial_times_mean_accuracy_gradual[11] - initial_times_mean_accuracy_gradual[10], initial_times_mean_accuracy_sudden[11] - initial_times_mean_accuracy_sudden[10], initial_times_mean_speed_gradual[11] - initial_times_mean_speed_gradual[10], initial_times_mean_speed_sudden[11] - initial_times_mean_speed_sudden[10]])"
   ]
  },
  {
   "cell_type": "code",
   "execution_count": null,
   "metadata": {},
   "outputs": [],
   "source": [
    "ybar = [numpy.mean(initial_times[1:-1:2][11] - initial_times[1:-1:2][10]), numpy.mean(initial_times[2:-1:2][11] - initial_times[2:-1:2][10])]\n",
    "yerr = [stat.sem(initial_times[1:-1:2][11] - initial_times[1:-1:2][10]), stat.sem(initial_times[2:-1:2][11] - initial_times[2:-1:2][10])]\n",
    "plt.bar(range(2), ybar, yerr = yerr)"
   ]
  },
  {
   "cell_type": "code",
   "execution_count": null,
   "metadata": {},
   "outputs": [],
   "source": [
    "#numpy.mean(initial_times[1:-1:2][11])\n",
    "#initial_times_mean_accuracy[11]\n",
    "initial_times_mean_accuracy\n",
    "initial_times[1:-1:2][11]\n",
    "numpy.mean(initial_times[1:-1:2], axis = 0)"
   ]
  },
  {
   "cell_type": "code",
   "execution_count": null,
   "metadata": {},
   "outputs": [],
   "source": [
    "plt.bar(range(2), [movement_times_mean_sudden[11] - movement_times_mean_sudden[10], movement_times_mean_gradual[11] - movement_times_mean_gradual[10]])"
   ]
  },
  {
   "cell_type": "code",
   "execution_count": null,
   "metadata": {},
   "outputs": [],
   "source": [
    "movement_times_mean_sudden = numpy.mean(numpy.row_stack((movement_times[4:-1:4], movement_times[1:-1:4])), axis = 0)\n",
    "movement_times_sem_sudden = stat.sem(numpy.row_stack((movement_times[4:-1:4], movement_times[1:-1:4])))\n",
    "plt.plot(movement_times_mean_sudden, 'k-')\n",
    "plot1 = plt.fill_between(range(12), movement_times_mean_sudden + movement_times_sem_sudden, movement_times_mean_sudden - movement_times_sem_sudden, alpha = 0.5)\n",
    "\n",
    "\n",
    "movement_times_mean_gradual = numpy.mean(numpy.row_stack((movement_times[2:-1:4], movement_times[3:-1:4])), axis = 0)\n",
    "movement_times_sem_gradual = stat.sem(numpy.row_stack((movement_times[2:-1:4], movement_times[3:-1:4])))\n",
    "plt.plot(movement_times_mean_gradual, 'k-')\n",
    "plot2 = plt.fill_between(range(12), movement_times_mean_gradual + movement_times_sem_gradual, movement_times_mean_gradual - movement_times_sem_gradual, alpha = 0.5)\n",
    "\n",
    "plt.legend((plot1, plot2), (\"Sudden\", \"Gradual\"))\n",
    "plt.xlabel('Block')\n",
    "plt.ylabel('Movement Times')"
   ]
  },
  {
   "cell_type": "code",
   "execution_count": null,
   "metadata": {},
   "outputs": [],
   "source": [
    "movement_times_mean_speed = numpy.mean(movement_times[2:-1:2], axis = 0)\n",
    "movement_times_sem_speed = stat.sem(movement_times[2:-1:2])\n",
    "plt.plot(movement_times_mean_speed, 'k-')\n",
    "plot1 = plt.fill_between(range(12), movement_times_mean_speed + movement_times_sem_speed, movement_times_mean_speed - movement_times_sem_speed, alpha = 0.5, color = 'red')\n",
    "\n",
    "\n",
    "movement_times_mean_accuracy = numpy.mean(movement_times[1:-1:2], axis = 0)\n",
    "movement_times_sem_accuracy = stat.sem(movement_times[1:-1:2])\n",
    "plt.plot(movement_times_mean_accuracy, 'k-')\n",
    "plot2 = plt.fill_between(range(12), movement_times_mean_accuracy + movement_times_sem_accuracy, movement_times_mean_accuracy - movement_times_sem_accuracy, alpha = 0.5, color = 'green')\n",
    "\n",
    "plt.legend((plot1, plot2), (\"Speed\", \"Accuracy\"))\n",
    "plt.xlabel('Block')\n",
    "plt.ylabel('Movement Times')"
   ]
  },
  {
   "cell_type": "code",
   "execution_count": null,
   "metadata": {},
   "outputs": [],
   "source": [
    "fig, plot1 = plt.subplots()\n",
    "plot1.plot(numpy.mean(numpy.row_stack((error_sum[4:-1:4], error_sum[1:-1:4])), axis = 0), 'k-')\n",
    "plot1.plot(numpy.mean(numpy.row_stack((error_sum[2:-1:4], error_sum[3:-1:4])), axis = 0), 'k-')\n",
    "\n",
    "plot1 = plt.fill_between(range(12), numpy.mean(numpy.row_stack((error_sum[4:-1:4], error_sum[1:-1:4])), axis = 0) + stat.sem(numpy.row_stack((error_sum[4:-1:4], error_sum[1:-1:4]))), numpy.mean(numpy.row_stack((error_sum[4:-1:4], error_sum[1:-1:4])), axis = 0) - stat.sem(numpy.row_stack((error_sum[4:-1:4], error_sum[1:-1:4]))), alpha = 0.5)\n",
    "plot2 = plt.fill_between(range(12), numpy.mean(numpy.row_stack((error_sum[2:-1:4], error_sum[3:-1:4])), axis = 0) + stat.sem(numpy.row_stack((error_sum[2:-1:4], error_sum[3:-1:4]))), numpy.mean(numpy.row_stack((error_sum[2:-1:4], error_sum[3:-1:4])), axis = 0) - stat.sem(numpy.row_stack((error_sum[2:-1:4], error_sum[3:-1:4]))), alpha = 0.5)\n",
    "plt.legend((plot1, plot2), (\"Sudden\", \"Gradual\"))\n",
    "#error_sum[3]\n",
    "#error_sum\n",
    "plt.xlabel('Block')\n",
    "plt.ylabel('Error')\n",
    "#plot1.\n",
    "plot3 = plot1.twinx()\n",
    "initial_times_mean_sudden = numpy.mean(numpy.row_stack((initial_times[4:-1:4], initial_times[1:-1:4])), axis = 0)\n",
    "initial_times_sem_sudden = stat.sem(numpy.row_stack((initial_times[4:-1:4], initial_times[1:-1:4])))\n",
    "plt.plot(initial_times_mean_sudden, 'k-')\n",
    "plot1 = plt.fill_between(range(10), initial_times_mean_sudden + initial_times_sem_sudden, initial_times_mean_sudden - initial_times_sem_sudden, alpha = 0.5)\n",
    "\n",
    "\n",
    "initial_times_mean_gradual = numpy.mean(numpy.row_stack((initial_times[2:-1:4], initial_times[3:-1:4])), axis = 0)\n",
    "initial_times_sem_gradual = stat.sem(numpy.row_stack((initial_times[2:-1:4], initial_times[3:-1:4])))\n",
    "plt.plot(initial_times_mean_gradual, 'k-')\n",
    "plot2 = plt.fill_between(range(10), initial_times_mean_gradual + initial_times_sem_gradual, initial_times_mean_gradual - initial_times_sem_gradual, alpha = 0.5)\n",
    "\n",
    "plt.legend((plot1, plot2), (\"Sudden\", \"Gradual\"))\n",
    "\n",
    "movement_times_mean_sudden = numpy.mean(numpy.row_stack((movement_times[4:-1:4], movement_times[1:-1:4])), axis = 0)\n",
    "movement_times_sem_sudden = stat.sem(numpy.row_stack((movement_times[4:-1:4], movement_times[1:-1:4])))\n",
    "plt.plot(movement_times_mean_sudden, 'k-')\n",
    "plot1 = plt.fill_between(range(10), movement_times_mean_sudden + movement_times_sem_sudden, movement_times_mean_sudden - movement_times_sem_sudden, alpha = 0.5)\n",
    "\n",
    "\n",
    "movement_times_mean_gradual = numpy.mean(numpy.row_stack((movement_times[2:-1:4], movement_times[3:-1:4])), axis = 0)\n",
    "movement_times_sem_gradual = stat.sem(numpy.row_stack((movement_times[2:-1:4], movement_times[3:-1:4])))\n",
    "plt.plot(movement_times_mean_gradual, 'k-')\n",
    "plot2 = plt.fill_between(range(10), movement_times_mean_gradual + movement_times_sem_gradual, movement_times_mean_gradual - movement_times_sem_gradual, alpha = 0.5)\n",
    "\n",
    "plt.legend((plot1, plot2), (\"Sudden\", \"Gradual\"))"
   ]
  },
  {
   "cell_type": "code",
   "execution_count": null,
   "metadata": {},
   "outputs": [],
   "source": []
  },
  {
   "cell_type": "code",
   "execution_count": null,
   "metadata": {},
   "outputs": [],
   "source": [
    "score = error_sum[:, 1]"
   ]
  },
  {
   "cell_type": "code",
   "execution_count": null,
   "metadata": {},
   "outputs": [],
   "source": [
    "#speed emphasis is 1\n",
    "emphasis = numpy.zeros(len(score))\n",
    "emphasis[1:-1:2] = 1\n",
    "\n",
    "condition = numpy.zeros(len(score))\n",
    "condition[1:-1:4] = 1\n",
    "condition[0:-1:4] = 1\n",
    "condition"
   ]
  },
  {
   "cell_type": "code",
   "execution_count": null,
   "metadata": {},
   "outputs": [],
   "source": [
    "numpy.savetxt('error_anova.csv', numpy.column_stack((emphasis, condition, score)), delimiter=\",\")\n"
   ]
  },
  {
   "cell_type": "code",
   "execution_count": null,
   "metadata": {},
   "outputs": [],
   "source": [
    "lm = smf.OLS(score, numpy.column_stack((emphasis, condition))).fit()"
   ]
  },
  {
   "cell_type": "code",
   "execution_count": null,
   "metadata": {},
   "outputs": [],
   "source": [
    "print (lm.summary())"
   ]
  },
  {
   "cell_type": "code",
   "execution_count": null,
   "metadata": {},
   "outputs": [],
   "source": [
    "table = sm.stats.anova_lm(lm)"
   ]
  },
  {
   "cell_type": "markdown",
   "metadata": {},
   "source": [
    "\n",
    "distance from target vs time quantiles\n",
    "\n",
    "break blocks into 16 sets of trials\n",
    "\n",
    "error vs groups of trials\n",
    "\n",
    "Clean up data"
   ]
  },
  {
   "cell_type": "code",
   "execution_count": null,
   "metadata": {},
   "outputs": [],
   "source": [
    "numpy.column_stack((initial_times[1:-1:4][1], initial_times[4:-1:4][1])) - numpy.column_stack((initial_times[1:-1:4][0], initial_times[4:-1:4][0]))"
   ]
  },
  {
   "cell_type": "code",
   "execution_count": null,
   "metadata": {},
   "outputs": [],
   "source": [
    "numpy.concatenate((initial_times[1:-1:4,1], initial_times[4:-1:4, 1])) - numpy.concatenate((initial_times[1:-1:4,0], initial_times[4:-1:4, 0]))"
   ]
  },
  {
   "cell_type": "code",
   "execution_count": null,
   "metadata": {},
   "outputs": [],
   "source": [
    "numpy.concatenate((initial_times[1:-1:4,11], initial_times[4:-1:4, 11])) - numpy.concatenate((initial_times[1:-1:4,10], initial_times[4:-1:4, 10]))"
   ]
  },
  {
   "cell_type": "code",
   "execution_count": null,
   "metadata": {},
   "outputs": [],
   "source": [
    "def calc_dist(traj):    \n",
    "    distance = list()\n",
    "    for j in range(64):\n",
    "        traj_dist = list()\n",
    "        trajx, trajy = traj['x'][0][j][0], traj['y'][0][j][0]\n",
    "        #end_pointx, end_pointy  = square_coord['squareX'][0][j], square_coord['squareY'][0][j]\n",
    "        end_pointx, end_pointy  = traj['x'][0][j][0][-1], traj['y'][0][j][0][-1]\n",
    "\n",
    "\n",
    "        for i in range(len(trajx)):\n",
    "            xdist = numpy.absolute(end_pointx - trajx[i])\n",
    "            ydist = numpy.absolute(end_pointy-trajy[i])\n",
    "            dist = numpy.sqrt(xdist**2 + ydist**2)\n",
    "            traj_dist.append(dist)\n",
    "        distance.append(traj_dist)\n",
    "    return distance\n",
    "#dist = numpy.linalg.norm(numpy.cross(p2-p1, p1-p3))/numpy.linalg.norm(p2-p1)"
   ]
  },
  {
   "cell_type": "code",
   "execution_count": null,
   "metadata": {},
   "outputs": [],
   "source": [
    "def distancevstime(data, block):\n",
    "    traj = scipy.io.loadmat('data/participants/data{data}/actual_trajectories/trajectories{block}.mat'.format(block=str(block), data=str(data)))\n",
    "    ideal_traj = scipy.io.loadmat('data/participants/data{data}/ideal_trajectories/ideal_trajectories{block}.mat'.format(block = str(block), data=str(data)))\n",
    "    #squares = scipy.io.loadmat('data/participants/data{data}/squares/coordinates/squares{block}.mat'.format(block=str(block), data=str(data)))\n",
    "    #xdiff = (ideal_traj['idealXs'] - traj['x'])\n",
    "    #ydiff = (ideal_traj['idealYs'] - traj['y'])\n",
    "    distance = calc_dist(traj)\n",
    "    \n",
    "    #error = xdiff**2+ydiff**2\n",
    "    #print (error)\n",
    "    distance_means = numpy.zeros((64, 5))\n",
    "    for i in range(64):\n",
    "        n = len(distance[i])\n",
    "        for j in range(5):\n",
    "            distance_means[i, j] = numpy.nanmean(distance[i][int(numpy.floor((j)*n/5)):int(numpy.floor((j+1)*n/5))])\n",
    "        #error_means[i, ] = error_means[i, ]/max(error_means[i,])\n",
    "\n",
    "    \n",
    "    time_means = numpy.zeros((64, 5))\n",
    "\n",
    "    for i in range(64):\n",
    "        n = len(distance[i])\n",
    "        for j in range(5):\n",
    "            time_means[i, j] = len(distance[i][int(numpy.floor((j)*n/5)):int(numpy.floor((j+1)*n/5))])\n",
    "    times = numpy.cumsum(numpy.mean(time_means, axis = 0))\n",
    "    plt.errorbar(times, numpy.nanmean(distance_means, axis = 0), xerr = stat.sem(time_means, axis = 0), yerr = stat.sem(distance_means, axis = 0))\n",
    "    plt.ylabel('Distance')\n",
    "    plt.xlabel('Time')\n",
    "    #plt.xlim(0, 100)\n",
    "    #plt.ylim(-20, 70)\n",
    "    return times, numpy.nanmean(distance_means, axis = 0)"
   ]
  },
  {
   "cell_type": "code",
   "execution_count": null,
   "metadata": {},
   "outputs": [],
   "source": [
    "distss = numpy.array([])\n",
    "distas = numpy.array([])\n",
    "distsg = numpy.array([])\n",
    "distag = numpy.array([])\n",
    "timess = numpy.array([])\n",
    "timeas = numpy.array([])\n",
    "timesg = numpy.array([])\n",
    "timeag = numpy.array([])\n",
    "data = 11\n",
    "for participant in range(1, 27):\n",
    "    if participant == 7:\n",
    "        continue\n",
    "    if participant%4 == 0:\n",
    "        temp = distancevstime(participant, data)\n",
    "        distss = numpy.concatenate((distss, temp[1]))\n",
    "        timess = numpy.concatenate((timess, temp[0]))\n",
    "    if participant%4 == 1:\n",
    "        temp = distancevstime(participant, data)\n",
    "        distas = numpy.concatenate((distas, temp[1]))\n",
    "        timeas = numpy.concatenate((timeas, temp[0]))\n",
    "    if participant%4 == 2:\n",
    "        temp = distancevstime(participant, data)\n",
    "        distsg = numpy.concatenate((distsg, temp[1]))\n",
    "        timesg = numpy.concatenate((timesg, temp[0]))\n",
    "    if participant%4 == 3:\n",
    "        temp = distancevstime(participant, data)\n",
    "        distag = numpy.concatenate((distag, temp[1]))\n",
    "        timeag = numpy.concatenate((timeag, temp[0]))\n",
    "\n",
    "#    distancevstime(16, 11)\n"
   ]
  },
  {
   "cell_type": "code",
   "execution_count": null,
   "metadata": {},
   "outputs": [],
   "source": [
    "plot1, = plt.plot(numpy.nanmean(numpy.reshape(timess, (int(len(timess)/5), 5)), axis = 0), numpy.nanmean(numpy.reshape(distss, (int(len(distss)/5), 5)), axis = 0))\n",
    "plot2, = plt.plot(numpy.nanmean(numpy.reshape(timesg, (int(len(timesg)/5), 5)), axis = 0), numpy.nanmean(numpy.reshape(distsg, (int(len(distsg)/5), 5)), axis = 0))\n",
    "plot3, = plt.plot(numpy.nanmean(numpy.reshape(timeas, (int(len(timeas)/5), 5)), axis = 0), numpy.nanmean(numpy.reshape(distas, (int(len(distas)/5), 5)), axis = 0))\n",
    "plot4, = plt.plot(numpy.nanmean(numpy.reshape(timeag, (int(len(timeag)/5), 5)), axis = 0), numpy.nanmean(numpy.reshape(distag, (int(len(distag)/5), 5)), axis = 0))\n",
    "\n",
    "plt.legend((plot1, plot2, plot3, plot4), ('SS', 'SG', 'AS', 'AG'))\n",
    "plt.xlabel('Time')\n",
    "plt.ylabel('Distance to target')"
   ]
  },
  {
   "cell_type": "markdown",
   "metadata": {},
   "source": [
    "# Fitting Wald\n",
    "1. Wald simulator using current parameters generate samples\n",
    "2. Calculate gsquared using actual data\n",
    "2. Minimize gsquared error"
   ]
  },
  {
   "cell_type": "markdown",
   "metadata": {},
   "source": [
    "1. Calculate quantile points from a wald simulator with current parameters.\n",
    "2. Calculate observed frequencies based on these quantile points.\n",
    "3. Calculate G-Squared with ideal frequencies in bins as expected frequencies"
   ]
  },
  {
   "cell_type": "code",
   "execution_count": 50,
   "metadata": {},
   "outputs": [],
   "source": [
    "def wald_simulator(boundary, drift, non_dec_time, num_samples):\n",
    "    \n",
    "    #time-steps of the random walk\n",
    "    ts = 0.01\n",
    "    #diffusion coefficient\n",
    "    dc = 0.1\n",
    "    scaled_drift = drift*ts\n",
    "    scaled_standard_dev = numpy.sqrt((dc**2)*ts)\n",
    "    rt = list()\n",
    "    for i in range(num_samples):\n",
    "        out = 0\n",
    "        pos = 0\n",
    "        count = 0\n",
    "        while (out == 0):\n",
    "            pos = pos + numpy.random.normal(scaled_drift, scaled_standard_dev, size = 1)\n",
    "            count = count+1\n",
    "            if pos > boundary:\n",
    "                out = 1\n",
    "        rt.append(count*ts - non_dec_time)\n",
    "    return rt"
   ]
  },
  {
   "cell_type": "code",
   "execution_count": 8,
   "metadata": {},
   "outputs": [],
   "source": [
    "def wald_simulator_quantiles(param):\n",
    "    boundary = param[0]\n",
    "    drift = param[1]\n",
    "    non_dec_time = param[2]\n",
    "    rts = wald_simulator(boundary, drift, non_dec_time, 100)\n",
    "    rt_quantiles = numpy.quantile(rts, [0.1, 0.3, 0.5, 0.7, 0.9])\n",
    "    return rt_quantiles"
   ]
  },
  {
   "cell_type": "code",
   "execution_count": null,
   "metadata": {},
   "outputs": [],
   "source": []
  },
  {
   "cell_type": "code",
   "execution_count": 9,
   "metadata": {},
   "outputs": [],
   "source": [
    "def param_constraint(param):\n",
    "    penalty = 0\n",
    "    if param[0] < 0:\n",
    "        penalty += 100\n",
    "        param[0] = 0.0001\n",
    "    if param[1] < 0:\n",
    "        penalty += 100\n",
    "        param[1] = 0.0001\n",
    "    if param[2] < 0:\n",
    "        penalty += 100\n",
    "        param[2] = 0.0001\n",
    "        \n",
    "    \n",
    "    return param, penalty"
   ]
  },
  {
   "cell_type": "code",
   "execution_count": 73,
   "metadata": {},
   "outputs": [],
   "source": [
    "its = numpy.zeros((58, 10, 64))\n",
    "for participant in range(1, 58):\n",
    "    if participant == 7:\n",
    "        continue\n",
    "    for i in range(10):\n",
    "        it, mt = times(participant, i+1)\n",
    "        its[participant, i] = it['initial_time'][:, 0]"
   ]
  },
  {
   "cell_type": "code",
   "execution_count": 123,
   "metadata": {},
   "outputs": [
    {
     "data": {
      "text/plain": [
       "(array([  9.,   5.,   9.,   6.,  10.,   5.,   4.,   6.,  11.,  19.,  35.,\n",
       "         64., 110., 189., 299., 483., 613., 800., 864., 938., 898., 910.,\n",
       "        886., 810., 723., 618., 583., 531., 478., 384., 367., 304., 292.,\n",
       "        238., 217., 195., 165., 168., 160., 139., 135., 100., 114., 104.,\n",
       "         93.,  96.,  87.,  72.,  64.,  60.,  69.,  55.,  64.,  58.,  60.,\n",
       "         42.,  32.,  46.,  33.,  39.,  33.,  29.,  25.,  12.,  23.,  21.,\n",
       "         23.,  12.,  15.,  13.,  13.,  15.,  15.,   8.,  13.,  10.,  16.,\n",
       "          8.,  10.,   9.,   8.,   6.,   9.,   5.,   8.,   6.,   5.,   4.,\n",
       "         11.,   6.,   6.,   8.,   5.,   6.,   1.,   5.,   7.,   7.,   4.,\n",
       "          3.,   5.,   5.,   6.,  11.,   3.,   5.,   2.,   3.,   7.,   6.,\n",
       "          5.,   1.,   4.,   3.,   4.,   1.,   2.,   4.,   2.,   6.,   2.,\n",
       "          5.,   5.,   1.,   4.,   3.,   2.,   0.,   2.,   1.,   3.,   0.,\n",
       "          1.,   4.,   4.,   2.,   0.,   2.,   3.,   0.,   2.,   0.,   3.,\n",
       "          1.,   1.,   5.,   2.,   2.,   2.,   1.,   1.,   2.,   4.,   1.,\n",
       "          0.,   2.,   2.,   1.,   1.,   0.,   1.,   1.,   3.,   2.,   1.,\n",
       "          1.,   4.,   0.,   2.,   3.,   0.,   0.,   2.,   1.,   1.,   3.,\n",
       "          3.,   1.,   0.,   0.,   2.,   1.,   1.,   0.,   0.,   2.,   0.,\n",
       "          1.,   2.,   0.,   0.,   2.,   1.,   0.,   0.,   2.,   3.,   1.,\n",
       "          0.,   0.,   0.,   1.,   1.,   3.,   1.,   1.,   1.,   1.,   0.,\n",
       "          2.,   0.,   0.,   2.,   0.,   0.,   0.,   1.,   1.,   0.,   0.,\n",
       "          0.,   0.,   0.,   0.,   0.,   0.,   0.,   0.,   0.,   0.,   0.,\n",
       "          0.,   0.,   1.,   0.,   1.,   0.,   0.,   0.,   1.,   0.,   0.,\n",
       "          1.,   1.,   0.,   0.,   0.,   1.,   1.,   0.,   0.,   0.,   2.,\n",
       "          0.,   1.,   0.,   0.,   1.,   0.,   1.,   0.,   1.,   0.,   1.,\n",
       "          1.,   1.,   0.,   3.,   0.,   0.,   2.,   0.,   1.,   0.,   0.,\n",
       "          0.,   0.,   0.,   0.,   0.,   0.,   0.,   0.,   1.,   0.,   0.,\n",
       "          0.,   1.,   0.,   0.,   0.,   0.,   0.,   0.,   0.,   0.,   1.,\n",
       "          0.,   0.,   0.,   0.,   0.,   1.,   0.,   0.,   0.,   1.,   0.,\n",
       "          1.,   0.,   0.,   2.,   1.,   0.,   0.,   0.,   0.,   0.,   0.,\n",
       "          0.,   0.,   0.,   0.,   0.,   0.,   1.,   0.,   0.,   1.,   0.,\n",
       "          0.,   0.,   0.,   0.,   1.,   0.,   1.,   0.,   0.,   1.,   0.,\n",
       "          0.,   0.,   0.,   0.,   0.,   0.,   0.,   0.,   0.,   0.,   1.,\n",
       "          0.,   0.,   1.,   0.,   1.,   0.,   0.,   0.,   0.,   0.,   0.,\n",
       "          1.,   1.,   0.,   0.,   0.,   1.,   0.,   0.,   0.,   1.,   0.,\n",
       "          0.,   0.,   0.,   0.,   0.,   0.,   0.,   0.,   0.,   1.,   0.,\n",
       "          0.,   0.,   0.,   0.,   0.,   0.,   0.,   0.,   0.,   1.,   1.,\n",
       "          0.,   0.,   0.,   0.,   0.,   0.,   0.,   1.,   0.,   0.,   0.,\n",
       "          1.,   1.,   2.,   0.,   0.,   0.,   1.,   0.,   0.,   0.,   0.,\n",
       "          0.,   0.,   0.,   0.,   0.,   0.,   1.,   0.,   0.,   0.,   0.,\n",
       "          0.,   0.,   1.,   1.,   0.,   0.,   0.,   0.,   0.,   0.,   0.,\n",
       "          0.,   0.,   0.,   0.,   0.,   0.,   1.,   1.,   0.,   0.,   0.,\n",
       "          0.,   0.,   0.,   0.,   0.,   1.,   0.,   0.,   0.,   2.,   0.,\n",
       "          1.,   0.,   0.,   0.,   0.,   0.,   0.,   0.,   0.,   0.,   1.,\n",
       "          1.,   0.,   0.,   0.,   0.,   0.,   1.,   0.,   1.,   0.,   0.,\n",
       "          0.,   0.,   0.,   1.,   0.,   0.,   0.,   0.,   0.,   0.,   0.,\n",
       "          0.,   0.,   1.,   0.,   1.]),\n",
       " array([0.10139517, 0.11060163, 0.1198081 , 0.12901456, 0.13822103,\n",
       "        0.1474275 , 0.15663396, 0.16584043, 0.17504689, 0.18425336,\n",
       "        0.19345983, 0.20266629, 0.21187276, 0.22107922, 0.23028569,\n",
       "        0.23949215, 0.24869862, 0.25790509, 0.26711155, 0.27631802,\n",
       "        0.28552448, 0.29473095, 0.30393742, 0.31314388, 0.32235035,\n",
       "        0.33155681, 0.34076328, 0.34996975, 0.35917621, 0.36838268,\n",
       "        0.37758914, 0.38679561, 0.39600208, 0.40520854, 0.41441501,\n",
       "        0.42362147, 0.43282794, 0.44203441, 0.45124087, 0.46044734,\n",
       "        0.4696538 , 0.47886027, 0.48806673, 0.4972732 , 0.50647967,\n",
       "        0.51568613, 0.5248926 , 0.53409906, 0.54330553, 0.552512  ,\n",
       "        0.56171846, 0.57092493, 0.58013139, 0.58933786, 0.59854433,\n",
       "        0.60775079, 0.61695726, 0.62616372, 0.63537019, 0.64457666,\n",
       "        0.65378312, 0.66298959, 0.67219605, 0.68140252, 0.69060898,\n",
       "        0.69981545, 0.70902192, 0.71822838, 0.72743485, 0.73664131,\n",
       "        0.74584778, 0.75505425, 0.76426071, 0.77346718, 0.78267364,\n",
       "        0.79188011, 0.80108658, 0.81029304, 0.81949951, 0.82870597,\n",
       "        0.83791244, 0.84711891, 0.85632537, 0.86553184, 0.8747383 ,\n",
       "        0.88394477, 0.89315124, 0.9023577 , 0.91156417, 0.92077063,\n",
       "        0.9299771 , 0.93918356, 0.94839003, 0.9575965 , 0.96680296,\n",
       "        0.97600943, 0.98521589, 0.99442236, 1.00362883, 1.01283529,\n",
       "        1.02204176, 1.03124822, 1.04045469, 1.04966116, 1.05886762,\n",
       "        1.06807409, 1.07728055, 1.08648702, 1.09569349, 1.10489995,\n",
       "        1.11410642, 1.12331288, 1.13251935, 1.14172582, 1.15093228,\n",
       "        1.16013875, 1.16934521, 1.17855168, 1.18775814, 1.19696461,\n",
       "        1.20617108, 1.21537754, 1.22458401, 1.23379047, 1.24299694,\n",
       "        1.25220341, 1.26140987, 1.27061634, 1.2798228 , 1.28902927,\n",
       "        1.29823574, 1.3074422 , 1.31664867, 1.32585513, 1.3350616 ,\n",
       "        1.34426807, 1.35347453, 1.362681  , 1.37188746, 1.38109393,\n",
       "        1.39030039, 1.39950686, 1.40871333, 1.41791979, 1.42712626,\n",
       "        1.43633272, 1.44553919, 1.45474566, 1.46395212, 1.47315859,\n",
       "        1.48236505, 1.49157152, 1.50077799, 1.50998445, 1.51919092,\n",
       "        1.52839738, 1.53760385, 1.54681032, 1.55601678, 1.56522325,\n",
       "        1.57442971, 1.58363618, 1.59284265, 1.60204911, 1.61125558,\n",
       "        1.62046204, 1.62966851, 1.63887497, 1.64808144, 1.65728791,\n",
       "        1.66649437, 1.67570084, 1.6849073 , 1.69411377, 1.70332024,\n",
       "        1.7125267 , 1.72173317, 1.73093963, 1.7401461 , 1.74935257,\n",
       "        1.75855903, 1.7677655 , 1.77697196, 1.78617843, 1.7953849 ,\n",
       "        1.80459136, 1.81379783, 1.82300429, 1.83221076, 1.84141723,\n",
       "        1.85062369, 1.85983016, 1.86903662, 1.87824309, 1.88744955,\n",
       "        1.89665602, 1.90586249, 1.91506895, 1.92427542, 1.93348188,\n",
       "        1.94268835, 1.95189482, 1.96110128, 1.97030775, 1.97951421,\n",
       "        1.98872068, 1.99792715, 2.00713361, 2.01634008, 2.02554654,\n",
       "        2.03475301, 2.04395948, 2.05316594, 2.06237241, 2.07157887,\n",
       "        2.08078534, 2.0899918 , 2.09919827, 2.10840474, 2.1176112 ,\n",
       "        2.12681767, 2.13602413, 2.1452306 , 2.15443707, 2.16364353,\n",
       "        2.17285   , 2.18205646, 2.19126293, 2.2004694 , 2.20967586,\n",
       "        2.21888233, 2.22808879, 2.23729526, 2.24650173, 2.25570819,\n",
       "        2.26491466, 2.27412112, 2.28332759, 2.29253406, 2.30174052,\n",
       "        2.31094699, 2.32015345, 2.32935992, 2.33856638, 2.34777285,\n",
       "        2.35697932, 2.36618578, 2.37539225, 2.38459871, 2.39380518,\n",
       "        2.40301165, 2.41221811, 2.42142458, 2.43063104, 2.43983751,\n",
       "        2.44904398, 2.45825044, 2.46745691, 2.47666337, 2.48586984,\n",
       "        2.49507631, 2.50428277, 2.51348924, 2.5226957 , 2.53190217,\n",
       "        2.54110863, 2.5503151 , 2.55952157, 2.56872803, 2.5779345 ,\n",
       "        2.58714096, 2.59634743, 2.6055539 , 2.61476036, 2.62396683,\n",
       "        2.63317329, 2.64237976, 2.65158623, 2.66079269, 2.66999916,\n",
       "        2.67920562, 2.68841209, 2.69761856, 2.70682502, 2.71603149,\n",
       "        2.72523795, 2.73444442, 2.74365089, 2.75285735, 2.76206382,\n",
       "        2.77127028, 2.78047675, 2.78968321, 2.79888968, 2.80809615,\n",
       "        2.81730261, 2.82650908, 2.83571554, 2.84492201, 2.85412848,\n",
       "        2.86333494, 2.87254141, 2.88174787, 2.89095434, 2.90016081,\n",
       "        2.90936727, 2.91857374, 2.9277802 , 2.93698667, 2.94619314,\n",
       "        2.9553996 , 2.96460607, 2.97381253, 2.983019  , 2.99222547,\n",
       "        3.00143193, 3.0106384 , 3.01984486, 3.02905133, 3.03825779,\n",
       "        3.04746426, 3.05667073, 3.06587719, 3.07508366, 3.08429012,\n",
       "        3.09349659, 3.10270306, 3.11190952, 3.12111599, 3.13032245,\n",
       "        3.13952892, 3.14873539, 3.15794185, 3.16714832, 3.17635478,\n",
       "        3.18556125, 3.19476772, 3.20397418, 3.21318065, 3.22238711,\n",
       "        3.23159358, 3.24080004, 3.25000651, 3.25921298, 3.26841944,\n",
       "        3.27762591, 3.28683237, 3.29603884, 3.30524531, 3.31445177,\n",
       "        3.32365824, 3.3328647 , 3.34207117, 3.35127764, 3.3604841 ,\n",
       "        3.36969057, 3.37889703, 3.3881035 , 3.39730997, 3.40651643,\n",
       "        3.4157229 , 3.42492936, 3.43413583, 3.4433423 , 3.45254876,\n",
       "        3.46175523, 3.47096169, 3.48016816, 3.48937462, 3.49858109,\n",
       "        3.50778756, 3.51699402, 3.52620049, 3.53540695, 3.54461342,\n",
       "        3.55381989, 3.56302635, 3.57223282, 3.58143928, 3.59064575,\n",
       "        3.59985222, 3.60905868, 3.61826515, 3.62747161, 3.63667808,\n",
       "        3.64588455, 3.65509101, 3.66429748, 3.67350394, 3.68271041,\n",
       "        3.69191688, 3.70112334, 3.71032981, 3.71953627, 3.72874274,\n",
       "        3.7379492 , 3.74715567, 3.75636214, 3.7655686 , 3.77477507,\n",
       "        3.78398153, 3.793188  , 3.80239447, 3.81160093, 3.8208074 ,\n",
       "        3.83001386, 3.83922033, 3.8484268 , 3.85763326, 3.86683973,\n",
       "        3.87604619, 3.88525266, 3.89445913, 3.90366559, 3.91287206,\n",
       "        3.92207852, 3.93128499, 3.94049145, 3.94969792, 3.95890439,\n",
       "        3.96811085, 3.97731732, 3.98652378, 3.99573025, 4.00493672,\n",
       "        4.01414318, 4.02334965, 4.03255611, 4.04176258, 4.05096905,\n",
       "        4.06017551, 4.06938198, 4.07858844, 4.08779491, 4.09700138,\n",
       "        4.10620784, 4.11541431, 4.12462077, 4.13382724, 4.14303371,\n",
       "        4.15224017, 4.16144664, 4.1706531 , 4.17985957, 4.18906603,\n",
       "        4.1982725 , 4.20747897, 4.21668543, 4.2258919 , 4.23509836,\n",
       "        4.24430483, 4.2535113 , 4.26271776, 4.27192423, 4.28113069,\n",
       "        4.29033716, 4.29954363, 4.30875009, 4.31795656, 4.32716302,\n",
       "        4.33636949, 4.34557596, 4.35478242, 4.36398889, 4.37319535,\n",
       "        4.38240182, 4.39160828, 4.40081475, 4.41002122, 4.41922768,\n",
       "        4.42843415, 4.43764061, 4.44684708, 4.45605355, 4.46526001,\n",
       "        4.47446648, 4.48367294, 4.49287941, 4.50208588, 4.51129234,\n",
       "        4.52049881, 4.52970527, 4.53891174, 4.54811821, 4.55732467,\n",
       "        4.56653114, 4.5757376 , 4.58494407, 4.59415054, 4.603357  ,\n",
       "        4.61256347, 4.62176993, 4.6309764 , 4.64018286, 4.64938933,\n",
       "        4.6585958 , 4.66780226, 4.67700873, 4.68621519, 4.69542166,\n",
       "        4.70462813]),\n",
       " <a list of 500 Patch objects>)"
      ]
     },
     "execution_count": 123,
     "metadata": {},
     "output_type": "execute_result"
    },
    {
     "data": {
      "image/png": "[encoded data removed]",
      "text/plain": [
       "<Figure size 432x288 with 1 Axes>"
      ]
     },
     "metadata": {
      "needs_background": "light"
     },
     "output_type": "display_data"
    }
   ],
   "source": [
    "#numpy.ravel(its[1])[numpy.ravel(its[1]) < 5]\n",
    "plt.hist(numpy.ravel(its[4::2])[(numpy.ravel(its[4::2])<5) & (numpy.ravel(its[4::2])>0.1)],  bins = 500)"
   ]
  },
  {
   "cell_type": "code",
   "execution_count": 122,
   "metadata": {},
   "outputs": [
    {
     "data": {
      "text/plain": [
       "(array([  1.,   1.,   0.,   6.,   6.,   0.,  15.,   0.,  14.,  26.,   0.,\n",
       "         28.,   0.,  47.,  60.,   0.,  76.,   0., 111., 114.,   0., 132.,\n",
       "          0., 169., 211.,   0., 223.,   0., 247., 292.,   0., 321.,   0.,\n",
       "        338., 373.,   0., 399., 410.,   0., 431.,   0., 495., 511.,   0.,\n",
       "        519.,   0., 557., 564.,   0., 587.,   0., 557., 596.,   0., 599.,\n",
       "          0., 629., 600.,   0., 627.,   0., 655., 648.,   0., 646.,   0.,\n",
       "        626., 635.,   0., 690., 646.,   0., 618.,   0., 615., 553.,   0.,\n",
       "        599.,   0., 638., 586.,   0., 547.,   0., 574., 565.,   0., 538.,\n",
       "          0., 531., 496.,   0., 536.,   0., 517., 491.,   0., 447.,   0.,\n",
       "        441., 417.,   0., 471., 393.,   0., 397.,   0., 394., 387.,   0.,\n",
       "        350.,   0., 395., 405.,   0., 344.,   0., 350., 332.,   0., 293.,\n",
       "          0., 313., 299.,   0., 280.,   0., 295., 233.,   0., 240.,   0.,\n",
       "        226., 235.,   0., 237., 200.,   0., 185.,   0., 194., 181.,   0.,\n",
       "        190.,   0., 161., 183.,   0., 160.,   0., 140., 145.,   0., 123.,\n",
       "          0., 153., 147.,   0., 122.,   0., 121., 108.,   0., 115.,   0.,\n",
       "        105., 102.,   0.,  90.,  88.,   0.,  73.,   0.,  95.,  93.,   0.,\n",
       "         79.,   0.,  77.,  76.,   0.,  66.,   0.,  73.,  61.,   0.,  53.,\n",
       "          0.,  57.,  57.,   0.,  60.,   0.,  57.,  39.,   0.,  53.,   0.,\n",
       "         50.,  47.,   0.,  54.,  33.,   0.,  38.,   0.,  29.,  34.,   0.,\n",
       "         37.,   0.,  30.,  21.,   0.,  32.,   0.,  21.,  23.,   0.,  38.,\n",
       "          0.,  16.,  15.,   0.,  27.,   0.,  21.,  23.,   0.,  15.,   0.,\n",
       "         19.,  20.,   0.,  13.,  20.,   0.,  17.,   0.,   8.,  17.,   0.,\n",
       "         20.,   0.,  16.,  15.,   0.,  12.,   0.,  11.,  15.,   0.,  15.,\n",
       "          0.,   9.,   7.,   0.,  11.,   0.,  11.,   4.,   0.,   2.,   0.,\n",
       "          5.,   4.,   0.,  10.,   6.,   0.,   8.,   0.,   6.,   8.,   0.,\n",
       "          3.,   0.,   4.,   4.,   0.,   8.,   0.,   4.,   3.,   0.,   0.,\n",
       "          0.,   3.,   5.,   0.,   1.,   0.,   1.,   4.,   0.,   1.,   0.,\n",
       "          4.,   1.,   0.,   2.,   2.,   0.,   2.,   0.,   2.,   4.,   0.,\n",
       "          4.,   0.,   4.,   2.,   0.,   4.,   0.,   3.,   1.,   0.,   2.,\n",
       "          0.,   0.,   1.,   0.,   3.,   0.,   3.,   0.,   0.,   1.,   0.,\n",
       "          1.,   0.,   0.,   1.,   0.,   0.,   1.,   0.,   1.,   0.,   0.,\n",
       "          2.,   0.,   0.,   1.,   0.,   0.,   0.,   1.,   0.,   0.,   0.,\n",
       "          0.,   0.,   1.,   0.,   0.,   0.,   2.,   0.,   0.,   0.,   0.,\n",
       "          0.,   0.,   0.,   0.,   1.,   0.,   0.,   0.,   1.,   0.,   0.,\n",
       "          0.,   0.,   0.,   0.,   0.,   0.,   0.,   0.,   1.,   0.,   0.,\n",
       "          0.,   1.,   3.,   0.,   0.,   0.,   1.,   1.,   0.,   2.,   0.,\n",
       "          0.,   0.,   0.,   0.,   0.,   0.,   0.,   0.,   0.,   0.,   0.,\n",
       "          0.,   0.,   0.,   0.,   0.,   0.,   0.,   0.,   0.,   0.,   0.,\n",
       "          0.,   0.,   0.,   0.,   0.,   0.,   0.,   0.,   0.,   0.,   0.,\n",
       "          0.,   0.,   0.,   0.,   0.,   0.,   0.,   0.,   0.,   0.,   0.,\n",
       "          0.,   0.,   0.,   0.,   0.,   0.,   0.,   0.,   0.,   0.,   0.,\n",
       "          0.,   0.,   0.,   0.,   0.,   0.,   0.,   0.,   0.,   0.,   0.,\n",
       "          0.,   0.,   0.,   0.,   0.,   0.,   0.,   0.,   0.,   0.,   0.,\n",
       "          0.,   0.,   0.,   0.,   0.,   0.,   0.,   0.,   0.,   0.,   0.,\n",
       "          0.,   0.,   0.,   0.,   0.,   0.,   0.,   0.,   0.,   0.,   0.,\n",
       "          0.,   0.,   0.,   0.,   1.]),\n",
       " array([0.15   , 0.15606, 0.16212, 0.16818, 0.17424, 0.1803 , 0.18636,\n",
       "        0.19242, 0.19848, 0.20454, 0.2106 , 0.21666, 0.22272, 0.22878,\n",
       "        0.23484, 0.2409 , 0.24696, 0.25302, 0.25908, 0.26514, 0.2712 ,\n",
       "        0.27726, 0.28332, 0.28938, 0.29544, 0.3015 , 0.30756, 0.31362,\n",
       "        0.31968, 0.32574, 0.3318 , 0.33786, 0.34392, 0.34998, 0.35604,\n",
       "        0.3621 , 0.36816, 0.37422, 0.38028, 0.38634, 0.3924 , 0.39846,\n",
       "        0.40452, 0.41058, 0.41664, 0.4227 , 0.42876, 0.43482, 0.44088,\n",
       "        0.44694, 0.453  , 0.45906, 0.46512, 0.47118, 0.47724, 0.4833 ,\n",
       "        0.48936, 0.49542, 0.50148, 0.50754, 0.5136 , 0.51966, 0.52572,\n",
       "        0.53178, 0.53784, 0.5439 , 0.54996, 0.55602, 0.56208, 0.56814,\n",
       "        0.5742 , 0.58026, 0.58632, 0.59238, 0.59844, 0.6045 , 0.61056,\n",
       "        0.61662, 0.62268, 0.62874, 0.6348 , 0.64086, 0.64692, 0.65298,\n",
       "        0.65904, 0.6651 , 0.67116, 0.67722, 0.68328, 0.68934, 0.6954 ,\n",
       "        0.70146, 0.70752, 0.71358, 0.71964, 0.7257 , 0.73176, 0.73782,\n",
       "        0.74388, 0.74994, 0.756  , 0.76206, 0.76812, 0.77418, 0.78024,\n",
       "        0.7863 , 0.79236, 0.79842, 0.80448, 0.81054, 0.8166 , 0.82266,\n",
       "        0.82872, 0.83478, 0.84084, 0.8469 , 0.85296, 0.85902, 0.86508,\n",
       "        0.87114, 0.8772 , 0.88326, 0.88932, 0.89538, 0.90144, 0.9075 ,\n",
       "        0.91356, 0.91962, 0.92568, 0.93174, 0.9378 , 0.94386, 0.94992,\n",
       "        0.95598, 0.96204, 0.9681 , 0.97416, 0.98022, 0.98628, 0.99234,\n",
       "        0.9984 , 1.00446, 1.01052, 1.01658, 1.02264, 1.0287 , 1.03476,\n",
       "        1.04082, 1.04688, 1.05294, 1.059  , 1.06506, 1.07112, 1.07718,\n",
       "        1.08324, 1.0893 , 1.09536, 1.10142, 1.10748, 1.11354, 1.1196 ,\n",
       "        1.12566, 1.13172, 1.13778, 1.14384, 1.1499 , 1.15596, 1.16202,\n",
       "        1.16808, 1.17414, 1.1802 , 1.18626, 1.19232, 1.19838, 1.20444,\n",
       "        1.2105 , 1.21656, 1.22262, 1.22868, 1.23474, 1.2408 , 1.24686,\n",
       "        1.25292, 1.25898, 1.26504, 1.2711 , 1.27716, 1.28322, 1.28928,\n",
       "        1.29534, 1.3014 , 1.30746, 1.31352, 1.31958, 1.32564, 1.3317 ,\n",
       "        1.33776, 1.34382, 1.34988, 1.35594, 1.362  , 1.36806, 1.37412,\n",
       "        1.38018, 1.38624, 1.3923 , 1.39836, 1.40442, 1.41048, 1.41654,\n",
       "        1.4226 , 1.42866, 1.43472, 1.44078, 1.44684, 1.4529 , 1.45896,\n",
       "        1.46502, 1.47108, 1.47714, 1.4832 , 1.48926, 1.49532, 1.50138,\n",
       "        1.50744, 1.5135 , 1.51956, 1.52562, 1.53168, 1.53774, 1.5438 ,\n",
       "        1.54986, 1.55592, 1.56198, 1.56804, 1.5741 , 1.58016, 1.58622,\n",
       "        1.59228, 1.59834, 1.6044 , 1.61046, 1.61652, 1.62258, 1.62864,\n",
       "        1.6347 , 1.64076, 1.64682, 1.65288, 1.65894, 1.665  , 1.67106,\n",
       "        1.67712, 1.68318, 1.68924, 1.6953 , 1.70136, 1.70742, 1.71348,\n",
       "        1.71954, 1.7256 , 1.73166, 1.73772, 1.74378, 1.74984, 1.7559 ,\n",
       "        1.76196, 1.76802, 1.77408, 1.78014, 1.7862 , 1.79226, 1.79832,\n",
       "        1.80438, 1.81044, 1.8165 , 1.82256, 1.82862, 1.83468, 1.84074,\n",
       "        1.8468 , 1.85286, 1.85892, 1.86498, 1.87104, 1.8771 , 1.88316,\n",
       "        1.88922, 1.89528, 1.90134, 1.9074 , 1.91346, 1.91952, 1.92558,\n",
       "        1.93164, 1.9377 , 1.94376, 1.94982, 1.95588, 1.96194, 1.968  ,\n",
       "        1.97406, 1.98012, 1.98618, 1.99224, 1.9983 , 2.00436, 2.01042,\n",
       "        2.01648, 2.02254, 2.0286 , 2.03466, 2.04072, 2.04678, 2.05284,\n",
       "        2.0589 , 2.06496, 2.07102, 2.07708, 2.08314, 2.0892 , 2.09526,\n",
       "        2.10132, 2.10738, 2.11344, 2.1195 , 2.12556, 2.13162, 2.13768,\n",
       "        2.14374, 2.1498 , 2.15586, 2.16192, 2.16798, 2.17404, 2.1801 ,\n",
       "        2.18616, 2.19222, 2.19828, 2.20434, 2.2104 , 2.21646, 2.22252,\n",
       "        2.22858, 2.23464, 2.2407 , 2.24676, 2.25282, 2.25888, 2.26494,\n",
       "        2.271  , 2.27706, 2.28312, 2.28918, 2.29524, 2.3013 , 2.30736,\n",
       "        2.31342, 2.31948, 2.32554, 2.3316 , 2.33766, 2.34372, 2.34978,\n",
       "        2.35584, 2.3619 , 2.36796, 2.37402, 2.38008, 2.38614, 2.3922 ,\n",
       "        2.39826, 2.40432, 2.41038, 2.41644, 2.4225 , 2.42856, 2.43462,\n",
       "        2.44068, 2.44674, 2.4528 , 2.45886, 2.46492, 2.47098, 2.47704,\n",
       "        2.4831 , 2.48916, 2.49522, 2.50128, 2.50734, 2.5134 , 2.51946,\n",
       "        2.52552, 2.53158, 2.53764, 2.5437 , 2.54976, 2.55582, 2.56188,\n",
       "        2.56794, 2.574  , 2.58006, 2.58612, 2.59218, 2.59824, 2.6043 ,\n",
       "        2.61036, 2.61642, 2.62248, 2.62854, 2.6346 , 2.64066, 2.64672,\n",
       "        2.65278, 2.65884, 2.6649 , 2.67096, 2.67702, 2.68308, 2.68914,\n",
       "        2.6952 , 2.70126, 2.70732, 2.71338, 2.71944, 2.7255 , 2.73156,\n",
       "        2.73762, 2.74368, 2.74974, 2.7558 , 2.76186, 2.76792, 2.77398,\n",
       "        2.78004, 2.7861 , 2.79216, 2.79822, 2.80428, 2.81034, 2.8164 ,\n",
       "        2.82246, 2.82852, 2.83458, 2.84064, 2.8467 , 2.85276, 2.85882,\n",
       "        2.86488, 2.87094, 2.877  , 2.88306, 2.88912, 2.89518, 2.90124,\n",
       "        2.9073 , 2.91336, 2.91942, 2.92548, 2.93154, 2.9376 , 2.94366,\n",
       "        2.94972, 2.95578, 2.96184, 2.9679 , 2.97396, 2.98002, 2.98608,\n",
       "        2.99214, 2.9982 , 3.00426, 3.01032, 3.01638, 3.02244, 3.0285 ,\n",
       "        3.03456, 3.04062, 3.04668, 3.05274, 3.0588 , 3.06486, 3.07092,\n",
       "        3.07698, 3.08304, 3.0891 , 3.09516, 3.10122, 3.10728, 3.11334,\n",
       "        3.1194 , 3.12546, 3.13152, 3.13758, 3.14364, 3.1497 , 3.15576,\n",
       "        3.16182, 3.16788, 3.17394, 3.18   ]),\n",
       " <a list of 500 Patch objects>)"
      ]
     },
     "execution_count": 122,
     "metadata": {},
     "output_type": "execute_result"
    },
    {
     "data": {
      "image/png": "[encoded data removed]",
      "text/plain": [
       "<Figure size 432x288 with 1 Axes>"
      ]
     },
     "metadata": {
      "needs_background": "light"
     },
     "output_type": "display_data"
    }
   ],
   "source": [
    "plt.hist(wald_simulator(0.2, 0.3, min(numpy.ravel(its)), len(numpy.ravel(its))), bins = 500)"
   ]
  },
  {
   "cell_type": "code",
   "execution_count": 8,
   "metadata": {},
   "outputs": [
    {
     "data": {
      "text/plain": [
       "array([3.42376791e-01, 2.89497602e-01, 4.60424295e-01, 4.02040611e-01,\n",
       "       1.47830787e+00, 3.85459513e-04, 2.02198659e+00, 9.46376454e-01,\n",
       "       4.66276518e-01, 6.77937559e-01, 5.22564172e-01, 5.66493577e-01,\n",
       "       3.54854269e-01, 5.32894004e-01, 3.82321806e-01, 5.79347460e-01,\n",
       "       4.07477190e-01, 2.71708660e+00, 8.15538154e-01, 3.30618555e+00,\n",
       "       5.87748485e-01, 4.79625129e-01, 4.44675995e-01, 1.12807036e+00,\n",
       "       4.33833022e-01, 4.19302074e-01, 6.03004471e-01, 3.61226878e-01,\n",
       "       2.07604208e-01, 3.79728029e-01, 2.69286182e-01, 1.96245679e-01,\n",
       "       3.01853737e-01, 3.17241933e-04, 5.07300036e-01, 8.67616843e-01,\n",
       "       5.13351177e-01, 4.51208885e-01, 2.57313694e-01, 2.66906716e-01,\n",
       "       2.96402368e-01, 2.64006563e-01, 2.84136183e-01, 2.08740664e-01,\n",
       "       1.83651385e-01, 2.55470009e-01, 9.37086186e-03, 2.59521408e-01,\n",
       "       2.25801398e-01, 3.97065557e-01, 1.88174754e+00, 3.01032712e-01,\n",
       "       4.01869765e-01, 2.79510971e-04, 3.97835269e-04, 7.39624061e-01,\n",
       "       5.16124855e-01, 3.10491411e-01, 3.29230720e-01, 2.72060162e-01,\n",
       "       5.38929147e-01, 2.37139703e-01, 3.38789633e-01, 2.49985134e-01])"
      ]
     },
     "execution_count": 8,
     "metadata": {},
     "output_type": "execute_result"
    }
   ],
   "source": [
    "it['initial_time'][:,0]"
   ]
  },
  {
   "cell_type": "code",
   "execution_count": null,
   "metadata": {},
   "outputs": [],
   "source": []
  },
  {
   "cell_type": "code",
   "execution_count": null,
   "metadata": {},
   "outputs": [],
   "source": []
  },
  {
   "cell_type": "code",
   "execution_count": null,
   "metadata": {},
   "outputs": [],
   "source": []
  },
  {
   "cell_type": "markdown",
   "metadata": {},
   "source": [
    "# MLE"
   ]
  },
  {
   "cell_type": "code",
   "execution_count": 124,
   "metadata": {},
   "outputs": [],
   "source": [
    "def wald_density(x, param):\n",
    "    #print (param)\n",
    "    dc = 0.1\n",
    "    boundary = param[0]\n",
    "    drift = param[1]\n",
    "    if param[2] >= x:\n",
    "        non_dec_time = x - 0.001\n",
    "    else:\n",
    "        non_dec_time = param[2]\n",
    "    rt = x - non_dec_time\n",
    "    mu = boundary/drift\n",
    "    lamb = boundary**2/dc**2\n",
    "    density = numpy.sqrt(lamb/(2*numpy.pi*rt**3)) * numpy.exp((-lamb*(rt - mu)**2)/(2*(mu**2)*rt))\n",
    "    return density"
   ]
  },
  {
   "cell_type": "code",
   "execution_count": 125,
   "metadata": {},
   "outputs": [],
   "source": [
    "def wald_cummulative_density(x, param):\n",
    "    cummulative_density = scipy.integrate.quad(wald_density, a=0, b=x, args = (param))\n",
    "    return cummulative_density"
   ]
  },
  {
   "cell_type": "code",
   "execution_count": 54,
   "metadata": {},
   "outputs": [],
   "source": [
    "cummulative_density = scipy.integrate.quad(wald_density, a=0, b=1, args = ([0.1, 0.1, 0.1]))[0]\n"
   ]
  },
  {
   "cell_type": "code",
   "execution_count": 55,
   "metadata": {},
   "outputs": [
    {
     "data": {
      "text/plain": [
       "0.6250232025864882"
      ]
     },
     "execution_count": 55,
     "metadata": {},
     "output_type": "execute_result"
    }
   ],
   "source": [
    "cummulative_density"
   ]
  },
  {
   "cell_type": "code",
   "execution_count": 56,
   "metadata": {},
   "outputs": [],
   "source": [
    "def log_likelihood(param):\n",
    "    #param, penalty = param_constraint(param)\n",
    "    ll = -sum(numpy.log(wald_density(param, data)))\n",
    "    return ll"
   ]
  },
  {
   "cell_type": "code",
   "execution_count": null,
   "metadata": {},
   "outputs": [],
   "source": [
    "data = it['initial_time'][:,0]\n",
    "x0 = [0.1, 0.1, 0.1]"
   ]
  },
  {
   "cell_type": "code",
   "execution_count": null,
   "metadata": {},
   "outputs": [],
   "source": []
  },
  {
   "cell_type": "code",
   "execution_count": null,
   "metadata": {},
   "outputs": [],
   "source": []
  },
  {
   "cell_type": "code",
   "execution_count": null,
   "metadata": {},
   "outputs": [],
   "source": []
  },
  {
   "cell_type": "code",
   "execution_count": null,
   "metadata": {},
   "outputs": [],
   "source": []
  },
  {
   "cell_type": "code",
   "execution_count": null,
   "metadata": {},
   "outputs": [],
   "source": []
  },
  {
   "cell_type": "code",
   "execution_count": null,
   "metadata": {},
   "outputs": [],
   "source": []
  },
  {
   "cell_type": "code",
   "execution_count": null,
   "metadata": {},
   "outputs": [],
   "source": []
  },
  {
   "cell_type": "code",
   "execution_count": null,
   "metadata": {},
   "outputs": [],
   "source": []
  },
  {
   "cell_type": "code",
   "execution_count": 126,
   "metadata": {},
   "outputs": [],
   "source": [
    "def calc_gsquared(param, observed):\n",
    "    param, penalty = param_constraint(param)\n",
    "    boundary = param[0]\n",
    "    drift = param[1]\n",
    "    non_dec_time = param[2]\n",
    "    observed_frequencies = [0]\n",
    "    expected_quantiles = wald_simulator_quantiles([boundary, drift, non_dec_time])\n",
    "    #print (expected_quantiles)\n",
    "    expected_frequencies = numpy.array([0.1, 0.2, 0.2, 0.2, 0.2, 0.1])*len(observed)\n",
    "    for quantile in expected_quantiles:\n",
    "        observed_frequencies.append(wald_cummulative_density(quantile, param)[0]*len(observed))\n",
    "    observed_frequencies.append(len(observed))\n",
    "    observed_frequencies = [t - s for s, t in zip(observed_frequencies, observed_frequencies[1:])]\n",
    "    #print (expected_frequencies)\n",
    "    #print (observed_frequencies)\n",
    "    #print (expected_frequencies/observed_frequencies)\n",
    "    g_squared = 2*sum(observed_frequencies*numpy.log(observed_frequencies/expected_frequencies))\n",
    "    g_squared += penalty\n",
    "    return g_squared"
   ]
  },
  {
   "cell_type": "code",
   "execution_count": 59,
   "metadata": {},
   "outputs": [
    {
     "data": {
      "text/plain": [
       "24.07146738068998"
      ]
     },
     "execution_count": 59,
     "metadata": {},
     "output_type": "execute_result"
    }
   ],
   "source": [
    "calc_gsquared([0.6, 0.3, min(numpy.ravel(its))], numpy.ravel(its))"
   ]
  },
  {
   "cell_type": "code",
   "execution_count": 67,
   "metadata": {},
   "outputs": [],
   "source": [
    "optim = scipy.optimize.minimize(calc_gsquared, x0 = [0.6, 0.3, min(numpy.ravel(its) - 0.00001)], args=(numpy.ravel(its)), method='Nelder-Mead')"
   ]
  },
  {
   "cell_type": "code",
   "execution_count": 69,
   "metadata": {},
   "outputs": [
    {
     "data": {
      "text/plain": [
       "1.6493639510143385"
      ]
     },
     "execution_count": 69,
     "metadata": {},
     "output_type": "execute_result"
    }
   ],
   "source": [
    "optim.fun"
   ]
  },
  {
   "cell_type": "code",
   "execution_count": 66,
   "metadata": {},
   "outputs": [
    {
     "data": {
      "text/plain": [
       "0.0002260839275456854"
      ]
     },
     "execution_count": 66,
     "metadata": {},
     "output_type": "execute_result"
    }
   ],
   "source": [
    "min(numpy.ravel(its))\n"
   ]
  },
  {
   "cell_type": "code",
   "execution_count": null,
   "metadata": {},
   "outputs": [
    {
     "name": "stdout",
     "output_type": "stream",
     "text": [
      "1\n"
     ]
    }
   ],
   "source": [
    "param_arr = numpy.zeros((58, 12, 3))\n",
    "gsq_arr = numpy.zeros((58, 12))\n",
    "for data in range(1, 58):\n",
    "    if data == 7:\n",
    "        continue\n",
    "    for block in range(12):\n",
    "        it, mt = times(data, block)\n",
    "        initial_time = it['initial_time'][:,0][(it['initial_time'][:,0] < 5) & (it['initial_time'][:,0] > 0)]\n",
    "        optim = scipy.optimize.minimize(calc_gsquared, x0 = [0.6, 0.3, min(initial_time)], args = (initial_time), method = 'Nelder-Mead')\n",
    "        param_arr[data][block] = optim.x\n",
    "        gsq_arr[data][block] = optim.fun\n",
    "    print (data)"
   ]
  },
  {
   "cell_type": "code",
   "execution_count": 127,
   "metadata": {},
   "outputs": [
    {
     "ename": "NameError",
     "evalue": "name 'data' is not defined",
     "output_type": "error",
     "traceback": [
      "\u001b[1;31m---------------------------------------------------------------------------\u001b[0m",
      "\u001b[1;31mNameError\u001b[0m                                 Traceback (most recent call last)",
      "\u001b[1;32m<ipython-input-127-4ee603bff803>\u001b[0m in \u001b[0;36m<module>\u001b[1;34m()\u001b[0m\n\u001b[1;32m----> 1\u001b[1;33m \u001b[0mit\u001b[0m\u001b[1;33m,\u001b[0m \u001b[0mmt\u001b[0m \u001b[1;33m=\u001b[0m \u001b[0mtimes\u001b[0m\u001b[1;33m(\u001b[0m\u001b[0mdata\u001b[0m\u001b[1;33m,\u001b[0m \u001b[0mblock\u001b[0m\u001b[1;33m)\u001b[0m\u001b[1;33m\u001b[0m\u001b[0m\n\u001b[0m",
      "\u001b[1;31mNameError\u001b[0m: name 'data' is not defined"
     ]
    }
   ],
   "source": [
    "it, mt = times(1, 1)"
   ]
  },
  {
   "cell_type": "code",
   "execution_count": null,
   "metadata": {},
   "outputs": [],
   "source": [
    "plt.hist(it['initial_time'][:,0][(it['initial_time'][:,0] < 5) & (it['initial_time'][:,0] > 0)])"
   ]
  }
 ],
 "metadata": {
  "kernelspec": {
   "display_name": "Python 3",
   "language": "python",
   "name": "python3"
  },
  "language_info": {
   "codemirror_mode": {
    "name": "ipython",
    "version": 3
   },
   "file_extension": ".py",
   "mimetype": "text/x-python",
   "name": "python",
   "nbconvert_exporter": "python",
   "pygments_lexer": "ipython3",
   "version": "3.7.0"
  }
 },
 "nbformat": 4,
 "nbformat_minor": 2
}
