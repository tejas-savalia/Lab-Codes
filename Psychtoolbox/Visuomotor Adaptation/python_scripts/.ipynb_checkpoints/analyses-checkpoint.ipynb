{
 "cells": [
  {
   "cell_type": "code",
   "execution_count": 1,
   "metadata": {},
   "outputs": [],
   "source": [
    "import scipy.io\n",
    "import numpy\n",
    "import matplotlib.pyplot as plt\n",
    "from ipywidgets import interact, interactive, fixed, interact_manual\n",
    "import ipywidgets as widgets\n",
    "import scipy.stats as stat"
   ]
  },
  {
   "cell_type": "markdown",
   "metadata": {},
   "source": [
    "# Lineplots first!"
   ]
  },
  {
   "cell_type": "code",
   "execution_count": 2,
   "metadata": {},
   "outputs": [],
   "source": [
    "def lineplots(data, block, first, last):\n",
    "    traj = scipy.io.loadmat('data/pilot/pilot_{data}/actual_trajectories/trajectories{block}.mat'.format(block=str(block), data=str(data)))\n",
    "\n",
    "    for i in range(first,last):\n",
    "        plt.plot(traj['x'][0][i][0], traj['y'][0][i][0])\n"
   ]
  },
  {
   "cell_type": "code",
   "execution_count": null,
   "metadata": {},
   "outputs": [],
   "source": [
    "interact(lineplots, data = widgets.ToggleButtons(options = [1, 2, 3]), block = widgets.IntSlider(max = 11, min = 0, value = 0, step = 1),\n",
    "        first = widgets.IntSlider(max = 63, min = 0, value = 0, step = 1), last = widgets.IntSlider(max = 64, min = 1, value = 1, step = 1))"
   ]
  },
  {
   "cell_type": "markdown",
   "metadata": {},
   "source": [
    "## Error Vs Time plots\n",
    "\n",
    "Divide Trajectories by 5. Calculate mean and standard deviation of difference between ideal and actual trajectories (both divided by 5) for all 64 trajectories in a block. \n",
    "From the movement time, calculate how long it took to finish each of these 5 trajectories. Calculate mean and standard deviation across 64 trials. \n",
    "\n",
    "This might as well just be equal to the mean and standard deviation of the **number** of points in each of those five quantiles for all trajectories.\n",
    "\n"
   ]
  },
  {
   "cell_type": "markdown",
   "metadata": {},
   "source": [
    "# Error Calculation\n",
    "Takes in a trajectory loaded from the mat file and calculates error by comparing minimum distance from x and y coordinates of the actual trajectory to the ideal trajectory"
   ]
  },
  {
   "cell_type": "code",
   "execution_count": null,
   "metadata": {},
   "outputs": [],
   "source": [
    "#square_coord = scipy.io.loadmat('data/pilot/pilot_1/squares/coordinates/squares3.mat')\n",
    "#traj = scipy.io.loadmat('data/pilot/pilot_1/actual_trajectories/trajectories3.mat')\n",
    "#def calc_error(traj, square_coord):\n",
    "# The version above uses square coordinates\n",
    "def calc_error(traj):    \n",
    "    error = list()\n",
    "    for j in range(64):\n",
    "        traj_dist = list()\n",
    "        trajx, trajy = traj['x'][0][j][0], traj['y'][0][j][0]\n",
    "        #end_pointx, end_pointy  = square_coord['squareX'][0][j], square_coord['squareY'][0][j]\n",
    "        end_pointx, end_pointy  = traj['x'][0][j][0][-1], traj['y'][0][j][0][-1]\n",
    "\n",
    "        xline = numpy.linspace(0, end_pointx, 500)\n",
    "        yline = numpy.linspace(0, end_pointy, 500)\n",
    "\n",
    "        for i in range(len(trajx)):\n",
    "            xdist = min(numpy.absolute(xline-trajx[i]))\n",
    "            ydist = min(numpy.absolute(yline-trajy[i]))\n",
    "            dist = numpy.sqrt(xdist**2 + ydist**2)\n",
    "            traj_dist.append(dist)\n",
    "        error.append(traj_dist)\n",
    "    return error\n",
    "#dist = numpy.linalg.norm(numpy.cross(p2-p1, p1-p3))/numpy.linalg.norm(p2-p1)"
   ]
  },
  {
   "cell_type": "code",
   "execution_count": null,
   "metadata": {},
   "outputs": [],
   "source": [
    "#traj['x'][0][0][0][-1]"
   ]
  },
  {
   "cell_type": "code",
   "execution_count": null,
   "metadata": {},
   "outputs": [],
   "source": [
    "#calc_error(traj, square_coord)"
   ]
  },
  {
   "cell_type": "markdown",
   "metadata": {},
   "source": [
    "Participant 1 Gradual Change Accuracy emphasis\n",
    "\n",
    "Participant 2 Sudden change Accuracy emphasis\n",
    "\n",
    "Participant 3 Gradual change Speed emphasis\n"
   ]
  },
  {
   "cell_type": "code",
   "execution_count": null,
   "metadata": {},
   "outputs": [],
   "source": [
    "def errorvstime(data, block):\n",
    "    traj = scipy.io.loadmat('data/pilot/pilot_{data}/actual_trajectories/trajectories{block}.mat'.format(block=str(block), data=str(data)))\n",
    "    ideal_traj = scipy.io.loadmat('data/pilot/pilot_{data}/ideal_trajectories/ideal_trajectories{block}.mat'.format(block = str(block), data=str(data)))\n",
    "    squares = scipy.io.loadmat('data/pilot/pilot_{data}/squares/coordinates/squares{block}.mat'.format(block=str(block), data=str(data)))\n",
    "    #xdiff = (ideal_traj['idealXs'] - traj['x'])\n",
    "    #ydiff = (ideal_traj['idealYs'] - traj['y'])\n",
    "    error = calc_error(traj)\n",
    "    #error = xdiff**2+ydiff**2\n",
    "    #print (error)\n",
    "    error_means = numpy.zeros((64, 5))\n",
    "    for i in range(64):\n",
    "        n = len(error[i])\n",
    "        for j in range(5):\n",
    "            error_means[i, j] = numpy.mean(error[i][int(numpy.floor((j)*n/5)):int(numpy.floor((j+1)*n/5))])\n",
    "        #error_means[i, ] = error_means[i, ]/max(error_means[i,])\n",
    "\n",
    "    \n",
    "    time_means = numpy.zeros((64, 5))\n",
    "\n",
    "    for i in range(64):\n",
    "        n = len(error[i])\n",
    "        for j in range(5):\n",
    "            time_means[i, j] = len(error[i][int(numpy.floor((j)*n/5)):int(numpy.floor((j+1)*n/5))])\n",
    "    times = numpy.cumsum(numpy.mean(time_means, axis = 0))\n",
    "    plt.errorbar(times, numpy.mean(error_means, axis = 0), xerr = numpy.std(time_means, axis = 0), yerr = numpy.std(error_means, axis = 0))\n",
    "    plt.ylabel('Error')\n",
    "    plt.xlabel('Time')\n",
    "    plt.xlim(0, 100)\n",
    "    plt.ylim(-20, 70)"
   ]
  },
  {
   "cell_type": "code",
   "execution_count": null,
   "metadata": {},
   "outputs": [],
   "source": [
    "interact(errorvstime, data = widgets.ToggleButtons(options = [1, 2, 3]), \n",
    "                      block = widgets.IntSlider(max = 11, min = 0, value = 0, step = 1))"
   ]
  },
  {
   "cell_type": "code",
   "execution_count": null,
   "metadata": {},
   "outputs": [],
   "source": [
    "def get_qdata(data):\n",
    "    mtq = numpy.quantile(data['mt'], numpy.array([0, 0.1, 0.3, 0.5, 0.7, 0.9, 1]))\n",
    "\n",
    "    rmspoints = list()\n",
    "    mtpoints = list()\n",
    "    for i in range(len(mtq)):\n",
    "        rmspoints.append(data['rmse'][numpy.where(data['mt']<mtq[i])[0], numpy.where(data['mt']<mtq[i])[1]])\n",
    "        mtpoints.append(data['mt'][numpy.where(data['mt']<mtq[i])[0], numpy.where(data['mt']<mtq[i])[1]])\n",
    "    return rmspoints, mtpoints"
   ]
  },
  {
   "cell_type": "code",
   "execution_count": null,
   "metadata": {},
   "outputs": [],
   "source": [
    "def qplots(data, qno):\n",
    "    rmspoints, mtpoints = get_qdata(data)\n",
    "    plt.hist2d(rmspoints[qno], mtpoints[qno])\n",
    "    "
   ]
  },
  {
   "cell_type": "code",
   "execution_count": null,
   "metadata": {},
   "outputs": [],
   "source": [
    "qplots(mat, 5)"
   ]
  },
  {
   "cell_type": "code",
   "execution_count": null,
   "metadata": {},
   "outputs": [],
   "source": [
    "interact(qplots, data = widgets.ToggleButtons(options = [mat, mat2, mat3]), qno = widgets.IntSlider(max = 6, min = 0, value = 0, step = 1))"
   ]
  },
  {
   "cell_type": "code",
   "execution_count": null,
   "metadata": {},
   "outputs": [],
   "source": [
    "def ztrans(data):\n",
    "    mt = data['mt']\n",
    "    rmse = data['rmse']\n",
    "    for i in range(10):\n",
    "        mt[i] = (mt[i] - numpy.mean(mt[i]))/numpy.std(mt[i])\n",
    "        rmse[i] = (rmse[i] - numpy.mean(rmse[i]))/numpy.std(rmse[i])\n",
    "    return (mt, rmse)"
   ]
  },
  {
   "cell_type": "code",
   "execution_count": null,
   "metadata": {},
   "outputs": [],
   "source": [
    "def block_plot(block, data):\n",
    "\n",
    "    mt, rmse = ztrans(data)\n",
    "    plt.hist2d(mt[block], rmse[block], bins = 10)\n",
    "    return"
   ]
  },
  {
   "cell_type": "code",
   "execution_count": null,
   "metadata": {},
   "outputs": [],
   "source": []
  },
  {
   "cell_type": "code",
   "execution_count": null,
   "metadata": {},
   "outputs": [],
   "source": [
    "interact(block_plot, block = widgets.IntSlider(min=0,max=9,step=1,value=0), data = widgets.ToggleButtons(options = [mat, mat2, mat3]))"
   ]
  },
  {
   "cell_type": "code",
   "execution_count": null,
   "metadata": {},
   "outputs": [],
   "source": [
    "def errorplots(data, block):\n",
    "    traj = scipy.io.loadmat('data/pilot/pilot_{data}/actual_trajectories/trajectories{block}.mat'.format(block=str(block), data=str(data)))\n",
    "    ideal_traj = scipy.io.loadmat('data/pilot/pilot_{data}/ideal_trajectories/ideal_trajectories{block}.mat'.format(block = str(block), data=str(data)))\n",
    "    xdiff = (ideal_traj['idealXs'] - traj['x'])\n",
    "    ydiff = (ideal_traj['idealYs'] - traj['y'])\n",
    "    error = xdiff**2+ydiff**2\n"
   ]
  },
  {
   "cell_type": "code",
   "execution_count": null,
   "metadata": {},
   "outputs": [],
   "source": [
    "errorplots(1, 1)"
   ]
  },
  {
   "cell_type": "code",
   "execution_count": null,
   "metadata": {},
   "outputs": [],
   "source": [
    "def errorvstime2(data, block):\n",
    "    traj = scipy.io.loadmat('data/pilot/pilot_{data}/actual_trajectories/trajectories{block}.mat'.format(block=str(block), data=str(data)))\n",
    "    ideal_traj = scipy.io.loadmat('data/pilot/pilot_{data}/ideal_trajectories/ideal_trajectories{block}.mat'.format(block = str(block), data=str(data)))\n",
    "\n",
    "    xdiff = (ideal_traj['idealXs'] - traj['x'])\n",
    "    ydiff = (ideal_traj['idealYs'] - traj['y'])\n",
    "    error = xdiff**2+ydiff**2\n",
    "\n",
    "    error_means = numpy.zeros((64, 5))\n",
    "    for i in range(64):\n",
    "        n = len(error[0][i][0])\n",
    "        for j in range(5):\n",
    "            error_means[i, j] = numpy.mean(error[0][i][0][int(numpy.floor((j)*n/5)):int(numpy.floor((j+1)*n/5))])\n",
    "        error_means[i, ] = error_means[i, ]\n",
    "\n",
    "\n",
    "    time_means = numpy.zeros((64, 5))\n",
    "    for i in range(64):\n",
    "        n = len(error[0][i][0])\n",
    "        for j in range(5):\n",
    "            time_means[i, j] = len(error[0][i][0][int(numpy.floor((j)*n/5)):int(numpy.floor((j+1)*n/5))])\n",
    "    times = numpy.cumsum(numpy.mean(time_means, axis = 0))\n",
    "    plt.errorbar(times, numpy.mean(error_means, axis = 0), xerr = numpy.std(time_means, axis = 0), yerr = numpy.std(error_means, axis = 0))\n"
   ]
  },
  {
   "cell_type": "code",
   "execution_count": null,
   "metadata": {},
   "outputs": [],
   "source": [
    "interact(errorvstime2, data = widgets.ToggleButtons(options = [1, 2, 3]), block = widgets.IntSlider(max = 11, min = 0, value = 0, step = 1))"
   ]
  },
  {
   "cell_type": "code",
   "execution_count": null,
   "metadata": {},
   "outputs": [],
   "source": [
    "def wald_fit(block, data):\n",
    "    means = list()\n",
    "    scales = list()\n",
    "    initial_times = scipy.io.loadmat('data/pilot/pilot_{data}/initial_time/initial_time{block}.mat'.format(data = data, block = block))\n",
    "    initial_times = initial_times['initial_time']\n",
    "    mean, scale = stat.wald.fit(initial_times)\n",
    "    #mean, sigma, tau = stat.exponnorm(initial_times)\n",
    "    if mean <= 0:\n",
    "        mean = 0.0000001\n",
    "    plt.hist(numpy.random.wald(mean, scale, size=10000))"
   ]
  },
  {
   "cell_type": "code",
   "execution_count": null,
   "metadata": {},
   "outputs": [],
   "source": [
    "interact(wald_fit, data = widgets.ToggleButtons(options = [1, 2, 3]), block = widgets.IntSlider(max = 11, min = 0, value = 0, step = 1))"
   ]
  },
  {
   "cell_type": "markdown",
   "metadata": {},
   "source": [
    "Likelihood of the data"
   ]
  },
  {
   "cell_type": "code",
   "execution_count": null,
   "metadata": {},
   "outputs": [],
   "source": [
    "def mle_waldfit(data, block):\n",
    "    #best_location = 0.0001\n",
    "    #best_scale = 0\n",
    "    #ter = 0\n",
    "    initial_times = scipy.io.loadmat('data/pilot/pilot_{data}/initial_time/initial_time{block}.mat'.format(data = data, block = block))\n",
    "    initial_times = initial_times['initial_time']\n",
    "\n",
    "    ll_old = float('-inf')\n",
    "    for non_dec_time in numpy.arange(0.001, 0.2, 0.001):\n",
    "        loc, scale = stat.wald.fit(initial_times)\n",
    "        #print (loc)\n",
    "        ll_new = numpy.product(stat.wald.pdf(initial_times - non_dec_time, loc, scale))\n",
    "        if ll_new > ll_old:\n",
    "            #print ('here')\n",
    "            ll_old = ll_new\n",
    "            best_location = loc\n",
    "            best_scale = scale\n",
    "            ter = non_dec_time\n",
    "    return ll_old, best_location, best_scale, ter"
   ]
  },
  {
   "cell_type": "code",
   "execution_count": null,
   "metadata": {},
   "outputs": [],
   "source": [
    "ll = numpy.zeros((3, 12))\n",
    "loc = numpy.zeros((3, 12))\n",
    "scale = numpy.zeros((3, 12))\n",
    "ter = numpy.zeros((3, 12))\n",
    "for data in range(3):\n",
    "    for block in range(12):\n",
    "        ll[data, block], loc[data, block], scale[data, block], ter[data, block] = mle_waldfit(data+1, block)\n",
    "        #print (data, block)"
   ]
  },
  {
   "cell_type": "code",
   "execution_count": 3,
   "metadata": {},
   "outputs": [],
   "source": [
    "initial_times = list()\n",
    "for i in range(12):\n",
    "    initial_times_load = scipy.io.loadmat('data/pilot/pilot_{data}/initial_time/initial_time{block}.mat'.format(data = 1, block = i))\n",
    "    initial_times.append(numpy.concatenate(initial_times_load['initial_time']).tolist())\n",
    "initial_times = numpy.ravel(numpy.array(initial_times))"
   ]
  },
  {
   "cell_type": "code",
   "execution_count": 66,
   "metadata": {},
   "outputs": [],
   "source": []
  },
  {
   "cell_type": "code",
   "execution_count": null,
   "metadata": {},
   "outputs": [],
   "source": [
    "numpy.exp(1)"
   ]
  },
  {
   "cell_type": "code",
   "execution_count": 75,
   "metadata": {},
   "outputs": [],
   "source": [
    "def wald_logdensity(params):\n",
    "    #print (params)\n",
    "    drift, boundary = params\n",
    "    \n",
    "    exp = -(boundary - drift*initial_times)/(2*initial_times)\n",
    "    base = boundary/numpy.sqrt(2*numpy.pi*(initial_times**3))\n",
    "    density = base*numpy.exp(exp)\n",
    "   \n",
    "    return -sum(numpy.log(density))"
   ]
  },
  {
   "cell_type": "code",
   "execution_count": null,
   "metadata": {},
   "outputs": [],
   "source": [
    "ll = sum(numpy.log(wald_density(initial_times, 0.01, 0.1)))"
   ]
  },
  {
   "cell_type": "code",
   "execution_count": null,
   "metadata": {},
   "outputs": [],
   "source": [
    "ll_array = numpy.zeros((3, 1))\n",
    "boundary_array = numpy.zeros((3, 1))\n",
    "drift_array = numpy.zeros((3, 1))\n",
    "ter_array = numpy.zeros((3, 1))\n",
    "ll_old = float('-inf')\n",
    "count = 0\n",
    "for data in range(3):\n",
    "    initial_times = list()\n",
    "    for i in range(12):\n",
    "        initial_times_load = scipy.io.loadmat('data/pilot/pilot_{data}/initial_time/initial_time{block}.mat'.format(data = 1, block = i))\n",
    "        initial_times.append(numpy.concatenate(initial_times_load['initial_time']).tolist())\n",
    "    initial_times = numpy.ravel(numpy.array(initial_times))\n",
    "    for drift in numpy.arange(0.1, 1, 0.001):\n",
    "        for boundary in numpy.arange(0.1, 1, 0.001):\n",
    "            for ter in numpy.arange(0.08, 0.15, 0.001):\n",
    "                ll_new = sum(numpy.log(wald_density(initial_times - ter, drift, boundary)))\n",
    "                if ll_new > ll_old:\n",
    "                    ll_old = ll_new\n",
    "                    best_drift = drift\n",
    "                    best_boundary = boundary\n",
    "                    best_ter = ter\n",
    "    count = count + 1\n",
    "    ll_array[data,1] = ll_old\n",
    "    drift_array[data,1] = best_drift\n",
    "    boundary_array[data,1] = best_boundary\n",
    "    ter_array[data,1] = best_ter\n",
    "    print (count)"
   ]
  },
  {
   "cell_type": "code",
   "execution_count": 10,
   "metadata": {},
   "outputs": [],
   "source": [
    "from scipy import optimize"
   ]
  },
  {
   "cell_type": "code",
   "execution_count": 103,
   "metadata": {},
   "outputs": [
    {
     "name": "stderr",
     "output_type": "stream",
     "text": [
      "C:\\Users\\Tejas\\Anaconda3\\lib\\site-packages\\ipykernel_launcher.py:9: RuntimeWarning: divide by zero encountered in log\n",
      "  if __name__ == '__main__':\n",
      "C:\\Users\\Tejas\\Anaconda3\\lib\\site-packages\\scipy\\optimize\\optimize.py:663: RuntimeWarning: invalid value encountered in subtract\n",
      "  grad[k] = (f(*((xk + d,) + args)) - f0) / d[k]\n",
      "C:\\Users\\Tejas\\Anaconda3\\lib\\site-packages\\ipykernel_launcher.py:9: RuntimeWarning: divide by zero encountered in log\n",
      "  if __name__ == '__main__':\n",
      "C:\\Users\\Tejas\\Anaconda3\\lib\\site-packages\\ipykernel_launcher.py:9: RuntimeWarning: invalid value encountered in log\n",
      "  if __name__ == '__main__':\n",
      "C:\\Users\\Tejas\\Anaconda3\\lib\\site-packages\\ipykernel_launcher.py:9: RuntimeWarning: invalid value encountered in log\n",
      "  if __name__ == '__main__':\n",
      "C:\\Users\\Tejas\\Anaconda3\\lib\\site-packages\\scipy\\optimize\\linesearch.py:425: RuntimeWarning: invalid value encountered in greater\n",
      "  if (phi_a1 > phi0 + c1 * alpha1 * derphi0) or \\\n",
      "C:\\Users\\Tejas\\Anaconda3\\lib\\site-packages\\scipy\\optimize\\linesearch.py:426: RuntimeWarning: invalid value encountered in greater_equal\n",
      "  ((phi_a1 >= phi_a0) and (i > 1)):\n",
      "C:\\Users\\Tejas\\Anaconda3\\lib\\site-packages\\ipykernel_launcher.py:9: RuntimeWarning: invalid value encountered in log\n",
      "  if __name__ == '__main__':\n",
      "C:\\Users\\Tejas\\Anaconda3\\lib\\site-packages\\numpy\\core\\fromnumeric.py:83: RuntimeWarning: invalid value encountered in reduce\n",
      "  return ufunc.reduce(obj, axis, dtype, out, **passkwargs)\n"
     ]
    },
    {
     "data": {
      "text/plain": [
       "      fun: array([nan])\n",
       " hess_inv: array([[1.00000026e+00, 8.54114143e-10],\n",
       "       [8.54114143e-10, 1.66776855e-06]])\n",
       "      jac: array([nan, nan])\n",
       "  message: 'Desired error not necessarily achieved due to precision loss.'\n",
       "     nfev: 467\n",
       "      nit: 2\n",
       "     njev: 116\n",
       "   status: 2\n",
       "  success: False\n",
       "        x: array([ 8.95169462e+03, -3.20500425e-01])"
      ]
     },
     "execution_count": 103,
     "metadata": {},
     "output_type": "execute_result"
    }
   ],
   "source": [
    "initial_times = scipy.io.loadmat('data/pilot/pilot_{data}/initial_time/initial_time{block}.mat'.format(data = 3, block = 3))\n",
    "initial_times = initial_times['initial_time']\n",
    "optimize.minimize(wald_logdensity, (0.001, 0.001), method='BFGS')"
   ]
  },
  {
   "cell_type": "code",
   "execution_count": null,
   "metadata": {},
   "outputs": [],
   "source": []
  }
 ],
 "metadata": {
  "kernelspec": {
   "display_name": "Python 3",
   "language": "python",
   "name": "python3"
  },
  "language_info": {
   "codemirror_mode": {
    "name": "ipython",
    "version": 3
   },
   "file_extension": ".py",
   "mimetype": "text/x-python",
   "name": "python",
   "nbconvert_exporter": "python",
   "pygments_lexer": "ipython3",
   "version": "3.7.0"
  }
 },
 "nbformat": 4,
 "nbformat_minor": 2
}
