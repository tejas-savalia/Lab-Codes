{
 "cells": [
  {
   "cell_type": "code",
   "execution_count": 1,
   "metadata": {},
   "outputs": [],
   "source": [
    "import scipy.io\n",
    "import numpy\n",
    "import matplotlib.pyplot as plt\n",
    "from ipywidgets import interact, interactive, fixed, interact_manual\n",
    "import ipywidgets as widgets\n",
    "import scipy.stats as stat\n",
    "from sklearn.linear_model import LinearRegression\n",
    "import statsmodels.api as sm\n",
    "import statsmodels.formula.api as smf"
   ]
  },
  {
   "cell_type": "markdown",
   "metadata": {},
   "source": [
    "# Lineplots first!\n",
    "## Odd is Accuracy Even is Speed\n",
    "## 0 1 are sudden"
   ]
  },
  {
   "cell_type": "code",
   "execution_count": 2,
   "metadata": {},
   "outputs": [],
   "source": [
    "def lineplots(data, block, first, last):\n",
    "    traj = scipy.io.loadmat('data/participants/data{data}/actual_trajectories/trajectories{block}.mat'.format(block=str(block), data=str(data)))\n",
    "\n",
    "    for i in range(first,last):\n",
    "        plt.plot(traj['x'][0][i][0], traj['y'][0][i][0])\n"
   ]
  },
  {
   "cell_type": "code",
   "execution_count": 3,
   "metadata": {},
   "outputs": [
    {
     "data": {
      "application/vnd.jupyter.widget-view+json": {
       "model_id": "8abece5f98264fa59771360579bb1ccc",
       "version_major": 2,
       "version_minor": 0
      },
      "text/plain": [
       "interactive(children=(ToggleButtons(description='data', options=(1, 2, 3, 4, 5, 6, 7, 8, 9, 10, 11, 12, 13, 14…"
      ]
     },
     "metadata": {},
     "output_type": "display_data"
    },
    {
     "data": {
      "text/plain": [
       "<function __main__.lineplots(data, block, first, last)>"
      ]
     },
     "execution_count": 3,
     "metadata": {},
     "output_type": "execute_result"
    }
   ],
   "source": [
    "interact(lineplots, data = widgets.ToggleButtons(options = range(1,59)), block = widgets.IntSlider(max = 11, min = 0, value = 0, step = 1),\n",
    "        first = widgets.IntSlider(max = 63, min = 0, value = 0, step = 1), last = widgets.IntSlider(max = 64, min = 1, value = 1, step = 1))"
   ]
  },
  {
   "cell_type": "markdown",
   "metadata": {},
   "source": [
    "## Error Vs Time plots\n",
    "\n",
    "Divide Trajectories by 5. Calculate mean and standard deviation of difference between ideal and actual trajectories (both divided by 5) for all 64 trajectories in a block. \n",
    "From the movement time, calculate how long it took to finish each of these 5 trajectories. Calculate mean and standard deviation across 64 trials. \n",
    "\n",
    "This might as well just be equal to the mean and standard deviation of the **number** of points in each of those five quantiles for all trajectories.\n",
    "\n"
   ]
  },
  {
   "cell_type": "markdown",
   "metadata": {},
   "source": [
    "# Error Calculation\n",
    "Takes in a trajectory loaded from the mat file and calculates error by comparing minimum distance from x and y coordinates of the actual trajectory to the ideal trajectory"
   ]
  },
  {
   "cell_type": "code",
   "execution_count": 4,
   "metadata": {},
   "outputs": [],
   "source": [
    "#square_coord = scipy.io.loadmat('data/pilot/pilot_1/squares/coordinates/squares3.mat')\n",
    "#traj = scipy.io.loadmat('data/pilot/pilot_1/actual_trajectories/trajectories3.mat')\n",
    "#def calc_error(traj, square_coord):\n",
    "# The version above uses square coordinates\n",
    "def calc_error(traj):    \n",
    "    error = list()\n",
    "    for j in range(64):\n",
    "        traj_dist = list()\n",
    "        trajx, trajy = traj['x'][0][j][0], traj['y'][0][j][0]\n",
    "        #end_pointx, end_pointy  = square_coord['squareX'][0][j], square_coord['squareY'][0][j]\n",
    "        end_pointx, end_pointy  = traj['x'][0][j][0][-1], traj['y'][0][j][0][-1]\n",
    "\n",
    "        xline = numpy.linspace(0, end_pointx, 500)\n",
    "        yline = numpy.linspace(0, end_pointy, 500)\n",
    "\n",
    "        for i in range(len(trajx)):\n",
    "            xdist = min(numpy.absolute(xline-trajx[i]))\n",
    "            ydist = min(numpy.absolute(yline-trajy[i]))\n",
    "            dist = numpy.sqrt(xdist**2 + ydist**2)\n",
    "            traj_dist.append(dist)\n",
    "        error.append(traj_dist)\n",
    "    return error\n",
    "#dist = numpy.linalg.norm(numpy.cross(p2-p1, p1-p3))/numpy.linalg.norm(p2-p1)"
   ]
  },
  {
   "cell_type": "code",
   "execution_count": 5,
   "metadata": {},
   "outputs": [],
   "source": [
    "#traj['x'][0][0][0][-1]"
   ]
  },
  {
   "cell_type": "code",
   "execution_count": 6,
   "metadata": {},
   "outputs": [],
   "source": [
    "#calc_error(traj, square_coord)"
   ]
  },
  {
   "cell_type": "markdown",
   "metadata": {},
   "source": [
    "Participant 1 Gradual Change Accuracy emphasis\n",
    "\n",
    "Participant 2 Sudden change Accuracy emphasis\n",
    "\n",
    "Participant 3 Gradual change Speed emphasis\n",
    "\n",
    "# Time quintiles:\n",
    "X axis is cummulative sum of the number of samples in the trajectory, averaged across all trajectories. \n",
    "Y axis is the mean of error in that time quantile, averaged across all trajectories\n"
   ]
  },
  {
   "cell_type": "code",
   "execution_count": 7,
   "metadata": {},
   "outputs": [],
   "source": [
    "def errorvstime(data, block):\n",
    "    traj = scipy.io.loadmat('data/participants/data{data}/actual_trajectories/trajectories{block}.mat'.format(block=str(block), data=str(data)))\n",
    "    ideal_traj = scipy.io.loadmat('data/participants/data{data}/ideal_trajectories/ideal_trajectories{block}.mat'.format(block = str(block), data=str(data)))\n",
    "    #squares = scipy.io.loadmat('data/participants/data{data}/squares/coordinates/squares{block}.mat'.format(block=str(block), data=str(data)))\n",
    "    #xdiff = (ideal_traj['idealXs'] - traj['x'])\n",
    "    #ydiff = (ideal_traj['idealYs'] - traj['y'])\n",
    "    error = calc_error(traj)[:64]\n",
    "    #error = xdiff**2+ydiff**2\n",
    "    #print (error)\n",
    "    error_means = numpy.zeros((64, 5))\n",
    "    for i in range(64):\n",
    "        n = len(error[i])\n",
    "        for j in range(5):\n",
    "            error_means[i, j] = numpy.mean(error[i][int(numpy.floor((j)*n/5)):int(numpy.floor((j+1)*n/5))])\n",
    "        #error_means[i, ] = error_means[i, ]/max(error_means[i,])\n",
    "\n",
    "    \n",
    "    time_means = numpy.zeros((64, 5))\n",
    "\n",
    "    for i in range(64):\n",
    "        n = len(error[i])\n",
    "        for j in range(5):\n",
    "            time_means[i, j] = len(error[i][int(numpy.floor((j)*n/5)):int(numpy.floor((j+1)*n/5))])\n",
    "    times = numpy.cumsum(numpy.mean(time_means, axis = 0))\n",
    "    plt.errorbar(times, numpy.mean(error_means, axis = 0), xerr = stat.sem(time_means, axis = 0), yerr = stat.sem(error_means, axis = 0))\n",
    "    plt.ylabel('Error')\n",
    "    plt.xlabel('Time')\n",
    "    plt.xlim(0, 100)\n",
    "    plt.ylim(-20, 70)\n",
    "    return times, numpy.mean(error_means, axis = 0)"
   ]
  },
  {
   "cell_type": "code",
   "execution_count": null,
   "metadata": {},
   "outputs": [],
   "source": []
  },
  {
   "cell_type": "markdown",
   "metadata": {},
   "source": [
    "Calculate error vs time for each block collapsed across participants."
   ]
  },
  {
   "cell_type": "code",
   "execution_count": 8,
   "metadata": {},
   "outputs": [
    {
     "name": "stderr",
     "output_type": "stream",
     "text": [
      "C:\\Users\\Tejas\\Anaconda3\\lib\\site-packages\\numpy\\core\\fromnumeric.py:2920: RuntimeWarning: Mean of empty slice.\n",
      "  out=out, **kwargs)\n",
      "C:\\Users\\Tejas\\Anaconda3\\lib\\site-packages\\numpy\\core\\_methods.py:85: RuntimeWarning: invalid value encountered in double_scalars\n",
      "  ret = ret.dtype.type(ret / rcount)\n"
     ]
    },
    {
     "data": {
      "image/png": "[encoded data removed]",
      "text/plain": [
       "<Figure size 432x288 with 1 Axes>"
      ]
     },
     "metadata": {
      "needs_background": "light"
     },
     "output_type": "display_data"
    }
   ],
   "source": [
    "times = numpy.zeros((59, 5))\n",
    "errors = numpy.zeros((59, 5))\n",
    "for i in range(1, 59):\n",
    "    if i == 7:\n",
    "        continue\n",
    "    temp = errorvstime(i, 11)\n",
    "    times[i] = temp[0]\n",
    "    errors[i] = temp[1] \n",
    "    #print (i)"
   ]
  },
  {
   "cell_type": "code",
   "execution_count": null,
   "metadata": {},
   "outputs": [],
   "source": []
  },
  {
   "cell_type": "code",
   "execution_count": 9,
   "metadata": {},
   "outputs": [],
   "source": [
    "times_speed_sudden = numpy.zeros((59, 5))\n",
    "times_speed_gradual = numpy.zeros((59, 5))\n",
    "times_accuracy_sudden = numpy.zeros((59, 5))\n",
    "times_accuracy_gradual = numpy.zeros((59, 5))\n",
    "errors_speed_sudden = numpy.zeros((59, 5))\n",
    "errors_speed_gradual = numpy.zeros((59, 5))\n",
    "errors_accuracy_sudden = numpy.zeros((59, 5))\n",
    "errors_accuracy_gradual = numpy.zeros((59, 5))\n",
    "for i in range(len(times)):\n",
    "    if i%4 == 0:\n",
    "        times_speed_sudden[i] = times[i]\n",
    "        errors_speed_sudden[i] = errors[i]\n",
    "    elif i%4 == 1:\n",
    "        times_accuracy_sudden[i] = times[i]\n",
    "        errors_accuracy_sudden[i] = errors[i]\n",
    "    elif i%4 == 2:\n",
    "        times_speed_gradual[i] = times[i]\n",
    "        errors_speed_gradual[i] = errors[i]\n",
    "    elif i%4 == 3:\n",
    "        times_accuracy_gradual[i] = times[i]\n",
    "        errors_accuracy_gradual[i] = errors[i]\n",
    "       "
   ]
  },
  {
   "cell_type": "code",
   "execution_count": 10,
   "metadata": {},
   "outputs": [],
   "source": [
    "times_speed_gradual = numpy.reshape(times_speed_gradual[numpy.nonzero(times_speed_gradual)], (int(len(times_speed_gradual[numpy.nonzero(times_speed_gradual)])/5), 5))\n",
    "errors_speed_gradual = numpy.reshape(errors_speed_gradual[numpy.nonzero(errors_speed_gradual)], (int(len(errors_speed_gradual[numpy.nonzero(errors_speed_gradual)])/5), 5))\n",
    "times_speed_sudden = numpy.reshape(times_speed_sudden[numpy.nonzero(times_speed_sudden)], (int(len(times_speed_sudden[numpy.nonzero(times_speed_sudden)])/5), 5))\n",
    "errors_speed_sudden = numpy.reshape(errors_speed_sudden[numpy.nonzero(errors_speed_sudden)], (int(len(errors_speed_sudden[numpy.nonzero(errors_speed_sudden)])/5), 5))\n",
    "times_accuracy_gradual = numpy.reshape(times_accuracy_gradual[numpy.nonzero(times_accuracy_gradual)], (int(len(times_accuracy_gradual[numpy.nonzero(times_accuracy_gradual)])/5), 5))\n",
    "errors_accuracy_gradual = numpy.reshape(errors_accuracy_gradual[numpy.nonzero(errors_accuracy_gradual)], (int(len(errors_accuracy_gradual[numpy.nonzero(errors_accuracy_gradual)])/5), 5))\n",
    "times_accuracy_sudden = numpy.reshape(times_accuracy_sudden[numpy.nonzero(times_accuracy_sudden)], (int(len(times_accuracy_sudden[numpy.nonzero(times_accuracy_sudden)])/5), 5))\n",
    "errors_accuracy_sudden = numpy.reshape(errors_accuracy_sudden[numpy.nonzero(errors_accuracy_sudden)], (int(len(errors_accuracy_sudden[numpy.nonzero(errors_accuracy_sudden)])/5), 5))\n"
   ]
  },
  {
   "cell_type": "code",
   "execution_count": 11,
   "metadata": {},
   "outputs": [
    {
     "data": {
      "text/plain": [
       "array([[  4.66059011,  11.56662351,  12.29338355,  16.35691865,\n",
       "          9.21232757],\n",
       "       [  4.1753533 ,   8.88389195,   8.33857422,   8.79549038,\n",
       "          5.33647166],\n",
       "       [  9.5388419 ,  20.44110685,  24.42140704,  35.99925241,\n",
       "         16.02962783],\n",
       "       [  8.0343961 ,  18.47509144,  27.64860651,  67.71636742,\n",
       "         29.90498794],\n",
       "       [         nan,          nan,          nan,          nan,\n",
       "         35.74976238],\n",
       "       [ 13.37427934,  26.14777224,  33.16881078,  33.33635982,\n",
       "         12.60276308],\n",
       "       [  2.56659844,  11.07265504,  13.13224832,  17.23323055,\n",
       "         14.06866796],\n",
       "       [  1.63976993,   3.46839512,   3.58359429,   3.52022293,\n",
       "          2.30833872],\n",
       "       [  7.2414184 ,  19.30177301,  24.53243613,  26.55716778,\n",
       "         17.43400619],\n",
       "       [  2.23252437,   6.1287957 ,   6.33175581,   6.86849128,\n",
       "          4.12912652],\n",
       "       [  8.39896679,  29.40315088,  32.3806327 ,  29.39912062,\n",
       "         13.14722969],\n",
       "       [  3.25059438,  13.94033876,  11.41026484,  10.12456196,\n",
       "          8.05235783],\n",
       "       [ 10.13742799,  59.2579131 , 123.30343347, 125.75095345,\n",
       "         57.26671982]])"
      ]
     },
     "execution_count": 11,
     "metadata": {},
     "output_type": "execute_result"
    }
   ],
   "source": [
    "#numpy.mean(times_accuracy_gradual, axis = 0)\n",
    "#numpy.nanmean(errors_speed_sudden, axis = 0)\n",
    "#stat.sem(times_accuracy_gradual, axis = 0)\n",
    "numpy.nanstd(errors_accuracy_gradual, axis = 0)/numpy.sqrt(errors_accuracy_gradual)\n",
    "#numpy.nanstd(errors_accuracy_gradual)"
   ]
  },
  {
   "cell_type": "code",
   "execution_count": 12,
   "metadata": {},
   "outputs": [
    {
     "data": {
      "text/plain": [
       "Text(0, 0.5, 'Error')"
      ]
     },
     "execution_count": 12,
     "metadata": {},
     "output_type": "execute_result"
    },
    {
     "data": {
      "image/png": "[encoded data removed]",
      "text/plain": [
       "<Figure size 432x288 with 1 Axes>"
      ]
     },
     "metadata": {
      "needs_background": "light"
     },
     "output_type": "display_data"
    }
   ],
   "source": [
    "fig,(ax1)=plt.subplots(1,1)\n",
    "ax1.errorbar(numpy.mean(times_speed_gradual, axis = 0), numpy.nanmean(errors_speed_gradual, axis = 0), xerr=stat.sem(times_speed_gradual, axis = 0), yerr=numpy.nanstd(errors_speed_gradual, axis = 0)/numpy.sqrt(len(errors_speed_gradual)), label = \"speed_gradual\")\n",
    "ax1.errorbar(numpy.mean(times_speed_sudden, axis = 0), numpy.nanmean(errors_speed_sudden, axis = 0), xerr=stat.sem(times_speed_sudden, axis = 0), yerr=numpy.nanstd(errors_speed_sudden, axis = 0)/numpy.sqrt(len(errors_speed_sudden)), label = \"speed_sudden\")\n",
    "ax1.errorbar(numpy.mean(times_accuracy_gradual, axis = 0), numpy.nanmean(errors_accuracy_gradual, axis = 0), xerr=stat.sem(times_accuracy_gradual, axis = 0), yerr=numpy.nanstd(errors_accuracy_gradual, axis = 0)/numpy.sqrt(len(errors_accuracy_gradual)), label = \"accuracy_gradual\")\n",
    "ax1.errorbar(numpy.mean(times_accuracy_sudden, axis = 0), numpy.nanmean(errors_accuracy_sudden, axis = 0), xerr=stat.sem(times_accuracy_sudden, axis = 0), yerr=numpy.nanstd(errors_accuracy_sudden, axis = 0)/numpy.sqrt(len(errors_accuracy_sudden)), label = \"accuracy_sudden\")\n",
    "ax1.legend()\n",
    "plt.xlabel('Mean time point in quintile')\n",
    "plt.ylabel('Error')\n"
   ]
  },
  {
   "cell_type": "markdown",
   "metadata": {},
   "source": [
    "# Time Bar plots"
   ]
  },
  {
   "cell_type": "code",
   "execution_count": 32,
   "metadata": {},
   "outputs": [
    {
     "data": {
      "text/plain": [
       "<matplotlib.legend.Legend at 0x2d66d706048>"
      ]
     },
     "execution_count": 32,
     "metadata": {},
     "output_type": "execute_result"
    },
    {
     "data": {
      "image/png": "[encoded data removed]",
      "text/plain": [
       "<Figure size 432x288 with 1 Axes>"
      ]
     },
     "metadata": {
      "needs_background": "light"
     },
     "output_type": "display_data"
    }
   ],
   "source": [
    "pos = [0, 1, 2, 3]\n",
    "handles = plt.bar(pos, [numpy.mean(times_speed_gradual), numpy.mean(times_accuracy_gradual), numpy.mean(times_speed_sudden), numpy.mean(times_accuracy_sudden)], yerr = [numpy.mean(stat.sem(times_speed_gradual)), numpy.mean(stat.sem(times_accuracy_gradual)), numpy.mean(stat.sem(times_speed_sudden)), numpy.mean(stat.sem(times_accuracy_sudden))], color = ['Blue', 'Green', 'Blue', 'Green'])\n",
    "plt.xticks([0.5, 2.5], ['Gradual', 'Sudden'])\n",
    "plt.ylabel('Times')\n",
    "plt.xlabel('Condition')\n",
    "\n",
    "plt.legend([handles[0], handles[1]], ['Speed', 'Accuracy'])\n",
    "#handles[0]"
   ]
  },
  {
   "cell_type": "code",
   "execution_count": 17,
   "metadata": {},
   "outputs": [
    {
     "data": {
      "text/plain": [
       "Text(0.5, 0, 'Condition')"
      ]
     },
     "execution_count": 17,
     "metadata": {},
     "output_type": "execute_result"
    },
    {
     "data": {
      "image/png": "[encoded data removed]",
      "text/plain": [
       "<Figure size 432x288 with 1 Axes>"
      ]
     },
     "metadata": {
      "needs_background": "light"
     },
     "output_type": "display_data"
    }
   ],
   "source": [
    "pos = [1, 2]\n",
    "yerr = [numpy.mean(stat.sem(numpy.concatenate((times_speed_gradual, times_accuracy_gradual)))), numpy.mean(stat.sem(numpy.concatenate((times_speed_sudden, times_accuracy_sudden))))]\n",
    "plt.bar(pos, [numpy.mean(numpy.concatenate((times_speed_gradual, times_accuracy_gradual))), numpy.mean(numpy.concatenate((times_speed_sudden, times_accuracy_sudden)))], yerr = yerr, color = )\n",
    "plt.xticks(pos, ['Gradual', 'Sudden'])\n",
    "plt.ylabel('Times')\n",
    "plt.xlabel('Condition')\n"
   ]
  },
  {
   "cell_type": "code",
   "execution_count": 30,
   "metadata": {},
   "outputs": [
    {
     "data": {
      "text/plain": [
       "Text(0.5, 0, 'Condition')"
      ]
     },
     "execution_count": 30,
     "metadata": {},
     "output_type": "execute_result"
    },
    {
     "data": {
      "image/png": "[encoded data removed]",
      "text/plain": [
       "<Figure size 432x288 with 1 Axes>"
      ]
     },
     "metadata": {
      "needs_background": "light"
     },
     "output_type": "display_data"
    }
   ],
   "source": [
    "pos = [0, 1]\n",
    "yerr = [numpy.mean(stat.sem(numpy.concatenate((times_speed_gradual, times_speed_sudden)))), numpy.mean(stat.sem(numpy.concatenate((times_accuracy_gradual, times_accuracy_sudden))))]\n",
    "plt.bar(pos, [numpy.mean(numpy.concatenate((times_speed_gradual, times_speed_sudden))), numpy.mean(numpy.concatenate((times_accuracy_gradual, times_accuracy_sudden)))], yerr = yerr)\n",
    "plt.xticks(pos, ['Speed', 'Accuracy'])\n",
    "plt.ylabel('Times')\n",
    "plt.xlabel('Condition')\n"
   ]
  },
  {
   "cell_type": "markdown",
   "metadata": {},
   "source": [
    "# Error Bar plots"
   ]
  },
  {
   "cell_type": "code",
   "execution_count": 36,
   "metadata": {},
   "outputs": [
    {
     "data": {
      "text/plain": [
       "<matplotlib.legend.Legend at 0x2d66bf77cf8>"
      ]
     },
     "execution_count": 36,
     "metadata": {},
     "output_type": "execute_result"
    },
    {
     "data": {
      "image/png": "[encoded data removed]",
      "text/plain": [
       "<Figure size 432x288 with 1 Axes>"
      ]
     },
     "metadata": {
      "needs_background": "light"
     },
     "output_type": "display_data"
    }
   ],
   "source": [
    "pos = [0, 1, 2, 3]\n",
    "handles = plt.bar(pos, [numpy.nanmean(errors_speed_gradual), numpy.nanmean(errors_accuracy_gradual), numpy.nanmean(errors_speed_sudden), numpy.nanmean(errors_accuracy_sudden)], yerr = [numpy.mean(stat.sem(times_speed_gradual)), numpy.nanmean(stat.sem(errors_accuracy_gradual)), numpy.nanmean(stat.sem(times_speed_sudden)), numpy.mean(stat.sem(times_accuracy_sudden))], color = ['Blue', 'Green', 'Blue', 'Green'])\n",
    "plt.xticks([0.5, 2.5], ['Gradual', 'Sudden'])\n",
    "plt.ylabel('Error')\n",
    "plt.xlabel('Condition')\n",
    "plt.legend([handles[0], handles[1]], ['Speed', 'Accuracy'])\n"
   ]
  },
  {
   "cell_type": "code",
   "execution_count": 37,
   "metadata": {},
   "outputs": [
    {
     "name": "stdout",
     "output_type": "stream",
     "text": [
      "[3.967375886570246, 3.0154771667054536]\n"
     ]
    },
    {
     "data": {
      "image/png": "[encoded data removed]",
      "text/plain": [
       "<Figure size 432x288 with 1 Axes>"
      ]
     },
     "metadata": {
      "needs_background": "light"
     },
     "output_type": "display_data"
    }
   ],
   "source": [
    "yerr = [numpy.nanmean(stat.sem(numpy.concatenate((errors_speed_gradual, errors_speed_sudden)))), numpy.nanmean(stat.sem(numpy.concatenate((errors_accuracy_gradual, errors_accuracy_sudden))))]\n",
    "plt.bar(['Speed', 'Accuracy'], [numpy.nanmean(numpy.concatenate((errors_speed_gradual, errors_speed_sudden))), numpy.nanmean(numpy.concatenate((errors_accuracy_gradual, errors_accuracy_sudden)))], yerr = yerr)\n",
    "plt.xlabel('Emphasis')\n",
    "plt.ylabel('Error')\n",
    "print (yerr)"
   ]
  },
  {
   "cell_type": "code",
   "execution_count": 38,
   "metadata": {},
   "outputs": [
    {
     "name": "stdout",
     "output_type": "stream",
     "text": [
      "[4.371924911078858, 3.55032721294939]\n"
     ]
    },
    {
     "data": {
      "image/png": "[encoded data removed]",
      "text/plain": [
       "<Figure size 432x288 with 1 Axes>"
      ]
     },
     "metadata": {
      "needs_background": "light"
     },
     "output_type": "display_data"
    }
   ],
   "source": [
    "yerr = [numpy.nanmean(stat.sem(numpy.concatenate((errors_speed_gradual, errors_accuracy_gradual)))), numpy.nanmean(stat.sem(numpy.concatenate((errors_speed_sudden, errors_accuracy_sudden))))]\n",
    "plt.bar(['Gradual', 'Sudden'], [numpy.nanmean(numpy.concatenate((errors_speed_gradual, errors_accuracy_gradual))), numpy.nanmean(numpy.concatenate((errors_speed_sudden, errors_accuracy_sudden)))], yerr = yerr)\n",
    "plt.xlabel('Condition')\n",
    "plt.ylabel('Error')\n",
    "print (yerr)"
   ]
  },
  {
   "cell_type": "code",
   "execution_count": 39,
   "metadata": {},
   "outputs": [
    {
     "data": {
      "application/vnd.jupyter.widget-view+json": {
       "model_id": "3a347871169e4bae9c33261651d6f68d",
       "version_major": 2,
       "version_minor": 0
      },
      "text/plain": [
       "interactive(children=(ToggleButtons(description='data', options=(1, 2, 3, 4, 5, 6, 7, 8, 9, 10, 11, 12, 13, 14…"
      ]
     },
     "metadata": {},
     "output_type": "display_data"
    },
    {
     "data": {
      "text/plain": [
       "<function __main__.errorvstime(data, block)>"
      ]
     },
     "execution_count": 39,
     "metadata": {},
     "output_type": "execute_result"
    }
   ],
   "source": [
    "interact(errorvstime, data = widgets.ToggleButtons(options = range(1,27)), \n",
    "                      block = widgets.IntSlider(max = 11, min = 0, value = 0, step = 1))"
   ]
  },
  {
   "cell_type": "code",
   "execution_count": null,
   "metadata": {},
   "outputs": [],
   "source": [
    "def get_qdata(data):\n",
    "    mtq = numpy.quantile(data['mt'], numpy.array([0, 0.1, 0.3, 0.5, 0.7, 0.9, 1]))\n",
    "\n",
    "    rmspoints = list()\n",
    "    mtpoints = list()\n",
    "    for i in range(len(mtq)):\n",
    "        rmspoints.append(data['rmse'][numpy.where(data['mt']<mtq[i])[0], numpy.where(data['mt']<mtq[i])[1]])\n",
    "        mtpoints.append(data['mt'][numpy.where(data['mt']<mtq[i])[0], numpy.where(data['mt']<mtq[i])[1]])\n",
    "    return rmspoints, mtpoints"
   ]
  },
  {
   "cell_type": "code",
   "execution_count": null,
   "metadata": {},
   "outputs": [],
   "source": [
    "def qplots(data, qno):\n",
    "    rmspoints, mtpoints = get_qdata(data)\n",
    "    plt.hist2d(rmspoints[qno], mtpoints[qno])\n",
    "    "
   ]
  },
  {
   "cell_type": "code",
   "execution_count": null,
   "metadata": {},
   "outputs": [],
   "source": [
    "qplots(mat, 5)"
   ]
  },
  {
   "cell_type": "code",
   "execution_count": null,
   "metadata": {},
   "outputs": [],
   "source": [
    "interact(qplots, data = widgets.ToggleButtons(options = [mat, mat2, mat3]), qno = widgets.IntSlider(max = 6, min = 0, value = 0, step = 1))"
   ]
  },
  {
   "cell_type": "code",
   "execution_count": null,
   "metadata": {},
   "outputs": [],
   "source": [
    "def ztrans(data):\n",
    "    mt = data['mt']\n",
    "    rmse = data['rmse']\n",
    "    for i in range(10):\n",
    "        mt[i] = (mt[i] - numpy.mean(mt[i]))/numpy.std(mt[i])\n",
    "        rmse[i] = (rmse[i] - numpy.mean(rmse[i]))/numpy.std(rmse[i])\n",
    "    return (mt, rmse)"
   ]
  },
  {
   "cell_type": "code",
   "execution_count": null,
   "metadata": {},
   "outputs": [],
   "source": [
    "def block_plot(block, data):\n",
    "\n",
    "    mt, rmse = ztrans(data)\n",
    "    plt.hist2d(mt[block], rmse[block], bins = 10)\n",
    "    return"
   ]
  },
  {
   "cell_type": "code",
   "execution_count": null,
   "metadata": {},
   "outputs": [],
   "source": []
  },
  {
   "cell_type": "code",
   "execution_count": null,
   "metadata": {},
   "outputs": [],
   "source": [
    "interact(block_plot, block = widgets.IntSlider(min=0,max=9,step=1,value=0), data = widgets.ToggleButtons(options = [mat, mat2, mat3]))"
   ]
  },
  {
   "cell_type": "code",
   "execution_count": null,
   "metadata": {},
   "outputs": [],
   "source": [
    "def errorplots(data, block):\n",
    "    traj = scipy.io.loadmat('data/pilot/pilot_{data}/actual_trajectories/trajectories{block}.mat'.format(block=str(block), data=str(data)))\n",
    "    ideal_traj = scipy.io.loadmat('data/pilot/pilot_{data}/ideal_trajectories/ideal_trajectories{block}.mat'.format(block = str(block), data=str(data)))\n",
    "    xdiff = (ideal_traj['idealXs'] - traj['x'])\n",
    "    ydiff = (ideal_traj['idealYs'] - traj['y'])\n",
    "    error = xdiff**2+ydiff**2\n"
   ]
  },
  {
   "cell_type": "code",
   "execution_count": null,
   "metadata": {},
   "outputs": [],
   "source": [
    "errorplots(1, 1)"
   ]
  },
  {
   "cell_type": "code",
   "execution_count": null,
   "metadata": {},
   "outputs": [],
   "source": [
    "def errorvstime2(data, block):\n",
    "    traj = scipy.io.loadmat('data/pilot/pilot_{data}/actual_trajectories/trajectories{block}.mat'.format(block=str(block), data=str(data)))\n",
    "    ideal_traj = scipy.io.loadmat('data/pilot/pilot_{data}/ideal_trajectories/ideal_trajectories{block}.mat'.format(block = str(block), data=str(data)))\n",
    "\n",
    "    xdiff = (ideal_traj['idealXs'] - traj['x'])\n",
    "    ydiff = (ideal_traj['idealYs'] - traj['y'])\n",
    "    error = xdiff**2+ydiff**2\n",
    "\n",
    "    error_means = numpy.zeros((64, 5))\n",
    "    for i in range(64):\n",
    "        n = len(error[0][i][0])\n",
    "        for j in range(5):\n",
    "            error_means[i, j] = numpy.mean(error[0][i][0][int(numpy.floor((j)*n/5)):int(numpy.floor((j+1)*n/5))])\n",
    "        error_means[i, ] = error_means[i, ]\n",
    "\n",
    "\n",
    "    time_means = numpy.zeros((64, 5))\n",
    "    for i in range(64):\n",
    "        n = len(error[0][i][0])\n",
    "        for j in range(5):\n",
    "            time_means[i, j] = len(error[0][i][0][int(numpy.floor((j)*n/5)):int(numpy.floor((j+1)*n/5))])\n",
    "    times = numpy.cumsum(numpy.mean(time_means, axis = 0))\n",
    "    plt.errorbar(times, numpy.mean(error_means, axis = 0), xerr = numpy.std(time_means, axis = 0), yerr = numpy.std(error_means, axis = 0))\n"
   ]
  },
  {
   "cell_type": "code",
   "execution_count": null,
   "metadata": {},
   "outputs": [],
   "source": [
    "interact(errorvstime2, data = widgets.ToggleButtons(options = [1, 2, 3]), block = widgets.IntSlider(max = 11, min = 0, value = 0, step = 1))"
   ]
  },
  {
   "cell_type": "code",
   "execution_count": null,
   "metadata": {},
   "outputs": [],
   "source": [
    "def wald_fit(block, data):\n",
    "    means = list()\n",
    "    scales = list()\n",
    "    initial_times = scipy.io.loadmat('data/pilot/pilot_{data}/initial_time/initial_time{block}.mat'.format(data = data, block = block))\n",
    "    initial_times = initial_times['initial_time']\n",
    "    mean, scale = stat.wald.fit(initial_times)\n",
    "    #mean, sigma, tau = stat.exponnorm(initial_times)\n",
    "    if mean <= 0:\n",
    "        mean = 0.0000001\n",
    "    plt.hist(numpy.random.wald(mean, scale, size=10000))"
   ]
  },
  {
   "cell_type": "code",
   "execution_count": null,
   "metadata": {},
   "outputs": [],
   "source": [
    "interact(wald_fit, data = widgets.ToggleButtons(options = [1, 2, 3]), block = widgets.IntSlider(max = 11, min = 0, value = 0, step = 1))"
   ]
  },
  {
   "cell_type": "markdown",
   "metadata": {},
   "source": [
    "Likelihood of the data"
   ]
  },
  {
   "cell_type": "code",
   "execution_count": null,
   "metadata": {},
   "outputs": [],
   "source": [
    "def mle_waldfit(data, block):\n",
    "    #best_location = 0.0001\n",
    "    #best_scale = 0\n",
    "    #ter = 0\n",
    "    initial_times = scipy.io.loadmat('data/pilot/pilot_{data}/initial_time/initial_time{block}.mat'.format(data = data, block = block))\n",
    "    initial_times = initial_times['initial_time']\n",
    "\n",
    "    ll_old = float('-inf')\n",
    "    for non_dec_time in numpy.arange(0.001, 0.2, 0.001):\n",
    "        loc, scale = stat.wald.fit(initial_times)\n",
    "        #print (loc)\n",
    "        ll_new = numpy.product(stat.wald.pdf(initial_times - non_dec_time, loc, scale))\n",
    "        if ll_new > ll_old:\n",
    "            #print ('here')\n",
    "            ll_old = ll_new\n",
    "            best_location = loc\n",
    "            best_scale = scale\n",
    "            ter = non_dec_time\n",
    "    return ll_old, best_location, best_scale, ter"
   ]
  },
  {
   "cell_type": "code",
   "execution_count": null,
   "metadata": {},
   "outputs": [],
   "source": [
    "ll = numpy.zeros((3, 12))\n",
    "loc = numpy.zeros((3, 12))\n",
    "scale = numpy.zeros((3, 12))\n",
    "ter = numpy.zeros((3, 12))\n",
    "for data in range(3):\n",
    "    for block in range(12):\n",
    "        ll[data, block], loc[data, block], scale[data, block], ter[data, block] = mle_waldfit(data+1, block)\n",
    "        #print (data, block)"
   ]
  },
  {
   "cell_type": "code",
   "execution_count": null,
   "metadata": {},
   "outputs": [],
   "source": [
    "initial_times = list()\n",
    "for i in range(12):\n",
    "    initial_times_load = scipy.io.loadmat('data/pilot/pilot_{data}/initial_time/initial_time{block}.mat'.format(data = 1, block = i))\n",
    "    initial_times.append(numpy.concatenate(initial_times_load['initial_time']).tolist())\n",
    "initial_times = numpy.ravel(numpy.array(initial_times))"
   ]
  },
  {
   "cell_type": "code",
   "execution_count": null,
   "metadata": {},
   "outputs": [],
   "source": []
  },
  {
   "cell_type": "code",
   "execution_count": null,
   "metadata": {},
   "outputs": [],
   "source": [
    "numpy.exp(1)"
   ]
  },
  {
   "cell_type": "code",
   "execution_count": null,
   "metadata": {},
   "outputs": [],
   "source": [
    "def wald_logdensity(params):\n",
    "    #print (params)\n",
    "    drift, boundary = params\n",
    "    \n",
    "    exp = -(boundary - drift*initial_times)/(2*initial_times)\n",
    "    base = boundary/numpy.sqrt(2*numpy.pi*(initial_times**3))\n",
    "    density = base*numpy.exp(exp)\n",
    "   \n",
    "    return sum(-numpy.log(density))"
   ]
  },
  {
   "cell_type": "code",
   "execution_count": null,
   "metadata": {},
   "outputs": [],
   "source": [
    "ll = sum(numpy.log(wald_density(initial_times, 0.01, 0.1)))"
   ]
  },
  {
   "cell_type": "code",
   "execution_count": null,
   "metadata": {},
   "outputs": [],
   "source": [
    "ll_array = numpy.zeros((3, 1))\n",
    "boundary_array = numpy.zeros((3, 1))\n",
    "drift_array = numpy.zeros((3, 1))\n",
    "ter_array = numpy.zeros((3, 1))\n",
    "ll_old = float('-inf')\n",
    "count = 0\n",
    "for data in range(3):\n",
    "    initial_times = list()\n",
    "    for i in range(12):\n",
    "        initial_times_load = scipy.io.loadmat('data/pilot/pilot_{data}/initial_time/initial_time{block}.mat'.format(data = 1, block = i))\n",
    "        initial_times.append(numpy.concatenate(initial_times_load['initial_time']).tolist())\n",
    "    initial_times = numpy.ravel(numpy.array(initial_times))\n",
    "    for drift in numpy.arange(0.1, 1, 0.001):\n",
    "        for boundary in numpy.arange(0.1, 1, 0.001):\n",
    "            for ter in numpy.arange(0.08, 0.15, 0.001):\n",
    "                ll_new = sum(numpy.log(wald_density(initial_times - ter, drift, boundary)))\n",
    "                if ll_new > ll_old:\n",
    "                    ll_old = ll_new\n",
    "                    best_drift = drift\n",
    "                    best_boundary = boundary\n",
    "                    best_ter = ter\n",
    "    count = count + 1\n",
    "    ll_array[data,1] = ll_old\n",
    "    drift_array[data,1] = best_drift\n",
    "    boundary_array[data,1] = best_boundary\n",
    "    ter_array[data,1] = best_ter\n",
    "    print (count)"
   ]
  },
  {
   "cell_type": "code",
   "execution_count": null,
   "metadata": {},
   "outputs": [],
   "source": [
    "from scipy import optimize"
   ]
  },
  {
   "cell_type": "code",
   "execution_count": null,
   "metadata": {},
   "outputs": [],
   "source": [
    "initial_times = scipy.io.loadmat('data/pilot/pilot_{data}/initial_time/initial_time{block}.mat'.format(data = 1, block = 3))\n",
    "initial_times = initial_times['initial_time']\n",
    "optimize.minimize(wald_logdensity, (0.0001, 0.0001), method='nelder-mead', options={\"maxiter\":500})"
   ]
  },
  {
   "cell_type": "markdown",
   "metadata": {},
   "source": [
    "Boundary is how good my plan is. Boundary affected by speed/accuracy.\n",
    "\n",
    "Drift rate affected by gradual vs sudden."
   ]
  },
  {
   "cell_type": "code",
   "execution_count": 40,
   "metadata": {},
   "outputs": [],
   "source": [
    "def errors(data, block):\n",
    "    traj = scipy.io.loadmat('data/participants/data{data}/actual_trajectories/trajectories{block}.mat'.format(block=str(block), data=str(data)))\n",
    "    ideal_traj = scipy.io.loadmat('data/participants/data{data}/ideal_trajectories/ideal_trajectories{block}.mat'.format(block = str(block), data=str(data)))\n",
    "    #print (traj)\n",
    "    #squares = scipy.io.loadmat('data/participants/data{data}/squares/coordinates/squares{block}.mat'.format(block=str(block), data=str(data)))\n",
    "    #xdiff = (ideal_traj['idealXs'] - traj['x'])\n",
    "    #ydiff = (ideal_traj['idealYs'] - traj['y'])\n",
    "    error = calc_error(traj)\n",
    "    return error"
   ]
  },
  {
   "cell_type": "code",
   "execution_count": null,
   "metadata": {},
   "outputs": [],
   "source": [
    "temp = errors(1, 1)"
   ]
  },
  {
   "cell_type": "code",
   "execution_count": null,
   "metadata": {},
   "outputs": [],
   "source": []
  },
  {
   "cell_type": "code",
   "execution_count": 41,
   "metadata": {},
   "outputs": [],
   "source": [
    "error_sum = numpy.zeros((59, 12))\n",
    "error_std = numpy.zeros((59, 12))\n",
    "for participant in range(1, 59):\n",
    "    if participant  == 7:\n",
    "        continue\n",
    "    for block in range(12):\n",
    "        temp = errors(participant, block)\n",
    "        error_sum[participant, block] = numpy.mean(numpy.sum(temp, axis=0))\n",
    "        error_std[participant, block] = stat.sem(numpy.sum(temp, axis=0))\n",
    "\n",
    "        #error_sum1.append(numpy.mean(numpy.sum(errors(1, block), axis=0)))\n",
    "        #error_std1.append(numpy.std(numpy.sum(errors(1, block), axis=0)))\n",
    "        #error_sum2.append(numpy.mean(numpy.sum(errors(2, block), axis=0)))\n",
    "        #error_std2.append(numpy.std(numpy.sum(errors(2, block), axis=0)))\n",
    "        #error_sum3.append(numpy.mean(numpy.sum(errors(3, block), axis=0)))\n",
    "        #error_std3.append(numpy.std(numpy.sum(errors(3, block), axis=0)))    "
   ]
  },
  {
   "cell_type": "code",
   "execution_count": 42,
   "metadata": {},
   "outputs": [
    {
     "data": {
      "text/plain": [
       "Text(0, 0.5, 'Error')"
      ]
     },
     "execution_count": 42,
     "metadata": {},
     "output_type": "execute_result"
    },
    {
     "data": {
      "image/png": "[encoded data removed]",
      "text/plain": [
       "<Figure size 432x288 with 1 Axes>"
      ]
     },
     "metadata": {
      "needs_background": "light"
     },
     "output_type": "display_data"
    }
   ],
   "source": [
    "plt.plot(numpy.mean((error_sum[1:-1:2]), axis = 0), 'k-')\n",
    "plt.plot(numpy.mean((error_sum[2:-1:2]), axis = 0), 'k-')\n",
    "\n",
    "plot1 = plt.fill_between(range(12), numpy.mean(error_sum[1:-1:2], axis = 0) + stat.sem(error_sum[1:-1:2]), numpy.mean(error_sum[1:-1:2], axis = 0) - stat.sem(error_sum[1:-1:2]), alpha = 0.5)\n",
    "plot2 = plt.fill_between(range(12), numpy.mean(error_sum[2:-1:2], axis = 0) + stat.sem(error_sum[2:-1:2]), numpy.mean(error_sum[2:-1:2], axis = 0) - stat.sem(error_sum[2:-1:2]), alpha = 0.5)\n",
    "plt.legend((plot1, plot2), (\"Accuracy\", \"Speed\"))\n",
    "#error_sum[3]\n",
    "#error_sum1\n",
    "plt.xlabel('Block')\n",
    "plt.ylabel('Error')"
   ]
  },
  {
   "cell_type": "code",
   "execution_count": null,
   "metadata": {},
   "outputs": [],
   "source": []
  },
  {
   "cell_type": "code",
   "execution_count": 43,
   "metadata": {},
   "outputs": [
    {
     "data": {
      "text/plain": [
       "Text(0, 0.5, 'Error')"
      ]
     },
     "execution_count": 43,
     "metadata": {},
     "output_type": "execute_result"
    },
    {
     "data": {
      "image/png": "[encoded data removed]",
      "text/plain": [
       "<Figure size 432x288 with 1 Axes>"
      ]
     },
     "metadata": {
      "needs_background": "light"
     },
     "output_type": "display_data"
    }
   ],
   "source": [
    "plt.plot(numpy.mean(numpy.row_stack((error_sum[4:-1:4], error_sum[1:-1:4])), axis = 0), 'k-')\n",
    "plt.plot(numpy.mean(numpy.row_stack((error_sum[2:-1:4], error_sum[3:-1:4])), axis = 0), 'k-')\n",
    "\n",
    "plot1 = plt.fill_between(range(12), numpy.mean(numpy.row_stack((error_sum[4:-1:4], error_sum[1:-1:4])), axis = 0) + stat.sem(numpy.row_stack((error_sum[4:-1:4], error_sum[1:-1:4]))), numpy.mean(numpy.row_stack((error_sum[4:-1:4], error_sum[1:-1:4])), axis = 0) - stat.sem(numpy.row_stack((error_sum[4:-1:4], error_sum[1:-1:4]))), alpha = 0.5)\n",
    "plot2 = plt.fill_between(range(12), numpy.mean(numpy.row_stack((error_sum[2:-1:4], error_sum[3:-1:4])), axis = 0) + stat.sem(numpy.row_stack((error_sum[2:-1:4], error_sum[3:-1:4]))), numpy.mean(numpy.row_stack((error_sum[2:-1:4], error_sum[3:-1:4])), axis = 0) - stat.sem(numpy.row_stack((error_sum[2:-1:4], error_sum[3:-1:4]))), alpha = 0.5)\n",
    "plt.legend((plot1, plot2), (\"Sudden\", \"Gradual\"))\n",
    "#error_sum[3]\n",
    "#error_sum\n",
    "plt.xlabel('Block')\n",
    "plt.ylabel('Error')\n",
    "#plot1."
   ]
  },
  {
   "cell_type": "code",
   "execution_count": null,
   "metadata": {},
   "outputs": [],
   "source": [
    "#numpy.mean(numpy.row_stack((error_sum[4:-1:4], error_sum[1:-1:4])), axis = 0)\n",
    "#35 - 27\n",
    "#numpy.mean(numpy.row_stack((error_sum[2:-1:4], error_sum[3:-1:4])), axis = 0)\n",
    "#53 - 40\n",
    "#numpy.row_stack((error_sum[4:-1:4], error_sum[1:-1:4]))\n",
    "#stat.sem(numpy.row_stack((error_sum[4:-1:4], error_sum[1:-1:4])))\n",
    "numpy.mean(numpy.concatenate((error_sum[4:-1:4][:, -2], error_sum[1:-1:4][:, -2])))"
   ]
  },
  {
   "cell_type": "code",
   "execution_count": 44,
   "metadata": {},
   "outputs": [
    {
     "data": {
      "text/plain": [
       "Text(0.5, 1.0, 'Error difference. Last block - Second last Block')"
      ]
     },
     "execution_count": 44,
     "metadata": {},
     "output_type": "execute_result"
    },
    {
     "data": {
      "image/png": "[encoded data removed]",
      "text/plain": [
       "<Figure size 432x288 with 1 Axes>"
      ]
     },
     "metadata": {
      "needs_background": "light"
     },
     "output_type": "display_data"
    }
   ],
   "source": [
    "ybar = [numpy.mean(numpy.row_stack((error_sum[4:-1:4], error_sum[1:-1:4])), axis = 0)[11] - numpy.mean(numpy.row_stack((error_sum[4:-1:4], error_sum[1:-1:4])), axis = 0)[10], numpy.mean(numpy.row_stack((error_sum[2:-1:4], error_sum[3:-1:4])), axis = 0)[11] - numpy.mean(numpy.row_stack((error_sum[2:-1:4], error_sum[3:-1:4])), axis = 0)[10]]\n",
    "#ybar = [numpy.mean(numpy.row_stack((error_sum[4:-1:4][:, -1], error_sum[1:-1:4][:, -1]))) - numpy.mean(numpy.concatenate((error_sum[4:-1:4][:, -2], error_sum[1:-1:4][:, -2]))), numpy.mean(numpy.concatenate((error_sum[4:-1:4][:, -1], error_sum[1:-1:4][:, -1]))) - numpy.mean(numpy.concatenate((error_sum[2:-1:4][:, -2], error_sum[3:-1:4][:, -2])))]\n",
    "yerr = [stat.sem(numpy.concatenate((error_sum[4:-1:4][:, -1], error_sum[1:-1:4][:, -1]))) - stat.sem(numpy.concatenate((error_sum[4:-1:4][:, -2], error_sum[1:-1:4][:, -2]))), stat.sem(numpy.concatenate((error_sum[2:-1:4][:, -1], error_sum[3:-1:4][:, -1]))) - stat.sem(numpy.concatenate((error_sum[2:-1:4][:, -2], error_sum[3:-1:4][:, -2])))]\n",
    "plt.bar(['Gradual', 'Sudden'], [ybar[1], ybar[0]], yerr = [yerr[0], yerr[1]])\n",
    "plt.xlabel('Condition')\n",
    "plt.ylabel('Errors')\n",
    "plt.title('Error difference. Last block - Second last Block')"
   ]
  },
  {
   "cell_type": "code",
   "execution_count": 51,
   "metadata": {},
   "outputs": [
    {
     "data": {
      "text/plain": [
       "Text(0.5, 1.0, 'Error difference. Last block - Second last Block')"
      ]
     },
     "execution_count": 51,
     "metadata": {},
     "output_type": "execute_result"
    },
    {
     "data": {
      "image/png": "[encoded data removed]",
      "text/plain": [
       "<Figure size 432x288 with 1 Axes>"
      ]
     },
     "metadata": {
      "needs_background": "light"
     },
     "output_type": "display_data"
    }
   ],
   "source": [
    "ybar = [numpy.mean(numpy.row_stack((error_sum[4:-1:4], error_sum[2:-1:4])), axis = 0)[11] - numpy.mean(numpy.row_stack((error_sum[4:-1:4], error_sum[2:-1:4])), axis = 0)[10], numpy.mean(numpy.row_stack((error_sum[1:-1:4], error_sum[3:-1:4])), axis = 0)[11] - numpy.mean(numpy.row_stack((error_sum[1:-1:4], error_sum[3:-1:4])), axis = 0)[10]]\n",
    "#ybar = [numpy.mean(numpy.row_stack((error_sum[4:-1:4][:, -1], error_sum[1:-1:4][:, -1]))) - numpy.mean(numpy.concatenate((error_sum[4:-1:4][:, -2], error_sum[1:-1:4][:, -2]))), numpy.mean(numpy.concatenate((error_sum[4:-1:4][:, -1], error_sum[1:-1:4][:, -1]))) - numpy.mean(numpy.concatenate((error_sum[2:-1:4][:, -2], error_sum[3:-1:4][:, -2])))]\n",
    "yerr = [stat.sem(numpy.concatenate((error_sum[4:-1:4][:, -1], error_sum[2:-1:4][:, -1]))) - stat.sem(numpy.concatenate((error_sum[4:-1:4][:, -2], error_sum[2:-1:4][:, -2]))), stat.sem(numpy.concatenate((error_sum[1:-1:4][:, -1], error_sum[3:-1:4][:, -1]))) - stat.sem(numpy.concatenate((error_sum[1:-1:4][:, -2], error_sum[3:-1:4][:, -2])))]\n",
    "plt.bar(['Speed', 'Accuracy'], ybar, yerr = yerr)\n",
    "plt.xlabel('Condition')\n",
    "plt.ylabel('Errors')\n",
    "plt.title('Error difference. Last block - Second last Block')\n"
   ]
  },
  {
   "cell_type": "code",
   "execution_count": null,
   "metadata": {},
   "outputs": [],
   "source": []
  },
  {
   "cell_type": "code",
   "execution_count": 55,
   "metadata": {},
   "outputs": [
    {
     "data": {
      "text/plain": [
       "<matplotlib.legend.Legend at 0x2d66c0874e0>"
      ]
     },
     "execution_count": 55,
     "metadata": {},
     "output_type": "execute_result"
    },
    {
     "data": {
      "image/png": "[encoded data removed]",
      "text/plain": [
       "<Figure size 432x288 with 1 Axes>"
      ]
     },
     "metadata": {
      "needs_background": "light"
     },
     "output_type": "display_data"
    }
   ],
   "source": [
    "ybar = [numpy.mean(error_sum[2:-1:4], axis = 0)[11] - numpy.mean(error_sum[2:-1:4], axis = 0)[10], numpy.mean(error_sum[3:-1:4], axis = 0)[11] - numpy.mean(error_sum[3:-1:4], axis = 0)[10], numpy.mean(error_sum[4:-1:4], axis = 0)[11] - numpy.mean(error_sum[4:-1:4], axis = 0)[10], numpy.mean(error_sum[1:-1:4], axis = 0)[11] - numpy.mean(error_sum[1:-1:4], axis = 0)[10]]\n",
    "yerr = [stat.sem(error_sum[4:-1:4][:, -1] - error_sum[4:-1:4][:, -2]), stat.sem(error_sum[1:-1:4][:, -1] - error_sum[1:-1:4][:, -2]), stat.sem(error_sum[2:-1:4][:, -1] - error_sum[2:-1:4][:, -2]), stat.sem(error_sum[3:-1:4][:, -1] - error_sum[3:-1:4][:, -2])]\n",
    "handles = plt.bar([0, 1, 2, 3], ybar, yerr = yerr, color = ['Blue', 'Green', 'Blue', 'Green'])\n",
    "plt.xlabel('Condition')\n",
    "plt.ylabel('Errors')\n",
    "plt.xticks([0.5, 2.5], ['Gradual', 'Sudden'])\n",
    "plt.title('Error difference. Last block - Second last Block')\n",
    "plt.legend([handles[0], handles[1]], ['Speed', 'Accuracy'])"
   ]
  },
  {
   "cell_type": "code",
   "execution_count": 56,
   "metadata": {},
   "outputs": [
    {
     "data": {
      "text/plain": [
       "Text(0, 0.5, 'Error')"
      ]
     },
     "execution_count": 56,
     "metadata": {},
     "output_type": "execute_result"
    },
    {
     "data": {
      "image/png": "[encoded data removed]",
      "text/plain": [
       "<Figure size 432x288 with 1 Axes>"
      ]
     },
     "metadata": {
      "needs_background": "light"
     },
     "output_type": "display_data"
    }
   ],
   "source": [
    "plt.plot(numpy.mean((error_sum[1:-1:4]), axis = 0), 'k-')\n",
    "plt.plot(numpy.mean((error_sum[2:-1:4]), axis = 0), 'k-')\n",
    "plt.plot(numpy.mean((error_sum[3:-1:4]), axis = 0), 'k-')\n",
    "plt.plot(numpy.mean((error_sum[4:-1:4]), axis = 0), 'k-')\n",
    "\n",
    "plot1 = plt.fill_between(range(12), numpy.mean(error_sum[1:-1:2], axis = 0) + stat.sem(error_sum[1:-1:2]), numpy.mean(error_sum[1:-1:2], axis = 0) - stat.sem(error_sum[1:-1:2]), alpha = 0.5)\n",
    "plot2 = plt.fill_between(range(12), numpy.mean(error_sum[2:-1:2], axis = 0) + stat.sem(error_sum[2:-1:2]), numpy.mean(error_sum[2:-1:2], axis = 0) - stat.sem(error_sum[2:-1:2]), alpha = 0.5)\n",
    "plot3 = plt.fill_between(range(12), numpy.mean(error_sum[3:-1:2], axis = 0) + stat.sem(error_sum[3:-1:2]), numpy.mean(error_sum[3:-1:2], axis = 0) - stat.sem(error_sum[3:-1:2]), alpha = 0.5)\n",
    "plot4 = plt.fill_between(range(12), numpy.mean(error_sum[4:-1:2], axis = 0) + stat.sem(error_sum[4:-1:2]), numpy.mean(error_sum[4:-1:2], axis = 0) - stat.sem(error_sum[4:-1:2]), alpha = 0.5)\n",
    "\n",
    "plt.legend((plot1, plot2, plot3, plot4), (\"AS\", \"SG\", \"AG\", \"SS\"))\n",
    "#error_sum[3]\n",
    "#error_sum1\n",
    "plt.xlabel('Block')\n",
    "plt.ylabel('Error')"
   ]
  },
  {
   "cell_type": "code",
   "execution_count": null,
   "metadata": {},
   "outputs": [],
   "source": [
    "all_errors1 = numpy.zeros((10, 64))\n",
    "all_errors2 = numpy.zeros((10, 64))\n",
    "for i in range(10):\n",
    "    errors1 = errors(1, i)\n",
    "    errors2 = errors(3, i)\n",
    "    for j in range(64):\n",
    "        all_errors1[i,j] = numpy.sum(errors1[j])\n",
    "        all_errors2[i, j] = numpy.sum(errors2[j])\n",
    "#numpy.sum(errors(1, 1))"
   ]
  },
  {
   "cell_type": "code",
   "execution_count": null,
   "metadata": {},
   "outputs": [],
   "source": [
    "plt.axes([0, 0.6, 3, 1.5])\n",
    "plt.plot(numpy.ravel(all_errors1))\n",
    "plt.plot(numpy.ravel(all_errors2))\n"
   ]
  },
  {
   "cell_type": "code",
   "execution_count": null,
   "metadata": {},
   "outputs": [],
   "source": [
    "lm = LinearRegression()\n",
    "lm.fit(numpy.transpose([range(12)]), error_sum)"
   ]
  },
  {
   "cell_type": "code",
   "execution_count": null,
   "metadata": {},
   "outputs": [],
   "source": [
    "lm.predict(11)\n"
   ]
  },
  {
   "cell_type": "code",
   "execution_count": null,
   "metadata": {},
   "outputs": [],
   "source": [
    "error_sum[11]"
   ]
  },
  {
   "cell_type": "code",
   "execution_count": null,
   "metadata": {},
   "outputs": [],
   "source": []
  },
  {
   "cell_type": "code",
   "execution_count": null,
   "metadata": {},
   "outputs": [],
   "source": [
    "trial_errors = list()\n",
    "for i in range(12):\n",
    "    block_error = errors(1, i)\n",
    "    for j in range(64):\n",
    "        trial_errors.append(numpy.mean(block_error[j]))"
   ]
  },
  {
   "cell_type": "code",
   "execution_count": null,
   "metadata": {},
   "outputs": [],
   "source": [
    "plt.plot(trial_errors)"
   ]
  },
  {
   "cell_type": "code",
   "execution_count": null,
   "metadata": {},
   "outputs": [],
   "source": [
    "trial_errors = list()\n",
    "for i in range(12):\n",
    "    block_error = errors(2, i)\n",
    "    for j in range(64):\n",
    "        trial_errors.append(numpy.mean(block_error[j]))"
   ]
  },
  {
   "cell_type": "code",
   "execution_count": null,
   "metadata": {},
   "outputs": [],
   "source": [
    "ax = plt.axes()\n",
    "ax.plot(trial_errors)"
   ]
  },
  {
   "cell_type": "markdown",
   "metadata": {},
   "source": [
    "Error, movement time and initiation time in the same plot.\n",
    "Across groups\n",
    "Collapse movements across subjects in the group"
   ]
  },
  {
   "cell_type": "code",
   "execution_count": null,
   "metadata": {},
   "outputs": [],
   "source": [
    "def times(data, block):\n",
    "    initial_time = scipy.io.loadmat('data/participants/data{data}/initial_time/initial_time{block}.mat'.format(block=str(block), data=str(data)))\n",
    "    movement_time = scipy.io.loadmat('data/participants/data{data}/movement_time/movement_time{block}.mat'.format(block = str(block), data=str(data)))\n",
    "    #squares = scipy.io.loadmat('data/participants/data{data}/squares/coordinates/squares{block}.mat'.format(block=str(block), data=str(data)))\n",
    "    #xdiff = (ideal_traj['idealXs'] - traj['x'])\n",
    "    #ydiff = (ideal_traj['idealYs'] - traj['y'])\n",
    "    return initial_time, movement_time\n"
   ]
  },
  {
   "cell_type": "code",
   "execution_count": null,
   "metadata": {},
   "outputs": [],
   "source": [
    "initial_times = numpy.zeros((27, 12))\n",
    "movement_times = numpy.zeros((27, 12))"
   ]
  },
  {
   "cell_type": "code",
   "execution_count": null,
   "metadata": {},
   "outputs": [],
   "source": [
    "for participant in range(1,27):\n",
    "    if participant == 7:\n",
    "        continue\n",
    "    for block in range(12):\n",
    "        initial_time, movement_time = times(participant, block)\n",
    "        initial_times[participant, block] = numpy.mean(initial_time['initial_time'])\n",
    "        movement_times[participant, block] = numpy.mean(movement_time['movement_time'])"
   ]
  },
  {
   "cell_type": "code",
   "execution_count": null,
   "metadata": {
    "scrolled": true
   },
   "outputs": [],
   "source": [
    "initial_times_mean_sudden = numpy.mean(numpy.row_stack((initial_times[4:-1:4], initial_times[1:-1:4])), axis = 0)\n",
    "initial_times_sem_sudden = stat.sem(numpy.row_stack((initial_times[4:-1:4], initial_times[1:-1:4])))\n",
    "plt.plot(initial_times_mean_sudden, 'k-')\n",
    "plot1 = plt.fill_between(range(12), initial_times_mean_sudden + initial_times_sem_sudden, initial_times_mean_sudden - initial_times_sem_sudden, alpha = 0.5)\n",
    "\n",
    "\n",
    "initial_times_mean_gradual = numpy.mean(numpy.row_stack((initial_times[2:-1:4], initial_times[3:-1:4])), axis = 0)\n",
    "initial_times_sem_gradual = stat.sem(numpy.row_stack((initial_times[2:-1:4], initial_times[3:-1:4])))\n",
    "plt.plot(initial_times_mean_gradual, 'k-')\n",
    "plot2 = plt.fill_between(range(12), initial_times_mean_gradual + initial_times_sem_gradual, initial_times_mean_gradual - initial_times_sem_gradual, alpha = 0.5)\n",
    "\n",
    "plt.legend((plot1, plot2), (\"Sudden\", \"Gradual\"))\n",
    "plt.xlabel('Block')\n",
    "plt.ylabel('Initial Times')"
   ]
  },
  {
   "cell_type": "code",
   "execution_count": null,
   "metadata": {},
   "outputs": [],
   "source": [
    "initial_times_mean_speed = numpy.mean(initial_times[2:-1:2], axis = 0)\n",
    "initial_times_sem_speed = stat.sem(initial_times[2:-1:2])\n",
    "plt.plot(initial_times_mean_speed, 'k-')\n",
    "plot1 = plt.fill_between(range(12), initial_times_mean_speed + initial_times_sem_speed, initial_times_mean_speed - initial_times_sem_speed, alpha = 0.5)\n",
    "\n",
    "\n",
    "initial_times_mean_accuracy = numpy.mean(initial_times[1:-1:2], axis = 0)\n",
    "initial_times_sem_accuracy = stat.sem(initial_times[1:-1:2])\n",
    "plt.plot(initial_times_mean_accuracy, 'k-')\n",
    "plot2 = plt.fill_between(range(12), initial_times_mean_accuracy + initial_times_sem_accuracy, initial_times_mean_accuracy - initial_times_sem_accuracy, alpha = 0.5)\n",
    "\n",
    "plt.legend((plot1, plot2), (\"Speed\", \"Accuracy\"))\n",
    "plt.xlabel('Block')\n",
    "plt.ylabel('Initial Time')"
   ]
  },
  {
   "cell_type": "code",
   "execution_count": null,
   "metadata": {},
   "outputs": [],
   "source": [
    "initial_times_mean_speed_gradual = numpy.mean(initial_times[2:-1:4], axis = 0)\n",
    "initial_times_sem_speed_gradual = stat.sem(initial_times[2:-1:4])\n",
    "plt.plot(initial_times_mean_speed_gradual, 'k-')\n",
    "plot1 = plt.fill_between(range(12), initial_times_mean_speed_gradual + initial_times_sem_speed_gradual, initial_times_mean_speed_gradual - initial_times_sem_speed_gradual, alpha = 0.5)\n",
    "\n",
    "initial_times_mean_accuracy_gradual = numpy.mean(initial_times[3:-1:4], axis = 0)\n",
    "initial_times_sem_accuracy_gradual = stat.sem(initial_times[3:-1:4])\n",
    "plt.plot(initial_times_mean_accuracy_gradual, 'k-')\n",
    "plot2 = plt.fill_between(range(12), initial_times_mean_accuracy_gradual + initial_times_sem_accuracy_gradual, initial_times_mean_accuracy_gradual - initial_times_sem_accuracy_gradual, alpha = 0.5)\n",
    "\n",
    "initial_times_mean_speed_sudden = numpy.mean(initial_times[4:-1:4], axis = 0)\n",
    "initial_times_sem_speed_sudden = stat.sem(initial_times[4:-1:4])\n",
    "plt.plot(initial_times_mean_speed_sudden, 'k-')\n",
    "plot3 = plt.fill_between(range(12), initial_times_mean_speed_sudden + initial_times_sem_speed_sudden, initial_times_mean_speed_sudden - initial_times_sem_speed_sudden, alpha = 0.5)\n",
    "\n",
    "initial_times_mean_accuracy_sudden = numpy.mean(initial_times[1:-1:4], axis = 0)\n",
    "initial_times_sem_accuracy_sudden = stat.sem(initial_times[1:-1:4])\n",
    "plt.plot(initial_times_mean_accuracy_sudden, 'k-')\n",
    "plot4 = plt.fill_between(range(12), initial_times_mean_accuracy_sudden + initial_times_sem_accuracy_sudden, initial_times_mean_accuracy_sudden - initial_times_sem_accuracy_sudden, alpha = 0.5)\n",
    "\n",
    "\n",
    "plt.legend((plot1, plot2, plot3, plot4), (\"SG\", \"AG\", \"SS\", \"AS\"))\n",
    "plt.xlabel('Block')\n",
    "plt.ylabel('Initial Time')"
   ]
  },
  {
   "cell_type": "code",
   "execution_count": null,
   "metadata": {},
   "outputs": [],
   "source": [
    "plt.bar(range(4), [initial_times_mean_accuracy_gradual[11] - initial_times_mean_accuracy_gradual[10], initial_times_mean_accuracy_sudden[11] - initial_times_mean_accuracy_sudden[10], initial_times_mean_speed_gradual[11] - initial_times_mean_speed_gradual[10], initial_times_mean_speed_sudden[11] - initial_times_mean_speed_sudden[10]])"
   ]
  },
  {
   "cell_type": "code",
   "execution_count": null,
   "metadata": {},
   "outputs": [],
   "source": [
    "ybar = [numpy.mean(initial_times[1:-1:2][11] - initial_times[1:-1:2][10]), numpy.mean(initial_times[2:-1:2][11] - initial_times[2:-1:2][10])]\n",
    "yerr = [stat.sem(initial_times[1:-1:2][11] - initial_times[1:-1:2][10]), stat.sem(initial_times[2:-1:2][11] - initial_times[2:-1:2][10])]\n",
    "plt.bar(range(2), ybar, yerr = yerr)"
   ]
  },
  {
   "cell_type": "code",
   "execution_count": null,
   "metadata": {},
   "outputs": [],
   "source": [
    "#numpy.mean(initial_times[1:-1:2][11])\n",
    "#initial_times_mean_accuracy[11]\n",
    "initial_times_mean_accuracy\n",
    "initial_times[1:-1:2][11]\n",
    "numpy.mean(initial_times[1:-1:2], axis = 0)"
   ]
  },
  {
   "cell_type": "code",
   "execution_count": null,
   "metadata": {},
   "outputs": [],
   "source": [
    "plt.bar(range(2), [movement_times_mean_sudden[11] - movement_times_mean_sudden[10], movement_times_mean_gradual[11] - movement_times_mean_gradual[10]])"
   ]
  },
  {
   "cell_type": "code",
   "execution_count": null,
   "metadata": {},
   "outputs": [],
   "source": [
    "movement_times_mean_sudden = numpy.mean(numpy.row_stack((movement_times[4:-1:4], movement_times[1:-1:4])), axis = 0)\n",
    "movement_times_sem_sudden = stat.sem(numpy.row_stack((movement_times[4:-1:4], movement_times[1:-1:4])))\n",
    "plt.plot(movement_times_mean_sudden, 'k-')\n",
    "plot1 = plt.fill_between(range(12), movement_times_mean_sudden + movement_times_sem_sudden, movement_times_mean_sudden - movement_times_sem_sudden, alpha = 0.5)\n",
    "\n",
    "\n",
    "movement_times_mean_gradual = numpy.mean(numpy.row_stack((movement_times[2:-1:4], movement_times[3:-1:4])), axis = 0)\n",
    "movement_times_sem_gradual = stat.sem(numpy.row_stack((movement_times[2:-1:4], movement_times[3:-1:4])))\n",
    "plt.plot(movement_times_mean_gradual, 'k-')\n",
    "plot2 = plt.fill_between(range(12), movement_times_mean_gradual + movement_times_sem_gradual, movement_times_mean_gradual - movement_times_sem_gradual, alpha = 0.5)\n",
    "\n",
    "plt.legend((plot1, plot2), (\"Sudden\", \"Gradual\"))\n",
    "plt.xlabel('Block')\n",
    "plt.ylabel('Movement Times')"
   ]
  },
  {
   "cell_type": "code",
   "execution_count": null,
   "metadata": {},
   "outputs": [],
   "source": [
    "movement_times_mean_speed = numpy.mean(movement_times[2:-1:2], axis = 0)\n",
    "movement_times_sem_speed = stat.sem(movement_times[2:-1:2])\n",
    "plt.plot(movement_times_mean_speed, 'k-')\n",
    "plot1 = plt.fill_between(range(12), movement_times_mean_speed + movement_times_sem_speed, movement_times_mean_speed - movement_times_sem_speed, alpha = 0.5)\n",
    "\n",
    "\n",
    "movement_times_mean_accuracy = numpy.mean(movement_times[1:-1:2], axis = 0)\n",
    "movement_times_sem_accuracy = stat.sem(movement_times[1:-1:2])\n",
    "plt.plot(movement_times_mean_accuracy, 'k-')\n",
    "plot2 = plt.fill_between(range(12), movement_times_mean_accuracy + movement_times_sem_accuracy, movement_times_mean_accuracy - movement_times_sem_accuracy, alpha = 0.5)\n",
    "\n",
    "plt.legend((plot1, plot2), (\"Speed\", \"Accuracy\"))\n",
    "plt.xlabel('Block')\n",
    "plt.ylabel('Movement Times')"
   ]
  },
  {
   "cell_type": "code",
   "execution_count": null,
   "metadata": {},
   "outputs": [],
   "source": [
    "fig, plot1 = plt.subplots()\n",
    "plot1.plot(numpy.mean(numpy.row_stack((error_sum[4:-1:4], error_sum[1:-1:4])), axis = 0), 'k-')\n",
    "plot1.plot(numpy.mean(numpy.row_stack((error_sum[2:-1:4], error_sum[3:-1:4])), axis = 0), 'k-')\n",
    "\n",
    "plot1 = plt.fill_between(range(12), numpy.mean(numpy.row_stack((error_sum[4:-1:4], error_sum[1:-1:4])), axis = 0) + stat.sem(numpy.row_stack((error_sum[4:-1:4], error_sum[1:-1:4]))), numpy.mean(numpy.row_stack((error_sum[4:-1:4], error_sum[1:-1:4])), axis = 0) - stat.sem(numpy.row_stack((error_sum[4:-1:4], error_sum[1:-1:4]))), alpha = 0.5)\n",
    "plot2 = plt.fill_between(range(12), numpy.mean(numpy.row_stack((error_sum[2:-1:4], error_sum[3:-1:4])), axis = 0) + stat.sem(numpy.row_stack((error_sum[2:-1:4], error_sum[3:-1:4]))), numpy.mean(numpy.row_stack((error_sum[2:-1:4], error_sum[3:-1:4])), axis = 0) - stat.sem(numpy.row_stack((error_sum[2:-1:4], error_sum[3:-1:4]))), alpha = 0.5)\n",
    "plt.legend((plot1, plot2), (\"Sudden\", \"Gradual\"))\n",
    "#error_sum[3]\n",
    "#error_sum\n",
    "plt.xlabel('Block')\n",
    "plt.ylabel('Error')\n",
    "#plot1.\n",
    "plot3 = plot1.twinx()\n",
    "initial_times_mean_sudden = numpy.mean(numpy.row_stack((initial_times[4:-1:4], initial_times[1:-1:4])), axis = 0)\n",
    "initial_times_sem_sudden = stat.sem(numpy.row_stack((initial_times[4:-1:4], initial_times[1:-1:4])))\n",
    "plt.plot(initial_times_mean_sudden, 'k-')\n",
    "plot1 = plt.fill_between(range(10), initial_times_mean_sudden + initial_times_sem_sudden, initial_times_mean_sudden - initial_times_sem_sudden, alpha = 0.5)\n",
    "\n",
    "\n",
    "initial_times_mean_gradual = numpy.mean(numpy.row_stack((initial_times[2:-1:4], initial_times[3:-1:4])), axis = 0)\n",
    "initial_times_sem_gradual = stat.sem(numpy.row_stack((initial_times[2:-1:4], initial_times[3:-1:4])))\n",
    "plt.plot(initial_times_mean_gradual, 'k-')\n",
    "plot2 = plt.fill_between(range(10), initial_times_mean_gradual + initial_times_sem_gradual, initial_times_mean_gradual - initial_times_sem_gradual, alpha = 0.5)\n",
    "\n",
    "plt.legend((plot1, plot2), (\"Sudden\", \"Gradual\"))\n",
    "\n",
    "movement_times_mean_sudden = numpy.mean(numpy.row_stack((movement_times[4:-1:4], movement_times[1:-1:4])), axis = 0)\n",
    "movement_times_sem_sudden = stat.sem(numpy.row_stack((movement_times[4:-1:4], movement_times[1:-1:4])))\n",
    "plt.plot(movement_times_mean_sudden, 'k-')\n",
    "plot1 = plt.fill_between(range(10), movement_times_mean_sudden + movement_times_sem_sudden, movement_times_mean_sudden - movement_times_sem_sudden, alpha = 0.5)\n",
    "\n",
    "\n",
    "movement_times_mean_gradual = numpy.mean(numpy.row_stack((movement_times[2:-1:4], movement_times[3:-1:4])), axis = 0)\n",
    "movement_times_sem_gradual = stat.sem(numpy.row_stack((movement_times[2:-1:4], movement_times[3:-1:4])))\n",
    "plt.plot(movement_times_mean_gradual, 'k-')\n",
    "plot2 = plt.fill_between(range(10), movement_times_mean_gradual + movement_times_sem_gradual, movement_times_mean_gradual - movement_times_sem_gradual, alpha = 0.5)\n",
    "\n",
    "plt.legend((plot1, plot2), (\"Sudden\", \"Gradual\"))"
   ]
  },
  {
   "cell_type": "code",
   "execution_count": null,
   "metadata": {},
   "outputs": [],
   "source": []
  },
  {
   "cell_type": "code",
   "execution_count": null,
   "metadata": {},
   "outputs": [],
   "source": [
    "score = error_sum[:, 1]"
   ]
  },
  {
   "cell_type": "code",
   "execution_count": null,
   "metadata": {},
   "outputs": [],
   "source": [
    "#speed emphasis is 1\n",
    "emphasis = numpy.zeros(len(score))\n",
    "emphasis[1:-1:2] = 1\n",
    "\n",
    "condition = numpy.zeros(len(score))\n",
    "condition[1:-1:4] = 1\n",
    "condition[0:-1:4] = 1\n",
    "condition"
   ]
  },
  {
   "cell_type": "code",
   "execution_count": null,
   "metadata": {},
   "outputs": [],
   "source": [
    "numpy.savetxt('error_anova.csv', numpy.column_stack((emphasis, condition, score)), delimiter=\",\")\n"
   ]
  },
  {
   "cell_type": "code",
   "execution_count": null,
   "metadata": {},
   "outputs": [],
   "source": [
    "lm = smf.OLS(score, numpy.column_stack((emphasis, condition))).fit()"
   ]
  },
  {
   "cell_type": "code",
   "execution_count": null,
   "metadata": {},
   "outputs": [],
   "source": [
    "print (lm.summary())"
   ]
  },
  {
   "cell_type": "code",
   "execution_count": null,
   "metadata": {},
   "outputs": [],
   "source": [
    "table = sm.stats.anova_lm(lm)"
   ]
  },
  {
   "cell_type": "markdown",
   "metadata": {},
   "source": [
    "\n",
    "distance from target vs time quantiles\n",
    "\n",
    "break blocks into 16 sets of trials\n",
    "\n",
    "error vs groups of trials\n",
    "\n",
    "Clean up data"
   ]
  },
  {
   "cell_type": "code",
   "execution_count": null,
   "metadata": {},
   "outputs": [],
   "source": [
    "numpy.column_stack((initial_times[1:-1:4][1], initial_times[4:-1:4][1])) - numpy.column_stack((initial_times[1:-1:4][0], initial_times[4:-1:4][0]))"
   ]
  },
  {
   "cell_type": "code",
   "execution_count": null,
   "metadata": {},
   "outputs": [],
   "source": [
    "numpy.concatenate((initial_times[1:-1:4,1], initial_times[4:-1:4, 1])) - numpy.concatenate((initial_times[1:-1:4,0], initial_times[4:-1:4, 0]))"
   ]
  },
  {
   "cell_type": "code",
   "execution_count": null,
   "metadata": {},
   "outputs": [],
   "source": [
    "numpy.concatenate((initial_times[1:-1:4,11], initial_times[4:-1:4, 11])) - numpy.concatenate((initial_times[1:-1:4,10], initial_times[4:-1:4, 10]))"
   ]
  },
  {
   "cell_type": "code",
   "execution_count": null,
   "metadata": {},
   "outputs": [],
   "source": [
    "def calc_dist(traj):    \n",
    "    distance = list()\n",
    "    for j in range(64):\n",
    "        traj_dist = list()\n",
    "        trajx, trajy = traj['x'][0][j][0], traj['y'][0][j][0]\n",
    "        #end_pointx, end_pointy  = square_coord['squareX'][0][j], square_coord['squareY'][0][j]\n",
    "        end_pointx, end_pointy  = traj['x'][0][j][0][-1], traj['y'][0][j][0][-1]\n",
    "\n",
    "\n",
    "        for i in range(len(trajx)):\n",
    "            xdist = numpy.absolute(end_pointx - trajx[i])\n",
    "            ydist = numpy.absolute(end_pointy-trajy[i])\n",
    "            dist = numpy.sqrt(xdist**2 + ydist**2)\n",
    "            traj_dist.append(dist)\n",
    "        distance.append(traj_dist)\n",
    "    return distance\n",
    "#dist = numpy.linalg.norm(numpy.cross(p2-p1, p1-p3))/numpy.linalg.norm(p2-p1)"
   ]
  },
  {
   "cell_type": "code",
   "execution_count": null,
   "metadata": {},
   "outputs": [],
   "source": [
    "def distancevstime(data, block):\n",
    "    traj = scipy.io.loadmat('data/participants/data{data}/actual_trajectories/trajectories{block}.mat'.format(block=str(block), data=str(data)))\n",
    "    ideal_traj = scipy.io.loadmat('data/participants/data{data}/ideal_trajectories/ideal_trajectories{block}.mat'.format(block = str(block), data=str(data)))\n",
    "    #squares = scipy.io.loadmat('data/participants/data{data}/squares/coordinates/squares{block}.mat'.format(block=str(block), data=str(data)))\n",
    "    #xdiff = (ideal_traj['idealXs'] - traj['x'])\n",
    "    #ydiff = (ideal_traj['idealYs'] - traj['y'])\n",
    "    distance = calc_dist(traj)\n",
    "    \n",
    "    #error = xdiff**2+ydiff**2\n",
    "    #print (error)\n",
    "    distance_means = numpy.zeros((64, 5))\n",
    "    for i in range(64):\n",
    "        n = len(distance[i])\n",
    "        for j in range(5):\n",
    "            distance_means[i, j] = numpy.nanmean(distance[i][int(numpy.floor((j)*n/5)):int(numpy.floor((j+1)*n/5))])\n",
    "        #error_means[i, ] = error_means[i, ]/max(error_means[i,])\n",
    "\n",
    "    \n",
    "    time_means = numpy.zeros((64, 5))\n",
    "\n",
    "    for i in range(64):\n",
    "        n = len(distance[i])\n",
    "        for j in range(5):\n",
    "            time_means[i, j] = len(distance[i][int(numpy.floor((j)*n/5)):int(numpy.floor((j+1)*n/5))])\n",
    "    times = numpy.cumsum(numpy.mean(time_means, axis = 0))\n",
    "    plt.errorbar(times, numpy.nanmean(distance_means, axis = 0), xerr = stat.sem(time_means, axis = 0), yerr = stat.sem(distance_means, axis = 0))\n",
    "    plt.ylabel('Distance')\n",
    "    plt.xlabel('Time')\n",
    "    #plt.xlim(0, 100)\n",
    "    #plt.ylim(-20, 70)\n",
    "    return times, numpy.nanmean(distance_means, axis = 0)"
   ]
  },
  {
   "cell_type": "code",
   "execution_count": null,
   "metadata": {},
   "outputs": [],
   "source": [
    "distss = numpy.array([])\n",
    "distas = numpy.array([])\n",
    "distsg = numpy.array([])\n",
    "distag = numpy.array([])\n",
    "timess = numpy.array([])\n",
    "timeas = numpy.array([])\n",
    "timesg = numpy.array([])\n",
    "timeag = numpy.array([])\n",
    "data = 11\n",
    "for participant in range(1, 27):\n",
    "    if participant == 7:\n",
    "        continue\n",
    "    if participant%4 == 0:\n",
    "        temp = distancevstime(participant, data)\n",
    "        distss = numpy.concatenate((distss, temp[1]))\n",
    "        timess = numpy.concatenate((timess, temp[0]))\n",
    "    if participant%4 == 1:\n",
    "        temp = distancevstime(participant, data)\n",
    "        distas = numpy.concatenate((distas, temp[1]))\n",
    "        timeas = numpy.concatenate((timeas, temp[0]))\n",
    "    if participant%4 == 2:\n",
    "        temp = distancevstime(participant, data)\n",
    "        distsg = numpy.concatenate((distsg, temp[1]))\n",
    "        timesg = numpy.concatenate((timesg, temp[0]))\n",
    "    if participant%4 == 3:\n",
    "        temp = distancevstime(participant, data)\n",
    "        distag = numpy.concatenate((distag, temp[1]))\n",
    "        timeag = numpy.concatenate((timeag, temp[0]))\n",
    "\n",
    "#    distancevstime(16, 11)\n"
   ]
  },
  {
   "cell_type": "code",
   "execution_count": null,
   "metadata": {},
   "outputs": [],
   "source": [
    "plot1, = plt.plot(numpy.nanmean(numpy.reshape(timess, (int(len(timess)/5), 5)), axis = 0), numpy.nanmean(numpy.reshape(distss, (int(len(distss)/5), 5)), axis = 0))\n",
    "plot2, = plt.plot(numpy.nanmean(numpy.reshape(timesg, (int(len(timesg)/5), 5)), axis = 0), numpy.nanmean(numpy.reshape(distsg, (int(len(distsg)/5), 5)), axis = 0))\n",
    "plot3, = plt.plot(numpy.nanmean(numpy.reshape(timeas, (int(len(timeas)/5), 5)), axis = 0), numpy.nanmean(numpy.reshape(distas, (int(len(distas)/5), 5)), axis = 0))\n",
    "plot4, = plt.plot(numpy.nanmean(numpy.reshape(timeag, (int(len(timeag)/5), 5)), axis = 0), numpy.nanmean(numpy.reshape(distag, (int(len(distag)/5), 5)), axis = 0))\n",
    "\n",
    "plt.legend((plot1, plot2, plot3, plot4), ('SS', 'SG', 'AS', 'AG'))\n",
    "plt.xlabel('Time')\n",
    "plt.ylabel('Distance to target')"
   ]
  },
  {
   "cell_type": "code",
   "execution_count": null,
   "metadata": {},
   "outputs": [],
   "source": []
  }
 ],
 "metadata": {
  "kernelspec": {
   "display_name": "Python 3",
   "language": "python",
   "name": "python3"
  },
  "language_info": {
   "codemirror_mode": {
    "name": "ipython",
    "version": 3
   },
   "file_extension": ".py",
   "mimetype": "text/x-python",
   "name": "python",
   "nbconvert_exporter": "python",
   "pygments_lexer": "ipython3",
   "version": "3.7.0"
  }
 },
 "nbformat": 4,
 "nbformat_minor": 2
}
