{
 "cells": [
  {
   "cell_type": "code",
   "execution_count": 1,
   "metadata": {},
   "outputs": [],
   "source": [
    "import scipy.io\n",
    "import numpy as np\n",
    "import matplotlib.pyplot as plt\n",
    "from ipywidgets import interact, interactive, fixed, interact_manual\n",
    "import ipywidgets as widgets\n",
    "import scipy.stats as stat\n",
    "from sklearn.linear_model import LinearRegression\n",
    "import statsmodels.api as sm\n",
    "import statsmodels.formula.api as smf\n",
    "from multiprocessing import Pool\n",
    "from scipy import stats\n",
    "import math"
   ]
  },
  {
   "cell_type": "markdown",
   "metadata": {},
   "source": [
    "# Blue: Model Based\n",
    "# Green: Model Free"
   ]
  },
  {
   "cell_type": "code",
   "execution_count": 2,
   "metadata": {},
   "outputs": [],
   "source": [
    "def times(data, block):\n",
    "    initial_time = scipy.io.loadmat('data/participants/data{data}/initial_time/initial_time{block}.mat'.format(block=str(block), data=str(data)))\n",
    "    movement_time = scipy.io.loadmat('data/participants/data{data}/movement_time/movement_time{block}.mat'.format(block = str(block), data=str(data)))\n",
    "    #squares = scipy.io.loadmat('data/participants/data{data}/squares/coordinates/squares{block}.mat'.format(block=str(block), data=str(data)))\n",
    "    #xdiff = (ideal_traj['idealXs'] - traj['x'])\n",
    "    #ydiff = (ideal_traj['idealYs'] - traj['y'])\n",
    "    initial_time = initial_time['initial_time'][:, 0]\n",
    "    movement_time = movement_time['movement_time'][:, 0]\n",
    "    return initial_time, movement_time\n"
   ]
  },
  {
   "cell_type": "code",
   "execution_count": 3,
   "metadata": {},
   "outputs": [],
   "source": [
    "def get_times():\n",
    "    initial_times = np.zeros((59, 12, 64))\n",
    "    movement_times = np.zeros((59, 12, 64))\n",
    "    for participant in range(1, 59):\n",
    "        if participant == 7:\n",
    "            continue\n",
    "        else:\n",
    "            for block in range(12):\n",
    "                it, mt = times(participant, block)\n",
    "                initial_times[participant, block] = it\n",
    "                movement_times[participant, block] = mt\n",
    "    return initial_times, movement_times"
   ]
  },
  {
   "cell_type": "code",
   "execution_count": 4,
   "metadata": {},
   "outputs": [],
   "source": [
    "its, mts = get_times()"
   ]
  },
  {
   "cell_type": "code",
   "execution_count": null,
   "metadata": {},
   "outputs": [],
   "source": [
    "def wald_density(rt, a, v):\n",
    "    dc = 0.1\n",
    "    mu = a/v\n",
    "    lamb = a**2/dc**2\n",
    "    return np.sqrt(lamb/(2*np.pi*rt**3)) * np.exp((-lamb*(rt-mu)**2)/(2*mu**2*rt))"
   ]
  },
  {
   "cell_type": "code",
   "execution_count": null,
   "metadata": {},
   "outputs": [],
   "source": [
    "def wald_cumm_density(rt, a, v):\n",
    "    return scipy.integrate.quad(wald_density, 0, rt, args = (a, v))[0]\n",
    "    "
   ]
  },
  {
   "cell_type": "code",
   "execution_count": null,
   "metadata": {},
   "outputs": [],
   "source": []
  },
  {
   "cell_type": "code",
   "execution_count": null,
   "metadata": {},
   "outputs": [],
   "source": [
    "total_times = its\n",
    "def get_average_quantile(total_times):\n",
    "    quantiles = np.zeros((len(total_times), 12, 5))\n",
    "    for participant in range(1, len(total_times)):\n",
    "        if participant == 7:\n",
    "            continue\n",
    "        else:\n",
    "            for block in range(12):\n",
    "                quantiles[participant, block, :] =  np.quantile(total_times[participant, block], np.array([0.1, 0.3, 0.5, 0.7, 0.9]))\n",
    "    return np.mean(quantiles, axis=0)\n"
   ]
  },
  {
   "cell_type": "code",
   "execution_count": null,
   "metadata": {},
   "outputs": [],
   "source": [
    "average_quantiles = get_average_quantile(its)"
   ]
  },
  {
   "cell_type": "code",
   "execution_count": null,
   "metadata": {},
   "outputs": [],
   "source": [
    "its[its > 0.000001]"
   ]
  },
  {
   "cell_type": "code",
   "execution_count": null,
   "metadata": {},
   "outputs": [],
   "source": []
  },
  {
   "cell_type": "markdown",
   "metadata": {},
   "source": [
    "1. Find Quantiles for the data. \n",
    "2. For each quantile point, calculate predicted/expected frequencies for a wald with some parameters\n",
    "\n",
    "    - Find a quantile point in the data.\n",
    "\n",
    "    - Find wald area between that quantile point and the previous quantile point. This wald area is for a wald with some parameters.\n",
    "\n",
    "    - Find expected frequencies by multiplying the normalized areas with total observations.\n",
    "    \n",
    "3. Observed Frequencies are the ideal frequencies.\n",
    "\n",
    "4. Gsquared is 2 * Sum(observed * log(observed/expected))"
   ]
  },
  {
   "cell_type": "code",
   "execution_count": null,
   "metadata": {},
   "outputs": [],
   "source": []
  },
  {
   "cell_type": "code",
   "execution_count": null,
   "metadata": {},
   "outputs": [],
   "source": []
  },
  {
   "cell_type": "code",
   "execution_count": null,
   "metadata": {},
   "outputs": [],
   "source": []
  },
  {
   "cell_type": "code",
   "execution_count": null,
   "metadata": {},
   "outputs": [],
   "source": [
    "def get_wald_areas(par, data):\n",
    "    a, v, ter = par[0], par[1], par[2]\n",
    "    data = data - ter\n",
    "    quantiles = np.quantile(data, [0.1, 0.3, 0.5, 0.7, 0.9])\n",
    "    cuts = np.append(np.insert(quantiles, 0, 0.000001), np.inf)\n",
    "    areas = list()\n",
    "    for i in range(len(cuts) - 1):\n",
    "        areas.append(wald_cumm_density(cuts[i+1], a, v) - wald_cumm_density(cuts[i], a, v))\n",
    "    return np.array(areas)"
   ]
  },
  {
   "cell_type": "code",
   "execution_count": null,
   "metadata": {},
   "outputs": [],
   "source": [
    "def get_exp_freq(areas, data):\n",
    "    #count = areas/(float)(np.sum(areas))\n",
    "    #count = count*len(data)\n",
    "    #print(areas)\n",
    "    #print(len(data))\n",
    "    return areas*len(data)"
   ]
  },
  {
   "cell_type": "code",
   "execution_count": null,
   "metadata": {},
   "outputs": [],
   "source": [
    "def get_wald_areas(par, quantiles):\n",
    "    a, v, ter = par[0], par[1], par[2]\n",
    "    #data = data - ter\n",
    "#    quantiles = np.quantile(data, [0.1, 0.3, 0.5, 0.7, 0.9])\n",
    "#    quantiles = average_quantiles[block]\n",
    "    quantiles = quantiles - ter\n",
    "    cuts = np.append(np.insert(quantiles, 0, 0.000001), np.inf)\n",
    "    areas = list()\n",
    "    for i in range(len(cuts) - 1):\n",
    "        areas.append(wald_cumm_density(cuts[i+1], a, v) - wald_cumm_density(cuts[i], a, v))\n",
    "    return np.array(areas)"
   ]
  },
  {
   "cell_type": "code",
   "execution_count": null,
   "metadata": {},
   "outputs": [],
   "source": []
  },
  {
   "cell_type": "code",
   "execution_count": null,
   "metadata": {},
   "outputs": [],
   "source": [
    "def get_gsq(par, data, observed_freq):\n",
    "    #print (data)\n",
    "    expected_freq = get_exp_freq(get_wald_areas(par, data), data)\n",
    "    penalty = 0\n",
    "    if par[0] <= 0:\n",
    "        penalty = penalty + 10\n",
    "    if par[1] <= 0:\n",
    "        penalty = penalty + 10\n",
    "    if par[2] <= 0:\n",
    "        penalty = penalty + 10\n",
    "    #print (expected_freq)\n",
    "    gsq = penalty + 2 * np.sum(observed_freq*np.log(observed_freq/expected_freq))\n",
    "    \n",
    "    return gsq"
   ]
  },
  {
   "cell_type": "code",
   "execution_count": null,
   "metadata": {},
   "outputs": [],
   "source": [
    "def get_gsq(par, observed_freq, quantiles):\n",
    "    expected_freq = get_exp_freq(get_wald_areas(par, quantiles))\n",
    "    penalty = 0\n",
    "    if par[0] < 0:\n",
    "        penalty = penalty + 10\n",
    "    if par[1] < 0:\n",
    "        penaelty = penalty + 10\n",
    "    if par[2] < 0:\n",
    "        penalty = penalty + 10\n",
    "   \n",
    "    gsq = penalty + 2 * np.sum(observed_freq*np.log(observed_freq/expected_freq))\n",
    "    return gsq"
   ]
  },
  {
   "cell_type": "code",
   "execution_count": null,
   "metadata": {},
   "outputs": [],
   "source": [
    "def plot_rt_dist(rt, condition, block):\n",
    "    total_time = np.ravel(np.concatenate((rt[condition+1:7:4, block], rt[condition+8::4, block])))\n",
    "    plt.hist(total_time[total_time>0.0004], bins = 100)"
   ]
  },
  {
   "cell_type": "code",
   "execution_count": null,
   "metadata": {},
   "outputs": [],
   "source": []
  },
  {
   "cell_type": "markdown",
   "metadata": {},
   "source": [
    "Fit Loop. Scipy optim"
   ]
  },
  {
   "cell_type": "markdown",
   "metadata": {},
   "source": [
    "# Fit all participants"
   ]
  },
  {
   "cell_type": "code",
   "execution_count": null,
   "metadata": {},
   "outputs": [],
   "source": [
    "def fit_all(par, times):\n",
    "    fit_a = np.zeros((4, 12))\n",
    "    fit_v = np.zeros((4, 12))\n",
    "    fit_gsq = np.zeros((4, 12))\n",
    "    fit_ter = np.zeros((4, 12))\n",
    "    optim_fail = np.zeros((4, 12))\n",
    "    initial_params = par\n",
    "    for condition in range(4):\n",
    "        average_quantiles = get_average_quantile(np.concatenate((times[condition+1:7:4], times[condition+8::4])))\n",
    "\n",
    "        for block in range(12):\n",
    "            total_times = np.ravel(np.concatenate((times[condition+1:7:4, block], times[condition+8::4, block])))\n",
    "            #total_times = total_times[total_times < 5]\n",
    "            total_times = total_times[total_times > 0.0004]\n",
    "            #print (len(total_times))\n",
    "            observed_freq = np.array([0.1, 0.2, 0.2, 0.2, 0.2, 0.1]) * 64\n",
    "            optimal = scipy.optimize.minimize(get_gsq, x0 = initial_params, args = (observed_freq, average_quantiles[block]), method='SLSQP')\n",
    "            fit_a[condition,block] = optimal.x[0]\n",
    "            fit_v[condition, block] = optimal.x[1]\n",
    "            fit_ter[condition, block] = optimal.x[2]\n",
    "            fit_gsq[condition, block] = optimal.fun\n",
    "            #print (block)\n",
    "        print (condition)\n",
    "            \n",
    "    return fit_a, fit_v, fit_ter, fit_gsq, optim_fail"
   ]
  },
  {
   "cell_type": "code",
   "execution_count": null,
   "metadata": {},
   "outputs": [],
   "source": []
  },
  {
   "cell_type": "code",
   "execution_count": null,
   "metadata": {},
   "outputs": [],
   "source": []
  },
  {
   "cell_type": "code",
   "execution_count": null,
   "metadata": {},
   "outputs": [],
   "source": []
  },
  {
   "cell_type": "code",
   "execution_count": null,
   "metadata": {},
   "outputs": [],
   "source": [
    "def plot_all(fit_a, fit_v, fit_ter, fit_gsq, optim_fail):\n",
    "    plot_a1, = plt.plot(fit_a[0], 'r')\n",
    "    plot_a2, = plt.plot(fit_a[1], 'b')\n",
    "    plot_a3, = plt.plot(fit_a[2], 'g')\n",
    "    plot_a4, = plt.plot(fit_a[3], 'y')\n",
    "    plt.title('Fit Boundary Parameters')\n",
    "    plt.xlabel('Block')\n",
    "    plt.ylabel('Parameter Values')\n",
    "    plt.legend((plot_a1, plot_a2, plot_a3, plot_a4), (\"Sudden Accuracy\", \"Gradual Speed\", \"Gradual Accuracy\", \"Sudden Speed\"))\n",
    "    plt.show()\n",
    "    \n",
    "    plot_v1, = plt.plot(fit_v[0], 'r')\n",
    "    plot_v2, = plt.plot(fit_v[1], 'b')\n",
    "    plot_v3, = plt.plot(fit_v[2], 'g')\n",
    "    plot_v4, = plt.plot(fit_v[3], 'y')\n",
    "    plt.title('Fit Drift Parameters')\n",
    "    plt.xlabel('Block')\n",
    "    plt.ylabel('Parameter Value')\n",
    "    plt.legend((plot_v1, plot_v2, plot_v3, plot_v4), (\"Sudden Accuracy\", \"Gradual Speed\", \"Gradual Accuracy\", \"Sudden Speed\"))\n",
    "    plt.show()\n",
    "    \n",
    "    plot_t1, = plt.plot(fit_ter[0], 'r')\n",
    "    plot_t2, = plt.plot(fit_ter[1], 'b')\n",
    "    plot_t3, = plt.plot(fit_ter[2], 'g')\n",
    "    plot_t4, = plt.plot(fit_ter[3], 'y')\n",
    "    plt.title('Fit non decision time Parameters')\n",
    "    plt.xlabel('Block')\n",
    "    plt.ylabel('Parameter Value')\n",
    "    plt.legend((plot_t1, plot_t2, plot_t3, plot_t4), (\"Sudden Accuracy\", \"Gradual Speed\", \"Gradual Accuracy\", \"Sudden Speed\"))\n",
    "    plt.show()\n",
    "    \n",
    "    plot_g1, = plt.plot(fit_gsq[0], 'r')\n",
    "    plot_g2, = plt.plot(fit_gsq[1], 'b')\n",
    "    plot_g3, = plt.plot(fit_gsq[2], 'g')\n",
    "    plot_g4, = plt.plot(fit_gsq[3], 'y')\n",
    "    plt.title('Fit GSQs')\n",
    "    plt.xlabel('Block')\n",
    "    plt.ylabel('Parameter Value')\n",
    "    plt.legend((plot_g1, plot_g2, plot_g3, plot_g4), (\"Sudden Accuracy\", \"Gradual Speed\", \"Gradual Accuracy\", \"Sudden Speed\"))\n",
    "    plt.show()"
   ]
  },
  {
   "cell_type": "code",
   "execution_count": null,
   "metadata": {},
   "outputs": [],
   "source": [
    "#plot_all(a, v, ter, gsq, optim_fail)"
   ]
  },
  {
   "cell_type": "code",
   "execution_count": null,
   "metadata": {},
   "outputs": [],
   "source": []
  },
  {
   "cell_type": "code",
   "execution_count": null,
   "metadata": {},
   "outputs": [],
   "source": []
  },
  {
   "cell_type": "code",
   "execution_count": null,
   "metadata": {},
   "outputs": [],
   "source": []
  },
  {
   "cell_type": "code",
   "execution_count": null,
   "metadata": {},
   "outputs": [],
   "source": []
  },
  {
   "cell_type": "code",
   "execution_count": null,
   "metadata": {},
   "outputs": [],
   "source": []
  },
  {
   "cell_type": "code",
   "execution_count": null,
   "metadata": {},
   "outputs": [],
   "source": []
  },
  {
   "cell_type": "code",
   "execution_count": null,
   "metadata": {},
   "outputs": [],
   "source": []
  },
  {
   "cell_type": "code",
   "execution_count": null,
   "metadata": {},
   "outputs": [],
   "source": []
  },
  {
   "cell_type": "code",
   "execution_count": null,
   "metadata": {},
   "outputs": [],
   "source": []
  },
  {
   "cell_type": "code",
   "execution_count": null,
   "metadata": {},
   "outputs": [],
   "source": []
  },
  {
   "cell_type": "code",
   "execution_count": null,
   "metadata": {},
   "outputs": [],
   "source": []
  },
  {
   "cell_type": "code",
   "execution_count": null,
   "metadata": {},
   "outputs": [],
   "source": []
  },
  {
   "cell_type": "code",
   "execution_count": null,
   "metadata": {},
   "outputs": [],
   "source": [
    "#observed_freq = "
   ]
  },
  {
   "cell_type": "code",
   "execution_count": null,
   "metadata": {},
   "outputs": [],
   "source": [
    "def run_fits(initial_params, times):\n",
    "    #initialize fit variables\n",
    "    fit_a = np.zeros((59, 12))\n",
    "    fit_v = np.zeros((59, 12))\n",
    "    fit_gsq = np.zeros((59, 12))\n",
    "    fit_ter = np.zeros((59, 12))\n",
    "    optim_fail = np.zeros((59, 12))\n",
    "    #optimals = list()\n",
    "    gsqs = np.zeros((3))\n",
    "    for participant in range(1, 59):\n",
    "        if participant == 7 or participant == 30:\n",
    "            continue\n",
    "        for block in range(12):\n",
    "            #preprocess observed frequencies here first\n",
    "            total_times = times[participant, block]\n",
    "            total_times = total_times[total_times < 8]\n",
    "            total_times = total_times[total_times > 0.0004]\n",
    "            #initial_params = np.array([[0.1, 0.1, np.min(total_times) - 0.001], [0.9, 0.9, np.min(total_times) - 0.001], [0.4, 0.4, np.min(total_times) - 0.001]])\n",
    "            #initial_params = [0.5, 0.5, np.min(total_times) - 0.00001]\n",
    "            #for i in range(len(initial_params)):\n",
    "            observed_freq = np.array([0.1, 0.2, 0.2, 0.2, 0.2, 0.1])*len(total_times)\n",
    "            optimal = scipy.optimize.minimize(get_gsq, x0 = initial_params, args = (total_times, observed_freq), method='Nelder-Mead')\n",
    "            #    optimals.append(optimal)\n",
    "            #    gsqs[i] = optimal.fun\n",
    "            #optimal = optimals[np.argmin(gsqs)]\n",
    "            if optimal.success == False:\n",
    "                optim_fail[participant, block] = 1\n",
    "\n",
    "            fit_a[participant, block] = optimal.x[0]\n",
    "            fit_v[participant, block] = optimal.x[1]\n",
    "            fit_ter[participant, block] = optimal.x[2]\n",
    "            fit_gsq[participant, block] = optimal.fun\n",
    "        print (participant)\n",
    "    return fit_a, fit_v, fit_ter, fit_gsq, optim_fail\n",
    "        "
   ]
  },
  {
   "cell_type": "code",
   "execution_count": null,
   "metadata": {},
   "outputs": [],
   "source": [
    "#fit_a, fit_v, fit_ter, fit_gsq, optim_fail = run_fits([0.1, 0.1, 0], its)"
   ]
  },
  {
   "cell_type": "code",
   "execution_count": null,
   "metadata": {},
   "outputs": [],
   "source": []
  },
  {
   "cell_type": "code",
   "execution_count": null,
   "metadata": {},
   "outputs": [],
   "source": [
    "def plot_all(fit_a, fit_v, fit_ter, fit_gsq, optim_fail):\n",
    "    plot_a1, = plt.plot(np.mean(fit_a[1::4], axis=0), 'r')\n",
    "    plot_a2, = plt.plot(np.mean(fit_a[2::4], axis=0), 'b')\n",
    "    plot_a3, = plt.plot(np.mean(fit_a[3::4], axis=0), 'g')\n",
    "    plot_a4, = plt.plot(np.mean(fit_a[4::4], axis=0), 'y')\n",
    "    plt.title('Fit Boundary Parameters')\n",
    "    plt.xlabel('Block')\n",
    "    plt.ylabel('Parameter Values')\n",
    "    plt.legend((plot_a1, plot_a2, plot_a3, plot_a4), (\"Sudden Accuracy\", \"Gradual Speed\", \"Gradual Accuracy\", \"Sudden Speed\"))\n",
    "    plt.show()\n",
    "    \n",
    "    plot_v1, = plt.plot(np.mean(fit_v[1::4], axis=0), 'r')\n",
    "    plot_v2, = plt.plot(np.mean(fit_v[2::4], axis=0), 'b')\n",
    "    plot_v3, = plt.plot(np.mean(fit_v[3::4], axis=0), 'g')\n",
    "    plot_v4, = plt.plot(np.mean(fit_v[4::4], axis=0), 'y')\n",
    "    plt.title('Fit Drift Parameters')\n",
    "    plt.xlabel('Block')\n",
    "    plt.ylabel('Parameter Value')\n",
    "    plt.legend((plot_v1, plot_v2, plot_v3, plot_v4), (\"Sudden Accuracy\", \"Gradual Speed\", \"Gradual Accuracy\", \"Sudden Speed\"))\n",
    "    plt.show()\n",
    "    \n",
    "    plot_t1, = plt.plot(np.mean(fit_ter[1::4], axis=0), 'r')\n",
    "    plot_t2, = plt.plot(np.mean(fit_ter[2::4], axis=0), 'b')\n",
    "    plot_t3, = plt.plot(np.mean(fit_ter[3::4], axis=0), 'g')\n",
    "    plot_t4, = plt.plot(np.mean(fit_ter[4::4], axis=0), 'y')\n",
    "    plt.title('Fit non decision time Parameters')\n",
    "    plt.xlabel('Block')\n",
    "    plt.ylabel('Parameter Value')\n",
    "    plt.legend((plot_t1, plot_t2, plot_t3, plot_t4), (\"Sudden Accuracy\", \"Gradual Speed\", \"Gradual Accuracy\", \"Sudden Speed\"))\n",
    "    plt.show()\n",
    "    \n",
    "    plot_g1, = plt.plot(np.median(fit_gsq[1::4], axis=0), 'r')\n",
    "    plot_g2, = plt.plot(np.median(fit_gsq[2::4], axis=0), 'b')\n",
    "    plot_g3, = plt.plot(np.median(fit_gsq[3::4], axis=0), 'g')\n",
    "    plot_g4, = plt.plot(np.median(fit_gsq[4::4], axis=0), 'y')\n",
    "    plt.title('Fit GSQs')\n",
    "    plt.xlabel('Block')\n",
    "    plt.ylabel('Parameter Value')\n",
    "    plt.legend((plot_g1, plot_g2, plot_g3, plot_g4), (\"Sudden Accuracy\", \"Gradual Speed\", \"Gradual Accuracy\", \"Sudden Speed\"))\n",
    "    plt.show()"
   ]
  },
  {
   "cell_type": "code",
   "execution_count": null,
   "metadata": {},
   "outputs": [],
   "source": [
    "#plot_all(a, fit_v, fit_ter, fit_gsq, optim_fail)"
   ]
  },
  {
   "cell_type": "code",
   "execution_count": null,
   "metadata": {},
   "outputs": [],
   "source": []
  },
  {
   "cell_type": "markdown",
   "metadata": {},
   "source": [
    "# Just Log Likelihoods"
   ]
  },
  {
   "cell_type": "code",
   "execution_count": null,
   "metadata": {},
   "outputs": [],
   "source": []
  },
  {
   "cell_type": "code",
   "execution_count": null,
   "metadata": {},
   "outputs": [],
   "source": [
    "def wald_density_threeparam(rt, a, v, ter):\n",
    "    dc = 0.1\n",
    "    mu = a/v\n",
    "    lamb = a**2/dc**2\n",
    "    rt = rt - ter\n",
    "    return np.sqrt(lamb/(2*np.pi*rt**3)) * np.exp((-lamb*(rt-mu)**2)/(2*mu**2*rt))"
   ]
  },
  {
   "cell_type": "code",
   "execution_count": null,
   "metadata": {},
   "outputs": [],
   "source": [
    "def get_loglikelihood(par, x):\n",
    "    a = par[0]\n",
    "    v = par[1]\n",
    "    ter = par[2]\n",
    "    log_likelihood = 0\n",
    "    penalty = 10\n",
    "    for i in range(len(x)):\n",
    "        #print (x)\n",
    "        log_likelihood = log_likelihood - np.log(wald_density_threeparam(x[i], a, v, ter))\n",
    "    if a < 0:\n",
    "        log_likelihood = log_likelihood - penalty\n",
    "    if v < 0:\n",
    "        log_likelihood = log_likelihood - penalty\n",
    "    if ter < 0:\n",
    "        log_likelihood = log_likelihood - penalty\n",
    "\n",
    "    return log_likelihood"
   ]
  },
  {
   "cell_type": "code",
   "execution_count": null,
   "metadata": {},
   "outputs": [],
   "source": []
  },
  {
   "cell_type": "code",
   "execution_count": null,
   "metadata": {},
   "outputs": [],
   "source": [
    "def run_fits_lls(initial_params, times):\n",
    "    #initialize fit variables\n",
    "    fit_a = np.zeros((59, 12))\n",
    "    fit_v = np.zeros((59, 12))\n",
    "    fit_gsq = np.zeros((59, 12))\n",
    "    fit_ter = np.zeros((59, 12))\n",
    "    optim_fail = np.zeros((59, 12))\n",
    "    #optimals = list()\n",
    "    gsqs = np.zeros((3))\n",
    "    for participant in range(1, 59):\n",
    "        if participant == 7 or participant == 30:\n",
    "            continue\n",
    "        for block in range(12):\n",
    "            #preprocess observed frequencies here first\n",
    "            total_times = times[participant, block]\n",
    "            #initial_params = np.array([[0.1, 0.1, np.min(total_times) - 0.001], [0.9, 0.9, np.min(total_times) - 0.001], [0.4, 0.4, np.min(total_times) - 0.001]])\n",
    "            #initial_params = [0.5, 0.5, np.min(total_times) - 0.00001]\n",
    "            #for i in range(len(initial_params)):\n",
    "            observed_freq = np.array([0.1, 0.2, 0.2, 0.2, 0.2, 0.1])*len(total_times)\n",
    "            optimal = scipy.optimize.minimize(get_loglikelihood, x0 = initial_params, args = (total_times[total_times > 0.001]), method='Nelder-Mead')\n",
    "            #    optimals.append(optimal)\n",
    "            #    gsqs[i] = optimal.fun\n",
    "            #optimal = optimals[np.argmin(gsqs)]\n",
    "            if optimal.success == False:\n",
    "                optim_fail[participant, block] = 1\n",
    "\n",
    "            fit_a[participant, block] = optimal.x[0]\n",
    "            fit_v[participant, block] = optimal.x[1]\n",
    "            fit_ter[participant, block] = optimal.x[2]\n",
    "            fit_gsq[participant, block] = optimal.fun\n",
    "        print (participant)\n",
    "    return fit_a, fit_v, fit_ter, fit_gsq, optim_fail\n",
    "        "
   ]
  },
  {
   "cell_type": "code",
   "execution_count": null,
   "metadata": {},
   "outputs": [],
   "source": [
    "#fit_a, fit_v, fit_ter, fit_gsq, optim_fail = run_fits_lls([0.1, 0.1, 0], its)"
   ]
  },
  {
   "cell_type": "code",
   "execution_count": null,
   "metadata": {},
   "outputs": [],
   "source": [
    "#plot_all(fit_a, fit_v, fit_ter, fit_gsq, optim_fail)"
   ]
  },
  {
   "cell_type": "code",
   "execution_count": null,
   "metadata": {},
   "outputs": [],
   "source": []
  },
  {
   "cell_type": "markdown",
   "metadata": {},
   "source": [
    "# Modifying initial times\n",
    "1. Get a trajectory\n",
    "2. Define a distance from the start point for initial time, call it dist_from_start.\n",
    "3. Get movement time for that trajectory.\n",
    "4. Sampling rate = Movement time/number of samples in the trajectory\n",
    "5. Find the number of samples till dist_from_start, call it num_initiating_samples.\n",
    "6. time_to_initiate = Sampling Rate * num_initiating_samples.\n",
    "7. total_time = its + time_to_initiate"
   ]
  },
  {
   "cell_type": "code",
   "execution_count": 25,
   "metadata": {},
   "outputs": [],
   "source": [
    "def get_traj(data, block, trial):\n",
    "    traj = scipy.io.loadmat('data/participants/data{data}/actual_trajectories/trajectories{block}.mat'.format(block=str(block), data=str(data)))\n",
    "    x_traj = traj['x'][0][trial][0]\n",
    "    y_traj = traj['y'][0][trial][0]\n",
    "    return x_traj, y_traj"
   ]
  },
  {
   "cell_type": "code",
   "execution_count": 26,
   "metadata": {},
   "outputs": [],
   "source": [
    "#Movement times\n",
    "its,  mts = get_times()"
   ]
  },
  {
   "cell_type": "code",
   "execution_count": null,
   "metadata": {},
   "outputs": [],
   "source": []
  },
  {
   "cell_type": "code",
   "execution_count": null,
   "metadata": {},
   "outputs": [],
   "source": []
  },
  {
   "cell_type": "code",
   "execution_count": 27,
   "metadata": {},
   "outputs": [],
   "source": [
    "def time_to_initiate(dist_from_start, sampling_rate, traj):\n",
    "    distances = np.sqrt(traj[0]**2 + traj[1]**2)\n",
    "    for i in range(len(distances)):\n",
    "        if distances[i]>dist_from_start:\n",
    "            break\n",
    "    return sampling_rate*i"
   ]
  },
  {
   "cell_type": "code",
   "execution_count": null,
   "metadata": {},
   "outputs": [],
   "source": [
    "traj = get_traj(2, 0, 0)\n",
    "0.05*np.sqrt(traj[0][-1]**2 + traj[1][-1]**2)"
   ]
  },
  {
   "cell_type": "code",
   "execution_count": 28,
   "metadata": {},
   "outputs": [],
   "source": [
    "def get_initiation_times(percent_trajectory):\n",
    "    initiation_times = np.zeros((59, 12, 64))\n",
    "    for participant in range(1, 59):\n",
    "        if participant == 7:\n",
    "            continue\n",
    "        for block in range(12):\n",
    "            for trial in range(64):\n",
    "                traj = get_traj(participant, block, trial)\n",
    "                dist_from_start = percent_trajectory*np.sqrt(212**2 + 212**2)\n",
    "                sampling_rate = mts[participant][block][trial]/len(traj[0])\n",
    "                initiation_times[participant][block][trial] = time_to_initiate(dist_from_start, sampling_rate, traj)\n",
    "        if participant%10 == 0:\n",
    "            print (participant)\n",
    "    return initiation_times"
   ]
  },
  {
   "cell_type": "code",
   "execution_count": 103,
   "metadata": {},
   "outputs": [
    {
     "name": "stderr",
     "output_type": "stream",
     "text": [
      "C:\\Users\\Tejas\\Anaconda3\\lib\\site-packages\\ipykernel_launcher.py:2: RuntimeWarning: invalid value encountered in sqrt\n",
      "  \n",
      "C:\\Users\\Tejas\\Anaconda3\\lib\\site-packages\\ipykernel_launcher.py:4: RuntimeWarning: invalid value encountered in greater\n",
      "  after removing the cwd from sys.path.\n"
     ]
    },
    {
     "name": "stdout",
     "output_type": "stream",
     "text": [
      "10\n",
      "20\n",
      "30\n",
      "40\n",
      "50\n"
     ]
    }
   ],
   "source": [
    "initiation_times = get_initiation_times(0.05)"
   ]
  },
  {
   "cell_type": "code",
   "execution_count": null,
   "metadata": {},
   "outputs": [],
   "source": [
    "total_time = its+initiation_times\n",
    "plt.hist(total_time[total_time<5], bins = 100)\n",
    "min(initiation_times[initiation_times > 0])"
   ]
  },
  {
   "cell_type": "code",
   "execution_count": null,
   "metadata": {},
   "outputs": [],
   "source": []
  },
  {
   "cell_type": "code",
   "execution_count": null,
   "metadata": {},
   "outputs": [],
   "source": [
    "total_time = mts - initiation_times\n",
    "fit_a, fit_v, fit_ter, fit_gsq, optim_fail = run_fits([0.1, 0.1, 0], total_time)"
   ]
  },
  {
   "cell_type": "code",
   "execution_count": null,
   "metadata": {},
   "outputs": [],
   "source": []
  },
  {
   "cell_type": "code",
   "execution_count": null,
   "metadata": {},
   "outputs": [],
   "source": [
    "plot_all(fit_a, fit_v, fit_ter, fit_gsq, optim_fail)"
   ]
  },
  {
   "cell_type": "markdown",
   "metadata": {},
   "source": [
    "# Wald Simulator"
   ]
  },
  {
   "cell_type": "code",
   "execution_count": null,
   "metadata": {},
   "outputs": [],
   "source": [
    "def wald_sim(n_samples, par):\n",
    "    #Diffusion Coefficient\n",
    "    dc = 0.1  \n",
    "    #timesteps for randomwalk\n",
    "    ts = 0.001\n",
    "    #Unpack Parameters\n",
    "    a = par[0]\n",
    "    v = par[1]\n",
    "    ter = par[2]\n",
    "    #Average change in position of evidence accumulation\n",
    "    dav = v*ts\n",
    "    #standard deviation in position changes\n",
    "    dsd = np.sqrt(ts*(dc)**2)\n",
    "    rt = np.zeros(n_samples)\n",
    "    for i in range(n_samples):\n",
    "        out = 0\n",
    "        pos = 0 #Position of vidence acc. process\n",
    "        count = 0 #counter for timesteps\n",
    "        while(out == 0):\n",
    "            pos = pos + np.random.normal(dav, dsd, 1)\n",
    "            count = count + 1\n",
    "            if pos > a:\n",
    "                out = 1\n",
    "        rt[i] = count * ts\n",
    "    rt = rt + ter\n",
    "    return rt\n"
   ]
  },
  {
   "cell_type": "code",
   "execution_count": null,
   "metadata": {},
   "outputs": [],
   "source": [
    "def get_sim_quantiles(n_samples, par):\n",
    "    return np.quantile(wald_sim(n_samples, par), [0.1, 0.3, 0.5, 0.7, 0.9])"
   ]
  },
  {
   "cell_type": "code",
   "execution_count": null,
   "metadata": {},
   "outputs": [],
   "source": [
    "sim_quantiles = np.zeros((59, 12, 5))\n",
    "data_quantiles = np.zeros((59, 12, 5))\n",
    "total_times = its + initiation_times\n",
    "for participant in range(1, 59):\n",
    "    if participant == 7:\n",
    "        continue\n",
    "    for block in range(12):\n",
    "        data_to_quantile = total_times[participant, block]\n",
    "        #data_to_quantile = data_to_quantile[data_to_quantile < 8]\n",
    "        #data_to_quantile = data_to_quantile[data_to_quantile > 0.0004]\n",
    "        sim_quantiles[participant, block, :] = get_sim_quantiles(100, [fit_a[participant, block], fit_v[participant, block], fit_ter[participant, block]])\n",
    "        data_quantiles[participant, block, :] = np.quantile(data_to_quantile, [0.1, 0.3, 0.5, 0.7, 0.9])\n",
    "        "
   ]
  },
  {
   "cell_type": "code",
   "execution_count": null,
   "metadata": {},
   "outputs": [],
   "source": [
    "def plot_quantile_comparisons(condition, block):\n",
    "    data_quantile_condition = np.concatenate((data_quantiles[condition+1:7:4], data_quantiles[condition+8::4]))\n",
    "    sim_quantile_condition = np.concatenate((sim_quantiles[condition+1:7:4], sim_quantiles[condition+8::4]))    \n",
    "    #tb2_plot, axes = plt.subplot(2, 2)\n",
    "    if condition == 0:\n",
    "        condition_text = \"Sudden Accuracy\"\n",
    "    if condition == 1:\n",
    "        condition_text = \"Gradual Speed\"\n",
    "    if condition == 2:\n",
    "        condition_text = \"Gradual Accuracy\"\n",
    "    if condition == 3:\n",
    "        condition_text = \"Sudden Speed\"\n",
    "    textstr = ''.join([\"Block: \", str(block), \"\\nCondition: \", condition_text ])\n",
    "    error_sim = stat.sem(sim_quantile_condition, axis = 0)[block]\n",
    "    plot_sim = plt.errorbar(range(5), np.mean(sim_quantile_condition, axis = 0)[block], error_sim, linestyle = 'None', marker = 's', capsize=3)\n",
    "    error_data = stat.sem(data_quantile_condition, axis = 0)\n",
    "    plot_data = plt.errorbar(range(5), np.mean(data_quantile_condition, axis = 0)[block], error_sim, color = 'r', linestyle = 'None', marker = 's', capsize=3)\n",
    "    plt.legend((plot_sim, plot_data), ('Simulated', 'Actual'))\n",
    "    plt.text(1, 1.6, textstr)\n",
    "    plt.xlabel('Quantiles')\n",
    "    plt.ylabel('Response Times')\n",
    "    plt.ylim(0, 2)\n",
    "    plt.show()"
   ]
  },
  {
   "cell_type": "code",
   "execution_count": null,
   "metadata": {},
   "outputs": [],
   "source": [
    "interact(plot_quantile_comparisons, condition = widgets.ToggleButtons(options = range(4)), block = widgets.IntSlider(max = 11, min = 0, value = 0, step = 1))"
   ]
  },
  {
   "cell_type": "markdown",
   "metadata": {},
   "source": [
    "# Plot Bar plots"
   ]
  },
  {
   "cell_type": "code",
   "execution_count": null,
   "metadata": {},
   "outputs": [],
   "source": [
    "def plot_bar(total_times, block):\n",
    "    data_medians = np.zeros(4)\n",
    "    data_sems = np.zeros(4)\n",
    "    for condition in range(4):\n",
    "        #print (np.nanmean(np.nanmean(np.concatenate((total_times[condition+1:7:4], total_times[condition+8::4])), axis = 0), axis = 1)[block])\n",
    "        data_medians[condition] = np.nanmean(np.nanmedian(np.concatenate((total_times[condition+1:7:4], total_times[condition+8::4])), axis = 0), axis = 1)[block]\n",
    "        data_sems[condition] = stat.sem(np.nanmedian(np.concatenate((total_times[condition+1:7:4], total_times[condition+8::4])), axis = 0), axis = 1)[block]\n",
    "        \n",
    "    xpos = [0, 1, 3, 4]\n",
    "    plt.bar(xpos, [data_medians[0], data_medians[3], data_medians[1], data_medians[2]], yerr= data_sems, capsize = 3)\n",
    "    plt.xticks([0, 1, 2, 3, 4], ['Sudden Accuracy', 'Sudden Speed','', 'Gradual Speed', 'Gradual Accuracy'], rotation = 'vertical')"
   ]
  },
  {
   "cell_type": "code",
   "execution_count": null,
   "metadata": {},
   "outputs": [],
   "source": [
    "plot_bar(total_time, 1)"
   ]
  },
  {
   "cell_type": "code",
   "execution_count": 5,
   "metadata": {},
   "outputs": [],
   "source": [
    "total_times = its\n",
    "def get_quantile(total_times):\n",
    "    quantiles = np.zeros((len(total_times), 12, 5))\n",
    "    for participant in range(1, len(total_times)):\n",
    "        if participant == 7:\n",
    "            continue\n",
    "        else:\n",
    "            for block in range(12):\n",
    "                quantiles[participant, block, :] =  np.quantile(total_times[participant, block], np.array([0.1, 0.3, 0.5, 0.7, 0.9]))\n",
    "    \n",
    "    return quantiles\n"
   ]
  },
  {
   "cell_type": "code",
   "execution_count": 6,
   "metadata": {},
   "outputs": [],
   "source": [
    "total_times\n",
    "quantiles = get_quantile(total_times)\n"
   ]
  },
  {
   "cell_type": "code",
   "execution_count": null,
   "metadata": {
    "scrolled": true
   },
   "outputs": [],
   "source": [
    "fig, ax = plt.subplots(2, 2, sharex = True, sharey = True)\n",
    "ax[0, 1].errorbar(range(1, 11), np.mean(quantiles[1::4][:, :, 3], axis = 0)[1:11], yerr = stat.sem(quantiles[1::4][:, :, 3])[1:11], capsize=3)\n",
    "ax[1, 1].errorbar(range(1, 11), np.mean(quantiles[3::4][:, :, 3], axis = 0)[1:11], yerr = stat.sem(quantiles[3::4][:, :, 3])[1:11], capsize=3)\n",
    "ax[1, 0].errorbar(range(1, 11), np.mean(quantiles[2::4][:, :, 3], axis = 0)[1:11], yerr = stat.sem(quantiles[2::4][:, :, 3])[1:11], capsize=3)\n",
    "ax[0, 0].errorbar(range(1, 11), np.mean(quantiles[4::4][:, :, 3], axis = 0)[1:11], yerr = stat.sem(quantiles[4::4][:, :, 3])[1:11], capsize=3)\n",
    "ax[0, 0].set_title('Sudden Speed')\n",
    "ax[0, 1].set_title('Sudden Accuracy')\n",
    "ax[1, 0].set_title('Gradual Speed')\n",
    "ax[1, 1].set_title('Gradual Accuracy')\n",
    "\n",
    "fig.suptitle('Movement Times')"
   ]
  },
  {
   "cell_type": "code",
   "execution_count": 105,
   "metadata": {},
   "outputs": [],
   "source": [
    "its, mts = get_times()"
   ]
  },
  {
   "cell_type": "code",
   "execution_count": 106,
   "metadata": {},
   "outputs": [],
   "source": [
    "total_times = mts -  initiation_times"
   ]
  },
  {
   "cell_type": "code",
   "execution_count": 110,
   "metadata": {},
   "outputs": [],
   "source": [
    "def plot_rt_medians(rt):\n",
    "    \n",
    "    quantiles = get_quantile(total_times)\n",
    "    plt.errorbar(range(1, 11), np.mean(quantiles[3::4][:, :, 3], axis = 0)[1:-1], yerr = stat.sem(quantiles[3::4][:, :, 3])[1:-1], capsize=3)\n",
    "    plt.errorbar(0, np.mean(quantiles[3::4][:, :, 3], axis = 0)[0], yerr = stat.sem(quantiles[3::4][:, :, 3])[0], capsize = 3,  fmt = 's')\n",
    "    plt.errorbar(11, np.mean(quantiles[3::4][:, :, 3], axis = 0)[11], yerr = stat.sem(quantiles[3::4][:, :, 3])[11], capsize=3,  fmt = 's')\n",
    "    plt.text(x=5, y = 2.5, s = '14 Participants')\n",
    "    plt.ylabel('Time(in seconds)')\n",
    "    plt.xlabel('Block')\n",
    "    plt.title('Gradual Accuracy')\n",
    "    y_lim_max = np.max(np.mean(quantiles, axis = 0)) + 0.4\n",
    "    \n",
    "    plt.ylim((0.2, y_lim_max))\n",
    "#    print(max(np.mean(quantiles[3::4][:, :, 3], axis = 0)[1:-1]) + 0.7)\n",
    "    plt.show()\n",
    "    \n",
    "    plt.errorbar(range(1, 11), np.mean(quantiles[2::4][:, :, 3], axis = 0)[1:-1], yerr = stat.sem(quantiles[2::4][:, :, 3])[1:-1], capsize=3)\n",
    "    plt.errorbar(0, np.mean(quantiles[2::4][:, :, 3], axis = 0)[0], yerr = stat.sem(quantiles[2::4][:, :, 3])[0], capsize = 3, fmt = 's'  )\n",
    "    plt.errorbar(11, np.mean(quantiles[2::4][:, :, 3], axis = 0)[11], yerr = stat.sem(quantiles[2::4][:, :, 3])[11], capsize=3, fmt = 's')\n",
    "    plt.text(x=5, y = 2.5, s = '15 Participants')\n",
    "    plt.title('Gradual Speed')\n",
    "    plt.ylabel('Time(in seconds)')\n",
    "    plt.xlabel('Block')\n",
    "    plt.ylim(0.2, y_lim_max)\n",
    "    plt.show()\n",
    "    \n",
    "    plt.errorbar(range(1, 11), np.mean(quantiles[1::4][:, :, 3], axis = 0)[1:-1], yerr = stat.sem(quantiles[1::4][:, :, 3])[1:-1], capsize=3)\n",
    "    plt.errorbar(0, np.mean(quantiles[1::4][:, :, 3], axis = 0)[0], yerr = stat.sem(quantiles[1::4][:, :, 3])[0], capsize = 3,  fmt = 's')\n",
    "    plt.errorbar(11, np.mean(quantiles[1::4][:, :, 3], axis = 0)[11], yerr = stat.sem(quantiles[1::4][:, :, 3])[11], capsize=3,  fmt = 's')\n",
    "    plt.text(x=5, y = 2.5, s = '15 Participants')\n",
    "    plt.title('Sudden Accuracy')\n",
    "    plt.ylabel('Time(in seconds)')\n",
    "    plt.xlabel('Block')\n",
    "    plt.ylim(0.2, y_lim_max)\n",
    "    plt.show()\n",
    "\n",
    "    plt.errorbar(range(1, 11), np.mean(quantiles[4::4][:, :, 3], axis = 0)[1:-1], yerr = stat.sem(quantiles[4::4][:, :, 3])[1:-1], capsize=3)\n",
    "    plt.errorbar(0, np.mean(quantiles[4::4][:, :, 3], axis = 0)[0], yerr = stat.sem(quantiles[4::4][:, :, 3])[0], capsize = 3,  fmt = 's')\n",
    "    plt.errorbar(11, np.mean(quantiles[4::4][:, :, 3], axis = 0)[11], yerr = stat.sem(quantiles[4::4][:, :, 3])[11], capsize=3,  fmt = 's')\n",
    "    plt.text(x=5, y = 2.5, s = '14 Participants')\n",
    "    plt.title('Sudden Speed')\n",
    "    plt.ylabel('Time(in seconds)')\n",
    "    plt.xlabel('Block')\n",
    "    plt.ylim(0.2, y_lim_max)\n",
    "    plt.show()\n"
   ]
  },
  {
   "cell_type": "code",
   "execution_count": 111,
   "metadata": {},
   "outputs": [
    {
     "data": {
      "image/png": "[encoded data removed]",
      "text/plain": [
       "<Figure size 432x288 with 1 Axes>"
      ]
     },
     "metadata": {
      "needs_background": "light"
     },
     "output_type": "display_data"
    },
    {
     "data": {
      "image/png": "[encoded data removed]",
      "text/plain": [
       "<Figure size 432x288 with 1 Axes>"
      ]
     },
     "metadata": {
      "needs_background": "light"
     },
     "output_type": "display_data"
    },
    {
     "data": {
      "image/png": "[encoded data removed]",
      "text/plain": [
       "<Figure size 432x288 with 1 Axes>"
      ]
     },
     "metadata": {
      "needs_background": "light"
     },
     "output_type": "display_data"
    },
    {
     "data": {
      "image/png": "[encoded data removed]",
      "text/plain": [
       "<Figure size 432x288 with 1 Axes>"
      ]
     },
     "metadata": {
      "needs_background": "light"
     },
     "output_type": "display_data"
    }
   ],
   "source": [
    "#plt.ylim\n",
    "plot_rt_medians(total_times)\n"
   ]
  },
  {
   "cell_type": "code",
   "execution_count": 91,
   "metadata": {},
   "outputs": [],
   "source": [
    "def plot_rt_medians_transfer(total_times, text):\n",
    "    quantiles = get_quantile(total_times)\n",
    "    xpos = [0, 1, 2, 3, 4]\n",
    "    y = np.array([np.mean(quantiles[1::4][:, :, 3], axis = 0)[11],\n",
    "                  np.mean(quantiles[4::4][:, :, 3], axis = 0)[11],\n",
    "                  np.mean(quantiles[3::4][:, :, 3], axis = 0)[11],\n",
    "                  np.mean(quantiles[2::4][:, :, 3], axis = 0)[11]] \n",
    "                  )\n",
    "    y_sem = np.array([stat.sem(quantiles[1::4][:, :, 3])[11], \n",
    "                    stat.sem(quantiles[4::4][:, :, 3])[11],\n",
    "                    stat.sem(quantiles[3::4][:, :, 3])[11],\n",
    "                    stat.sem(quantiles[2::4][:, :, 3])[11]])\n",
    "    #print (y_sem[0])\n",
    "    plt.bar(0, y[0], yerr = y_sem[0], capsize = 3, color = 'Blue', alpha = 1)\n",
    "    plt.bar(1, y[1], yerr = y_sem[1], capsize = 3, color = 'Blue', alpha = 0.5)\n",
    "    plt.bar(2, y[2], yerr = y_sem[2], capsize = 3, color = 'Green', alpha = 0.5)\n",
    "    plt.bar(3, y[3], yerr = y_sem[3], capsize = 3, color = 'Green', alpha = 1)\n",
    "\n",
    "#    handles = plt.bar(range(4), y, yerr = y_sem, capsize = 3, color = ['Blue', 'Green', 'Blue', 'Green'], alpha = [1, 0.5, 0.5, 1])\n",
    "    plt.xticks([0, 1, 2, 3], ['Sudden \\n Accuracy', 'Sudden \\n Speed', 'Gradual \\n Accuracy', 'Gradual \\nSpeed'], rotation = 'vertical')\n",
    "    plt.ylabel('Time')\n",
    "    plt.xlabel('Condition')\n",
    "    #plt.legend([handles[0], handles[1]], ['Speed', 'Accuracy'])\n",
    "    plt.title(text)\n",
    "    \n",
    "    "
   ]
  },
  {
   "cell_type": "code",
   "execution_count": 93,
   "metadata": {},
   "outputs": [
    {
     "data": {
      "image/png": "[encoded data removed]",
      "text/plain": [
       "<Figure size 432x288 with 1 Axes>"
      ]
     },
     "metadata": {
      "needs_background": "light"
     },
     "output_type": "display_data"
    }
   ],
   "source": [
    "plot_rt_medians_transfer(mts - initiation_times, 'Movement Times')"
   ]
  },
  {
   "cell_type": "code",
   "execution_count": null,
   "metadata": {},
   "outputs": [],
   "source": []
  }
 ],
 "metadata": {
  "kernelspec": {
   "display_name": "Python 3",
   "language": "python",
   "name": "python3"
  },
  "language_info": {
   "codemirror_mode": {
    "name": "ipython",
    "version": 3
   },
   "file_extension": ".py",
   "mimetype": "text/x-python",
   "name": "python",
   "nbconvert_exporter": "python",
   "pygments_lexer": "ipython3",
   "version": "3.7.0"
  }
 },
 "nbformat": 4,
 "nbformat_minor": 2
}
