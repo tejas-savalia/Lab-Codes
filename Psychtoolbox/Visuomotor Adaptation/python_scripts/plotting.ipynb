{
 "cells": [
  {
   "cell_type": "code",
   "execution_count": 1,
   "metadata": {},
   "outputs": [],
   "source": [
    "import scipy.io\n",
    "import numpy\n",
    "import matplotlib.pyplot as plt\n",
    "from ipywidgets import interact, interactive, fixed, interact_manual\n",
    "import ipywidgets as widgets"
   ]
  },
  {
   "cell_type": "markdown",
   "metadata": {},
   "source": [
    "# Lineplots first!"
   ]
  },
  {
   "cell_type": "code",
   "execution_count": 31,
   "metadata": {},
   "outputs": [],
   "source": [
    "def lineplots(data, block, first, last):\n",
    "    traj = scipy.io.loadmat('data/pilot/pilot_{data}/actual_trajectories/trajectories{block}.mat'.format(block=str(block), data=str(data)))\n",
    "\n",
    "    for i in range(first,last):\n",
    "        plt.plot(traj['x'][0][i][0], traj['y'][0][i][0])\n"
   ]
  },
  {
   "cell_type": "code",
   "execution_count": 35,
   "metadata": {},
   "outputs": [
    {
     "data": {
      "application/vnd.jupyter.widget-view+json": {
       "model_id": "935e18d07dba45cbb805e314900a00e8",
       "version_major": 2,
       "version_minor": 0
      },
      "text/plain": [
       "interactive(children=(ToggleButtons(description='data', options=(1, 2, 3), value=1), IntSlider(value=0, descri…"
      ]
     },
     "metadata": {},
     "output_type": "display_data"
    },
    {
     "data": {
      "text/plain": [
       "<function __main__.lineplots(data, block, first, last)>"
      ]
     },
     "execution_count": 35,
     "metadata": {},
     "output_type": "execute_result"
    }
   ],
   "source": [
    "interact(lineplots, data = widgets.ToggleButtons(options = [1, 2, 3]), block = widgets.IntSlider(max = 11, min = 0, value = 0, step = 1),\n",
    "        first = widgets.IntSlider(max = 63, min = 0, value = 0, step = 1), last = widgets.IntSlider(max = 64, min = 1, value = 1, step = 1))"
   ]
  },
  {
   "cell_type": "markdown",
   "metadata": {},
   "source": [
    "## Error Vs Time plots\n",
    "\n",
    "Divide Trajectories by 5. Calculate mean and standard deviation of difference between ideal and actual trajectories (both divided by 5) for all 64 trajectories in a block. \n",
    "From the movement time, calculate how long it took to finish each of these 5 trajectories. Calculate mean and standard deviation across 64 trials. \n",
    "\n",
    "This might as well just be equal to the mean and standard deviation of the **number** of points in each of those five quantiles for all trajectories.\n",
    "\n"
   ]
  },
  {
   "cell_type": "code",
   "execution_count": null,
   "metadata": {},
   "outputs": [],
   "source": []
  },
  {
   "cell_type": "markdown",
   "metadata": {},
   "source": [
    "Participant 1 Gradual Change Accuracy emphasis\n",
    "\n",
    "Participant 2 Sudden change Accuracy emphasis\n",
    "\n",
    "Participant 3 Gradual change Speed emphasis\n"
   ]
  },
  {
   "cell_type": "code",
   "execution_count": 36,
   "metadata": {},
   "outputs": [],
   "source": [
    "def errorvstime(data, block):\n",
    "    traj = scipy.io.loadmat('data/pilot/pilot_{data}/actual_trajectories/trajectories{block}.mat'.format(block=str(block), data=str(data)))\n",
    "    ideal_traj = scipy.io.loadmat('data/pilot/pilot_{data}/ideal_trajectories/ideal_trajectories{block}.mat'.format(block = str(block), data=str(data)))\n",
    "\n",
    "    xdiff = (ideal_traj['idealXs'] - traj['x'])\n",
    "    ydiff = (ideal_traj['idealYs'] - traj['y'])\n",
    "    error = xdiff**2+ydiff**2\n",
    "\n",
    "    error_means = numpy.zeros((64, 5))\n",
    "    for i in range(64):\n",
    "        n = len(error[0][i][0])\n",
    "        for j in range(5):\n",
    "            error_means[i, j] = numpy.mean(error[0][i][0][int(numpy.floor((j)*n/5)):int(numpy.floor((j+1)*n/5))])\n",
    "\n",
    "\n",
    "    #This works!\n",
    "    time_means = numpy.zeros((64, 5))\n",
    "\n",
    "    for i in range(64):\n",
    "        n = len(error[0][i][0])\n",
    "        for j in range(5):\n",
    "            time_means[i, j] = len(error[0][i][0][int(numpy.floor((j)*n/5)):int(numpy.floor((j+1)*n/5))])\n",
    "    times = numpy.cumsum(numpy.mean(time_means, axis = 0))\n",
    "    plt.errorbar(times, numpy.mean(error_means, axis = 0), xerr = numpy.std(time_means, axis = 0), yerr = numpy.std(error_means, axis = 0))\n"
   ]
  },
  {
   "cell_type": "code",
   "execution_count": 37,
   "metadata": {},
   "outputs": [
    {
     "data": {
      "application/vnd.jupyter.widget-view+json": {
       "model_id": "14c69623216148038993bf753d0c9b5f",
       "version_major": 2,
       "version_minor": 0
      },
      "text/plain": [
       "interactive(children=(ToggleButtons(description='data', options=(1, 2, 3), value=1), IntSlider(value=0, descri…"
      ]
     },
     "metadata": {},
     "output_type": "display_data"
    },
    {
     "data": {
      "text/plain": [
       "<function __main__.errorvstime(data, block)>"
      ]
     },
     "execution_count": 37,
     "metadata": {},
     "output_type": "execute_result"
    }
   ],
   "source": [
    "interact(errorvstime, data = widgets.ToggleButtons(options = [1, 2, 3]), block = widgets.IntSlider(max = 11, min = 0, value = 0, step = 1))"
   ]
  },
  {
   "cell_type": "code",
   "execution_count": 3,
   "metadata": {},
   "outputs": [],
   "source": [
    "def get_qdata(data):\n",
    "    mtq = numpy.quantile(data['mt'], numpy.array([0, 0.1, 0.3, 0.5, 0.7, 0.9, 1]))\n",
    "\n",
    "    rmspoints = list()\n",
    "    mtpoints = list()\n",
    "    for i in range(len(mtq)):\n",
    "        rmspoints.append(data['rmse'][numpy.where(data['mt']<mtq[i])[0], numpy.where(data['mt']<mtq[i])[1]])\n",
    "        mtpoints.append(data['mt'][numpy.where(data['mt']<mtq[i])[0], numpy.where(data['mt']<mtq[i])[1]])\n",
    "    return rmspoints, mtpoints"
   ]
  },
  {
   "cell_type": "code",
   "execution_count": 4,
   "metadata": {},
   "outputs": [],
   "source": [
    "def qplots(data, qno):\n",
    "    rmspoints, mtpoints = get_qdata(data)\n",
    "    plt.hist2d(rmspoints[qno], mtpoints[qno])\n",
    "    "
   ]
  },
  {
   "cell_type": "code",
   "execution_count": 28,
   "metadata": {},
   "outputs": [
    {
     "data": {
      "image/png": "[encoded data removed]",
      "text/plain": [
       "<Figure size 432x288 with 1 Axes>"
      ]
     },
     "metadata": {
      "needs_background": "light"
     },
     "output_type": "display_data"
    }
   ],
   "source": [
    "qplots(mat, 5)"
   ]
  },
  {
   "cell_type": "code",
   "execution_count": 5,
   "metadata": {},
   "outputs": [
    {
     "data": {
      "application/vnd.jupyter.widget-view+json": {
       "model_id": "c9b59c59999645d5a7cda352b2eaf9d3",
       "version_major": 2,
       "version_minor": 0
      },
      "text/plain": [
       "interactive(children=(ToggleButtons(description='data', options=({'__header__': b'MATLAB 5.0 MAT-file, Platfor…"
      ]
     },
     "metadata": {},
     "output_type": "display_data"
    },
    {
     "data": {
      "text/plain": [
       "<function __main__.qplots(data, qno)>"
      ]
     },
     "execution_count": 5,
     "metadata": {},
     "output_type": "execute_result"
    }
   ],
   "source": [
    "interact(qplots, data = widgets.ToggleButtons(options = [mat, mat2, mat3]), qno = widgets.IntSlider(max = 6, min = 0, value = 0, step = 1))"
   ]
  },
  {
   "cell_type": "code",
   "execution_count": 63,
   "metadata": {},
   "outputs": [],
   "source": [
    "def ztrans(data):\n",
    "    mt = data['mt']\n",
    "    rmse = data['rmse']\n",
    "    for i in range(10):\n",
    "        mt[i] = (mt[i] - numpy.mean(mt[i]))/numpy.std(mt[i])\n",
    "        rmse[i] = (rmse[i] - numpy.mean(rmse[i]))/numpy.std(rmse[i])\n",
    "    return (mt, rmse)"
   ]
  },
  {
   "cell_type": "code",
   "execution_count": 90,
   "metadata": {},
   "outputs": [],
   "source": [
    "def block_plot(block, data):\n",
    "\n",
    "    mt, rmse = ztrans(data)\n",
    "    plt.hist2d(mt[block], rmse[block], bins = 10)\n",
    "    return"
   ]
  },
  {
   "cell_type": "code",
   "execution_count": 91,
   "metadata": {},
   "outputs": [],
   "source": []
  },
  {
   "cell_type": "code",
   "execution_count": 92,
   "metadata": {},
   "outputs": [
    {
     "data": {
      "application/vnd.jupyter.widget-view+json": {
       "model_id": "0a65d2744ee649c68eb7ae4d8c13fb04",
       "version_major": 2,
       "version_minor": 0
      },
      "text/plain": [
       "interactive(children=(IntSlider(value=0, description='block', max=9), ToggleButtons(description='data', option…"
      ]
     },
     "metadata": {},
     "output_type": "display_data"
    },
    {
     "data": {
      "text/plain": [
       "<function __main__.block_plot(block, data)>"
      ]
     },
     "execution_count": 92,
     "metadata": {},
     "output_type": "execute_result"
    }
   ],
   "source": [
    "interact(block_plot, block = widgets.IntSlider(min=0,max=9,step=1,value=0), data = widgets.ToggleButtons(options = [mat, mat2, mat3]))"
   ]
  },
  {
   "cell_type": "code",
   "execution_count": 52,
   "metadata": {},
   "outputs": [],
   "source": [
    "def errorplots(data, block):\n",
    "    traj = scipy.io.loadmat('data/pilot/pilot_{data}/actual_trajectories/trajectories{block}.mat'.format(block=str(block), data=str(data)))\n",
    "    ideal_traj = scipy.io.loadmat('data/pilot/pilot_{data}/ideal_trajectories/ideal_trajectories{block}.mat'.format(block = str(block), data=str(data)))\n",
    "    xdiff = (ideal_traj['idealXs'] - traj['x'])\n",
    "    ydiff = (ideal_traj['idealYs'] - traj['y'])\n",
    "    error = xdiff**2+ydiff**2\n"
   ]
  },
  {
   "cell_type": "code",
   "execution_count": 53,
   "metadata": {},
   "outputs": [],
   "source": [
    "errorplots(1, 1)"
   ]
  },
  {
   "cell_type": "code",
   "execution_count": 126,
   "metadata": {},
   "outputs": [
    {
     "data": {
      "text/plain": [
       "111.11207237457418"
      ]
     },
     "execution_count": 126,
     "metadata": {},
     "output_type": "execute_result"
    }
   ],
   "source": []
  }
 ],
 "metadata": {
  "kernelspec": {
   "display_name": "Python 3",
   "language": "python",
   "name": "python3"
  },
  "language_info": {
   "codemirror_mode": {
    "name": "ipython",
    "version": 3
   },
   "file_extension": ".py",
   "mimetype": "text/x-python",
   "name": "python",
   "nbconvert_exporter": "python",
   "pygments_lexer": "ipython3",
   "version": "3.7.0"
  }
 },
 "nbformat": 4,
 "nbformat_minor": 2
}
