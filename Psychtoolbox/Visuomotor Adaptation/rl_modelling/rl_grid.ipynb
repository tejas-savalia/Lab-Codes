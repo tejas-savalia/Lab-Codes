{
 "cells": [
  {
   "cell_type": "code",
   "execution_count": 10,
   "metadata": {},
   "outputs": [],
   "source": [
    "import numpy as np\n",
    "import scipy.stats as stat\n",
    "import matplotlib.pyplot as plt"
   ]
  },
  {
   "cell_type": "code",
   "execution_count": 11,
   "metadata": {},
   "outputs": [],
   "source": [
    "def softmax(x):\n",
    "    ex = np.exp(x)\n",
    "    sum_ex = np.sum( np.exp(x))\n",
    "    return ex/sum_ex"
   ]
  },
  {
   "cell_type": "code",
   "execution_count": 12,
   "metadata": {},
   "outputs": [],
   "source": [
    "#Environment with dimenions as tuple, reward\n",
    "def get_environment(dimensions):\n",
    "    environment = np.zeros(dimensions) - 10\n",
    "    environment[40:50, 40:50] = 10\n",
    "    return environment\n",
    "environment = get_environment((96, 54))"
   ]
  },
  {
   "cell_type": "code",
   "execution_count": 13,
   "metadata": {},
   "outputs": [],
   "source": [
    "actions = np.array(np.meshgrid([0, 1, -1], [0, 1, -1])).T.reshape(-1, 2)"
   ]
  },
  {
   "cell_type": "code",
   "execution_count": 14,
   "metadata": {},
   "outputs": [
    {
     "data": {
      "text/plain": [
       "array([[ 0,  0],\n",
       "       [ 0,  1],\n",
       "       [ 0, -1],\n",
       "       [ 1,  0],\n",
       "       [ 1,  1],\n",
       "       [ 1, -1],\n",
       "       [-1,  0],\n",
       "       [-1,  1],\n",
       "       [-1, -1]])"
      ]
     },
     "execution_count": 14,
     "metadata": {},
     "output_type": "execute_result"
    }
   ],
   "source": [
    "actions"
   ]
  },
  {
   "cell_type": "code",
   "execution_count": 15,
   "metadata": {},
   "outputs": [],
   "source": [
    "def step(state, action, rotate):\n",
    "    \"\"\"\n",
    "    if rotate:\n",
    "        for i in range(9):\n",
    "            if np.array(action == actions[i]).all():\n",
    "                if i == 0:\n",
    "                    action_index = i\n",
    "                else:\n",
    "                    action_index = (i+1)%9\n",
    "        action = actions[action_index]\n",
    "    \"\"\"\n",
    "    #print (action)\n",
    "    if rotate:\n",
    "        action_x = action[0]*np.cos(-np.pi/2) + action[1]*np.sin(-np.pi/2) \n",
    "        action_y = -action[0]*np.sin(-np.pi/2) + action[1]*np.cos(-np.pi/2)\n",
    "        action[0], action[1] = action_x, action_y\n",
    "        #print (action)\n",
    "    new_state = np.array([state[0] + action[0], state[1] + action[1]])\n",
    "\n",
    "    #print (new_state)\n",
    "    #Control for exiting the allowed space. Don't let it\n",
    "    if new_state[0] >= len(environment[:, 0]) - 1 or new_state[1] >= len(environment[0]) - 1 or new_state[0] < 0 or new_state[1] < 0:\n",
    "        #print ('Here')\n",
    "        new_state = state[0], state[1]\n",
    "    \n",
    "    reward = environment[new_state[0], new_state[1]]\n",
    "    #If you encounter reward, restart from the center\n",
    "    #if reward > 0:\n",
    "    #    new_state = [0, 0]\n",
    "        \n",
    "    return np.array(new_state), reward"
   ]
  },
  {
   "cell_type": "code",
   "execution_count": 16,
   "metadata": {},
   "outputs": [],
   "source": [
    "def select_action_epsilon_greedy(state, epsilon):\n",
    "    if np.random.rand(1) < epsilon:\n",
    "        action = np.random.choice([0, 1, -1], 2)\n",
    "    else:\n",
    "        next_values = list()\n",
    "        actions = np.array(np.meshgrid([0, 1, -1], [0, 1, -1])).T.reshape(-1, 2)\n",
    "        for action in actions:\n",
    "            look_one_ahead_state, reward = step(state, action, 0)\n",
    "            next_values.append(values[look_one_ahead_state[0], look_one_ahead_state[1]])\n",
    "        action = actions[np.argmax(np.array(next_values))]\n",
    "    return action"
   ]
  },
  {
   "cell_type": "code",
   "execution_count": 17,
   "metadata": {},
   "outputs": [],
   "source": [
    "def select_action_softmax(state):\n",
    "    next_values = list()\n",
    "    actions = np.array(np.meshgrid([0, 1, -1], [0, 1, -1])).T.reshape(-1, 2)\n",
    "    for action in actions:\n",
    "        look_one_ahead_state, reward = step(state, action, 0)\n",
    "        next_values.append(values[look_one_ahead_state[0], look_one_ahead_state[1]])\n",
    "    softmax_scores = softmax(next_values)\n",
    "    softmax_scores_cum = np.cumsum(softmax_scores)\n",
    "    rand = np.random.rand()\n",
    "    for i in range(len(softmax_scores_cum)):\n",
    "        if softmax_scores_cum[i] > rand:\n",
    "            action = actions[i]\n",
    "            break\n",
    "#    action = actions[np.argmax(np.array(next_values))]\n",
    "    return action"
   ]
  },
  {
   "cell_type": "code",
   "execution_count": null,
   "metadata": {},
   "outputs": [],
   "source": []
  },
  {
   "cell_type": "code",
   "execution_count": 18,
   "metadata": {},
   "outputs": [],
   "source": [
    "def run_batch(episodes, alpha, gamma, values, rotate):\n",
    "    state = np.array([0, 0])\n",
    "    #alpha = 0.05\n",
    "    #episodes = 1000\n",
    "    count = 0\n",
    "    for episode in range(episodes):\n",
    "        state_x = list()\n",
    "        state_y = list()\n",
    "        while True:\n",
    "    #        action = select_action_epsilon_greedy(state, epsilon)\n",
    "            action = select_action_softmax(state)\n",
    "            new_state, reward = step(state, action, rotate)\n",
    "            values[state[0], state[1]] = values[state[0], state[1]] + alpha*(reward + gamma*values[new_state[0], new_state[1]] - values[state[0], state[1]])\n",
    "            state[0], state[1] = new_state[0], new_state[1]\n",
    "            state_x.append(state[0])\n",
    "            state_y.append(state[1])\n",
    "            if reward > 0:\n",
    "                state = np.array([0, 0])\n",
    "                #print (state)\n",
    "                count = count + 1\n",
    "                if count%100 == 0:\n",
    "                    #epsilon = 10*epsilon/count\n",
    "                    alpha = 100*alpha/count\n",
    "                    print (reward)\n",
    "                break\n",
    "    return state_x, state_y, values"
   ]
  },
  {
   "cell_type": "code",
   "execution_count": 19,
   "metadata": {},
   "outputs": [],
   "source": [
    "values = np.random.rand(len(environment[:, 0]), len(environment[0])) \n"
   ]
  },
  {
   "cell_type": "code",
   "execution_count": 20,
   "metadata": {},
   "outputs": [
    {
     "name": "stdout",
     "output_type": "stream",
     "text": [
      "10.0\n",
      "10.0\n",
      "10.0\n",
      "10.0\n",
      "10.0\n",
      "10.0\n",
      "10.0\n",
      "10.0\n",
      "10.0\n",
      "10.0\n",
      "10.0\n",
      "10.0\n",
      "10.0\n",
      "10.0\n",
      "10.0\n",
      "10.0\n",
      "10.0\n",
      "10.0\n",
      "10.0\n",
      "10.0\n",
      "10.0\n",
      "10.0\n",
      "10.0\n",
      "10.0\n",
      "10.0\n",
      "10.0\n",
      "10.0\n",
      "10.0\n",
      "10.0\n",
      "10.0\n"
     ]
    }
   ],
   "source": [
    "x, y, values = run_batch(3000, 0.5, 0.99, values, 0)"
   ]
  },
  {
   "cell_type": "code",
   "execution_count": 21,
   "metadata": {},
   "outputs": [
    {
     "data": {
      "text/plain": [
       "<matplotlib.image.AxesImage at 0x237cd09b1d0>"
      ]
     },
     "execution_count": 21,
     "metadata": {},
     "output_type": "execute_result"
    },
    {
     "data": {
      "image/png": "[encoded data removed]",
      "text/plain": [
       "<Figure size 432x288 with 1 Axes>"
      ]
     },
     "metadata": {
      "needs_background": "light"
     },
     "output_type": "display_data"
    }
   ],
   "source": [
    "plt.imshow(values, cmap='hot', interpolation='nearest')"
   ]
  },
  {
   "cell_type": "code",
   "execution_count": 22,
   "metadata": {},
   "outputs": [
    {
     "data": {
      "text/plain": [
       "<matplotlib.collections.PathCollection at 0x237cd11ce48>"
      ]
     },
     "execution_count": 22,
     "metadata": {},
     "output_type": "execute_result"
    },
    {
     "data": {
      "image/png": "[encoded data removed]",
      "text/plain": [
       "<Figure size 432x288 with 1 Axes>"
      ]
     },
     "metadata": {
      "needs_background": "light"
     },
     "output_type": "display_data"
    }
   ],
   "source": [
    "plt.scatter(x, y)"
   ]
  },
  {
   "cell_type": "code",
   "execution_count": 39,
   "metadata": {},
   "outputs": [],
   "source": [
    "x, y, values = run_batch(1, 0.15, 0.99, values, 1)"
   ]
  },
  {
   "cell_type": "code",
   "execution_count": 38,
   "metadata": {},
   "outputs": [
    {
     "data": {
      "text/plain": [
       "<matplotlib.collections.PathCollection at 0x237cd3f3470>"
      ]
     },
     "execution_count": 38,
     "metadata": {},
     "output_type": "execute_result"
    },
    {
     "data": {
      "image/png": "[encoded data removed]",
      "text/plain": [
       "<Figure size 432x288 with 1 Axes>"
      ]
     },
     "metadata": {
      "needs_background": "light"
     },
     "output_type": "display_data"
    }
   ],
   "source": [
    "plt.scatter(x, y)"
   ]
  },
  {
   "cell_type": "code",
   "execution_count": null,
   "metadata": {},
   "outputs": [],
   "source": []
  },
  {
   "cell_type": "code",
   "execution_count": null,
   "metadata": {},
   "outputs": [],
   "source": []
  },
  {
   "cell_type": "code",
   "execution_count": null,
   "metadata": {},
   "outputs": [],
   "source": []
  }
 ],
 "metadata": {
  "kernelspec": {
   "display_name": "Python 3",
   "language": "python",
   "name": "python3"
  },
  "language_info": {
   "codemirror_mode": {
    "name": "ipython",
    "version": 3
   },
   "file_extension": ".py",
   "mimetype": "text/x-python",
   "name": "python",
   "nbconvert_exporter": "python",
   "pygments_lexer": "ipython3",
   "version": "3.7.0"
  }
 },
 "nbformat": 4,
 "nbformat_minor": 2
}
