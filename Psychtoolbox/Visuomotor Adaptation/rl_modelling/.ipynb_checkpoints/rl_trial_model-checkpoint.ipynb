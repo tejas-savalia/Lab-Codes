{
 "cells": [
  {
   "cell_type": "code",
   "execution_count": 4,
   "metadata": {},
   "outputs": [],
   "source": [
    "import numpy as np\n",
    "import matplotlib.pyplot as plt\n",
    "import scipy.stats as stat\n",
    "import scipy"
   ]
  },
  {
   "cell_type": "code",
   "execution_count": null,
   "metadata": {},
   "outputs": [],
   "source": []
  },
  {
   "cell_type": "code",
   "execution_count": null,
   "metadata": {},
   "outputs": [],
   "source": []
  },
  {
   "cell_type": "code",
   "execution_count": 14,
   "metadata": {},
   "outputs": [],
   "source": [
    "def simulate_trial(step_dist, rotate_theta):\n",
    "    steps = np.array([0, 0])\n",
    "    current = np.array([0, 0])\n",
    "    target = np.array([100, 100])\n",
    "\n",
    "    dist_target = target - current\n",
    "    diff_target, diff_theta = np.hypot(dist_target[0], dist_target[1]), np.arctan2(dist_target[1], dist_target[0]) \n",
    "    penalty = 0\n",
    "    while np.linalg.norm(diff_target) > 10:\n",
    "        step_theta = diff_theta + rotate_theta\n",
    "        step_x, step_y = step_dist*diff_target*np.cos(step_theta), step_dist*diff_target*np.sin(step_theta)\n",
    "        \n",
    "        #print (step_x, step_y)\n",
    "        current = current + np.array([step_x, step_y])\n",
    "        #print (current)\n",
    "        steps = np.row_stack((steps, current))\n",
    "        dist_target = target - current\n",
    "        diff_target, diff_theta = np.hypot(dist_target[0], dist_target[1]), np.arctan2(dist_target[1], dist_target[0]) \n",
    "        \n",
    "        #print (current)\n",
    "        penalty = penalty + 1\n",
    "    num_steps=len(steps[:, 1])\n",
    "    accuracy=max(abs(steps[:, 0])) + max(abs(steps[:, 1])) + penalty\n",
    "    plt.scatter(steps[:, 0], steps[:, 1])\n",
    "    return accuracy"
   ]
  },
  {
   "cell_type": "code",
   "execution_count": 22,
   "metadata": {},
   "outputs": [
    {
     "data": {
      "image/png": "[encoded data removed]",
      "text/plain": [
       "<Figure size 432x288 with 1 Axes>"
      ]
     },
     "metadata": {
      "needs_background": "light"
     },
     "output_type": "display_data"
    }
   ],
   "source": [
    "rotate_theta = 0.9\n",
    "correct_theta = 0\n",
    "step_dist = 0.1\n",
    "for i in range(10):\n",
    "    reward = simulate_trial(step_dist, rotate_theta - correct_theta)\n",
    "    if reward < 50:\n",
    "        correct_theta = correct_theta + 0.1\n",
    "        "
   ]
  },
  {
   "cell_type": "code",
   "execution_count": 17,
   "metadata": {},
   "outputs": [
    {
     "data": {
      "image/png": "[encoded data removed]",
      "text/plain": [
       "<Figure size 432x288 with 1 Axes>"
      ]
     },
     "metadata": {
      "needs_background": "light"
     },
     "output_type": "display_data"
    }
   ],
   "source": [
    "optimal = scipy.optimize.minimize(simulate_trial, x0=[0.1], args=(1.2), method='Nelder-Mead')"
   ]
  },
  {
   "cell_type": "code",
   "execution_count": 18,
   "metadata": {},
   "outputs": [
    {
     "data": {
      "text/plain": [
       " final_simplex: (array([[0.19475464],\n",
       "       [0.19475525]]), array([406.10444315, 406.10450552]))\n",
       "           fun: 406.1044431457434\n",
       "       message: 'Optimization terminated successfully.'\n",
       "          nfev: 52\n",
       "           nit: 25\n",
       "        status: 0\n",
       "       success: True\n",
       "             x: array([0.19475464])"
      ]
     },
     "execution_count": 18,
     "metadata": {},
     "output_type": "execute_result"
    }
   ],
   "source": [
    "optimal"
   ]
  }
 ],
 "metadata": {
  "kernelspec": {
   "display_name": "Python 3",
   "language": "python",
   "name": "python3"
  },
  "language_info": {
   "codemirror_mode": {
    "name": "ipython",
    "version": 3
   },
   "file_extension": ".py",
   "mimetype": "text/x-python",
   "name": "python",
   "nbconvert_exporter": "python",
   "pygments_lexer": "ipython3",
   "version": "3.7.0"
  }
 },
 "nbformat": 4,
 "nbformat_minor": 2
}
