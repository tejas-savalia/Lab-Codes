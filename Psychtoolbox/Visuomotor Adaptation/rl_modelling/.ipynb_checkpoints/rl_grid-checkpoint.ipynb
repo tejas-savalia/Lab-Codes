{
 "cells": [
  {
   "cell_type": "code",
   "execution_count": 1,
   "metadata": {},
   "outputs": [],
   "source": [
    "import numpy as np\n",
    "import scipy.stats as stat\n",
    "import matplotlib.pyplot as plt\n"
   ]
  },
  {
   "cell_type": "code",
   "execution_count": 2,
   "metadata": {},
   "outputs": [],
   "source": [
    "def softmax(x):\n",
    "    ex = np.exp(x)\n",
    "    sum_ex = np.sum( np.exp(x))\n",
    "    return ex/sum_ex"
   ]
  },
  {
   "cell_type": "code",
   "execution_count": 3,
   "metadata": {},
   "outputs": [],
   "source": [
    "#Environment with dimenions as tuple, reward\n",
    "def get_environment(dimensions):\n",
    "    environment = np.zeros(dimensions) - 10\n",
    "    environment[40:50, 40:50] = 10\n",
    "    return environment\n",
    "environment = get_environment((96, 54))"
   ]
  },
  {
   "cell_type": "code",
   "execution_count": 4,
   "metadata": {},
   "outputs": [
    {
     "data": {
      "text/plain": [
       "96"
      ]
     },
     "execution_count": 4,
     "metadata": {},
     "output_type": "execute_result"
    }
   ],
   "source": [
    "len(environment[:])"
   ]
  },
  {
   "cell_type": "code",
   "execution_count": 5,
   "metadata": {},
   "outputs": [],
   "source": [
    "def step(state, action):\n",
    "    new_state = np.array([state[0] + action[0], state[1] + action[1]])\n",
    "    #print (new_state)\n",
    "    #Control for exiting the allowed space. Don't let it\n",
    "    if new_state[0] >= len(environment[:, 0]) - 1 or new_state[1] >= len(environment[0]) - 1 or new_state[0] < 0 or new_state[1] < 0:\n",
    "        #print ('Here')\n",
    "        new_state = state[0], state[1]\n",
    "    \n",
    "    reward = environment[new_state[0], new_state[1]]\n",
    "    #If you encounter reward, restart from the center\n",
    "    #if reward > 0:\n",
    "    #    new_state = [0, 0]\n",
    "        \n",
    "    return np.array(new_state), reward"
   ]
  },
  {
   "cell_type": "code",
   "execution_count": 6,
   "metadata": {},
   "outputs": [],
   "source": [
    "def select_action_epsilon_greedy(state, epsilon, rotate):\n",
    "    if np.random.rand(1) < epsilon:\n",
    "        action = np.random.choice([0, 1, -1], 2)\n",
    "    else:\n",
    "        next_values = list()\n",
    "        actions = np.array(np.meshgrid([0, 1, -1], [0, 1, -1])).T.reshape(-1, 2)\n",
    "        for action in actions:\n",
    "            look_one_ahead_state, reward = step(state, action)\n",
    "            next_values.append(values[look_one_ahead_state[0], look_one_ahead_state[1]])\n",
    "        action = actions[np.argmax(np.array(next_values))]\n",
    "        if rotate:\n",
    "            action = actions[np.argmax(np.array(next_values))-2]\n",
    "    return action\n"
   ]
  },
  {
   "cell_type": "code",
   "execution_count": 7,
   "metadata": {},
   "outputs": [],
   "source": [
    "def select_action_softmax(state, rotate):\n",
    "    next_values = list()\n",
    "    actions = np.array(np.meshgrid([0, 1, -1], [0, 1, -1])).T.reshape(-1, 2)\n",
    "    for action in actions:\n",
    "        look_one_ahead_state, reward = step(state, action)\n",
    "        next_values.append(values[look_one_ahead_state[0], look_one_ahead_state[1]])\n",
    "    softmax_scores = softmax(next_values)\n",
    "    softmax_scores_cum = np.cumsum(softmax_scores)\n",
    "    rand = np.random.rand()\n",
    "    for i in range(len(softmax_scores_cum)):\n",
    "        if softmax_scores_cum[i] > rand:\n",
    "            action = actions[i]\n",
    "            break\n",
    "#    action = actions[np.argmax(np.array(next_values))]\n",
    "    if rotate:\n",
    "        action = actions[np.argmax(np.array(next_values))-2]\n",
    "    return action\n"
   ]
  },
  {
   "cell_type": "code",
   "execution_count": 8,
   "metadata": {},
   "outputs": [],
   "source": [
    "state = np.array([0, 0])\n",
    "values = np.random.rand(len(environment[:, 0]), len(environment[0])) \n",
    "epsilon = 0.5\n",
    "alpha = 0.5\n",
    "gamma = 0.99"
   ]
  },
  {
   "cell_type": "code",
   "execution_count": 13,
   "metadata": {},
   "outputs": [
    {
     "name": "stdout",
     "output_type": "stream",
     "text": [
      "10.0\n",
      "10.0\n",
      "10.0\n",
      "10.0\n",
      "10.0\n",
      "10.0\n",
      "10.0\n",
      "10.0\n",
      "10.0\n",
      "10.0\n"
     ]
    },
    {
     "data": {
      "image/png": "[encoded data removed]",
      "text/plain": [
       "<Figure size 432x288 with 1 Axes>"
      ]
     },
     "metadata": {
      "needs_background": "light"
     },
     "output_type": "display_data"
    }
   ],
   "source": [
    "count = 0 \n",
    "episodes = 100\n",
    "for episode in range(episodes):\n",
    "    state_x = list()\n",
    "    state_y = list()\n",
    "    while True:\n",
    "#        action = select_action_epsilon_greedy(state, epsilon)\n",
    "        action = select_action_softmax(state, 0)\n",
    "        new_state, reward = step(state, action)\n",
    "        values[state[0], state[1]] = values[state[0], state[1]] + alpha*(reward + gamma*values[new_state[0], new_state[1]] - values[state[0], state[1]])\n",
    "        state[0], state[1] = new_state[0], new_state[1]\n",
    "        state_x.append(state[0])\n",
    "        state_y.append(state[1])\n",
    "        if reward > 0:\n",
    "            state = np.array([0, 0])\n",
    "            #print (state)\n",
    "            count = count + 1\n",
    "            if count%10 == 0:\n",
    "                #epsilon = 10*epsilon/count\n",
    "                #alpha = 10*alpha/count\n",
    "                print (reward)\n",
    "                plt.imshow(values, cmap='hot', interpolation='nearest')\n",
    "                plt.scatter(state_x, state_y)\n",
    "            break"
   ]
  },
  {
   "cell_type": "code",
   "execution_count": 14,
   "metadata": {},
   "outputs": [
    {
     "data": {
      "text/plain": [
       "4.54641287746683"
      ]
     },
     "execution_count": 14,
     "metadata": {},
     "output_type": "execute_result"
    }
   ],
   "source": [
    "np.max(values)"
   ]
  },
  {
   "cell_type": "code",
   "execution_count": 15,
   "metadata": {},
   "outputs": [
    {
     "data": {
      "text/plain": [
       "<matplotlib.image.AxesImage at 0x14e2b989198>"
      ]
     },
     "execution_count": 15,
     "metadata": {},
     "output_type": "execute_result"
    },
    {
     "data": {
      "image/png": "[encoded data removed]",
      "text/plain": [
       "<Figure size 432x288 with 1 Axes>"
      ]
     },
     "metadata": {
      "needs_background": "light"
     },
     "output_type": "display_data"
    }
   ],
   "source": [
    "plt.imshow(values, cmap='hot', interpolation='nearest')"
   ]
  },
  {
   "cell_type": "code",
   "execution_count": 16,
   "metadata": {},
   "outputs": [
    {
     "data": {
      "text/plain": [
       "<matplotlib.collections.PathCollection at 0x14e2b9d39e8>"
      ]
     },
     "execution_count": 16,
     "metadata": {},
     "output_type": "execute_result"
    },
    {
     "data": {
      "image/png": "[encoded data removed]",
      "text/plain": [
       "<Figure size 432x288 with 1 Axes>"
      ]
     },
     "metadata": {
      "needs_background": "light"
     },
     "output_type": "display_data"
    }
   ],
   "source": [
    "plt.scatter(state_x, state_y)\n"
   ]
  },
  {
   "cell_type": "code",
   "execution_count": null,
   "metadata": {},
   "outputs": [],
   "source": [
    "#epsilon = 0.0001\n",
    "#alpha = 0\n",
    "for episode in range(episodes):\n",
    "    state_x = list()\n",
    "    state_y = list()\n",
    "    while True:\n",
    "        action = select_action_epsilon_greedy(state, epsilon, 1)\n",
    "        new_state, reward = step(state, action)\n",
    "        values[state[0], state[1]] = values[state[0], state[1]] + alpha*(reward + gamma*values[new_state[0], new_state[1]] - values[state[0], state[1]])\n",
    "        state[0], state[1] = new_state[0], new_state[1]\n",
    "        state_x.append(state[0])\n",
    "        state_y.append(state[1])\n",
    "        if reward > 0:\n",
    "            state = np.array([0, 0])\n",
    "            #print (state)\n",
    "            count = count + 1\n",
    "            if count%10 == 0:\n",
    "         #       epsilon = 10*epsilon/count\n",
    "         #       alpha = 10*alpha/count\n",
    "                print (reward)\n",
    "                #plt.imshow(values, cmap='hot', interpolation='nearest')\n",
    "                plt.scatter(state_x, state_y)\n",
    "                plt.show()\n",
    "            break"
   ]
  },
  {
   "cell_type": "code",
   "execution_count": 36,
   "metadata": {},
   "outputs": [
    {
     "data": {
      "text/plain": [
       "array([-1, -1])"
      ]
     },
     "execution_count": 36,
     "metadata": {},
     "output_type": "execute_result"
    }
   ],
   "source": [
    "select_action_softmax(state, 0)"
   ]
  },
  {
   "cell_type": "code",
   "execution_count": null,
   "metadata": {},
   "outputs": [],
   "source": []
  }
 ],
 "metadata": {
  "kernelspec": {
   "display_name": "Python 3",
   "language": "python",
   "name": "python3"
  },
  "language_info": {
   "codemirror_mode": {
    "name": "ipython",
    "version": 3
   },
   "file_extension": ".py",
   "mimetype": "text/x-python",
   "name": "python",
   "nbconvert_exporter": "python",
   "pygments_lexer": "ipython3",
   "version": "3.7.0"
  }
 },
 "nbformat": 4,
 "nbformat_minor": 2
}
