{
 "cells": [
  {
   "cell_type": "code",
   "execution_count": 1,
   "metadata": {},
   "outputs": [],
   "source": [
    "import numpy as np\n",
    "import scipy.io\n",
    "from multiprocessing import Pool\n",
    "from functools import partial\n",
    "import pickle\n",
    "import scipy\n",
    "import scipy.optimize\n",
    "from sklearn.metrics import *\n",
    "import scipy.stats as stat\n",
    "import matplotlib.pyplot as plt\n",
    "from scipy.ndimage import gaussian_filter1d\n",
    "import pandas as pd"
   ]
  },
  {
   "cell_type": "markdown",
   "metadata": {},
   "source": [
    "## Import fit parameters"
   ]
  },
  {
   "cell_type": "code",
   "execution_count": 2,
   "metadata": {},
   "outputs": [],
   "source": [
    "fits_single = pickle.load(open('fit_single_bound_with_transfer.pickle', 'rb'))\n",
    "fits_dual = pickle.load(open('fit_dual_bound_with_transfer.pickle', 'rb'))"
   ]
  },
  {
   "cell_type": "markdown",
   "metadata": {},
   "source": [
    "## Import single and dual state model functions"
   ]
  },
  {
   "cell_type": "code",
   "execution_count": 3,
   "metadata": {},
   "outputs": [],
   "source": [
    "from dual_model_with_transfer import dual_model_sudden, dual_model_gradual\n",
    "from single_model_with_transfer import model_sudden, model_gradual"
   ]
  },
  {
   "cell_type": "markdown",
   "metadata": {},
   "source": [
    "## Generate Data"
   ]
  },
  {
   "cell_type": "code",
   "execution_count": 7,
   "metadata": {},
   "outputs": [],
   "source": [
    "model_errors_dual = np.zeros((60, 704))\n",
    "model_errors_single = np.zeros((60, 704))\n",
    "for participant in range(60):\n",
    "    if participant%4 == 0 or participant%4 == 1:\n",
    "        model_errors_dual[participant] = dual_model_sudden(704, fits_dual[participant][0], fits_dual[participant][1], fits_dual[participant][2], fits_dual[participant][3])[0]\n",
    "        model_errors_single[participant] = model_sudden(704, fits_single[participant][0], fits_single[participant][1])[0]\n",
    "\n",
    "    else:\n",
    "        model_errors_dual[participant] = dual_model_gradual(704, fits_dual[participant][0], fits_dual[participant][1], fits_dual[participant][2], fits_dual[participant][3])[0]\n",
    "        model_errors_single[participant] = model_gradual(704, fits_single[participant][0], fits_single[participant][1])[0]\n",
    "        "
   ]
  },
  {
   "cell_type": "markdown",
   "metadata": {},
   "source": [
    "## Save generated data"
   ]
  },
  {
   "cell_type": "code",
   "execution_count": 18,
   "metadata": {},
   "outputs": [],
   "source": [
    "generated_by_dual = np.zeros((60, 12, 64))\n",
    "generated_by_dual[:, 1:] = np.reshape(model_errors_dual, (60, 11, 64))\n",
    "\n",
    "generated_by_single = np.zeros((60, 12, 64))\n",
    "generated_by_single[:, 1:] = np.reshape(model_errors_single, (60, 11, 64))\n",
    "\n",
    "pickle.dump(generated_by_dual, open('generated_by_dual.pickle', 'wb'))\n",
    "pickle.dump(generated_by_single, open('generated_by_single.pickle', 'wb'))\n"
   ]
  },
  {
   "cell_type": "code",
   "execution_count": 17,
   "metadata": {},
   "outputs": [
    {
     "data": {
      "text/plain": [
       "[<matplotlib.lines.Line2D at 0x2ce0388e550>]"
      ]
     },
     "execution_count": 17,
     "metadata": {},
     "output_type": "execute_result"
    },
    {
     "data": {
      "image/png": "[encoded data removed]",
      "text/plain": [
       "<Figure size 432x288 with 1 Axes>"
      ]
     },
     "metadata": {
      "needs_background": "light"
     },
     "output_type": "display_data"
    }
   ],
   "source": []
  }
 ],
 "metadata": {
  "kernelspec": {
   "display_name": "Python 3",
   "language": "python",
   "name": "python3"
  },
  "language_info": {
   "codemirror_mode": {
    "name": "ipython",
    "version": 3
   },
   "file_extension": ".py",
   "mimetype": "text/x-python",
   "name": "python",
   "nbconvert_exporter": "python",
   "pygments_lexer": "ipython3",
   "version": "3.8.3"
  }
 },
 "nbformat": 4,
 "nbformat_minor": 4
}
