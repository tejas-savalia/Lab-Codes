{
 "cells": [
  {
   "cell_type": "code",
   "execution_count": 3,
   "metadata": {},
   "outputs": [],
   "source": [
    "import numpy as np\n",
    "import scipy.io\n",
    "from multiprocessing import Pool\n",
    "from functools import partial\n",
    "import pickle\n",
    "import scipy\n",
    "import scipy.optimize\n",
    "from sklearn.metrics import *\n",
    "import scipy.stats as stat\n",
    "import matplotlib.pyplot as plt\n",
    "from scipy.ndimage import gaussian_filter1d\n",
    "import pandas as pd"
   ]
  },
  {
   "cell_type": "markdown",
   "metadata": {},
   "source": [
    "## Import fit parameters"
   ]
  },
  {
   "cell_type": "code",
   "execution_count": 2,
   "metadata": {},
   "outputs": [],
   "source": [
    "fits_single = pickle.load(open('fit_single_bound_with_transfer_model_recovery.pickle', 'rb'))\n",
    "fits_dual = pickle.load(open('fit_dual_bound_with_transfer_model_recovery.pickle', 'rb'))"
   ]
  },
  {
   "cell_type": "markdown",
   "metadata": {},
   "source": [
    "## Import single and dual state model functions"
   ]
  },
  {
   "cell_type": "code",
   "execution_count": 4,
   "metadata": {},
   "outputs": [],
   "source": [
    "from dual_model_with_transfer import dual_model_sudden, dual_model_gradual\n",
    "from single_model_with_transfer import model_sudden, model_gradual"
   ]
  },
  {
   "cell_type": "markdown",
   "metadata": {},
   "source": [
    "## Parameter Values"
   ]
  },
  {
   "cell_type": "code",
   "execution_count": 42,
   "metadata": {},
   "outputs": [
    {
     "data": {
      "text/plain": [
       "Text(0, 0.5, 'Mean rmse')"
      ]
     },
     "execution_count": 42,
     "metadata": {},
     "output_type": "execute_result"
    },
    {
     "data": {
      "image/png": "[encoded data removed]",
      "text/plain": [
       "<Figure size 432x288 with 1 Axes>"
      ]
     },
     "metadata": {
      "needs_background": "light"
     },
     "output_type": "display_data"
    }
   ],
   "source": [
    "ci_single = stat.t.interval(alpha=0.95, df=59, loc=np.mean(fits_single[:, -1]), scale=stat.sem(fits_single[:, -1]))\n",
    "ci_dual = stat.t.interval(alpha=0.95, df=59, loc=np.mean(fits_dual[:, -1]), scale=stat.sem(fits_dual[:, -1]))\n",
    "plt.bar(('Single State', \"Dual State\"), [np.mean(fits_single[:, -1]), np.mean(fits_dual[:, -1])], yerr = ([ci_single[0], ci_dual[0]], [ci_single[1], ci_dual[1]]), capsize = 3)\n",
    "plt.ylabel('Mean rmse')"
   ]
  },
  {
   "cell_type": "code",
   "execution_count": 43,
   "metadata": {},
   "outputs": [
    {
     "data": {
      "text/plain": [
       "Ttest_indResult(statistic=9.788766584723563, pvalue=6.356503502155063e-17)"
      ]
     },
     "execution_count": 43,
     "metadata": {},
     "output_type": "execute_result"
    }
   ],
   "source": [
    "stat.ttest_ind(fits_single[:, -1], fits_dual[:, -1])"
   ]
  }
 ],
 "metadata": {
  "kernelspec": {
   "display_name": "Python 3",
   "language": "python",
   "name": "python3"
  },
  "language_info": {
   "codemirror_mode": {
    "name": "ipython",
    "version": 3
   },
   "file_extension": ".py",
   "mimetype": "text/x-python",
   "name": "python",
   "nbconvert_exporter": "python",
   "pygments_lexer": "ipython3",
   "version": "3.8.3"
  }
 },
 "nbformat": 4,
 "nbformat_minor": 4
}
