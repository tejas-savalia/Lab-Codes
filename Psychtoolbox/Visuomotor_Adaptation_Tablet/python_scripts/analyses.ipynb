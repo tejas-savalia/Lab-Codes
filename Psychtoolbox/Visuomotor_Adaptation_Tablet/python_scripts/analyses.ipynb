{
 "cells": [
  {
   "cell_type": "code",
   "execution_count": 3,
   "metadata": {},
   "outputs": [],
   "source": [
    "import scipy.io\n",
    "import numpy\n",
    "import matplotlib.pyplot as plt\n",
    "from ipywidgets import interact, interactive, fixed, interact_manual\n",
    "import ipywidgets as widgets\n",
    "import scipy.stats as stat\n",
    "from sklearn.linear_model import LinearRegression\n",
    "import statsmodels.api as sm\n",
    "import statsmodels.formula.api as smf\n",
    "from multiprocessing import Pool\n",
    "from scipy import stats\n",
    "from scipy.optimize import curve_fit"
   ]
  },
  {
   "cell_type": "code",
   "execution_count": 2,
   "metadata": {},
   "outputs": [],
   "source": [
    "SMALL_SIZE = 8\n",
    "MEDIUM_SIZE = 15\n",
    "BIGGER_SIZE = 24\n",
    "\n",
    "plt.rc('font', size=SMALL_SIZE)          # controls default text sizes\n",
    "plt.rc('axes', titlesize=BIGGER_SIZE)     # fontsize of the axes title\n",
    "plt.rc('axes', labelsize=BIGGER_SIZE)    # fontsize of the x and y labels\n",
    "plt.rc('xtick', labelsize=BIGGER_SIZE)    # fontsize of the tick labels\n",
    "plt.rc('ytick', labelsize=MEDIUM_SIZE)    # fontsize of the tick labels\n",
    "plt.rc('legend', fontsize=MEDIUM_SIZE)    # legend fontsize\n",
    "plt.rc('figure', titlesize=MEDIUM_SIZE)  # fontsize of the figure title"
   ]
  },
  {
   "cell_type": "markdown",
   "metadata": {},
   "source": [
    "# Lineplots first!\n",
    "## Odd is Accuracy Even is Speed\n",
    "\n",
    "## 0 1 are sudden"
   ]
  },
  {
   "cell_type": "code",
   "execution_count": null,
   "metadata": {},
   "outputs": [],
   "source": []
  },
  {
   "cell_type": "code",
   "execution_count": null,
   "metadata": {},
   "outputs": [],
   "source": []
  },
  {
   "cell_type": "code",
   "execution_count": 2,
   "metadata": {},
   "outputs": [],
   "source": [
    "def lineplots(data, block, first, last):\n",
    "    traj = scipy.io.loadmat('data/data{data}/actual_trajectories/trajectories{block}.mat'.format(block=str(block), data=str(data)))\n",
    "\n",
    "    for i in range(first,last):\n",
    "        plt.plot(traj['x'][0][i][0], traj['y'][0][i][0])\n"
   ]
  },
  {
   "cell_type": "code",
   "execution_count": 3,
   "metadata": {},
   "outputs": [
    {
     "data": {
      "application/vnd.jupyter.widget-view+json": {
       "model_id": "44c012c88bfb4640b1fddca9598b3919",
       "version_major": 2,
       "version_minor": 0
      },
      "text/plain": [
       "interactive(children=(ToggleButtons(description='data', options=(1000, 1001, 1002, 1003, 1004, 1005, 1006, 100…"
      ]
     },
     "metadata": {},
     "output_type": "display_data"
    },
    {
     "data": {
      "text/plain": [
       "<function __main__.lineplots(data, block, first, last)>"
      ]
     },
     "execution_count": 3,
     "metadata": {},
     "output_type": "execute_result"
    }
   ],
   "source": [
    "interact(lineplots, data = widgets.ToggleButtons(options = range(1000, 1060)), block = widgets.IntSlider(max = 11, min = 0, value = 0, step = 1),\n",
    "        first = widgets.IntSlider(max = 63, min = 0, value = 0, step = 1), last = widgets.IntSlider(max = 64, min = 1, value = 1, step = 1))"
   ]
  },
  {
   "cell_type": "markdown",
   "metadata": {},
   "source": [
    "## Error Vs Time plots\n",
    "\n",
    "Divide Trajectories by 5. Calculate mean and standard deviation of difference between ideal and actual trajectories (both divided by 5) for all 64 trajectories in a block. \n",
    "From the movement time, calculate how long it took to finish each of these 5 trajectories. Calculate mean and standard deviation across 64 trials. \n",
    "\n",
    "This might as well just be equal to the mean and standard deviation of the **number** of points in each of those five quantiles for all trajectories.\n",
    "\n"
   ]
  },
  {
   "cell_type": "markdown",
   "metadata": {},
   "source": [
    "# Error Calculation\n",
    "Takes in a trajectory loaded from the mat file and calculates error by comparing minimum distance from x and y coordinates of the actual trajectory to the ideal trajectory"
   ]
  },
  {
   "cell_type": "code",
   "execution_count": 3,
   "metadata": {},
   "outputs": [],
   "source": [
    "#square_coord = scipy.io.loadmat('data/pilot/pilot_1/squares/coordinates/squares3.mat')\n",
    "#traj = scipy.io.loadmat('data/pilot/pilot_1/actual_trajectories/trajectories3.mat')\n",
    "#def calc_error(traj, square_coord):\n",
    "# The version above uses square coordinates\n",
    "def calc_error(traj):    \n",
    "    error = list()\n",
    "    for j in range(64):\n",
    "        traj_dist = list()\n",
    "        trajx, trajy = traj['x'][0][j][0], traj['y'][0][j][0]\n",
    "        #end_pointx, end_pointy  = square_coord['squareX'][0][j], square_coord['squareY'][0][j]\n",
    "        end_pointx, end_pointy  = traj['x'][0][j][0][-1], traj['y'][0][j][0][-1]\n",
    "\n",
    "        xline = numpy.linspace(0, end_pointx, 500)\n",
    "        yline = numpy.linspace(0, end_pointy, 500)\n",
    "\n",
    "        for i in range(len(trajx)):\n",
    "            xdist = min(numpy.absolute(xline-trajx[i]))\n",
    "            ydist = min(numpy.absolute(yline-trajy[i]))\n",
    "            dist = numpy.sqrt(xdist**2 + ydist**2)\n",
    "            traj_dist.append(dist)\n",
    "        error.append(traj_dist)\n",
    "    return error\n",
    "#dist = numpy.linalg.norm(numpy.cross(p2-p1, p1-p3))/numpy.linalg.norm(p2-p1)"
   ]
  },
  {
   "cell_type": "code",
   "execution_count": 4,
   "metadata": {},
   "outputs": [],
   "source": [
    "#traj['x'][0][0][0][-1]"
   ]
  },
  {
   "cell_type": "code",
   "execution_count": 5,
   "metadata": {},
   "outputs": [],
   "source": [
    "#calc_error(traj, square_coord)"
   ]
  },
  {
   "cell_type": "markdown",
   "metadata": {},
   "source": [
    "Participant 1 Gradual Change Accuracy emphasis\n",
    "\n",
    "Participant 2 Sudden change Accuracy emphasis\n",
    "\n",
    "Participant 3 Gradual change Speed emphasis\n",
    "\n",
    "# Time quintiles:\n",
    "X axis is cummulative sum of the number of samples in the trajectory, averaged across all trajectories. \n",
    "Y axis is the mean of error in that time quantile, averaged across all trajectories\n"
   ]
  },
  {
   "cell_type": "code",
   "execution_count": 6,
   "metadata": {},
   "outputs": [],
   "source": [
    "def errorvstime(data, block, num_trajectories):\n",
    "    traj = scipy.io.loadmat('data/data{data}/actual_trajectories/trajectories{block}.mat'.format(block=str(block), data=str(data)))\n",
    "    ideal_traj = scipy.io.loadmat('data/data{data}/ideal_trajectories/trajectories{block}.mat'.format(block = str(block), data=str(data)))\n",
    "    #squares = scipy.io.loadmat('data/participants/data{data}/squares/coordinates/squares{block}.mat'.format(block=str(block), data=str(data)))\n",
    "    #xdiff = (ideal_traj['idealXs'] - traj['x'])\n",
    "    #ydiff = (ideal_traj['idealYs'] - traj['y'])\n",
    "    error = calc_error(traj)[:num_trajectories]\n",
    "    #error = xdiff**2+ydiff**2\n",
    "    #print (error)\n",
    "    error_means = numpy.zeros((num_trajectories, 5))\n",
    "    for i in range(num_trajectories):\n",
    "        n = len(error[i])\n",
    "        for j in range(5):\n",
    "            error_means[i, j] = numpy.mean(error[i][int(numpy.floor((j)*n/5)):int(numpy.floor((j+1)*n/5))])\n",
    "#            error_means[i, j] = numpy.median(error[i][int(numpy.floor((j)*n/5)):int(numpy.floor((j+1)*n/5))])\n",
    "         #error_means[i, ] = error_means[i, ]/max(error_means[i,])\n",
    "\n",
    "    \n",
    "    time_means = numpy.zeros((num_trajectories, 5))\n",
    "\n",
    "    for i in range(num_trajectories):\n",
    "        n = len(error[i])\n",
    "        for j in range(5):\n",
    "            time_means[i, j] = len(error[i][int(numpy.floor((j)*n/5)):int(numpy.floor((j+1)*n/5))])\n",
    "    times = numpy.cumsum(numpy.mean(time_means, axis = 0))\n",
    "    plt.errorbar(times, numpy.mean(error_means, axis = 0), xerr = stat.sem(time_means, axis = 0), yerr = stat.sem(error_means, axis = 0))\n",
    "    plt.ylabel('Error')\n",
    "    plt.xlabel('Time')\n",
    "    plt.xlim(0, 100)\n",
    "    plt.ylim(-20, 70)\n",
    "    return times, numpy.mean(error_means, axis = 0)"
   ]
  },
  {
   "cell_type": "code",
   "execution_count": null,
   "metadata": {},
   "outputs": [],
   "source": []
  },
  {
   "cell_type": "markdown",
   "metadata": {},
   "source": [
    "Calculate error vs time for each block collapsed across participants."
   ]
  },
  {
   "cell_type": "code",
   "execution_count": 7,
   "metadata": {},
   "outputs": [
    {
     "name": "stderr",
     "output_type": "stream",
     "text": [
      "C:\\Users\\Tejas\\Anaconda3\\lib\\site-packages\\numpy\\core\\fromnumeric.py:3335: RuntimeWarning: Mean of empty slice.\n",
      "  out=out, **kwargs)\n",
      "C:\\Users\\Tejas\\Anaconda3\\lib\\site-packages\\numpy\\core\\_methods.py:161: RuntimeWarning: invalid value encountered in double_scalars\n",
      "  ret = ret.dtype.type(ret / rcount)\n"
     ]
    },
    {
     "data": {
      "image/png": "[encoded data removed]",
      "text/plain": [
       "<Figure size 432x288 with 1 Axes>"
      ]
     },
     "metadata": {
      "needs_background": "light"
     },
     "output_type": "display_data"
    }
   ],
   "source": [
    "times = numpy.zeros((60, 5))\n",
    "errors = numpy.zeros((60, 5))\n",
    "for i in range(1000, 1059):\n",
    "    temp = errorvstime(i, 11, 32)\n",
    "    times[i-1000] = temp[0]\n",
    "    errors[i-1000] = temp[1] \n",
    "    #print (i)"
   ]
  },
  {
   "cell_type": "code",
   "execution_count": null,
   "metadata": {},
   "outputs": [],
   "source": []
  },
  {
   "cell_type": "code",
   "execution_count": null,
   "metadata": {},
   "outputs": [],
   "source": [
    "times_speed_sudden = numpy.zeros((60, 5))\n",
    "times_speed_gradual = numpy.zeros((60, 5))\n",
    "times_accuracy_sudden = numpy.zeros((60, 5))\n",
    "times_accuracy_gradual = numpy.zeros((60, 5))\n",
    "errors_speed_sudden = numpy.zeros((60, 5))\n",
    "errors_speed_gradual = numpy.zeros((60, 5))\n",
    "errors_accuracy_sudden = numpy.zeros((60, 5))\n",
    "errors_accuracy_gradual = numpy.zeros((60, 5))\n",
    "for i in range(len(times)):\n",
    "    if i%4 == 0:\n",
    "        times_speed_sudden[i] = times[i]\n",
    "        errors_speed_sudden[i] = errors[i]\n",
    "    elif i%4 == 1:\n",
    "        times_accuracy_sudden[i] = times[i]\n",
    "        errors_accuracy_sudden[i] = errors[i]\n",
    "    elif i%4 == 2:\n",
    "        times_speed_gradual[i] = times[i]\n",
    "        errors_speed_gradual[i] = errors[i]\n",
    "    elif i%4 == 3:\n",
    "        times_accuracy_gradual[i] = times[i]\n",
    "        errors_accuracy_gradual[i] = errors[i]\n",
    "       "
   ]
  },
  {
   "cell_type": "code",
   "execution_count": null,
   "metadata": {},
   "outputs": [],
   "source": [
    "times_speed_gradual = numpy.reshape(times_speed_gradual[numpy.nonzero(times_speed_gradual)], (int(len(times_speed_gradual[numpy.nonzero(times_speed_gradual)])/5), 5))\n",
    "errors_speed_gradual = numpy.reshape(errors_speed_gradual[numpy.nonzero(errors_speed_gradual)], (int(len(errors_speed_gradual[numpy.nonzero(errors_speed_gradual)])/5), 5))\n",
    "times_speed_sudden = numpy.reshape(times_speed_sudden[numpy.nonzero(times_speed_sudden)], (int(len(times_speed_sudden[numpy.nonzero(times_speed_sudden)])/5), 5))\n",
    "errors_speed_sudden = numpy.reshape(errors_speed_sudden[numpy.nonzero(errors_speed_sudden)], (int(len(errors_speed_sudden[numpy.nonzero(errors_speed_sudden)])/5), 5))\n",
    "times_accuracy_gradual = numpy.reshape(times_accuracy_gradual[numpy.nonzero(times_accuracy_gradual)], (int(len(times_accuracy_gradual[numpy.nonzero(times_accuracy_gradual)])/5), 5))\n",
    "errors_accuracy_gradual = numpy.reshape(errors_accuracy_gradual[numpy.nonzero(errors_accuracy_gradual)], (int(len(errors_accuracy_gradual[numpy.nonzero(errors_accuracy_gradual)])/5), 5))\n",
    "times_accuracy_sudden = numpy.reshape(times_accuracy_sudden[numpy.nonzero(times_accuracy_sudden)], (int(len(times_accuracy_sudden[numpy.nonzero(times_accuracy_sudden)])/5), 5))\n",
    "errors_accuracy_sudden = numpy.reshape(errors_accuracy_sudden[numpy.nonzero(errors_accuracy_sudden)], (int(len(errors_accuracy_sudden[numpy.nonzero(errors_accuracy_sudden)])/5), 5))\n"
   ]
  },
  {
   "cell_type": "code",
   "execution_count": null,
   "metadata": {},
   "outputs": [],
   "source": [
    "times_speed_sudden"
   ]
  },
  {
   "cell_type": "code",
   "execution_count": null,
   "metadata": {},
   "outputs": [],
   "source": [
    "#numpy.mean(times_accuracy_gradual, axis = 0)\n",
    "#numpy.nanmean(errors_speed_sudden, axis = 0)\n",
    "#stat.sem(times_accuracy_gradual, axis = 0)\n",
    "#numpy.nanstd(errors_accuracy_gradual, axis = 0)/numpy.sqrt(errors_accuracy_gradual)\n",
    "#numpy.nanstd(errors_accuracy_gradual)\n",
    "\n",
    "numpy.shape(numpy.nonzero(times_accuracy_sudden))"
   ]
  },
  {
   "cell_type": "code",
   "execution_count": null,
   "metadata": {},
   "outputs": [],
   "source": [
    "fig,(ax1)=plt.subplots(1,1)\n",
    "ax1.errorbar(numpy.nanmean(times_speed_gradual, axis = 0), numpy.nanmean(errors_speed_gradual, axis = 0), xerr=stat.sem(times_speed_gradual, axis = 0), yerr=numpy.nanstd(errors_speed_gradual, axis = 0)/numpy.sqrt(len(errors_speed_gradual)), label = \"speed_gradual\")\n",
    "ax1.errorbar(numpy.nanmean(times_speed_sudden, axis = 0), numpy.nanmean(errors_speed_sudden, axis = 0), xerr=stat.sem(times_speed_sudden, axis = 0), yerr=numpy.nanstd(errors_speed_sudden, axis = 0)/numpy.sqrt(len(errors_speed_sudden)), label = \"speed_sudden\")\n",
    "ax1.errorbar(numpy.nanmean(times_accuracy_gradual, axis = 0), numpy.nanmean(errors_accuracy_gradual, axis = 0), xerr=stat.sem(times_accuracy_gradual, axis = 0), yerr=numpy.nanstd(errors_accuracy_gradual, axis = 0)/numpy.sqrt(len(errors_accuracy_gradual)), label = \"accuracy_gradual\")\n",
    "ax1.errorbar(numpy.nanmean(times_accuracy_sudden, axis = 0), numpy.nanmean(errors_accuracy_sudden, axis = 0), xerr=stat.sem(times_accuracy_sudden, axis = 0), yerr=numpy.nanstd(errors_accuracy_sudden, axis = 0)/numpy.sqrt(len(errors_accuracy_sudden)), label = \"accuracy_sudden\")\n",
    "ax1.legend()\n",
    "plt.xlabel('Mean time point in quintile')\n",
    "plt.ylabel('Error')\n"
   ]
  },
  {
   "cell_type": "markdown",
   "metadata": {},
   "source": [
    "# Time Bar plots"
   ]
  },
  {
   "cell_type": "code",
   "execution_count": null,
   "metadata": {},
   "outputs": [],
   "source": [
    "pos = [0, 1, 2, 3]\n",
    "handles = plt.bar(pos, [numpy.median(times_speed_gradual), numpy.median(times_accuracy_gradual), numpy.median(times_speed_sudden), numpy.median(times_accuracy_sudden)], yerr = [numpy.mean(stat.sem(times_speed_gradual)), numpy.mean(stat.sem(times_accuracy_gradual)), numpy.mean(stat.sem(times_speed_sudden)), numpy.mean(stat.sem(times_accuracy_sudden))], color = ['Blue', 'Green', 'Blue', 'Green'], capsize = 3)\n",
    "plt.xticks([0.5, 2.5], ['Gradual', 'Sudden'])\n",
    "plt.ylabel('Times')\n",
    "plt.xlabel('Condition')\n",
    "\n",
    "plt.legend([handles[0], handles[1]], ['Speed', 'Accuracy'])\n",
    "#handles[0]"
   ]
  },
  {
   "cell_type": "code",
   "execution_count": null,
   "metadata": {},
   "outputs": [],
   "source": [
    "numpy.ravel(times_accuracy_gradual)"
   ]
  },
  {
   "cell_type": "code",
   "execution_count": null,
   "metadata": {},
   "outputs": [],
   "source": [
    "pos = [1, 2]\n",
    "yerr = [numpy.mean(stat.sem(numpy.concatenate((times_speed_gradual, times_accuracy_gradual)))), numpy.mean(stat.sem(numpy.concatenate((times_speed_sudden, times_accuracy_sudden))))]\n",
    "plt.bar(pos, [numpy.mean(numpy.concatenate((times_speed_gradual, times_accuracy_gradual))), numpy.mean(numpy.concatenate((times_speed_sudden, times_accuracy_sudden)))], yerr = yerr, color = 'blue')\n",
    "plt.xticks(pos, ['Gradual', 'Sudden'])\n",
    "plt.ylabel('Times')\n",
    "plt.xlabel('Condition')\n"
   ]
  },
  {
   "cell_type": "code",
   "execution_count": null,
   "metadata": {},
   "outputs": [],
   "source": [
    "pos = [0, 1]\n",
    "yerr = [numpy.mean(stat.sem(numpy.concatenate((times_speed_gradual, times_speed_sudden)))), numpy.mean(stat.sem(numpy.concatenate((times_accuracy_gradual, times_accuracy_sudden))))]\n",
    "plt.bar(pos, [numpy.mean(numpy.concatenate((times_speed_gradual, times_speed_sudden))), numpy.mean(numpy.concatenate((times_accuracy_gradual, times_accuracy_sudden)))], yerr = yerr)\n",
    "plt.xticks(pos, ['Speed', 'Accuracy'])\n",
    "plt.ylabel('Times')\n",
    "plt.xlabel('Condition')\n"
   ]
  },
  {
   "cell_type": "markdown",
   "metadata": {},
   "source": [
    "# Error Bar plots"
   ]
  },
  {
   "cell_type": "code",
   "execution_count": null,
   "metadata": {},
   "outputs": [],
   "source": [
    "errors_accuracy_gradual"
   ]
  },
  {
   "cell_type": "code",
   "execution_count": null,
   "metadata": {},
   "outputs": [],
   "source": [
    "#path = 'C:/Users/Tejas/OneDrive/Research/Conferences and Papers/Psychonomics 2019/errors/'\n",
    "#plt.rcParams[('figure.figsize')] = [8, 6]\n",
    "pos = [0, 1, 2, 3]\n",
    "y = [numpy.nanmean(errors_accuracy_sudden),\n",
    "    numpy.nanmean(errors_speed_sudden),\n",
    "    numpy.nanmean(errors_accuracy_gradual),\n",
    "     numpy.nanmean(errors_speed_gradual)\n",
    "    ]\n",
    "y_sem = [numpy.mean(stat.sem(times_accuracy_sudden)),\n",
    "        numpy.mean(stat.sem(times_speed_sudden)),\n",
    "        numpy.mean(stat.sem(times_accuracy_gradual)),\n",
    "        numpy.mean(stat.sem(times_speed_gradual))]\n",
    "#handles = plt.bar(pos, yerr = [numpy.mean(stat.sem(times_speed_gradual)), numpy.nanmean(stat.sem(errors_accuracy_gradual)), numpy.nanmean(stat.sem(times_speed_sudden)), numpy.mean(stat.sem(times_accuracy_sudden))], color = ['Blue', 'Green', 'Blue', 'Green'])\n",
    "plt.bar(0, y[0], yerr = y_sem[0], capsize = 3, color = 'Blue', alpha = 1)\n",
    "plt.bar(2, y[1], yerr = y_sem[1], capsize = 3, color = 'Blue', alpha = 0.5)\n",
    "plt.bar(1, y[2], yerr = y_sem[2], capsize = 3, color = 'Green', alpha = 1)\n",
    "plt.bar(3, y[3], yerr = y_sem[3], capsize = 3, color = 'Green', alpha = 0.5)\n",
    "\n",
    "plt.xticks([0, 2, 1, 3], ['Sudden \\n Accuracy', 'Sudden \\n Speed', 'Gradual \\n Accuracy', 'Gradual \\nSpeed'], rotation = 'vertical')\n",
    "plt.ylabel('RMSE')\n",
    "plt.xlabel('Condition')\n",
    "#plt.legend([handles[0], handles[1]], ['Speed', 'Accuracy'])\n",
    "plt.title('Error')\n",
    "#plt.tight_layout()\n",
    "#plt.savefig(path+'transfer.png', dpi = 300)\n"
   ]
  },
  {
   "cell_type": "code",
   "execution_count": null,
   "metadata": {},
   "outputs": [],
   "source": [
    "yerr = [numpy.nanmean(stat.sem(numpy.concatenate((errors_speed_gradual, errors_speed_sudden)))), numpy.nanmean(stat.sem(numpy.concatenate((errors_accuracy_gradual, errors_accuracy_sudden))))]\n",
    "plt.bar(['Speed', 'Accuracy'], [numpy.nanmean(numpy.concatenate((errors_speed_gradual, errors_speed_sudden))), numpy.nanmean(numpy.concatenate((errors_accuracy_gradual, errors_accuracy_sudden)))], yerr = yerr)\n",
    "plt.xlabel('Emphasis')\n",
    "plt.ylabel('Error')\n",
    "print (yerr)"
   ]
  },
  {
   "cell_type": "code",
   "execution_count": null,
   "metadata": {},
   "outputs": [],
   "source": [
    "yerr = [numpy.nanmean(stat.sem(numpy.concatenate((errors_speed_gradual, errors_accuracy_gradual)))), numpy.nanmean(stat.sem(numpy.concatenate((errors_speed_sudden, errors_accuracy_sudden))))]\n",
    "plt.bar(['Gradual', 'Sudden'], [numpy.nanmean(numpy.concatenate((errors_speed_gradual, errors_accuracy_gradual))), numpy.nanmean(numpy.concatenate((errors_speed_sudden, errors_accuracy_sudden)))], yerr = yerr)\n",
    "plt.xlabel('Condition')\n",
    "plt.ylabel('Error')\n",
    "print (yerr)"
   ]
  },
  {
   "cell_type": "code",
   "execution_count": null,
   "metadata": {},
   "outputs": [],
   "source": [
    "interact(errorvstime, data = widgets.ToggleButtons(options = range(1,27)), \n",
    "                      block = widgets.IntSlider(max = 11, min = 0, value = 0, step = 1))"
   ]
  },
  {
   "cell_type": "code",
   "execution_count": null,
   "metadata": {},
   "outputs": [],
   "source": []
  },
  {
   "cell_type": "code",
   "execution_count": null,
   "metadata": {},
   "outputs": [],
   "source": []
  },
  {
   "cell_type": "code",
   "execution_count": null,
   "metadata": {},
   "outputs": [],
   "source": [
    "aesthetics = numpy.zeros((4, 3, 15))"
   ]
  },
  {
   "cell_type": "code",
   "execution_count": null,
   "metadata": {},
   "outputs": [],
   "source": [
    "aesthetics[0, 0, :] = numpy.array([9, 4, 2, 10, 9, 8, 7, 5, 7, 9, 10, 8, 9, 2, 6])\n",
    "aesthetics[0, 1, :] = numpy.array([10, 2, 1, 5, 5, 2, 4, 1, 3, 1, 9, 6, 2, 1, 4])\n",
    "aesthetics[0, 2, :] = numpy.array([10, 7, 1, 4 ,9, 4, 3, 2, 6, 1, 1, 2, 1, 1, 7])\n",
    "aesthetics[1, 0, :] = numpy.array([10, 4, 10, 10, 3, 8, 7, 10, 6, 2, 2, 10, 5, 1, 1])\n",
    "aesthetics[1, 1, :] = numpy.array([2, 2, 1, 3, 1, 3, 2, 4, 2, 1, 1, 5, 1, 1, 1])\n",
    "aesthetics[1, 2, :] = numpy.array([7, 1, 1, 8, 1, 2, 3, 2, 4, 2, 1, 5, 2, 1, 1])\n",
    "aesthetics[2, 0, :] = numpy.array([1, 1, 1, 1, 2, 2, 3, 1, 1, 1, 2, 1, 1, 1, 2])\n",
    "aesthetics[2, 1, :] = numpy.array([3, 2, 4, 4, 3, 2, 3, 5, 4, 4, 6, 3, 2, 3, 2])\n",
    "aesthetics[2, 2, :] = numpy.array([7, 3, 6, 7, 8, 5, 3, 4, 5, 9, 1, 4, 7, 4, 5])\n",
    "aesthetics[3, 0, :] = numpy.array([1, 2, 1, 1, 1, 1, 1, 1, 1, 1, 1, 2, 1, 1, 1])\n",
    "aesthetics[3, 1, :] = numpy.array([3, 1, 2, 1, 4, 3, 2, 2, 2, 1, 2, 2, 1, 2, 1 ])\n",
    "aesthetics[3, 2, :] = numpy.array([3, 4, 2, 2, 4, 2, 5, 4, 1, 5, 2, 6, 4, 2, 2])"
   ]
  },
  {
   "cell_type": "code",
   "execution_count": null,
   "metadata": {},
   "outputs": [],
   "source": [
    "plt.bar(range(1, 11), numpy.bincount(aesthetics[0, 0, :]))"
   ]
  },
  {
   "cell_type": "code",
   "execution_count": null,
   "metadata": {},
   "outputs": [],
   "source": [
    "from collections import Counter"
   ]
  },
  {
   "cell_type": "code",
   "execution_count": null,
   "metadata": {},
   "outputs": [],
   "source": [
    "recounted = Counter(aesthetics[0, 0, :])"
   ]
  },
  {
   "cell_type": "code",
   "execution_count": null,
   "metadata": {},
   "outputs": [],
   "source": [
    "numpy.histogram(aesthetics)"
   ]
  },
  {
   "cell_type": "code",
   "execution_count": null,
   "metadata": {},
   "outputs": [],
   "source": []
  },
  {
   "cell_type": "code",
   "execution_count": null,
   "metadata": {},
   "outputs": [],
   "source": [
    "for i in range(4):\n",
    "    for j in range(3):\n",
    "        plt.hist(aesthetics[i, j, :])"
   ]
  },
  {
   "cell_type": "code",
   "execution_count": null,
   "metadata": {},
   "outputs": [],
   "source": []
  },
  {
   "cell_type": "code",
   "execution_count": null,
   "metadata": {},
   "outputs": [],
   "source": []
  },
  {
   "cell_type": "code",
   "execution_count": null,
   "metadata": {},
   "outputs": [],
   "source": []
  },
  {
   "cell_type": "code",
   "execution_count": null,
   "metadata": {},
   "outputs": [],
   "source": []
  },
  {
   "cell_type": "code",
   "execution_count": null,
   "metadata": {},
   "outputs": [],
   "source": []
  },
  {
   "cell_type": "code",
   "execution_count": null,
   "metadata": {},
   "outputs": [],
   "source": []
  },
  {
   "cell_type": "code",
   "execution_count": null,
   "metadata": {},
   "outputs": [],
   "source": []
  },
  {
   "cell_type": "code",
   "execution_count": null,
   "metadata": {},
   "outputs": [],
   "source": []
  },
  {
   "cell_type": "code",
   "execution_count": null,
   "metadata": {},
   "outputs": [],
   "source": []
  },
  {
   "cell_type": "code",
   "execution_count": null,
   "metadata": {},
   "outputs": [],
   "source": []
  },
  {
   "cell_type": "code",
   "execution_count": null,
   "metadata": {},
   "outputs": [],
   "source": []
  },
  {
   "cell_type": "code",
   "execution_count": null,
   "metadata": {},
   "outputs": [],
   "source": []
  },
  {
   "cell_type": "code",
   "execution_count": null,
   "metadata": {},
   "outputs": [],
   "source": []
  },
  {
   "cell_type": "code",
   "execution_count": null,
   "metadata": {},
   "outputs": [],
   "source": []
  },
  {
   "cell_type": "markdown",
   "metadata": {},
   "source": [
    "Boundary is how good my plan is. Boundary affected by speed/accuracy.\n",
    "\n",
    "Drift rate affected by gradual vs sudden."
   ]
  },
  {
   "cell_type": "code",
   "execution_count": null,
   "metadata": {},
   "outputs": [],
   "source": [
    "def errors(data, block):\n",
    "    traj = scipy.io.loadmat('data/data{data}/actual_trajectories/trajectories{block}.mat'.format(block=str(block), data=str(data)))\n",
    "    ideal_traj = scipy.io.loadmat('data/data{data}/ideal_trajectories/trajectories{block}.mat'.format(block = str(block), data=str(data)))\n",
    "    #print (traj)\n",
    "    #squares = scipy.io.loadmat('data/participants/data{data}/squares/coordinates/squares{block}.mat'.format(block=str(block), data=str(data)))\n",
    "    #xdiff = (ideal_traj['idealXs'] - traj['x'])\n",
    "    #ydiff = (ideal_traj['idealYs'] - traj['y'])\n",
    "    error = calc_error(traj)\n",
    "    return numpy.array(error)"
   ]
  },
  {
   "cell_type": "code",
   "execution_count": null,
   "metadata": {},
   "outputs": [],
   "source": [
    "temp = errors(1000, 1)"
   ]
  },
  {
   "cell_type": "code",
   "execution_count": null,
   "metadata": {},
   "outputs": [],
   "source": [
    "plt.hist(temp[0][])"
   ]
  },
  {
   "cell_type": "code",
   "execution_count": null,
   "metadata": {},
   "outputs": [],
   "source": [
    "def all_errors(num_participants, num_blocks, num_trajectories):\n",
    "    error_sum = numpy.zeros((num_participants, num_blocks, num_trajectories))\n",
    "    error_std = numpy.zeros((num_participants, num_blocks, num_trajectories))\n",
    "    for participant in range(num_participants):\n",
    "        for block in range(num_blocks):\n",
    "            temp = errors(participant+1000, block)\n",
    "            for trial in range(num_trajectories):\n",
    "                error_sum[participant, block, trial] = numpy.nanmean(temp[trial])\n",
    "                error_std[participant, block, trial] = stat.sem(temp[trial])\n",
    "        print (participant)\n",
    "            #error_sum1.append(numpy.mean(numpy.sum(errors(1, block), axis=0)))\n",
    "            #error_std1.append(numpy.std(numpy.sum(errors(1, block), axis=0)))\n",
    "            #error_sum2.append(numpy.mean(numpy.sum(errors(2, block), axis=0)))\n",
    "            #error_std2.append(numpy.std(numpy.sum(errors(2, block), axis=0)))\n",
    "            #error_sum3.append(numpy.mean(numpy.sum(errors(3, block), axis=0)))\n",
    "            #error_std3.append(numpy.std(numpy.sum(errors(3, block), axis=0)))    \n",
    "    return error_sum, error_std"
   ]
  },
  {
   "cell_type": "code",
   "execution_count": null,
   "metadata": {},
   "outputs": [],
   "source": [
    "error_sum, error_std = all_errors(60, 12, 64)"
   ]
  },
  {
   "cell_type": "code",
   "execution_count": null,
   "metadata": {},
   "outputs": [],
   "source": []
  },
  {
   "cell_type": "code",
   "execution_count": null,
   "metadata": {},
   "outputs": [],
   "source": []
  },
  {
   "cell_type": "code",
   "execution_count": null,
   "metadata": {},
   "outputs": [],
   "source": []
  },
  {
   "cell_type": "code",
   "execution_count": null,
   "metadata": {},
   "outputs": [],
   "source": []
  },
  {
   "cell_type": "code",
   "execution_count": null,
   "metadata": {},
   "outputs": [],
   "source": []
  },
  {
   "cell_type": "code",
   "execution_count": null,
   "metadata": {},
   "outputs": [],
   "source": []
  },
  {
   "cell_type": "code",
   "execution_count": null,
   "metadata": {},
   "outputs": [],
   "source": [
    "plt.plot(numpy.mean((error_sum[1:-1:2]), axis = 0), 'k-')\n",
    "plt.plot(numpy.mean((error_sum[2:-1:2]), axis = 0), 'k-')\n",
    "\n",
    "plot1 = plt.fill_between(range(12), numpy.mean(error_sum[1:-1:2], axis = 0) + stat.sem(error_sum[1:-1:2]), numpy.mean(error_sum[1:-1:2], axis = 0) - stat.sem(error_sum[1:-1:2]), alpha = 0.5)\n",
    "plot2 = plt.fill_between(range(12), numpy.mean(error_sum[2:-1:2], axis = 0) + stat.sem(error_sum[2:-1:2]), numpy.mean(error_sum[2:-1:2], axis = 0) - stat.sem(error_sum[2:-1:2]), alpha = 0.5)\n",
    "plt.legend((plot1, plot2), (\"Accuracy\", \"Speed\"))\n",
    "#error_sum[3]\n",
    "#error_sum1\n",
    "plt.xlabel('Block')\n",
    "plt.ylabel('Error')"
   ]
  },
  {
   "cell_type": "code",
   "execution_count": null,
   "metadata": {},
   "outputs": [],
   "source": []
  },
  {
   "cell_type": "code",
   "execution_count": null,
   "metadata": {},
   "outputs": [],
   "source": [
    "def plot_error_means(errors, path):\n",
    "    #plt.rcParams[('figure.figsize')] = [8, 6]\n",
    "\n",
    "    mean_errors = numpy.mean(error_sum, axis =2)\n",
    "    plt.errorbar(range(1, 11), numpy.mean(numpy.mean(error_sum, axis = 2)[3::4], axis = 0)[1:-1], yerr = stat.sem(numpy.mean(error_sum, axis = 2)[1::4], axis = 0)[1:-1], capsize=3, color = [0, 0, 0])\n",
    "    #plt.errorbar(0, numpy.mean(numpy.mean(error_sum, axis = 2)[3::4], axis = 0)[0], yerr = stat.sem(numpy.mean(error_sum, axis = 2)[3::4], axis = 0)[0], capsize=3, fmt = 's')\n",
    "    plt.errorbar(11, numpy.mean(numpy.mean(error_sum, axis = 2)[3::4], axis = 0)[11], yerr = stat.sem(numpy.mean(error_sum, axis = 2)[3::4], axis = 0)[11], capsize=3, fmt = 'd', fillstyle = 'none', markersize = 10, color = [0.5, 0.5, 0.5])\n",
    "    #plt.text(x=5, y = 80, s = '14 Participants')\n",
    "    plt.ylabel('RMSE')\n",
    "    plt.xlabel('Block')\n",
    "    plt.title('Gradual Accuracy')\n",
    "    plt.xticks(range(12), ['1', '2', '3', '4', '5', '6', '7', '8', '9', '10', '11'])\n",
    "\n",
    "    #y_lim_max = numpy.max((mean_errors)) + 5\n",
    "    y_lim_max = 100\n",
    "    plt.ylim((0, y_lim_max))\n",
    "#    print(max(np.mean(quantiles[3::4][:, :, 3], axis = 0)[1:-1]) + 0.7)\n",
    "    #plt.tight_layout()\n",
    "    #plt.savefig(path+'learning_GA.png', dpi = 600)\n",
    "    plt.show()\n",
    "\n",
    "    plt.errorbar(range(1, 11), numpy.mean(numpy.mean(error_sum, axis = 2)[2::4], axis = 0)[1:-1], yerr = stat.sem(numpy.mean(error_sum, axis = 2)[2::4], axis = 0)[1:-1], capsize=3, color = [0, 0, 0])\n",
    "    #plt.errorbar(0, numpy.mean(numpy.mean(error_sum, axis = 2)[2::4], axis = 0)[0], yerr = stat.sem(numpy.mean(error_sum, axis = 2)[2::4], axis = 0)[0], capsize=3, fmt = 's')\n",
    "    plt.errorbar(11, numpy.mean(numpy.mean(error_sum, axis = 2)[2::4], axis = 0)[11], yerr = stat.sem(numpy.mean(error_sum, axis = 2)[2::4], axis = 0)[11], capsize=3, fmt = 'd', fillstyle = 'full', markersize = 10, color = [0.5, 0.5, 0.5])\n",
    "    #plt.text(x=5, y = 80, s = '15 Participants')\n",
    "    plt.ylabel('RMSE')\n",
    "    plt.xlabel('Block')\n",
    "    plt.xticks(range(12), ['1', '2', '3', '4', '5', '6', '7', '8', '9', '10', '11'])\n",
    "    plt.title('Gradual Speed')\n",
    "    plt.ylim(2, y_lim_max)\n",
    "    #plt.tight_layout()\n",
    "    #plt.savefig(path+'learning_GS.png', dpi = 600)\n",
    "    plt.show()\n",
    "    #y_lim_max = 2200\n",
    "\n",
    "    plt.errorbar(range(1, 11), numpy.mean(numpy.mean(error_sum, axis = 2)[1::4], axis = 0)[1:-1], yerr = stat.sem(numpy.mean(error_sum, axis = 2)[1::4], axis = 0)[1:-1], capsize=3, color = [0, 0, 0])\n",
    "    #plt.errorbar(0, numpy.mean(numpy.mean(error_sum, axis = 2)[1::4], axis = 0)[0], yerr = stat.sem(numpy.mean(error_sum, axis = 2)[1::4], axis = 0)[0], capsize=3, fmt = 's')\n",
    "    plt.errorbar(11, numpy.mean(numpy.mean(error_sum, axis = 2)[1::4], axis = 0)[11], yerr = stat.sem(numpy.mean(error_sum, axis = 2)[1::4], axis = 0)[11], capsize=3, fmt = 's', fillstyle = 'none', markersize = 10, color = [0.5, 0.5, 0.5])\n",
    "    #plt.text(x=5, y = 80, s = '15 Participants')\n",
    "    plt.ylabel('RMSE')\n",
    "    plt.xlabel('Block')\n",
    "    plt.xticks(range(12), ['1', '2', '3', '4', '5', '6', '7', '8', '9', '10', '11'])\n",
    "    plt.title('Sudden Accuracy')\n",
    "    #y_lim_max = 10000\n",
    "\n",
    "    plt.ylim(2, y_lim_max)\n",
    "    #plt.tight_layout()\n",
    "    #plt.savefig(path+'learning_SA.png', dpi = 600)\n",
    "    plt.show()\n",
    "\n",
    "    plt.errorbar(range(1, 11), numpy.mean(numpy.mean(error_sum, axis = 2)[4::4], axis = 0)[1:-1], yerr = stat.sem(numpy.mean(error_sum, axis = 2)[4::4], axis = 0)[1:-1], capsize=3, color = [0, 0, 0])\n",
    "    #plt.errorbar(0, numpy.mean(numpy.mean(error_sum, axis = 2)[4::4], axis = 0)[0], yerr = stat.sem(numpy.mean(error_sum, axis = 2)[4::4], axis = 0)[0], capsize=3, fmt = 's')\n",
    "    plt.errorbar(11, numpy.mean(numpy.mean(error_sum, axis = 2)[4::4], axis = 0)[11], yerr = stat.sem(numpy.mean(error_sum, axis = 2)[4::4], axis = 0)[11], capsize=3, fmt = 's', fillstyle = 'full', markersize = 10, color = [0.5, 0.5, 0.5])\n",
    "    #plt.text(x=5, y = 80, s = '14 Participants')\n",
    "    plt.xticks(range(12), ['1', '2', '3', '4', '5', '6', '7', '8', '9', '10', '11'])\n",
    "    plt.ylabel('RMSE')\n",
    "    plt.xlabel('Block')\n",
    "    plt.title('Sudden Speed')\n",
    "#    y_lim_max = 2600\n",
    "    plt.ylim(2, y_lim_max)\n",
    "    #plt.tight_layout()\n",
    "    #plt.savefig(path+'learning_SS.png', dpi = 600)\n",
    "    plt.show()\n"
   ]
  },
  {
   "cell_type": "code",
   "execution_count": null,
   "metadata": {},
   "outputs": [],
   "source": [
    "plot_error_means(error_sum, \"C:/Users/Tejas/OneDrive/Research/Conferences and Papers/Psychonomics 2019/errors/\")"
   ]
  },
  {
   "cell_type": "code",
   "execution_count": null,
   "metadata": {},
   "outputs": [],
   "source": [
    "#numpy.mean(numpy.mean(error_sum[1::4], axis = 2), axis = 0)\n",
    "#stat.sem(numpy.mean(error_sum[1::4], axis = 2), axis = 0)\n",
    "def plot_error_means_transfer(errors, text):\n",
    "#    quantiles = get_quantile(total_times)\n",
    "    xpos = [0, 1, 2, 3, 4]\n",
    "    y = numpy.array([numpy.mean(numpy.median(error_sum[1::4], axis = 2), axis = 0)[11],\n",
    "                  numpy.mean(numpy.mean(error_sum[0::4], axis = 2), axis = 0)[11],\n",
    "                  numpy.mean(numpy.mean(error_sum[3::4], axis = 2), axis = 0)[11],\n",
    "                  numpy.mean(numpy.mean(error_sum[2::4], axis = 2), axis = 0)[11]] \n",
    "                  )\n",
    "    y_sem = numpy.array([stat.sem(numpy.mean(error_sum[1::4], axis = 2), axis = 0)[11], \n",
    "                    stat.sem(numpy.mean(error_sum[0::4], axis = 2), axis = 0)[11],\n",
    "                    stat.sem(numpy.mean(error_sum[3::4], axis = 2), axis = 0)[11],\n",
    "                    stat.sem(numpy.mean(error_sum[2::4], axis = 2), axis = 0)[11]])\n",
    "    #print (y_sem[0])\n",
    "    plt.bar(0, y[0], yerr = y_sem[0], capsize = 3, fill = False)\n",
    "    plt.bar(1, y[1], yerr = y_sem[1], capsize = 3, color = [0.5, 0.5, 0.5])\n",
    "    plt.bar(2, y[2], yerr = y_sem[2], capsize = 3, hatch = '\\\\', fill = False)\n",
    "    plt.bar(3, y[3], yerr = y_sem[3], capsize = 3, color = [0.5, 0.5, 0.5], hatch = '\\\\')\n",
    "\n",
    "#    handles = plt.bar(range(4), y, yerr = y_sem, capsize = 3, color = ['Blue', 'Green', 'Blue', 'Green'], alpha = [1, 0.5, 0.5, 1])\n",
    "    plt.xticks([0, 1, 2, 3], ['Sudden \\n Accuracy', 'Sudden \\n Speed', 'Gradual \\n Accuracy', 'Gradual \\nSpeed'], rotation = 'vertical')\n",
    "    plt.ylabel('Error (RMSE)')\n",
    "    plt.xlabel('Condition')\n",
    "    #plt.legend([handles[0], handles[1]], ['Speed', 'Accuracy'])\n",
    "    plt.ylim((0, 45))\n",
    "    plt.title(text)\n",
    "    \n",
    "\n",
    "#numpy.shape(numpy.mean(error_sum[1::4], axis = 0))"
   ]
  },
  {
   "cell_type": "code",
   "execution_count": null,
   "metadata": {},
   "outputs": [],
   "source": [
    "plot_error_means_transfer(error_sum, 'Errors')"
   ]
  },
  {
   "cell_type": "code",
   "execution_count": null,
   "metadata": {},
   "outputs": [],
   "source": [
    "data = 10\n",
    "block = 10\n",
    "num_trials = 2\n",
    "traj = scipy.io.loadmat('data/data{data}/actual_trajectories/trajectories{block}.mat'.format(block=str(block), data=str(data+1000)))\n",
    "for trial in range(num_trials):\n",
    "    trajx, trajy = traj['x'][0][trial][0], traj['y'][0][trial][0]\n",
    "    diffx, diffy = trajx[1:] - trajx[:-1], trajy[1:] - trajy[:-1]\n",
    "    #print (diffx, diffy)"
   ]
  },
  {
   "cell_type": "code",
   "execution_count": null,
   "metadata": {},
   "outputs": [],
   "source": [
    "plt.scatter(trajx, trajy)\n",
    "numpy.sum(numpy.sqrt((numpy.square(diffx, dtype = float) + numpy.square(diffy, dtype = float))))"
   ]
  },
  {
   "cell_type": "code",
   "execution_count": null,
   "metadata": {},
   "outputs": [],
   "source": [
    "#Calculate the actual distance travelled in a trajectory.\n",
    "def calc_dist_travelled(num_data, num_block, num_trials):\n",
    "    dist = numpy.zeros((num_data, num_block, num_trials))\n",
    "    for data in range(num_data):\n",
    "        for block in range(num_block):\n",
    "            traj = scipy.io.loadmat('data/data{data}/actual_trajectories/trajectories{block}.mat'.format(block=str(block), data=str(data+1000)))\n",
    "            for trial in range(num_trials):\n",
    "                trajx, trajy = traj['x'][0][trial][0], traj['y'][0][trial][0]\n",
    "                diffx, diffy = trajx[1:] - trajx[:-1], trajy[1:] - trajy[:-1]\n",
    "                #print (diffx, diffy)\n",
    "                dist[data][block][trial] = numpy.sum(numpy.sqrt((numpy.square(diffx, dtype = float) + numpy.square(diffy, dtype = float))))\n",
    "    return dist"
   ]
  },
  {
   "cell_type": "code",
   "execution_count": null,
   "metadata": {},
   "outputs": [],
   "source": [
    "dist = calc_dist_travelled(60, 12, 32)"
   ]
  },
  {
   "cell_type": "code",
   "execution_count": null,
   "metadata": {},
   "outputs": [],
   "source": [
    "def plot_dist_means(distances, path):\n",
    "    #plt.rcParams[('figure.figsize')] = [8, 6]\n",
    "\n",
    "    mean_errors = numpy.mean(distances, axis =2)\n",
    "    plt.errorbar(range(1, 11), numpy.mean(numpy.nanmedian(distances, axis = 2)[3::4], axis = 0)[1:-1], yerr = stat.sem(numpy.nanmedian(distances, axis = 2)[3::4], axis = 0)[1:-1], capsize=3)\n",
    "    #plt.errorbar(0, numpy.mean(numpy.median(distances, axis = 2)[3::4], axis = 0)[0], yerr = stat.sem(numpy.median(distances, axis = 2)[3::4], axis = 0)[0], capsize=3, fmt = 's')\n",
    "    plt.errorbar(11, numpy.mean(numpy.nanmedian(distances, axis = 2)[3::4], axis = 0)[11], yerr = stat.sem(numpy.nanmedian(distances, axis = 2)[3::4], axis = 0)[11], capsize=3, fmt = 's')\n",
    "    #plt.text(x=5, y = 80, s = '14 Participants')\n",
    "    plt.ylabel('RMSE')\n",
    "    plt.xlabel('Block')\n",
    "    plt.title('Gradual Accuracy')\n",
    "    plt.xticks(range(12), ['0', '1', '2', '3', '4', '5', '6', '7', '8', '9', '10', '11'])\n",
    "\n",
    "    #y_lim_max = numpy.max((mean_errors)) + 5\n",
    "    #y_lim_max = 500000\n",
    "    #plt.ylim((0, y_lim_max))\n",
    "#    print(max(np.mean(quantiles[3::4][:, :, 3], axis = 0)[1:-1]) + 0.7)\n",
    "    #plt.tight_layout()\n",
    "    #plt.savefig(path+'learning_GA.png', dpi = 600)\n",
    "    plt.show()\n",
    "\n",
    "    plt.errorbar(range(1, 11), numpy.mean(numpy.nanmedian(distances, axis = 2)[2::4], axis = 0)[1:-1], yerr = stat.sem(numpy.nanmedian(distances, axis = 2)[2::4], axis = 0)[1:-1], capsize=3)\n",
    "    #plt.errorbar(0, numpy.mean(numpy.median(distances, axis = 2)[2::4], axis = 0)[0], yerr = stat.sem(numpy.median(distances, axis = 2)[2::4], axis = 0)[0], capsize=3, fmt = 's')\n",
    "    plt.errorbar(11, numpy.mean(numpy.nanmedian(distances, axis = 2)[2::4], axis = 0)[11], yerr = stat.sem(numpy.nanmedian(distances, axis = 2)[2::4], axis = 0)[11], capsize=3, fmt = 's')\n",
    "    #plt.text(x=5, y = 80, s = '15 Participants')\n",
    "    plt.ylabel('RMSE')\n",
    "    plt.xlabel('Block')\n",
    "    plt.xticks(range(12), ['0', '1', '2', '3', '4', '5', '6', '7', '8', '9', '10', '11'])\n",
    "    plt.title('Gradual Speed')\n",
    "    #plt.ylim(-1, y_lim_max)\n",
    "    #plt.tight_layout()\n",
    "    #plt.savefig(path+'learning_GS.png', dpi = 600)\n",
    "    plt.show()\n",
    "    #y_lim_max = 2200\n",
    "\n",
    "    plt.errorbar(range(1, 11), numpy.mean(numpy.nanmedian(distances, axis = 2)[1::4], axis = 0)[1:-1], yerr = stat.sem(numpy.nanmedian(distances, axis = 2)[1::4], axis = 0)[1:-1], capsize=3)\n",
    "    #plt.errorbar(0, numpy.mean(numpy.mean(distances, axis = 2)[1::4], axis = 0)[0], yerr = stat.sem(numpy.mean(distances, axis = 2)[1::4], axis = 0)[0], capsize=3, fmt = 's')\n",
    "    plt.errorbar(11, numpy.mean(numpy.nanmedian(distances, axis = 2)[1::4], axis = 0)[11], yerr = stat.sem(numpy.nanmedian(distances, axis = 2)[1::4], axis = 0)[11], capsize=3, fmt = 's')\n",
    "    #plt.text(x=5, y = 80, s = '15 Participants')\n",
    "    plt.ylabel('RMSE')\n",
    "    plt.xlabel('Block')\n",
    "    plt.xticks(range(12), ['0', '1', '2', '3', '4', '5', '6', '7', '8', '9', '10', '11'])\n",
    "    plt.title('Sudden Accuracy')\n",
    "    #y_lim_max = 10000\n",
    "\n",
    "    #plt.ylim(2, y_lim_max)\n",
    "    #plt.tight_layout()\n",
    "    #plt.savefig(path+'learning_SA.png', dpi = 600)\n",
    "    plt.show()\n",
    "\n",
    "    plt.errorbar(range(1, 11), numpy.mean(numpy.nanmedian(distances, axis = 2)[4::4], axis = 0)[1:-1], yerr = stat.sem(numpy.nanmedian(distances, axis = 2)[4::4], axis = 0)[1:-1], capsize=3)\n",
    "    #plt.errorbar(0, numpy.mean(numpy.median(distances, axis = 2)[4::4], axis = 0)[0], yerr = stat.sem(numpy.median(distances, axis = 2)[4::4], axis = 0)[0], capsize=3, fmt = 's')\n",
    "    plt.errorbar(11, numpy.mean(numpy.nanmedian(distances, axis = 2)[4::4], axis = 0)[11], yerr = stat.sem(numpy.nanmedian(distances, axis = 2)[4::4], axis = 0)[11], capsize=3, fmt = 's')\n",
    "    #plt.text(x=5, y = 80, s = '14 Participants')\n",
    "    plt.xticks(range(12), ['0', '1', '2', '3', '4', '5', '6', '7', '8', '9', '10', '11'])\n",
    "    plt.ylabel('RMSE')\n",
    "    plt.xlabel('Block')\n",
    "    plt.title('Sudden Speed')\n",
    "#    y_lim_max = 2600\n",
    "    #plt.ylim(2, y_lim_max)\n",
    "    #plt.tight_layout()\n",
    "    #plt.savefig(path+'learning_SS.png', dpi = 600)\n",
    "    plt.show()\n"
   ]
  },
  {
   "cell_type": "code",
   "execution_count": null,
   "metadata": {},
   "outputs": [],
   "source": []
  },
  {
   "cell_type": "code",
   "execution_count": null,
   "metadata": {},
   "outputs": [],
   "source": []
  },
  {
   "cell_type": "code",
   "execution_count": null,
   "metadata": {},
   "outputs": [],
   "source": [
    "#plt.plot(numpy.mean(numpy.mean(dist[0::4], axis = 2), axis = 0))\n",
    "#plt.plot(numpy.mean(numpy.mean(dist[1::4], axis = 2), axis = 0))\n",
    "#plt.plot(numpy.mean(numpy.mean(dist[2::4], axis = 2), axis = 0))\n",
    "#plt.plot(numpy.mean(numpy.mean(dist[3::4], axis = 2), axis = 0))\n",
    "plot_dist_means(dist, '')"
   ]
  },
  {
   "cell_type": "code",
   "execution_count": null,
   "metadata": {},
   "outputs": [],
   "source": [
    "#numpy.mean(numpy.mean(error_sum[1::4], axis = 2), axis = 0)\n",
    "#stat.sem(numpy.mean(error_sum[1::4], axis = 2), axis = 0)\n",
    "def plot_dist_means_transfer(distances, text):\n",
    "#    quantiles = get_quantile(total_times)\n",
    "    xpos = [0, 1, 2, 3, 4]\n",
    "    y = numpy.array([numpy.mean(numpy.median(distances[1::4], axis = 2), axis = 0)[11],# - numpy.mean(numpy.median(distances[1::4], axis = 2), axis = 0)[10],\n",
    "                  numpy.mean(numpy.median(distances[4::4], axis = 2), axis = 0)[11], #- numpy.mean(numpy.median(distances[4::4], axis = 2), axis = 0)[10],\n",
    "                  numpy.mean(numpy.median(distances[3::4], axis = 2), axis = 0)[11], #- numpy.mean(numpy.median(distances[3::4], axis = 2), axis = 0)[10],\n",
    "                  numpy.mean(numpy.median(distances[2::4], axis = 2), axis = 0)[11]] #- numpy.mean(numpy.median(distances[2::4], axis = 2), axis = 0)[10]] \n",
    "                  )\n",
    "    y_sem = numpy.array([stat.sem(numpy.median(distances[1::4], axis = 2), axis = 0)[11], \n",
    "                    stat.sem(numpy.median(distances[4::4], axis = 2), axis = 0)[11],\n",
    "                    stat.sem(numpy.median(distances[3::4], axis = 2), axis = 0)[11],\n",
    "                    stat.sem(numpy.median(distances[2::4], axis = 2), axis = 0)[11]])\n",
    "    #print (y_sem[0])\n",
    "    #y_sem = numpy.array([0, 0, 0, 0])\n",
    "    plt.bar(0, y[0], yerr = y_sem[0], capsize = 3, color = 'Blue', alpha = 1)\n",
    "    plt.bar(2, y[1], yerr = y_sem[1], capsize = 3, color = 'Blue', alpha = 0.5)\n",
    "    plt.bar(1, y[2], yerr = y_sem[2], capsize = 3, color = 'Green', alpha = 0.5)\n",
    "    plt.bar(3, y[3], yerr = y_sem[3], capsize = 3, color = 'Green', alpha = 1)\n",
    "\n",
    "#    handles = plt.bar(range(4), y, yerr = y_sem, capsize = 3, color = ['Blue', 'Green', 'Blue', 'Green'], alpha = [1, 0.5, 0.5, 1])\n",
    "    plt.xticks([0, 2, 1, 3], ['Sudden \\n Accuracy', 'Sudden \\n Speed', 'Gradual \\n Accuracy', 'Gradual \\nSpeed'], rotation = 'vertical')\n",
    "    plt.ylabel('Error (RMSE)')\n",
    "    plt.xlabel('Condition')\n",
    "    #plt.legend([handles[0], handles[1]], ['Speed', 'Accuracy'])\n",
    "    plt.title(text)\n",
    "    \n",
    "    print (y)\n",
    "#numpy.shape(numpy.mean(error_sum[1::4], axis = 0))"
   ]
  },
  {
   "cell_type": "code",
   "execution_count": null,
   "metadata": {},
   "outputs": [],
   "source": [
    "plot_dist_means_transfer(dist, 'text')"
   ]
  },
  {
   "cell_type": "code",
   "execution_count": null,
   "metadata": {},
   "outputs": [],
   "source": [
    "numpy.array(diffx, dtype=float)**2"
   ]
  },
  {
   "cell_type": "code",
   "execution_count": null,
   "metadata": {},
   "outputs": [],
   "source": [
    "numpy.shape(dist)"
   ]
  },
  {
   "cell_type": "code",
   "execution_count": null,
   "metadata": {},
   "outputs": [],
   "source": [
    "#ybar = [error_sum[2:-1:4] - error_sum[2:-1:4][10], numpy.mean(error_sum[3:-1:4], axis = 0)[11] - numpy.mean(error_sum[3:-1:4], axis = 0)[10], numpy.mean(error_sum[4:-1:4], axis = 0)[11] - numpy.mean(error_sum[4:-1:4], axis = 0)[10], numpy.mean(error_sum[1:-1:4], axis = 0)[11] - numpy.mean(error_sum[1:-1:4], axis = 0)[10]]\n",
    "y = [error_sum[2:-1:4][:, 11] - error_sum[2:-1:4][:, 10], error_sum[3:-1:4][:, 11] - error_sum[3:-1:4][:, 10], error_sum[4:-1:4][:, 11] - error_sum[4:-1:4][:, 10], error_sum[1:-1:4][:, 11] - error_sum[1:-1:4][:, 10]]\n",
    "for i in y[3]:\n",
    "    print (i)\n"
   ]
  },
  {
   "cell_type": "code",
   "execution_count": null,
   "metadata": {},
   "outputs": [],
   "source": [
    "plt.plot(numpy.mean((error_sum[1:-1:4]), axis = 0), 'k-')\n",
    "plt.plot(numpy.mean((error_sum[2:-1:4]), axis = 0), 'k-')\n",
    "plt.plot(numpy.mean((error_sum[3:-1:4]), axis = 0), 'k-')\n",
    "plt.plot(numpy.mean((error_sum[4:-1:4]), axis = 0), 'k-')\n",
    "\n",
    "plot1 = plt.fill_between(range(12), numpy.mean(error_sum[1:-1:2], axis = 0) + stat.sem(error_sum[1:-1:2]), numpy.mean(error_sum[1:-1:2], axis = 0) - stat.sem(error_sum[1:-1:2]), alpha = 0.5)\n",
    "plot2 = plt.fill_between(range(12), numpy.mean(error_sum[2:-1:2], axis = 0) + stat.sem(error_sum[2:-1:2]), numpy.mean(error_sum[2:-1:2], axis = 0) - stat.sem(error_sum[2:-1:2]), alpha = 0.5)\n",
    "plot3 = plt.fill_between(range(12), numpy.mean(error_sum[3:-1:2], axis = 0) + stat.sem(error_sum[3:-1:2]), numpy.mean(error_sum[3:-1:2], axis = 0) - stat.sem(error_sum[3:-1:2]), alpha = 0.5)\n",
    "plot4 = plt.fill_between(range(12), numpy.mean(error_sum[4:-1:2], axis = 0) + stat.sem(error_sum[4:-1:2]), numpy.mean(error_sum[4:-1:2], axis = 0) - stat.sem(error_sum[4:-1:2]), alpha = 0.5)\n",
    "\n",
    "plt.legend((plot1, plot2, plot3, plot4), (\"AS\", \"SG\", \"AG\", \"SS\"))\n",
    "#error_sum[3]\n",
    "#error_sum1\n",
    "plt.xlabel('Block')\n",
    "plt.ylabel('Error')"
   ]
  },
  {
   "cell_type": "code",
   "execution_count": null,
   "metadata": {},
   "outputs": [],
   "source": [
    "all_errors1 = numpy.zeros((10, 64))\n",
    "all_errors2 = numpy.zeros((10, 64))\n",
    "for i in range(10):\n",
    "    errors1 = errors(1, i)\n",
    "    errors2 = errors(3, i)\n",
    "    for j in range(64):\n",
    "        all_errors1[i,j] = numpy.sum(errors1[j])\n",
    "        all_errors2[i, j] = numpy.sum(errors2[j])\n",
    "#numpy.sum(errors(1, 1))"
   ]
  },
  {
   "cell_type": "code",
   "execution_count": null,
   "metadata": {},
   "outputs": [],
   "source": []
  },
  {
   "cell_type": "code",
   "execution_count": null,
   "metadata": {},
   "outputs": [],
   "source": []
  },
  {
   "cell_type": "code",
   "execution_count": null,
   "metadata": {},
   "outputs": [],
   "source": [
    "lm.predict(11)\n"
   ]
  },
  {
   "cell_type": "code",
   "execution_count": null,
   "metadata": {},
   "outputs": [],
   "source": [
    "error_sum[11]"
   ]
  },
  {
   "cell_type": "code",
   "execution_count": null,
   "metadata": {},
   "outputs": [],
   "source": []
  },
  {
   "cell_type": "code",
   "execution_count": null,
   "metadata": {},
   "outputs": [],
   "source": [
    "trial_errors = list()\n",
    "for i in range(12):\n",
    "    block_error = errors(1, i)\n",
    "    for j in range(64):\n",
    "        trial_errors.append(numpy.mean(block_error[j]))"
   ]
  },
  {
   "cell_type": "code",
   "execution_count": null,
   "metadata": {},
   "outputs": [],
   "source": [
    "plt.plot(trial_errors)"
   ]
  },
  {
   "cell_type": "code",
   "execution_count": null,
   "metadata": {},
   "outputs": [],
   "source": [
    "trial_errors = list()\n",
    "for i in range(12):\n",
    "    block_error = errors(2, i)\n",
    "    for j in range(64):\n",
    "        trial_errors.append(numpy.mean(block_error[j]))"
   ]
  },
  {
   "cell_type": "code",
   "execution_count": null,
   "metadata": {},
   "outputs": [],
   "source": [
    "ax = plt.axes()\n",
    "ax.plot(trial_errors)"
   ]
  },
  {
   "cell_type": "markdown",
   "metadata": {},
   "source": [
    "Error, movement time and initiation time in the same plot.\n",
    "Across groups\n",
    "Collapse movements across subjects in the group"
   ]
  },
  {
   "cell_type": "code",
   "execution_count": null,
   "metadata": {},
   "outputs": [],
   "source": [
    "def times(data, block):\n",
    "    initial_time = scipy.io.loadmat('data/participants/data{data}/initial_time/initial_time{block}.mat'.format(block=str(block), data=str(data)))\n",
    "    movement_time = scipy.io.loadmat('data/participants/data{data}/movement_time/movement_time{block}.mat'.format(block = str(block), data=str(data)))\n",
    "    #squares = scipy.io.loadmat('data/participants/data{data}/squares/coordinates/squares{block}.mat'.format(block=str(block), data=str(data)))\n",
    "    #xdiff = (ideal_traj['idealXs'] - traj['x'])\n",
    "    #ydiff = (ideal_traj['idealYs'] - traj['y'])\n",
    "    initial_time = initial_time['initial_time'][:, 0]\n",
    "    movement_time = movement_time['movement_time'][:, 0]\n",
    "    return initial_time, movement_time\n"
   ]
  },
  {
   "cell_type": "code",
   "execution_count": null,
   "metadata": {},
   "outputs": [],
   "source": [
    "initial_times = numpy.zeros((27, 12))\n",
    "movement_times = numpy.zeros((27, 12))"
   ]
  },
  {
   "cell_type": "code",
   "execution_count": null,
   "metadata": {},
   "outputs": [],
   "source": [
    "for participant in range(1,27):\n",
    "    if participant == 7:\n",
    "        continue\n",
    "    for block in range(12):\n",
    "        initial_time, movement_time = times(participant, block)\n",
    "        initial_times[participant, block] = numpy.mean(initial_time['initial_time'])\n",
    "        movement_times[participant, block] = numpy.mean(movement_time['movement_time'])"
   ]
  },
  {
   "cell_type": "code",
   "execution_count": null,
   "metadata": {
    "scrolled": true
   },
   "outputs": [],
   "source": [
    "initial_times_mean_sudden = numpy.mean(numpy.row_stack((initial_times[4:-1:4], initial_times[1:-1:4])), axis = 0)\n",
    "initial_times_sem_sudden = stat.sem(numpy.row_stack((initial_times[4:-1:4], initial_times[1:-1:4])))\n",
    "plt.plot(initial_times_mean_sudden, 'k-')\n",
    "plot1 = plt.fill_between(range(12), initial_times_mean_sudden + initial_times_sem_sudden, initial_times_mean_sudden - initial_times_sem_sudden, alpha = 0.5)\n",
    "\n",
    "\n",
    "initial_times_mean_gradual = numpy.mean(numpy.row_stack((initial_times[2:-1:4], initial_times[3:-1:4])), axis = 0)\n",
    "initial_times_sem_gradual = stat.sem(numpy.row_stack((initial_times[2:-1:4], initial_times[3:-1:4])))\n",
    "plt.plot(initial_times_mean_gradual, 'k-')\n",
    "plot2 = plt.fill_between(range(12), initial_times_mean_gradual + initial_times_sem_gradual, initial_times_mean_gradual - initial_times_sem_gradual, alpha = 0.5)\n",
    "\n",
    "plt.legend((plot1, plot2), (\"Sudden\", \"Gradual\"))\n",
    "plt.xlabel('Block')\n",
    "plt.ylabel('Initial Times')"
   ]
  },
  {
   "cell_type": "code",
   "execution_count": null,
   "metadata": {},
   "outputs": [],
   "source": [
    "initial_times_mean_speed = numpy.mean(initial_times[2:-1:2], axis = 0)\n",
    "initial_times_sem_speed = stat.sem(initial_times[2:-1:2])\n",
    "plt.plot(initial_times_mean_speed, 'k-')\n",
    "plot1 = plt.fill_between(range(12), initial_times_mean_speed + initial_times_sem_speed, initial_times_mean_speed - initial_times_sem_speed, alpha = 0.5, color = 'red')\n",
    "\n",
    "\n",
    "initial_times_mean_accuracy = numpy.mean(initial_times[1:-1:2], axis = 0)\n",
    "initial_times_sem_accuracy = stat.sem(initial_times[1:-1:2])\n",
    "plt.plot(initial_times_mean_accuracy, 'k-')\n",
    "plot2 = plt.fill_between(range(12), initial_times_mean_accuracy + initial_times_sem_accuracy, initial_times_mean_accuracy - initial_times_sem_accuracy, alpha = 0.5, color = 'green')\n",
    "\n",
    "plt.legend((plot1, plot2), (\"Speed\", \"Accuracy\"))\n",
    "plt.xlabel('Block')\n",
    "plt.ylabel('Initial Time')"
   ]
  },
  {
   "cell_type": "code",
   "execution_count": null,
   "metadata": {},
   "outputs": [],
   "source": [
    "initial_times_mean_speed_gradual = numpy.mean(initial_times[2:-1:4], axis = 0)\n",
    "initial_times_sem_speed_gradual = stat.sem(initial_times[2:-1:4])\n",
    "plt.plot(initial_times_mean_speed_gradual, 'k-')\n",
    "plot1 = plt.fill_between(range(12), initial_times_mean_speed_gradual + initial_times_sem_speed_gradual, initial_times_mean_speed_gradual - initial_times_sem_speed_gradual, alpha = 0.5)\n",
    "\n",
    "initial_times_mean_accuracy_gradual = numpy.mean(initial_times[3:-1:4], axis = 0)\n",
    "initial_times_sem_accuracy_gradual = stat.sem(initial_times[3:-1:4])\n",
    "plt.plot(initial_times_mean_accuracy_gradual, 'k-')\n",
    "plot2 = plt.fill_between(range(12), initial_times_mean_accuracy_gradual + initial_times_sem_accuracy_gradual, initial_times_mean_accuracy_gradual - initial_times_sem_accuracy_gradual, alpha = 0.5)\n",
    "\n",
    "initial_times_mean_speed_sudden = numpy.mean(initial_times[4:-1:4], axis = 0)\n",
    "initial_times_sem_speed_sudden = stat.sem(initial_times[4:-1:4])\n",
    "plt.plot(initial_times_mean_speed_sudden, 'k-')\n",
    "plot3 = plt.fill_between(range(12), initial_times_mean_speed_sudden + initial_times_sem_speed_sudden, initial_times_mean_speed_sudden - initial_times_sem_speed_sudden, alpha = 0.5)\n",
    "\n",
    "initial_times_mean_accuracy_sudden = numpy.mean(initial_times[1:-1:4], axis = 0)\n",
    "initial_times_sem_accuracy_sudden = stat.sem(initial_times[1:-1:4])\n",
    "plt.plot(initial_times_mean_accuracy_sudden, 'k-')\n",
    "plot4 = plt.fill_between(range(12), initial_times_mean_accuracy_sudden + initial_times_sem_accuracy_sudden, initial_times_mean_accuracy_sudden - initial_times_sem_accuracy_sudden, alpha = 0.5)\n",
    "\n",
    "\n",
    "plt.legend((plot1, plot2, plot3, plot4), (\"SG\", \"AG\", \"SS\", \"AS\"))\n",
    "plt.xlabel('Block')\n",
    "plt.ylabel('Initial Time')"
   ]
  },
  {
   "cell_type": "code",
   "execution_count": null,
   "metadata": {},
   "outputs": [],
   "source": [
    "plt.bar(range(4), [initial_times_mean_accuracy_gradual[11] - initial_times_mean_accuracy_gradual[10], initial_times_mean_accuracy_sudden[11] - initial_times_mean_accuracy_sudden[10], initial_times_mean_speed_gradual[11] - initial_times_mean_speed_gradual[10], initial_times_mean_speed_sudden[11] - initial_times_mean_speed_sudden[10]])"
   ]
  },
  {
   "cell_type": "code",
   "execution_count": null,
   "metadata": {},
   "outputs": [],
   "source": [
    "ybar = [numpy.mean(initial_times[1:-1:2][11] - initial_times[1:-1:2][10]), numpy.mean(initial_times[2:-1:2][11] - initial_times[2:-1:2][10])]\n",
    "yerr = [stat.sem(initial_times[1:-1:2][11] - initial_times[1:-1:2][10]), stat.sem(initial_times[2:-1:2][11] - initial_times[2:-1:2][10])]\n",
    "plt.bar(range(2), ybar, yerr = yerr)"
   ]
  },
  {
   "cell_type": "code",
   "execution_count": null,
   "metadata": {},
   "outputs": [],
   "source": [
    "#numpy.mean(initial_times[1:-1:2][11])\n",
    "#initial_times_mean_accuracy[11]\n",
    "initial_times_mean_accuracy\n",
    "initial_times[1:-1:2][11]\n",
    "numpy.mean(initial_times[1:-1:2], axis = 0)"
   ]
  },
  {
   "cell_type": "code",
   "execution_count": null,
   "metadata": {},
   "outputs": [],
   "source": [
    "plt.bar(range(2), [movement_times_mean_sudden[11] - movement_times_mean_sudden[10], movement_times_mean_gradual[11] - movement_times_mean_gradual[10]])"
   ]
  },
  {
   "cell_type": "code",
   "execution_count": null,
   "metadata": {},
   "outputs": [],
   "source": [
    "movement_times_mean_sudden = numpy.mean(numpy.row_stack((movement_times[4:-1:4], movement_times[1:-1:4])), axis = 0)\n",
    "movement_times_sem_sudden = stat.sem(numpy.row_stack((movement_times[4:-1:4], movement_times[1:-1:4])))\n",
    "plt.plot(movement_times_mean_sudden, 'k-')\n",
    "plot1 = plt.fill_between(range(12), movement_times_mean_sudden + movement_times_sem_sudden, movement_times_mean_sudden - movement_times_sem_sudden, alpha = 0.5)\n",
    "\n",
    "\n",
    "movement_times_mean_gradual = numpy.mean(numpy.row_stack((movement_times[2:-1:4], movement_times[3:-1:4])), axis = 0)\n",
    "movement_times_sem_gradual = stat.sem(numpy.row_stack((movement_times[2:-1:4], movement_times[3:-1:4])))\n",
    "plt.plot(movement_times_mean_gradual, 'k-')\n",
    "plot2 = plt.fill_between(range(12), movement_times_mean_gradual + movement_times_sem_gradual, movement_times_mean_gradual - movement_times_sem_gradual, alpha = 0.5)\n",
    "\n",
    "plt.legend((plot1, plot2), (\"Sudden\", \"Gradual\"))\n",
    "plt.xlabel('Block')\n",
    "plt.ylabel('Movement Times')"
   ]
  },
  {
   "cell_type": "code",
   "execution_count": null,
   "metadata": {},
   "outputs": [],
   "source": [
    "movement_times_mean_speed = numpy.mean(movement_times[2:-1:2], axis = 0)\n",
    "movement_times_sem_speed = stat.sem(movement_times[2:-1:2])\n",
    "plt.plot(movement_times_mean_speed, 'k-')\n",
    "plot1 = plt.fill_between(range(12), movement_times_mean_speed + movement_times_sem_speed, movement_times_mean_speed - movement_times_sem_speed, alpha = 0.5, color = 'red')\n",
    "\n",
    "\n",
    "movement_times_mean_accuracy = numpy.mean(movement_times[1:-1:2], axis = 0)\n",
    "movement_times_sem_accuracy = stat.sem(movement_times[1:-1:2])\n",
    "plt.plot(movement_times_mean_accuracy, 'k-')\n",
    "plot2 = plt.fill_between(range(12), movement_times_mean_accuracy + movement_times_sem_accuracy, movement_times_mean_accuracy - movement_times_sem_accuracy, alpha = 0.5, color = 'green')\n",
    "\n",
    "plt.legend((plot1, plot2), (\"Speed\", \"Accuracy\"))\n",
    "plt.xlabel('Block')\n",
    "plt.ylabel('Movement Times')"
   ]
  },
  {
   "cell_type": "code",
   "execution_count": null,
   "metadata": {},
   "outputs": [],
   "source": [
    "fig, plot1 = plt.subplots()\n",
    "plot1.plot(numpy.mean(numpy.row_stack((error_sum[4:-1:4], error_sum[1:-1:4])), axis = 0), 'k-')\n",
    "plot1.plot(numpy.mean(numpy.row_stack((error_sum[2:-1:4], error_sum[3:-1:4])), axis = 0), 'k-')\n",
    "\n",
    "plot1 = plt.fill_between(range(12), numpy.mean(numpy.row_stack((error_sum[4:-1:4], error_sum[1:-1:4])), axis = 0) + stat.sem(numpy.row_stack((error_sum[4:-1:4], error_sum[1:-1:4]))), numpy.mean(numpy.row_stack((error_sum[4:-1:4], error_sum[1:-1:4])), axis = 0) - stat.sem(numpy.row_stack((error_sum[4:-1:4], error_sum[1:-1:4]))), alpha = 0.5)\n",
    "plot2 = plt.fill_between(range(12), numpy.mean(numpy.row_stack((error_sum[2:-1:4], error_sum[3:-1:4])), axis = 0) + stat.sem(numpy.row_stack((error_sum[2:-1:4], error_sum[3:-1:4]))), numpy.mean(numpy.row_stack((error_sum[2:-1:4], error_sum[3:-1:4])), axis = 0) - stat.sem(numpy.row_stack((error_sum[2:-1:4], error_sum[3:-1:4]))), alpha = 0.5)\n",
    "plt.legend((plot1, plot2), (\"Sudden\", \"Gradual\"))\n",
    "#error_sum[3]\n",
    "#error_sum\n",
    "plt.xlabel('Block')\n",
    "plt.ylabel('Error')\n",
    "#plot1.\n",
    "plot3 = plot1.twinx()\n",
    "initial_times_mean_sudden = numpy.mean(numpy.row_stack((initial_times[4:-1:4], initial_times[1:-1:4])), axis = 0)\n",
    "initial_times_sem_sudden = stat.sem(numpy.row_stack((initial_times[4:-1:4], initial_times[1:-1:4])))\n",
    "plt.plot(initial_times_mean_sudden, 'k-')\n",
    "plot1 = plt.fill_between(range(10), initial_times_mean_sudden + initial_times_sem_sudden, initial_times_mean_sudden - initial_times_sem_sudden, alpha = 0.5)\n",
    "\n",
    "\n",
    "initial_times_mean_gradual = numpy.mean(numpy.row_stack((initial_times[2:-1:4], initial_times[3:-1:4])), axis = 0)\n",
    "initial_times_sem_gradual = stat.sem(numpy.row_stack((initial_times[2:-1:4], initial_times[3:-1:4])))\n",
    "plt.plot(initial_times_mean_gradual, 'k-')\n",
    "plot2 = plt.fill_between(range(10), initial_times_mean_gradual + initial_times_sem_gradual, initial_times_mean_gradual - initial_times_sem_gradual, alpha = 0.5)\n",
    "\n",
    "plt.legend((plot1, plot2), (\"Sudden\", \"Gradual\"))\n",
    "\n",
    "movement_times_mean_sudden = numpy.mean(numpy.row_stack((movement_times[4:-1:4], movement_times[1:-1:4])), axis = 0)\n",
    "movement_times_sem_sudden = stat.sem(numpy.row_stack((movement_times[4:-1:4], movement_times[1:-1:4])))\n",
    "plt.plot(movement_times_mean_sudden, 'k-')\n",
    "plot1 = plt.fill_between(range(10), movement_times_mean_sudden + movement_times_sem_sudden, movement_times_mean_sudden - movement_times_sem_sudden, alpha = 0.5)\n",
    "\n",
    "\n",
    "movement_times_mean_gradual = numpy.mean(numpy.row_stack((movement_times[2:-1:4], movement_times[3:-1:4])), axis = 0)\n",
    "movement_times_sem_gradual = stat.sem(numpy.row_stack((movement_times[2:-1:4], movement_times[3:-1:4])))\n",
    "plt.plot(movement_times_mean_gradual, 'k-')\n",
    "plot2 = plt.fill_between(range(10), movement_times_mean_gradual + movement_times_sem_gradual, movement_times_mean_gradual - movement_times_sem_gradual, alpha = 0.5)\n",
    "\n",
    "plt.legend((plot1, plot2), (\"Sudden\", \"Gradual\"))"
   ]
  },
  {
   "cell_type": "code",
   "execution_count": null,
   "metadata": {},
   "outputs": [],
   "source": []
  },
  {
   "cell_type": "code",
   "execution_count": null,
   "metadata": {},
   "outputs": [],
   "source": [
    "score = error_sum[:, 1]"
   ]
  },
  {
   "cell_type": "code",
   "execution_count": null,
   "metadata": {},
   "outputs": [],
   "source": [
    "#speed emphasis is 1\n",
    "emphasis = numpy.zeros(len(score))\n",
    "emphasis[1:-1:2] = 1\n",
    "\n",
    "condition = numpy.zeros(len(score))\n",
    "condition[1:-1:4] = 1\n",
    "condition[0:-1:4] = 1\n",
    "condition"
   ]
  },
  {
   "cell_type": "code",
   "execution_count": null,
   "metadata": {},
   "outputs": [],
   "source": [
    "numpy.savetxt('error_anova.csv', numpy.column_stack((emphasis, condition, score)), delimiter=\",\")\n"
   ]
  },
  {
   "cell_type": "code",
   "execution_count": null,
   "metadata": {},
   "outputs": [],
   "source": [
    "lm = smf.OLS(score, numpy.column_stack((emphasis, condition))).fit()"
   ]
  },
  {
   "cell_type": "code",
   "execution_count": null,
   "metadata": {},
   "outputs": [],
   "source": [
    "print (lm.summary())"
   ]
  },
  {
   "cell_type": "code",
   "execution_count": null,
   "metadata": {},
   "outputs": [],
   "source": [
    "table = sm.stats.anova_lm(lm)"
   ]
  },
  {
   "cell_type": "markdown",
   "metadata": {},
   "source": [
    "\n",
    "distance from target vs time quantiles\n",
    "\n",
    "break blocks into 16 sets of trials\n",
    "\n",
    "error vs groups of trials\n",
    "\n",
    "Clean up data"
   ]
  },
  {
   "cell_type": "code",
   "execution_count": null,
   "metadata": {},
   "outputs": [],
   "source": [
    "numpy.column_stack((initial_times[1:-1:4][1], initial_times[4:-1:4][1])) - numpy.column_stack((initial_times[1:-1:4][0], initial_times[4:-1:4][0]))"
   ]
  },
  {
   "cell_type": "code",
   "execution_count": null,
   "metadata": {},
   "outputs": [],
   "source": [
    "numpy.concatenate((initial_times[1:-1:4,1], initial_times[4:-1:4, 1])) - numpy.concatenate((initial_times[1:-1:4,0], initial_times[4:-1:4, 0]))"
   ]
  },
  {
   "cell_type": "code",
   "execution_count": null,
   "metadata": {},
   "outputs": [],
   "source": [
    "numpy.concatenate((initial_times[1:-1:4,11], initial_times[4:-1:4, 11])) - numpy.concatenate((initial_times[1:-1:4,10], initial_times[4:-1:4, 10]))"
   ]
  },
  {
   "cell_type": "code",
   "execution_count": null,
   "metadata": {},
   "outputs": [],
   "source": [
    "def calc_dist(traj):    \n",
    "    distance = list()\n",
    "    for j in range(64):\n",
    "        traj_dist = list()\n",
    "        trajx, trajy = traj['x'][0][j][0], traj['y'][0][j][0]\n",
    "        #end_pointx, end_pointy  = square_coord['squareX'][0][j], square_coord['squareY'][0][j]\n",
    "        end_pointx, end_pointy  = traj['x'][0][j][0][-1], traj['y'][0][j][0][-1]\n",
    "\n",
    "\n",
    "        for i in range(len(trajx)):\n",
    "            xdist = numpy.absolute(end_pointx - trajx[i])\n",
    "            ydist = numpy.absolute(end_pointy-trajy[i])\n",
    "            dist = numpy.sqrt(xdist**2 + ydist**2)\n",
    "            traj_dist.append(dist)\n",
    "        distance.append(traj_dist)\n",
    "    return distance\n",
    "#dist = numpy.linalg.norm(numpy.cross(p2-p1, p1-p3))/numpy.linalg.norm(p2-p1)"
   ]
  },
  {
   "cell_type": "code",
   "execution_count": null,
   "metadata": {},
   "outputs": [],
   "source": [
    "def distancevstime(data, block):\n",
    "    traj = scipy.io.loadmat('data/participants/data{data}/actual_trajectories/trajectories{block}.mat'.format(block=str(block), data=str(data)))\n",
    "    ideal_traj = scipy.io.loadmat('data/participants/data{data}/ideal_trajectories/ideal_trajectories{block}.mat'.format(block = str(block), data=str(data)))\n",
    "    #squares = scipy.io.loadmat('data/participants/data{data}/squares/coordinates/squares{block}.mat'.format(block=str(block), data=str(data)))\n",
    "    #xdiff = (ideal_traj['idealXs'] - traj['x'])\n",
    "    #ydiff = (ideal_traj['idealYs'] - traj['y'])\n",
    "    distance = calc_dist(traj)\n",
    "    \n",
    "    #error = xdiff**2+ydiff**2\n",
    "    #print (error)\n",
    "    distance_means = numpy.zeros((64, 5))\n",
    "    for i in range(64):\n",
    "        n = len(distance[i])\n",
    "        for j in range(5):\n",
    "            distance_means[i, j] = numpy.nanmean(distance[i][int(numpy.floor((j)*n/5)):int(numpy.floor((j+1)*n/5))])\n",
    "        #error_means[i, ] = error_means[i, ]/max(error_means[i,])\n",
    "\n",
    "    \n",
    "    time_means = numpy.zeros((64, 5))\n",
    "\n",
    "    for i in range(64):\n",
    "        n = len(distance[i])\n",
    "        for j in range(5):\n",
    "            time_means[i, j] = len(distance[i][int(numpy.floor((j)*n/5)):int(numpy.floor((j+1)*n/5))])\n",
    "    times = numpy.cumsum(numpy.mean(time_means, axis = 0))\n",
    "    plt.errorbar(times, numpy.nanmean(distance_means, axis = 0), xerr = stat.sem(time_means, axis = 0), yerr = stat.sem(distance_means, axis = 0))\n",
    "    plt.ylabel('Distance')\n",
    "    plt.xlabel('Time')\n",
    "    #plt.xlim(0, 100)\n",
    "    #plt.ylim(-20, 70)\n",
    "    return times, numpy.nanmean(distance_means, axis = 0)"
   ]
  },
  {
   "cell_type": "code",
   "execution_count": null,
   "metadata": {},
   "outputs": [],
   "source": [
    "distss = numpy.array([])\n",
    "distas = numpy.array([])\n",
    "distsg = numpy.array([])\n",
    "distag = numpy.array([])\n",
    "timess = numpy.array([])\n",
    "timeas = numpy.array([])\n",
    "timesg = numpy.array([])\n",
    "timeag = numpy.array([])\n",
    "data = 11\n",
    "for participant in range(1, 27):\n",
    "    if participant == 7:\n",
    "        continue\n",
    "    if participant%4 == 0:\n",
    "        temp = distancevstime(participant, data)\n",
    "        distss = numpy.concatenate((distss, temp[1]))\n",
    "        timess = numpy.concatenate((timess, temp[0]))\n",
    "    if participant%4 == 1:\n",
    "        temp = distancevstime(participant, data)\n",
    "        distas = numpy.concatenate((distas, temp[1]))\n",
    "        timeas = numpy.concatenate((timeas, temp[0]))\n",
    "    if participant%4 == 2:\n",
    "        temp = distancevstime(participant, data)\n",
    "        distsg = numpy.concatenate((distsg, temp[1]))\n",
    "        timesg = numpy.concatenate((timesg, temp[0]))\n",
    "    if participant%4 == 3:\n",
    "        temp = distancevstime(participant, data)\n",
    "        distag = numpy.concatenate((distag, temp[1]))\n",
    "        timeag = numpy.concatenate((timeag, temp[0]))\n",
    "\n",
    "#    distancevstime(16, 11)\n"
   ]
  },
  {
   "cell_type": "code",
   "execution_count": null,
   "metadata": {},
   "outputs": [],
   "source": [
    "plot1, = plt.plot(numpy.nanmean(numpy.reshape(timess, (int(len(timess)/5), 5)), axis = 0), numpy.nanmean(numpy.reshape(distss, (int(len(distss)/5), 5)), axis = 0))\n",
    "plot2, = plt.plot(numpy.nanmean(numpy.reshape(timesg, (int(len(timesg)/5), 5)), axis = 0), numpy.nanmean(numpy.reshape(distsg, (int(len(distsg)/5), 5)), axis = 0))\n",
    "plot3, = plt.plot(numpy.nanmean(numpy.reshape(timeas, (int(len(timeas)/5), 5)), axis = 0), numpy.nanmean(numpy.reshape(distas, (int(len(distas)/5), 5)), axis = 0))\n",
    "plot4, = plt.plot(numpy.nanmean(numpy.reshape(timeag, (int(len(timeag)/5), 5)), axis = 0), numpy.nanmean(numpy.reshape(distag, (int(len(distag)/5), 5)), axis = 0))\n",
    "\n",
    "plt.legend((plot1, plot2, plot3, plot4), ('SS', 'SG', 'AS', 'AG'))\n",
    "plt.xlabel('Time')\n",
    "plt.ylabel('Distance to target')"
   ]
  },
  {
   "cell_type": "markdown",
   "metadata": {},
   "source": [
    "# Curvatures"
   ]
  },
  {
   "cell_type": "code",
   "execution_count": 4,
   "metadata": {},
   "outputs": [],
   "source": [
    "def calc_angle(current_point, next_point, final_point):\n",
    "    vec1 = next_point - current_point\n",
    "    vec2 = final_point - current_point\n",
    "    vec1 = vec1.astype('float64')\n",
    "    vec2 = vec2.astype('float64')\n",
    "    cos_theta = numpy.dot(vec1, vec2)/(numpy.linalg.norm(vec1) * numpy.linalg.norm(vec2))\n",
    "    theta = numpy.degrees(numpy.arccos(cos_theta))\n",
    "    return theta"
   ]
  },
  {
   "cell_type": "code",
   "execution_count": 5,
   "metadata": {},
   "outputs": [],
   "source": [
    "def calc_curvature(data, block, trial, percentage_trajectory):\n",
    "    traj = scipy.io.loadmat('data/data{data}/actual_trajectories/trajectories{block}.mat'.format(block=str(block), data=str(data)))\n",
    "    trajx, trajy = traj['x'][0][trial][0], traj['y'][0][trial][0]\n",
    "    targetx, targety = trajx[-1], trajy[-1]\n",
    "    partial_trajx, partial_trajy = get_partial_traj(data, block, trial, percentage_trajectory)\n",
    "    angles = list()\n",
    "    for i in range(len(partial_trajx[:-1])):\n",
    "        #print (trajx[i], trajy[i])\n",
    "        angles.append(calc_angle(numpy.array([partial_trajx[i], partial_trajy[i]]), numpy.array([partial_trajx[i+1], partial_trajy[i+1]]), numpy.array([trajx[-1], trajy[-1]])))\n",
    "    return numpy.nanmean(angles)"
   ]
  },
  {
   "cell_type": "code",
   "execution_count": 6,
   "metadata": {},
   "outputs": [],
   "source": [
    "def get_traj(data, block, trial):\n",
    "    traj = scipy.io.loadmat('data/data{data}/actual_trajectories/trajectories{block}.mat'.format(block=str(block), data=str(data)))\n",
    "    x_traj = traj['x'][0][trial][0]\n",
    "    y_traj = traj['y'][0][trial][0]\n",
    "    return x_traj, y_traj"
   ]
  },
  {
   "cell_type": "code",
   "execution_count": 7,
   "metadata": {},
   "outputs": [],
   "source": [
    "def get_partial_traj(data, block, trial, percentage_trajectory):\n",
    "    traj = get_traj(data, block, trial)\n",
    "    dist_cutoff = percentage_trajectory*numpy.sqrt(212**2 + 212**2, dtype = float)\n",
    "    for i in range(len(traj[0])):\n",
    "        dist_from_start = numpy.sqrt(traj[0][i]**2 + traj[1][i]**2, dtype = float)\n",
    "        if dist_from_start > dist_cutoff:\n",
    "            break\n",
    "    partial_trajx = traj[0][:i]\n",
    "    partial_trajy = traj[1][:i]\n",
    "        \n",
    "            \n",
    "    return partial_trajx, partial_trajy"
   ]
  },
  {
   "cell_type": "code",
   "execution_count": 8,
   "metadata": {},
   "outputs": [
    {
     "data": {
      "text/plain": [
       "32.17961722272654"
      ]
     },
     "execution_count": 8,
     "metadata": {},
     "output_type": "execute_result"
    }
   ],
   "source": [
    "calc_angle(numpy.array([0, 0]), numpy.array([4, -25]), numpy.array([254, 164]))\n",
    "calc_curvature(1004, 8, 42, 0.5)\n",
    "#plt.scatter([0, 4, 254], [0, -25, 164])"
   ]
  },
  {
   "cell_type": "code",
   "execution_count": 9,
   "metadata": {},
   "outputs": [
    {
     "name": "stderr",
     "output_type": "stream",
     "text": [
      "C:\\Users\\Tejas\\Anaconda3\\lib\\site-packages\\ipykernel_launcher.py:7: RuntimeWarning: invalid value encountered in arccos\n",
      "  import sys\n",
      "C:\\Users\\Tejas\\Anaconda3\\lib\\site-packages\\ipykernel_launcher.py:6: RuntimeWarning: invalid value encountered in double_scalars\n",
      "  \n",
      "C:\\Users\\Tejas\\Anaconda3\\lib\\site-packages\\ipykernel_launcher.py:10: RuntimeWarning: Mean of empty slice\n",
      "  # Remove the CWD from sys.path while we load stuff.\n"
     ]
    },
    {
     "name": "stdout",
     "output_type": "stream",
     "text": [
      "0\n",
      "10\n",
      "20\n",
      "30\n",
      "40\n",
      "50\n"
     ]
    }
   ],
   "source": [
    "curvatures = numpy.zeros((60, 12, 64))\n",
    "for data in range(60):\n",
    "    for block in range(12):\n",
    "        for trial in range(64):\n",
    "            curvatures[data][block][trial] = calc_curvature(data+1000, block, trial, 1)\n",
    "    if data%10 == 0:\n",
    "        print (data)"
   ]
  },
  {
   "cell_type": "code",
   "execution_count": null,
   "metadata": {},
   "outputs": [],
   "source": []
  },
  {
   "cell_type": "code",
   "execution_count": 10,
   "metadata": {},
   "outputs": [
    {
     "data": {
      "image/png": "[encoded data removed]",
      "text/plain": [
       "<Figure size 432x288 with 1 Axes>"
      ]
     },
     "metadata": {
      "needs_background": "light"
     },
     "output_type": "display_data"
    },
    {
     "data": {
      "image/png": "[encoded data removed]",
      "text/plain": [
       "<Figure size 432x288 with 1 Axes>"
      ]
     },
     "metadata": {
      "needs_background": "light"
     },
     "output_type": "display_data"
    },
    {
     "data": {
      "image/png": "[encoded data removed]",
      "text/plain": [
       "<Figure size 432x288 with 1 Axes>"
      ]
     },
     "metadata": {
      "needs_background": "light"
     },
     "output_type": "display_data"
    },
    {
     "data": {
      "image/png": "[encoded data removed]",
      "text/plain": [
       "<Figure size 432x288 with 1 Axes>"
      ]
     },
     "metadata": {
      "needs_background": "light"
     },
     "output_type": "display_data"
    }
   ],
   "source": [
    "def plot_curvature_means(distances, path):\n",
    "    #plt.rcParams[('figure.figsize')] = [8, 6]\n",
    "\n",
    "    mean_errors = numpy.mean(distances, axis =2)\n",
    "    plt.errorbar(range(1, 11), numpy.mean(numpy.nanmedian(distances, axis = 2)[3::4], axis = 0)[1:-1], yerr = stat.sem(numpy.nanmedian(distances, axis = 2)[3::4], axis = 0)[1:-1], capsize=3, color = [0, 0, 0])\n",
    "    plt.errorbar(0, numpy.mean(numpy.nanmedian(distances, axis = 2)[3::4], axis = 0)[0], yerr = stat.sem(numpy.nanmedian(distances, axis = 2)[3::4], axis = 0)[0], capsize=3, fmt = 'd', fillstyle = 'none', markersize = 10, color = [0.5, 0.5, 0.5])\n",
    "    plt.errorbar(11, numpy.mean(numpy.nanmedian(distances, axis = 2)[3::4], axis = 0)[11], yerr = stat.sem(numpy.nanmedian(distances, axis = 2)[3::4], axis = 0)[11], capsize=3, fmt = 'd', fillstyle = 'none', markersize = 10, color = [0.5, 0.5, 0.5])\n",
    "    #plt.text(x=5, y = 80, s = '14 Participants')\n",
    "    plt.ylabel('Curvature')\n",
    "    plt.xlabel('Block')\n",
    "    plt.title('Gradual Accuracy')\n",
    "    plt.xticks(range(12), ['0', '1', '2', '3', '4', '5', '6', '7', '8', '9', '10', '11'])\n",
    "\n",
    "    #y_lim_max = numpy.max((mean_errors)) + 5\n",
    "    y_lim_max = 90\n",
    "    plt.ylim((0, y_lim_max))\n",
    "#    print(max(np.mean(quantiles[3::4][:, :, 3], axis = 0)[1:-1]) + 0.7)\n",
    "    #plt.tight_layout()\n",
    "    #plt.savefig(path+'learning_GA.png', dpi = 600)\n",
    "    plt.show()\n",
    "\n",
    "    plt.errorbar(range(1, 11), numpy.mean(numpy.nanmedian(distances, axis = 2)[2::4], axis = 0)[1:-1], yerr = stat.sem(numpy.nanmedian(distances, axis = 2)[2::4], axis = 0)[1:-1], capsize=3, color = [0, 0, 0])\n",
    "    plt.errorbar(0, numpy.median(numpy.nanmean(distances, axis = 2)[2::4], axis = 0)[0], yerr = stat.sem(numpy.nanmedian(distances, axis = 2)[2::4], axis = 0)[0], capsize=3, fmt = 'd', fillstyle = 'full', markersize = 10, color = [0.5, 0.5, 0.5])\n",
    "    plt.errorbar(11, numpy.median(numpy.nanmean(distances, axis = 2)[2::4], axis = 0)[11], yerr = stat.sem(numpy.nanmedian(distances, axis = 2)[2::4], axis = 0)[11], capsize=3, fmt = 'd', fillstyle = 'full', markersize = 10, color = [0.5, 0.5, 0.5])\n",
    "    #plt.text(x=5, y = 80, s = '15 Participants')\n",
    "    plt.ylabel('Curvature')\n",
    "    plt.xlabel('Block')\n",
    "    plt.xticks(range(12), ['0', '1', '2', '3', '4', '5', '6', '7', '8', '9', '10', '11'])\n",
    "    plt.title('Gradual Speed')\n",
    "    plt.ylim(0, y_lim_max)\n",
    "    #plt.tight_layout()\n",
    "    #plt.savefig(path+'learning_GS.png', dpi = 600)\n",
    "    plt.show()\n",
    "    #y_lim_max = 2200\n",
    "\n",
    "    plt.errorbar(range(1, 11), numpy.mean(numpy.nanmedian(distances, axis = 2)[1::4], axis = 0)[1:-1], yerr = stat.sem(numpy.nanmedian(distances, axis = 2)[1::4], axis = 0)[1:-1], capsize=3, color = [0, 0, 0])\n",
    "    plt.errorbar(0, numpy.mean(numpy.nanmedian(distances, axis = 2)[1::4], axis = 0)[0], yerr = stat.sem(numpy.nanmedian(distances, axis = 2)[1::4], axis = 0)[0], capsize=3, fmt = 's', fillstyle = 'none', markersize = 10, color = [0.5, 0.5, 0.5])\n",
    "    plt.errorbar(11, numpy.mean(numpy.nanmedian(distances, axis = 2)[1::4], axis = 0)[11], yerr = stat.sem(numpy.nanmedian(distances, axis = 2)[1::4], axis = 0)[11], capsize=3, fmt = 's', fillstyle = 'none', markersize = 10, color = [0.5, 0.5, 0.5])\n",
    "    #plt.text(x=5, y = 80, s = '15 Participants')\n",
    "    plt.ylabel('Curvature')\n",
    "    plt.xlabel('Block')\n",
    "    plt.xticks(range(12), ['0', '1', '2', '3', '4', '5', '6', '7', '8', '9', '10', '11'])\n",
    "    plt.title('Sudden Accuracy')\n",
    "    #y_lim_max = 10000\n",
    "\n",
    "    plt.ylim(0, y_lim_max)\n",
    "    #plt.tight_layout()\n",
    "    #plt.savefig(path+'learning_SA.png', dpi = 600)\n",
    "    plt.show()\n",
    "\n",
    "    plt.errorbar(range(1, 11), numpy.mean(numpy.nanmedian(distances, axis = 2)[4::4], axis = 0)[1:-1], yerr = stat.sem(numpy.nanmedian(distances, axis = 2)[4::4], axis = 0)[1:-1], capsize=3, color = [0, 0, 0])\n",
    "    plt.errorbar(0, numpy.mean(numpy.nanmedian(distances, axis = 2)[4::4], axis = 0)[0], yerr = stat.sem(numpy.nanmedian(distances, axis = 2)[4::4], axis = 0)[0], capsize=3, fmt = 's', fillstyle = 'full', markersize = 10, color = [0.5, 0.5, 0.5])\n",
    "    plt.errorbar(11, numpy.mean(numpy.nanmedian(distances, axis = 2)[4::4], axis = 0)[11], yerr = stat.sem(numpy.nanmedian(distances, axis = 2)[4::4], axis = 0)[11], capsize=3, fmt = 's', fillstyle = 'full', markersize = 10, color = [0.5, 0.5, 0.5])\n",
    "    #plt.text(x=5, y = 80, s = '14 Participants')\n",
    "    plt.xticks(range(12), ['0', '1', '2', '3', '4', '5', '6', '7', '8', '9', '10', '11'])\n",
    "    plt.ylabel('Curvature')\n",
    "    plt.xlabel('Block')\n",
    "    plt.title('Sudden Speed')\n",
    "#    y_lim_max = 2600\n",
    "    plt.ylim(0, y_lim_max)\n",
    "    #plt.tight_layout()\n",
    "    #plt.savefig(path+'learning_SS.png', dpi = 600)\n",
    "    plt.show()\n",
    "\n",
    "plot_curvature_means(curvatures, \"\")\n"
   ]
  },
  {
   "cell_type": "code",
   "execution_count": 95,
   "metadata": {},
   "outputs": [
    {
     "data": {
      "text/plain": [
       "(176,)"
      ]
     },
     "execution_count": 95,
     "metadata": {},
     "output_type": "execute_result"
    }
   ],
   "source": [
    "numpy.shape(numpy.ravel(numpy.nanmean(curvatures[0::4], axis = 0)[1:][:, :16]))"
   ]
  },
  {
   "cell_type": "code",
   "execution_count": 30,
   "metadata": {},
   "outputs": [
    {
     "data": {
      "image/png": "[encoded data removed]",
      "text/plain": [
       "<Figure size 1440x360 with 1 Axes>"
      ]
     },
     "metadata": {
      "needs_background": "light"
     },
     "output_type": "display_data"
    }
   ],
   "source": [
    "def plot_errors_trials(num_points, first_trial, last_trial, errors):\n",
    "    plt.figure(figsize=(20, 5))\n",
    "    plot_0, = plt.plot(numpy.nanmean(numpy.split(numpy.ravel(numpy.nanmean(curvatures[0::4], axis = 0)[:, first_trial:last_trial]), num_points), axis = 1), alpha = 0.5)\n",
    "    plot_1, = plt.plot(numpy.nanmean(numpy.split(numpy.ravel(numpy.nanmean(curvatures[1::4], axis = 0)[:, first_trial:last_trial]), num_points), axis = 1), alpha = 0.5)\n",
    "    plot_2, = plt.plot(numpy.nanmean(numpy.split(numpy.ravel(numpy.nanmean(curvatures[2::4], axis = 0)[:, first_trial:last_trial]), num_points), axis = 1))\n",
    "    plot_3, = plt.plot(numpy.nanmean(numpy.split(numpy.ravel(numpy.nanmean(curvatures[3::4], axis = 0)[:, first_trial:last_trial]), num_points), axis = 1))\n",
    "\n",
    "    plt.legend((plot_0, plot_1, plot_2, plot_3), ('Sudden Speed', 'Sudden Accuracy', 'Gradual Speed', 'Gradual Accuracy'))\n",
    "    plt.xlabel('Trials')\n",
    "    plt.ylabel('Angular Errors')\n",
    "plot_errors_trials(48, 0, 64, curvatures)\n"
   ]
  },
  {
   "cell_type": "code",
   "execution_count": null,
   "metadata": {},
   "outputs": [],
   "source": [
    "def plot_curvature(distances, path):\n",
    "    #plt.rcParams[('figure.figsize')] = [8, 6]\n",
    "\n",
    "    mean_errors = numpy.mean(distances, axis =2)\n",
    "    plt.errorbar(range(1, 11), numpy.mean(numpy.nanmean(distances, axis = 2)[3::4], axis = 0)[1:-1], yerr = stat.sem(numpy.nanmedian(distances, axis = 2)[3::4], axis = 0)[1:-1], capsize=3, color = [0, 0, 0])\n",
    "    #plt.errorbar(0, numpy.mean(numpy.median(distances, axis = 2)[3::4], axis = 0)[0], yerr = stat.sem(numpy.median(distances, axis = 2)[3::4], axis = 0)[0], capsize=3, fmt = 's')\n",
    "    plt.errorbar(11, numpy.mean(numpy.nanmean(distances, axis = 2)[3::4], axis = 0)[11], yerr = stat.sem(numpy.nanmedian(distances, axis = 2)[3::4], axis = 0)[11], capsize=3, fmt = 'd', fillstyle = 'none', markersize = 10, color = [0.5, 0.5, 0.5])\n",
    "    #plt.text(x=5, y = 80, s = '14 Participants')\n",
    "    plt.ylabel('Curvature')\n",
    "    plt.xlabel('Block')\n",
    "    plt.title('Gradual Accuracy')\n",
    "    plt.xticks(range(12), ['0', '1', '2', '3', '4', '5', '6', '7', '8', '9', '10', '11'])\n",
    "\n",
    "    #y_lim_max = numpy.max((mean_errors)) + 5\n",
    "    y_lim_max = 90\n",
    "    plt.ylim((0, y_lim_max))\n",
    "#    print(max(np.mean(quantiles[3::4][:, :, 3], axis = 0)[1:-1]) + 0.7)\n",
    "    #plt.tight_layout()\n",
    "    #plt.savefig(path+'learning_GA.png', dpi = 600)\n",
    "    plt.show()\n",
    "\n",
    "    plt.errorbar(range(1, 11), numpy.mean(numpy.nanmean(distances, axis = 2)[2::4], axis = 0)[1:-1], yerr = stat.sem(numpy.nanmedian(distances, axis = 2)[2::4], axis = 0)[1:-1], capsize=3, color = [0, 0, 0])\n",
    "    #plt.errorbar(0, numpy.mean(numpy.median(distances, axis = 2)[2::4], axis = 0)[0], yerr = stat.sem(numpy.median(distances, axis = 2)[2::4], axis = 0)[0], capsize=3, fmt = 's')\n",
    "    plt.errorbar(11, numpy.mean(numpy.nanmean(distances, axis = 2)[2::4], axis = 0)[11], yerr = stat.sem(numpy.nanmedian(distances, axis = 2)[2::4], axis = 0)[11], capsize=3, fmt = 'd', fillstyle = 'full', markersize = 10, color = [0.5, 0.5, 0.5])\n",
    "    #plt.text(x=5, y = 80, s = '15 Participants')\n",
    "    plt.ylabel('Curvature')\n",
    "    plt.xlabel('Block')\n",
    "    plt.xticks(range(12), ['0', '1', '2', '3', '4', '5', '6', '7', '8', '9', '10', '11'])\n",
    "    plt.title('Gradual Speed')\n",
    "    plt.ylim(0, y_lim_max)\n",
    "    #plt.tight_layout()\n",
    "    #plt.savefig(path+'learning_GS.png', dpi = 600)\n",
    "    plt.show()\n",
    "    #y_lim_max = 2200\n",
    "\n",
    "    plt.errorbar(range(1, 11), numpy.mean(numpy.nanmean(distances, axis = 2)[1::4], axis = 0)[1:-1], yerr = stat.sem(numpy.nanmedian(distances, axis = 2)[1::4], axis = 0)[1:-1], capsize=3, color = [0, 0, 0])\n",
    "    #plt.errorbar(0, numpy.mean(numpy.mean(distances, axis = 2)[1::4], axis = 0)[0], yerr = stat.sem(numpy.mean(distances, axis = 2)[1::4], axis = 0)[0], capsize=3, fmt = 's')\n",
    "    plt.errorbar(11, numpy.mean(numpy.nanmean(distances, axis = 2)[1::4], axis = 0)[11], yerr = stat.sem(numpy.nanmedian(distances, axis = 2)[1::4], axis = 0)[11], capsize=3, fmt = 's', fillstyle = 'none', markersize = 10, color = [0.5, 0.5, 0.5])\n",
    "    #plt.text(x=5, y = 80, s = '15 Participants')\n",
    "    plt.ylabel('Curvature')\n",
    "    plt.xlabel('Block')\n",
    "    plt.xticks(range(12), ['0', '1', '2', '3', '4', '5', '6', '7', '8', '9', '10', '11'])\n",
    "    plt.title('Sudden Accuracy')\n",
    "    #y_lim_max = 10000\n",
    "\n",
    "    plt.ylim(0, y_lim_max)\n",
    "    #plt.tight_layout()\n",
    "    #plt.savefig(path+'learning_SA.png', dpi = 600)\n",
    "    plt.show()\n",
    "\n",
    "    plt.errorbar(range(1, 11), numpy.mean(numpy.nanmean(distances, axis = 2)[4::4], axis = 0)[1:-1], yerr = stat.sem(numpy.nanmedian(distances, axis = 2)[4::4], axis = 0)[1:-1], capsize=3, color = [0, 0, 0])\n",
    "    #plt.errorbar(0, numpy.mean(numpy.median(distances, axis = 2)[4::4], axis = 0)[0], yerr = stat.sem(numpy.median(distances, axis = 2)[4::4], axis = 0)[0], capsize=3, fmt = 's')\n",
    "    plt.errorbar(11, numpy.mean(numpy.nanmean(distances, axis = 2)[4::4], axis = 0)[11], yerr = stat.sem(numpy.nanmedian(distances, axis = 2)[4::4], axis = 0)[11], capsize=3, fmt = 's', fillstyle = 'full', markersize = 10, color = [0.5, 0.5, 0.5])\n",
    "    #plt.text(x=5, y = 80, s = '14 Participants')\n",
    "    plt.xticks(range(12), ['0', '1', '2', '3', '4', '5', '6', '7', '8', '9', '10', '11'])\n",
    "    plt.ylabel('Curvature')\n",
    "    plt.xlabel('Block')\n",
    "    plt.title('Sudden Speed')\n",
    "#    y_lim_max = 2600\n",
    "    plt.ylim(0, y_lim_max)\n",
    "    #plt.tight_layout()\n",
    "    #plt.savefig(path+'learning_SS.png', dpi = 600)\n",
    "    plt.show()\n",
    "\n",
    "plot_curvature_means(curvatures, \"\")\n"
   ]
  },
  {
   "cell_type": "code",
   "execution_count": null,
   "metadata": {},
   "outputs": [],
   "source": [
    "y = numpy.array([numpy.mean(numpy.mean(curvatures, axis = 2)[0::4], axis = 0)[11],\n",
    "                 numpy.mean(numpy.mean(curvatures, axis = 2)[1::4], axis = 0)[11],\n",
    "                 numpy.mean(numpy.mean(curvatures, axis = 2)[2::4], axis = 0)[11],\n",
    "                 numpy.mean(numpy.mean(curvatures, axis = 2)[3::4], axis = 0)[11]])\n",
    "y_sem = numpy.array([stat.sem(numpy.nanmean(curvatures, axis = 2)[0::4], axis = 0)[11],\n",
    "                     stat.sem(numpy.nanmean(curvatures, axis = 2)[1::4], axis = 0)[11],\n",
    "                     stat.sem(numpy.nanmean(curvatures, axis = 2)[2::4], axis = 0)[11],\n",
    "                     stat.sem(numpy.nanmean(curvatures, axis = 2)[3::4], axis = 0)[11]])\n",
    "\n",
    "plt.bar(0, y[0], yerr = y_sem[0])\n",
    "plt.bar(1, y[1], yerr = y_sem[1])\n",
    "plt.bar(2, y[2], yerr = y_sem[2])\n",
    "plt.bar(3, y[3], yerr = y_sem[3])\n",
    "\n",
    "\n",
    "#plt.xticks(['Sudden Speed', 'Sudden Accuracy', 'Gradual Speed', 'Gradual Accuracy'], rotation = 'vertical')"
   ]
  },
  {
   "cell_type": "code",
   "execution_count": 23,
   "metadata": {},
   "outputs": [
    {
     "name": "stdout",
     "output_type": "stream",
     "text": [
      "[[ 9.57193488 18.27314411 21.0092538  33.30562627]\n",
      " [25.7075039  35.77524456 30.68035599 42.87246533]]\n",
      "[17.63971939 27.02419434 25.84480489 38.0890458 ]\n",
      "[8.067784506469604, -8.067784506469604]\n",
      "[17.63971939 27.02419434 25.84480489 38.0890458 ]\n"
     ]
    },
    {
     "data": {
      "image/png": "[encoded data removed]",
      "text/plain": [
       "<Figure size 432x288 with 1 Axes>"
      ]
     },
     "metadata": {
      "needs_background": "light"
     },
     "output_type": "display_data"
    }
   ],
   "source": [
    "#numpy.mean(numpy.mean(error_sum[1::4], axis = 2), axis = 0)\n",
    "#stat.sem(numpy.mean(error_sum[1::4], axis = 2), axis = 0)\n",
    "def plot_curvature_means_transfer(distances, text):\n",
    "#    quantiles = get_quantile(total_times)\n",
    "    xpos = [0, 1, 2, 3, 4]\n",
    "    y = numpy.array([numpy.mean(numpy.nanmean(distances[1::4], axis = 2), axis = 0)[11],# - numpy.mean(numpy.median(distances[1::4], axis = 2), axis = 0)[10],\n",
    "                  numpy.mean(numpy.nanmean(distances[0::4], axis = 2), axis = 0)[11], #- numpy.mean(numpy.median(distances[4::4], axis = 2), axis = 0)[10],\n",
    "                  numpy.mean(numpy.nanmean(distances[3::4], axis = 2), axis = 0)[11], #- numpy.mean(numpy.median(distances[3::4], axis = 2), axis = 0)[10],\n",
    "                  numpy.mean(numpy.nanmean(distances[2::4], axis = 2), axis = 0)[11]] #- numpy.mean(numpy.median(distances[2::4], axis = 2), axis = 0)[10]] \n",
    "                  )\n",
    "    \n",
    "    y_sem = numpy.array([stat.sem(numpy.nanmean(distances[1::4], axis = 2), axis = 0)[11], \n",
    "                    stat.sem(numpy.nanmean(distances[0::4], axis = 2), axis = 0)[11],\n",
    "                    stat.sem(numpy.nanmean(distances[3::4], axis = 2), axis = 0)[11],\n",
    "                    stat.sem(numpy.nanmean(distances[2::4], axis = 2), axis = 0)[11]])\n",
    "    print(numpy.array(stat.norm.interval(0.95, loc = y, scale = y_sem)))\n",
    "    print(y)\n",
    "    #x_CI = x - np.array(stat.norm.interval(0.95, loc = x, scale = x_err))[0, :], np.array(stat.norm.interval(0.95, loc = x, scale = x_err))[1, :] - x\n",
    "    y_CI = y - numpy.array(stat.norm.interval(0.95, loc = y, scale = y_sem))#[0, :], numpy.array(stat.norm.interval(0.95, loc = y, scale = y_sem))[1, :]\n",
    "    #print (y_CI)\n",
    "    #print (y_sem[0])\n",
    "    #y_sem = numpy.array([0, 0, 0, 0])\n",
    "    print([y_CI[0][0], y_CI[1][0]])\n",
    "    plt.bar(0, y[0], yerr = y_CI[0][0], capsize = 3, fill = False)\n",
    "    plt.bar(1, y[1], yerr = y_CI[0][1], capsize = 3, color = [0.5, 0.5, 0.5])\n",
    "    plt.bar(2, y[2], yerr = y_CI[0][2], capsize = 3, hatch = '\\\\', fill = False)\n",
    "    plt.bar(3, y[3], yerr = y_CI[0][3], capsize = 3, hatch = '\\\\', color = [0.5, 0.5, 0.5])\n",
    "\n",
    "#    handles = plt.bar(range(4), y, yerr = y_sem, capsize = 3, color = ['Blue', 'Green', 'Blue', 'Green'], alpha = [1, 0.5, 0.5, 1])\n",
    "    plt.xticks([0, 1, 2, 3], ['Sudden \\n Accuracy', 'Sudden \\n Speed', 'Gradual \\n Accuracy', 'Gradual \\nSpeed'], rotation = 'vertical')\n",
    "    plt.ylabel('Curvatures')\n",
    "    plt.xlabel('Condition')\n",
    "    #plt.legend([handles[0], handles[1]], ['Speed', 'Accuracy'])\n",
    "    plt.title(text)\n",
    "    plt.ylim(0, 45)\n",
    "    print (y)\n",
    "#numpy.shape(numpy.mean(error_sum[1::4], axis = 0))\n",
    "plot_curvature_means_transfer(curvatures, 'Transfer')"
   ]
  },
  {
   "cell_type": "code",
   "execution_count": null,
   "metadata": {},
   "outputs": [],
   "source": [
    "curvatures[1::4]"
   ]
  },
  {
   "cell_type": "code",
   "execution_count": null,
   "metadata": {},
   "outputs": [],
   "source": [
    "import statsmodels.api as sm\n",
    "from statsmodels.formula.api import ols"
   ]
  },
  {
   "cell_type": "code",
   "execution_count": null,
   "metadata": {},
   "outputs": [],
   "source": [
    "ols()"
   ]
  },
  {
   "cell_type": "code",
   "execution_count": null,
   "metadata": {},
   "outputs": [],
   "source": [
    "stat.f_oneway(numpy.mean(curvatures[0::4, :, :], axis = 2)[:, 11], numpy.mean(curvatures[1::4, :, :], axis = 2)[:, 11], numpy.mean(curvatures[2::4, :, :], axis = 2)[:, 11], numpy.mean(curvatures[3::4, :, :], axis = 2)[:, 11])"
   ]
  },
  {
   "cell_type": "code",
   "execution_count": null,
   "metadata": {},
   "outputs": [],
   "source": [
    "import pandas as pd"
   ]
  },
  {
   "cell_type": "code",
   "execution_count": null,
   "metadata": {},
   "outputs": [],
   "source": [
    "df = pd.DataFrame({\"Emphasis\": numpy.tile([\"Speed\", \"Accuracy\"], 30),\n",
    "                   \"Rotation\": numpy.tile([\"Sudden\", \"Sudden\", \"Gradual\", \"Gradual\"], 15),\n",
    "                   \"Curvature\": numpy.nanmean(curvatures[:, :, :], axis = 2)[:, 11]})"
   ]
  },
  {
   "cell_type": "code",
   "execution_count": null,
   "metadata": {},
   "outputs": [],
   "source": []
  },
  {
   "cell_type": "code",
   "execution_count": null,
   "metadata": {},
   "outputs": [],
   "source": [
    "d_melt = pd.melt(df.reset_index(), id_vars=['index'], value_vars=['Sudden_Speed', 'Sudden_Accuracy', 'Gradual_Speed', 'Gradual_Accuracy'])"
   ]
  },
  {
   "cell_type": "code",
   "execution_count": null,
   "metadata": {},
   "outputs": [],
   "source": [
    "model = ols('Curvature ~ C(Emphasis)*C(Rotation)', data=df).fit()"
   ]
  },
  {
   "cell_type": "code",
   "execution_count": null,
   "metadata": {
    "scrolled": true
   },
   "outputs": [],
   "source": [
    "aov_table = sm.stats.anova_lm(model)\n",
    "print(aov_table)"
   ]
  },
  {
   "cell_type": "code",
   "execution_count": null,
   "metadata": {},
   "outputs": [],
   "source": [
    "model.summary()"
   ]
  },
  {
   "cell_type": "code",
   "execution_count": null,
   "metadata": {},
   "outputs": [],
   "source": [
    "aov_table"
   ]
  },
  {
   "cell_type": "code",
   "execution_count": null,
   "metadata": {},
   "outputs": [],
   "source": [
    "df.boxplot('Curvature', by='Rotation', figsize=(8, 6))"
   ]
  },
  {
   "cell_type": "code",
   "execution_count": null,
   "metadata": {},
   "outputs": [],
   "source": [
    "import statsmodels.formula.api as smf\n",
    "md = smf.mixedlm('Curvature ~ C(Emphasis)*C(Rotation)', data=df, groups = df['Emphasis'])\n",
    "mdf = md.fit()\n"
   ]
  },
  {
   "cell_type": "code",
   "execution_count": null,
   "metadata": {},
   "outputs": [],
   "source": [
    "mdf.summary()"
   ]
  },
  {
   "cell_type": "code",
   "execution_count": null,
   "metadata": {},
   "outputs": [],
   "source": []
  },
  {
   "cell_type": "code",
   "execution_count": null,
   "metadata": {},
   "outputs": [],
   "source": [
    "model_lm = sm.OLS(numpy.ravel(curvatures[0, 11, :]),numpy.array(range(64))).fit()"
   ]
  },
  {
   "cell_type": "code",
   "execution_count": null,
   "metadata": {},
   "outputs": [],
   "source": [
    "model_lm.summary()"
   ]
  },
  {
   "cell_type": "code",
   "execution_count": null,
   "metadata": {},
   "outputs": [],
   "source": [
    "plt.plot(range(64), numpy.mean(curvatures[3::4, :, :], axis = 0)[10])\n"
   ]
  },
  {
   "cell_type": "code",
   "execution_count": 36,
   "metadata": {},
   "outputs": [],
   "source": [
    "def calc_curvature_raw(data, block, trial, percentage_trajectory):\n",
    "    traj = scipy.io.loadmat('data/data{data}/actual_trajectories/trajectories{block}.mat'.format(block=str(block), data=str(data)))\n",
    "    trajx, trajy = traj['x'][0][trial][0], traj['y'][0][trial][0]\n",
    "    targetx, targety = trajx[-1], trajy[-1]\n",
    "    partial_trajx, partial_trajy = get_partial_traj(data, block, trial, percentage_trajectory)\n",
    "    angles = list()\n",
    "    for i in range(len(partial_trajx[:-1])):\n",
    "        #print (trajx[i], trajy[i])\n",
    "        angles.append(calc_angle(numpy.array([partial_trajx[i], partial_trajy[i]]), numpy.array([partial_trajx[i+1], partial_trajy[i+1]]), numpy.array([trajx[-1], trajy[-1]])))\n",
    "    return angles"
   ]
  },
  {
   "cell_type": "code",
   "execution_count": 37,
   "metadata": {},
   "outputs": [
    {
     "name": "stderr",
     "output_type": "stream",
     "text": [
      "C:\\Users\\Tejas\\Anaconda3\\lib\\site-packages\\ipykernel_launcher.py:5: RuntimeWarning: invalid value encountered in arccos\n",
      "  \"\"\"\n",
      "C:\\Users\\Tejas\\Anaconda3\\lib\\site-packages\\ipykernel_launcher.py:4: RuntimeWarning: invalid value encountered in true_divide\n",
      "  after removing the cwd from sys.path.\n",
      "C:\\Users\\Tejas\\Anaconda3\\lib\\site-packages\\ipykernel_launcher.py:4: RuntimeWarning: invalid value encountered in double_scalars\n",
      "  after removing the cwd from sys.path.\n"
     ]
    },
    {
     "name": "stdout",
     "output_type": "stream",
     "text": [
      "0\n",
      "10\n",
      "20\n",
      "30\n",
      "40\n",
      "50\n"
     ]
    }
   ],
   "source": [
    "raw_curvatures = numpy.zeros((60, 12, 64), dtype = object)\n",
    "for data in range(60):\n",
    "    for block in range(12):\n",
    "        for trial in range(64):\n",
    "            raw_curvatures[data][block][trial] = calc_curvature_raw(data+1000, block, trial, 1)\n",
    "    if data%10 == 0:\n",
    "        print (data)"
   ]
  },
  {
   "cell_type": "code",
   "execution_count": 16,
   "metadata": {},
   "outputs": [],
   "source": [
    "def plot_distributions(perc_trajectory):\n",
    "    raw_curvatures = numpy.zeros((60, 11, 64), dtype = object)\n",
    "    for data in range(60):\n",
    "        for block in range(11):\n",
    "            for trial in range(64):\n",
    "                raw_curvatures[data][block][trial] = calc_curvature_raw(data+1000, block, trial, perc_trajectory)\n",
    "        if data%10 == 0:\n",
    "            print (data)\n",
    "    \n",
    "    fig, ax = plt.subplots(2, 2, sharex = True, sharey = True)\n",
    "    ax[0, 0].hist(numpy.hstack(numpy.ravel(raw_curvatures[0::4])))\n",
    "    ax[0, 0].set_title('Sudden Speed')\n",
    "    ax[0, 1].hist(numpy.hstack(numpy.ravel(raw_curvatures[1::4])))\n",
    "    ax[0, 1].set_title('Sudden Accuracy')\n",
    "    ax[1, 0].hist(numpy.hstack(numpy.ravel(raw_curvatures[2::4])))\n",
    "    ax[1, 0].set_title('Gradual Speed')\n",
    "    ax[1, 1].hist(numpy.hstack(numpy.ravel(raw_curvatures[3::4])))\n",
    "    ax[1, 1].set_title('Gradual Accuracy')\n",
    "    title_text = str(perc_trajectory*100) + \"% of the trajectory\"\n",
    "    fig.suptitle(title_text)\n",
    "    #plt.grid(False)\n",
    "    #plt.tick_params(labelcolor=\"none\", bottom=False, left=False)\n",
    "    plt.xlabel('Curvature Errors in degrees')\n",
    "    plt.ylabel('Frequencies')"
   ]
  },
  {
   "cell_type": "code",
   "execution_count": 17,
   "metadata": {},
   "outputs": [
    {
     "name": "stderr",
     "output_type": "stream",
     "text": [
      "C:\\Users\\Tejas\\Anaconda3\\lib\\site-packages\\ipykernel_launcher.py:4: RuntimeWarning: invalid value encountered in true_divide\n",
      "  after removing the cwd from sys.path.\n"
     ]
    },
    {
     "name": "stdout",
     "output_type": "stream",
     "text": [
      "0\n"
     ]
    },
    {
     "name": "stderr",
     "output_type": "stream",
     "text": [
      "C:\\Users\\Tejas\\Anaconda3\\lib\\site-packages\\ipykernel_launcher.py:4: RuntimeWarning: invalid value encountered in double_scalars\n",
      "  after removing the cwd from sys.path.\n",
      "C:\\Users\\Tejas\\Anaconda3\\lib\\site-packages\\ipykernel_launcher.py:5: RuntimeWarning: invalid value encountered in arccos\n",
      "  \"\"\"\n"
     ]
    },
    {
     "name": "stdout",
     "output_type": "stream",
     "text": [
      "10\n",
      "20\n",
      "30\n",
      "40\n",
      "50\n"
     ]
    },
    {
     "data": {
      "image/png": "[encoded data removed]",
      "text/plain": [
       "<Figure size 432x288 with 4 Axes>"
      ]
     },
     "metadata": {
      "needs_background": "light"
     },
     "output_type": "display_data"
    }
   ],
   "source": [
    "plot_distributions(0.1)"
   ]
  },
  {
   "cell_type": "code",
   "execution_count": 277,
   "metadata": {},
   "outputs": [
    {
     "data": {
      "text/plain": [
       "array([105.19240901,  52.12501635,  63.66231183])"
      ]
     },
     "execution_count": 277,
     "metadata": {},
     "output_type": "execute_result"
    }
   ],
   "source": [
    "##### numpy.quantile(range(len(raw_curvatures[1][1][1])), [0.1, 0.3, 0.5, 0.7, 0.9])\n",
    "raw_curvatures[1][1][1][120]\n",
    "numpy.take(raw_curvatures[1][1][1], [24.1, 72.3, 120.5])"
   ]
  },
  {
   "cell_type": "markdown",
   "metadata": {},
   "source": [
    "## Dist Analyses with Medians"
   ]
  },
  {
   "cell_type": "code",
   "execution_count": 39,
   "metadata": {},
   "outputs": [
    {
     "name": "stdout",
     "output_type": "stream",
     "text": [
      "Some error\n",
      "Some error\n",
      "Some error\n",
      "Some error\n",
      "Some error\n",
      "Some error\n",
      "Some error\n",
      "Some error\n",
      "Some error\n",
      "Some error\n",
      "Some error\n",
      "Some error\n",
      "Some error\n",
      "Some error\n",
      "Some error\n",
      "Some error\n",
      "Some error\n",
      "Some error\n",
      "Some error\n",
      "Some error\n",
      "Some error\n",
      "Some error\n",
      "Some error\n",
      "Some error\n",
      "Some error\n",
      "Some error\n",
      "Some error\n",
      "Some error\n",
      "Some error\n",
      "Some error\n",
      "Some error\n",
      "Some error\n",
      "Some error\n",
      "Some error\n",
      "Some error\n",
      "Some error\n",
      "Some error\n",
      "Some error\n",
      "Some error\n",
      "Some error\n",
      "Some error\n",
      "Some error\n",
      "Some error\n",
      "Some error\n",
      "Some error\n",
      "Some error\n",
      "Some error\n",
      "Some error\n",
      "Some error\n",
      "Some error\n",
      "Some error\n",
      "Some error\n",
      "Some error\n",
      "Some error\n",
      "Some error\n",
      "Some error\n",
      "Some error\n",
      "Some error\n",
      "Some error\n",
      "Some error\n",
      "Some error\n",
      "Some error\n",
      "Some error\n",
      "Some error\n",
      "Some error\n",
      "Some error\n",
      "Some error\n",
      "Some error\n",
      "Some error\n",
      "Some error\n",
      "Some error\n",
      "Some error\n",
      "Some error\n",
      "Some error\n",
      "Some error\n",
      "Some error\n",
      "Some error\n",
      "Some error\n",
      "Some error\n",
      "Some error\n",
      "Some error\n",
      "Some error\n",
      "Some error\n",
      "Some error\n",
      "Some error\n",
      "Some error\n",
      "Some error\n",
      "Some error\n",
      "Some error\n",
      "Some error\n",
      "Some error\n",
      "Some error\n",
      "Some error\n",
      "Some error\n",
      "Some error\n",
      "Some error\n",
      "Some error\n",
      "Some error\n",
      "Some error\n",
      "Some error\n",
      "Some error\n",
      "Some error\n",
      "Some error\n",
      "Some error\n",
      "Some error\n",
      "Some error\n",
      "Some error\n",
      "Some error\n",
      "Some error\n",
      "Some error\n",
      "Some error\n",
      "Some error\n",
      "Some error\n",
      "Some error\n",
      "Some error\n",
      "Some error\n",
      "Some error\n",
      "Some error\n",
      "Some error\n",
      "Some error\n",
      "Some error\n",
      "Some error\n",
      "Some error\n",
      "Some error\n",
      "Some error\n",
      "Some error\n",
      "Some error\n",
      "Some error\n",
      "Some error\n",
      "Some error\n",
      "Some error\n",
      "Some error\n"
     ]
    }
   ],
   "source": [
    "quantile_curvatures = numpy.zeros((60, 12, 64, 5))\n",
    "for data in range(60):\n",
    "    for block in range(12):\n",
    "        for trial in range(64):\n",
    "            try:\n",
    "                quantile_index = numpy.quantile(range(len(raw_curvatures[data][block][trial])), [0.1, 0.3, 0.5, 0.7, 0.9]).tolist()\n",
    "                quantile_curvatures[data][block][trial] = numpy.take(raw_curvatures[data][block][trial], quantile_index)\n",
    "            except:\n",
    "                print('Some error')"
   ]
  },
  {
   "cell_type": "markdown",
   "metadata": {},
   "source": [
    "## Dist Analysis with Means"
   ]
  },
  {
   "cell_type": "code",
   "execution_count": 40,
   "metadata": {},
   "outputs": [
    {
     "name": "stderr",
     "output_type": "stream",
     "text": [
      "C:\\Users\\Tejas\\Anaconda3\\lib\\site-packages\\ipykernel_launcher.py:7: RuntimeWarning: Mean of empty slice\n",
      "  import sys\n",
      "C:\\Users\\Tejas\\Anaconda3\\lib\\site-packages\\ipykernel_launcher.py:8: RuntimeWarning: Mean of empty slice\n",
      "  \n",
      "C:\\Users\\Tejas\\Anaconda3\\lib\\site-packages\\ipykernel_launcher.py:10: RuntimeWarning: Mean of empty slice\n",
      "  # Remove the CWD from sys.path while we load stuff.\n",
      "C:\\Users\\Tejas\\Anaconda3\\lib\\site-packages\\ipykernel_launcher.py:9: RuntimeWarning: Mean of empty slice\n",
      "  if __name__ == '__main__':\n"
     ]
    },
    {
     "name": "stdout",
     "output_type": "stream",
     "text": [
      "Some Error\n"
     ]
    },
    {
     "name": "stderr",
     "output_type": "stream",
     "text": [
      "C:\\Users\\Tejas\\Anaconda3\\lib\\site-packages\\ipykernel_launcher.py:11: RuntimeWarning: Mean of empty slice\n",
      "  # This is added back by InteractiveShellApp.init_path()\n"
     ]
    },
    {
     "name": "stdout",
     "output_type": "stream",
     "text": [
      "Some Error\n",
      "Some Error\n",
      "Some Error\n",
      "Some Error\n",
      "Some Error\n",
      "Some Error\n",
      "Some Error\n",
      "Some Error\n",
      "Some Error\n",
      "Some Error\n",
      "Some Error\n",
      "Some Error\n",
      "Some Error\n",
      "Some Error\n",
      "Some Error\n",
      "Some Error\n",
      "Some Error\n",
      "Some Error\n",
      "Some Error\n",
      "Some Error\n",
      "Some Error\n",
      "Some Error\n",
      "Some Error\n",
      "Some Error\n",
      "Some Error\n",
      "Some Error\n",
      "Some Error\n",
      "Some Error\n",
      "Some Error\n",
      "Some Error\n",
      "Some Error\n",
      "Some Error\n",
      "Some Error\n",
      "Some Error\n",
      "Some Error\n",
      "Some Error\n",
      "Some Error\n",
      "Some Error\n",
      "Some Error\n",
      "Some Error\n",
      "Some Error\n",
      "Some Error\n",
      "Some Error\n",
      "Some Error\n",
      "Some Error\n",
      "Some Error\n",
      "Some Error\n",
      "Some Error\n",
      "Some Error\n",
      "Some Error\n",
      "Some Error\n",
      "Some Error\n",
      "Some Error\n",
      "Some Error\n",
      "Some Error\n",
      "Some Error\n",
      "Some Error\n",
      "Some Error\n",
      "Some Error\n",
      "Some Error\n",
      "Some Error\n",
      "Some Error\n",
      "Some Error\n",
      "Some Error\n",
      "Some Error\n",
      "Some Error\n",
      "Some Error\n",
      "Some Error\n",
      "Some Error\n",
      "Some Error\n",
      "Some Error\n",
      "Some Error\n",
      "Some Error\n",
      "Some Error\n",
      "Some Error\n",
      "Some Error\n",
      "Some Error\n",
      "Some Error\n",
      "Some Error\n",
      "Some Error\n",
      "Some Error\n",
      "Some Error\n",
      "Some Error\n",
      "Some Error\n",
      "Some Error\n",
      "Some Error\n",
      "Some Error\n",
      "Some Error\n",
      "Some Error\n",
      "Some Error\n",
      "Some Error\n",
      "Some Error\n",
      "Some Error\n",
      "Some Error\n",
      "Some Error\n",
      "Some Error\n",
      "Some Error\n",
      "Some Error\n",
      "Some Error\n",
      "Some Error\n",
      "Some Error\n",
      "Some Error\n",
      "Some Error\n",
      "Some Error\n",
      "Some Error\n",
      "Some Error\n",
      "Some Error\n",
      "Some Error\n",
      "Some Error\n",
      "Some Error\n",
      "Some Error\n",
      "Some Error\n",
      "Some Error\n",
      "Some Error\n",
      "Some Error\n",
      "Some Error\n",
      "Some Error\n",
      "Some Error\n",
      "Some Error\n",
      "Some Error\n",
      "Some Error\n",
      "Some Error\n",
      "Some Error\n",
      "Some Error\n",
      "Some Error\n",
      "Some Error\n",
      "Some Error\n",
      "Some Error\n",
      "Some Error\n",
      "Some Error\n",
      "Some Error\n"
     ]
    }
   ],
   "source": [
    "quantile_curvatures_means = numpy.zeros((60, 12, 64, 5))\n",
    "for data in range(60):\n",
    "    for block in range(12):\n",
    "        for trial in range(64):\n",
    "            try:\n",
    "                quantile_index = numpy.quantile(range(len(raw_curvatures[data][block][trial])), [0.2, 0.4, 0.6, 0.8, 1]).tolist()\n",
    "                quantile_curvatures_means[data][block][trial] = numpy.array([numpy.nanmean(raw_curvatures[data][block][trial][0:int(quantile_index[0])]), \n",
    "                                                                             numpy.nanmean(raw_curvatures[data][block][trial][int(quantile_index[0]):int(quantile_index[1])]), \n",
    "                                                                             numpy.nanmean(raw_curvatures[data][block][trial][int(quantile_index[1]):int(quantile_index[2])]),\n",
    "                                                                             numpy.nanmean(raw_curvatures[data][block][trial][int(quantile_index[2]):int(quantile_index[3])]), \n",
    "                                                                             numpy.nanmean(raw_curvatures[data][block][trial][int(quantile_index[3]):int(quantile_index[4])])])\n",
    "            except:\n",
    "                print('Some Error')\n"
   ]
  },
  {
   "cell_type": "code",
   "execution_count": 41,
   "metadata": {},
   "outputs": [
    {
     "data": {
      "text/plain": [
       "array([[  7.25723129,   7.89879504,  11.78018992,   8.0269385 ,\n",
       "          6.72183201],\n",
       "       [ 11.39347434,   9.48449036,   5.33067629,   3.35498624,\n",
       "          2.58665775],\n",
       "       [171.87102229, 160.39648972,          nan,  60.09339125,\n",
       "          7.59652155],\n",
       "       [  3.51105922,   4.73921822,   5.16257206,   4.4695911 ,\n",
       "          4.25939148],\n",
       "       [ 83.38398315,  80.26493666,  81.27143666,  72.10887336,\n",
       "         39.00746293],\n",
       "       [  6.02106844,   3.37856236,   2.68908076,   5.12081416,\n",
       "          3.98464743],\n",
       "       [  6.52725673,   5.98363939,   8.93214358,   5.48378961,\n",
       "          5.66849726],\n",
       "       [  7.03126216,   5.19231654,   3.78409817,   5.26224562,\n",
       "          5.37910076],\n",
       "       [  4.64249729,   4.53943104,  10.25147557,  14.99842387,\n",
       "         30.41477352],\n",
       "       [  8.65771559,  24.71699516,  74.26949859, 128.78516246,\n",
       "        153.34023115],\n",
       "       [ 22.85403047,  23.14077397,  31.02892057,  61.9194449 ,\n",
       "         81.36823418],\n",
       "       [  8.62443343,  11.51655657,  19.79056006,  18.73466395,\n",
       "         38.43344426],\n",
       "       [  3.60190781,   4.92190335,   5.53466164,   7.96377645,\n",
       "          5.59073741],\n",
       "       [  7.57297693,  10.89962655,   7.33814266,   0.80377515,\n",
       "          4.6300975 ],\n",
       "       [142.71239095, 109.12497563,  31.21074851,  23.62085585,\n",
       "          9.82387826],\n",
       "       [  6.84067708,   3.57611053,   4.54722225,  11.77694348,\n",
       "         23.3691448 ],\n",
       "       [153.09137779, 146.15281464,  13.12569033,  13.03278678,\n",
       "          3.4986689 ],\n",
       "       [  5.14596373,  26.31856298,  67.83426618,  64.31676998,\n",
       "         15.5724277 ],\n",
       "       [  4.72332331,   9.75123164,   9.31451893,   8.84084043,\n",
       "          5.29625425],\n",
       "       [  6.56534906,   5.7292448 ,   8.29421795,   9.20837078,\n",
       "          9.54712594],\n",
       "       [159.033037  , 130.15169523,  10.86426019,  23.94946781,\n",
       "         61.18384962],\n",
       "       [ 85.4313214 ,  76.53064478,  62.94820314,  68.62896794,\n",
       "         17.09673105],\n",
       "       [  5.79461664,   6.68269196,   3.14387178,  10.10568549,\n",
       "          8.58946834],\n",
       "       [ 84.62711568,  82.0793438 ,  75.66955137,  77.83775356,\n",
       "         44.06545156],\n",
       "       [  6.85452771,   4.30236047,   3.9378803 ,   4.03838249,\n",
       "          8.58457936],\n",
       "       [  6.42168832,   8.34136962,   6.53152942,   4.2817764 ,\n",
       "          2.66455989],\n",
       "       [ 18.13172868,  26.92066665,   9.56732131,   3.47560813,\n",
       "          5.49758619],\n",
       "       [160.7150278 ,          nan,   6.11073121,   3.85179774,\n",
       "          5.93797274],\n",
       "       [  4.4698296 ,   5.61542871,   3.34509313,   4.28800348,\n",
       "          2.72191746],\n",
       "       [  9.3716519 ,   5.9020218 ,   5.6489646 ,   4.82172673,\n",
       "          3.75983748],\n",
       "       [ 18.65133348,  26.7255208 ,  32.5584634 ,  44.09653942,\n",
       "         66.42019367],\n",
       "       [  4.82047652,   8.11603257,   7.0877077 ,   5.93429132,\n",
       "          4.05349217]])"
      ]
     },
     "execution_count": 41,
     "metadata": {},
     "output_type": "execute_result"
    }
   ],
   "source": [
    "quantile_curvatures_means[5][2][:32]"
   ]
  },
  {
   "cell_type": "code",
   "execution_count": 42,
   "metadata": {},
   "outputs": [],
   "source": [
    "def plot_curv_dist(block, quantile_curvatures, fist_traj, last_traj):\n",
    "    y = numpy.array([numpy.nanmean(numpy.nanmean(quantile_curvatures[0::4, :, fist_traj:last_traj], axis = 2), axis = 0)[block],\n",
    "                     numpy.nanmean(numpy.nanmean(quantile_curvatures[1::4, :, fist_traj:last_traj], axis = 2), axis = 0)[block],\n",
    "                     numpy.nanmean(numpy.nanmean(quantile_curvatures[2::4, :, fist_traj:last_traj], axis = 2), axis = 0)[block],\n",
    "                     numpy.nanmean(numpy.nanmean(quantile_curvatures[3::4, :, fist_traj:last_traj], axis = 2), axis = 0)[block]])\n",
    "    y_err = numpy.array([stat.sem(numpy.nanmean(quantile_curvatures[0::4, :, fist_traj:last_traj], axis = 2), axis = 0)[block],\n",
    "                       stat.sem(numpy.nanmean(quantile_curvatures[1::4, :, fist_traj:last_traj], axis = 2), axis = 0)[block],\n",
    "                       stat.sem(numpy.nanmean(quantile_curvatures[2::4, :, fist_traj:last_traj], axis = 2), axis = 0)[block],\n",
    "                       stat.sem(numpy.nanmean(quantile_curvatures[3::4, :, fist_traj:last_traj], axis = 2), axis = 0)[block]])\n",
    "    print (y[1])\n",
    "    plot_0 = plt.errorbar(range(5), y[0], y_err[0], capsize = 3)\n",
    "    plot_1 = plt.errorbar(range(5), y[1], y_err[1], capsize = 3)\n",
    "    plot_2 = plt.errorbar(range(5), y[2], y_err[2], capsize = 3)\n",
    "    plot_3 = plt.errorbar(range(5), y[3], y_err[3], capsize = 3)\n",
    "\n",
    "    plt.legend((plot_0, plot_1, plot_2, plot_3), ('Sudden Speed', 'Sudden Accuracy', 'Gradual Accuracy', 'Gradual Speed'))\n",
    "    title = 'Block: ' + str(block)\n",
    "    plt.title(title)\n",
    "    plt.xlabel('Quantile points')\n",
    "    plt.ylabel('Angular errror')"
   ]
  },
  {
   "cell_type": "code",
   "execution_count": 47,
   "metadata": {},
   "outputs": [
    {
     "name": "stdout",
     "output_type": "stream",
     "text": [
      "[26.12535719 25.3884783  26.2745213  24.16556444 18.02243538]\n"
     ]
    },
    {
     "data": {
      "image/png": "[encoded data removed]",
      "text/plain": [
       "<Figure size 432x288 with 1 Axes>"
      ]
     },
     "metadata": {
      "needs_background": "light"
     },
     "output_type": "display_data"
    }
   ],
   "source": [
    "plot_curv_dist(0, quantile_curvatures, 0, 32)"
   ]
  },
  {
   "cell_type": "code",
   "execution_count": null,
   "metadata": {},
   "outputs": [],
   "source": [
    "## plot_curv_dist(11, quantile_curvatures)"
   ]
  },
  {
   "cell_type": "code",
   "execution_count": 171,
   "metadata": {},
   "outputs": [
    {
     "data": {
      "text/plain": [
       "array([ 3.,  9., 15., 21., 27.])"
      ]
     },
     "execution_count": 171,
     "metadata": {},
     "output_type": "execute_result"
    }
   ],
   "source": [
    "numpy.quantile(range(len(raw_curvatures[data][block][trial])), [0.1, 0.3, 0.5, 0.7, 0.9])"
   ]
  },
  {
   "cell_type": "code",
   "execution_count": 40,
   "metadata": {},
   "outputs": [
    {
     "data": {
      "text/plain": [
       "array([38.31014677, 51.05531969, 59.38756186, 50.08345444, 45.54493824])"
      ]
     },
     "execution_count": 40,
     "metadata": {},
     "output_type": "execute_result"
    }
   ],
   "source": [
    "numpy.nanmean(numpy.nanmean(quantile_curvatures[0::4, :, :16], axis = 2), axis = 0)[block]"
   ]
  },
  {
   "cell_type": "code",
   "execution_count": 39,
   "metadata": {},
   "outputs": [
    {
     "data": {
      "text/plain": [
       "(15, 12, 16, 5)"
      ]
     },
     "execution_count": 39,
     "metadata": {},
     "output_type": "execute_result"
    }
   ],
   "source": []
  },
  {
   "cell_type": "markdown",
   "metadata": {},
   "source": []
  },
  {
   "cell_type": "code",
   "execution_count": null,
   "metadata": {},
   "outputs": [],
   "source": []
  },
  {
   "cell_type": "code",
   "execution_count": null,
   "metadata": {},
   "outputs": [],
   "source": []
  },
  {
   "cell_type": "code",
   "execution_count": null,
   "metadata": {},
   "outputs": [],
   "source": []
  },
  {
   "cell_type": "code",
   "execution_count": null,
   "metadata": {},
   "outputs": [],
   "source": []
  },
  {
   "cell_type": "markdown",
   "metadata": {},
   "source": []
  },
  {
   "cell_type": "code",
   "execution_count": null,
   "metadata": {},
   "outputs": [],
   "source": []
  },
  {
   "cell_type": "markdown",
   "metadata": {},
   "source": []
  },
  {
   "cell_type": "code",
   "execution_count": null,
   "metadata": {},
   "outputs": [],
   "source": []
  },
  {
   "cell_type": "code",
   "execution_count": null,
   "metadata": {},
   "outputs": [],
   "source": []
  },
  {
   "cell_type": "code",
   "execution_count": null,
   "metadata": {},
   "outputs": [],
   "source": []
  },
  {
   "cell_type": "markdown",
   "metadata": {},
   "source": []
  },
  {
   "cell_type": "code",
   "execution_count": null,
   "metadata": {},
   "outputs": [],
   "source": []
  },
  {
   "cell_type": "markdown",
   "metadata": {},
   "source": []
  },
  {
   "cell_type": "code",
   "execution_count": null,
   "metadata": {},
   "outputs": [],
   "source": []
  },
  {
   "cell_type": "markdown",
   "metadata": {},
   "source": []
  },
  {
   "cell_type": "code",
   "execution_count": null,
   "metadata": {},
   "outputs": [],
   "source": []
  },
  {
   "cell_type": "code",
   "execution_count": null,
   "metadata": {},
   "outputs": [],
   "source": []
  },
  {
   "cell_type": "code",
   "execution_count": null,
   "metadata": {},
   "outputs": [],
   "source": []
  },
  {
   "cell_type": "markdown",
   "metadata": {},
   "source": []
  },
  {
   "cell_type": "code",
   "execution_count": null,
   "metadata": {},
   "outputs": [],
   "source": []
  },
  {
   "cell_type": "code",
   "execution_count": null,
   "metadata": {},
   "outputs": [],
   "source": []
  },
  {
   "cell_type": "code",
   "execution_count": null,
   "metadata": {},
   "outputs": [],
   "source": []
  },
  {
   "cell_type": "code",
   "execution_count": null,
   "metadata": {},
   "outputs": [],
   "source": []
  },
  {
   "cell_type": "code",
   "execution_count": null,
   "metadata": {},
   "outputs": [],
   "source": []
  },
  {
   "cell_type": "code",
   "execution_count": null,
   "metadata": {},
   "outputs": [],
   "source": []
  },
  {
   "cell_type": "code",
   "execution_count": null,
   "metadata": {},
   "outputs": [],
   "source": []
  },
  {
   "cell_type": "markdown",
   "metadata": {},
   "source": []
  },
  {
   "cell_type": "code",
   "execution_count": null,
   "metadata": {},
   "outputs": [],
   "source": []
  },
  {
   "cell_type": "code",
   "execution_count": null,
   "metadata": {},
   "outputs": [],
   "source": []
  },
  {
   "cell_type": "code",
   "execution_count": null,
   "metadata": {},
   "outputs": [],
   "source": []
  },
  {
   "cell_type": "code",
   "execution_count": null,
   "metadata": {},
   "outputs": [],
   "source": []
  },
  {
   "cell_type": "code",
   "execution_count": null,
   "metadata": {},
   "outputs": [],
   "source": [
    "\n"
   ]
  },
  {
   "cell_type": "code",
   "execution_count": null,
   "metadata": {},
   "outputs": [],
   "source": []
  },
  {
   "cell_type": "code",
   "execution_count": null,
   "metadata": {},
   "outputs": [],
   "source": [
    "\n"
   ]
  },
  {
   "cell_type": "code",
   "execution_count": null,
   "metadata": {},
   "outputs": [],
   "source": []
  },
  {
   "cell_type": "code",
   "execution_count": null,
   "metadata": {},
   "outputs": [],
   "source": []
  },
  {
   "cell_type": "code",
   "execution_count": null,
   "metadata": {},
   "outputs": [],
   "source": []
  },
  {
   "cell_type": "code",
   "execution_count": null,
   "metadata": {},
   "outputs": [],
   "source": []
  },
  {
   "cell_type": "code",
   "execution_count": null,
   "metadata": {},
   "outputs": [],
   "source": []
  },
  {
   "cell_type": "code",
   "execution_count": null,
   "metadata": {},
   "outputs": [],
   "source": []
  },
  {
   "cell_type": "code",
   "execution_count": null,
   "metadata": {},
   "outputs": [],
   "source": []
  },
  {
   "cell_type": "code",
   "execution_count": null,
   "metadata": {},
   "outputs": [],
   "source": []
  },
  {
   "cell_type": "code",
   "execution_count": null,
   "metadata": {},
   "outputs": [],
   "source": []
  },
  {
   "cell_type": "code",
   "execution_count": null,
   "metadata": {},
   "outputs": [],
   "source": []
  },
  {
   "cell_type": "code",
   "execution_count": null,
   "metadata": {},
   "outputs": [],
   "source": []
  },
  {
   "cell_type": "code",
   "execution_count": null,
   "metadata": {},
   "outputs": [],
   "source": []
  },
  {
   "cell_type": "markdown",
   "metadata": {},
   "source": [
    "Value = (1 - alpha)*(1/error) + (alpha)*(1/Total time)"
   ]
  },
  {
   "cell_type": "code",
   "execution_count": null,
   "metadata": {},
   "outputs": [],
   "source": []
  },
  {
   "cell_type": "code",
   "execution_count": null,
   "metadata": {},
   "outputs": [],
   "source": []
  },
  {
   "cell_type": "code",
   "execution_count": null,
   "metadata": {},
   "outputs": [],
   "source": []
  },
  {
   "cell_type": "code",
   "execution_count": null,
   "metadata": {},
   "outputs": [],
   "source": []
  },
  {
   "cell_type": "code",
   "execution_count": null,
   "metadata": {},
   "outputs": [],
   "source": []
  },
  {
   "cell_type": "code",
   "execution_count": null,
   "metadata": {},
   "outputs": [],
   "source": []
  },
  {
   "cell_type": "code",
   "execution_count": null,
   "metadata": {},
   "outputs": [],
   "source": []
  },
  {
   "cell_type": "code",
   "execution_count": null,
   "metadata": {},
   "outputs": [],
   "source": []
  },
  {
   "cell_type": "code",
   "execution_count": null,
   "metadata": {},
   "outputs": [],
   "source": []
  },
  {
   "cell_type": "code",
   "execution_count": null,
   "metadata": {},
   "outputs": [],
   "source": []
  },
  {
   "cell_type": "code",
   "execution_count": null,
   "metadata": {},
   "outputs": [],
   "source": []
  },
  {
   "cell_type": "code",
   "execution_count": null,
   "metadata": {
    "scrolled": true
   },
   "outputs": [],
   "source": []
  },
  {
   "cell_type": "code",
   "execution_count": null,
   "metadata": {},
   "outputs": [],
   "source": []
  },
  {
   "cell_type": "code",
   "execution_count": null,
   "metadata": {},
   "outputs": [],
   "source": []
  }
 ],
 "metadata": {
  "kernelspec": {
   "display_name": "Python 3",
   "language": "python",
   "name": "python3"
  },
  "language_info": {
   "codemirror_mode": {
    "name": "ipython",
    "version": 3
   },
   "file_extension": ".py",
   "mimetype": "text/x-python",
   "name": "python",
   "nbconvert_exporter": "python",
   "pygments_lexer": "ipython3",
   "version": "3.7.0"
  }
 },
 "nbformat": 4,
 "nbformat_minor": 2
}
