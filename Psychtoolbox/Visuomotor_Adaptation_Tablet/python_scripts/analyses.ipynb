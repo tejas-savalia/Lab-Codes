{
 "cells": [
  {
   "cell_type": "code",
   "execution_count": 1,
   "metadata": {},
   "outputs": [],
   "source": [
    "import scipy.io\n",
    "import numpy\n",
    "import matplotlib.pyplot as plt\n",
    "from ipywidgets import interact, interactive, fixed, interact_manual\n",
    "import ipywidgets as widgets\n",
    "import scipy.stats as stat\n",
    "from sklearn.linear_model import LinearRegression\n",
    "import statsmodels.api as sm\n",
    "import statsmodels.formula.api as smf\n",
    "from multiprocessing import Pool\n",
    "from scipy import stats\n",
    "import math"
   ]
  },
  {
   "cell_type": "code",
   "execution_count": null,
   "metadata": {},
   "outputs": [],
   "source": [
    "SMALL_SIZE = 8\n",
    "MEDIUM_SIZE = 15\n",
    "BIGGER_SIZE = 30\n",
    "\n",
    "plt.rc('font', size=SMALL_SIZE)          # controls default text sizes\n",
    "plt.rc('axes', titlesize=BIGGER_SIZE)     # fontsize of the axes title\n",
    "plt.rc('axes', labelsize=BIGGER_SIZE)    # fontsize of the x and y labels\n",
    "plt.rc('xtick', labelsize=BIGGER_SIZE)    # fontsize of the tick labels\n",
    "plt.rc('ytick', labelsize=MEDIUM_SIZE)    # fontsize of the tick labels\n",
    "plt.rc('legend', fontsize=MEDIUM_SIZE)    # legend fontsize\n",
    "plt.rc('figure', titlesize=MEDIUM_SIZE)  # fontsize of the figure title"
   ]
  },
  {
   "cell_type": "markdown",
   "metadata": {},
   "source": [
    "# Lineplots first!\n",
    "## Odd is Accuracy Even is Speed\n",
    "\n",
    "## 0 1 are sudden"
   ]
  },
  {
   "cell_type": "code",
   "execution_count": null,
   "metadata": {},
   "outputs": [],
   "source": []
  },
  {
   "cell_type": "code",
   "execution_count": null,
   "metadata": {},
   "outputs": [],
   "source": []
  },
  {
   "cell_type": "code",
   "execution_count": 85,
   "metadata": {},
   "outputs": [],
   "source": [
    "def lineplots(data, block, first, last):\n",
    "    traj = scipy.io.loadmat('data/data{data}/actual_trajectories/trajectories{block}.mat'.format(block=str(block), data=str(data)))\n",
    "\n",
    "    for i in range(first,last):\n",
    "        plt.plot(traj['x'][0][i][0], traj['y'][0][i][0])\n"
   ]
  },
  {
   "cell_type": "code",
   "execution_count": 86,
   "metadata": {},
   "outputs": [
    {
     "data": {
      "application/vnd.jupyter.widget-view+json": {
       "model_id": "b61dc62027e44653b722232272302eba",
       "version_major": 2,
       "version_minor": 0
      },
      "text/plain": [
       "interactive(children=(ToggleButtons(description='data', options=(1000, 1001, 1002, 1003, 1004, 1005, 1006, 100…"
      ]
     },
     "metadata": {},
     "output_type": "display_data"
    },
    {
     "data": {
      "text/plain": [
       "<function __main__.lineplots(data, block, first, last)>"
      ]
     },
     "execution_count": 86,
     "metadata": {},
     "output_type": "execute_result"
    }
   ],
   "source": [
    "interact(lineplots, data = widgets.ToggleButtons(options = range(1000, 1060)), block = widgets.IntSlider(max = 11, min = 0, value = 0, step = 1),\n",
    "        first = widgets.IntSlider(max = 63, min = 0, value = 0, step = 1), last = widgets.IntSlider(max = 64, min = 1, value = 1, step = 1))"
   ]
  },
  {
   "cell_type": "markdown",
   "metadata": {},
   "source": [
    "## Error Vs Time plots\n",
    "\n",
    "Divide Trajectories by 5. Calculate mean and standard deviation of difference between ideal and actual trajectories (both divided by 5) for all 64 trajectories in a block. \n",
    "From the movement time, calculate how long it took to finish each of these 5 trajectories. Calculate mean and standard deviation across 64 trials. \n",
    "\n",
    "This might as well just be equal to the mean and standard deviation of the **number** of points in each of those five quantiles for all trajectories.\n",
    "\n"
   ]
  },
  {
   "cell_type": "markdown",
   "metadata": {},
   "source": [
    "# Error Calculation\n",
    "Takes in a trajectory loaded from the mat file and calculates error by comparing minimum distance from x and y coordinates of the actual trajectory to the ideal trajectory"
   ]
  },
  {
   "cell_type": "code",
   "execution_count": 4,
   "metadata": {},
   "outputs": [],
   "source": [
    "#square_coord = scipy.io.loadmat('data/pilot/pilot_1/squares/coordinates/squares3.mat')\n",
    "#traj = scipy.io.loadmat('data/pilot/pilot_1/actual_trajectories/trajectories3.mat')\n",
    "#def calc_error(traj, square_coord):\n",
    "# The version above uses square coordinates\n",
    "def calc_error(traj):    \n",
    "    error = list()\n",
    "    for j in range(64):\n",
    "        traj_dist = list()\n",
    "        trajx, trajy = traj['x'][0][j][0], traj['y'][0][j][0]\n",
    "        #end_pointx, end_pointy  = square_coord['squareX'][0][j], square_coord['squareY'][0][j]\n",
    "        end_pointx, end_pointy  = traj['x'][0][j][0][-1], traj['y'][0][j][0][-1]\n",
    "\n",
    "        xline = numpy.linspace(0, end_pointx, 500)\n",
    "        yline = numpy.linspace(0, end_pointy, 500)\n",
    "\n",
    "        for i in range(len(trajx)):\n",
    "            xdist = min(numpy.absolute(xline-trajx[i]))\n",
    "            ydist = min(numpy.absolute(yline-trajy[i]))\n",
    "            dist = numpy.sqrt(xdist**2 + ydist**2)\n",
    "            traj_dist.append(dist)\n",
    "        error.append(traj_dist)\n",
    "    return error\n",
    "#dist = numpy.linalg.norm(numpy.cross(p2-p1, p1-p3))/numpy.linalg.norm(p2-p1)"
   ]
  },
  {
   "cell_type": "code",
   "execution_count": null,
   "metadata": {},
   "outputs": [],
   "source": [
    "#traj['x'][0][0][0][-1]"
   ]
  },
  {
   "cell_type": "code",
   "execution_count": null,
   "metadata": {},
   "outputs": [],
   "source": [
    "#calc_error(traj, square_coord)"
   ]
  },
  {
   "cell_type": "markdown",
   "metadata": {},
   "source": [
    "Participant 1 Gradual Change Accuracy emphasis\n",
    "\n",
    "Participant 2 Sudden change Accuracy emphasis\n",
    "\n",
    "Participant 3 Gradual change Speed emphasis\n",
    "\n",
    "# Time quintiles:\n",
    "X axis is cummulative sum of the number of samples in the trajectory, averaged across all trajectories. \n",
    "Y axis is the mean of error in that time quantile, averaged across all trajectories\n"
   ]
  },
  {
   "cell_type": "code",
   "execution_count": 5,
   "metadata": {},
   "outputs": [],
   "source": [
    "def errorvstime(data, block, num_trajectories):\n",
    "    traj = scipy.io.loadmat('data/data{data}/actual_trajectories/trajectories{block}.mat'.format(block=str(block), data=str(data)))\n",
    "    ideal_traj = scipy.io.loadmat('data/data{data}/ideal_trajectories/trajectories{block}.mat'.format(block = str(block), data=str(data)))\n",
    "    #squares = scipy.io.loadmat('data/participants/data{data}/squares/coordinates/squares{block}.mat'.format(block=str(block), data=str(data)))\n",
    "    #xdiff = (ideal_traj['idealXs'] - traj['x'])\n",
    "    #ydiff = (ideal_traj['idealYs'] - traj['y'])\n",
    "    error = calc_error(traj)[:num_trajectories]\n",
    "    #error = xdiff**2+ydiff**2\n",
    "    #print (error)\n",
    "    error_means = numpy.zeros((num_trajectories, 5))\n",
    "    for i in range(num_trajectories):\n",
    "        n = len(error[i])\n",
    "        for j in range(5):\n",
    "            error_means[i, j] = numpy.mean(error[i][int(numpy.floor((j)*n/5)):int(numpy.floor((j+1)*n/5))])\n",
    "#            error_means[i, j] = numpy.median(error[i][int(numpy.floor((j)*n/5)):int(numpy.floor((j+1)*n/5))])\n",
    "         #error_means[i, ] = error_means[i, ]/max(error_means[i,])\n",
    "\n",
    "    \n",
    "    time_means = numpy.zeros((num_trajectories, 5))\n",
    "\n",
    "    for i in range(num_trajectories):\n",
    "        n = len(error[i])\n",
    "        for j in range(5):\n",
    "            time_means[i, j] = len(error[i][int(numpy.floor((j)*n/5)):int(numpy.floor((j+1)*n/5))])\n",
    "    times = numpy.cumsum(numpy.mean(time_means, axis = 0))\n",
    "    plt.errorbar(times, numpy.mean(error_means, axis = 0), xerr = stat.sem(time_means, axis = 0), yerr = stat.sem(error_means, axis = 0))\n",
    "    plt.ylabel('Error')\n",
    "    plt.xlabel('Time')\n",
    "    plt.xlim(0, 100)\n",
    "    plt.ylim(-20, 70)\n",
    "    return times, numpy.mean(error_means, axis = 0)"
   ]
  },
  {
   "cell_type": "code",
   "execution_count": null,
   "metadata": {},
   "outputs": [],
   "source": []
  },
  {
   "cell_type": "markdown",
   "metadata": {},
   "source": [
    "Calculate error vs time for each block collapsed across participants."
   ]
  },
  {
   "cell_type": "code",
   "execution_count": 6,
   "metadata": {},
   "outputs": [
    {
     "name": "stderr",
     "output_type": "stream",
     "text": [
      "C:\\Users\\Tejas\\Anaconda3\\lib\\site-packages\\numpy\\core\\fromnumeric.py:2920: RuntimeWarning: Mean of empty slice.\n",
      "  out=out, **kwargs)\n",
      "C:\\Users\\Tejas\\Anaconda3\\lib\\site-packages\\numpy\\core\\_methods.py:85: RuntimeWarning: invalid value encountered in double_scalars\n",
      "  ret = ret.dtype.type(ret / rcount)\n"
     ]
    },
    {
     "data": {
      "image/png": "[encoded data removed]",
      "text/plain": [
       "<Figure size 432x288 with 1 Axes>"
      ]
     },
     "metadata": {
      "needs_background": "light"
     },
     "output_type": "display_data"
    }
   ],
   "source": [
    "times = numpy.zeros((60, 5))\n",
    "errors = numpy.zeros((60, 5))\n",
    "for i in range(1000, 1059):\n",
    "    temp = errorvstime(i, 11, 32)\n",
    "    times[i-1000] = temp[0]\n",
    "    errors[i-1000] = temp[1] \n",
    "    #print (i)"
   ]
  },
  {
   "cell_type": "code",
   "execution_count": null,
   "metadata": {},
   "outputs": [],
   "source": []
  },
  {
   "cell_type": "code",
   "execution_count": 7,
   "metadata": {},
   "outputs": [],
   "source": [
    "times_speed_sudden = numpy.zeros((60, 5))\n",
    "times_speed_gradual = numpy.zeros((60, 5))\n",
    "times_accuracy_sudden = numpy.zeros((60, 5))\n",
    "times_accuracy_gradual = numpy.zeros((60, 5))\n",
    "errors_speed_sudden = numpy.zeros((60, 5))\n",
    "errors_speed_gradual = numpy.zeros((60, 5))\n",
    "errors_accuracy_sudden = numpy.zeros((60, 5))\n",
    "errors_accuracy_gradual = numpy.zeros((60, 5))\n",
    "for i in range(len(times)):\n",
    "    if i%4 == 0:\n",
    "        times_speed_sudden[i] = times[i]\n",
    "        errors_speed_sudden[i] = errors[i]\n",
    "    elif i%4 == 1:\n",
    "        times_accuracy_sudden[i] = times[i]\n",
    "        errors_accuracy_sudden[i] = errors[i]\n",
    "    elif i%4 == 2:\n",
    "        times_speed_gradual[i] = times[i]\n",
    "        errors_speed_gradual[i] = errors[i]\n",
    "    elif i%4 == 3:\n",
    "        times_accuracy_gradual[i] = times[i]\n",
    "        errors_accuracy_gradual[i] = errors[i]\n",
    "       "
   ]
  },
  {
   "cell_type": "code",
   "execution_count": 8,
   "metadata": {},
   "outputs": [],
   "source": [
    "times_speed_gradual = numpy.reshape(times_speed_gradual[numpy.nonzero(times_speed_gradual)], (int(len(times_speed_gradual[numpy.nonzero(times_speed_gradual)])/5), 5))\n",
    "errors_speed_gradual = numpy.reshape(errors_speed_gradual[numpy.nonzero(errors_speed_gradual)], (int(len(errors_speed_gradual[numpy.nonzero(errors_speed_gradual)])/5), 5))\n",
    "times_speed_sudden = numpy.reshape(times_speed_sudden[numpy.nonzero(times_speed_sudden)], (int(len(times_speed_sudden[numpy.nonzero(times_speed_sudden)])/5), 5))\n",
    "errors_speed_sudden = numpy.reshape(errors_speed_sudden[numpy.nonzero(errors_speed_sudden)], (int(len(errors_speed_sudden[numpy.nonzero(errors_speed_sudden)])/5), 5))\n",
    "times_accuracy_gradual = numpy.reshape(times_accuracy_gradual[numpy.nonzero(times_accuracy_gradual)], (int(len(times_accuracy_gradual[numpy.nonzero(times_accuracy_gradual)])/5), 5))\n",
    "errors_accuracy_gradual = numpy.reshape(errors_accuracy_gradual[numpy.nonzero(errors_accuracy_gradual)], (int(len(errors_accuracy_gradual[numpy.nonzero(errors_accuracy_gradual)])/5), 5))\n",
    "times_accuracy_sudden = numpy.reshape(times_accuracy_sudden[numpy.nonzero(times_accuracy_sudden)], (int(len(times_accuracy_sudden[numpy.nonzero(times_accuracy_sudden)])/5), 5))\n",
    "errors_accuracy_sudden = numpy.reshape(errors_accuracy_sudden[numpy.nonzero(errors_accuracy_sudden)], (int(len(errors_accuracy_sudden[numpy.nonzero(errors_accuracy_sudden)])/5), 5))\n"
   ]
  },
  {
   "cell_type": "code",
   "execution_count": null,
   "metadata": {},
   "outputs": [],
   "source": [
    "times_speed_sudden"
   ]
  },
  {
   "cell_type": "code",
   "execution_count": null,
   "metadata": {},
   "outputs": [],
   "source": [
    "#numpy.mean(times_accuracy_gradual, axis = 0)\n",
    "#numpy.nanmean(errors_speed_sudden, axis = 0)\n",
    "#stat.sem(times_accuracy_gradual, axis = 0)\n",
    "#numpy.nanstd(errors_accuracy_gradual, axis = 0)/numpy.sqrt(errors_accuracy_gradual)\n",
    "#numpy.nanstd(errors_accuracy_gradual)\n",
    "\n",
    "numpy.shape(numpy.nonzero(times_accuracy_sudden))"
   ]
  },
  {
   "cell_type": "code",
   "execution_count": 9,
   "metadata": {},
   "outputs": [
    {
     "data": {
      "text/plain": [
       "Text(0, 0.5, 'Error')"
      ]
     },
     "execution_count": 9,
     "metadata": {},
     "output_type": "execute_result"
    },
    {
     "data": {
      "image/png": "[encoded data removed]",
      "text/plain": [
       "<Figure size 432x288 with 1 Axes>"
      ]
     },
     "metadata": {
      "needs_background": "light"
     },
     "output_type": "display_data"
    }
   ],
   "source": [
    "fig,(ax1)=plt.subplots(1,1)\n",
    "ax1.errorbar(numpy.nanmean(times_speed_gradual, axis = 0), numpy.nanmean(errors_speed_gradual, axis = 0), xerr=stat.sem(times_speed_gradual, axis = 0), yerr=numpy.nanstd(errors_speed_gradual, axis = 0)/numpy.sqrt(len(errors_speed_gradual)), label = \"speed_gradual\")\n",
    "ax1.errorbar(numpy.nanmean(times_speed_sudden, axis = 0), numpy.nanmean(errors_speed_sudden, axis = 0), xerr=stat.sem(times_speed_sudden, axis = 0), yerr=numpy.nanstd(errors_speed_sudden, axis = 0)/numpy.sqrt(len(errors_speed_sudden)), label = \"speed_sudden\")\n",
    "ax1.errorbar(numpy.nanmean(times_accuracy_gradual, axis = 0), numpy.nanmean(errors_accuracy_gradual, axis = 0), xerr=stat.sem(times_accuracy_gradual, axis = 0), yerr=numpy.nanstd(errors_accuracy_gradual, axis = 0)/numpy.sqrt(len(errors_accuracy_gradual)), label = \"accuracy_gradual\")\n",
    "ax1.errorbar(numpy.nanmean(times_accuracy_sudden, axis = 0), numpy.nanmean(errors_accuracy_sudden, axis = 0), xerr=stat.sem(times_accuracy_sudden, axis = 0), yerr=numpy.nanstd(errors_accuracy_sudden, axis = 0)/numpy.sqrt(len(errors_accuracy_sudden)), label = \"accuracy_sudden\")\n",
    "ax1.legend()\n",
    "plt.xlabel('Mean time point in quintile')\n",
    "plt.ylabel('Error')\n"
   ]
  },
  {
   "cell_type": "markdown",
   "metadata": {},
   "source": [
    "# Time Bar plots"
   ]
  },
  {
   "cell_type": "code",
   "execution_count": null,
   "metadata": {},
   "outputs": [],
   "source": [
    "pos = [0, 1, 2, 3]\n",
    "handles = plt.bar(pos, [numpy.median(times_speed_gradual), numpy.median(times_accuracy_gradual), numpy.median(times_speed_sudden), numpy.median(times_accuracy_sudden)], yerr = [numpy.mean(stat.sem(times_speed_gradual)), numpy.mean(stat.sem(times_accuracy_gradual)), numpy.mean(stat.sem(times_speed_sudden)), numpy.mean(stat.sem(times_accuracy_sudden))], color = ['Blue', 'Green', 'Blue', 'Green'], capsize = 3)\n",
    "plt.xticks([0.5, 2.5], ['Gradual', 'Sudden'])\n",
    "plt.ylabel('Times')\n",
    "plt.xlabel('Condition')\n",
    "\n",
    "plt.legend([handles[0], handles[1]], ['Speed', 'Accuracy'])\n",
    "#handles[0]"
   ]
  },
  {
   "cell_type": "code",
   "execution_count": null,
   "metadata": {},
   "outputs": [],
   "source": [
    "numpy.ravel(times_accuracy_gradual)"
   ]
  },
  {
   "cell_type": "code",
   "execution_count": null,
   "metadata": {},
   "outputs": [],
   "source": [
    "pos = [1, 2]\n",
    "yerr = [numpy.mean(stat.sem(numpy.concatenate((times_speed_gradual, times_accuracy_gradual)))), numpy.mean(stat.sem(numpy.concatenate((times_speed_sudden, times_accuracy_sudden))))]\n",
    "plt.bar(pos, [numpy.mean(numpy.concatenate((times_speed_gradual, times_accuracy_gradual))), numpy.mean(numpy.concatenate((times_speed_sudden, times_accuracy_sudden)))], yerr = yerr, color = 'blue')\n",
    "plt.xticks(pos, ['Gradual', 'Sudden'])\n",
    "plt.ylabel('Times')\n",
    "plt.xlabel('Condition')\n"
   ]
  },
  {
   "cell_type": "code",
   "execution_count": null,
   "metadata": {},
   "outputs": [],
   "source": [
    "pos = [0, 1]\n",
    "yerr = [numpy.mean(stat.sem(numpy.concatenate((times_speed_gradual, times_speed_sudden)))), numpy.mean(stat.sem(numpy.concatenate((times_accuracy_gradual, times_accuracy_sudden))))]\n",
    "plt.bar(pos, [numpy.mean(numpy.concatenate((times_speed_gradual, times_speed_sudden))), numpy.mean(numpy.concatenate((times_accuracy_gradual, times_accuracy_sudden)))], yerr = yerr)\n",
    "plt.xticks(pos, ['Speed', 'Accuracy'])\n",
    "plt.ylabel('Times')\n",
    "plt.xlabel('Condition')\n"
   ]
  },
  {
   "cell_type": "markdown",
   "metadata": {},
   "source": [
    "# Error Bar plots"
   ]
  },
  {
   "cell_type": "code",
   "execution_count": null,
   "metadata": {},
   "outputs": [],
   "source": [
    "errors_accuracy_gradual"
   ]
  },
  {
   "cell_type": "code",
   "execution_count": null,
   "metadata": {},
   "outputs": [],
   "source": [
    "#path = 'C:/Users/Tejas/OneDrive/Research/Conferences and Papers/Psychonomics 2019/errors/'\n",
    "#plt.rcParams[('figure.figsize')] = [8, 6]\n",
    "pos = [0, 1, 2, 3]\n",
    "y = [numpy.nanmean(errors_accuracy_sudden),\n",
    "    numpy.nanmean(errors_speed_sudden),\n",
    "    numpy.nanmean(errors_accuracy_gradual),\n",
    "     numpy.nanmean(errors_speed_gradual)\n",
    "    ]\n",
    "y_sem = [numpy.mean(stat.sem(times_accuracy_sudden)),\n",
    "        numpy.mean(stat.sem(times_speed_sudden)),\n",
    "        numpy.mean(stat.sem(times_accuracy_gradual)),\n",
    "        numpy.mean(stat.sem(times_speed_gradual))]\n",
    "#handles = plt.bar(pos, yerr = [numpy.mean(stat.sem(times_speed_gradual)), numpy.nanmean(stat.sem(errors_accuracy_gradual)), numpy.nanmean(stat.sem(times_speed_sudden)), numpy.mean(stat.sem(times_accuracy_sudden))], color = ['Blue', 'Green', 'Blue', 'Green'])\n",
    "plt.bar(0, y[0], yerr = y_sem[0], capsize = 3, color = 'Blue', alpha = 1)\n",
    "plt.bar(2, y[1], yerr = y_sem[1], capsize = 3, color = 'Blue', alpha = 0.5)\n",
    "plt.bar(1, y[2], yerr = y_sem[2], capsize = 3, color = 'Green', alpha = 1)\n",
    "plt.bar(3, y[3], yerr = y_sem[3], capsize = 3, color = 'Green', alpha = 0.5)\n",
    "\n",
    "plt.xticks([0, 2, 1, 3], ['Sudden \\n Accuracy', 'Sudden \\n Speed', 'Gradual \\n Accuracy', 'Gradual \\nSpeed'], rotation = 'vertical')\n",
    "plt.ylabel('RMSE')\n",
    "plt.xlabel('Condition')\n",
    "#plt.legend([handles[0], handles[1]], ['Speed', 'Accuracy'])\n",
    "plt.title('Error')\n",
    "#plt.tight_layout()\n",
    "#plt.savefig(path+'transfer.png', dpi = 300)\n"
   ]
  },
  {
   "cell_type": "code",
   "execution_count": null,
   "metadata": {},
   "outputs": [],
   "source": [
    "yerr = [numpy.nanmean(stat.sem(numpy.concatenate((errors_speed_gradual, errors_speed_sudden)))), numpy.nanmean(stat.sem(numpy.concatenate((errors_accuracy_gradual, errors_accuracy_sudden))))]\n",
    "plt.bar(['Speed', 'Accuracy'], [numpy.nanmean(numpy.concatenate((errors_speed_gradual, errors_speed_sudden))), numpy.nanmean(numpy.concatenate((errors_accuracy_gradual, errors_accuracy_sudden)))], yerr = yerr)\n",
    "plt.xlabel('Emphasis')\n",
    "plt.ylabel('Error')\n",
    "print (yerr)"
   ]
  },
  {
   "cell_type": "code",
   "execution_count": null,
   "metadata": {},
   "outputs": [],
   "source": [
    "yerr = [numpy.nanmean(stat.sem(numpy.concatenate((errors_speed_gradual, errors_accuracy_gradual)))), numpy.nanmean(stat.sem(numpy.concatenate((errors_speed_sudden, errors_accuracy_sudden))))]\n",
    "plt.bar(['Gradual', 'Sudden'], [numpy.nanmean(numpy.concatenate((errors_speed_gradual, errors_accuracy_gradual))), numpy.nanmean(numpy.concatenate((errors_speed_sudden, errors_accuracy_sudden)))], yerr = yerr)\n",
    "plt.xlabel('Condition')\n",
    "plt.ylabel('Error')\n",
    "print (yerr)"
   ]
  },
  {
   "cell_type": "code",
   "execution_count": null,
   "metadata": {},
   "outputs": [],
   "source": [
    "interact(errorvstime, data = widgets.ToggleButtons(options = range(1,27)), \n",
    "                      block = widgets.IntSlider(max = 11, min = 0, value = 0, step = 1))"
   ]
  },
  {
   "cell_type": "code",
   "execution_count": null,
   "metadata": {},
   "outputs": [],
   "source": []
  },
  {
   "cell_type": "code",
   "execution_count": null,
   "metadata": {},
   "outputs": [],
   "source": []
  },
  {
   "cell_type": "code",
   "execution_count": 5,
   "metadata": {},
   "outputs": [],
   "source": [
    "aesthetics = numpy.zeros((4, 3, 15))"
   ]
  },
  {
   "cell_type": "code",
   "execution_count": 6,
   "metadata": {},
   "outputs": [],
   "source": [
    "aesthetics[0, 0, :] = numpy.array([9, 4, 2, 10, 9, 8, 7, 5, 7, 9, 10, 8, 9, 2, 6])\n",
    "aesthetics[0, 1, :] = numpy.array([10, 2, 1, 5, 5, 2, 4, 1, 3, 1, 9, 6, 2, 1, 4])\n",
    "aesthetics[0, 2, :] = numpy.array([10, 7, 1, 4 ,9, 4, 3, 2, 6, 1, 1, 2, 1, 1, 7])\n",
    "aesthetics[1, 0, :] = numpy.array([10, 4, 10, 10, 3, 8, 7, 10, 6, 2, 2, 10, 5, 1, 1])\n",
    "aesthetics[1, 1, :] = numpy.array([2, 2, 1, 3, 1, 3, 2, 4, 2, 1, 1, 5, 1, 1, 1])\n",
    "aesthetics[1, 2, :] = numpy.array([7, 1, 1, 8, 1, 2, 3, 2, 4, 2, 1, 5, 2, 1, 1])\n",
    "aesthetics[2, 0, :] = numpy.array([1, 1, 1, 1, 2, 2, 3, 1, 1, 1, 2, 1, 1, 1, 2])\n",
    "aesthetics[2, 1, :] = numpy.array([3, 2, 4, 4, 3, 2, 3, 5, 4, 4, 6, 3, 2, 3, 2])\n",
    "aesthetics[2, 2, :] = numpy.array([7, 3, 6, 7, 8, 5, 3, 4, 5, 9, 1, 4, 7, 4, 5])\n",
    "aesthetics[3, 0, :] = numpy.array([1, 2, 1, 1, 1, 1, 1, 1, 1, 1, 1, 2, 1, 1, 1])\n",
    "aesthetics[3, 1, :] = numpy.array([3, 1, 2, 1, 4, 3, 2, 2, 2, 1, 2, 2, 1, 2, 1 ])\n",
    "aesthetics[3, 2, :] = numpy.array([3, 4, 2, 2, 4, 2, 5, 4, 1, 5, 2, 6, 4, 2, 2])"
   ]
  },
  {
   "cell_type": "code",
   "execution_count": 12,
   "metadata": {},
   "outputs": [
    {
     "ename": "TypeError",
     "evalue": "Cannot cast array data from dtype('float64') to dtype('int64') according to the rule 'safe'",
     "output_type": "error",
     "traceback": [
      "\u001b[1;31m---------------------------------------------------------------------------\u001b[0m",
      "\u001b[1;31mTypeError\u001b[0m                                 Traceback (most recent call last)",
      "\u001b[1;32m<ipython-input-12-cf455c977512>\u001b[0m in \u001b[0;36m<module>\u001b[1;34m()\u001b[0m\n\u001b[1;32m----> 1\u001b[1;33m \u001b[0mplt\u001b[0m\u001b[1;33m.\u001b[0m\u001b[0mbar\u001b[0m\u001b[1;33m(\u001b[0m\u001b[0mrange\u001b[0m\u001b[1;33m(\u001b[0m\u001b[1;36m1\u001b[0m\u001b[1;33m,\u001b[0m \u001b[1;36m11\u001b[0m\u001b[1;33m)\u001b[0m\u001b[1;33m,\u001b[0m \u001b[0mnumpy\u001b[0m\u001b[1;33m.\u001b[0m\u001b[0mbincount\u001b[0m\u001b[1;33m(\u001b[0m\u001b[0maesthetics\u001b[0m\u001b[1;33m[\u001b[0m\u001b[1;36m0\u001b[0m\u001b[1;33m,\u001b[0m \u001b[1;36m0\u001b[0m\u001b[1;33m,\u001b[0m \u001b[1;33m:\u001b[0m\u001b[1;33m]\u001b[0m\u001b[1;33m)\u001b[0m\u001b[1;33m)\u001b[0m\u001b[1;33m\u001b[0m\u001b[0m\n\u001b[0m",
      "\u001b[1;31mTypeError\u001b[0m: Cannot cast array data from dtype('float64') to dtype('int64') according to the rule 'safe'"
     ]
    }
   ],
   "source": [
    "plt.bar(range(1, 11), numpy.bincount(aesthetics[0, 0, :]))"
   ]
  },
  {
   "cell_type": "code",
   "execution_count": 15,
   "metadata": {},
   "outputs": [],
   "source": [
    "from collections import Counter"
   ]
  },
  {
   "cell_type": "code",
   "execution_count": 17,
   "metadata": {},
   "outputs": [],
   "source": [
    "recounted = Counter(aesthetics[0, 0, :])"
   ]
  },
  {
   "cell_type": "code",
   "execution_count": 22,
   "metadata": {},
   "outputs": [
    {
     "data": {
      "text/plain": [
       "(array([54, 40, 17, 20, 12,  7,  9,  5,  7,  9], dtype=int64),\n",
       " array([ 1. ,  1.9,  2.8,  3.7,  4.6,  5.5,  6.4,  7.3,  8.2,  9.1, 10. ]))"
      ]
     },
     "execution_count": 22,
     "metadata": {},
     "output_type": "execute_result"
    }
   ],
   "source": [
    "numpy.histogram(aesthetics)"
   ]
  },
  {
   "cell_type": "code",
   "execution_count": null,
   "metadata": {},
   "outputs": [],
   "source": []
  },
  {
   "cell_type": "code",
   "execution_count": 11,
   "metadata": {},
   "outputs": [
    {
     "data": {
      "image/png": "[encoded data removed]",
      "text/plain": [
       "<Figure size 432x288 with 1 Axes>"
      ]
     },
     "metadata": {
      "needs_background": "light"
     },
     "output_type": "display_data"
    }
   ],
   "source": [
    "for i in range(4):\n",
    "    for j in range(3):\n",
    "        plt.hist(aesthetics[i, j, :])"
   ]
  },
  {
   "cell_type": "code",
   "execution_count": null,
   "metadata": {},
   "outputs": [],
   "source": []
  },
  {
   "cell_type": "code",
   "execution_count": null,
   "metadata": {},
   "outputs": [],
   "source": []
  },
  {
   "cell_type": "code",
   "execution_count": null,
   "metadata": {},
   "outputs": [],
   "source": []
  },
  {
   "cell_type": "code",
   "execution_count": null,
   "metadata": {},
   "outputs": [],
   "source": []
  },
  {
   "cell_type": "code",
   "execution_count": null,
   "metadata": {},
   "outputs": [],
   "source": []
  },
  {
   "cell_type": "code",
   "execution_count": null,
   "metadata": {},
   "outputs": [],
   "source": []
  },
  {
   "cell_type": "code",
   "execution_count": null,
   "metadata": {},
   "outputs": [],
   "source": []
  },
  {
   "cell_type": "code",
   "execution_count": null,
   "metadata": {},
   "outputs": [],
   "source": []
  },
  {
   "cell_type": "code",
   "execution_count": null,
   "metadata": {},
   "outputs": [],
   "source": []
  },
  {
   "cell_type": "code",
   "execution_count": null,
   "metadata": {},
   "outputs": [],
   "source": []
  },
  {
   "cell_type": "code",
   "execution_count": null,
   "metadata": {},
   "outputs": [],
   "source": []
  },
  {
   "cell_type": "code",
   "execution_count": null,
   "metadata": {},
   "outputs": [],
   "source": []
  },
  {
   "cell_type": "code",
   "execution_count": null,
   "metadata": {},
   "outputs": [],
   "source": []
  },
  {
   "cell_type": "code",
   "execution_count": null,
   "metadata": {},
   "outputs": [],
   "source": []
  },
  {
   "cell_type": "markdown",
   "metadata": {},
   "source": [
    "Boundary is how good my plan is. Boundary affected by speed/accuracy.\n",
    "\n",
    "Drift rate affected by gradual vs sudden."
   ]
  },
  {
   "cell_type": "code",
   "execution_count": 4,
   "metadata": {},
   "outputs": [],
   "source": [
    "def errors(data, block):\n",
    "    traj = scipy.io.loadmat('data/data{data}/actual_trajectories/trajectories{block}.mat'.format(block=str(block), data=str(data)))\n",
    "    ideal_traj = scipy.io.loadmat('data/data{data}/ideal_trajectories/trajectories{block}.mat'.format(block = str(block), data=str(data)))\n",
    "    #print (traj)\n",
    "    #squares = scipy.io.loadmat('data/participants/data{data}/squares/coordinates/squares{block}.mat'.format(block=str(block), data=str(data)))\n",
    "    #xdiff = (ideal_traj['idealXs'] - traj['x'])\n",
    "    #ydiff = (ideal_traj['idealYs'] - traj['y'])\n",
    "    error = calc_error(traj)\n",
    "    return numpy.array(error)"
   ]
  },
  {
   "cell_type": "code",
   "execution_count": null,
   "metadata": {},
   "outputs": [],
   "source": [
    "temp = errors(1, 1)"
   ]
  },
  {
   "cell_type": "code",
   "execution_count": null,
   "metadata": {},
   "outputs": [],
   "source": []
  },
  {
   "cell_type": "code",
   "execution_count": 5,
   "metadata": {},
   "outputs": [],
   "source": [
    "def all_errors(num_participants, num_blocks, num_trajectories):\n",
    "    error_sum = numpy.zeros((num_participants, num_blocks, num_trajectories))\n",
    "    error_std = numpy.zeros((num_participants, num_blocks, num_trajectories))\n",
    "    for participant in range(num_participants):\n",
    "        for block in range(num_blocks):\n",
    "            temp = errors(participant+1000, block)\n",
    "            for trial in range(num_trajectories):\n",
    "                error_sum[participant, block, trial] = numpy.nanmean(temp[trial])\n",
    "                error_std[participant, block, trial] = stat.sem(temp[trial])\n",
    "        print (participant)\n",
    "            #error_sum1.append(numpy.mean(numpy.sum(errors(1, block), axis=0)))\n",
    "            #error_std1.append(numpy.std(numpy.sum(errors(1, block), axis=0)))\n",
    "            #error_sum2.append(numpy.mean(numpy.sum(errors(2, block), axis=0)))\n",
    "            #error_std2.append(numpy.std(numpy.sum(errors(2, block), axis=0)))\n",
    "            #error_sum3.append(numpy.mean(numpy.sum(errors(3, block), axis=0)))\n",
    "            #error_std3.append(numpy.std(numpy.sum(errors(3, block), axis=0)))    \n",
    "    return error_sum, error_std"
   ]
  },
  {
   "cell_type": "code",
   "execution_count": 10,
   "metadata": {},
   "outputs": [
    {
     "name": "stdout",
     "output_type": "stream",
     "text": [
      "0\n",
      "1\n",
      "2\n",
      "3\n",
      "4\n",
      "5\n",
      "6\n",
      "7\n",
      "8\n",
      "9\n",
      "10\n",
      "11\n",
      "12\n",
      "13\n",
      "14\n",
      "15\n",
      "16\n",
      "17\n",
      "18\n",
      "19\n",
      "20\n",
      "21\n",
      "22\n",
      "23\n",
      "24\n",
      "25\n",
      "26\n",
      "27\n",
      "28\n",
      "29\n",
      "30\n",
      "31\n",
      "32\n",
      "33\n",
      "34\n",
      "35\n",
      "36\n",
      "37\n",
      "38\n",
      "39\n",
      "40\n",
      "41\n",
      "42\n",
      "43\n",
      "44\n",
      "45\n",
      "46\n",
      "47\n",
      "48\n",
      "49\n",
      "50\n",
      "51\n",
      "52\n",
      "53\n",
      "54\n",
      "55\n",
      "56\n",
      "57\n",
      "58\n",
      "59\n"
     ]
    }
   ],
   "source": [
    "error_sum, error_std = all_errors(60, 12, 16)"
   ]
  },
  {
   "cell_type": "code",
   "execution_count": null,
   "metadata": {},
   "outputs": [],
   "source": []
  },
  {
   "cell_type": "code",
   "execution_count": null,
   "metadata": {},
   "outputs": [],
   "source": []
  },
  {
   "cell_type": "code",
   "execution_count": null,
   "metadata": {},
   "outputs": [],
   "source": []
  },
  {
   "cell_type": "code",
   "execution_count": null,
   "metadata": {},
   "outputs": [],
   "source": []
  },
  {
   "cell_type": "code",
   "execution_count": null,
   "metadata": {},
   "outputs": [],
   "source": []
  },
  {
   "cell_type": "code",
   "execution_count": null,
   "metadata": {},
   "outputs": [],
   "source": []
  },
  {
   "cell_type": "code",
   "execution_count": null,
   "metadata": {},
   "outputs": [],
   "source": [
    "plt.plot(numpy.mean((error_sum[1:-1:2]), axis = 0), 'k-')\n",
    "plt.plot(numpy.mean((error_sum[2:-1:2]), axis = 0), 'k-')\n",
    "\n",
    "plot1 = plt.fill_between(range(12), numpy.mean(error_sum[1:-1:2], axis = 0) + stat.sem(error_sum[1:-1:2]), numpy.mean(error_sum[1:-1:2], axis = 0) - stat.sem(error_sum[1:-1:2]), alpha = 0.5)\n",
    "plot2 = plt.fill_between(range(12), numpy.mean(error_sum[2:-1:2], axis = 0) + stat.sem(error_sum[2:-1:2]), numpy.mean(error_sum[2:-1:2], axis = 0) - stat.sem(error_sum[2:-1:2]), alpha = 0.5)\n",
    "plt.legend((plot1, plot2), (\"Accuracy\", \"Speed\"))\n",
    "#error_sum[3]\n",
    "#error_sum1\n",
    "plt.xlabel('Block')\n",
    "plt.ylabel('Error')"
   ]
  },
  {
   "cell_type": "code",
   "execution_count": null,
   "metadata": {},
   "outputs": [],
   "source": []
  },
  {
   "cell_type": "code",
   "execution_count": 2,
   "metadata": {},
   "outputs": [],
   "source": [
    "def plot_error_means(errors, path):\n",
    "    #plt.rcParams[('figure.figsize')] = [8, 6]\n",
    "\n",
    "    mean_errors = numpy.mean(error_sum, axis =2)\n",
    "    plt.errorbar(range(1, 11), numpy.mean(numpy.mean(error_sum, axis = 2)[3::4], axis = 0)[1:-1], yerr = stat.sem(numpy.mean(error_sum, axis = 2)[1::4], axis = 0)[1:-1], capsize=3)\n",
    "    plt.errorbar(0, numpy.mean(numpy.mean(error_sum, axis = 2)[3::4], axis = 0)[0], yerr = stat.sem(numpy.mean(error_sum, axis = 2)[3::4], axis = 0)[0], capsize=3, fmt = 's')\n",
    "    plt.errorbar(11, numpy.mean(numpy.mean(error_sum, axis = 2)[3::4], axis = 0)[11], yerr = stat.sem(numpy.mean(error_sum, axis = 2)[3::4], axis = 0)[11], capsize=3, fmt = 's')\n",
    "    plt.text(x=5, y = 80, s = '14 Participants')\n",
    "    plt.ylabel('RMSE')\n",
    "    plt.xlabel('Block')\n",
    "    plt.title('Gradual Accuracy')\n",
    "    plt.xticks(range(12), ['0', '1', '2', '3', '4', '5', '6', '7', '8', '9', '10', '11'])\n",
    "\n",
    "    #y_lim_max = numpy.max((mean_errors)) + 5\n",
    "    y_lim_max = 100\n",
    "    plt.ylim((0, y_lim_max))\n",
    "#    print(max(np.mean(quantiles[3::4][:, :, 3], axis = 0)[1:-1]) + 0.7)\n",
    "    #plt.tight_layout()\n",
    "    #plt.savefig(path+'learning_GA.png', dpi = 600)\n",
    "    plt.show()\n",
    "\n",
    "    plt.errorbar(range(1, 11), numpy.mean(numpy.mean(error_sum, axis = 2)[2::4], axis = 0)[1:-1], yerr = stat.sem(numpy.mean(error_sum, axis = 2)[2::4], axis = 0)[1:-1], capsize=3)\n",
    "    plt.errorbar(0, numpy.mean(numpy.mean(error_sum, axis = 2)[2::4], axis = 0)[0], yerr = stat.sem(numpy.mean(error_sum, axis = 2)[2::4], axis = 0)[0], capsize=3, fmt = 's')\n",
    "    plt.errorbar(11, numpy.mean(numpy.mean(error_sum, axis = 2)[2::4], axis = 0)[11], yerr = stat.sem(numpy.mean(error_sum, axis = 2)[2::4], axis = 0)[11], capsize=3, fmt = 's')\n",
    "    plt.text(x=5, y = 80, s = '15 Participants')\n",
    "    plt.ylabel('RMSE')\n",
    "    plt.xlabel('Block')\n",
    "    plt.xticks(range(12), ['0', '1', '2', '3', '4', '5', '6', '7', '8', '9', '10', '11'])\n",
    "    plt.title('Gradual Speed')\n",
    "    plt.ylim(2, y_lim_max)\n",
    "    #plt.tight_layout()\n",
    "    #plt.savefig(path+'learning_GS.png', dpi = 600)\n",
    "    plt.show()\n",
    "    #y_lim_max = 2200\n",
    "\n",
    "    plt.errorbar(range(1, 11), numpy.mean(numpy.mean(error_sum, axis = 2)[1::4], axis = 0)[1:-1], yerr = stat.sem(numpy.mean(error_sum, axis = 2)[1::4], axis = 0)[1:-1], capsize=3)\n",
    "    plt.errorbar(0, numpy.mean(numpy.mean(error_sum, axis = 2)[1::4], axis = 0)[0], yerr = stat.sem(numpy.mean(error_sum, axis = 2)[1::4], axis = 0)[0], capsize=3, fmt = 's')\n",
    "    plt.errorbar(11, numpy.mean(numpy.mean(error_sum, axis = 2)[1::4], axis = 0)[11], yerr = stat.sem(numpy.mean(error_sum, axis = 2)[1::4], axis = 0)[11], capsize=3, fmt = 's')\n",
    "    plt.text(x=5, y = 80, s = '15 Participants')\n",
    "    plt.ylabel('RMSE')\n",
    "    plt.xlabel('Block')\n",
    "    plt.xticks(range(12), ['0', '1', '2', '3', '4', '5', '6', '7', '8', '9', '10', '11'])\n",
    "    plt.title('Sudden Accuracy')\n",
    "    #y_lim_max = 10000\n",
    "\n",
    "    plt.ylim(2, y_lim_max)\n",
    "    #plt.tight_layout()\n",
    "    #plt.savefig(path+'learning_SA.png', dpi = 600)\n",
    "    plt.show()\n",
    "\n",
    "    plt.errorbar(range(1, 11), numpy.mean(numpy.mean(error_sum, axis = 2)[4::4], axis = 0)[1:-1], yerr = stat.sem(numpy.mean(error_sum, axis = 2)[4::4], axis = 0)[1:-1], capsize=3)\n",
    "    plt.errorbar(0, numpy.mean(numpy.mean(error_sum, axis = 2)[4::4], axis = 0)[0], yerr = stat.sem(numpy.mean(error_sum, axis = 2)[4::4], axis = 0)[0], capsize=3, fmt = 's')\n",
    "    plt.errorbar(11, numpy.mean(numpy.mean(error_sum, axis = 2)[4::4], axis = 0)[11], yerr = stat.sem(numpy.mean(error_sum, axis = 2)[4::4], axis = 0)[11], capsize=3, fmt = 's')\n",
    "    plt.text(x=5, y = 80, s = '14 Participants')\n",
    "    plt.xticks(range(12), ['0', '1', '2', '3', '4', '5', '6', '7', '8', '9', '10', '11'])\n",
    "    plt.ylabel('RMSE')\n",
    "    plt.xlabel('Block')\n",
    "    plt.title('Sudden Speed')\n",
    "#    y_lim_max = 2600\n",
    "    plt.ylim(2, y_lim_max)\n",
    "    #plt.tight_layout()\n",
    "    #plt.savefig(path+'learning_SS.png', dpi = 600)\n",
    "    plt.show()\n"
   ]
  },
  {
   "cell_type": "code",
   "execution_count": 12,
   "metadata": {},
   "outputs": [
    {
     "data": {
      "image/png": "[encoded data removed]",
      "text/plain": [
       "<Figure size 432x288 with 1 Axes>"
      ]
     },
     "metadata": {
      "needs_background": "light"
     },
     "output_type": "display_data"
    },
    {
     "data": {
      "image/png": "[encoded data removed]",
      "text/plain": [
       "<Figure size 432x288 with 1 Axes>"
      ]
     },
     "metadata": {
      "needs_background": "light"
     },
     "output_type": "display_data"
    },
    {
     "data": {
      "image/png": "[encoded data removed]",
      "text/plain": [
       "<Figure size 432x288 with 1 Axes>"
      ]
     },
     "metadata": {
      "needs_background": "light"
     },
     "output_type": "display_data"
    },
    {
     "data": {
      "image/png": "[encoded data removed]",
      "text/plain": [
       "<Figure size 432x288 with 1 Axes>"
      ]
     },
     "metadata": {
      "needs_background": "light"
     },
     "output_type": "display_data"
    }
   ],
   "source": [
    "plot_error_means(error_sum, \"C:/Users/Tejas/OneDrive/Research/Conferences and Papers/Psychonomics 2019/errors/\")"
   ]
  },
  {
   "cell_type": "code",
   "execution_count": 4,
   "metadata": {},
   "outputs": [],
   "source": [
    "#numpy.mean(numpy.mean(error_sum[1::4], axis = 2), axis = 0)\n",
    "#stat.sem(numpy.mean(error_sum[1::4], axis = 2), axis = 0)\n",
    "def plot_error_means_transfer(errors, text):\n",
    "#    quantiles = get_quantile(total_times)\n",
    "    xpos = [0, 1, 2, 3, 4]\n",
    "    y = numpy.array([numpy.mean(numpy.median(error_sum[1::4], axis = 2), axis = 0)[11],\n",
    "                  numpy.mean(numpy.mean(error_sum[4::4], axis = 2), axis = 0)[11],\n",
    "                  numpy.mean(numpy.mean(error_sum[3::4], axis = 2), axis = 0)[11],\n",
    "                  numpy.mean(numpy.mean(error_sum[2::4], axis = 2), axis = 0)[11]] \n",
    "                  )\n",
    "    y_sem = numpy.array([stat.sem(numpy.mean(error_sum[1::4], axis = 2), axis = 0)[11], \n",
    "                    stat.sem(numpy.mean(error_sum[4::4], axis = 2), axis = 0)[11],\n",
    "                    stat.sem(numpy.mean(error_sum[3::4], axis = 2), axis = 0)[11],\n",
    "                    stat.sem(numpy.mean(error_sum[2::4], axis = 2), axis = 0)[11]])\n",
    "    #print (y_sem[0])\n",
    "    plt.bar(0, y[0], yerr = y_sem[0], capsize = 3, color = 'Blue', alpha = 1)\n",
    "    plt.bar(2, y[1], yerr = y_sem[1], capsize = 3, color = 'Blue', alpha = 0.5)\n",
    "    plt.bar(1, y[2], yerr = y_sem[2], capsize = 3, color = 'Green', alpha = 0.5)\n",
    "    plt.bar(3, y[3], yerr = y_sem[3], capsize = 3, color = 'Green', alpha = 1)\n",
    "\n",
    "#    handles = plt.bar(range(4), y, yerr = y_sem, capsize = 3, color = ['Blue', 'Green', 'Blue', 'Green'], alpha = [1, 0.5, 0.5, 1])\n",
    "    plt.xticks([0, 2, 1, 3], ['Sudden \\n Accuracy', 'Sudden \\n Speed', 'Gradual \\n Accuracy', 'Gradual \\nSpeed'], rotation = 'vertical')\n",
    "    plt.ylabel('Error (RMSE)')\n",
    "    plt.xlabel('Condition')\n",
    "    #plt.legend([handles[0], handles[1]], ['Speed', 'Accuracy'])\n",
    "    plt.title(text)\n",
    "    \n",
    "\n",
    "#numpy.shape(numpy.mean(error_sum[1::4], axis = 0))"
   ]
  },
  {
   "cell_type": "code",
   "execution_count": 14,
   "metadata": {},
   "outputs": [
    {
     "data": {
      "image/png": "[encoded data removed]",
      "text/plain": [
       "<Figure size 432x288 with 1 Axes>"
      ]
     },
     "metadata": {
      "needs_background": "light"
     },
     "output_type": "display_data"
    }
   ],
   "source": [
    "plot_error_means_transfer(error_sum, 'Errors')"
   ]
  },
  {
   "cell_type": "code",
   "execution_count": 190,
   "metadata": {},
   "outputs": [],
   "source": [
    "data = 10\n",
    "block = 10\n",
    "num_trials = 2\n",
    "traj = scipy.io.loadmat('data/data{data}/actual_trajectories/trajectories{block}.mat'.format(block=str(block), data=str(data+1000)))\n",
    "for trial in range(num_trials):\n",
    "    trajx, trajy = traj['x'][0][trial][0], traj['y'][0][trial][0]\n",
    "    diffx, diffy = trajx[1:] - trajx[:-1], trajy[1:] - trajy[:-1]\n",
    "    #print (diffx, diffy)"
   ]
  },
  {
   "cell_type": "code",
   "execution_count": 195,
   "metadata": {},
   "outputs": [
    {
     "data": {
      "text/plain": [
       "1834.0452849729147"
      ]
     },
     "execution_count": 195,
     "metadata": {},
     "output_type": "execute_result"
    },
    {
     "data": {
      "image/png": "[encoded data removed]",
      "text/plain": [
       "<Figure size 432x288 with 1 Axes>"
      ]
     },
     "metadata": {
      "needs_background": "light"
     },
     "output_type": "display_data"
    }
   ],
   "source": [
    "plt.scatter(trajx, trajy)\n",
    "numpy.sum(numpy.sqrt((numpy.square(diffx, dtype = float) + numpy.square(diffy, dtype = float))))"
   ]
  },
  {
   "cell_type": "code",
   "execution_count": 4,
   "metadata": {},
   "outputs": [],
   "source": [
    "#Calculate the actual distance travelled in a trajectory.\n",
    "def calc_dist_travelled(num_data, num_block, num_trials):\n",
    "    dist = numpy.zeros((num_data, num_block, num_trials))\n",
    "    for data in range(num_data):\n",
    "        for block in range(num_block):\n",
    "            traj = scipy.io.loadmat('data/data{data}/actual_trajectories/trajectories{block}.mat'.format(block=str(block), data=str(data+1000)))\n",
    "            for trial in range(num_trials):\n",
    "                trajx, trajy = traj['x'][0][trial][0], traj['y'][0][trial][0]\n",
    "                diffx, diffy = trajx[1:] - trajx[:-1], trajy[1:] - trajy[:-1]\n",
    "                #print (diffx, diffy)\n",
    "                dist[data][block][trial] = numpy.sum(numpy.sqrt((numpy.square(diffx, dtype = float) + numpy.square(diffy, dtype = float))))\n",
    "    return dist"
   ]
  },
  {
   "cell_type": "code",
   "execution_count": 37,
   "metadata": {},
   "outputs": [],
   "source": [
    "dist = calc_dist_travelled(60, 12, 32)"
   ]
  },
  {
   "cell_type": "code",
   "execution_count": 26,
   "metadata": {},
   "outputs": [],
   "source": [
    "def plot_dist_means(distances, path):\n",
    "    #plt.rcParams[('figure.figsize')] = [8, 6]\n",
    "\n",
    "    mean_errors = numpy.mean(distances, axis =2)\n",
    "    plt.errorbar(range(1, 11), numpy.mean(numpy.nanmedian(distances, axis = 2)[3::4], axis = 0)[1:-1], yerr = stat.sem(numpy.nanmedian(distances, axis = 2)[3::4], axis = 0)[1:-1], capsize=3)\n",
    "    #plt.errorbar(0, numpy.mean(numpy.median(distances, axis = 2)[3::4], axis = 0)[0], yerr = stat.sem(numpy.median(distances, axis = 2)[3::4], axis = 0)[0], capsize=3, fmt = 's')\n",
    "    plt.errorbar(11, numpy.mean(numpy.nanmedian(distances, axis = 2)[3::4], axis = 0)[11], yerr = stat.sem(numpy.nanmedian(distances, axis = 2)[3::4], axis = 0)[11], capsize=3, fmt = 's')\n",
    "    #plt.text(x=5, y = 80, s = '14 Participants')\n",
    "    plt.ylabel('RMSE')\n",
    "    plt.xlabel('Block')\n",
    "    plt.title('Gradual Accuracy')\n",
    "    plt.xticks(range(12), ['0', '1', '2', '3', '4', '5', '6', '7', '8', '9', '10', '11'])\n",
    "\n",
    "    #y_lim_max = numpy.max((mean_errors)) + 5\n",
    "    #y_lim_max = 500000\n",
    "    #plt.ylim((0, y_lim_max))\n",
    "#    print(max(np.mean(quantiles[3::4][:, :, 3], axis = 0)[1:-1]) + 0.7)\n",
    "    #plt.tight_layout()\n",
    "    #plt.savefig(path+'learning_GA.png', dpi = 600)\n",
    "    plt.show()\n",
    "\n",
    "    plt.errorbar(range(1, 11), numpy.mean(numpy.nanmedian(distances, axis = 2)[2::4], axis = 0)[1:-1], yerr = stat.sem(numpy.nanmedian(distances, axis = 2)[2::4], axis = 0)[1:-1], capsize=3)\n",
    "    #plt.errorbar(0, numpy.mean(numpy.median(distances, axis = 2)[2::4], axis = 0)[0], yerr = stat.sem(numpy.median(distances, axis = 2)[2::4], axis = 0)[0], capsize=3, fmt = 's')\n",
    "    plt.errorbar(11, numpy.mean(numpy.nanmedian(distances, axis = 2)[2::4], axis = 0)[11], yerr = stat.sem(numpy.nanmedian(distances, axis = 2)[2::4], axis = 0)[11], capsize=3, fmt = 's')\n",
    "    #plt.text(x=5, y = 80, s = '15 Participants')\n",
    "    plt.ylabel('RMSE')\n",
    "    plt.xlabel('Block')\n",
    "    plt.xticks(range(12), ['0', '1', '2', '3', '4', '5', '6', '7', '8', '9', '10', '11'])\n",
    "    plt.title('Gradual Speed')\n",
    "    #plt.ylim(-1, y_lim_max)\n",
    "    #plt.tight_layout()\n",
    "    #plt.savefig(path+'learning_GS.png', dpi = 600)\n",
    "    plt.show()\n",
    "    #y_lim_max = 2200\n",
    "\n",
    "    plt.errorbar(range(1, 11), numpy.mean(numpy.nanmedian(distances, axis = 2)[1::4], axis = 0)[1:-1], yerr = stat.sem(numpy.nanmedian(distances, axis = 2)[1::4], axis = 0)[1:-1], capsize=3)\n",
    "    #plt.errorbar(0, numpy.mean(numpy.mean(distances, axis = 2)[1::4], axis = 0)[0], yerr = stat.sem(numpy.mean(distances, axis = 2)[1::4], axis = 0)[0], capsize=3, fmt = 's')\n",
    "    plt.errorbar(11, numpy.mean(numpy.nanmedian(distances, axis = 2)[1::4], axis = 0)[11], yerr = stat.sem(numpy.nanmedian(distances, axis = 2)[1::4], axis = 0)[11], capsize=3, fmt = 's')\n",
    "    #plt.text(x=5, y = 80, s = '15 Participants')\n",
    "    plt.ylabel('RMSE')\n",
    "    plt.xlabel('Block')\n",
    "    plt.xticks(range(12), ['0', '1', '2', '3', '4', '5', '6', '7', '8', '9', '10', '11'])\n",
    "    plt.title('Sudden Accuracy')\n",
    "    #y_lim_max = 10000\n",
    "\n",
    "    #plt.ylim(2, y_lim_max)\n",
    "    #plt.tight_layout()\n",
    "    #plt.savefig(path+'learning_SA.png', dpi = 600)\n",
    "    plt.show()\n",
    "\n",
    "    plt.errorbar(range(1, 11), numpy.mean(numpy.nanmedian(distances, axis = 2)[4::4], axis = 0)[1:-1], yerr = stat.sem(numpy.nanmedian(distances, axis = 2)[4::4], axis = 0)[1:-1], capsize=3)\n",
    "    #plt.errorbar(0, numpy.mean(numpy.median(distances, axis = 2)[4::4], axis = 0)[0], yerr = stat.sem(numpy.median(distances, axis = 2)[4::4], axis = 0)[0], capsize=3, fmt = 's')\n",
    "    plt.errorbar(11, numpy.mean(numpy.nanmedian(distances, axis = 2)[4::4], axis = 0)[11], yerr = stat.sem(numpy.nanmedian(distances, axis = 2)[4::4], axis = 0)[11], capsize=3, fmt = 's')\n",
    "    #plt.text(x=5, y = 80, s = '14 Participants')\n",
    "    plt.xticks(range(12), ['0', '1', '2', '3', '4', '5', '6', '7', '8', '9', '10', '11'])\n",
    "    plt.ylabel('RMSE')\n",
    "    plt.xlabel('Block')\n",
    "    plt.title('Sudden Speed')\n",
    "#    y_lim_max = 2600\n",
    "    #plt.ylim(2, y_lim_max)\n",
    "    #plt.tight_layout()\n",
    "    #plt.savefig(path+'learning_SS.png', dpi = 600)\n",
    "    plt.show()\n"
   ]
  },
  {
   "cell_type": "code",
   "execution_count": null,
   "metadata": {},
   "outputs": [],
   "source": []
  },
  {
   "cell_type": "code",
   "execution_count": null,
   "metadata": {},
   "outputs": [],
   "source": []
  },
  {
   "cell_type": "code",
   "execution_count": 36,
   "metadata": {},
   "outputs": [
    {
     "data": {
      "image/png": "[encoded data removed]",
      "text/plain": [
       "<Figure size 432x288 with 1 Axes>"
      ]
     },
     "metadata": {
      "needs_background": "light"
     },
     "output_type": "display_data"
    },
    {
     "data": {
      "image/png": "[encoded data removed]",
      "text/plain": [
       "<Figure size 432x288 with 1 Axes>"
      ]
     },
     "metadata": {
      "needs_background": "light"
     },
     "output_type": "display_data"
    },
    {
     "data": {
      "image/png": "[encoded data removed]",
      "text/plain": [
       "<Figure size 432x288 with 1 Axes>"
      ]
     },
     "metadata": {
      "needs_background": "light"
     },
     "output_type": "display_data"
    },
    {
     "data": {
      "image/png": "[encoded data removed]",
      "text/plain": [
       "<Figure size 432x288 with 1 Axes>"
      ]
     },
     "metadata": {
      "needs_background": "light"
     },
     "output_type": "display_data"
    }
   ],
   "source": [
    "#plt.plot(numpy.mean(numpy.mean(dist[0::4], axis = 2), axis = 0))\n",
    "#plt.plot(numpy.mean(numpy.mean(dist[1::4], axis = 2), axis = 0))\n",
    "#plt.plot(numpy.mean(numpy.mean(dist[2::4], axis = 2), axis = 0))\n",
    "#plt.plot(numpy.mean(numpy.mean(dist[3::4], axis = 2), axis = 0))\n",
    "plot_dist_means(dist, '')"
   ]
  },
  {
   "cell_type": "code",
   "execution_count": 14,
   "metadata": {},
   "outputs": [],
   "source": [
    "#numpy.mean(numpy.mean(error_sum[1::4], axis = 2), axis = 0)\n",
    "#stat.sem(numpy.mean(error_sum[1::4], axis = 2), axis = 0)\n",
    "def plot_dist_means_transfer(distances, text):\n",
    "#    quantiles = get_quantile(total_times)\n",
    "    xpos = [0, 1, 2, 3, 4]\n",
    "    y = numpy.array([numpy.mean(numpy.median(distances[1::4], axis = 2), axis = 0)[11],# - numpy.mean(numpy.median(distances[1::4], axis = 2), axis = 0)[10],\n",
    "                  numpy.mean(numpy.median(distances[4::4], axis = 2), axis = 0)[11], #- numpy.mean(numpy.median(distances[4::4], axis = 2), axis = 0)[10],\n",
    "                  numpy.mean(numpy.median(distances[3::4], axis = 2), axis = 0)[11], #- numpy.mean(numpy.median(distances[3::4], axis = 2), axis = 0)[10],\n",
    "                  numpy.mean(numpy.median(distances[2::4], axis = 2), axis = 0)[11]] #- numpy.mean(numpy.median(distances[2::4], axis = 2), axis = 0)[10]] \n",
    "                  )\n",
    "    y_sem = numpy.array([stat.sem(numpy.median(distances[1::4], axis = 2), axis = 0)[11], \n",
    "                    stat.sem(numpy.median(distances[4::4], axis = 2), axis = 0)[11],\n",
    "                    stat.sem(numpy.median(distances[3::4], axis = 2), axis = 0)[11],\n",
    "                    stat.sem(numpy.median(distances[2::4], axis = 2), axis = 0)[11]])\n",
    "    #print (y_sem[0])\n",
    "    #y_sem = numpy.array([0, 0, 0, 0])\n",
    "    plt.bar(0, y[0], yerr = y_sem[0], capsize = 3, color = 'Blue', alpha = 1)\n",
    "    plt.bar(2, y[1], yerr = y_sem[1], capsize = 3, color = 'Blue', alpha = 0.5)\n",
    "    plt.bar(1, y[2], yerr = y_sem[2], capsize = 3, color = 'Green', alpha = 0.5)\n",
    "    plt.bar(3, y[3], yerr = y_sem[3], capsize = 3, color = 'Green', alpha = 1)\n",
    "\n",
    "#    handles = plt.bar(range(4), y, yerr = y_sem, capsize = 3, color = ['Blue', 'Green', 'Blue', 'Green'], alpha = [1, 0.5, 0.5, 1])\n",
    "    plt.xticks([0, 2, 1, 3], ['Sudden \\n Accuracy', 'Sudden \\n Speed', 'Gradual \\n Accuracy', 'Gradual \\nSpeed'], rotation = 'vertical')\n",
    "    plt.ylabel('Error (RMSE)')\n",
    "    plt.xlabel('Condition')\n",
    "    #plt.legend([handles[0], handles[1]], ['Speed', 'Accuracy'])\n",
    "    plt.title(text)\n",
    "    \n",
    "    print (y)\n",
    "#numpy.shape(numpy.mean(error_sum[1::4], axis = 0))"
   ]
  },
  {
   "cell_type": "code",
   "execution_count": 40,
   "metadata": {},
   "outputs": [
    {
     "data": {
      "image/png": "[encoded data removed]",
      "text/plain": [
       "<Figure size 432x288 with 1 Axes>"
      ]
     },
     "metadata": {
      "needs_background": "light"
     },
     "output_type": "display_data"
    }
   ],
   "source": [
    "plot_dist_means_transfer(dist, 'text')"
   ]
  },
  {
   "cell_type": "code",
   "execution_count": 77,
   "metadata": {},
   "outputs": [
    {
     "data": {
      "text/plain": [
       "array([9.0000e+02, 1.6900e+02, 1.0000e+02, 8.1000e+01, 1.9600e+02,\n",
       "       6.4000e+01, 1.2100e+02, 4.9000e+01, 3.6000e+01, 1.6000e+01,\n",
       "       1.6000e+01, 2.5000e+01, 4.0000e+00, 4.0000e+00, 1.0000e+00,\n",
       "       0.0000e+00, 1.0000e+00, 1.0000e+00, 4.0000e+00, 1.0000e+00,\n",
       "       4.0000e+00, 1.0000e+00, 4.0000e+00, 4.0000e+00, 3.6000e+01,\n",
       "       1.6000e+01, 2.5000e+01, 8.1000e+01, 3.6000e+01, 3.6000e+01,\n",
       "       8.1000e+01, 2.5000e+01, 3.5344e+04, 1.4400e+02, 1.9600e+02,\n",
       "       1.4400e+02, 3.2400e+02, 8.1000e+01, 8.1000e+01, 1.4400e+02,\n",
       "       6.4000e+01, 4.9000e+01, 1.0000e+02, 3.6000e+01, 2.5000e+01,\n",
       "       3.6000e+01, 4.9000e+01, 1.6000e+01, 4.9000e+01, 1.6000e+01,\n",
       "       1.6000e+01, 9.0000e+00, 1.6000e+01, 1.6000e+01])"
      ]
     },
     "execution_count": 77,
     "metadata": {},
     "output_type": "execute_result"
    }
   ],
   "source": [
    "numpy.array(diffx, dtype=float)**2"
   ]
  },
  {
   "cell_type": "code",
   "execution_count": 18,
   "metadata": {},
   "outputs": [
    {
     "data": {
      "text/plain": [
       "(60, 12, 32)"
      ]
     },
     "execution_count": 18,
     "metadata": {},
     "output_type": "execute_result"
    }
   ],
   "source": [
    "numpy.shape(dist)"
   ]
  },
  {
   "cell_type": "code",
   "execution_count": null,
   "metadata": {},
   "outputs": [],
   "source": [
    "#ybar = [error_sum[2:-1:4] - error_sum[2:-1:4][10], numpy.mean(error_sum[3:-1:4], axis = 0)[11] - numpy.mean(error_sum[3:-1:4], axis = 0)[10], numpy.mean(error_sum[4:-1:4], axis = 0)[11] - numpy.mean(error_sum[4:-1:4], axis = 0)[10], numpy.mean(error_sum[1:-1:4], axis = 0)[11] - numpy.mean(error_sum[1:-1:4], axis = 0)[10]]\n",
    "y = [error_sum[2:-1:4][:, 11] - error_sum[2:-1:4][:, 10], error_sum[3:-1:4][:, 11] - error_sum[3:-1:4][:, 10], error_sum[4:-1:4][:, 11] - error_sum[4:-1:4][:, 10], error_sum[1:-1:4][:, 11] - error_sum[1:-1:4][:, 10]]\n",
    "for i in y[3]:\n",
    "    print (i)\n"
   ]
  },
  {
   "cell_type": "code",
   "execution_count": null,
   "metadata": {},
   "outputs": [],
   "source": [
    "plt.plot(numpy.mean((error_sum[1:-1:4]), axis = 0), 'k-')\n",
    "plt.plot(numpy.mean((error_sum[2:-1:4]), axis = 0), 'k-')\n",
    "plt.plot(numpy.mean((error_sum[3:-1:4]), axis = 0), 'k-')\n",
    "plt.plot(numpy.mean((error_sum[4:-1:4]), axis = 0), 'k-')\n",
    "\n",
    "plot1 = plt.fill_between(range(12), numpy.mean(error_sum[1:-1:2], axis = 0) + stat.sem(error_sum[1:-1:2]), numpy.mean(error_sum[1:-1:2], axis = 0) - stat.sem(error_sum[1:-1:2]), alpha = 0.5)\n",
    "plot2 = plt.fill_between(range(12), numpy.mean(error_sum[2:-1:2], axis = 0) + stat.sem(error_sum[2:-1:2]), numpy.mean(error_sum[2:-1:2], axis = 0) - stat.sem(error_sum[2:-1:2]), alpha = 0.5)\n",
    "plot3 = plt.fill_between(range(12), numpy.mean(error_sum[3:-1:2], axis = 0) + stat.sem(error_sum[3:-1:2]), numpy.mean(error_sum[3:-1:2], axis = 0) - stat.sem(error_sum[3:-1:2]), alpha = 0.5)\n",
    "plot4 = plt.fill_between(range(12), numpy.mean(error_sum[4:-1:2], axis = 0) + stat.sem(error_sum[4:-1:2]), numpy.mean(error_sum[4:-1:2], axis = 0) - stat.sem(error_sum[4:-1:2]), alpha = 0.5)\n",
    "\n",
    "plt.legend((plot1, plot2, plot3, plot4), (\"AS\", \"SG\", \"AG\", \"SS\"))\n",
    "#error_sum[3]\n",
    "#error_sum1\n",
    "plt.xlabel('Block')\n",
    "plt.ylabel('Error')"
   ]
  },
  {
   "cell_type": "code",
   "execution_count": null,
   "metadata": {},
   "outputs": [],
   "source": [
    "all_errors1 = numpy.zeros((10, 64))\n",
    "all_errors2 = numpy.zeros((10, 64))\n",
    "for i in range(10):\n",
    "    errors1 = errors(1, i)\n",
    "    errors2 = errors(3, i)\n",
    "    for j in range(64):\n",
    "        all_errors1[i,j] = numpy.sum(errors1[j])\n",
    "        all_errors2[i, j] = numpy.sum(errors2[j])\n",
    "#numpy.sum(errors(1, 1))"
   ]
  },
  {
   "cell_type": "code",
   "execution_count": null,
   "metadata": {},
   "outputs": [],
   "source": []
  },
  {
   "cell_type": "code",
   "execution_count": null,
   "metadata": {},
   "outputs": [],
   "source": []
  },
  {
   "cell_type": "code",
   "execution_count": null,
   "metadata": {},
   "outputs": [],
   "source": [
    "lm.predict(11)\n"
   ]
  },
  {
   "cell_type": "code",
   "execution_count": null,
   "metadata": {},
   "outputs": [],
   "source": [
    "error_sum[11]"
   ]
  },
  {
   "cell_type": "code",
   "execution_count": null,
   "metadata": {},
   "outputs": [],
   "source": []
  },
  {
   "cell_type": "code",
   "execution_count": null,
   "metadata": {},
   "outputs": [],
   "source": [
    "trial_errors = list()\n",
    "for i in range(12):\n",
    "    block_error = errors(1, i)\n",
    "    for j in range(64):\n",
    "        trial_errors.append(numpy.mean(block_error[j]))"
   ]
  },
  {
   "cell_type": "code",
   "execution_count": null,
   "metadata": {},
   "outputs": [],
   "source": [
    "plt.plot(trial_errors)"
   ]
  },
  {
   "cell_type": "code",
   "execution_count": null,
   "metadata": {},
   "outputs": [],
   "source": [
    "trial_errors = list()\n",
    "for i in range(12):\n",
    "    block_error = errors(2, i)\n",
    "    for j in range(64):\n",
    "        trial_errors.append(numpy.mean(block_error[j]))"
   ]
  },
  {
   "cell_type": "code",
   "execution_count": null,
   "metadata": {},
   "outputs": [],
   "source": [
    "ax = plt.axes()\n",
    "ax.plot(trial_errors)"
   ]
  },
  {
   "cell_type": "markdown",
   "metadata": {},
   "source": [
    "Error, movement time and initiation time in the same plot.\n",
    "Across groups\n",
    "Collapse movements across subjects in the group"
   ]
  },
  {
   "cell_type": "code",
   "execution_count": null,
   "metadata": {},
   "outputs": [],
   "source": [
    "def times(data, block):\n",
    "    initial_time = scipy.io.loadmat('data/participants/data{data}/initial_time/initial_time{block}.mat'.format(block=str(block), data=str(data)))\n",
    "    movement_time = scipy.io.loadmat('data/participants/data{data}/movement_time/movement_time{block}.mat'.format(block = str(block), data=str(data)))\n",
    "    #squares = scipy.io.loadmat('data/participants/data{data}/squares/coordinates/squares{block}.mat'.format(block=str(block), data=str(data)))\n",
    "    #xdiff = (ideal_traj['idealXs'] - traj['x'])\n",
    "    #ydiff = (ideal_traj['idealYs'] - traj['y'])\n",
    "    initial_time = initial_time['initial_time'][:, 0]\n",
    "    movement_time = movement_time['movement_time'][:, 0]\n",
    "    return initial_time, movement_time\n"
   ]
  },
  {
   "cell_type": "code",
   "execution_count": null,
   "metadata": {},
   "outputs": [],
   "source": [
    "initial_times = numpy.zeros((27, 12))\n",
    "movement_times = numpy.zeros((27, 12))"
   ]
  },
  {
   "cell_type": "code",
   "execution_count": null,
   "metadata": {},
   "outputs": [],
   "source": [
    "for participant in range(1,27):\n",
    "    if participant == 7:\n",
    "        continue\n",
    "    for block in range(12):\n",
    "        initial_time, movement_time = times(participant, block)\n",
    "        initial_times[participant, block] = numpy.mean(initial_time['initial_time'])\n",
    "        movement_times[participant, block] = numpy.mean(movement_time['movement_time'])"
   ]
  },
  {
   "cell_type": "code",
   "execution_count": null,
   "metadata": {
    "scrolled": true
   },
   "outputs": [],
   "source": [
    "initial_times_mean_sudden = numpy.mean(numpy.row_stack((initial_times[4:-1:4], initial_times[1:-1:4])), axis = 0)\n",
    "initial_times_sem_sudden = stat.sem(numpy.row_stack((initial_times[4:-1:4], initial_times[1:-1:4])))\n",
    "plt.plot(initial_times_mean_sudden, 'k-')\n",
    "plot1 = plt.fill_between(range(12), initial_times_mean_sudden + initial_times_sem_sudden, initial_times_mean_sudden - initial_times_sem_sudden, alpha = 0.5)\n",
    "\n",
    "\n",
    "initial_times_mean_gradual = numpy.mean(numpy.row_stack((initial_times[2:-1:4], initial_times[3:-1:4])), axis = 0)\n",
    "initial_times_sem_gradual = stat.sem(numpy.row_stack((initial_times[2:-1:4], initial_times[3:-1:4])))\n",
    "plt.plot(initial_times_mean_gradual, 'k-')\n",
    "plot2 = plt.fill_between(range(12), initial_times_mean_gradual + initial_times_sem_gradual, initial_times_mean_gradual - initial_times_sem_gradual, alpha = 0.5)\n",
    "\n",
    "plt.legend((plot1, plot2), (\"Sudden\", \"Gradual\"))\n",
    "plt.xlabel('Block')\n",
    "plt.ylabel('Initial Times')"
   ]
  },
  {
   "cell_type": "code",
   "execution_count": null,
   "metadata": {},
   "outputs": [],
   "source": [
    "initial_times_mean_speed = numpy.mean(initial_times[2:-1:2], axis = 0)\n",
    "initial_times_sem_speed = stat.sem(initial_times[2:-1:2])\n",
    "plt.plot(initial_times_mean_speed, 'k-')\n",
    "plot1 = plt.fill_between(range(12), initial_times_mean_speed + initial_times_sem_speed, initial_times_mean_speed - initial_times_sem_speed, alpha = 0.5, color = 'red')\n",
    "\n",
    "\n",
    "initial_times_mean_accuracy = numpy.mean(initial_times[1:-1:2], axis = 0)\n",
    "initial_times_sem_accuracy = stat.sem(initial_times[1:-1:2])\n",
    "plt.plot(initial_times_mean_accuracy, 'k-')\n",
    "plot2 = plt.fill_between(range(12), initial_times_mean_accuracy + initial_times_sem_accuracy, initial_times_mean_accuracy - initial_times_sem_accuracy, alpha = 0.5, color = 'green')\n",
    "\n",
    "plt.legend((plot1, plot2), (\"Speed\", \"Accuracy\"))\n",
    "plt.xlabel('Block')\n",
    "plt.ylabel('Initial Time')"
   ]
  },
  {
   "cell_type": "code",
   "execution_count": null,
   "metadata": {},
   "outputs": [],
   "source": [
    "initial_times_mean_speed_gradual = numpy.mean(initial_times[2:-1:4], axis = 0)\n",
    "initial_times_sem_speed_gradual = stat.sem(initial_times[2:-1:4])\n",
    "plt.plot(initial_times_mean_speed_gradual, 'k-')\n",
    "plot1 = plt.fill_between(range(12), initial_times_mean_speed_gradual + initial_times_sem_speed_gradual, initial_times_mean_speed_gradual - initial_times_sem_speed_gradual, alpha = 0.5)\n",
    "\n",
    "initial_times_mean_accuracy_gradual = numpy.mean(initial_times[3:-1:4], axis = 0)\n",
    "initial_times_sem_accuracy_gradual = stat.sem(initial_times[3:-1:4])\n",
    "plt.plot(initial_times_mean_accuracy_gradual, 'k-')\n",
    "plot2 = plt.fill_between(range(12), initial_times_mean_accuracy_gradual + initial_times_sem_accuracy_gradual, initial_times_mean_accuracy_gradual - initial_times_sem_accuracy_gradual, alpha = 0.5)\n",
    "\n",
    "initial_times_mean_speed_sudden = numpy.mean(initial_times[4:-1:4], axis = 0)\n",
    "initial_times_sem_speed_sudden = stat.sem(initial_times[4:-1:4])\n",
    "plt.plot(initial_times_mean_speed_sudden, 'k-')\n",
    "plot3 = plt.fill_between(range(12), initial_times_mean_speed_sudden + initial_times_sem_speed_sudden, initial_times_mean_speed_sudden - initial_times_sem_speed_sudden, alpha = 0.5)\n",
    "\n",
    "initial_times_mean_accuracy_sudden = numpy.mean(initial_times[1:-1:4], axis = 0)\n",
    "initial_times_sem_accuracy_sudden = stat.sem(initial_times[1:-1:4])\n",
    "plt.plot(initial_times_mean_accuracy_sudden, 'k-')\n",
    "plot4 = plt.fill_between(range(12), initial_times_mean_accuracy_sudden + initial_times_sem_accuracy_sudden, initial_times_mean_accuracy_sudden - initial_times_sem_accuracy_sudden, alpha = 0.5)\n",
    "\n",
    "\n",
    "plt.legend((plot1, plot2, plot3, plot4), (\"SG\", \"AG\", \"SS\", \"AS\"))\n",
    "plt.xlabel('Block')\n",
    "plt.ylabel('Initial Time')"
   ]
  },
  {
   "cell_type": "code",
   "execution_count": null,
   "metadata": {},
   "outputs": [],
   "source": [
    "plt.bar(range(4), [initial_times_mean_accuracy_gradual[11] - initial_times_mean_accuracy_gradual[10], initial_times_mean_accuracy_sudden[11] - initial_times_mean_accuracy_sudden[10], initial_times_mean_speed_gradual[11] - initial_times_mean_speed_gradual[10], initial_times_mean_speed_sudden[11] - initial_times_mean_speed_sudden[10]])"
   ]
  },
  {
   "cell_type": "code",
   "execution_count": null,
   "metadata": {},
   "outputs": [],
   "source": [
    "ybar = [numpy.mean(initial_times[1:-1:2][11] - initial_times[1:-1:2][10]), numpy.mean(initial_times[2:-1:2][11] - initial_times[2:-1:2][10])]\n",
    "yerr = [stat.sem(initial_times[1:-1:2][11] - initial_times[1:-1:2][10]), stat.sem(initial_times[2:-1:2][11] - initial_times[2:-1:2][10])]\n",
    "plt.bar(range(2), ybar, yerr = yerr)"
   ]
  },
  {
   "cell_type": "code",
   "execution_count": null,
   "metadata": {},
   "outputs": [],
   "source": [
    "#numpy.mean(initial_times[1:-1:2][11])\n",
    "#initial_times_mean_accuracy[11]\n",
    "initial_times_mean_accuracy\n",
    "initial_times[1:-1:2][11]\n",
    "numpy.mean(initial_times[1:-1:2], axis = 0)"
   ]
  },
  {
   "cell_type": "code",
   "execution_count": null,
   "metadata": {},
   "outputs": [],
   "source": [
    "plt.bar(range(2), [movement_times_mean_sudden[11] - movement_times_mean_sudden[10], movement_times_mean_gradual[11] - movement_times_mean_gradual[10]])"
   ]
  },
  {
   "cell_type": "code",
   "execution_count": null,
   "metadata": {},
   "outputs": [],
   "source": [
    "movement_times_mean_sudden = numpy.mean(numpy.row_stack((movement_times[4:-1:4], movement_times[1:-1:4])), axis = 0)\n",
    "movement_times_sem_sudden = stat.sem(numpy.row_stack((movement_times[4:-1:4], movement_times[1:-1:4])))\n",
    "plt.plot(movement_times_mean_sudden, 'k-')\n",
    "plot1 = plt.fill_between(range(12), movement_times_mean_sudden + movement_times_sem_sudden, movement_times_mean_sudden - movement_times_sem_sudden, alpha = 0.5)\n",
    "\n",
    "\n",
    "movement_times_mean_gradual = numpy.mean(numpy.row_stack((movement_times[2:-1:4], movement_times[3:-1:4])), axis = 0)\n",
    "movement_times_sem_gradual = stat.sem(numpy.row_stack((movement_times[2:-1:4], movement_times[3:-1:4])))\n",
    "plt.plot(movement_times_mean_gradual, 'k-')\n",
    "plot2 = plt.fill_between(range(12), movement_times_mean_gradual + movement_times_sem_gradual, movement_times_mean_gradual - movement_times_sem_gradual, alpha = 0.5)\n",
    "\n",
    "plt.legend((plot1, plot2), (\"Sudden\", \"Gradual\"))\n",
    "plt.xlabel('Block')\n",
    "plt.ylabel('Movement Times')"
   ]
  },
  {
   "cell_type": "code",
   "execution_count": null,
   "metadata": {},
   "outputs": [],
   "source": [
    "movement_times_mean_speed = numpy.mean(movement_times[2:-1:2], axis = 0)\n",
    "movement_times_sem_speed = stat.sem(movement_times[2:-1:2])\n",
    "plt.plot(movement_times_mean_speed, 'k-')\n",
    "plot1 = plt.fill_between(range(12), movement_times_mean_speed + movement_times_sem_speed, movement_times_mean_speed - movement_times_sem_speed, alpha = 0.5, color = 'red')\n",
    "\n",
    "\n",
    "movement_times_mean_accuracy = numpy.mean(movement_times[1:-1:2], axis = 0)\n",
    "movement_times_sem_accuracy = stat.sem(movement_times[1:-1:2])\n",
    "plt.plot(movement_times_mean_accuracy, 'k-')\n",
    "plot2 = plt.fill_between(range(12), movement_times_mean_accuracy + movement_times_sem_accuracy, movement_times_mean_accuracy - movement_times_sem_accuracy, alpha = 0.5, color = 'green')\n",
    "\n",
    "plt.legend((plot1, plot2), (\"Speed\", \"Accuracy\"))\n",
    "plt.xlabel('Block')\n",
    "plt.ylabel('Movement Times')"
   ]
  },
  {
   "cell_type": "code",
   "execution_count": null,
   "metadata": {},
   "outputs": [],
   "source": [
    "fig, plot1 = plt.subplots()\n",
    "plot1.plot(numpy.mean(numpy.row_stack((error_sum[4:-1:4], error_sum[1:-1:4])), axis = 0), 'k-')\n",
    "plot1.plot(numpy.mean(numpy.row_stack((error_sum[2:-1:4], error_sum[3:-1:4])), axis = 0), 'k-')\n",
    "\n",
    "plot1 = plt.fill_between(range(12), numpy.mean(numpy.row_stack((error_sum[4:-1:4], error_sum[1:-1:4])), axis = 0) + stat.sem(numpy.row_stack((error_sum[4:-1:4], error_sum[1:-1:4]))), numpy.mean(numpy.row_stack((error_sum[4:-1:4], error_sum[1:-1:4])), axis = 0) - stat.sem(numpy.row_stack((error_sum[4:-1:4], error_sum[1:-1:4]))), alpha = 0.5)\n",
    "plot2 = plt.fill_between(range(12), numpy.mean(numpy.row_stack((error_sum[2:-1:4], error_sum[3:-1:4])), axis = 0) + stat.sem(numpy.row_stack((error_sum[2:-1:4], error_sum[3:-1:4]))), numpy.mean(numpy.row_stack((error_sum[2:-1:4], error_sum[3:-1:4])), axis = 0) - stat.sem(numpy.row_stack((error_sum[2:-1:4], error_sum[3:-1:4]))), alpha = 0.5)\n",
    "plt.legend((plot1, plot2), (\"Sudden\", \"Gradual\"))\n",
    "#error_sum[3]\n",
    "#error_sum\n",
    "plt.xlabel('Block')\n",
    "plt.ylabel('Error')\n",
    "#plot1.\n",
    "plot3 = plot1.twinx()\n",
    "initial_times_mean_sudden = numpy.mean(numpy.row_stack((initial_times[4:-1:4], initial_times[1:-1:4])), axis = 0)\n",
    "initial_times_sem_sudden = stat.sem(numpy.row_stack((initial_times[4:-1:4], initial_times[1:-1:4])))\n",
    "plt.plot(initial_times_mean_sudden, 'k-')\n",
    "plot1 = plt.fill_between(range(10), initial_times_mean_sudden + initial_times_sem_sudden, initial_times_mean_sudden - initial_times_sem_sudden, alpha = 0.5)\n",
    "\n",
    "\n",
    "initial_times_mean_gradual = numpy.mean(numpy.row_stack((initial_times[2:-1:4], initial_times[3:-1:4])), axis = 0)\n",
    "initial_times_sem_gradual = stat.sem(numpy.row_stack((initial_times[2:-1:4], initial_times[3:-1:4])))\n",
    "plt.plot(initial_times_mean_gradual, 'k-')\n",
    "plot2 = plt.fill_between(range(10), initial_times_mean_gradual + initial_times_sem_gradual, initial_times_mean_gradual - initial_times_sem_gradual, alpha = 0.5)\n",
    "\n",
    "plt.legend((plot1, plot2), (\"Sudden\", \"Gradual\"))\n",
    "\n",
    "movement_times_mean_sudden = numpy.mean(numpy.row_stack((movement_times[4:-1:4], movement_times[1:-1:4])), axis = 0)\n",
    "movement_times_sem_sudden = stat.sem(numpy.row_stack((movement_times[4:-1:4], movement_times[1:-1:4])))\n",
    "plt.plot(movement_times_mean_sudden, 'k-')\n",
    "plot1 = plt.fill_between(range(10), movement_times_mean_sudden + movement_times_sem_sudden, movement_times_mean_sudden - movement_times_sem_sudden, alpha = 0.5)\n",
    "\n",
    "\n",
    "movement_times_mean_gradual = numpy.mean(numpy.row_stack((movement_times[2:-1:4], movement_times[3:-1:4])), axis = 0)\n",
    "movement_times_sem_gradual = stat.sem(numpy.row_stack((movement_times[2:-1:4], movement_times[3:-1:4])))\n",
    "plt.plot(movement_times_mean_gradual, 'k-')\n",
    "plot2 = plt.fill_between(range(10), movement_times_mean_gradual + movement_times_sem_gradual, movement_times_mean_gradual - movement_times_sem_gradual, alpha = 0.5)\n",
    "\n",
    "plt.legend((plot1, plot2), (\"Sudden\", \"Gradual\"))"
   ]
  },
  {
   "cell_type": "code",
   "execution_count": null,
   "metadata": {},
   "outputs": [],
   "source": []
  },
  {
   "cell_type": "code",
   "execution_count": null,
   "metadata": {},
   "outputs": [],
   "source": [
    "score = error_sum[:, 1]"
   ]
  },
  {
   "cell_type": "code",
   "execution_count": null,
   "metadata": {},
   "outputs": [],
   "source": [
    "#speed emphasis is 1\n",
    "emphasis = numpy.zeros(len(score))\n",
    "emphasis[1:-1:2] = 1\n",
    "\n",
    "condition = numpy.zeros(len(score))\n",
    "condition[1:-1:4] = 1\n",
    "condition[0:-1:4] = 1\n",
    "condition"
   ]
  },
  {
   "cell_type": "code",
   "execution_count": null,
   "metadata": {},
   "outputs": [],
   "source": [
    "numpy.savetxt('error_anova.csv', numpy.column_stack((emphasis, condition, score)), delimiter=\",\")\n"
   ]
  },
  {
   "cell_type": "code",
   "execution_count": null,
   "metadata": {},
   "outputs": [],
   "source": [
    "lm = smf.OLS(score, numpy.column_stack((emphasis, condition))).fit()"
   ]
  },
  {
   "cell_type": "code",
   "execution_count": null,
   "metadata": {},
   "outputs": [],
   "source": [
    "print (lm.summary())"
   ]
  },
  {
   "cell_type": "code",
   "execution_count": null,
   "metadata": {},
   "outputs": [],
   "source": [
    "table = sm.stats.anova_lm(lm)"
   ]
  },
  {
   "cell_type": "markdown",
   "metadata": {},
   "source": [
    "\n",
    "distance from target vs time quantiles\n",
    "\n",
    "break blocks into 16 sets of trials\n",
    "\n",
    "error vs groups of trials\n",
    "\n",
    "Clean up data"
   ]
  },
  {
   "cell_type": "code",
   "execution_count": null,
   "metadata": {},
   "outputs": [],
   "source": [
    "numpy.column_stack((initial_times[1:-1:4][1], initial_times[4:-1:4][1])) - numpy.column_stack((initial_times[1:-1:4][0], initial_times[4:-1:4][0]))"
   ]
  },
  {
   "cell_type": "code",
   "execution_count": null,
   "metadata": {},
   "outputs": [],
   "source": [
    "numpy.concatenate((initial_times[1:-1:4,1], initial_times[4:-1:4, 1])) - numpy.concatenate((initial_times[1:-1:4,0], initial_times[4:-1:4, 0]))"
   ]
  },
  {
   "cell_type": "code",
   "execution_count": null,
   "metadata": {},
   "outputs": [],
   "source": [
    "numpy.concatenate((initial_times[1:-1:4,11], initial_times[4:-1:4, 11])) - numpy.concatenate((initial_times[1:-1:4,10], initial_times[4:-1:4, 10]))"
   ]
  },
  {
   "cell_type": "code",
   "execution_count": null,
   "metadata": {},
   "outputs": [],
   "source": [
    "def calc_dist(traj):    \n",
    "    distance = list()\n",
    "    for j in range(64):\n",
    "        traj_dist = list()\n",
    "        trajx, trajy = traj['x'][0][j][0], traj['y'][0][j][0]\n",
    "        #end_pointx, end_pointy  = square_coord['squareX'][0][j], square_coord['squareY'][0][j]\n",
    "        end_pointx, end_pointy  = traj['x'][0][j][0][-1], traj['y'][0][j][0][-1]\n",
    "\n",
    "\n",
    "        for i in range(len(trajx)):\n",
    "            xdist = numpy.absolute(end_pointx - trajx[i])\n",
    "            ydist = numpy.absolute(end_pointy-trajy[i])\n",
    "            dist = numpy.sqrt(xdist**2 + ydist**2)\n",
    "            traj_dist.append(dist)\n",
    "        distance.append(traj_dist)\n",
    "    return distance\n",
    "#dist = numpy.linalg.norm(numpy.cross(p2-p1, p1-p3))/numpy.linalg.norm(p2-p1)"
   ]
  },
  {
   "cell_type": "code",
   "execution_count": null,
   "metadata": {},
   "outputs": [],
   "source": [
    "def distancevstime(data, block):\n",
    "    traj = scipy.io.loadmat('data/participants/data{data}/actual_trajectories/trajectories{block}.mat'.format(block=str(block), data=str(data)))\n",
    "    ideal_traj = scipy.io.loadmat('data/participants/data{data}/ideal_trajectories/ideal_trajectories{block}.mat'.format(block = str(block), data=str(data)))\n",
    "    #squares = scipy.io.loadmat('data/participants/data{data}/squares/coordinates/squares{block}.mat'.format(block=str(block), data=str(data)))\n",
    "    #xdiff = (ideal_traj['idealXs'] - traj['x'])\n",
    "    #ydiff = (ideal_traj['idealYs'] - traj['y'])\n",
    "    distance = calc_dist(traj)\n",
    "    \n",
    "    #error = xdiff**2+ydiff**2\n",
    "    #print (error)\n",
    "    distance_means = numpy.zeros((64, 5))\n",
    "    for i in range(64):\n",
    "        n = len(distance[i])\n",
    "        for j in range(5):\n",
    "            distance_means[i, j] = numpy.nanmean(distance[i][int(numpy.floor((j)*n/5)):int(numpy.floor((j+1)*n/5))])\n",
    "        #error_means[i, ] = error_means[i, ]/max(error_means[i,])\n",
    "\n",
    "    \n",
    "    time_means = numpy.zeros((64, 5))\n",
    "\n",
    "    for i in range(64):\n",
    "        n = len(distance[i])\n",
    "        for j in range(5):\n",
    "            time_means[i, j] = len(distance[i][int(numpy.floor((j)*n/5)):int(numpy.floor((j+1)*n/5))])\n",
    "    times = numpy.cumsum(numpy.mean(time_means, axis = 0))\n",
    "    plt.errorbar(times, numpy.nanmean(distance_means, axis = 0), xerr = stat.sem(time_means, axis = 0), yerr = stat.sem(distance_means, axis = 0))\n",
    "    plt.ylabel('Distance')\n",
    "    plt.xlabel('Time')\n",
    "    #plt.xlim(0, 100)\n",
    "    #plt.ylim(-20, 70)\n",
    "    return times, numpy.nanmean(distance_means, axis = 0)"
   ]
  },
  {
   "cell_type": "code",
   "execution_count": null,
   "metadata": {},
   "outputs": [],
   "source": [
    "distss = numpy.array([])\n",
    "distas = numpy.array([])\n",
    "distsg = numpy.array([])\n",
    "distag = numpy.array([])\n",
    "timess = numpy.array([])\n",
    "timeas = numpy.array([])\n",
    "timesg = numpy.array([])\n",
    "timeag = numpy.array([])\n",
    "data = 11\n",
    "for participant in range(1, 27):\n",
    "    if participant == 7:\n",
    "        continue\n",
    "    if participant%4 == 0:\n",
    "        temp = distancevstime(participant, data)\n",
    "        distss = numpy.concatenate((distss, temp[1]))\n",
    "        timess = numpy.concatenate((timess, temp[0]))\n",
    "    if participant%4 == 1:\n",
    "        temp = distancevstime(participant, data)\n",
    "        distas = numpy.concatenate((distas, temp[1]))\n",
    "        timeas = numpy.concatenate((timeas, temp[0]))\n",
    "    if participant%4 == 2:\n",
    "        temp = distancevstime(participant, data)\n",
    "        distsg = numpy.concatenate((distsg, temp[1]))\n",
    "        timesg = numpy.concatenate((timesg, temp[0]))\n",
    "    if participant%4 == 3:\n",
    "        temp = distancevstime(participant, data)\n",
    "        distag = numpy.concatenate((distag, temp[1]))\n",
    "        timeag = numpy.concatenate((timeag, temp[0]))\n",
    "\n",
    "#    distancevstime(16, 11)\n"
   ]
  },
  {
   "cell_type": "code",
   "execution_count": null,
   "metadata": {},
   "outputs": [],
   "source": [
    "plot1, = plt.plot(numpy.nanmean(numpy.reshape(timess, (int(len(timess)/5), 5)), axis = 0), numpy.nanmean(numpy.reshape(distss, (int(len(distss)/5), 5)), axis = 0))\n",
    "plot2, = plt.plot(numpy.nanmean(numpy.reshape(timesg, (int(len(timesg)/5), 5)), axis = 0), numpy.nanmean(numpy.reshape(distsg, (int(len(distsg)/5), 5)), axis = 0))\n",
    "plot3, = plt.plot(numpy.nanmean(numpy.reshape(timeas, (int(len(timeas)/5), 5)), axis = 0), numpy.nanmean(numpy.reshape(distas, (int(len(distas)/5), 5)), axis = 0))\n",
    "plot4, = plt.plot(numpy.nanmean(numpy.reshape(timeag, (int(len(timeag)/5), 5)), axis = 0), numpy.nanmean(numpy.reshape(distag, (int(len(distag)/5), 5)), axis = 0))\n",
    "\n",
    "plt.legend((plot1, plot2, plot3, plot4), ('SS', 'SG', 'AS', 'AG'))\n",
    "plt.xlabel('Time')\n",
    "plt.ylabel('Distance to target')"
   ]
  },
  {
   "cell_type": "markdown",
   "metadata": {},
   "source": [
    "# Curvatures"
   ]
  },
  {
   "cell_type": "code",
   "execution_count": 5,
   "metadata": {},
   "outputs": [],
   "source": [
    "def calc_angle(current_point, next_point, final_point):\n",
    "    vec1 = next_point - current_point\n",
    "    vec2 = final_point - current_point\n",
    "    cos_theta = numpy.dot(vec1, vec2)/(numpy.linalg.norm(vec1) * numpy.linalg.norm(vec2))\n",
    "    theta = numpy.degrees(numpy.arccos(cos_theta))\n",
    "    return theta"
   ]
  },
  {
   "cell_type": "code",
   "execution_count": 35,
   "metadata": {},
   "outputs": [],
   "source": [
    "def calc_curvature(data, block, trial):\n",
    "    traj = scipy.io.loadmat('data/data{data}/actual_trajectories/trajectories{block}.mat'.format(block=str(block), data=str(data)))\n",
    "    trajx, trajy = traj['x'][0][trial][0], traj['y'][0][trial][0]\n",
    "    targetx, targety = trajx[-1], trajy[-1]\n",
    "    angles = list()\n",
    "    for i in range(len(trajx[:-1])):\n",
    "        #print (trajx[i], trajy[i])\n",
    "        angles.append(calc_angle(numpy.array([trajx[i], trajy[i]]), numpy.array([trajx[i+1], trajy[i+1]]), numpy.array([trajx[-1], trajy[-1]])))\n",
    "    return numpy.nanmedian(angles)"
   ]
  },
  {
   "cell_type": "code",
   "execution_count": 7,
   "metadata": {},
   "outputs": [
    {
     "data": {
      "text/plain": [
       "17.290792482488367"
      ]
     },
     "execution_count": 7,
     "metadata": {},
     "output_type": "execute_result"
    }
   ],
   "source": [
    "calc_angle(numpy.array([0, 0]), numpy.array([4, -25]), numpy.array([254, 164]))\n",
    "calc_curvature(1004, 8, 42)\n",
    "#plt.scatter([0, 4, 254], [0, -25, 164])"
   ]
  },
  {
   "cell_type": "code",
   "execution_count": 36,
   "metadata": {},
   "outputs": [
    {
     "name": "stderr",
     "output_type": "stream",
     "text": [
      "C:\\Users\\Tejas\\Anaconda3\\lib\\site-packages\\ipykernel_launcher.py:5: RuntimeWarning: invalid value encountered in arccos\n",
      "  \"\"\"\n",
      "C:\\Users\\Tejas\\Anaconda3\\lib\\site-packages\\ipykernel_launcher.py:4: RuntimeWarning: invalid value encountered in true_divide\n",
      "  after removing the cwd from sys.path.\n",
      "C:\\Users\\Tejas\\Anaconda3\\lib\\site-packages\\ipykernel_launcher.py:4: RuntimeWarning: invalid value encountered in double_scalars\n",
      "  after removing the cwd from sys.path.\n"
     ]
    },
    {
     "name": "stdout",
     "output_type": "stream",
     "text": [
      "0\n",
      "10\n"
     ]
    },
    {
     "name": "stderr",
     "output_type": "stream",
     "text": [
      "C:\\Users\\Tejas\\Anaconda3\\lib\\site-packages\\numpy\\lib\\function_base.py:3250: RuntimeWarning: All-NaN slice encountered\n",
      "  r = func(a, **kwargs)\n"
     ]
    },
    {
     "name": "stdout",
     "output_type": "stream",
     "text": [
      "20\n",
      "30\n",
      "40\n",
      "50\n"
     ]
    }
   ],
   "source": [
    "curvatures = numpy.zeros((60, 12, 64))\n",
    "for data in range(60):\n",
    "    for block in range(12):\n",
    "        for trial in range(64):\n",
    "            curvatures[data][block][trial] = calc_curvature(data+1000, block, trial)\n",
    "    if data%10 == 0:\n",
    "        print (data)"
   ]
  },
  {
   "cell_type": "code",
   "execution_count": 37,
   "metadata": {},
   "outputs": [
    {
     "data": {
      "image/png": "[encoded data removed]",
      "text/plain": [
       "<Figure size 432x288 with 1 Axes>"
      ]
     },
     "metadata": {
      "needs_background": "light"
     },
     "output_type": "display_data"
    },
    {
     "data": {
      "image/png": "[encoded data removed]",
      "text/plain": [
       "<Figure size 432x288 with 1 Axes>"
      ]
     },
     "metadata": {
      "needs_background": "light"
     },
     "output_type": "display_data"
    },
    {
     "data": {
      "image/png": "[encoded data removed]",
      "text/plain": [
       "<Figure size 432x288 with 1 Axes>"
      ]
     },
     "metadata": {
      "needs_background": "light"
     },
     "output_type": "display_data"
    },
    {
     "data": {
      "image/png": "[encoded data removed]",
      "text/plain": [
       "<Figure size 432x288 with 1 Axes>"
      ]
     },
     "metadata": {
      "needs_background": "light"
     },
     "output_type": "display_data"
    }
   ],
   "source": [
    "def plot_curvature_means(distances, path):\n",
    "    #plt.rcParams[('figure.figsize')] = [8, 6]\n",
    "\n",
    "    mean_errors = numpy.mean(distances, axis =2)\n",
    "    plt.errorbar(range(1, 11), numpy.mean(numpy.nanmean(distances, axis = 2)[3::4], axis = 0)[1:-1], yerr = stat.sem(numpy.nanmedian(distances, axis = 2)[3::4], axis = 0)[1:-1], capsize=3)\n",
    "    #plt.errorbar(0, numpy.mean(numpy.median(distances, axis = 2)[3::4], axis = 0)[0], yerr = stat.sem(numpy.median(distances, axis = 2)[3::4], axis = 0)[0], capsize=3, fmt = 's')\n",
    "    plt.errorbar(11, numpy.mean(numpy.nanmean(distances, axis = 2)[3::4], axis = 0)[11], yerr = stat.sem(numpy.nanmedian(distances, axis = 2)[3::4], axis = 0)[11], capsize=3, fmt = 's')\n",
    "    #plt.text(x=5, y = 80, s = '14 Participants')\n",
    "    plt.ylabel('Curvature')\n",
    "    plt.xlabel('Block')\n",
    "    plt.title('Gradual Accuracy')\n",
    "    plt.xticks(range(12), ['0', '1', '2', '3', '4', '5', '6', '7', '8', '9', '10', '11'])\n",
    "\n",
    "    #y_lim_max = numpy.max((mean_errors)) + 5\n",
    "    #y_lim_max = 500000\n",
    "    #plt.ylim((0, y_lim_max))\n",
    "#    print(max(np.mean(quantiles[3::4][:, :, 3], axis = 0)[1:-1]) + 0.7)\n",
    "    #plt.tight_layout()\n",
    "    #plt.savefig(path+'learning_GA.png', dpi = 600)\n",
    "    plt.show()\n",
    "\n",
    "    plt.errorbar(range(1, 11), numpy.mean(numpy.nanmean(distances, axis = 2)[2::4], axis = 0)[1:-1], yerr = stat.sem(numpy.nanmedian(distances, axis = 2)[2::4], axis = 0)[1:-1], capsize=3)\n",
    "    #plt.errorbar(0, numpy.mean(numpy.median(distances, axis = 2)[2::4], axis = 0)[0], yerr = stat.sem(numpy.median(distances, axis = 2)[2::4], axis = 0)[0], capsize=3, fmt = 's')\n",
    "    plt.errorbar(11, numpy.mean(numpy.nanmean(distances, axis = 2)[2::4], axis = 0)[11], yerr = stat.sem(numpy.nanmedian(distances, axis = 2)[2::4], axis = 0)[11], capsize=3, fmt = 's')\n",
    "    #plt.text(x=5, y = 80, s = '15 Participants')\n",
    "    plt.ylabel('Curvature')\n",
    "    plt.xlabel('Block')\n",
    "    plt.xticks(range(12), ['0', '1', '2', '3', '4', '5', '6', '7', '8', '9', '10', '11'])\n",
    "    plt.title('Gradual Speed')\n",
    "    #plt.ylim(-1, y_lim_max)\n",
    "    #plt.tight_layout()\n",
    "    #plt.savefig(path+'learning_GS.png', dpi = 600)\n",
    "    plt.show()\n",
    "    #y_lim_max = 2200\n",
    "\n",
    "    plt.errorbar(range(1, 11), numpy.mean(numpy.nanmean(distances, axis = 2)[1::4], axis = 0)[1:-1], yerr = stat.sem(numpy.nanmedian(distances, axis = 2)[1::4], axis = 0)[1:-1], capsize=3)\n",
    "    #plt.errorbar(0, numpy.mean(numpy.mean(distances, axis = 2)[1::4], axis = 0)[0], yerr = stat.sem(numpy.mean(distances, axis = 2)[1::4], axis = 0)[0], capsize=3, fmt = 's')\n",
    "    plt.errorbar(11, numpy.mean(numpy.nanmean(distances, axis = 2)[1::4], axis = 0)[11], yerr = stat.sem(numpy.nanmedian(distances, axis = 2)[1::4], axis = 0)[11], capsize=3, fmt = 's')\n",
    "    #plt.text(x=5, y = 80, s = '15 Participants')\n",
    "    plt.ylabel('Curvature')\n",
    "    plt.xlabel('Block')\n",
    "    plt.xticks(range(12), ['0', '1', '2', '3', '4', '5', '6', '7', '8', '9', '10', '11'])\n",
    "    plt.title('Sudden Accuracy')\n",
    "    #y_lim_max = 10000\n",
    "\n",
    "    #plt.ylim(2, y_lim_max)\n",
    "    #plt.tight_layout()\n",
    "    #plt.savefig(path+'learning_SA.png', dpi = 600)\n",
    "    plt.show()\n",
    "\n",
    "    plt.errorbar(range(1, 11), numpy.mean(numpy.nanmean(distances, axis = 2)[4::4], axis = 0)[1:-1], yerr = stat.sem(numpy.nanmedian(distances, axis = 2)[4::4], axis = 0)[1:-1], capsize=3)\n",
    "    #plt.errorbar(0, numpy.mean(numpy.median(distances, axis = 2)[4::4], axis = 0)[0], yerr = stat.sem(numpy.median(distances, axis = 2)[4::4], axis = 0)[0], capsize=3, fmt = 's')\n",
    "    plt.errorbar(11, numpy.mean(numpy.nanmean(distances, axis = 2)[4::4], axis = 0)[11], yerr = stat.sem(numpy.nanmedian(distances, axis = 2)[4::4], axis = 0)[11], capsize=3, fmt = 's')\n",
    "    #plt.text(x=5, y = 80, s = '14 Participants')\n",
    "    plt.xticks(range(12), ['0', '1', '2', '3', '4', '5', '6', '7', '8', '9', '10', '11'])\n",
    "    plt.ylabel('Curvature')\n",
    "    plt.xlabel('Block')\n",
    "    plt.title('Sudden Speed')\n",
    "#    y_lim_max = 2600\n",
    "    #plt.ylim(2, y_lim_max)\n",
    "    #plt.tight_layout()\n",
    "    #plt.savefig(path+'learning_SS.png', dpi = 600)\n",
    "    plt.show()\n",
    "\n",
    "plot_curvature_means(curvatures, \"\")\n"
   ]
  },
  {
   "cell_type": "code",
   "execution_count": 6,
   "metadata": {},
   "outputs": [
    {
     "data": {
      "text/plain": [
       "<BarContainer object of 1 artists>"
      ]
     },
     "execution_count": 6,
     "metadata": {},
     "output_type": "execute_result"
    },
    {
     "data": {
      "image/png": "[encoded data removed]",
      "text/plain": [
       "<Figure size 432x288 with 1 Axes>"
      ]
     },
     "metadata": {
      "needs_background": "light"
     },
     "output_type": "display_data"
    }
   ],
   "source": [
    "y = numpy.array([numpy.mean(numpy.mean(curvatures, axis = 2)[0::4], axis = 0)[11],\n",
    "                 numpy.mean(numpy.mean(curvatures, axis = 2)[1::4], axis = 0)[11],\n",
    "                 numpy.mean(numpy.mean(curvatures, axis = 2)[2::4], axis = 0)[11],\n",
    "                 numpy.mean(numpy.mean(curvatures, axis = 2)[3::4], axis = 0)[11]])\n",
    "y_sem = numpy.array([stat.sem(numpy.nanmean(curvatures, axis = 2)[0::4], axis = 0)[11],\n",
    "                     stat.sem(numpy.nanmean(curvatures, axis = 2)[1::4], axis = 0)[11],\n",
    "                     stat.sem(numpy.nanmean(curvatures, axis = 2)[2::4], axis = 0)[11],\n",
    "                     stat.sem(numpy.nanmean(curvatures, axis = 2)[3::4], axis = 0)[11]])\n",
    "\n",
    "plt.bar(0, y[0], yerr = y_sem[0])\n",
    "plt.bar(1, y[1], yerr = y_sem[1])\n",
    "plt.bar(2, y[2], yerr = y_sem[2])\n",
    "plt.bar(3, y[3], yerr = y_sem[3])\n",
    "\n",
    "\n",
    "#plt.xticks(['Sudden Speed', 'Sudden Accuracy', 'Gradual Speed', 'Gradual Accuracy'], rotation = 'vertical')"
   ]
  },
  {
   "cell_type": "code",
   "execution_count": 38,
   "metadata": {},
   "outputs": [
    {
     "name": "stdout",
     "output_type": "stream",
     "text": [
      "[29.36343395 31.87006714 29.81624723 40.07246348]\n"
     ]
    },
    {
     "data": {
      "image/png": "[encoded data removed]",
      "text/plain": [
       "<Figure size 432x288 with 1 Axes>"
      ]
     },
     "metadata": {
      "needs_background": "light"
     },
     "output_type": "display_data"
    }
   ],
   "source": [
    "#numpy.mean(numpy.mean(error_sum[1::4], axis = 2), axis = 0)\n",
    "#stat.sem(numpy.mean(error_sum[1::4], axis = 2), axis = 0)\n",
    "def plot_curvature_means_transfer(distances, text):\n",
    "#    quantiles = get_quantile(total_times)\n",
    "    xpos = [0, 1, 2, 3, 4]\n",
    "    y = numpy.array([numpy.mean(numpy.nanmean(distances[1::4], axis = 2), axis = 0)[11],# - numpy.mean(numpy.median(distances[1::4], axis = 2), axis = 0)[10],\n",
    "                  numpy.mean(numpy.nanmean(distances[4::4], axis = 2), axis = 0)[11], #- numpy.mean(numpy.median(distances[4::4], axis = 2), axis = 0)[10],\n",
    "                  numpy.mean(numpy.nanmean(distances[3::4], axis = 2), axis = 0)[11], #- numpy.mean(numpy.median(distances[3::4], axis = 2), axis = 0)[10],\n",
    "                  numpy.mean(numpy.nanmean(distances[2::4], axis = 2), axis = 0)[11]] #- numpy.mean(numpy.median(distances[2::4], axis = 2), axis = 0)[10]] \n",
    "                  )\n",
    "    y_sem = numpy.array([stat.sem(numpy.nanmean(distances[1::4], axis = 2), axis = 0)[11], \n",
    "                    stat.sem(numpy.nanmean(distances[4::4], axis = 2), axis = 0)[11],\n",
    "                    stat.sem(numpy.nanmean(distances[3::4], axis = 2), axis = 0)[11],\n",
    "                    stat.sem(numpy.nanmean(distances[2::4], axis = 2), axis = 0)[11]])\n",
    "    #print (y_sem[0])\n",
    "    #y_sem = numpy.array([0, 0, 0, 0])\n",
    "    plt.bar(0, y[0], yerr = y_sem[0], capsize = 3, color = 'Blue', alpha = 1)\n",
    "    plt.bar(2, y[1], yerr = y_sem[1], capsize = 3, color = 'Blue', alpha = 0.5)\n",
    "    plt.bar(1, y[2], yerr = y_sem[2], capsize = 3, color = 'Green', alpha = 0.5)\n",
    "    plt.bar(3, y[3], yerr = y_sem[3], capsize = 3, color = 'Green', alpha = 1)\n",
    "\n",
    "#    handles = plt.bar(range(4), y, yerr = y_sem, capsize = 3, color = ['Blue', 'Green', 'Blue', 'Green'], alpha = [1, 0.5, 0.5, 1])\n",
    "    plt.xticks([0, 2, 1, 3], ['Sudden \\n Accuracy', 'Sudden \\n Speed', 'Gradual \\n Accuracy', 'Gradual \\nSpeed'], rotation = 'vertical')\n",
    "    plt.ylabel('Error (RMSE)')\n",
    "    plt.xlabel('Condition')\n",
    "    #plt.legend([handles[0], handles[1]], ['Speed', 'Accuracy'])\n",
    "    plt.title(text)\n",
    "    \n",
    "    print (y)\n",
    "#numpy.shape(numpy.mean(error_sum[1::4], axis = 0))\n",
    "plot_curvature_means_transfer(curvatures, 'text')"
   ]
  },
  {
   "cell_type": "code",
   "execution_count": 22,
   "metadata": {},
   "outputs": [
    {
     "data": {
      "text/plain": [
       "array([[[ 30.44759956,  88.42835939,  82.7168406 , ..., 108.14576975,\n",
       "         102.29125659, 105.87179615],\n",
       "        [ 68.5377975 ,  70.75406885,  89.87084942, ...,  36.04379645,\n",
       "          41.60818941,  36.06155192],\n",
       "        [ 60.28615762,  39.93255765,  26.6641574 , ...,  39.50747691,\n",
       "          32.24076776,  42.98331821],\n",
       "        ...,\n",
       "        [  7.34048501,  13.35009097,   3.22911772, ...,  23.00618543,\n",
       "          64.95364615,   9.0010165 ],\n",
       "        [ 20.38653137,  65.24449964,  26.47460864, ...,  32.43212131,\n",
       "          35.51226544,  47.69382018],\n",
       "        [ 68.90948054,  62.78015439,  58.26787441, ...,  43.88983632,\n",
       "          30.08007219,  34.0224492 ]],\n",
       "\n",
       "       [[  4.96349748,  91.19751216,  68.2018636 , ..., 106.51597572,\n",
       "         101.54928767, 106.28980734],\n",
       "        [ 77.71977267,  85.72261857,  66.13533409, ...,   5.54127233,\n",
       "          14.23359166,   7.85698806],\n",
       "        [  8.10931525,   6.09182346,  90.90252697, ...,   3.21287898,\n",
       "           4.93579134,  36.8390552 ],\n",
       "        ...,\n",
       "        [  1.40328411,   0.92189672,  78.26251876, ...,  82.52871337,\n",
       "          78.13905693,   5.36626201],\n",
       "        [  2.06006902,  86.87889558,   2.90249467, ...,   2.51841625,\n",
       "           4.73646069,  81.74367636],\n",
       "        [ 49.31619271,   4.9881701 ,  34.84493372, ...,   1.52202279,\n",
       "           1.51596167,  13.33278331]],\n",
       "\n",
       "       [[  7.08593494, 109.1104664 ,  70.26135343, ..., 112.2593972 ,\n",
       "          96.48237875, 113.20378344],\n",
       "        [ 85.86034974,  65.62797138,  48.11502333, ...,  46.49240313,\n",
       "          60.05928066,  65.09339063],\n",
       "        [ 64.27404915,  69.76617209,  37.06397852, ...,  61.11707274,\n",
       "          55.26432279,  31.83610238],\n",
       "        ...,\n",
       "        [  2.29333876,   5.22287084,   2.34882329, ...,   5.59143904,\n",
       "          77.18121937,  56.29194139],\n",
       "        [  0.84899194,  88.20103222,  15.91464492, ...,   5.22017571,\n",
       "           2.88803148,  87.62935743],\n",
       "        [ 74.37486207,   1.11288449,   1.20033764, ...,   4.36908313,\n",
       "           2.94736117,   2.11854731]],\n",
       "\n",
       "       ...,\n",
       "\n",
       "       [[  1.76655372,  87.2226737 ,  55.30772582, ..., 109.64065923,\n",
       "          99.04059562, 107.83619601],\n",
       "        [ 81.14826931,  90.17038731,  75.32875354, ...,  78.07695141,\n",
       "           1.70379433,   1.60848346],\n",
       "        [ 63.99003643,  75.11452429,  88.3516186 , ...,   4.35308273,\n",
       "           4.89213053,   9.2600573 ],\n",
       "        ...,\n",
       "        [  2.63425148,  79.67199127,   1.27477726, ...,  20.75586152,\n",
       "          85.41037914,   1.94825656],\n",
       "        [ 13.66758913,  85.21339759,   1.74009854, ...,   1.4706452 ,\n",
       "           1.96940702,  85.1034086 ],\n",
       "        [ 86.25442147,  54.57918148,  67.72923758, ...,   2.24440336,\n",
       "           2.84666835,  62.18049139]],\n",
       "\n",
       "       [[  1.74741899,  89.46813645,  57.01085653, ..., 104.72191636,\n",
       "         103.31703304, 107.09785889],\n",
       "        [ 87.10914489,  80.76213936,  41.38225485, ...,  26.34130905,\n",
       "          10.38408284,  13.87378896],\n",
       "        [  2.54590736,   1.08203963,  37.83910937, ...,   2.45303882,\n",
       "           2.79656516,   1.88329237],\n",
       "        ...,\n",
       "        [  2.64260227,   2.01249147,   1.19249905, ...,   2.03205439,\n",
       "          85.55526768,   1.40097207],\n",
       "        [ 45.76021092,  65.55599043,   0.81541382, ...,   2.50661229,\n",
       "           1.33483709,  74.76483773],\n",
       "        [ 82.91802857,   0.7322532 ,   2.96981612, ...,   2.79879491,\n",
       "           1.46849965,   2.64989838]],\n",
       "\n",
       "       [[  2.77831889, 105.79858456,  62.63127332, ..., 108.23361895,\n",
       "          99.91144461, 108.69273937],\n",
       "        [ 77.35962276,  62.47860911,  51.39485975, ...,   4.78912477,\n",
       "          66.73402915,   5.37034823],\n",
       "        [ 60.78688802,  65.59159632,  55.6542368 , ...,   2.90125271,\n",
       "           3.90247446,   3.72990656],\n",
       "        ...,\n",
       "        [  0.96435217,   2.16478836,  81.77775089, ...,   3.29330088,\n",
       "          30.02698777,   2.51184908],\n",
       "        [  3.17454516,  77.49708557,   3.91301591, ...,   3.28619321,\n",
       "           3.38870465,  73.24517276],\n",
       "        [ 49.27383003,   1.43931679,   1.21205617, ...,   8.73765374,\n",
       "           3.85179042,   1.78213027]]])"
      ]
     },
     "execution_count": 22,
     "metadata": {},
     "output_type": "execute_result"
    }
   ],
   "source": [
    "curvatures[1::4]"
   ]
  },
  {
   "cell_type": "code",
   "execution_count": 8,
   "metadata": {},
   "outputs": [],
   "source": [
    "import statsmodels.api as sm\n",
    "from statsmodels.formula.api import ols"
   ]
  },
  {
   "cell_type": "code",
   "execution_count": null,
   "metadata": {},
   "outputs": [],
   "source": [
    "ols()"
   ]
  },
  {
   "cell_type": "code",
   "execution_count": 87,
   "metadata": {},
   "outputs": [
    {
     "data": {
      "text/plain": [
       "F_onewayResult(statistic=8.011723861408598, pvalue=0.00015648803220805237)"
      ]
     },
     "execution_count": 87,
     "metadata": {},
     "output_type": "execute_result"
    }
   ],
   "source": [
    "stat.f_oneway(numpy.mean(curvatures[0::4, :, :], axis = 2)[:, 11], numpy.mean(curvatures[1::4, :, :], axis = 2)[:, 11], numpy.mean(curvatures[2::4, :, :], axis = 2)[:, 11], numpy.mean(curvatures[3::4, :, :], axis = 2)[:, 11])"
   ]
  },
  {
   "cell_type": "code",
   "execution_count": 9,
   "metadata": {},
   "outputs": [],
   "source": [
    "import pandas as pd"
   ]
  },
  {
   "cell_type": "code",
   "execution_count": 10,
   "metadata": {},
   "outputs": [],
   "source": [
    "df = pd.DataFrame({\"Emphasis\": numpy.tile([\"Speed\", \"Accuracy\"], 30),\n",
    "                   \"Rotation\": numpy.tile([\"Sudden\", \"Sudden\", \"Gradual\", \"Gradual\"], 15),\n",
    "                   \"Curvature\": numpy.nanmean(curvatures[:, :, :], axis = 2)[:, 11]})"
   ]
  },
  {
   "cell_type": "code",
   "execution_count": null,
   "metadata": {},
   "outputs": [],
   "source": []
  },
  {
   "cell_type": "code",
   "execution_count": 20,
   "metadata": {},
   "outputs": [],
   "source": [
    "d_melt = pd.melt(df.reset_index(), id_vars=['index'], value_vars=['Sudden_Speed', 'Sudden_Accuracy', 'Gradual_Speed', 'Gradual_Accuracy'])"
   ]
  },
  {
   "cell_type": "code",
   "execution_count": 11,
   "metadata": {},
   "outputs": [],
   "source": [
    "model = ols('Curvature ~ C(Emphasis)*C(Rotation)', data=df).fit()"
   ]
  },
  {
   "cell_type": "code",
   "execution_count": 12,
   "metadata": {
    "scrolled": true
   },
   "outputs": [
    {
     "name": "stdout",
     "output_type": "stream",
     "text": [
      "                           df       sum_sq      mean_sq          F    PR(>F)\n",
      "C(Emphasis)               1.0  1276.261297  1276.261297  20.687061  0.000029\n",
      "C(Rotation)               1.0   134.935943   134.935943   2.187192  0.144766\n",
      "C(Emphasis):C(Rotation)   1.0    10.801604    10.801604   0.175084  0.677233\n",
      "Residual                 56.0  3454.847019    61.693697        NaN       NaN\n"
     ]
    }
   ],
   "source": [
    "aov_table = sm.stats.anova_lm(model)\n",
    "print(aov_table)"
   ]
  },
  {
   "cell_type": "code",
   "execution_count": 75,
   "metadata": {},
   "outputs": [
    {
     "data": {
      "text/html": [
       "<table class=\"simpletable\">\n",
       "<caption>OLS Regression Results</caption>\n",
       "<tr>\n",
       "  <th>Dep. Variable:</th>        <td>Curvature</td>    <th>  R-squared:         </th> <td>   0.300</td>\n",
       "</tr>\n",
       "<tr>\n",
       "  <th>Model:</th>                   <td>OLS</td>       <th>  Adj. R-squared:    </th> <td>   0.263</td>\n",
       "</tr>\n",
       "<tr>\n",
       "  <th>Method:</th>             <td>Least Squares</td>  <th>  F-statistic:       </th> <td>   8.012</td>\n",
       "</tr>\n",
       "<tr>\n",
       "  <th>Date:</th>             <td>Wed, 22 Jan 2020</td> <th>  Prob (F-statistic):</th> <td>0.000156</td>\n",
       "</tr>\n",
       "<tr>\n",
       "  <th>Time:</th>                 <td>10:05:52</td>     <th>  Log-Likelihood:    </th> <td> -197.91</td>\n",
       "</tr>\n",
       "<tr>\n",
       "  <th>No. Observations:</th>      <td>    60</td>      <th>  AIC:               </th> <td>   403.8</td>\n",
       "</tr>\n",
       "<tr>\n",
       "  <th>Df Residuals:</th>          <td>    56</td>      <th>  BIC:               </th> <td>   412.2</td>\n",
       "</tr>\n",
       "<tr>\n",
       "  <th>Df Model:</th>              <td>     3</td>      <th>                     </th>     <td> </td>   \n",
       "</tr>\n",
       "<tr>\n",
       "  <th>Covariance Type:</th>      <td>nonrobust</td>    <th>                     </th>     <td> </td>   \n",
       "</tr>\n",
       "</table>\n",
       "<table class=\"simpletable\">\n",
       "<tr>\n",
       "                       <td></td>                         <th>coef</th>     <th>std err</th>      <th>t</th>      <th>P>|t|</th>  <th>[0.025</th>    <th>0.975]</th>  \n",
       "</tr>\n",
       "<tr>\n",
       "  <th>Intercept</th>                                  <td>   29.8162</td> <td>    1.751</td> <td>   17.032</td> <td> 0.000</td> <td>   26.309</td> <td>   33.323</td>\n",
       "</tr>\n",
       "<tr>\n",
       "  <th>C(Emphasis)[T.Speed]</th>                       <td>   10.2562</td> <td>    2.476</td> <td>    4.143</td> <td> 0.000</td> <td>    5.297</td> <td>   15.216</td>\n",
       "</tr>\n",
       "<tr>\n",
       "  <th>C(Rotation)[T.Sudden]</th>                      <td>   -0.4528</td> <td>    2.476</td> <td>   -0.183</td> <td> 0.856</td> <td>   -5.412</td> <td>    4.507</td>\n",
       "</tr>\n",
       "<tr>\n",
       "  <th>C(Emphasis)[T.Speed]:C(Rotation)[T.Sudden]</th> <td>   -7.1684</td> <td>    3.501</td> <td>   -2.047</td> <td> 0.045</td> <td>  -14.182</td> <td>   -0.155</td>\n",
       "</tr>\n",
       "</table>\n",
       "<table class=\"simpletable\">\n",
       "<tr>\n",
       "  <th>Omnibus:</th>       <td> 9.303</td> <th>  Durbin-Watson:     </th> <td>   1.970</td>\n",
       "</tr>\n",
       "<tr>\n",
       "  <th>Prob(Omnibus):</th> <td> 0.010</td> <th>  Jarque-Bera (JB):  </th> <td>   8.796</td>\n",
       "</tr>\n",
       "<tr>\n",
       "  <th>Skew:</th>          <td> 0.870</td> <th>  Prob(JB):          </th> <td>  0.0123</td>\n",
       "</tr>\n",
       "<tr>\n",
       "  <th>Kurtosis:</th>      <td> 3.700</td> <th>  Cond. No.          </th> <td>    6.85</td>\n",
       "</tr>\n",
       "</table><br/><br/>Warnings:<br/>[1] Standard Errors assume that the covariance matrix of the errors is correctly specified."
      ],
      "text/plain": [
       "<class 'statsmodels.iolib.summary.Summary'>\n",
       "\"\"\"\n",
       "                            OLS Regression Results                            \n",
       "==============================================================================\n",
       "Dep. Variable:              Curvature   R-squared:                       0.300\n",
       "Model:                            OLS   Adj. R-squared:                  0.263\n",
       "Method:                 Least Squares   F-statistic:                     8.012\n",
       "Date:                Wed, 22 Jan 2020   Prob (F-statistic):           0.000156\n",
       "Time:                        10:05:52   Log-Likelihood:                -197.91\n",
       "No. Observations:                  60   AIC:                             403.8\n",
       "Df Residuals:                      56   BIC:                             412.2\n",
       "Df Model:                           3                                         \n",
       "Covariance Type:            nonrobust                                         \n",
       "==============================================================================================================\n",
       "                                                 coef    std err          t      P>|t|      [0.025      0.975]\n",
       "--------------------------------------------------------------------------------------------------------------\n",
       "Intercept                                     29.8162      1.751     17.032      0.000      26.309      33.323\n",
       "C(Emphasis)[T.Speed]                          10.2562      2.476      4.143      0.000       5.297      15.216\n",
       "C(Rotation)[T.Sudden]                         -0.4528      2.476     -0.183      0.856      -5.412       4.507\n",
       "C(Emphasis)[T.Speed]:C(Rotation)[T.Sudden]    -7.1684      3.501     -2.047      0.045     -14.182      -0.155\n",
       "==============================================================================\n",
       "Omnibus:                        9.303   Durbin-Watson:                   1.970\n",
       "Prob(Omnibus):                  0.010   Jarque-Bera (JB):                8.796\n",
       "Skew:                           0.870   Prob(JB):                       0.0123\n",
       "Kurtosis:                       3.700   Cond. No.                         6.85\n",
       "==============================================================================\n",
       "\n",
       "Warnings:\n",
       "[1] Standard Errors assume that the covariance matrix of the errors is correctly specified.\n",
       "\"\"\""
      ]
     },
     "execution_count": 75,
     "metadata": {},
     "output_type": "execute_result"
    }
   ],
   "source": [
    "model.summary()"
   ]
  },
  {
   "cell_type": "code",
   "execution_count": 80,
   "metadata": {},
   "outputs": [
    {
     "data": {
      "text/html": [
       "<div>\n",
       "<style scoped>\n",
       "    .dataframe tbody tr th:only-of-type {\n",
       "        vertical-align: middle;\n",
       "    }\n",
       "\n",
       "    .dataframe tbody tr th {\n",
       "        vertical-align: top;\n",
       "    }\n",
       "\n",
       "    .dataframe thead th {\n",
       "        text-align: right;\n",
       "    }\n",
       "</style>\n",
       "<table border=\"1\" class=\"dataframe\">\n",
       "  <thead>\n",
       "    <tr style=\"text-align: right;\">\n",
       "      <th></th>\n",
       "      <th>df</th>\n",
       "      <th>sum_sq</th>\n",
       "      <th>mean_sq</th>\n",
       "      <th>F</th>\n",
       "      <th>PR(&gt;F)</th>\n",
       "    </tr>\n",
       "  </thead>\n",
       "  <tbody>\n",
       "    <tr>\n",
       "      <th>C(Emphasis)</th>\n",
       "      <td>1.0</td>\n",
       "      <td>667.732697</td>\n",
       "      <td>667.732697</td>\n",
       "      <td>14.525398</td>\n",
       "      <td>0.000346</td>\n",
       "    </tr>\n",
       "    <tr>\n",
       "      <th>C(Rotation)</th>\n",
       "      <td>1.0</td>\n",
       "      <td>244.464754</td>\n",
       "      <td>244.464754</td>\n",
       "      <td>5.317918</td>\n",
       "      <td>0.024832</td>\n",
       "    </tr>\n",
       "    <tr>\n",
       "      <th>C(Emphasis):C(Rotation)</th>\n",
       "      <td>1.0</td>\n",
       "      <td>192.699663</td>\n",
       "      <td>192.699663</td>\n",
       "      <td>4.191856</td>\n",
       "      <td>0.045321</td>\n",
       "    </tr>\n",
       "    <tr>\n",
       "      <th>Residual</th>\n",
       "      <td>56.0</td>\n",
       "      <td>2574.320642</td>\n",
       "      <td>45.970011</td>\n",
       "      <td>NaN</td>\n",
       "      <td>NaN</td>\n",
       "    </tr>\n",
       "  </tbody>\n",
       "</table>\n",
       "</div>"
      ],
      "text/plain": [
       "                           df       sum_sq     mean_sq          F    PR(>F)\n",
       "C(Emphasis)               1.0   667.732697  667.732697  14.525398  0.000346\n",
       "C(Rotation)               1.0   244.464754  244.464754   5.317918  0.024832\n",
       "C(Emphasis):C(Rotation)   1.0   192.699663  192.699663   4.191856  0.045321\n",
       "Residual                 56.0  2574.320642   45.970011        NaN       NaN"
      ]
     },
     "execution_count": 80,
     "metadata": {},
     "output_type": "execute_result"
    }
   ],
   "source": [
    "aov_table"
   ]
  },
  {
   "cell_type": "code",
   "execution_count": 86,
   "metadata": {},
   "outputs": [
    {
     "data": {
      "text/plain": [
       "<matplotlib.axes._subplots.AxesSubplot at 0x226570b1d68>"
      ]
     },
     "execution_count": 86,
     "metadata": {},
     "output_type": "execute_result"
    },
    {
     "data": {
      "image/png": "[encoded data removed]",
      "text/plain": [
       "<Figure size 576x432 with 1 Axes>"
      ]
     },
     "metadata": {
      "needs_background": "light"
     },
     "output_type": "display_data"
    }
   ],
   "source": [
    "df.boxplot('Curvature', by='Rotation', figsize=(8, 6))"
   ]
  },
  {
   "cell_type": "code",
   "execution_count": 116,
   "metadata": {},
   "outputs": [],
   "source": [
    "import statsmodels.formula.api as smf\n",
    "md = smf.mixedlm('Curvature ~ C(Emphasis)*C(Rotation)', data=df, groups = df['Emphasis'])\n",
    "mdf = md.fit()\n"
   ]
  },
  {
   "cell_type": "code",
   "execution_count": 117,
   "metadata": {},
   "outputs": [
    {
     "data": {
      "text/html": [
       "<table class=\"simpletable\">\n",
       "<tr>\n",
       "       <td>Model:</td>       <td>MixedLM</td> <td>Dependent Variable:</td> <td>Curvature</td>\n",
       "</tr>\n",
       "<tr>\n",
       "  <td>No. Observations:</td>   <td>60</td>          <td>Method:</td>         <td>REML</td>   \n",
       "</tr>\n",
       "<tr>\n",
       "     <td>No. Groups:</td>       <td>2</td>          <td>Scale:</td>         <td>61.6937</td> \n",
       "</tr>\n",
       "<tr>\n",
       "  <td>Min. group size:</td>    <td>30</td>        <td>Likelihood:</td>     <td>-200.2977</td>\n",
       "</tr>\n",
       "<tr>\n",
       "  <td>Max. group size:</td>    <td>30</td>        <td>Converged:</td>         <td>Yes</td>   \n",
       "</tr>\n",
       "<tr>\n",
       "  <td>Mean group size:</td>   <td>30.0</td>            <td></td>               <td></td>     \n",
       "</tr>\n",
       "</table>\n",
       "<table class=\"simpletable\">\n",
       "<tr>\n",
       "                       <td></td>                       <th>Coef.</th>   <th>Std.Err.</th>       <th>z</th>   <th>P>|z|</th> <th>[0.025</th>  <th>0.975]</th>\n",
       "</tr>\n",
       "<tr>\n",
       "  <th>Intercept</th>                                  <td>32.301</td>     <td>8.112</td>      <td>3.982</td> <td>0.000</td> <td>16.402</td>  <td>48.201</td>\n",
       "</tr>\n",
       "<tr>\n",
       "  <th>C(Emphasis)[T.Speed]</th>                       <td>10.073</td>    <td>11.472</td>      <td>0.878</td> <td>0.380</td> <td>-12.413</td> <td>32.558</td>\n",
       "</tr>\n",
       "<tr>\n",
       "  <th>C(Rotation)[T.Sudden]</th>                      <td>-2.151</td>     <td>2.868</td>     <td>-0.750</td> <td>0.453</td> <td>-7.772</td>   <td>3.471</td>\n",
       "</tr>\n",
       "<tr>\n",
       "  <th>C(Emphasis)[T.Speed]:C(Rotation)[T.Sudden]</th> <td>-1.697</td>     <td>4.056</td>     <td>-0.418</td> <td>0.676</td> <td>-9.647</td>   <td>6.253</td>\n",
       "</tr>\n",
       "<tr>\n",
       "  <th>Group Var</th>                                  <td>61.694</td> <td>745444444.370</td>    <td></td>      <td></td>       <td></td>        <td></td>   \n",
       "</tr>\n",
       "</table>"
      ],
      "text/plain": [
       "<class 'statsmodels.iolib.summary2.Summary'>\n",
       "\"\"\"\n",
       "                           Mixed Linear Model Regression Results\n",
       "===========================================================================================\n",
       "Model:                        MixedLM             Dependent Variable:             Curvature\n",
       "No. Observations:             60                  Method:                         REML     \n",
       "No. Groups:                   2                   Scale:                          61.6937  \n",
       "Min. group size:              30                  Likelihood:                     -200.2977\n",
       "Max. group size:              30                  Converged:                      Yes      \n",
       "Mean group size:              30.0                                                         \n",
       "-------------------------------------------------------------------------------------------\n",
       "                                           Coef.     Std.Err.     z    P>|z|  [0.025 0.975]\n",
       "-------------------------------------------------------------------------------------------\n",
       "Intercept                                  32.301         8.112  3.982 0.000  16.402 48.201\n",
       "C(Emphasis)[T.Speed]                       10.073        11.472  0.878 0.380 -12.413 32.558\n",
       "C(Rotation)[T.Sudden]                      -2.151         2.868 -0.750 0.453  -7.772  3.471\n",
       "C(Emphasis)[T.Speed]:C(Rotation)[T.Sudden] -1.697         4.056 -0.418 0.676  -9.647  6.253\n",
       "Group Var                                  61.694 745444444.370                            \n",
       "===========================================================================================\n",
       "\n",
       "\"\"\""
      ]
     },
     "execution_count": 117,
     "metadata": {},
     "output_type": "execute_result"
    }
   ],
   "source": [
    "mdf.summary()"
   ]
  },
  {
   "cell_type": "code",
   "execution_count": null,
   "metadata": {},
   "outputs": [],
   "source": []
  },
  {
   "cell_type": "code",
   "execution_count": 21,
   "metadata": {},
   "outputs": [],
   "source": [
    "model_lm = sm.OLS(numpy.ravel(curvatures[0, 11, :]),numpy.array(range(64))).fit()"
   ]
  },
  {
   "cell_type": "code",
   "execution_count": 22,
   "metadata": {},
   "outputs": [
    {
     "data": {
      "text/html": [
       "<table class=\"simpletable\">\n",
       "<caption>OLS Regression Results</caption>\n",
       "<tr>\n",
       "  <th>Dep. Variable:</th>            <td>y</td>        <th>  R-squared:         </th> <td>   0.313</td>\n",
       "</tr>\n",
       "<tr>\n",
       "  <th>Model:</th>                   <td>OLS</td>       <th>  Adj. R-squared:    </th> <td>   0.302</td>\n",
       "</tr>\n",
       "<tr>\n",
       "  <th>Method:</th>             <td>Least Squares</td>  <th>  F-statistic:       </th> <td>   28.71</td>\n",
       "</tr>\n",
       "<tr>\n",
       "  <th>Date:</th>             <td>Fri, 24 Jan 2020</td> <th>  Prob (F-statistic):</th> <td>1.26e-06</td>\n",
       "</tr>\n",
       "<tr>\n",
       "  <th>Time:</th>                 <td>11:41:02</td>     <th>  Log-Likelihood:    </th> <td> -338.03</td>\n",
       "</tr>\n",
       "<tr>\n",
       "  <th>No. Observations:</th>      <td>    64</td>      <th>  AIC:               </th> <td>   678.1</td>\n",
       "</tr>\n",
       "<tr>\n",
       "  <th>Df Residuals:</th>          <td>    63</td>      <th>  BIC:               </th> <td>   680.2</td>\n",
       "</tr>\n",
       "<tr>\n",
       "  <th>Df Model:</th>              <td>     1</td>      <th>                     </th>     <td> </td>   \n",
       "</tr>\n",
       "<tr>\n",
       "  <th>Covariance Type:</th>      <td>nonrobust</td>    <th>                     </th>     <td> </td>   \n",
       "</tr>\n",
       "</table>\n",
       "<table class=\"simpletable\">\n",
       "<tr>\n",
       "   <td></td>     <th>coef</th>     <th>std err</th>      <th>t</th>      <th>P>|t|</th>  <th>[0.025</th>    <th>0.975]</th>  \n",
       "</tr>\n",
       "<tr>\n",
       "  <th>x1</th> <td>    0.8800</td> <td>    0.164</td> <td>    5.359</td> <td> 0.000</td> <td>    0.552</td> <td>    1.208</td>\n",
       "</tr>\n",
       "</table>\n",
       "<table class=\"simpletable\">\n",
       "<tr>\n",
       "  <th>Omnibus:</th>       <td>60.268</td> <th>  Durbin-Watson:     </th> <td>   0.664</td>\n",
       "</tr>\n",
       "<tr>\n",
       "  <th>Prob(Omnibus):</th> <td> 0.000</td> <th>  Jarque-Bera (JB):  </th> <td>   7.767</td>\n",
       "</tr>\n",
       "<tr>\n",
       "  <th>Skew:</th>          <td>-0.438</td> <th>  Prob(JB):          </th> <td>  0.0206</td>\n",
       "</tr>\n",
       "<tr>\n",
       "  <th>Kurtosis:</th>      <td> 1.536</td> <th>  Cond. No.          </th> <td>    1.00</td>\n",
       "</tr>\n",
       "</table><br/><br/>Warnings:<br/>[1] Standard Errors assume that the covariance matrix of the errors is correctly specified."
      ],
      "text/plain": [
       "<class 'statsmodels.iolib.summary.Summary'>\n",
       "\"\"\"\n",
       "                            OLS Regression Results                            \n",
       "==============================================================================\n",
       "Dep. Variable:                      y   R-squared:                       0.313\n",
       "Model:                            OLS   Adj. R-squared:                  0.302\n",
       "Method:                 Least Squares   F-statistic:                     28.71\n",
       "Date:                Fri, 24 Jan 2020   Prob (F-statistic):           1.26e-06\n",
       "Time:                        11:41:02   Log-Likelihood:                -338.03\n",
       "No. Observations:                  64   AIC:                             678.1\n",
       "Df Residuals:                      63   BIC:                             680.2\n",
       "Df Model:                           1                                         \n",
       "Covariance Type:            nonrobust                                         \n",
       "==============================================================================\n",
       "                 coef    std err          t      P>|t|      [0.025      0.975]\n",
       "------------------------------------------------------------------------------\n",
       "x1             0.8800      0.164      5.359      0.000       0.552       1.208\n",
       "==============================================================================\n",
       "Omnibus:                       60.268   Durbin-Watson:                   0.664\n",
       "Prob(Omnibus):                  0.000   Jarque-Bera (JB):                7.767\n",
       "Skew:                          -0.438   Prob(JB):                       0.0206\n",
       "Kurtosis:                       1.536   Cond. No.                         1.00\n",
       "==============================================================================\n",
       "\n",
       "Warnings:\n",
       "[1] Standard Errors assume that the covariance matrix of the errors is correctly specified.\n",
       "\"\"\""
      ]
     },
     "execution_count": 22,
     "metadata": {},
     "output_type": "execute_result"
    }
   ],
   "source": [
    "model_lm.summary()"
   ]
  },
  {
   "cell_type": "code",
   "execution_count": 70,
   "metadata": {},
   "outputs": [
    {
     "data": {
      "text/plain": [
       "[<matplotlib.lines.Line2D at 0x2aa04288e80>]"
      ]
     },
     "execution_count": 70,
     "metadata": {},
     "output_type": "execute_result"
    },
    {
     "data": {
      "image/png": "[encoded data removed]",
      "text/plain": [
       "<Figure size 432x288 with 1 Axes>"
      ]
     },
     "metadata": {
      "needs_background": "light"
     },
     "output_type": "display_data"
    }
   ],
   "source": [
    "plt.plot(range(64), numpy.mean(curvatures[3::4, :, :], axis = 0)[10])\n"
   ]
  },
  {
   "cell_type": "code",
   "execution_count": null,
   "metadata": {},
   "outputs": [],
   "source": []
  },
  {
   "cell_type": "code",
   "execution_count": null,
   "metadata": {},
   "outputs": [],
   "source": []
  },
  {
   "cell_type": "code",
   "execution_count": null,
   "metadata": {},
   "outputs": [],
   "source": []
  },
  {
   "cell_type": "code",
   "execution_count": null,
   "metadata": {},
   "outputs": [],
   "source": []
  },
  {
   "cell_type": "code",
   "execution_count": null,
   "metadata": {},
   "outputs": [],
   "source": []
  },
  {
   "cell_type": "code",
   "execution_count": null,
   "metadata": {},
   "outputs": [],
   "source": []
  },
  {
   "cell_type": "code",
   "execution_count": null,
   "metadata": {},
   "outputs": [],
   "source": []
  },
  {
   "cell_type": "code",
   "execution_count": null,
   "metadata": {},
   "outputs": [],
   "source": []
  },
  {
   "cell_type": "code",
   "execution_count": null,
   "metadata": {},
   "outputs": [],
   "source": []
  },
  {
   "cell_type": "code",
   "execution_count": null,
   "metadata": {},
   "outputs": [],
   "source": []
  },
  {
   "cell_type": "code",
   "execution_count": null,
   "metadata": {},
   "outputs": [],
   "source": []
  },
  {
   "cell_type": "markdown",
   "metadata": {},
   "source": []
  },
  {
   "cell_type": "code",
   "execution_count": null,
   "metadata": {},
   "outputs": [],
   "source": []
  },
  {
   "cell_type": "code",
   "execution_count": null,
   "metadata": {},
   "outputs": [],
   "source": []
  },
  {
   "cell_type": "code",
   "execution_count": null,
   "metadata": {},
   "outputs": [],
   "source": []
  },
  {
   "cell_type": "code",
   "execution_count": null,
   "metadata": {},
   "outputs": [],
   "source": []
  },
  {
   "cell_type": "markdown",
   "metadata": {},
   "source": []
  },
  {
   "cell_type": "code",
   "execution_count": null,
   "metadata": {},
   "outputs": [],
   "source": []
  },
  {
   "cell_type": "markdown",
   "metadata": {},
   "source": []
  },
  {
   "cell_type": "code",
   "execution_count": null,
   "metadata": {},
   "outputs": [],
   "source": []
  },
  {
   "cell_type": "code",
   "execution_count": null,
   "metadata": {},
   "outputs": [],
   "source": []
  },
  {
   "cell_type": "code",
   "execution_count": null,
   "metadata": {},
   "outputs": [],
   "source": []
  },
  {
   "cell_type": "markdown",
   "metadata": {},
   "source": []
  },
  {
   "cell_type": "code",
   "execution_count": null,
   "metadata": {},
   "outputs": [],
   "source": []
  },
  {
   "cell_type": "markdown",
   "metadata": {},
   "source": []
  },
  {
   "cell_type": "code",
   "execution_count": null,
   "metadata": {},
   "outputs": [],
   "source": []
  },
  {
   "cell_type": "markdown",
   "metadata": {},
   "source": []
  },
  {
   "cell_type": "code",
   "execution_count": null,
   "metadata": {},
   "outputs": [],
   "source": []
  },
  {
   "cell_type": "code",
   "execution_count": null,
   "metadata": {},
   "outputs": [],
   "source": []
  },
  {
   "cell_type": "code",
   "execution_count": null,
   "metadata": {},
   "outputs": [],
   "source": []
  },
  {
   "cell_type": "markdown",
   "metadata": {},
   "source": [
    "# Angular Policies\n",
    "\n",
    "- A Policy would be Desired angle at each sample - Actual angle change from the previous step. \n",
    "\n",
    "- A Policy improved would be a reduction in that difference. This should be across trials/Blocks."
   ]
  },
  {
   "cell_type": "code",
   "execution_count": null,
   "metadata": {},
   "outputs": [],
   "source": [
    "def policy_angles(data, block, trial):\n",
    "    traj = scipy.io.loadmat('data/participants/data{data}/actual_trajectories/trajectories{block}.mat'.format(block=str(block), data=str(data)))\n",
    "\n",
    "    x = traj['x'][0][trial][0]\n",
    "    y = traj['y'][0][trial][0]\n",
    "    x = x[numpy.nonzero(x)]\n",
    "    y = y[numpy.nonzero(y)]\n",
    "    if len(x)<len(y):\n",
    "        y = y[len(y) - len(x):]\n",
    "    if len(y)<len(x):\n",
    "        x = x[len(x) - len(y):]\n",
    "\n",
    "    #print (len(x))\n",
    "    #print (len(y))\n",
    "    del_x = x[5:] - x[:-5]\n",
    "    del_y = y[5:] - y[:-5]\n",
    "    del_r = numpy.sqrt(del_x**2 + del_y**2)\n",
    "    del_theta = numpy.arccos(del_x/del_r)\n",
    "\n",
    "    dx = x[-1] - x[5:]\n",
    "    dy = y[-1] - y[5:]\n",
    "\n",
    "    req_dr = numpy.sqrt(dx.astype(float)**2 + dy.astype(float)**2)\n",
    "    req_dtheta = numpy.arccos(dx/req_dr)\n",
    "    #print (req_dtheta - del_theta)\n",
    "#    plt.plot(numpy.quantile(req_dtheta-del_theta, [0.1, 0.3, 0.5, 0.7, 0.9]))\n",
    "    #Return directions by quadrant of a cartesian plane.\n",
    "    if x[-1] >=0 and y[-1] >=0:\n",
    "        direction = 1\n",
    "    elif x[-1] < 0 and y[-1] >= 0:\n",
    "        direction = 2\n",
    "    elif x[-1] < 0 and y[-1] < 0:\n",
    "        direction = 3\n",
    "    else:\n",
    "        direction = 4\n",
    "    return numpy.nanmean(numpy.abs(req_dtheta - del_theta)), stat.sem(numpy.abs(req_dtheta - del_theta), nan_policy='omit'), numpy.nanmean(del_theta), stat.sem(del_theta), direction\n",
    "    "
   ]
  },
  {
   "cell_type": "code",
   "execution_count": null,
   "metadata": {},
   "outputs": [],
   "source": []
  },
  {
   "cell_type": "code",
   "execution_count": null,
   "metadata": {},
   "outputs": [],
   "source": [
    "mean_policy_angles = numpy.zeros((59, 12, 64))\n",
    "sem_policy_angles = numpy.zeros((59, 12, 64))\n",
    "del_theta = numpy.zeros((59, 12, 64))\n",
    "del_theta_sem = numpy.zeros((59, 12, 64))\n",
    "direction = numpy.zeros((59, 12, 64))\n",
    "for participant in range(1, 59):\n",
    "    if participant == 7:\n",
    "        continue\n",
    "    for block in range(12):\n",
    "        for trial in range(64):\n",
    "            mean_policy_angles[participant, block, trial], sem_policy_angles[participant, block, trial], del_theta[participant, block, trial], del_theta_sem[participant, block, trial], direction[participant, block, trial] = policy_angles(participant, block, trial)"
   ]
  },
  {
   "cell_type": "code",
   "execution_count": null,
   "metadata": {},
   "outputs": [],
   "source": [
    "insert_zeros = numpy.zeros((12, 4, 4))\n",
    "del_theta_1 = numpy.reshape(del_theta[direction==1], (57, 12, 4, 4))\n",
    "del_theta_1 = numpy.insert(del_theta_1, [0, 6], insert_zeros, axis = 0)\n",
    "\n",
    "#numpy.nanmean(numpy.reshape(del_theta, (59, 12, 4, 16))[numpy.reshape(direction, (59, 12, 4, 16)) == 1], axis = 3)\n",
    "block_del_theta_1 = numpy.reshape(numpy.nanmean(numpy.reshape(del_theta_1, (59, 12, 4, 4)), axis = 3), (59, 48))\n",
    "numpy.shape(block_del_theta_1)\n",
    "plt.plot(numpy.nanmean(block_del_theta_1[4::4], axis = 0))"
   ]
  },
  {
   "cell_type": "code",
   "execution_count": null,
   "metadata": {},
   "outputs": [],
   "source": [
    "insert_zeros = numpy.zeros((12, 4, 4))\n",
    "del_theta_2 = numpy.reshape(del_theta[direction==2], (57, 12, 4, 4))\n",
    "del_theta_2 = numpy.insert(del_theta_2, [0, 6], insert_zeros, axis = 0)\n",
    "\n",
    "#numpy.nanmean(numpy.reshape(del_theta, (59, 12, 4, 16))[numpy.reshape(direction, (59, 12, 4, 16)) == 1], axis = 3)\n",
    "block_del_theta_2 = numpy.reshape(numpy.nanmean(numpy.reshape(del_theta_2, (59, 12, 4, 4)), axis = 3), (59, 48))\n",
    "numpy.shape(block_del_theta_2)\n",
    "plt.plot(numpy.nanmean(block_del_theta_2[4::4] - numpy.pi/2, axis = 0))"
   ]
  },
  {
   "cell_type": "code",
   "execution_count": null,
   "metadata": {},
   "outputs": [],
   "source": [
    "insert_zeros = numpy.zeros((12, 4, 4))\n",
    "del_theta_3 = numpy.reshape(del_theta[direction==3], (57, 12, 4, 4))\n",
    "del_theta_3 = numpy.insert(del_theta_3, [0, 6], insert_zeros, axis = 0)\n",
    "\n",
    "#numpy.nanmean(numpy.reshape(del_theta, (59, 12, 4, 16))[numpy.reshape(direction, (59, 12, 4, 16)) == 1], axis = 3)\n",
    "block_del_theta_3 = numpy.reshape(numpy.nanmean(numpy.reshape(del_theta_3, (59, 12, 4, 4)), axis = 3), (59, 48))\n",
    "numpy.shape(block_del_theta_3)\n",
    "plt.plot(numpy.nanmean(block_del_theta_3[4::4], axis = 0))"
   ]
  },
  {
   "cell_type": "code",
   "execution_count": null,
   "metadata": {},
   "outputs": [],
   "source": [
    "insert_zeros = numpy.zeros((12, 4, 4))\n",
    "del_theta_4 = numpy.reshape(del_theta[direction==4], (57, 12, 4, 4))\n",
    "del_theta_4 = numpy.insert(del_theta_4, [0, 6], insert_zeros, axis = 0)\n",
    "\n",
    "#numpy.nanmean(numpy.reshape(del_theta, (59, 12, 4, 16))[numpy.reshape(direction, (59, 12, 4, 16)) == 1], axis = 3)\n",
    "block_del_theta_4 = numpy.reshape(numpy.nanmean(numpy.reshape(del_theta_4, (59, 12, 4, 4)), axis = 3), (59, 48))\n",
    "numpy.shape(block_del_theta_4)\n",
    "plt.plot(numpy.nanmean(block_del_theta_4[4::4], axis = 0))"
   ]
  },
  {
   "cell_type": "markdown",
   "metadata": {},
   "source": [
    "### Policies"
   ]
  },
  {
   "cell_type": "code",
   "execution_count": null,
   "metadata": {},
   "outputs": [],
   "source": [
    "block_del_theta_sudden_speed = numpy.mean(block_del_theta[4::4], axis = 0)\n",
    "bdtss_sem = stat.sem(block_del_theta[4::4], axis = 0)\n",
    "plt.plot(range(48), block_del_theta_sudden_speed, 'k-')\n",
    "plt.fill_between(range(48), block_del_theta_sudden_speed+bdtss_sem, block_del_theta_sudden_speed-bdtss_sem, alpha = 0.5)\n",
    "plt.xlabel('Block')\n",
    "plt.ylabel('Policy')\n",
    "plt.title('Sudden Speed')"
   ]
  },
  {
   "cell_type": "code",
   "execution_count": null,
   "metadata": {},
   "outputs": [],
   "source": [
    "block_del_theta_sudden_accuracy = numpy.mean(block_del_theta[1::4], axis = 0)\n",
    "bdtsa_sem = stat.sem(block_del_theta[1::4], axis = 0)\n",
    "plt.plot(range(48), block_del_theta_sudden_accuracy, 'k-')\n",
    "plt.fill_between(range(48), block_del_theta_sudden_accuracy+bdtsa_sem, block_del_theta_sudden_accuracy-bdtsa_sem, alpha = 0.5)\n",
    "plt.xlabel('Block')\n",
    "plt.ylabel('Policy')\n",
    "plt.title('Sudden Accuracy')"
   ]
  },
  {
   "cell_type": "code",
   "execution_count": null,
   "metadata": {},
   "outputs": [],
   "source": [
    "block_del_theta_gradual_speed = numpy.mean(block_del_theta[2::4], axis = 0)\n",
    "bdtgs_sem = stat.sem(block_del_theta[2::4], axis = 0)\n",
    "plt.plot(range(48), block_del_theta_gradual_speed, 'k-')\n",
    "plt.fill_between(range(48), block_del_theta_gradual_speed+bdtgs_sem, block_del_theta_gradual_speed-bdtgs_sem, alpha = 0.5)\n",
    "plt.xlabel('Block')\n",
    "plt.ylabel('Policy')\n",
    "plt.title('Gradual Speed')"
   ]
  },
  {
   "cell_type": "code",
   "execution_count": null,
   "metadata": {},
   "outputs": [],
   "source": [
    "block_del_theta_gradual_accuracy = numpy.mean(block_del_theta[3::4], axis = 0)\n",
    "bdtga_sem = stat.sem(block_del_theta[3::4], axis = 0)\n",
    "plt.plot(range(48), block_del_theta_gradual_accuracy, 'k-')\n",
    "plt.fill_between(range(48), block_del_theta_gradual_accuracy+bdtga_sem, block_del_theta_gradual_accuracy-bdtga_sem, alpha = 0.5)\n",
    "plt.xlabel('Block')\n",
    "plt.ylabel('Policy')\n",
    "plt.title('Gradual Accuracy')"
   ]
  },
  {
   "cell_type": "code",
   "execution_count": null,
   "metadata": {},
   "outputs": [],
   "source": [
    "block_policy = numpy.nanmean(mean_policy_angles, axis = 2)\n",
    "#Divide blocks in 4 sets of 16 trials each\n",
    "block_policy = numpy.reshape(numpy.nanmean(numpy.reshape(mean_policy_angles, (59, 12, 4, 16)), axis = 3), (59, 48))\n",
    "numpy.shape(block_policy)\n"
   ]
  },
  {
   "cell_type": "code",
   "execution_count": null,
   "metadata": {},
   "outputs": [],
   "source": [
    "insert_zeros = numpy.zeros((12, 4, 4))\n",
    "mean_policy_angles_1 = numpy.reshape(mean_policy_angles[direction==1], (57, 12, 4, 4))\n",
    "mean_policy_angles_1 = numpy.insert(mean_policy_angles_1, [0, 6], insert_zeros, axis = 0)\n",
    "mean_policy_angles_2 = numpy.reshape(mean_policy_angles[direction==2], (57, 12, 4, 4))\n",
    "mean_policy_angles_2 = numpy.insert(mean_policy_angles_2, [0, 6], insert_zeros, axis = 0)\n",
    "mean_policy_angles_3 = numpy.reshape(mean_policy_angles[direction==3], (57, 12, 4, 4))\n",
    "mean_policy_angles_3 = numpy.insert(mean_policy_angles_3, [0, 6], insert_zeros, axis = 0)\n",
    "mean_policy_angles_4 = numpy.reshape(mean_policy_angles[direction==4], (57, 12, 4, 4))\n",
    "mean_policy_angles_4 = numpy.insert(mean_policy_angles_4, [0, 6], insert_zeros, axis = 0)\n",
    "\n",
    "#numpy.nanmean(numpy.reshape(del_theta, (59, 12, 4, 16))[numpy.reshape(direction, (59, 12, 4, 16)) == 1], axis = 3)\n",
    "mean_policy_angles_direction_normalized\n",
    "mean_policy_angles_1 = numpy.reshape(numpy.nanmean(numpy.reshape(mean_policy_angles_1, (59, 12, 4, 4)), axis = 3), (59, 48))\n",
    "numpy.shape(mean_policy_angles_1)\n",
    "plt.plot(numpy.nanmean(mean_policy_angles_1[4::4], axis = 0))"
   ]
  },
  {
   "cell_type": "code",
   "execution_count": null,
   "metadata": {},
   "outputs": [],
   "source": [
    "block_policy_sudden_speed = numpy.mean(block_policy[4::4], axis=0)\n",
    "bpss_sem = stat.sem(block_policy[4::4], axis = 0)\n",
    "plt.plot(range(48), block_policy_sudden_speed, 'k-')\n",
    "plt.fill_between(range(48), block_policy_sudden_speed+bpss_sem, block_policy_sudden_speed-bpss_sem, alpha = 0.5)\n",
    "plt.xlabel('Block')\n",
    "plt.ylabel('Angle Difference')\n",
    "plt.title('Sudden Speed')"
   ]
  },
  {
   "cell_type": "code",
   "execution_count": null,
   "metadata": {},
   "outputs": [],
   "source": [
    "block_policy_sudden_accuracy = numpy.mean(block_policy[1::4], axis = 0)\n",
    "bpsa_sem = stat.sem(block_policy[1::4], axis = 0)\n",
    "plt.plot(block_policy_sudden_accuracy, 'k-')\n",
    "plt.fill_between(range(48), block_policy_sudden_accuracy+bpsa_sem, block_policy_sudden_accuracy-bpsa_sem ,alpha = 0.5)\n",
    "plt.xlabel('Block')\n",
    "plt.ylabel('Angle Difference')\n",
    "plt.title('Sudden Accuracy')"
   ]
  },
  {
   "cell_type": "code",
   "execution_count": null,
   "metadata": {},
   "outputs": [],
   "source": [
    "block_policy_gradual_speed = numpy.mean(block_policy[2::4], axis = 0)\n",
    "bpgs_sem = stat.sem(block_policy[2::4], axis = 0)\n",
    "plt.plot(block_policy_gradual_speed, 'k-')\n",
    "plt.fill_between(range(48), block_policy_gradual_speed+bpgs_sem, block_policy_gradual_speed-bpgs_sem, alpha = 0.5)\n",
    "plt.xlabel('Block')\n",
    "plt.ylabel('Angle Difference')\n",
    "plt.title('Gradual Speed')"
   ]
  },
  {
   "cell_type": "code",
   "execution_count": null,
   "metadata": {},
   "outputs": [],
   "source": [
    "block_policy_gradual_accuracy = numpy.mean(block_policy[3::4], axis = 0)\n",
    "bpga_sem = stat.sem(block_policy[3::4], axis = 0)\n",
    "plt.plot(block_policy_gradual_accuracy, 'k-')\n",
    "plt.fill_between(range(48), block_policy_gradual_accuracy+bpga_sem, block_policy_gradual_accuracy-bpga_sem, alpha = 0.5)\n",
    "plt.xlabel('Block')\n",
    "plt.ylabel('Angle Difference')\n",
    "plt.title('Gradual Accuracy')"
   ]
  },
  {
   "cell_type": "code",
   "execution_count": null,
   "metadata": {},
   "outputs": [],
   "source": [
    "numpy.shape(error_sum)"
   ]
  },
  {
   "cell_type": "code",
   "execution_count": null,
   "metadata": {},
   "outputs": [],
   "source": [
    "block_error = numpy.mean(error_sum, axis = 2)"
   ]
  },
  {
   "cell_type": "code",
   "execution_count": null,
   "metadata": {},
   "outputs": [],
   "source": [
    "block_error_sudden_speed = numpy.mean(block_error[4::4], axis = 0)"
   ]
  },
  {
   "cell_type": "code",
   "execution_count": null,
   "metadata": {},
   "outputs": [],
   "source": [
    "plt.scatter(block_error_sudden_speed[1:-1], block_policy_sudden_speed[1:-1])\n",
    "plt.ylabel(\"Angle Differences\")\n",
    "plt.xlabel(\"Error\")\n",
    "plt.title(\"Sudden Speed\")"
   ]
  },
  {
   "cell_type": "code",
   "execution_count": null,
   "metadata": {},
   "outputs": [],
   "source": [
    "block_error_sudden_accuracy = numpy.mean(block_error[1::4], axis = 0)\n",
    "plt.scatter(block_error_sudden_accuracy[1:-1], block_policy_sudden_accuracy[1:-1])\n",
    "plt.ylabel(\"Angle Differences\")\n",
    "plt.xlabel(\"Error\")\n",
    "plt.title(\"Sudden Accuracy\")"
   ]
  },
  {
   "cell_type": "code",
   "execution_count": null,
   "metadata": {},
   "outputs": [],
   "source": [
    "block_error_gradual_speed = numpy.mean(block_error[2::4], axis = 0)\n",
    "plt.scatter(block_error_gradual_speed[1:-1], block_policy_gradual_speed[1:-1])\n",
    "plt.ylabel(\"Angle Differences\")\n",
    "plt.xlabel(\"Error\")\n",
    "plt.title(\"Gradual Speed\")"
   ]
  },
  {
   "cell_type": "code",
   "execution_count": null,
   "metadata": {},
   "outputs": [],
   "source": [
    "block_error_gradual_accuracy = numpy.mean(block_error[3::4], axis = 0)\n",
    "plt.scatter(block_error_gradual_accuracy[1:-1], block_policy_gradual_accuracy[1:-1])\n",
    "plt.ylabel(\"Angle Differences\")\n",
    "plt.xlabel(\"Error\")\n",
    "plt.title(\"Gradual Accuracy\")"
   ]
  },
  {
   "cell_type": "code",
   "execution_count": null,
   "metadata": {},
   "outputs": [],
   "source": [
    "from mpl_toolkits.mplot3d import Axes3D\n",
    "\n"
   ]
  },
  {
   "cell_type": "code",
   "execution_count": null,
   "metadata": {},
   "outputs": [],
   "source": [
    "fig = plt.figure()\n",
    "ax = plt.axes(projection='3d')\n",
    "ax.plot3D(range(10), block_error_sudden_speed[1:-1], block_policy_sudden_speed[1:-1])\n"
   ]
  },
  {
   "cell_type": "markdown",
   "metadata": {},
   "source": [
    "Value = (1 - alpha)*(1/error) + (alpha)*(1/Total time)"
   ]
  },
  {
   "cell_type": "code",
   "execution_count": null,
   "metadata": {},
   "outputs": [],
   "source": []
  },
  {
   "cell_type": "code",
   "execution_count": null,
   "metadata": {},
   "outputs": [],
   "source": [
    "def get_times():\n",
    "    initial_times = numpy.zeros((59, 12, 64))\n",
    "    movement_times = numpy.zeros((59, 12, 64))\n",
    "    for participant in range(1, 59):\n",
    "        if participant == 7:\n",
    "            continue\n",
    "        else:\n",
    "            for block in range(12):\n",
    "                it, mt = times(participant, block)\n",
    "                initial_times[participant, block] = it\n",
    "                movement_times[participant, block] = mt\n",
    "    return initial_times, movement_times"
   ]
  },
  {
   "cell_type": "code",
   "execution_count": null,
   "metadata": {},
   "outputs": [],
   "source": [
    "initial_times, movement_times = get_times()"
   ]
  },
  {
   "cell_type": "code",
   "execution_count": null,
   "metadata": {},
   "outputs": [],
   "source": []
  },
  {
   "cell_type": "code",
   "execution_count": null,
   "metadata": {},
   "outputs": [],
   "source": [
    "def get_value(alpha, beta):\n",
    "    error_sum[error_sum == 0] = 0.01\n",
    "    initial_times[initial_times == 0] = 0.01\n",
    "    movement_times[movement_times == 0] = 0.01\n",
    "    errors = error_sum/numpy.max(error_sum)\n",
    "    itz = initial_times/numpy.max(initial_times)\n",
    "    mtz = movement_times/numpy.max(movement_times)\n",
    "    value = alpha*(1/errors) + beta*(1/(itz+mtz))\n",
    "    return value, errors, itz+mtz"
   ]
  },
  {
   "cell_type": "code",
   "execution_count": null,
   "metadata": {},
   "outputs": [],
   "source": [
    "value, error_all, time_all = get_value(0.5, 0.05)\n",
    "numpy.shape(error_all)"
   ]
  },
  {
   "cell_type": "code",
   "execution_count": null,
   "metadata": {},
   "outputs": [],
   "source": [
    "block_value = numpy.reshape(numpy.nanmean(numpy.reshape(value, (59, 12, 4, 16)), axis = 3), (59, 48))"
   ]
  },
  {
   "cell_type": "code",
   "execution_count": null,
   "metadata": {},
   "outputs": [],
   "source": [
    "#plt.scatter(error_all[1::4, 2, :], time_all[1::4, 2, :])\n",
    "#plt.scatter(error_all[2::4, 2, :], time_all[2::4, 2, :])\n",
    "#plt.scatter(error_all[3::4, 2, :], time_all[3::4, 2, :])\n",
    "#plt.scatter(error_all[4::4, 2, :], time_all[4::4, 2, :])\n",
    "plt.hist(error_all[2::4, 2, :], bins=10)\n",
    "error_all[2::4, 2, :]"
   ]
  },
  {
   "cell_type": "code",
   "execution_count": null,
   "metadata": {},
   "outputs": [],
   "source": [
    "plt.scatter(error_all[2::4, 11, :], time_all[2::4, 11, :])\n"
   ]
  },
  {
   "cell_type": "code",
   "execution_count": null,
   "metadata": {},
   "outputs": [],
   "source": [
    "plt.scatter(error_all[3::4], time_all[3::4])\n"
   ]
  },
  {
   "cell_type": "code",
   "execution_count": null,
   "metadata": {},
   "outputs": [],
   "source": [
    "plt.scatter(error_all[4::4], time_all[4::4])\n"
   ]
  },
  {
   "cell_type": "code",
   "execution_count": null,
   "metadata": {
    "scrolled": true
   },
   "outputs": [],
   "source": [
    "plt.plot(numpy.mean(block_value[4::4], axis = 0))"
   ]
  },
  {
   "cell_type": "code",
   "execution_count": null,
   "metadata": {},
   "outputs": [],
   "source": [
    "plt.plot(numpy.mean(numpy.nanmean(del_theta[3::4], axis = 0), axis = 1))"
   ]
  },
  {
   "cell_type": "code",
   "execution_count": null,
   "metadata": {},
   "outputs": [],
   "source": [
    "numpy.shape(del_theta)"
   ]
  }
 ],
 "metadata": {
  "kernelspec": {
   "display_name": "Python 3",
   "language": "python",
   "name": "python3"
  },
  "language_info": {
   "codemirror_mode": {
    "name": "ipython",
    "version": 3
   },
   "file_extension": ".py",
   "mimetype": "text/x-python",
   "name": "python",
   "nbconvert_exporter": "python",
   "pygments_lexer": "ipython3",
   "version": "3.7.0"
  }
 },
 "nbformat": 4,
 "nbformat_minor": 2
}
