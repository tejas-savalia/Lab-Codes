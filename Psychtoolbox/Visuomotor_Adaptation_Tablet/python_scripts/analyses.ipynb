{
 "cells": [
  {
   "cell_type": "code",
   "execution_count": 1,
   "metadata": {},
   "outputs": [],
   "source": [
    "import scipy.io\n",
    "import numpy\n",
    "import matplotlib.pyplot as plt\n",
    "from ipywidgets import interact, interactive, fixed, interact_manual\n",
    "import ipywidgets as widgets\n",
    "import scipy.stats as stat\n",
    "from sklearn.linear_model import LinearRegression\n",
    "import statsmodels.api as sm\n",
    "import statsmodels.formula.api as smf\n",
    "from multiprocessing import Pool\n",
    "from scipy import stats\n",
    "import math"
   ]
  },
  {
   "cell_type": "code",
   "execution_count": null,
   "metadata": {},
   "outputs": [],
   "source": [
    "SMALL_SIZE = 8\n",
    "MEDIUM_SIZE = 15\n",
    "BIGGER_SIZE = 30\n",
    "\n",
    "plt.rc('font', size=SMALL_SIZE)          # controls default text sizes\n",
    "plt.rc('axes', titlesize=BIGGER_SIZE)     # fontsize of the axes title\n",
    "plt.rc('axes', labelsize=BIGGER_SIZE)    # fontsize of the x and y labels\n",
    "plt.rc('xtick', labelsize=BIGGER_SIZE)    # fontsize of the tick labels\n",
    "plt.rc('ytick', labelsize=MEDIUM_SIZE)    # fontsize of the tick labels\n",
    "plt.rc('legend', fontsize=MEDIUM_SIZE)    # legend fontsize\n",
    "plt.rc('figure', titlesize=MEDIUM_SIZE)  # fontsize of the figure title"
   ]
  },
  {
   "cell_type": "markdown",
   "metadata": {},
   "source": [
    "# Lineplots first!\n",
    "## Odd is Accuracy Even is Speed\n",
    "\n",
    "## 0 1 are sudden"
   ]
  },
  {
   "cell_type": "code",
   "execution_count": null,
   "metadata": {},
   "outputs": [],
   "source": []
  },
  {
   "cell_type": "code",
   "execution_count": null,
   "metadata": {},
   "outputs": [],
   "source": []
  },
  {
   "cell_type": "code",
   "execution_count": 2,
   "metadata": {},
   "outputs": [],
   "source": [
    "def lineplots(data, block, first, last):\n",
    "    traj = scipy.io.loadmat('data/data{data}/actual_trajectories/trajectories{block}.mat'.format(block=str(block), data=str(data)))\n",
    "\n",
    "    for i in range(first,last):\n",
    "        plt.plot(traj['x'][0][i][0], traj['y'][0][i][0])\n"
   ]
  },
  {
   "cell_type": "code",
   "execution_count": null,
   "metadata": {},
   "outputs": [],
   "source": [
    "interact(lineplots, data = widgets.ToggleButtons(options = range(1000, 1060)), block = widgets.IntSlider(max = 11, min = 0, value = 0, step = 1),\n",
    "        first = widgets.IntSlider(max = 63, min = 0, value = 0, step = 1), last = widgets.IntSlider(max = 64, min = 1, value = 1, step = 1))"
   ]
  },
  {
   "cell_type": "markdown",
   "metadata": {},
   "source": [
    "## Error Vs Time plots\n",
    "\n",
    "Divide Trajectories by 5. Calculate mean and standard deviation of difference between ideal and actual trajectories (both divided by 5) for all 64 trajectories in a block. \n",
    "From the movement time, calculate how long it took to finish each of these 5 trajectories. Calculate mean and standard deviation across 64 trials. \n",
    "\n",
    "This might as well just be equal to the mean and standard deviation of the **number** of points in each of those five quantiles for all trajectories.\n",
    "\n"
   ]
  },
  {
   "cell_type": "markdown",
   "metadata": {},
   "source": [
    "# Error Calculation\n",
    "Takes in a trajectory loaded from the mat file and calculates error by comparing minimum distance from x and y coordinates of the actual trajectory to the ideal trajectory"
   ]
  },
  {
   "cell_type": "code",
   "execution_count": 2,
   "metadata": {},
   "outputs": [],
   "source": [
    "#square_coord = scipy.io.loadmat('data/pilot/pilot_1/squares/coordinates/squares3.mat')\n",
    "#traj = scipy.io.loadmat('data/pilot/pilot_1/actual_trajectories/trajectories3.mat')\n",
    "#def calc_error(traj, square_coord):\n",
    "# The version above uses square coordinates\n",
    "def calc_error(traj):    \n",
    "    error = list()\n",
    "    for j in range(64):\n",
    "        traj_dist = list()\n",
    "        trajx, trajy = traj['x'][0][j][0], traj['y'][0][j][0]\n",
    "        #end_pointx, end_pointy  = square_coord['squareX'][0][j], square_coord['squareY'][0][j]\n",
    "        end_pointx, end_pointy  = traj['x'][0][j][0][-1], traj['y'][0][j][0][-1]\n",
    "\n",
    "        xline = numpy.linspace(0, end_pointx, 500)\n",
    "        yline = numpy.linspace(0, end_pointy, 500)\n",
    "\n",
    "        for i in range(len(trajx)):\n",
    "            xdist = min(numpy.absolute(xline-trajx[i]))\n",
    "            ydist = min(numpy.absolute(yline-trajy[i]))\n",
    "            dist = numpy.sqrt(xdist**2 + ydist**2)\n",
    "            traj_dist.append(dist)\n",
    "        error.append(traj_dist)\n",
    "    return error\n",
    "#dist = numpy.linalg.norm(numpy.cross(p2-p1, p1-p3))/numpy.linalg.norm(p2-p1)"
   ]
  },
  {
   "cell_type": "code",
   "execution_count": null,
   "metadata": {},
   "outputs": [],
   "source": [
    "#traj['x'][0][0][0][-1]"
   ]
  },
  {
   "cell_type": "code",
   "execution_count": null,
   "metadata": {},
   "outputs": [],
   "source": [
    "#calc_error(traj, square_coord)"
   ]
  },
  {
   "cell_type": "markdown",
   "metadata": {},
   "source": [
    "Participant 1 Gradual Change Accuracy emphasis\n",
    "\n",
    "Participant 2 Sudden change Accuracy emphasis\n",
    "\n",
    "Participant 3 Gradual change Speed emphasis\n",
    "\n",
    "# Time quintiles:\n",
    "X axis is cummulative sum of the number of samples in the trajectory, averaged across all trajectories. \n",
    "Y axis is the mean of error in that time quantile, averaged across all trajectories\n"
   ]
  },
  {
   "cell_type": "code",
   "execution_count": 3,
   "metadata": {},
   "outputs": [],
   "source": [
    "def errorvstime(data, block, num_trajectories):\n",
    "    traj = scipy.io.loadmat('data/data{data}/actual_trajectories/trajectories{block}.mat'.format(block=str(block), data=str(data)))\n",
    "    ideal_traj = scipy.io.loadmat('data/data{data}/ideal_trajectories/trajectories{block}.mat'.format(block = str(block), data=str(data)))\n",
    "    #squares = scipy.io.loadmat('data/participants/data{data}/squares/coordinates/squares{block}.mat'.format(block=str(block), data=str(data)))\n",
    "    #xdiff = (ideal_traj['idealXs'] - traj['x'])\n",
    "    #ydiff = (ideal_traj['idealYs'] - traj['y'])\n",
    "    error = calc_error(traj)[:num_trajectories]\n",
    "    #error = xdiff**2+ydiff**2\n",
    "    #print (error)\n",
    "    error_means = numpy.zeros((num_trajectories, 5))\n",
    "    for i in range(num_trajectories):\n",
    "        n = len(error[i])\n",
    "        for j in range(5):\n",
    "            error_means[i, j] = numpy.mean(error[i][int(numpy.floor((j)*n/5)):int(numpy.floor((j+1)*n/5))])\n",
    "#            error_means[i, j] = numpy.median(error[i][int(numpy.floor((j)*n/5)):int(numpy.floor((j+1)*n/5))])\n",
    "         #error_means[i, ] = error_means[i, ]/max(error_means[i,])\n",
    "\n",
    "    \n",
    "    time_means = numpy.zeros((num_trajectories, 5))\n",
    "\n",
    "    for i in range(num_trajectories):\n",
    "        n = len(error[i])\n",
    "        for j in range(5):\n",
    "            time_means[i, j] = len(error[i][int(numpy.floor((j)*n/5)):int(numpy.floor((j+1)*n/5))])\n",
    "    times = numpy.cumsum(numpy.mean(time_means, axis = 0))\n",
    "    plt.errorbar(times, numpy.mean(error_means, axis = 0), xerr = stat.sem(time_means, axis = 0), yerr = stat.sem(error_means, axis = 0))\n",
    "    plt.ylabel('Error')\n",
    "    plt.xlabel('Time')\n",
    "    plt.xlim(0, 100)\n",
    "    plt.ylim(-20, 70)\n",
    "    return times, numpy.mean(error_means, axis = 0)"
   ]
  },
  {
   "cell_type": "code",
   "execution_count": null,
   "metadata": {},
   "outputs": [],
   "source": []
  },
  {
   "cell_type": "markdown",
   "metadata": {},
   "source": [
    "Calculate error vs time for each block collapsed across participants."
   ]
  },
  {
   "cell_type": "code",
   "execution_count": 6,
   "metadata": {},
   "outputs": [
    {
     "name": "stderr",
     "output_type": "stream",
     "text": [
      "C:\\Users\\Tejas\\Anaconda3\\lib\\site-packages\\numpy\\core\\fromnumeric.py:2920: RuntimeWarning: Mean of empty slice.\n",
      "  out=out, **kwargs)\n",
      "C:\\Users\\Tejas\\Anaconda3\\lib\\site-packages\\numpy\\core\\_methods.py:85: RuntimeWarning: invalid value encountered in double_scalars\n",
      "  ret = ret.dtype.type(ret / rcount)\n"
     ]
    },
    {
     "data": {
      "image/png": "[encoded data removed]",
      "text/plain": [
       "<Figure size 432x288 with 1 Axes>"
      ]
     },
     "metadata": {
      "needs_background": "light"
     },
     "output_type": "display_data"
    }
   ],
   "source": [
    "times = numpy.zeros((60, 5))\n",
    "errors = numpy.zeros((60, 5))\n",
    "for i in range(1000, 1059):\n",
    "    temp = errorvstime(i, 11, 32)\n",
    "    times[i-1000] = temp[0]\n",
    "    errors[i-1000] = temp[1] \n",
    "    #print (i)"
   ]
  },
  {
   "cell_type": "code",
   "execution_count": null,
   "metadata": {},
   "outputs": [],
   "source": []
  },
  {
   "cell_type": "code",
   "execution_count": 7,
   "metadata": {},
   "outputs": [],
   "source": [
    "times_speed_sudden = numpy.zeros((60, 5))\n",
    "times_speed_gradual = numpy.zeros((60, 5))\n",
    "times_accuracy_sudden = numpy.zeros((60, 5))\n",
    "times_accuracy_gradual = numpy.zeros((60, 5))\n",
    "errors_speed_sudden = numpy.zeros((60, 5))\n",
    "errors_speed_gradual = numpy.zeros((60, 5))\n",
    "errors_accuracy_sudden = numpy.zeros((60, 5))\n",
    "errors_accuracy_gradual = numpy.zeros((60, 5))\n",
    "for i in range(len(times)):\n",
    "    if i%4 == 0:\n",
    "        times_speed_sudden[i] = times[i]\n",
    "        errors_speed_sudden[i] = errors[i]\n",
    "    elif i%4 == 1:\n",
    "        times_accuracy_sudden[i] = times[i]\n",
    "        errors_accuracy_sudden[i] = errors[i]\n",
    "    elif i%4 == 2:\n",
    "        times_speed_gradual[i] = times[i]\n",
    "        errors_speed_gradual[i] = errors[i]\n",
    "    elif i%4 == 3:\n",
    "        times_accuracy_gradual[i] = times[i]\n",
    "        errors_accuracy_gradual[i] = errors[i]\n",
    "       "
   ]
  },
  {
   "cell_type": "code",
   "execution_count": 8,
   "metadata": {},
   "outputs": [],
   "source": [
    "times_speed_gradual = numpy.reshape(times_speed_gradual[numpy.nonzero(times_speed_gradual)], (int(len(times_speed_gradual[numpy.nonzero(times_speed_gradual)])/5), 5))\n",
    "errors_speed_gradual = numpy.reshape(errors_speed_gradual[numpy.nonzero(errors_speed_gradual)], (int(len(errors_speed_gradual[numpy.nonzero(errors_speed_gradual)])/5), 5))\n",
    "times_speed_sudden = numpy.reshape(times_speed_sudden[numpy.nonzero(times_speed_sudden)], (int(len(times_speed_sudden[numpy.nonzero(times_speed_sudden)])/5), 5))\n",
    "errors_speed_sudden = numpy.reshape(errors_speed_sudden[numpy.nonzero(errors_speed_sudden)], (int(len(errors_speed_sudden[numpy.nonzero(errors_speed_sudden)])/5), 5))\n",
    "times_accuracy_gradual = numpy.reshape(times_accuracy_gradual[numpy.nonzero(times_accuracy_gradual)], (int(len(times_accuracy_gradual[numpy.nonzero(times_accuracy_gradual)])/5), 5))\n",
    "errors_accuracy_gradual = numpy.reshape(errors_accuracy_gradual[numpy.nonzero(errors_accuracy_gradual)], (int(len(errors_accuracy_gradual[numpy.nonzero(errors_accuracy_gradual)])/5), 5))\n",
    "times_accuracy_sudden = numpy.reshape(times_accuracy_sudden[numpy.nonzero(times_accuracy_sudden)], (int(len(times_accuracy_sudden[numpy.nonzero(times_accuracy_sudden)])/5), 5))\n",
    "errors_accuracy_sudden = numpy.reshape(errors_accuracy_sudden[numpy.nonzero(errors_accuracy_sudden)], (int(len(errors_accuracy_sudden[numpy.nonzero(errors_accuracy_sudden)])/5), 5))\n"
   ]
  },
  {
   "cell_type": "code",
   "execution_count": null,
   "metadata": {},
   "outputs": [],
   "source": [
    "times_speed_sudden"
   ]
  },
  {
   "cell_type": "code",
   "execution_count": null,
   "metadata": {},
   "outputs": [],
   "source": [
    "#numpy.mean(times_accuracy_gradual, axis = 0)\n",
    "#numpy.nanmean(errors_speed_sudden, axis = 0)\n",
    "#stat.sem(times_accuracy_gradual, axis = 0)\n",
    "#numpy.nanstd(errors_accuracy_gradual, axis = 0)/numpy.sqrt(errors_accuracy_gradual)\n",
    "#numpy.nanstd(errors_accuracy_gradual)\n",
    "\n",
    "numpy.shape(numpy.nonzero(times_accuracy_sudden))"
   ]
  },
  {
   "cell_type": "code",
   "execution_count": 9,
   "metadata": {},
   "outputs": [
    {
     "data": {
      "text/plain": [
       "Text(0, 0.5, 'Error')"
      ]
     },
     "execution_count": 9,
     "metadata": {},
     "output_type": "execute_result"
    },
    {
     "data": {
      "image/png": "[encoded data removed]",
      "text/plain": [
       "<Figure size 432x288 with 1 Axes>"
      ]
     },
     "metadata": {
      "needs_background": "light"
     },
     "output_type": "display_data"
    }
   ],
   "source": [
    "fig,(ax1)=plt.subplots(1,1)\n",
    "ax1.errorbar(numpy.nanmean(times_speed_gradual, axis = 0), numpy.nanmean(errors_speed_gradual, axis = 0), xerr=stat.sem(times_speed_gradual, axis = 0), yerr=numpy.nanstd(errors_speed_gradual, axis = 0)/numpy.sqrt(len(errors_speed_gradual)), label = \"speed_gradual\")\n",
    "ax1.errorbar(numpy.nanmean(times_speed_sudden, axis = 0), numpy.nanmean(errors_speed_sudden, axis = 0), xerr=stat.sem(times_speed_sudden, axis = 0), yerr=numpy.nanstd(errors_speed_sudden, axis = 0)/numpy.sqrt(len(errors_speed_sudden)), label = \"speed_sudden\")\n",
    "ax1.errorbar(numpy.nanmean(times_accuracy_gradual, axis = 0), numpy.nanmean(errors_accuracy_gradual, axis = 0), xerr=stat.sem(times_accuracy_gradual, axis = 0), yerr=numpy.nanstd(errors_accuracy_gradual, axis = 0)/numpy.sqrt(len(errors_accuracy_gradual)), label = \"accuracy_gradual\")\n",
    "ax1.errorbar(numpy.nanmean(times_accuracy_sudden, axis = 0), numpy.nanmean(errors_accuracy_sudden, axis = 0), xerr=stat.sem(times_accuracy_sudden, axis = 0), yerr=numpy.nanstd(errors_accuracy_sudden, axis = 0)/numpy.sqrt(len(errors_accuracy_sudden)), label = \"accuracy_sudden\")\n",
    "ax1.legend()\n",
    "plt.xlabel('Mean time point in quintile')\n",
    "plt.ylabel('Error')\n"
   ]
  },
  {
   "cell_type": "markdown",
   "metadata": {},
   "source": [
    "# Time Bar plots"
   ]
  },
  {
   "cell_type": "code",
   "execution_count": null,
   "metadata": {},
   "outputs": [],
   "source": [
    "pos = [0, 1, 2, 3]\n",
    "handles = plt.bar(pos, [numpy.median(times_speed_gradual), numpy.median(times_accuracy_gradual), numpy.median(times_speed_sudden), numpy.median(times_accuracy_sudden)], yerr = [numpy.mean(stat.sem(times_speed_gradual)), numpy.mean(stat.sem(times_accuracy_gradual)), numpy.mean(stat.sem(times_speed_sudden)), numpy.mean(stat.sem(times_accuracy_sudden))], color = ['Blue', 'Green', 'Blue', 'Green'], capsize = 3)\n",
    "plt.xticks([0.5, 2.5], ['Gradual', 'Sudden'])\n",
    "plt.ylabel('Times')\n",
    "plt.xlabel('Condition')\n",
    "\n",
    "plt.legend([handles[0], handles[1]], ['Speed', 'Accuracy'])\n",
    "#handles[0]"
   ]
  },
  {
   "cell_type": "code",
   "execution_count": null,
   "metadata": {},
   "outputs": [],
   "source": [
    "numpy.ravel(times_accuracy_gradual)"
   ]
  },
  {
   "cell_type": "code",
   "execution_count": null,
   "metadata": {},
   "outputs": [],
   "source": [
    "pos = [1, 2]\n",
    "yerr = [numpy.mean(stat.sem(numpy.concatenate((times_speed_gradual, times_accuracy_gradual)))), numpy.mean(stat.sem(numpy.concatenate((times_speed_sudden, times_accuracy_sudden))))]\n",
    "plt.bar(pos, [numpy.mean(numpy.concatenate((times_speed_gradual, times_accuracy_gradual))), numpy.mean(numpy.concatenate((times_speed_sudden, times_accuracy_sudden)))], yerr = yerr, color = 'blue')\n",
    "plt.xticks(pos, ['Gradual', 'Sudden'])\n",
    "plt.ylabel('Times')\n",
    "plt.xlabel('Condition')\n"
   ]
  },
  {
   "cell_type": "code",
   "execution_count": null,
   "metadata": {},
   "outputs": [],
   "source": [
    "pos = [0, 1]\n",
    "yerr = [numpy.mean(stat.sem(numpy.concatenate((times_speed_gradual, times_speed_sudden)))), numpy.mean(stat.sem(numpy.concatenate((times_accuracy_gradual, times_accuracy_sudden))))]\n",
    "plt.bar(pos, [numpy.mean(numpy.concatenate((times_speed_gradual, times_speed_sudden))), numpy.mean(numpy.concatenate((times_accuracy_gradual, times_accuracy_sudden)))], yerr = yerr)\n",
    "plt.xticks(pos, ['Speed', 'Accuracy'])\n",
    "plt.ylabel('Times')\n",
    "plt.xlabel('Condition')\n"
   ]
  },
  {
   "cell_type": "markdown",
   "metadata": {},
   "source": [
    "# Error Bar plots"
   ]
  },
  {
   "cell_type": "code",
   "execution_count": null,
   "metadata": {},
   "outputs": [],
   "source": [
    "errors_accuracy_gradual"
   ]
  },
  {
   "cell_type": "code",
   "execution_count": null,
   "metadata": {},
   "outputs": [],
   "source": [
    "#path = 'C:/Users/Tejas/OneDrive/Research/Conferences and Papers/Psychonomics 2019/errors/'\n",
    "#plt.rcParams[('figure.figsize')] = [8, 6]\n",
    "pos = [0, 1, 2, 3]\n",
    "y = [numpy.nanmean(errors_accuracy_sudden),\n",
    "    numpy.nanmean(errors_speed_sudden),\n",
    "    numpy.nanmean(errors_accuracy_gradual),\n",
    "     numpy.nanmean(errors_speed_gradual)\n",
    "    ]\n",
    "y_sem = [numpy.mean(stat.sem(times_accuracy_sudden)),\n",
    "        numpy.mean(stat.sem(times_speed_sudden)),\n",
    "        numpy.mean(stat.sem(times_accuracy_gradual)),\n",
    "        numpy.mean(stat.sem(times_speed_gradual))]\n",
    "#handles = plt.bar(pos, yerr = [numpy.mean(stat.sem(times_speed_gradual)), numpy.nanmean(stat.sem(errors_accuracy_gradual)), numpy.nanmean(stat.sem(times_speed_sudden)), numpy.mean(stat.sem(times_accuracy_sudden))], color = ['Blue', 'Green', 'Blue', 'Green'])\n",
    "plt.bar(0, y[0], yerr = y_sem[0], capsize = 3, color = 'Blue', alpha = 1)\n",
    "plt.bar(2, y[1], yerr = y_sem[1], capsize = 3, color = 'Blue', alpha = 0.5)\n",
    "plt.bar(1, y[2], yerr = y_sem[2], capsize = 3, color = 'Green', alpha = 1)\n",
    "plt.bar(3, y[3], yerr = y_sem[3], capsize = 3, color = 'Green', alpha = 0.5)\n",
    "\n",
    "plt.xticks([0, 2, 1, 3], ['Sudden \\n Accuracy', 'Sudden \\n Speed', 'Gradual \\n Accuracy', 'Gradual \\nSpeed'], rotation = 'vertical')\n",
    "plt.ylabel('RMSE')\n",
    "plt.xlabel('Condition')\n",
    "#plt.legend([handles[0], handles[1]], ['Speed', 'Accuracy'])\n",
    "plt.title('Error')\n",
    "#plt.tight_layout()\n",
    "#plt.savefig(path+'transfer.png', dpi = 300)\n"
   ]
  },
  {
   "cell_type": "code",
   "execution_count": null,
   "metadata": {},
   "outputs": [],
   "source": [
    "yerr = [numpy.nanmean(stat.sem(numpy.concatenate((errors_speed_gradual, errors_speed_sudden)))), numpy.nanmean(stat.sem(numpy.concatenate((errors_accuracy_gradual, errors_accuracy_sudden))))]\n",
    "plt.bar(['Speed', 'Accuracy'], [numpy.nanmean(numpy.concatenate((errors_speed_gradual, errors_speed_sudden))), numpy.nanmean(numpy.concatenate((errors_accuracy_gradual, errors_accuracy_sudden)))], yerr = yerr)\n",
    "plt.xlabel('Emphasis')\n",
    "plt.ylabel('Error')\n",
    "print (yerr)"
   ]
  },
  {
   "cell_type": "code",
   "execution_count": null,
   "metadata": {},
   "outputs": [],
   "source": [
    "yerr = [numpy.nanmean(stat.sem(numpy.concatenate((errors_speed_gradual, errors_accuracy_gradual)))), numpy.nanmean(stat.sem(numpy.concatenate((errors_speed_sudden, errors_accuracy_sudden))))]\n",
    "plt.bar(['Gradual', 'Sudden'], [numpy.nanmean(numpy.concatenate((errors_speed_gradual, errors_accuracy_gradual))), numpy.nanmean(numpy.concatenate((errors_speed_sudden, errors_accuracy_sudden)))], yerr = yerr)\n",
    "plt.xlabel('Condition')\n",
    "plt.ylabel('Error')\n",
    "print (yerr)"
   ]
  },
  {
   "cell_type": "code",
   "execution_count": null,
   "metadata": {},
   "outputs": [],
   "source": [
    "interact(errorvstime, data = widgets.ToggleButtons(options = range(1,27)), \n",
    "                      block = widgets.IntSlider(max = 11, min = 0, value = 0, step = 1))"
   ]
  },
  {
   "cell_type": "code",
   "execution_count": null,
   "metadata": {},
   "outputs": [],
   "source": []
  },
  {
   "cell_type": "code",
   "execution_count": null,
   "metadata": {},
   "outputs": [],
   "source": []
  },
  {
   "cell_type": "code",
   "execution_count": null,
   "metadata": {},
   "outputs": [],
   "source": []
  },
  {
   "cell_type": "code",
   "execution_count": null,
   "metadata": {},
   "outputs": [],
   "source": []
  },
  {
   "cell_type": "code",
   "execution_count": null,
   "metadata": {},
   "outputs": [],
   "source": []
  },
  {
   "cell_type": "code",
   "execution_count": null,
   "metadata": {},
   "outputs": [],
   "source": []
  },
  {
   "cell_type": "code",
   "execution_count": null,
   "metadata": {},
   "outputs": [],
   "source": []
  },
  {
   "cell_type": "code",
   "execution_count": null,
   "metadata": {},
   "outputs": [],
   "source": []
  },
  {
   "cell_type": "code",
   "execution_count": null,
   "metadata": {},
   "outputs": [],
   "source": []
  },
  {
   "cell_type": "code",
   "execution_count": null,
   "metadata": {},
   "outputs": [],
   "source": []
  },
  {
   "cell_type": "code",
   "execution_count": null,
   "metadata": {},
   "outputs": [],
   "source": []
  },
  {
   "cell_type": "code",
   "execution_count": null,
   "metadata": {},
   "outputs": [],
   "source": []
  },
  {
   "cell_type": "code",
   "execution_count": null,
   "metadata": {},
   "outputs": [],
   "source": []
  },
  {
   "cell_type": "code",
   "execution_count": null,
   "metadata": {},
   "outputs": [],
   "source": []
  },
  {
   "cell_type": "markdown",
   "metadata": {},
   "source": [
    "Likelihood of the data"
   ]
  },
  {
   "cell_type": "code",
   "execution_count": null,
   "metadata": {},
   "outputs": [],
   "source": []
  },
  {
   "cell_type": "code",
   "execution_count": null,
   "metadata": {},
   "outputs": [],
   "source": []
  },
  {
   "cell_type": "code",
   "execution_count": null,
   "metadata": {},
   "outputs": [],
   "source": []
  },
  {
   "cell_type": "code",
   "execution_count": null,
   "metadata": {},
   "outputs": [],
   "source": []
  },
  {
   "cell_type": "code",
   "execution_count": null,
   "metadata": {},
   "outputs": [],
   "source": []
  },
  {
   "cell_type": "code",
   "execution_count": null,
   "metadata": {},
   "outputs": [],
   "source": []
  },
  {
   "cell_type": "code",
   "execution_count": null,
   "metadata": {},
   "outputs": [],
   "source": []
  },
  {
   "cell_type": "code",
   "execution_count": null,
   "metadata": {},
   "outputs": [],
   "source": []
  },
  {
   "cell_type": "code",
   "execution_count": null,
   "metadata": {},
   "outputs": [],
   "source": []
  },
  {
   "cell_type": "code",
   "execution_count": null,
   "metadata": {},
   "outputs": [],
   "source": []
  },
  {
   "cell_type": "markdown",
   "metadata": {},
   "source": [
    "Boundary is how good my plan is. Boundary affected by speed/accuracy.\n",
    "\n",
    "Drift rate affected by gradual vs sudden."
   ]
  },
  {
   "cell_type": "code",
   "execution_count": 4,
   "metadata": {},
   "outputs": [],
   "source": [
    "def errors(data, block):\n",
    "    traj = scipy.io.loadmat('data/data{data}/actual_trajectories/trajectories{block}.mat'.format(block=str(block), data=str(data)))\n",
    "    ideal_traj = scipy.io.loadmat('data/data{data}/ideal_trajectories/trajectories{block}.mat'.format(block = str(block), data=str(data)))\n",
    "    #print (traj)\n",
    "    #squares = scipy.io.loadmat('data/participants/data{data}/squares/coordinates/squares{block}.mat'.format(block=str(block), data=str(data)))\n",
    "    #xdiff = (ideal_traj['idealXs'] - traj['x'])\n",
    "    #ydiff = (ideal_traj['idealYs'] - traj['y'])\n",
    "    error = calc_error(traj)\n",
    "    return numpy.array(error)"
   ]
  },
  {
   "cell_type": "code",
   "execution_count": null,
   "metadata": {},
   "outputs": [],
   "source": [
    "temp = errors(1, 1)"
   ]
  },
  {
   "cell_type": "code",
   "execution_count": null,
   "metadata": {},
   "outputs": [],
   "source": []
  },
  {
   "cell_type": "code",
   "execution_count": 5,
   "metadata": {},
   "outputs": [],
   "source": [
    "def all_errors(num_participants, num_blocks, num_trajectories):\n",
    "    error_sum = numpy.zeros((num_participants, num_blocks, num_trajectories))\n",
    "    error_std = numpy.zeros((num_participants, num_blocks, num_trajectories))\n",
    "    for participant in range(num_participants):\n",
    "        for block in range(num_blocks):\n",
    "            temp = errors(participant+1000, block)\n",
    "            for trial in range(num_trajectories):\n",
    "                error_sum[participant, block, trial] = numpy.nanmean(temp[trial])\n",
    "                error_std[participant, block, trial] = stat.sem(temp[trial])\n",
    "        print (participant)\n",
    "            #error_sum1.append(numpy.mean(numpy.sum(errors(1, block), axis=0)))\n",
    "            #error_std1.append(numpy.std(numpy.sum(errors(1, block), axis=0)))\n",
    "            #error_sum2.append(numpy.mean(numpy.sum(errors(2, block), axis=0)))\n",
    "            #error_std2.append(numpy.std(numpy.sum(errors(2, block), axis=0)))\n",
    "            #error_sum3.append(numpy.mean(numpy.sum(errors(3, block), axis=0)))\n",
    "            #error_std3.append(numpy.std(numpy.sum(errors(3, block), axis=0)))    \n",
    "    return error_sum, error_std"
   ]
  },
  {
   "cell_type": "code",
   "execution_count": 10,
   "metadata": {},
   "outputs": [
    {
     "name": "stdout",
     "output_type": "stream",
     "text": [
      "0\n",
      "1\n",
      "2\n",
      "3\n",
      "4\n",
      "5\n",
      "6\n",
      "7\n",
      "8\n",
      "9\n",
      "10\n",
      "11\n",
      "12\n",
      "13\n",
      "14\n",
      "15\n",
      "16\n",
      "17\n",
      "18\n",
      "19\n",
      "20\n",
      "21\n",
      "22\n",
      "23\n",
      "24\n",
      "25\n",
      "26\n",
      "27\n",
      "28\n",
      "29\n",
      "30\n",
      "31\n",
      "32\n",
      "33\n",
      "34\n",
      "35\n",
      "36\n",
      "37\n",
      "38\n",
      "39\n",
      "40\n",
      "41\n",
      "42\n",
      "43\n",
      "44\n",
      "45\n",
      "46\n",
      "47\n",
      "48\n",
      "49\n",
      "50\n",
      "51\n",
      "52\n",
      "53\n",
      "54\n",
      "55\n",
      "56\n",
      "57\n",
      "58\n",
      "59\n"
     ]
    }
   ],
   "source": [
    "error_sum, error_std = all_errors(60, 12, 16)"
   ]
  },
  {
   "cell_type": "code",
   "execution_count": null,
   "metadata": {},
   "outputs": [],
   "source": []
  },
  {
   "cell_type": "code",
   "execution_count": null,
   "metadata": {},
   "outputs": [],
   "source": []
  },
  {
   "cell_type": "code",
   "execution_count": null,
   "metadata": {},
   "outputs": [],
   "source": []
  },
  {
   "cell_type": "code",
   "execution_count": null,
   "metadata": {},
   "outputs": [],
   "source": []
  },
  {
   "cell_type": "code",
   "execution_count": null,
   "metadata": {},
   "outputs": [],
   "source": []
  },
  {
   "cell_type": "code",
   "execution_count": null,
   "metadata": {},
   "outputs": [],
   "source": []
  },
  {
   "cell_type": "code",
   "execution_count": null,
   "metadata": {},
   "outputs": [],
   "source": [
    "plt.plot(numpy.mean((error_sum[1:-1:2]), axis = 0), 'k-')\n",
    "plt.plot(numpy.mean((error_sum[2:-1:2]), axis = 0), 'k-')\n",
    "\n",
    "plot1 = plt.fill_between(range(12), numpy.mean(error_sum[1:-1:2], axis = 0) + stat.sem(error_sum[1:-1:2]), numpy.mean(error_sum[1:-1:2], axis = 0) - stat.sem(error_sum[1:-1:2]), alpha = 0.5)\n",
    "plot2 = plt.fill_between(range(12), numpy.mean(error_sum[2:-1:2], axis = 0) + stat.sem(error_sum[2:-1:2]), numpy.mean(error_sum[2:-1:2], axis = 0) - stat.sem(error_sum[2:-1:2]), alpha = 0.5)\n",
    "plt.legend((plot1, plot2), (\"Accuracy\", \"Speed\"))\n",
    "#error_sum[3]\n",
    "#error_sum1\n",
    "plt.xlabel('Block')\n",
    "plt.ylabel('Error')"
   ]
  },
  {
   "cell_type": "code",
   "execution_count": null,
   "metadata": {},
   "outputs": [],
   "source": []
  },
  {
   "cell_type": "code",
   "execution_count": 11,
   "metadata": {},
   "outputs": [],
   "source": [
    "def plot_error_means(errors, path):\n",
    "    #plt.rcParams[('figure.figsize')] = [8, 6]\n",
    "\n",
    "    mean_errors = numpy.mean(error_sum, axis =2)\n",
    "    plt.errorbar(range(1, 11), numpy.mean(numpy.mean(error_sum, axis = 2)[3::4], axis = 0)[1:-1], yerr = stat.sem(numpy.mean(error_sum, axis = 2)[1::4], axis = 0)[1:-1], capsize=3)\n",
    "    plt.errorbar(0, numpy.mean(numpy.mean(error_sum, axis = 2)[3::4], axis = 0)[0], yerr = stat.sem(numpy.mean(error_sum, axis = 2)[3::4], axis = 0)[0], capsize=3, fmt = 's')\n",
    "    plt.errorbar(11, numpy.mean(numpy.mean(error_sum, axis = 2)[3::4], axis = 0)[11], yerr = stat.sem(numpy.mean(error_sum, axis = 2)[3::4], axis = 0)[11], capsize=3, fmt = 's')\n",
    "    plt.text(x=5, y = 80, s = '14 Participants')\n",
    "    plt.ylabel('RMSE')\n",
    "    plt.xlabel('Block')\n",
    "    plt.title('Gradual Accuracy')\n",
    "    plt.xticks(range(12), ['0', '1', '2', '3', '4', '5', '6', '7', '8', '9', '10', '11'])\n",
    "\n",
    "    #y_lim_max = numpy.max((mean_errors)) + 5\n",
    "    y_lim_max = 100\n",
    "    plt.ylim((0, y_lim_max))\n",
    "#    print(max(np.mean(quantiles[3::4][:, :, 3], axis = 0)[1:-1]) + 0.7)\n",
    "    #plt.tight_layout()\n",
    "    #plt.savefig(path+'learning_GA.png', dpi = 600)\n",
    "    plt.show()\n",
    "\n",
    "    plt.errorbar(range(1, 11), numpy.mean(numpy.mean(error_sum, axis = 2)[2::4], axis = 0)[1:-1], yerr = stat.sem(numpy.mean(error_sum, axis = 2)[2::4], axis = 0)[1:-1], capsize=3)\n",
    "    plt.errorbar(0, numpy.mean(numpy.mean(error_sum, axis = 2)[2::4], axis = 0)[0], yerr = stat.sem(numpy.mean(error_sum, axis = 2)[2::4], axis = 0)[0], capsize=3, fmt = 's')\n",
    "    plt.errorbar(11, numpy.mean(numpy.mean(error_sum, axis = 2)[2::4], axis = 0)[11], yerr = stat.sem(numpy.mean(error_sum, axis = 2)[2::4], axis = 0)[11], capsize=3, fmt = 's')\n",
    "    plt.text(x=5, y = 80, s = '15 Participants')\n",
    "    plt.ylabel('RMSE')\n",
    "    plt.xlabel('Block')\n",
    "    plt.xticks(range(12), ['0', '1', '2', '3', '4', '5', '6', '7', '8', '9', '10', '11'])\n",
    "    plt.title('Gradual Speed')\n",
    "    plt.ylim(2, y_lim_max)\n",
    "    #plt.tight_layout()\n",
    "    #plt.savefig(path+'learning_GS.png', dpi = 600)\n",
    "    plt.show()\n",
    "    #y_lim_max = 2200\n",
    "\n",
    "    plt.errorbar(range(1, 11), numpy.mean(numpy.mean(error_sum, axis = 2)[1::4], axis = 0)[1:-1], yerr = stat.sem(numpy.mean(error_sum, axis = 2)[1::4], axis = 0)[1:-1], capsize=3)\n",
    "    plt.errorbar(0, numpy.mean(numpy.mean(error_sum, axis = 2)[1::4], axis = 0)[0], yerr = stat.sem(numpy.mean(error_sum, axis = 2)[1::4], axis = 0)[0], capsize=3, fmt = 's')\n",
    "    plt.errorbar(11, numpy.mean(numpy.mean(error_sum, axis = 2)[1::4], axis = 0)[11], yerr = stat.sem(numpy.mean(error_sum, axis = 2)[1::4], axis = 0)[11], capsize=3, fmt = 's')\n",
    "    plt.text(x=5, y = 80, s = '15 Participants')\n",
    "    plt.ylabel('RMSE')\n",
    "    plt.xlabel('Block')\n",
    "    plt.xticks(range(12), ['0', '1', '2', '3', '4', '5', '6', '7', '8', '9', '10', '11'])\n",
    "    plt.title('Sudden Accuracy')\n",
    "    #y_lim_max = 10000\n",
    "\n",
    "    plt.ylim(2, y_lim_max)\n",
    "    #plt.tight_layout()\n",
    "    #plt.savefig(path+'learning_SA.png', dpi = 600)\n",
    "    plt.show()\n",
    "\n",
    "    plt.errorbar(range(1, 11), numpy.mean(numpy.mean(error_sum, axis = 2)[4::4], axis = 0)[1:-1], yerr = stat.sem(numpy.mean(error_sum, axis = 2)[4::4], axis = 0)[1:-1], capsize=3)\n",
    "    plt.errorbar(0, numpy.mean(numpy.mean(error_sum, axis = 2)[4::4], axis = 0)[0], yerr = stat.sem(numpy.mean(error_sum, axis = 2)[4::4], axis = 0)[0], capsize=3, fmt = 's')\n",
    "    plt.errorbar(11, numpy.mean(numpy.mean(error_sum, axis = 2)[4::4], axis = 0)[11], yerr = stat.sem(numpy.mean(error_sum, axis = 2)[4::4], axis = 0)[11], capsize=3, fmt = 's')\n",
    "    plt.text(x=5, y = 80, s = '14 Participants')\n",
    "    plt.xticks(range(12), ['0', '1', '2', '3', '4', '5', '6', '7', '8', '9', '10', '11'])\n",
    "    plt.ylabel('RMSE')\n",
    "    plt.xlabel('Block')\n",
    "    plt.title('Sudden Speed')\n",
    "#    y_lim_max = 2600\n",
    "    plt.ylim(2, y_lim_max)\n",
    "    #plt.tight_layout()\n",
    "    #plt.savefig(path+'learning_SS.png', dpi = 600)\n",
    "    plt.show()\n"
   ]
  },
  {
   "cell_type": "code",
   "execution_count": 12,
   "metadata": {},
   "outputs": [
    {
     "data": {
      "image/png": "[encoded data removed]",
      "text/plain": [
       "<Figure size 432x288 with 1 Axes>"
      ]
     },
     "metadata": {
      "needs_background": "light"
     },
     "output_type": "display_data"
    },
    {
     "data": {
      "image/png": "[encoded data removed]",
      "text/plain": [
       "<Figure size 432x288 with 1 Axes>"
      ]
     },
     "metadata": {
      "needs_background": "light"
     },
     "output_type": "display_data"
    },
    {
     "data": {
      "image/png": "[encoded data removed]",
      "text/plain": [
       "<Figure size 432x288 with 1 Axes>"
      ]
     },
     "metadata": {
      "needs_background": "light"
     },
     "output_type": "display_data"
    },
    {
     "data": {
      "image/png": "[encoded data removed]",
      "text/plain": [
       "<Figure size 432x288 with 1 Axes>"
      ]
     },
     "metadata": {
      "needs_background": "light"
     },
     "output_type": "display_data"
    }
   ],
   "source": [
    "plot_error_means(error_sum, \"C:/Users/Tejas/OneDrive/Research/Conferences and Papers/Psychonomics 2019/errors/\")"
   ]
  },
  {
   "cell_type": "code",
   "execution_count": 13,
   "metadata": {},
   "outputs": [],
   "source": [
    "numpy.mean(numpy.mean(error_sum[1::4], axis = 2), axis = 0)\n",
    "stat.sem(numpy.mean(error_sum[1::4], axis = 2), axis = 0)\n",
    "def plot_error_means_transfer(errors, text):\n",
    "#    quantiles = get_quantile(total_times)\n",
    "    xpos = [0, 1, 2, 3, 4]\n",
    "    y = numpy.array([numpy.mean(numpy.median(error_sum[1::4], axis = 2), axis = 0)[11],\n",
    "                  numpy.mean(numpy.mean(error_sum[4::4], axis = 2), axis = 0)[11],\n",
    "                  numpy.mean(numpy.mean(error_sum[3::4], axis = 2), axis = 0)[11],\n",
    "                  numpy.mean(numpy.mean(error_sum[2::4], axis = 2), axis = 0)[11]] \n",
    "                  )\n",
    "    y_sem = numpy.array([stat.sem(numpy.mean(error_sum[1::4], axis = 2), axis = 0)[11], \n",
    "                    stat.sem(numpy.mean(error_sum[4::4], axis = 2), axis = 0)[11],\n",
    "                    stat.sem(numpy.mean(error_sum[3::4], axis = 2), axis = 0)[11],\n",
    "                    stat.sem(numpy.mean(error_sum[2::4], axis = 2), axis = 0)[11]])\n",
    "    #print (y_sem[0])\n",
    "    plt.bar(0, y[0], yerr = y_sem[0], capsize = 3, color = 'Blue', alpha = 1)\n",
    "    plt.bar(2, y[1], yerr = y_sem[1], capsize = 3, color = 'Blue', alpha = 0.5)\n",
    "    plt.bar(1, y[2], yerr = y_sem[2], capsize = 3, color = 'Green', alpha = 0.5)\n",
    "    plt.bar(3, y[3], yerr = y_sem[3], capsize = 3, color = 'Green', alpha = 1)\n",
    "\n",
    "#    handles = plt.bar(range(4), y, yerr = y_sem, capsize = 3, color = ['Blue', 'Green', 'Blue', 'Green'], alpha = [1, 0.5, 0.5, 1])\n",
    "    plt.xticks([0, 2, 1, 3], ['Sudden \\n Accuracy', 'Sudden \\n Speed', 'Gradual \\n Accuracy', 'Gradual \\nSpeed'], rotation = 'vertical')\n",
    "    plt.ylabel('Error (RMSE)')\n",
    "    plt.xlabel('Condition')\n",
    "    #plt.legend([handles[0], handles[1]], ['Speed', 'Accuracy'])\n",
    "    plt.title(text)\n",
    "    \n",
    "\n",
    "#numpy.shape(numpy.mean(error_sum[1::4], axis = 0))"
   ]
  },
  {
   "cell_type": "code",
   "execution_count": 14,
   "metadata": {},
   "outputs": [
    {
     "data": {
      "image/png": "[encoded data removed]",
      "text/plain": [
       "<Figure size 432x288 with 1 Axes>"
      ]
     },
     "metadata": {
      "needs_background": "light"
     },
     "output_type": "display_data"
    }
   ],
   "source": [
    "plot_error_means_transfer(error_sum, 'Errors')"
   ]
  },
  {
   "cell_type": "code",
   "execution_count": 190,
   "metadata": {},
   "outputs": [],
   "source": [
    "data = 10\n",
    "block = 10\n",
    "num_trials = 2\n",
    "traj = scipy.io.loadmat('data/data{data}/actual_trajectories/trajectories{block}.mat'.format(block=str(block), data=str(data+1000)))\n",
    "for trial in range(num_trials):\n",
    "    trajx, trajy = traj['x'][0][trial][0], traj['y'][0][trial][0]\n",
    "    diffx, diffy = trajx[1:] - trajx[:-1], trajy[1:] - trajy[:-1]\n",
    "    #print (diffx, diffy)"
   ]
  },
  {
   "cell_type": "code",
   "execution_count": 195,
   "metadata": {},
   "outputs": [
    {
     "data": {
      "text/plain": [
       "1834.0452849729147"
      ]
     },
     "execution_count": 195,
     "metadata": {},
     "output_type": "execute_result"
    },
    {
     "data": {
      "image/png": "[encoded data removed]",
      "text/plain": [
       "<Figure size 432x288 with 1 Axes>"
      ]
     },
     "metadata": {
      "needs_background": "light"
     },
     "output_type": "display_data"
    }
   ],
   "source": [
    "plt.scatter(trajx, trajy)\n",
    "numpy.sum(numpy.sqrt((numpy.square(diffx, dtype = float) + numpy.square(diffy, dtype = float))))"
   ]
  },
  {
   "cell_type": "code",
   "execution_count": 277,
   "metadata": {},
   "outputs": [],
   "source": [
    "#Calculate the actual distance travelled in a trajectory.\n",
    "def calc_dist_travelled(num_data, num_block, num_trials):\n",
    "    dist = numpy.zeros((num_data, num_block, num_trials))\n",
    "    for data in range(num_data):\n",
    "        for block in range(num_block):\n",
    "            traj = scipy.io.loadmat('data/data{data}/actual_trajectories/trajectories{block}.mat'.format(block=str(block), data=str(data+1000)))\n",
    "            for trial in range(num_trials):\n",
    "                trajx, trajy = traj['x'][0][trial][0], traj['y'][0][trial][0]\n",
    "                diffx, diffy = trajx[1:] - trajx[:-1], trajy[1:] - trajy[:-1]\n",
    "                #print (diffx, diffy)\n",
    "                dist[data][block][trial] = numpy.sum(numpy.sqrt((numpy.square(diffx, dtype = float) + numpy.square(diffy, dtype = float))))\n",
    "    return dist"
   ]
  },
  {
   "cell_type": "code",
   "execution_count": 287,
   "metadata": {},
   "outputs": [],
   "source": [
    "dist = calc_dist_travelled(60, 12, 32)"
   ]
  },
  {
   "cell_type": "code",
   "execution_count": 279,
   "metadata": {},
   "outputs": [],
   "source": [
    "def plot_dist_means(distances, path):\n",
    "    #plt.rcParams[('figure.figsize')] = [8, 6]\n",
    "\n",
    "    mean_errors = numpy.mean(distances, axis =2)\n",
    "    plt.errorbar(range(1, 11), numpy.median(numpy.median(distances, axis = 2)[3::4], axis = 0)[1:-1], yerr = stat.sem(numpy.median(distances, axis = 2)[3::4], axis = 0)[1:-1], capsize=3)\n",
    "    #plt.errorbar(0, numpy.mean(numpy.median(distances, axis = 2)[3::4], axis = 0)[0], yerr = stat.sem(numpy.median(distances, axis = 2)[3::4], axis = 0)[0], capsize=3, fmt = 's')\n",
    "    plt.errorbar(11, numpy.mean(numpy.median(distances, axis = 2)[3::4], axis = 0)[11], yerr = stat.sem(numpy.median(distances, axis = 2)[3::4], axis = 0)[11], capsize=3, fmt = 's')\n",
    "    #plt.text(x=5, y = 80, s = '14 Participants')\n",
    "    plt.ylabel('RMSE')\n",
    "    plt.xlabel('Block')\n",
    "    plt.title('Gradual Accuracy')\n",
    "    plt.xticks(range(12), ['0', '1', '2', '3', '4', '5', '6', '7', '8', '9', '10', '11'])\n",
    "\n",
    "    #y_lim_max = numpy.max((mean_errors)) + 5\n",
    "    #y_lim_max = 500000\n",
    "    #plt.ylim((0, y_lim_max))\n",
    "#    print(max(np.mean(quantiles[3::4][:, :, 3], axis = 0)[1:-1]) + 0.7)\n",
    "    #plt.tight_layout()\n",
    "    #plt.savefig(path+'learning_GA.png', dpi = 600)\n",
    "    plt.show()\n",
    "\n",
    "    plt.errorbar(range(1, 11), numpy.mean(numpy.median(distances, axis = 2)[2::4], axis = 0)[1:-1], yerr = stat.sem(numpy.median(distances, axis = 2)[2::4], axis = 0)[1:-1], capsize=3)\n",
    "    #plt.errorbar(0, numpy.mean(numpy.median(distances, axis = 2)[2::4], axis = 0)[0], yerr = stat.sem(numpy.median(distances, axis = 2)[2::4], axis = 0)[0], capsize=3, fmt = 's')\n",
    "    plt.errorbar(11, numpy.mean(numpy.median(distances, axis = 2)[2::4], axis = 0)[11], yerr = stat.sem(numpy.median(distances, axis = 2)[2::4], axis = 0)[11], capsize=3, fmt = 's')\n",
    "    #plt.text(x=5, y = 80, s = '15 Participants')\n",
    "    plt.ylabel('RMSE')\n",
    "    plt.xlabel('Block')\n",
    "    plt.xticks(range(12), ['0', '1', '2', '3', '4', '5', '6', '7', '8', '9', '10', '11'])\n",
    "    plt.title('Gradual Speed')\n",
    "    #plt.ylim(-1, y_lim_max)\n",
    "    #plt.tight_layout()\n",
    "    #plt.savefig(path+'learning_GS.png', dpi = 600)\n",
    "    plt.show()\n",
    "    #y_lim_max = 2200\n",
    "\n",
    "    plt.errorbar(range(1, 11), numpy.mean(numpy.median(distances, axis = 2)[1::4], axis = 0)[1:-1], yerr = stat.sem(numpy.median(distances, axis = 2)[1::4], axis = 0)[1:-1], capsize=3)\n",
    "    #plt.errorbar(0, numpy.mean(numpy.mean(distances, axis = 2)[1::4], axis = 0)[0], yerr = stat.sem(numpy.mean(distances, axis = 2)[1::4], axis = 0)[0], capsize=3, fmt = 's')\n",
    "    plt.errorbar(11, numpy.mean(numpy.median(distances, axis = 2)[1::4], axis = 0)[11], yerr = stat.sem(numpy.median(distances, axis = 2)[1::4], axis = 0)[11], capsize=3, fmt = 's')\n",
    "    #plt.text(x=5, y = 80, s = '15 Participants')\n",
    "    plt.ylabel('RMSE')\n",
    "    plt.xlabel('Block')\n",
    "    plt.xticks(range(12), ['0', '1', '2', '3', '4', '5', '6', '7', '8', '9', '10', '11'])\n",
    "    plt.title('Sudden Accuracy')\n",
    "    #y_lim_max = 10000\n",
    "\n",
    "    #plt.ylim(2, y_lim_max)\n",
    "    #plt.tight_layout()\n",
    "    #plt.savefig(path+'learning_SA.png', dpi = 600)\n",
    "    plt.show()\n",
    "\n",
    "    plt.errorbar(range(1, 11), numpy.median(numpy.median(distances, axis = 2)[4::4], axis = 0)[1:-1], yerr = stat.sem(numpy.median(distances, axis = 2)[4::4], axis = 0)[1:-1], capsize=3)\n",
    "    #plt.errorbar(0, numpy.mean(numpy.median(distances, axis = 2)[4::4], axis = 0)[0], yerr = stat.sem(numpy.median(distances, axis = 2)[4::4], axis = 0)[0], capsize=3, fmt = 's')\n",
    "    plt.errorbar(11, numpy.mean(numpy.median(distances, axis = 2)[4::4], axis = 0)[11], yerr = stat.sem(numpy.median(distances, axis = 2)[4::4], axis = 0)[11], capsize=3, fmt = 's')\n",
    "    #plt.text(x=5, y = 80, s = '14 Participants')\n",
    "    plt.xticks(range(12), ['0', '1', '2', '3', '4', '5', '6', '7', '8', '9', '10', '11'])\n",
    "    plt.ylabel('RMSE')\n",
    "    plt.xlabel('Block')\n",
    "    plt.title('Sudden Speed')\n",
    "#    y_lim_max = 2600\n",
    "    #plt.ylim(2, y_lim_max)\n",
    "    #plt.tight_layout()\n",
    "    #plt.savefig(path+'learning_SS.png', dpi = 600)\n",
    "    plt.show()\n"
   ]
  },
  {
   "cell_type": "code",
   "execution_count": null,
   "metadata": {},
   "outputs": [],
   "source": []
  },
  {
   "cell_type": "code",
   "execution_count": null,
   "metadata": {},
   "outputs": [],
   "source": []
  },
  {
   "cell_type": "code",
   "execution_count": 280,
   "metadata": {},
   "outputs": [
    {
     "data": {
      "image/png": "[encoded data removed]",
      "text/plain": [
       "<Figure size 432x288 with 1 Axes>"
      ]
     },
     "metadata": {
      "needs_background": "light"
     },
     "output_type": "display_data"
    },
    {
     "data": {
      "image/png": "[encoded data removed]",
      "text/plain": [
       "<Figure size 432x288 with 1 Axes>"
      ]
     },
     "metadata": {
      "needs_background": "light"
     },
     "output_type": "display_data"
    },
    {
     "data": {
      "image/png": "[encoded data removed]",
      "text/plain": [
       "<Figure size 432x288 with 1 Axes>"
      ]
     },
     "metadata": {
      "needs_background": "light"
     },
     "output_type": "display_data"
    },
    {
     "data": {
      "image/png": "[encoded data removed]",
      "text/plain": [
       "<Figure size 432x288 with 1 Axes>"
      ]
     },
     "metadata": {
      "needs_background": "light"
     },
     "output_type": "display_data"
    }
   ],
   "source": [
    "#plt.plot(numpy.mean(numpy.mean(dist[0::4], axis = 2), axis = 0))\n",
    "#plt.plot(numpy.mean(numpy.mean(dist[1::4], axis = 2), axis = 0))\n",
    "#plt.plot(numpy.mean(numpy.mean(dist[2::4], axis = 2), axis = 0))\n",
    "#plt.plot(numpy.mean(numpy.mean(dist[3::4], axis = 2), axis = 0))\n",
    "plot_dist_means(dist, '')"
   ]
  },
  {
   "cell_type": "code",
   "execution_count": 283,
   "metadata": {},
   "outputs": [],
   "source": [
    "numpy.mean(numpy.mean(error_sum[1::4], axis = 2), axis = 0)\n",
    "stat.sem(numpy.mean(error_sum[1::4], axis = 2), axis = 0)\n",
    "def plot_dist_means_transfer(distances, text):\n",
    "#    quantiles = get_quantile(total_times)\n",
    "    xpos = [0, 1, 2, 3, 4]\n",
    "    y = numpy.array([numpy.mean(numpy.median(distances[1::4], axis = 2), axis = 0)[11],\n",
    "                  numpy.mean(numpy.median(distances[4::4], axis = 2), axis = 0)[11],\n",
    "                  numpy.mean(numpy.median(distances[3::4], axis = 2), axis = 0)[11],\n",
    "                  numpy.mean(numpy.median(distances[2::4], axis = 2), axis = 0)[11]] \n",
    "                  )\n",
    "    y_sem = numpy.array([stat.sem(numpy.median(distances[1::4], axis = 2), axis = 0)[11], \n",
    "                    stat.sem(numpy.median(distances[4::4], axis = 2), axis = 0)[11],\n",
    "                    stat.sem(numpy.median(distances[3::4], axis = 2), axis = 0)[11],\n",
    "                    stat.sem(numpy.median(distances[2::4], axis = 2), axis = 0)[11]])\n",
    "    #print (y_sem[0])\n",
    "    plt.bar(0, y[0], yerr = y_sem[0], capsize = 3, color = 'Blue', alpha = 1)\n",
    "    plt.bar(2, y[1], yerr = y_sem[1], capsize = 3, color = 'Blue', alpha = 0.5)\n",
    "    plt.bar(1, y[2], yerr = y_sem[2], capsize = 3, color = 'Green', alpha = 0.5)\n",
    "    plt.bar(3, y[3], yerr = y_sem[3], capsize = 3, color = 'Green', alpha = 1)\n",
    "\n",
    "#    handles = plt.bar(range(4), y, yerr = y_sem, capsize = 3, color = ['Blue', 'Green', 'Blue', 'Green'], alpha = [1, 0.5, 0.5, 1])\n",
    "    plt.xticks([0, 2, 1, 3], ['Sudden \\n Accuracy', 'Sudden \\n Speed', 'Gradual \\n Accuracy', 'Gradual \\nSpeed'], rotation = 'vertical')\n",
    "    plt.ylabel('Error (RMSE)')\n",
    "    plt.xlabel('Condition')\n",
    "    #plt.legend([handles[0], handles[1]], ['Speed', 'Accuracy'])\n",
    "    plt.title(text)\n",
    "    \n",
    "\n",
    "#numpy.shape(numpy.mean(error_sum[1::4], axis = 0))"
   ]
  },
  {
   "cell_type": "code",
   "execution_count": 288,
   "metadata": {},
   "outputs": [
    {
     "data": {
      "image/png": "[encoded data removed]",
      "text/plain": [
       "<Figure size 432x288 with 1 Axes>"
      ]
     },
     "metadata": {
      "needs_background": "light"
     },
     "output_type": "display_data"
    }
   ],
   "source": [
    "plot_dist_means_transfer(dist, 'text')"
   ]
  },
  {
   "cell_type": "code",
   "execution_count": 77,
   "metadata": {},
   "outputs": [
    {
     "data": {
      "text/plain": [
       "array([9.0000e+02, 1.6900e+02, 1.0000e+02, 8.1000e+01, 1.9600e+02,\n",
       "       6.4000e+01, 1.2100e+02, 4.9000e+01, 3.6000e+01, 1.6000e+01,\n",
       "       1.6000e+01, 2.5000e+01, 4.0000e+00, 4.0000e+00, 1.0000e+00,\n",
       "       0.0000e+00, 1.0000e+00, 1.0000e+00, 4.0000e+00, 1.0000e+00,\n",
       "       4.0000e+00, 1.0000e+00, 4.0000e+00, 4.0000e+00, 3.6000e+01,\n",
       "       1.6000e+01, 2.5000e+01, 8.1000e+01, 3.6000e+01, 3.6000e+01,\n",
       "       8.1000e+01, 2.5000e+01, 3.5344e+04, 1.4400e+02, 1.9600e+02,\n",
       "       1.4400e+02, 3.2400e+02, 8.1000e+01, 8.1000e+01, 1.4400e+02,\n",
       "       6.4000e+01, 4.9000e+01, 1.0000e+02, 3.6000e+01, 2.5000e+01,\n",
       "       3.6000e+01, 4.9000e+01, 1.6000e+01, 4.9000e+01, 1.6000e+01,\n",
       "       1.6000e+01, 9.0000e+00, 1.6000e+01, 1.6000e+01])"
      ]
     },
     "execution_count": 77,
     "metadata": {},
     "output_type": "execute_result"
    }
   ],
   "source": [
    "numpy.array(diffx, dtype=float)**2"
   ]
  },
  {
   "cell_type": "code",
   "execution_count": 74,
   "metadata": {},
   "outputs": [
    {
     "data": {
      "text/plain": [
       "array([  30,   13,   10,    9,   14,    8,   11,    7,    6,    4,    4,\n",
       "          5,    2,    2,    1,    0,    1,    1,    2,    1,    2,    1,\n",
       "          2,    2,    6,    4,    5,    9,    6,    6,    9,    5, -188,\n",
       "        -12,  -14,  -12,  -18,   -9,   -9,  -12,   -8,   -7,  -10,   -6,\n",
       "         -5,   -6,   -7,   -4,   -7,   -4,   -4,   -3,   -4,   -4],\n",
       "      dtype=int16)"
      ]
     },
     "execution_count": 74,
     "metadata": {},
     "output_type": "execute_result"
    }
   ],
   "source": [
    "diffx"
   ]
  },
  {
   "cell_type": "code",
   "execution_count": null,
   "metadata": {},
   "outputs": [],
   "source": [
    "#ybar = [error_sum[2:-1:4] - error_sum[2:-1:4][10], numpy.mean(error_sum[3:-1:4], axis = 0)[11] - numpy.mean(error_sum[3:-1:4], axis = 0)[10], numpy.mean(error_sum[4:-1:4], axis = 0)[11] - numpy.mean(error_sum[4:-1:4], axis = 0)[10], numpy.mean(error_sum[1:-1:4], axis = 0)[11] - numpy.mean(error_sum[1:-1:4], axis = 0)[10]]\n",
    "y = [error_sum[2:-1:4][:, 11] - error_sum[2:-1:4][:, 10], error_sum[3:-1:4][:, 11] - error_sum[3:-1:4][:, 10], error_sum[4:-1:4][:, 11] - error_sum[4:-1:4][:, 10], error_sum[1:-1:4][:, 11] - error_sum[1:-1:4][:, 10]]\n",
    "for i in y[3]:\n",
    "    print (i)\n"
   ]
  },
  {
   "cell_type": "code",
   "execution_count": null,
   "metadata": {},
   "outputs": [],
   "source": [
    "plt.plot(numpy.mean((error_sum[1:-1:4]), axis = 0), 'k-')\n",
    "plt.plot(numpy.mean((error_sum[2:-1:4]), axis = 0), 'k-')\n",
    "plt.plot(numpy.mean((error_sum[3:-1:4]), axis = 0), 'k-')\n",
    "plt.plot(numpy.mean((error_sum[4:-1:4]), axis = 0), 'k-')\n",
    "\n",
    "plot1 = plt.fill_between(range(12), numpy.mean(error_sum[1:-1:2], axis = 0) + stat.sem(error_sum[1:-1:2]), numpy.mean(error_sum[1:-1:2], axis = 0) - stat.sem(error_sum[1:-1:2]), alpha = 0.5)\n",
    "plot2 = plt.fill_between(range(12), numpy.mean(error_sum[2:-1:2], axis = 0) + stat.sem(error_sum[2:-1:2]), numpy.mean(error_sum[2:-1:2], axis = 0) - stat.sem(error_sum[2:-1:2]), alpha = 0.5)\n",
    "plot3 = plt.fill_between(range(12), numpy.mean(error_sum[3:-1:2], axis = 0) + stat.sem(error_sum[3:-1:2]), numpy.mean(error_sum[3:-1:2], axis = 0) - stat.sem(error_sum[3:-1:2]), alpha = 0.5)\n",
    "plot4 = plt.fill_between(range(12), numpy.mean(error_sum[4:-1:2], axis = 0) + stat.sem(error_sum[4:-1:2]), numpy.mean(error_sum[4:-1:2], axis = 0) - stat.sem(error_sum[4:-1:2]), alpha = 0.5)\n",
    "\n",
    "plt.legend((plot1, plot2, plot3, plot4), (\"AS\", \"SG\", \"AG\", \"SS\"))\n",
    "#error_sum[3]\n",
    "#error_sum1\n",
    "plt.xlabel('Block')\n",
    "plt.ylabel('Error')"
   ]
  },
  {
   "cell_type": "code",
   "execution_count": null,
   "metadata": {},
   "outputs": [],
   "source": [
    "all_errors1 = numpy.zeros((10, 64))\n",
    "all_errors2 = numpy.zeros((10, 64))\n",
    "for i in range(10):\n",
    "    errors1 = errors(1, i)\n",
    "    errors2 = errors(3, i)\n",
    "    for j in range(64):\n",
    "        all_errors1[i,j] = numpy.sum(errors1[j])\n",
    "        all_errors2[i, j] = numpy.sum(errors2[j])\n",
    "#numpy.sum(errors(1, 1))"
   ]
  },
  {
   "cell_type": "code",
   "execution_count": null,
   "metadata": {},
   "outputs": [],
   "source": [
    "plt.axes([0, 0.6, 3, 1.5])\n",
    "plt.plot(numpy.ravel(all_errors1))\n",
    "plt.plot(numpy.ravel(all_errors2))\n"
   ]
  },
  {
   "cell_type": "code",
   "execution_count": null,
   "metadata": {},
   "outputs": [],
   "source": [
    "lm = LinearRegression()\n",
    "lm.fit(numpy.transpose([range(12)]), error_sum)"
   ]
  },
  {
   "cell_type": "code",
   "execution_count": null,
   "metadata": {},
   "outputs": [],
   "source": [
    "lm.predict(11)\n"
   ]
  },
  {
   "cell_type": "code",
   "execution_count": null,
   "metadata": {},
   "outputs": [],
   "source": [
    "error_sum[11]"
   ]
  },
  {
   "cell_type": "code",
   "execution_count": null,
   "metadata": {},
   "outputs": [],
   "source": []
  },
  {
   "cell_type": "code",
   "execution_count": null,
   "metadata": {},
   "outputs": [],
   "source": [
    "trial_errors = list()\n",
    "for i in range(12):\n",
    "    block_error = errors(1, i)\n",
    "    for j in range(64):\n",
    "        trial_errors.append(numpy.mean(block_error[j]))"
   ]
  },
  {
   "cell_type": "code",
   "execution_count": null,
   "metadata": {},
   "outputs": [],
   "source": [
    "plt.plot(trial_errors)"
   ]
  },
  {
   "cell_type": "code",
   "execution_count": null,
   "metadata": {},
   "outputs": [],
   "source": [
    "trial_errors = list()\n",
    "for i in range(12):\n",
    "    block_error = errors(2, i)\n",
    "    for j in range(64):\n",
    "        trial_errors.append(numpy.mean(block_error[j]))"
   ]
  },
  {
   "cell_type": "code",
   "execution_count": null,
   "metadata": {},
   "outputs": [],
   "source": [
    "ax = plt.axes()\n",
    "ax.plot(trial_errors)"
   ]
  },
  {
   "cell_type": "markdown",
   "metadata": {},
   "source": [
    "Error, movement time and initiation time in the same plot.\n",
    "Across groups\n",
    "Collapse movements across subjects in the group"
   ]
  },
  {
   "cell_type": "code",
   "execution_count": null,
   "metadata": {},
   "outputs": [],
   "source": [
    "def times(data, block):\n",
    "    initial_time = scipy.io.loadmat('data/participants/data{data}/initial_time/initial_time{block}.mat'.format(block=str(block), data=str(data)))\n",
    "    movement_time = scipy.io.loadmat('data/participants/data{data}/movement_time/movement_time{block}.mat'.format(block = str(block), data=str(data)))\n",
    "    #squares = scipy.io.loadmat('data/participants/data{data}/squares/coordinates/squares{block}.mat'.format(block=str(block), data=str(data)))\n",
    "    #xdiff = (ideal_traj['idealXs'] - traj['x'])\n",
    "    #ydiff = (ideal_traj['idealYs'] - traj['y'])\n",
    "    initial_time = initial_time['initial_time'][:, 0]\n",
    "    movement_time = movement_time['movement_time'][:, 0]\n",
    "    return initial_time, movement_time\n"
   ]
  },
  {
   "cell_type": "code",
   "execution_count": null,
   "metadata": {},
   "outputs": [],
   "source": [
    "initial_times = numpy.zeros((27, 12))\n",
    "movement_times = numpy.zeros((27, 12))"
   ]
  },
  {
   "cell_type": "code",
   "execution_count": null,
   "metadata": {},
   "outputs": [],
   "source": [
    "for participant in range(1,27):\n",
    "    if participant == 7:\n",
    "        continue\n",
    "    for block in range(12):\n",
    "        initial_time, movement_time = times(participant, block)\n",
    "        initial_times[participant, block] = numpy.mean(initial_time['initial_time'])\n",
    "        movement_times[participant, block] = numpy.mean(movement_time['movement_time'])"
   ]
  },
  {
   "cell_type": "code",
   "execution_count": null,
   "metadata": {
    "scrolled": true
   },
   "outputs": [],
   "source": [
    "initial_times_mean_sudden = numpy.mean(numpy.row_stack((initial_times[4:-1:4], initial_times[1:-1:4])), axis = 0)\n",
    "initial_times_sem_sudden = stat.sem(numpy.row_stack((initial_times[4:-1:4], initial_times[1:-1:4])))\n",
    "plt.plot(initial_times_mean_sudden, 'k-')\n",
    "plot1 = plt.fill_between(range(12), initial_times_mean_sudden + initial_times_sem_sudden, initial_times_mean_sudden - initial_times_sem_sudden, alpha = 0.5)\n",
    "\n",
    "\n",
    "initial_times_mean_gradual = numpy.mean(numpy.row_stack((initial_times[2:-1:4], initial_times[3:-1:4])), axis = 0)\n",
    "initial_times_sem_gradual = stat.sem(numpy.row_stack((initial_times[2:-1:4], initial_times[3:-1:4])))\n",
    "plt.plot(initial_times_mean_gradual, 'k-')\n",
    "plot2 = plt.fill_between(range(12), initial_times_mean_gradual + initial_times_sem_gradual, initial_times_mean_gradual - initial_times_sem_gradual, alpha = 0.5)\n",
    "\n",
    "plt.legend((plot1, plot2), (\"Sudden\", \"Gradual\"))\n",
    "plt.xlabel('Block')\n",
    "plt.ylabel('Initial Times')"
   ]
  },
  {
   "cell_type": "code",
   "execution_count": null,
   "metadata": {},
   "outputs": [],
   "source": [
    "initial_times_mean_speed = numpy.mean(initial_times[2:-1:2], axis = 0)\n",
    "initial_times_sem_speed = stat.sem(initial_times[2:-1:2])\n",
    "plt.plot(initial_times_mean_speed, 'k-')\n",
    "plot1 = plt.fill_between(range(12), initial_times_mean_speed + initial_times_sem_speed, initial_times_mean_speed - initial_times_sem_speed, alpha = 0.5, color = 'red')\n",
    "\n",
    "\n",
    "initial_times_mean_accuracy = numpy.mean(initial_times[1:-1:2], axis = 0)\n",
    "initial_times_sem_accuracy = stat.sem(initial_times[1:-1:2])\n",
    "plt.plot(initial_times_mean_accuracy, 'k-')\n",
    "plot2 = plt.fill_between(range(12), initial_times_mean_accuracy + initial_times_sem_accuracy, initial_times_mean_accuracy - initial_times_sem_accuracy, alpha = 0.5, color = 'green')\n",
    "\n",
    "plt.legend((plot1, plot2), (\"Speed\", \"Accuracy\"))\n",
    "plt.xlabel('Block')\n",
    "plt.ylabel('Initial Time')"
   ]
  },
  {
   "cell_type": "code",
   "execution_count": null,
   "metadata": {},
   "outputs": [],
   "source": [
    "initial_times_mean_speed_gradual = numpy.mean(initial_times[2:-1:4], axis = 0)\n",
    "initial_times_sem_speed_gradual = stat.sem(initial_times[2:-1:4])\n",
    "plt.plot(initial_times_mean_speed_gradual, 'k-')\n",
    "plot1 = plt.fill_between(range(12), initial_times_mean_speed_gradual + initial_times_sem_speed_gradual, initial_times_mean_speed_gradual - initial_times_sem_speed_gradual, alpha = 0.5)\n",
    "\n",
    "initial_times_mean_accuracy_gradual = numpy.mean(initial_times[3:-1:4], axis = 0)\n",
    "initial_times_sem_accuracy_gradual = stat.sem(initial_times[3:-1:4])\n",
    "plt.plot(initial_times_mean_accuracy_gradual, 'k-')\n",
    "plot2 = plt.fill_between(range(12), initial_times_mean_accuracy_gradual + initial_times_sem_accuracy_gradual, initial_times_mean_accuracy_gradual - initial_times_sem_accuracy_gradual, alpha = 0.5)\n",
    "\n",
    "initial_times_mean_speed_sudden = numpy.mean(initial_times[4:-1:4], axis = 0)\n",
    "initial_times_sem_speed_sudden = stat.sem(initial_times[4:-1:4])\n",
    "plt.plot(initial_times_mean_speed_sudden, 'k-')\n",
    "plot3 = plt.fill_between(range(12), initial_times_mean_speed_sudden + initial_times_sem_speed_sudden, initial_times_mean_speed_sudden - initial_times_sem_speed_sudden, alpha = 0.5)\n",
    "\n",
    "initial_times_mean_accuracy_sudden = numpy.mean(initial_times[1:-1:4], axis = 0)\n",
    "initial_times_sem_accuracy_sudden = stat.sem(initial_times[1:-1:4])\n",
    "plt.plot(initial_times_mean_accuracy_sudden, 'k-')\n",
    "plot4 = plt.fill_between(range(12), initial_times_mean_accuracy_sudden + initial_times_sem_accuracy_sudden, initial_times_mean_accuracy_sudden - initial_times_sem_accuracy_sudden, alpha = 0.5)\n",
    "\n",
    "\n",
    "plt.legend((plot1, plot2, plot3, plot4), (\"SG\", \"AG\", \"SS\", \"AS\"))\n",
    "plt.xlabel('Block')\n",
    "plt.ylabel('Initial Time')"
   ]
  },
  {
   "cell_type": "code",
   "execution_count": null,
   "metadata": {},
   "outputs": [],
   "source": [
    "plt.bar(range(4), [initial_times_mean_accuracy_gradual[11] - initial_times_mean_accuracy_gradual[10], initial_times_mean_accuracy_sudden[11] - initial_times_mean_accuracy_sudden[10], initial_times_mean_speed_gradual[11] - initial_times_mean_speed_gradual[10], initial_times_mean_speed_sudden[11] - initial_times_mean_speed_sudden[10]])"
   ]
  },
  {
   "cell_type": "code",
   "execution_count": null,
   "metadata": {},
   "outputs": [],
   "source": [
    "ybar = [numpy.mean(initial_times[1:-1:2][11] - initial_times[1:-1:2][10]), numpy.mean(initial_times[2:-1:2][11] - initial_times[2:-1:2][10])]\n",
    "yerr = [stat.sem(initial_times[1:-1:2][11] - initial_times[1:-1:2][10]), stat.sem(initial_times[2:-1:2][11] - initial_times[2:-1:2][10])]\n",
    "plt.bar(range(2), ybar, yerr = yerr)"
   ]
  },
  {
   "cell_type": "code",
   "execution_count": null,
   "metadata": {},
   "outputs": [],
   "source": [
    "#numpy.mean(initial_times[1:-1:2][11])\n",
    "#initial_times_mean_accuracy[11]\n",
    "initial_times_mean_accuracy\n",
    "initial_times[1:-1:2][11]\n",
    "numpy.mean(initial_times[1:-1:2], axis = 0)"
   ]
  },
  {
   "cell_type": "code",
   "execution_count": null,
   "metadata": {},
   "outputs": [],
   "source": [
    "plt.bar(range(2), [movement_times_mean_sudden[11] - movement_times_mean_sudden[10], movement_times_mean_gradual[11] - movement_times_mean_gradual[10]])"
   ]
  },
  {
   "cell_type": "code",
   "execution_count": null,
   "metadata": {},
   "outputs": [],
   "source": [
    "movement_times_mean_sudden = numpy.mean(numpy.row_stack((movement_times[4:-1:4], movement_times[1:-1:4])), axis = 0)\n",
    "movement_times_sem_sudden = stat.sem(numpy.row_stack((movement_times[4:-1:4], movement_times[1:-1:4])))\n",
    "plt.plot(movement_times_mean_sudden, 'k-')\n",
    "plot1 = plt.fill_between(range(12), movement_times_mean_sudden + movement_times_sem_sudden, movement_times_mean_sudden - movement_times_sem_sudden, alpha = 0.5)\n",
    "\n",
    "\n",
    "movement_times_mean_gradual = numpy.mean(numpy.row_stack((movement_times[2:-1:4], movement_times[3:-1:4])), axis = 0)\n",
    "movement_times_sem_gradual = stat.sem(numpy.row_stack((movement_times[2:-1:4], movement_times[3:-1:4])))\n",
    "plt.plot(movement_times_mean_gradual, 'k-')\n",
    "plot2 = plt.fill_between(range(12), movement_times_mean_gradual + movement_times_sem_gradual, movement_times_mean_gradual - movement_times_sem_gradual, alpha = 0.5)\n",
    "\n",
    "plt.legend((plot1, plot2), (\"Sudden\", \"Gradual\"))\n",
    "plt.xlabel('Block')\n",
    "plt.ylabel('Movement Times')"
   ]
  },
  {
   "cell_type": "code",
   "execution_count": null,
   "metadata": {},
   "outputs": [],
   "source": [
    "movement_times_mean_speed = numpy.mean(movement_times[2:-1:2], axis = 0)\n",
    "movement_times_sem_speed = stat.sem(movement_times[2:-1:2])\n",
    "plt.plot(movement_times_mean_speed, 'k-')\n",
    "plot1 = plt.fill_between(range(12), movement_times_mean_speed + movement_times_sem_speed, movement_times_mean_speed - movement_times_sem_speed, alpha = 0.5, color = 'red')\n",
    "\n",
    "\n",
    "movement_times_mean_accuracy = numpy.mean(movement_times[1:-1:2], axis = 0)\n",
    "movement_times_sem_accuracy = stat.sem(movement_times[1:-1:2])\n",
    "plt.plot(movement_times_mean_accuracy, 'k-')\n",
    "plot2 = plt.fill_between(range(12), movement_times_mean_accuracy + movement_times_sem_accuracy, movement_times_mean_accuracy - movement_times_sem_accuracy, alpha = 0.5, color = 'green')\n",
    "\n",
    "plt.legend((plot1, plot2), (\"Speed\", \"Accuracy\"))\n",
    "plt.xlabel('Block')\n",
    "plt.ylabel('Movement Times')"
   ]
  },
  {
   "cell_type": "code",
   "execution_count": null,
   "metadata": {},
   "outputs": [],
   "source": [
    "fig, plot1 = plt.subplots()\n",
    "plot1.plot(numpy.mean(numpy.row_stack((error_sum[4:-1:4], error_sum[1:-1:4])), axis = 0), 'k-')\n",
    "plot1.plot(numpy.mean(numpy.row_stack((error_sum[2:-1:4], error_sum[3:-1:4])), axis = 0), 'k-')\n",
    "\n",
    "plot1 = plt.fill_between(range(12), numpy.mean(numpy.row_stack((error_sum[4:-1:4], error_sum[1:-1:4])), axis = 0) + stat.sem(numpy.row_stack((error_sum[4:-1:4], error_sum[1:-1:4]))), numpy.mean(numpy.row_stack((error_sum[4:-1:4], error_sum[1:-1:4])), axis = 0) - stat.sem(numpy.row_stack((error_sum[4:-1:4], error_sum[1:-1:4]))), alpha = 0.5)\n",
    "plot2 = plt.fill_between(range(12), numpy.mean(numpy.row_stack((error_sum[2:-1:4], error_sum[3:-1:4])), axis = 0) + stat.sem(numpy.row_stack((error_sum[2:-1:4], error_sum[3:-1:4]))), numpy.mean(numpy.row_stack((error_sum[2:-1:4], error_sum[3:-1:4])), axis = 0) - stat.sem(numpy.row_stack((error_sum[2:-1:4], error_sum[3:-1:4]))), alpha = 0.5)\n",
    "plt.legend((plot1, plot2), (\"Sudden\", \"Gradual\"))\n",
    "#error_sum[3]\n",
    "#error_sum\n",
    "plt.xlabel('Block')\n",
    "plt.ylabel('Error')\n",
    "#plot1.\n",
    "plot3 = plot1.twinx()\n",
    "initial_times_mean_sudden = numpy.mean(numpy.row_stack((initial_times[4:-1:4], initial_times[1:-1:4])), axis = 0)\n",
    "initial_times_sem_sudden = stat.sem(numpy.row_stack((initial_times[4:-1:4], initial_times[1:-1:4])))\n",
    "plt.plot(initial_times_mean_sudden, 'k-')\n",
    "plot1 = plt.fill_between(range(10), initial_times_mean_sudden + initial_times_sem_sudden, initial_times_mean_sudden - initial_times_sem_sudden, alpha = 0.5)\n",
    "\n",
    "\n",
    "initial_times_mean_gradual = numpy.mean(numpy.row_stack((initial_times[2:-1:4], initial_times[3:-1:4])), axis = 0)\n",
    "initial_times_sem_gradual = stat.sem(numpy.row_stack((initial_times[2:-1:4], initial_times[3:-1:4])))\n",
    "plt.plot(initial_times_mean_gradual, 'k-')\n",
    "plot2 = plt.fill_between(range(10), initial_times_mean_gradual + initial_times_sem_gradual, initial_times_mean_gradual - initial_times_sem_gradual, alpha = 0.5)\n",
    "\n",
    "plt.legend((plot1, plot2), (\"Sudden\", \"Gradual\"))\n",
    "\n",
    "movement_times_mean_sudden = numpy.mean(numpy.row_stack((movement_times[4:-1:4], movement_times[1:-1:4])), axis = 0)\n",
    "movement_times_sem_sudden = stat.sem(numpy.row_stack((movement_times[4:-1:4], movement_times[1:-1:4])))\n",
    "plt.plot(movement_times_mean_sudden, 'k-')\n",
    "plot1 = plt.fill_between(range(10), movement_times_mean_sudden + movement_times_sem_sudden, movement_times_mean_sudden - movement_times_sem_sudden, alpha = 0.5)\n",
    "\n",
    "\n",
    "movement_times_mean_gradual = numpy.mean(numpy.row_stack((movement_times[2:-1:4], movement_times[3:-1:4])), axis = 0)\n",
    "movement_times_sem_gradual = stat.sem(numpy.row_stack((movement_times[2:-1:4], movement_times[3:-1:4])))\n",
    "plt.plot(movement_times_mean_gradual, 'k-')\n",
    "plot2 = plt.fill_between(range(10), movement_times_mean_gradual + movement_times_sem_gradual, movement_times_mean_gradual - movement_times_sem_gradual, alpha = 0.5)\n",
    "\n",
    "plt.legend((plot1, plot2), (\"Sudden\", \"Gradual\"))"
   ]
  },
  {
   "cell_type": "code",
   "execution_count": null,
   "metadata": {},
   "outputs": [],
   "source": []
  },
  {
   "cell_type": "code",
   "execution_count": null,
   "metadata": {},
   "outputs": [],
   "source": [
    "score = error_sum[:, 1]"
   ]
  },
  {
   "cell_type": "code",
   "execution_count": null,
   "metadata": {},
   "outputs": [],
   "source": [
    "#speed emphasis is 1\n",
    "emphasis = numpy.zeros(len(score))\n",
    "emphasis[1:-1:2] = 1\n",
    "\n",
    "condition = numpy.zeros(len(score))\n",
    "condition[1:-1:4] = 1\n",
    "condition[0:-1:4] = 1\n",
    "condition"
   ]
  },
  {
   "cell_type": "code",
   "execution_count": null,
   "metadata": {},
   "outputs": [],
   "source": [
    "numpy.savetxt('error_anova.csv', numpy.column_stack((emphasis, condition, score)), delimiter=\",\")\n"
   ]
  },
  {
   "cell_type": "code",
   "execution_count": null,
   "metadata": {},
   "outputs": [],
   "source": [
    "lm = smf.OLS(score, numpy.column_stack((emphasis, condition))).fit()"
   ]
  },
  {
   "cell_type": "code",
   "execution_count": null,
   "metadata": {},
   "outputs": [],
   "source": [
    "print (lm.summary())"
   ]
  },
  {
   "cell_type": "code",
   "execution_count": null,
   "metadata": {},
   "outputs": [],
   "source": [
    "table = sm.stats.anova_lm(lm)"
   ]
  },
  {
   "cell_type": "markdown",
   "metadata": {},
   "source": [
    "\n",
    "distance from target vs time quantiles\n",
    "\n",
    "break blocks into 16 sets of trials\n",
    "\n",
    "error vs groups of trials\n",
    "\n",
    "Clean up data"
   ]
  },
  {
   "cell_type": "code",
   "execution_count": null,
   "metadata": {},
   "outputs": [],
   "source": [
    "numpy.column_stack((initial_times[1:-1:4][1], initial_times[4:-1:4][1])) - numpy.column_stack((initial_times[1:-1:4][0], initial_times[4:-1:4][0]))"
   ]
  },
  {
   "cell_type": "code",
   "execution_count": null,
   "metadata": {},
   "outputs": [],
   "source": [
    "numpy.concatenate((initial_times[1:-1:4,1], initial_times[4:-1:4, 1])) - numpy.concatenate((initial_times[1:-1:4,0], initial_times[4:-1:4, 0]))"
   ]
  },
  {
   "cell_type": "code",
   "execution_count": null,
   "metadata": {},
   "outputs": [],
   "source": [
    "numpy.concatenate((initial_times[1:-1:4,11], initial_times[4:-1:4, 11])) - numpy.concatenate((initial_times[1:-1:4,10], initial_times[4:-1:4, 10]))"
   ]
  },
  {
   "cell_type": "code",
   "execution_count": null,
   "metadata": {},
   "outputs": [],
   "source": [
    "def calc_dist(traj):    \n",
    "    distance = list()\n",
    "    for j in range(64):\n",
    "        traj_dist = list()\n",
    "        trajx, trajy = traj['x'][0][j][0], traj['y'][0][j][0]\n",
    "        #end_pointx, end_pointy  = square_coord['squareX'][0][j], square_coord['squareY'][0][j]\n",
    "        end_pointx, end_pointy  = traj['x'][0][j][0][-1], traj['y'][0][j][0][-1]\n",
    "\n",
    "\n",
    "        for i in range(len(trajx)):\n",
    "            xdist = numpy.absolute(end_pointx - trajx[i])\n",
    "            ydist = numpy.absolute(end_pointy-trajy[i])\n",
    "            dist = numpy.sqrt(xdist**2 + ydist**2)\n",
    "            traj_dist.append(dist)\n",
    "        distance.append(traj_dist)\n",
    "    return distance\n",
    "#dist = numpy.linalg.norm(numpy.cross(p2-p1, p1-p3))/numpy.linalg.norm(p2-p1)"
   ]
  },
  {
   "cell_type": "code",
   "execution_count": null,
   "metadata": {},
   "outputs": [],
   "source": [
    "def distancevstime(data, block):\n",
    "    traj = scipy.io.loadmat('data/participants/data{data}/actual_trajectories/trajectories{block}.mat'.format(block=str(block), data=str(data)))\n",
    "    ideal_traj = scipy.io.loadmat('data/participants/data{data}/ideal_trajectories/ideal_trajectories{block}.mat'.format(block = str(block), data=str(data)))\n",
    "    #squares = scipy.io.loadmat('data/participants/data{data}/squares/coordinates/squares{block}.mat'.format(block=str(block), data=str(data)))\n",
    "    #xdiff = (ideal_traj['idealXs'] - traj['x'])\n",
    "    #ydiff = (ideal_traj['idealYs'] - traj['y'])\n",
    "    distance = calc_dist(traj)\n",
    "    \n",
    "    #error = xdiff**2+ydiff**2\n",
    "    #print (error)\n",
    "    distance_means = numpy.zeros((64, 5))\n",
    "    for i in range(64):\n",
    "        n = len(distance[i])\n",
    "        for j in range(5):\n",
    "            distance_means[i, j] = numpy.nanmean(distance[i][int(numpy.floor((j)*n/5)):int(numpy.floor((j+1)*n/5))])\n",
    "        #error_means[i, ] = error_means[i, ]/max(error_means[i,])\n",
    "\n",
    "    \n",
    "    time_means = numpy.zeros((64, 5))\n",
    "\n",
    "    for i in range(64):\n",
    "        n = len(distance[i])\n",
    "        for j in range(5):\n",
    "            time_means[i, j] = len(distance[i][int(numpy.floor((j)*n/5)):int(numpy.floor((j+1)*n/5))])\n",
    "    times = numpy.cumsum(numpy.mean(time_means, axis = 0))\n",
    "    plt.errorbar(times, numpy.nanmean(distance_means, axis = 0), xerr = stat.sem(time_means, axis = 0), yerr = stat.sem(distance_means, axis = 0))\n",
    "    plt.ylabel('Distance')\n",
    "    plt.xlabel('Time')\n",
    "    #plt.xlim(0, 100)\n",
    "    #plt.ylim(-20, 70)\n",
    "    return times, numpy.nanmean(distance_means, axis = 0)"
   ]
  },
  {
   "cell_type": "code",
   "execution_count": null,
   "metadata": {},
   "outputs": [],
   "source": [
    "distss = numpy.array([])\n",
    "distas = numpy.array([])\n",
    "distsg = numpy.array([])\n",
    "distag = numpy.array([])\n",
    "timess = numpy.array([])\n",
    "timeas = numpy.array([])\n",
    "timesg = numpy.array([])\n",
    "timeag = numpy.array([])\n",
    "data = 11\n",
    "for participant in range(1, 27):\n",
    "    if participant == 7:\n",
    "        continue\n",
    "    if participant%4 == 0:\n",
    "        temp = distancevstime(participant, data)\n",
    "        distss = numpy.concatenate((distss, temp[1]))\n",
    "        timess = numpy.concatenate((timess, temp[0]))\n",
    "    if participant%4 == 1:\n",
    "        temp = distancevstime(participant, data)\n",
    "        distas = numpy.concatenate((distas, temp[1]))\n",
    "        timeas = numpy.concatenate((timeas, temp[0]))\n",
    "    if participant%4 == 2:\n",
    "        temp = distancevstime(participant, data)\n",
    "        distsg = numpy.concatenate((distsg, temp[1]))\n",
    "        timesg = numpy.concatenate((timesg, temp[0]))\n",
    "    if participant%4 == 3:\n",
    "        temp = distancevstime(participant, data)\n",
    "        distag = numpy.concatenate((distag, temp[1]))\n",
    "        timeag = numpy.concatenate((timeag, temp[0]))\n",
    "\n",
    "#    distancevstime(16, 11)\n"
   ]
  },
  {
   "cell_type": "code",
   "execution_count": null,
   "metadata": {},
   "outputs": [],
   "source": [
    "plot1, = plt.plot(numpy.nanmean(numpy.reshape(timess, (int(len(timess)/5), 5)), axis = 0), numpy.nanmean(numpy.reshape(distss, (int(len(distss)/5), 5)), axis = 0))\n",
    "plot2, = plt.plot(numpy.nanmean(numpy.reshape(timesg, (int(len(timesg)/5), 5)), axis = 0), numpy.nanmean(numpy.reshape(distsg, (int(len(distsg)/5), 5)), axis = 0))\n",
    "plot3, = plt.plot(numpy.nanmean(numpy.reshape(timeas, (int(len(timeas)/5), 5)), axis = 0), numpy.nanmean(numpy.reshape(distas, (int(len(distas)/5), 5)), axis = 0))\n",
    "plot4, = plt.plot(numpy.nanmean(numpy.reshape(timeag, (int(len(timeag)/5), 5)), axis = 0), numpy.nanmean(numpy.reshape(distag, (int(len(distag)/5), 5)), axis = 0))\n",
    "\n",
    "plt.legend((plot1, plot2, plot3, plot4), ('SS', 'SG', 'AS', 'AG'))\n",
    "plt.xlabel('Time')\n",
    "plt.ylabel('Distance to target')"
   ]
  },
  {
   "cell_type": "markdown",
   "metadata": {},
   "source": [
    "# Fitting Wald\n",
    "1. Wald simulator using current parameters generate samples\n",
    "2. Calculate gsquared using actual data\n",
    "2. Minimize gsquared error"
   ]
  },
  {
   "cell_type": "markdown",
   "metadata": {},
   "source": [
    "1. Calculate quantile points from a wald simulator with current parameters.\n",
    "2. Calculate observed frequencies based on these quantile points.\n",
    "3. Calculate G-Squared with ideal frequencies in bins as expected frequencies"
   ]
  },
  {
   "cell_type": "code",
   "execution_count": null,
   "metadata": {},
   "outputs": [],
   "source": [
    "\n"
   ]
  },
  {
   "cell_type": "code",
   "execution_count": null,
   "metadata": {},
   "outputs": [],
   "source": []
  },
  {
   "cell_type": "code",
   "execution_count": null,
   "metadata": {},
   "outputs": [],
   "source": []
  },
  {
   "cell_type": "code",
   "execution_count": null,
   "metadata": {},
   "outputs": [],
   "source": []
  },
  {
   "cell_type": "code",
   "execution_count": null,
   "metadata": {},
   "outputs": [],
   "source": [
    "its = numpy.zeros((58, 10, 64))\n",
    "for participant in range(1, 58):\n",
    "    if participant == 7:\n",
    "        continue\n",
    "    for i in range(10):\n",
    "        it, mt = times(participant, i+1)\n",
    "        its[participant, i] = it['initial_time'][:, 0]"
   ]
  },
  {
   "cell_type": "code",
   "execution_count": null,
   "metadata": {},
   "outputs": [],
   "source": [
    "#numpy.ravel(its[1])[numpy.ravel(its[1]) < 5]\n",
    "plt.hist(numpy.ravel(its[4::2])[(numpy.ravel(its[4::2])<5) & (numpy.ravel(its[4::2])>0.1)],  bins = 500)"
   ]
  },
  {
   "cell_type": "code",
   "execution_count": null,
   "metadata": {},
   "outputs": [],
   "source": [
    "plt.hist(wald_simulator(0.2, 0.3, min(numpy.ravel(its)), len(numpy.ravel(its))), bins = 500)"
   ]
  },
  {
   "cell_type": "code",
   "execution_count": null,
   "metadata": {},
   "outputs": [],
   "source": [
    "it['initial_time'][:,0]"
   ]
  },
  {
   "cell_type": "code",
   "execution_count": null,
   "metadata": {},
   "outputs": [],
   "source": []
  },
  {
   "cell_type": "code",
   "execution_count": null,
   "metadata": {},
   "outputs": [],
   "source": []
  },
  {
   "cell_type": "code",
   "execution_count": null,
   "metadata": {},
   "outputs": [],
   "source": []
  },
  {
   "cell_type": "markdown",
   "metadata": {},
   "source": [
    "# MLE"
   ]
  },
  {
   "cell_type": "code",
   "execution_count": null,
   "metadata": {},
   "outputs": [],
   "source": []
  },
  {
   "cell_type": "code",
   "execution_count": null,
   "metadata": {},
   "outputs": [],
   "source": []
  },
  {
   "cell_type": "code",
   "execution_count": null,
   "metadata": {},
   "outputs": [],
   "source": [
    "cummulative_density = scipy.integrate.quad(wald_density, a=0, b=1, args = ([0.1, 0.1, 0.1]))[0]\n"
   ]
  },
  {
   "cell_type": "code",
   "execution_count": null,
   "metadata": {},
   "outputs": [],
   "source": [
    "cummulative_density"
   ]
  },
  {
   "cell_type": "code",
   "execution_count": null,
   "metadata": {},
   "outputs": [],
   "source": [
    "def log_likelihood(param):\n",
    "    #param, penalty = param_constraint(param)\n",
    "    ll = -sum(numpy.log(wald_density(param, data)))\n",
    "    return ll"
   ]
  },
  {
   "cell_type": "code",
   "execution_count": null,
   "metadata": {},
   "outputs": [],
   "source": [
    "data = it['initial_time'][:,0]\n",
    "x0 = [0.1, 0.1, 0.1]"
   ]
  },
  {
   "cell_type": "code",
   "execution_count": null,
   "metadata": {},
   "outputs": [],
   "source": []
  },
  {
   "cell_type": "code",
   "execution_count": null,
   "metadata": {},
   "outputs": [],
   "source": []
  },
  {
   "cell_type": "code",
   "execution_count": null,
   "metadata": {},
   "outputs": [],
   "source": []
  },
  {
   "cell_type": "code",
   "execution_count": null,
   "metadata": {},
   "outputs": [],
   "source": []
  },
  {
   "cell_type": "code",
   "execution_count": null,
   "metadata": {},
   "outputs": [],
   "source": []
  },
  {
   "cell_type": "code",
   "execution_count": null,
   "metadata": {},
   "outputs": [],
   "source": []
  },
  {
   "cell_type": "code",
   "execution_count": null,
   "metadata": {},
   "outputs": [],
   "source": []
  },
  {
   "cell_type": "code",
   "execution_count": null,
   "metadata": {},
   "outputs": [],
   "source": []
  },
  {
   "cell_type": "code",
   "execution_count": null,
   "metadata": {},
   "outputs": [],
   "source": [
    "def calc_gsquared(param, observed):\n",
    "    param, penalty = param_constraint(param)\n",
    "    boundary = param[0]\n",
    "    drift = param[1]\n",
    "    non_dec_time = param[2]\n",
    "    observed_frequencies = [0]\n",
    "    expected_quantiles = wald_simulator_quantiles([boundary, drift, non_dec_time])\n",
    "    #print (expected_quantiles)\n",
    "    expected_frequencies = numpy.array([0.1, 0.2, 0.2, 0.2, 0.2, 0.1])*len(observed)\n",
    "    for quantile in expected_quantiles:\n",
    "        observed_frequencies.append(wald_cummulative_density(quantile, param)[0]*len(observed))\n",
    "    observed_frequencies.append(len(observed))\n",
    "    observed_frequencies = [t - s for s, t in zip(observed_frequencies, observed_frequencies[1:])]\n",
    "    #print (expected_frequencies)\n",
    "    #print (observed_frequencies)\n",
    "    #print (expected_frequencies/observed_frequencies)\n",
    "    g_squared = 2*sum(observed_frequencies*numpy.log(observed_frequencies/expected_frequencies))\n",
    "    g_squared += penalty\n",
    "    return g_squared"
   ]
  },
  {
   "cell_type": "code",
   "execution_count": null,
   "metadata": {},
   "outputs": [],
   "source": [
    "calc_gsquared([0.6, 0.3, min(numpy.ravel(its))], numpy.ravel(its))"
   ]
  },
  {
   "cell_type": "code",
   "execution_count": null,
   "metadata": {},
   "outputs": [],
   "source": [
    "optim = scipy.optimize.minimize(calc_gsquared, x0 = [0.6, 0.3, min(numpy.ravel(its) - 0.00001)], args=(numpy.ravel(its)), method='Nelder-Mead')"
   ]
  },
  {
   "cell_type": "code",
   "execution_count": null,
   "metadata": {},
   "outputs": [],
   "source": [
    "optim.fun"
   ]
  },
  {
   "cell_type": "code",
   "execution_count": null,
   "metadata": {},
   "outputs": [],
   "source": [
    "min(numpy.ravel(its))\n"
   ]
  },
  {
   "cell_type": "code",
   "execution_count": null,
   "metadata": {},
   "outputs": [],
   "source": [
    "param_arr = numpy.zeros((58, 12, 3))\n",
    "gsq_arr = numpy.zeros((58, 12))\n",
    "for data in range(1, 58):\n",
    "    if data == 7:\n",
    "        continue\n",
    "    for block in range(12):\n",
    "        it, mt = times(data, block)\n",
    "        initial_time = it['initial_time'][:,0][(it['initial_time'][:,0] < 5) & (it['initial_time'][:,0] > 0)]\n",
    "        optim = scipy.optimize.minimize(calc_gsquared, x0 = [0.6, 0.3, min(initial_time)], args = (initial_time), method = 'Nelder-Mead')\n",
    "        param_arr[data][block] = optim.x\n",
    "        gsq_arr[data][block] = optim.fun\n",
    "    print (data)"
   ]
  },
  {
   "cell_type": "code",
   "execution_count": null,
   "metadata": {},
   "outputs": [],
   "source": [
    "it, mt = times(1, 1)"
   ]
  },
  {
   "cell_type": "code",
   "execution_count": null,
   "metadata": {},
   "outputs": [],
   "source": [
    "plt.hist(it['initial_time'][:,0][(it['initial_time'][:,0] < 5) & (it['initial_time'][:,0] > 0)])"
   ]
  },
  {
   "cell_type": "markdown",
   "metadata": {},
   "source": [
    "# Regression Analysis"
   ]
  },
  {
   "cell_type": "code",
   "execution_count": null,
   "metadata": {},
   "outputs": [],
   "source": [
    "its = numpy.zeros((58, 12, 64))\n",
    "mts = numpy.zeros((58, 12, 64))\n",
    "for participant in range(1,58):\n",
    "    if participant == 7:\n",
    "        continue\n",
    "    for block in range(12):\n",
    "        itmt = times(participant, block)\n",
    "        it = itmt[0]\n",
    "        mt = itmt[1]\n",
    "        #print (it)\n",
    "        #it = it['initial_time'][:,0]\n",
    "        its[participant, block, :len(it)] = it\n",
    "        mts[participant, block, :len(mt)] = mt\n",
    "#it = it['initial_time'][:,0]"
   ]
  },
  {
   "cell_type": "code",
   "execution_count": null,
   "metadata": {},
   "outputs": [],
   "source": [
    "stat.linregress(range(10), numpy.mean(numpy.mean(numpy.row_stack((its[2::4], its[3::4])), axis = 2), axis = 0)[1:11])"
   ]
  },
  {
   "cell_type": "code",
   "execution_count": null,
   "metadata": {},
   "outputs": [],
   "source": [
    "slope = numpy.zeros(12)\n",
    "intercept = numpy.zeros(12)\n",
    "rvalue = numpy.zeros(12)\n",
    "pvalue = numpy.zeros(12)\n",
    "stderr = numpy.zeros(12)\n",
    "for block in range(12):\n",
    "    m, c, r, p, s = stat.linregress(range(64), numpy.mean(numpy.row_stack((its[2::4], its[3::4]))[::, block], axis = 0))   \n",
    "    slope[block] = m\n",
    "    intercept[block] = c\n",
    "    rvalue[block] = r\n",
    "    pvalue[block] = p\n",
    "    stderr[block] = s"
   ]
  },
  {
   "cell_type": "code",
   "execution_count": null,
   "metadata": {},
   "outputs": [],
   "source": [
    "plt.plot(slope)\n",
    "plt.title('Sudden: Slope within block vs Block')"
   ]
  },
  {
   "cell_type": "markdown",
   "metadata": {},
   "source": [
    "## Linear Regression with Trial as a factor. Within Blocks.\n",
    "### Speed and Accuracy (even/odd participant)\n",
    "Here. Odd vs even index in the data. Similarly stored"
   ]
  },
  {
   "cell_type": "code",
   "execution_count": null,
   "metadata": {},
   "outputs": [],
   "source": [
    "slope = numpy.zeros((2,12))\n",
    "intercept = numpy.zeros((2,12))\n",
    "r_value = numpy.zeros((2, 12)) \n",
    "p_value = numpy.zeros((2, 12)) \n",
    "std_err = numpy.zeros((2, 12))\n",
    "for block in range(12):\n",
    "    for i in range(2):\n",
    "        m, c, r, p, serr = stats.linregress(range(64), numpy.mean(its[i::2], axis = 0)[block])\n",
    "        slope[i, block] = m\n",
    "        intercept[i, block] = c\n",
    "        r_value[i, block] = r\n",
    "        p_value[i, block] = p\n",
    "        std_err[i, block] = serr"
   ]
  },
  {
   "cell_type": "markdown",
   "metadata": {},
   "source": [
    "## Sudden vs Gradual (Participant number: 0, 1 vs 2, 3)\n",
    "In this case array index 0, 3 vs 1, 2\n",
    "\n",
    "Sudden stored in 0th index. Gradual in 1st index of the slope arrays"
   ]
  },
  {
   "cell_type": "code",
   "execution_count": null,
   "metadata": {},
   "outputs": [],
   "source": []
  },
  {
   "cell_type": "code",
   "execution_count": null,
   "metadata": {},
   "outputs": [],
   "source": [
    "slope = numpy.zeros((2,12))\n",
    "intercept = numpy.zeros((2,12))\n",
    "r_value = numpy.zeros((2, 12)) \n",
    "p_value = numpy.zeros((2, 12)) \n",
    "std_err = numpy.zeros((2, 12))\n",
    "for block in range(12):\n",
    "    for i in range(2):\n",
    "        if i == 0:\n",
    "            m, c, r, p, serr = stats.linregress(range(64), numpy.mean(numpy.row_stack((its[0::4], its[3::4])), axis = 0)[block])\n",
    "            slope[i, block] = m\n",
    "            intercept[i, block] = c\n",
    "            r_value[i, block] = r\n",
    "            p_value[i, block] = p\n",
    "            std_err[i, block] = serr\n",
    "        if i == 1:\n",
    "            m, c, r, p, serr = stats.linregress(range(64), numpy.mean(numpy.row_stack((its[1::4], its[2::4])), axis = 0)[block])\n",
    "            slope[i, block] = m\n",
    "            intercept[i, block] = c\n",
    "            r_value[i, block] = r\n",
    "            p_value[i, block] = p\n",
    "            std_err[i, block] = serr"
   ]
  },
  {
   "cell_type": "code",
   "execution_count": null,
   "metadata": {},
   "outputs": [],
   "source": [
    "plt.plot(intercept[0])\n",
    "plt.plot(intercept[1])"
   ]
  },
  {
   "cell_type": "markdown",
   "metadata": {},
   "source": [
    "# Linear Regression with trial as a factor. Across blocks.\n",
    "## Speed vs Accuracy. Even vs Odd Participant\n",
    "Odd vs Even in this code. Stored accordingly. "
   ]
  },
  {
   "cell_type": "code",
   "execution_count": null,
   "metadata": {},
   "outputs": [],
   "source": [
    "slope = numpy.zeros(2)\n",
    "intercept = numpy.zeros(2)\n",
    "r_value = numpy.zeros(2) \n",
    "p_value = numpy.zeros(2) \n",
    "std_err = numpy.zeros(2)\n",
    "for i in range(2):\n",
    "    m, c, r, p, serr = stats.linregress(range(640), numpy.ravel(numpy.mean(its[i::2], axis = 0)[1:11]))\n",
    "    slope[i] = m\n",
    "    intercept[i] = c\n",
    "    r_value[i] = r\n",
    "    p_value[i] = p\n",
    "    std_err[i] = serr"
   ]
  },
  {
   "cell_type": "markdown",
   "metadata": {},
   "source": [
    "## Sudden Vs Gradual (Participant number 0, 1 vs 2, 3)\n",
    "In this case, array index 0, 3 vs 1, 2\n",
    "\n",
    "Sudden stored in 0th, gradual in 1st"
   ]
  },
  {
   "cell_type": "code",
   "execution_count": null,
   "metadata": {},
   "outputs": [],
   "source": [
    "slope = numpy.zeros(2)\n",
    "intercept = numpy.zeros(2)\n",
    "r_value = numpy.zeros(2) \n",
    "p_value = numpy.zeros(2) \n",
    "std_err = numpy.zeros(2)\n",
    "for i in range(2):\n",
    "    if i == 0:\n",
    "        m, c, r, p, serr = stats.linregress(range(640), numpy.ravel(numpy.mean(numpy.row_stack((its[0::4], its[3::4])), axis = 0)[1:11]))\n",
    "        slope[i] = m\n",
    "        intercept[i] = c\n",
    "        r_value[i] = r\n",
    "        p_value[i] = p\n",
    "        std_err[i] = serr\n",
    "    if i == 1:\n",
    "        m, c, r, p, serr = stats.linregress(range(640), numpy.ravel(numpy.mean(numpy.row_stack((its[1::4], its[2::4])), axis = 0)[1:11]))\n",
    "        slope[i] = m\n",
    "        intercept[i] = c\n",
    "        r_value[i] = r\n",
    "        p_value[i] = p\n",
    "        std_err[i] = serr"
   ]
  },
  {
   "cell_type": "markdown",
   "metadata": {},
   "source": [
    "# Same analyses as above, but with errors\n",
    "## Follow the same nomenclature"
   ]
  },
  {
   "cell_type": "code",
   "execution_count": null,
   "metadata": {},
   "outputs": [],
   "source": [
    "p_value[1]"
   ]
  },
  {
   "cell_type": "code",
   "execution_count": null,
   "metadata": {},
   "outputs": [],
   "source": [
    "numpy.shape(error_sum)\n"
   ]
  },
  {
   "cell_type": "code",
   "execution_count": null,
   "metadata": {},
   "outputs": [],
   "source": [
    "len(e[1])"
   ]
  },
  {
   "cell_type": "markdown",
   "metadata": {},
   "source": [
    "# Angular Policies\n",
    "\n",
    "- A Policy would be Desired angle at each sample - Actual angle change from the previous step. \n",
    "\n",
    "- A Policy improved would be a reduction in that difference. This should be across trials/Blocks."
   ]
  },
  {
   "cell_type": "code",
   "execution_count": null,
   "metadata": {},
   "outputs": [],
   "source": [
    "def policy_angles(data, block, trial):\n",
    "    traj = scipy.io.loadmat('data/participants/data{data}/actual_trajectories/trajectories{block}.mat'.format(block=str(block), data=str(data)))\n",
    "\n",
    "    x = traj['x'][0][trial][0]\n",
    "    y = traj['y'][0][trial][0]\n",
    "    x = x[numpy.nonzero(x)]\n",
    "    y = y[numpy.nonzero(y)]\n",
    "    if len(x)<len(y):\n",
    "        y = y[len(y) - len(x):]\n",
    "    if len(y)<len(x):\n",
    "        x = x[len(x) - len(y):]\n",
    "\n",
    "    #print (len(x))\n",
    "    #print (len(y))\n",
    "    del_x = x[5:] - x[:-5]\n",
    "    del_y = y[5:] - y[:-5]\n",
    "    del_r = numpy.sqrt(del_x**2 + del_y**2)\n",
    "    del_theta = numpy.arccos(del_x/del_r)\n",
    "\n",
    "    dx = x[-1] - x[5:]\n",
    "    dy = y[-1] - y[5:]\n",
    "\n",
    "    req_dr = numpy.sqrt(dx.astype(float)**2 + dy.astype(float)**2)\n",
    "    req_dtheta = numpy.arccos(dx/req_dr)\n",
    "    #print (req_dtheta - del_theta)\n",
    "#    plt.plot(numpy.quantile(req_dtheta-del_theta, [0.1, 0.3, 0.5, 0.7, 0.9]))\n",
    "    #Return directions by quadrant of a cartesian plane.\n",
    "    if x[-1] >=0 and y[-1] >=0:\n",
    "        direction = 1\n",
    "    elif x[-1] < 0 and y[-1] >= 0:\n",
    "        direction = 2\n",
    "    elif x[-1] < 0 and y[-1] < 0:\n",
    "        direction = 3\n",
    "    else:\n",
    "        direction = 4\n",
    "    return numpy.nanmean(numpy.abs(req_dtheta - del_theta)), stat.sem(numpy.abs(req_dtheta - del_theta), nan_policy='omit'), numpy.nanmean(del_theta), stat.sem(del_theta), direction\n",
    "    "
   ]
  },
  {
   "cell_type": "code",
   "execution_count": null,
   "metadata": {},
   "outputs": [],
   "source": []
  },
  {
   "cell_type": "code",
   "execution_count": null,
   "metadata": {},
   "outputs": [],
   "source": [
    "mean_policy_angles = numpy.zeros((59, 12, 64))\n",
    "sem_policy_angles = numpy.zeros((59, 12, 64))\n",
    "del_theta = numpy.zeros((59, 12, 64))\n",
    "del_theta_sem = numpy.zeros((59, 12, 64))\n",
    "direction = numpy.zeros((59, 12, 64))\n",
    "for participant in range(1, 59):\n",
    "    if participant == 7:\n",
    "        continue\n",
    "    for block in range(12):\n",
    "        for trial in range(64):\n",
    "            mean_policy_angles[participant, block, trial], sem_policy_angles[participant, block, trial], del_theta[participant, block, trial], del_theta_sem[participant, block, trial], direction[participant, block, trial] = policy_angles(participant, block, trial)"
   ]
  },
  {
   "cell_type": "code",
   "execution_count": null,
   "metadata": {},
   "outputs": [],
   "source": [
    "insert_zeros = numpy.zeros((12, 4, 4))\n",
    "del_theta_1 = numpy.reshape(del_theta[direction==1], (57, 12, 4, 4))\n",
    "del_theta_1 = numpy.insert(del_theta_1, [0, 6], insert_zeros, axis = 0)\n",
    "\n",
    "#numpy.nanmean(numpy.reshape(del_theta, (59, 12, 4, 16))[numpy.reshape(direction, (59, 12, 4, 16)) == 1], axis = 3)\n",
    "block_del_theta_1 = numpy.reshape(numpy.nanmean(numpy.reshape(del_theta_1, (59, 12, 4, 4)), axis = 3), (59, 48))\n",
    "numpy.shape(block_del_theta_1)\n",
    "plt.plot(numpy.nanmean(block_del_theta_1[4::4], axis = 0))"
   ]
  },
  {
   "cell_type": "code",
   "execution_count": null,
   "metadata": {},
   "outputs": [],
   "source": [
    "insert_zeros = numpy.zeros((12, 4, 4))\n",
    "del_theta_2 = numpy.reshape(del_theta[direction==2], (57, 12, 4, 4))\n",
    "del_theta_2 = numpy.insert(del_theta_2, [0, 6], insert_zeros, axis = 0)\n",
    "\n",
    "#numpy.nanmean(numpy.reshape(del_theta, (59, 12, 4, 16))[numpy.reshape(direction, (59, 12, 4, 16)) == 1], axis = 3)\n",
    "block_del_theta_2 = numpy.reshape(numpy.nanmean(numpy.reshape(del_theta_2, (59, 12, 4, 4)), axis = 3), (59, 48))\n",
    "numpy.shape(block_del_theta_2)\n",
    "plt.plot(numpy.nanmean(block_del_theta_2[4::4] - numpy.pi/2, axis = 0))"
   ]
  },
  {
   "cell_type": "code",
   "execution_count": null,
   "metadata": {},
   "outputs": [],
   "source": [
    "insert_zeros = numpy.zeros((12, 4, 4))\n",
    "del_theta_3 = numpy.reshape(del_theta[direction==3], (57, 12, 4, 4))\n",
    "del_theta_3 = numpy.insert(del_theta_3, [0, 6], insert_zeros, axis = 0)\n",
    "\n",
    "#numpy.nanmean(numpy.reshape(del_theta, (59, 12, 4, 16))[numpy.reshape(direction, (59, 12, 4, 16)) == 1], axis = 3)\n",
    "block_del_theta_3 = numpy.reshape(numpy.nanmean(numpy.reshape(del_theta_3, (59, 12, 4, 4)), axis = 3), (59, 48))\n",
    "numpy.shape(block_del_theta_3)\n",
    "plt.plot(numpy.nanmean(block_del_theta_3[4::4], axis = 0))"
   ]
  },
  {
   "cell_type": "code",
   "execution_count": null,
   "metadata": {},
   "outputs": [],
   "source": [
    "insert_zeros = numpy.zeros((12, 4, 4))\n",
    "del_theta_4 = numpy.reshape(del_theta[direction==4], (57, 12, 4, 4))\n",
    "del_theta_4 = numpy.insert(del_theta_4, [0, 6], insert_zeros, axis = 0)\n",
    "\n",
    "#numpy.nanmean(numpy.reshape(del_theta, (59, 12, 4, 16))[numpy.reshape(direction, (59, 12, 4, 16)) == 1], axis = 3)\n",
    "block_del_theta_4 = numpy.reshape(numpy.nanmean(numpy.reshape(del_theta_4, (59, 12, 4, 4)), axis = 3), (59, 48))\n",
    "numpy.shape(block_del_theta_4)\n",
    "plt.plot(numpy.nanmean(block_del_theta_4[4::4], axis = 0))"
   ]
  },
  {
   "cell_type": "markdown",
   "metadata": {},
   "source": [
    "### Policies"
   ]
  },
  {
   "cell_type": "code",
   "execution_count": null,
   "metadata": {},
   "outputs": [],
   "source": [
    "block_del_theta_sudden_speed = numpy.mean(block_del_theta[4::4], axis = 0)\n",
    "bdtss_sem = stat.sem(block_del_theta[4::4], axis = 0)\n",
    "plt.plot(range(48), block_del_theta_sudden_speed, 'k-')\n",
    "plt.fill_between(range(48), block_del_theta_sudden_speed+bdtss_sem, block_del_theta_sudden_speed-bdtss_sem, alpha = 0.5)\n",
    "plt.xlabel('Block')\n",
    "plt.ylabel('Policy')\n",
    "plt.title('Sudden Speed')"
   ]
  },
  {
   "cell_type": "code",
   "execution_count": null,
   "metadata": {},
   "outputs": [],
   "source": [
    "block_del_theta_sudden_accuracy = numpy.mean(block_del_theta[1::4], axis = 0)\n",
    "bdtsa_sem = stat.sem(block_del_theta[1::4], axis = 0)\n",
    "plt.plot(range(48), block_del_theta_sudden_accuracy, 'k-')\n",
    "plt.fill_between(range(48), block_del_theta_sudden_accuracy+bdtsa_sem, block_del_theta_sudden_accuracy-bdtsa_sem, alpha = 0.5)\n",
    "plt.xlabel('Block')\n",
    "plt.ylabel('Policy')\n",
    "plt.title('Sudden Accuracy')"
   ]
  },
  {
   "cell_type": "code",
   "execution_count": null,
   "metadata": {},
   "outputs": [],
   "source": [
    "block_del_theta_gradual_speed = numpy.mean(block_del_theta[2::4], axis = 0)\n",
    "bdtgs_sem = stat.sem(block_del_theta[2::4], axis = 0)\n",
    "plt.plot(range(48), block_del_theta_gradual_speed, 'k-')\n",
    "plt.fill_between(range(48), block_del_theta_gradual_speed+bdtgs_sem, block_del_theta_gradual_speed-bdtgs_sem, alpha = 0.5)\n",
    "plt.xlabel('Block')\n",
    "plt.ylabel('Policy')\n",
    "plt.title('Gradual Speed')"
   ]
  },
  {
   "cell_type": "code",
   "execution_count": null,
   "metadata": {},
   "outputs": [],
   "source": [
    "block_del_theta_gradual_accuracy = numpy.mean(block_del_theta[3::4], axis = 0)\n",
    "bdtga_sem = stat.sem(block_del_theta[3::4], axis = 0)\n",
    "plt.plot(range(48), block_del_theta_gradual_accuracy, 'k-')\n",
    "plt.fill_between(range(48), block_del_theta_gradual_accuracy+bdtga_sem, block_del_theta_gradual_accuracy-bdtga_sem, alpha = 0.5)\n",
    "plt.xlabel('Block')\n",
    "plt.ylabel('Policy')\n",
    "plt.title('Gradual Accuracy')"
   ]
  },
  {
   "cell_type": "code",
   "execution_count": null,
   "metadata": {},
   "outputs": [],
   "source": [
    "block_policy = numpy.nanmean(mean_policy_angles, axis = 2)\n",
    "#Divide blocks in 4 sets of 16 trials each\n",
    "block_policy = numpy.reshape(numpy.nanmean(numpy.reshape(mean_policy_angles, (59, 12, 4, 16)), axis = 3), (59, 48))\n",
    "numpy.shape(block_policy)\n"
   ]
  },
  {
   "cell_type": "code",
   "execution_count": null,
   "metadata": {},
   "outputs": [],
   "source": [
    "insert_zeros = numpy.zeros((12, 4, 4))\n",
    "mean_policy_angles_1 = numpy.reshape(mean_policy_angles[direction==1], (57, 12, 4, 4))\n",
    "mean_policy_angles_1 = numpy.insert(mean_policy_angles_1, [0, 6], insert_zeros, axis = 0)\n",
    "mean_policy_angles_2 = numpy.reshape(mean_policy_angles[direction==2], (57, 12, 4, 4))\n",
    "mean_policy_angles_2 = numpy.insert(mean_policy_angles_2, [0, 6], insert_zeros, axis = 0)\n",
    "mean_policy_angles_3 = numpy.reshape(mean_policy_angles[direction==3], (57, 12, 4, 4))\n",
    "mean_policy_angles_3 = numpy.insert(mean_policy_angles_3, [0, 6], insert_zeros, axis = 0)\n",
    "mean_policy_angles_4 = numpy.reshape(mean_policy_angles[direction==4], (57, 12, 4, 4))\n",
    "mean_policy_angles_4 = numpy.insert(mean_policy_angles_4, [0, 6], insert_zeros, axis = 0)\n",
    "\n",
    "#numpy.nanmean(numpy.reshape(del_theta, (59, 12, 4, 16))[numpy.reshape(direction, (59, 12, 4, 16)) == 1], axis = 3)\n",
    "mean_policy_angles_direction_normalized\n",
    "mean_policy_angles_1 = numpy.reshape(numpy.nanmean(numpy.reshape(mean_policy_angles_1, (59, 12, 4, 4)), axis = 3), (59, 48))\n",
    "numpy.shape(mean_policy_angles_1)\n",
    "plt.plot(numpy.nanmean(mean_policy_angles_1[4::4], axis = 0))"
   ]
  },
  {
   "cell_type": "code",
   "execution_count": null,
   "metadata": {},
   "outputs": [],
   "source": [
    "block_policy_sudden_speed = numpy.mean(block_policy[4::4], axis=0)\n",
    "bpss_sem = stat.sem(block_policy[4::4], axis = 0)\n",
    "plt.plot(range(48), block_policy_sudden_speed, 'k-')\n",
    "plt.fill_between(range(48), block_policy_sudden_speed+bpss_sem, block_policy_sudden_speed-bpss_sem, alpha = 0.5)\n",
    "plt.xlabel('Block')\n",
    "plt.ylabel('Angle Difference')\n",
    "plt.title('Sudden Speed')"
   ]
  },
  {
   "cell_type": "code",
   "execution_count": null,
   "metadata": {},
   "outputs": [],
   "source": [
    "block_policy_sudden_accuracy = numpy.mean(block_policy[1::4], axis = 0)\n",
    "bpsa_sem = stat.sem(block_policy[1::4], axis = 0)\n",
    "plt.plot(block_policy_sudden_accuracy, 'k-')\n",
    "plt.fill_between(range(48), block_policy_sudden_accuracy+bpsa_sem, block_policy_sudden_accuracy-bpsa_sem ,alpha = 0.5)\n",
    "plt.xlabel('Block')\n",
    "plt.ylabel('Angle Difference')\n",
    "plt.title('Sudden Accuracy')"
   ]
  },
  {
   "cell_type": "code",
   "execution_count": null,
   "metadata": {},
   "outputs": [],
   "source": [
    "block_policy_gradual_speed = numpy.mean(block_policy[2::4], axis = 0)\n",
    "bpgs_sem = stat.sem(block_policy[2::4], axis = 0)\n",
    "plt.plot(block_policy_gradual_speed, 'k-')\n",
    "plt.fill_between(range(48), block_policy_gradual_speed+bpgs_sem, block_policy_gradual_speed-bpgs_sem, alpha = 0.5)\n",
    "plt.xlabel('Block')\n",
    "plt.ylabel('Angle Difference')\n",
    "plt.title('Gradual Speed')"
   ]
  },
  {
   "cell_type": "code",
   "execution_count": null,
   "metadata": {},
   "outputs": [],
   "source": [
    "block_policy_gradual_accuracy = numpy.mean(block_policy[3::4], axis = 0)\n",
    "bpga_sem = stat.sem(block_policy[3::4], axis = 0)\n",
    "plt.plot(block_policy_gradual_accuracy, 'k-')\n",
    "plt.fill_between(range(48), block_policy_gradual_accuracy+bpga_sem, block_policy_gradual_accuracy-bpga_sem, alpha = 0.5)\n",
    "plt.xlabel('Block')\n",
    "plt.ylabel('Angle Difference')\n",
    "plt.title('Gradual Accuracy')"
   ]
  },
  {
   "cell_type": "code",
   "execution_count": null,
   "metadata": {},
   "outputs": [],
   "source": [
    "numpy.shape(error_sum)"
   ]
  },
  {
   "cell_type": "code",
   "execution_count": null,
   "metadata": {},
   "outputs": [],
   "source": [
    "block_error = numpy.mean(error_sum, axis = 2)"
   ]
  },
  {
   "cell_type": "code",
   "execution_count": null,
   "metadata": {},
   "outputs": [],
   "source": [
    "block_error_sudden_speed = numpy.mean(block_error[4::4], axis = 0)"
   ]
  },
  {
   "cell_type": "code",
   "execution_count": null,
   "metadata": {},
   "outputs": [],
   "source": [
    "plt.scatter(block_error_sudden_speed[1:-1], block_policy_sudden_speed[1:-1])\n",
    "plt.ylabel(\"Angle Differences\")\n",
    "plt.xlabel(\"Error\")\n",
    "plt.title(\"Sudden Speed\")"
   ]
  },
  {
   "cell_type": "code",
   "execution_count": null,
   "metadata": {},
   "outputs": [],
   "source": [
    "block_error_sudden_accuracy = numpy.mean(block_error[1::4], axis = 0)\n",
    "plt.scatter(block_error_sudden_accuracy[1:-1], block_policy_sudden_accuracy[1:-1])\n",
    "plt.ylabel(\"Angle Differences\")\n",
    "plt.xlabel(\"Error\")\n",
    "plt.title(\"Sudden Accuracy\")"
   ]
  },
  {
   "cell_type": "code",
   "execution_count": null,
   "metadata": {},
   "outputs": [],
   "source": [
    "block_error_gradual_speed = numpy.mean(block_error[2::4], axis = 0)\n",
    "plt.scatter(block_error_gradual_speed[1:-1], block_policy_gradual_speed[1:-1])\n",
    "plt.ylabel(\"Angle Differences\")\n",
    "plt.xlabel(\"Error\")\n",
    "plt.title(\"Gradual Speed\")"
   ]
  },
  {
   "cell_type": "code",
   "execution_count": null,
   "metadata": {},
   "outputs": [],
   "source": [
    "block_error_gradual_accuracy = numpy.mean(block_error[3::4], axis = 0)\n",
    "plt.scatter(block_error_gradual_accuracy[1:-1], block_policy_gradual_accuracy[1:-1])\n",
    "plt.ylabel(\"Angle Differences\")\n",
    "plt.xlabel(\"Error\")\n",
    "plt.title(\"Gradual Accuracy\")"
   ]
  },
  {
   "cell_type": "code",
   "execution_count": null,
   "metadata": {},
   "outputs": [],
   "source": [
    "from mpl_toolkits.mplot3d import Axes3D\n",
    "\n"
   ]
  },
  {
   "cell_type": "code",
   "execution_count": null,
   "metadata": {},
   "outputs": [],
   "source": [
    "fig = plt.figure()\n",
    "ax = plt.axes(projection='3d')\n",
    "ax.plot3D(range(10), block_error_sudden_speed[1:-1], block_policy_sudden_speed[1:-1])\n"
   ]
  },
  {
   "cell_type": "markdown",
   "metadata": {},
   "source": [
    "Value = (1 - alpha)*(1/error) + (alpha)*(1/Total time)"
   ]
  },
  {
   "cell_type": "code",
   "execution_count": null,
   "metadata": {},
   "outputs": [],
   "source": []
  },
  {
   "cell_type": "code",
   "execution_count": null,
   "metadata": {},
   "outputs": [],
   "source": [
    "def get_times():\n",
    "    initial_times = numpy.zeros((59, 12, 64))\n",
    "    movement_times = numpy.zeros((59, 12, 64))\n",
    "    for participant in range(1, 59):\n",
    "        if participant == 7:\n",
    "            continue\n",
    "        else:\n",
    "            for block in range(12):\n",
    "                it, mt = times(participant, block)\n",
    "                initial_times[participant, block] = it\n",
    "                movement_times[participant, block] = mt\n",
    "    return initial_times, movement_times"
   ]
  },
  {
   "cell_type": "code",
   "execution_count": null,
   "metadata": {},
   "outputs": [],
   "source": [
    "initial_times, movement_times = get_times()"
   ]
  },
  {
   "cell_type": "code",
   "execution_count": null,
   "metadata": {},
   "outputs": [],
   "source": []
  },
  {
   "cell_type": "code",
   "execution_count": null,
   "metadata": {},
   "outputs": [],
   "source": [
    "def get_value(alpha, beta):\n",
    "    error_sum[error_sum == 0] = 0.01\n",
    "    initial_times[initial_times == 0] = 0.01\n",
    "    movement_times[movement_times == 0] = 0.01\n",
    "    errors = error_sum/numpy.max(error_sum)\n",
    "    itz = initial_times/numpy.max(initial_times)\n",
    "    mtz = movement_times/numpy.max(movement_times)\n",
    "    value = alpha*(1/errors) + beta*(1/(itz+mtz))\n",
    "    return value, errors, itz+mtz"
   ]
  },
  {
   "cell_type": "code",
   "execution_count": null,
   "metadata": {},
   "outputs": [],
   "source": [
    "value, error_all, time_all = get_value(0.5, 0.05)\n",
    "numpy.shape(error_all)"
   ]
  },
  {
   "cell_type": "code",
   "execution_count": null,
   "metadata": {},
   "outputs": [],
   "source": [
    "block_value = numpy.reshape(numpy.nanmean(numpy.reshape(value, (59, 12, 4, 16)), axis = 3), (59, 48))"
   ]
  },
  {
   "cell_type": "code",
   "execution_count": null,
   "metadata": {},
   "outputs": [],
   "source": [
    "#plt.scatter(error_all[1::4, 2, :], time_all[1::4, 2, :])\n",
    "#plt.scatter(error_all[2::4, 2, :], time_all[2::4, 2, :])\n",
    "#plt.scatter(error_all[3::4, 2, :], time_all[3::4, 2, :])\n",
    "#plt.scatter(error_all[4::4, 2, :], time_all[4::4, 2, :])\n",
    "plt.hist(error_all[2::4, 2, :], bins=10)\n",
    "error_all[2::4, 2, :]"
   ]
  },
  {
   "cell_type": "code",
   "execution_count": null,
   "metadata": {},
   "outputs": [],
   "source": [
    "plt.scatter(error_all[2::4, 11, :], time_all[2::4, 11, :])\n"
   ]
  },
  {
   "cell_type": "code",
   "execution_count": null,
   "metadata": {},
   "outputs": [],
   "source": [
    "plt.scatter(error_all[3::4], time_all[3::4])\n"
   ]
  },
  {
   "cell_type": "code",
   "execution_count": null,
   "metadata": {},
   "outputs": [],
   "source": [
    "plt.scatter(error_all[4::4], time_all[4::4])\n"
   ]
  },
  {
   "cell_type": "code",
   "execution_count": null,
   "metadata": {
    "scrolled": true
   },
   "outputs": [],
   "source": [
    "plt.plot(numpy.mean(block_value[4::4], axis = 0))"
   ]
  },
  {
   "cell_type": "code",
   "execution_count": null,
   "metadata": {},
   "outputs": [],
   "source": [
    "plt.plot(numpy.mean(numpy.nanmean(del_theta[3::4], axis = 0), axis = 1))"
   ]
  },
  {
   "cell_type": "code",
   "execution_count": null,
   "metadata": {},
   "outputs": [],
   "source": [
    "numpy.shape(del_theta)"
   ]
  }
 ],
 "metadata": {
  "kernelspec": {
   "display_name": "Python 3",
   "language": "python",
   "name": "python3"
  },
  "language_info": {
   "codemirror_mode": {
    "name": "ipython",
    "version": 3
   },
   "file_extension": ".py",
   "mimetype": "text/x-python",
   "name": "python",
   "nbconvert_exporter": "python",
   "pygments_lexer": "ipython3",
   "version": "3.7.0"
  }
 },
 "nbformat": 4,
 "nbformat_minor": 2
}
