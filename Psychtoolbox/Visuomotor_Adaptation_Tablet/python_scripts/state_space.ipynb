{
 "cells": [
  {
   "cell_type": "code",
   "execution_count": 1334,
   "metadata": {},
   "outputs": [],
   "source": [
    "#%matplotlib notebook\n",
    "import numpy as np\n",
    "import matplotlib.pyplot as plt\n",
    "import scipy.io\n",
    "from ipywidgets import interact, interactive, fixed, interact_manual\n",
    "import ipywidgets as widgets\n",
    "import scipy.stats as stat\n",
    "from sklearn.linear_model import LinearRegression\n",
    "import statsmodels.api as sm\n",
    "import statsmodels.formula.api as smf\n",
    "from multiprocessing import Pool\n",
    "from scipy import stats\n",
    "import math\n",
    "from scipy.optimize import curve_fit\n",
    "from mpl_toolkits import mplot3d\n",
    "from scipy.ndimage import gaussian_filter1d\n",
    "import statsmodels.api as sm\n",
    "from statsmodels.formula.api import ols"
   ]
  },
  {
   "cell_type": "code",
   "execution_count": null,
   "metadata": {},
   "outputs": [],
   "source": []
  },
  {
   "cell_type": "markdown",
   "metadata": {},
   "source": [
    "## Base Model\n",
    "$e_n^{target} = (r_n - r_n^{est})$\n",
    "\n",
    "$r_{n+1}^{est} = Ar_n^{est} + Be_n^{target}$"
   ]
  },
  {
   "cell_type": "code",
   "execution_count": 1319,
   "metadata": {},
   "outputs": [],
   "source": [
    "num_trials = 640\n",
    "def base_model_sudden(num_trials, A, B):\n",
    " #   A = np.exp(A)/(1 + np.exp(A))\n",
    " #   B = np.exp(B)/(1 + np.exp(B))\n",
    "    \n",
    "    errors = np.zeros((num_trials))\n",
    "    rotation = 90\n",
    "    rotation_est = 0\n",
    "    for trial in range(num_trials):\n",
    "        errors[trial] = rotation - rotation_est\n",
    "        #print(errors[trial])\n",
    "        rotation_est = A*rotation_est + B*errors[trial]\n",
    "        #print (rotation_est)\n",
    "    return errors\n",
    "\n",
    "def base_model_gradual(num_trials, A, B):\n",
    "#    A = np.exp(A)/(1 + np.exp(A))\n",
    "#    B = np.exp(B)/(1 + np.exp(B))\n",
    "    \n",
    "    errors = np.zeros((num_trials))\n",
    "    rotation_est = 0\n",
    "    rotation = 0\n",
    "    for trial in range(num_trials):\n",
    "        if trial%64 == 0:\n",
    "            rotation = rotation + 10\n",
    "        if rotation > 90:\n",
    "            rotation = 90\n",
    "        errors[trial] = rotation - rotation_est\n",
    "        #print(errors[trial])\n",
    "        rotation_est = A*rotation_est + B*errors[trial]\n",
    "        #print (rotation_est)\n",
    "    return errors"
   ]
  },
  {
   "cell_type": "code",
   "execution_count": 1332,
   "metadata": {},
   "outputs": [],
   "source": [
    "def base_model_transfer(num_trials, A, B, learned_rotation):\n",
    " #   A = np.exp(A)/(1 + np.exp(A))\n",
    " #   B = np.exp(B)/(1 + np.exp(B))\n",
    "    \n",
    "    errors = np.zeros((num_trials))\n",
    "    rotation = 90 - learned_rotation\n",
    "    rotation_est = 0\n",
    "    for trial in range(num_trials):\n",
    "        errors[trial] = rotation - rotation_est\n",
    "        #print(errors[trial])\n",
    "        rotation_est = A*rotation_est + B*errors[trial]\n",
    "        #print (rotation_est)\n",
    "    return errors\n"
   ]
  },
  {
   "cell_type": "markdown",
   "metadata": {},
   "source": [
    "# Data\n",
    "## Curvatures"
   ]
  },
  {
   "cell_type": "code",
   "execution_count": 966,
   "metadata": {},
   "outputs": [],
   "source": [
    "def calc_angle(current_point, next_point, final_point):\n",
    "    #vec1 = next_point - current_point\n",
    "    vec1 = np.subtract(next_point, current_point)\n",
    "#    vec2 = final_point - current_point\n",
    "    vec2 = np.subtract(final_point, current_point)\n",
    "    vec1 = vec1.astype('float64')\n",
    "    vec2 = vec2.astype('float64')\n",
    "    cos_theta = np.dot(vec1, vec2)/(np.linalg.norm(vec1) * np.linalg.norm(vec2))\n",
    "    theta = np.degrees(np.arccos(cos_theta))\n",
    "    return theta\n",
    "\n",
    "def calc_curvature(data, block, trial, percentage_trajectory):\n",
    "    traj = scipy.io.loadmat('data/data{data}/actual_trajectories/trajectories{block}.mat'.format(block=str(block), data=str(data)))\n",
    "    trajx, trajy = traj['x'][0][trial][0], traj['y'][0][trial][0]\n",
    "    targetx, targety = trajx[-1], trajy[-1]\n",
    "    partial_trajx, partial_trajy = get_partial_traj(data, block, trial, percentage_trajectory)\n",
    "    #print (trajx)\n",
    "    #print (trajy)\n",
    "    angles = list([0])\n",
    "    for i in range(len(partial_trajx[:-1])):\n",
    "        #print (trajx[i], trajy[i])\n",
    "        angles.append(calc_angle(np.array([partial_trajx[i], partial_trajy[i]]), np.array([partial_trajx[i+1], partial_trajy[i+1]]), np.array([trajx[-1], trajy[-1]])))\n",
    "    return np.nanmedian(angles)\n",
    "\n",
    "def get_traj(data, block, trial):\n",
    "    traj = scipy.io.loadmat('data/data{data}/actual_trajectories/trajectories{block}.mat'.format(block=str(block), data=str(data)))\n",
    "    x_traj = traj['x'][0][trial][0]\n",
    "    y_traj = traj['y'][0][trial][0]\n",
    "    return x_traj, y_traj\n",
    "\n",
    "def get_partial_traj(data, block, trial, percentage_trajectory):\n",
    "    traj = get_traj(data, block, trial)\n",
    "    dist_cutoff = percentage_trajectory*np.sqrt(traj[0][-1]**2 + traj[0][-1]**2, dtype = float)\n",
    "    for i in range(len(traj[0])):\n",
    "        dist_from_start = np.sqrt(traj[0][i]**2 + traj[1][i]**2, dtype = float)\n",
    "        if dist_from_start > dist_cutoff:\n",
    "            break\n",
    "    partial_trajx = traj[0]#[:i]\n",
    "    partial_trajy = traj[1]#[:i]\n",
    "        \n",
    "            \n",
    "    return partial_trajx, partial_trajy\n",
    "\n"
   ]
  },
  {
   "cell_type": "code",
   "execution_count": null,
   "metadata": {},
   "outputs": [],
   "source": []
  },
  {
   "cell_type": "code",
   "execution_count": 946,
   "metadata": {},
   "outputs": [
    {
     "name": "stderr",
     "output_type": "stream",
     "text": [
      "C:\\Users\\Tejas\\Anaconda3\\lib\\site-packages\\ipykernel_launcher.py:9: RuntimeWarning: invalid value encountered in arccos\n",
      "  if __name__ == '__main__':\n",
      "C:\\Users\\Tejas\\Anaconda3\\lib\\site-packages\\ipykernel_launcher.py:8: RuntimeWarning: invalid value encountered in double_scalars\n",
      "  \n"
     ]
    },
    {
     "name": "stdout",
     "output_type": "stream",
     "text": [
      "0\n",
      "10\n",
      "20\n",
      "30\n",
      "40\n",
      "50\n"
     ]
    }
   ],
   "source": [
    "curvatures = np.zeros((60, 12, 64))\n",
    "for data in range(60):\n",
    "    for block in range(12):\n",
    "        for trial in range(64):\n",
    "            curvatures[data][block][trial] = calc_curvature(data+1000, block, trial, 1)\n",
    "    if data%10 == 0:\n",
    "        print (data)"
   ]
  },
  {
   "cell_type": "code",
   "execution_count": 947,
   "metadata": {},
   "outputs": [
    {
     "data": {
      "text/plain": [
       "0.8012873301080647"
      ]
     },
     "execution_count": 947,
     "metadata": {},
     "output_type": "execute_result"
    }
   ],
   "source": [
    "calc_curvature(1002, 0, 4, 1)"
   ]
  },
  {
   "cell_type": "code",
   "execution_count": 930,
   "metadata": {},
   "outputs": [
    {
     "data": {
      "text/plain": [
       "7955"
      ]
     },
     "execution_count": 930,
     "metadata": {},
     "output_type": "execute_result"
    }
   ],
   "source": [
    "#np.dot([25, 20], [187, 164])/(np.linalg.norm([25, 20]) * np.linalg.norm([187, 164]))\n",
    "np.dot(np.array([25, 20]), np.array([187, 164]))\n"
   ]
  },
  {
   "cell_type": "code",
   "execution_count": 923,
   "metadata": {},
   "outputs": [
    {
     "data": {
      "text/plain": [
       "7955"
      ]
     },
     "execution_count": 923,
     "metadata": {},
     "output_type": "execute_result"
    }
   ],
   "source": [
    "a = [25, 20]\n",
    "b = [187, 164]\n",
    "np.dot(a, b)"
   ]
  },
  {
   "cell_type": "code",
   "execution_count": 1256,
   "metadata": {},
   "outputs": [],
   "source": [
    "def residuals_base_sudden(params, num_trials, data_errors):\n",
    "#   model_errors = base_model_sudden(num_trials, params[0], params[1])\n",
    "    model_errors = base_model_sudden(num_trials, params[0], params[1])\n",
    "    residual_error = np.sum(np.square(model_errors - data_errors))\n",
    "    #if params[0] > params[2]:\n",
    "    #    residual_error = residual_error + 1000000\n",
    "    #if params[1] < params[3]:\n",
    "    #    residual_error = residual_error + 1000000\n",
    "    if params[0] < 0 or params[1] < 0:# or params[2] < 0 or params[3] < 0:\n",
    "        residual_error = residual_error + 1000000\n",
    "    return residual_error\n",
    "\n",
    "def residuals_base_gradual(params, num_trials, data_errors):\n",
    "#   model_errors = base_model_sudden(num_trials, params[0], params[1])\n",
    "    model_errors = base_model_gradual(num_trials, params[0], params[1])\n",
    "    residual_error = np.sum(np.square(model_errors - data_errors))\n",
    "    #if params[0] > params[2]:\n",
    "    #    residual_error = residual_error + 1000000\n",
    "    #if params[1] < params[3]:\n",
    "    #    residual_error = residual_error + 1000000\n",
    "    if params[0] < 0 or params[1] < 0:# or params[2] < 0 or params[3] < 0:\n",
    "        residual_error = residual_error + 1000000\n",
    "    return residual_error"
   ]
  },
  {
   "cell_type": "code",
   "execution_count": 1257,
   "metadata": {},
   "outputs": [],
   "source": [
    "#Divide the whole thing into 16 trial blocks and fit them\n",
    "def run_fits(curvatures, num_trials, part_size, first):\n",
    "    num_parts = int((num_trials-first)/part_size)\n",
    "    fit_A = np.zeros((60, num_parts))\n",
    "    fit_B = np.zeros((60, num_parts))\n",
    "    fit_V = np.full((60, num_parts), np.inf)\n",
    "    fit_success = np.zeros((60, num_parts))\n",
    "    fit_num = 0\n",
    "    #starting_points = np.array([[0.5, 0.6], [0.4, 0.7], [0.3, 0.8], [0.2, 0.9], [0.1, 0.99], [0.9, 0.2], [0.99, 0.1], [0.8, 0.3], [0.7, 0.4], [0.6, 0.5]])\n",
    "    \n",
    "    #A = np.log(params[0]/(1-params[0]))\n",
    "    #B = np.log(params[1]/(1-params[1]))\n",
    "\n",
    "#    starting_points = np.array([[np.log(0.999/(1 - 0.999)), np.log(0.002/(1 - 0.002))]])\n",
    "    starting_points = np.array([[0.999, 0.002]])\n",
    "\n",
    "    for curr_trial in range(first, num_trials, part_size):\n",
    "        for participant in range(60):\n",
    "            for initial_point in starting_points:\n",
    "                if participant%4 == 0 or participant%4 == 1:\n",
    "                #print (np.nan_to_num(np.ravel(curvatures[participant])[first:first+part_size], nan = np.nanmedian(np.ravel(curvatures[participant])[first:first+part_size])))\n",
    "                #popt, pcov = curve_fit(base_model_sudden, part_size, np.nan_to_num(np.ravel(curvatures[participant])[curr_trial:curr_trial+part_size], nan = np.nanmedian(np.ravel(curvatures[participant])[curr_trial:curr_trial+part_size])), bounds=((0, 0), (1, np.inf)))\n",
    "                    #fits = scipy.optimize.minimize(residuals_base_sudden, x0 = [initial_point[0], initial_point[1]], args = (part_size, np.nan_to_num(np.ravel(curvatures[participant])[curr_trial:curr_trial+part_size], nan = np.nanmedian(np.ravel(curvatures[participant])[curr_trial:curr_trial+part_size]))), method = 'Nelder-Mead')\n",
    "                    fits = scipy.optimize.basinhopping(residuals_base_sudden, x0 = [initial_point[0], initial_point[1]], minimizer_kwargs={'args': (part_size, np.nan_to_num(np.ravel(curvatures[participant])[curr_trial:curr_trial+part_size], nan = np.nanmedian(np.ravel(curvatures[participant])[curr_trial:curr_trial+part_size]))), 'method': 'Nelder-Mead'}, stepsize=0.05)\n",
    "                    \n",
    "                    if fits.fun < fit_V[participant][fit_num]:\n",
    "                        fit_A[participant][fit_num] = fits.x[0]\n",
    "                        fit_B[participant][fit_num] = fits.x[1]\n",
    "                        fit_V[participant][fit_num] = fits.fun\n",
    "                        #fit_success[participant][fit_num] = fits.success   \n",
    "                    print (fits.fun)\n",
    "                else:\n",
    "                    #popt, pcov = curve_fit(base_model_gradual, part_size, np.nan_to_num(np.ravel(curvatures[participant])[curr_trial:curr_trial+part_size], nan = np.nanmedian(np.ravel(curvatures[participant])[curr_trial:curr_trial+part_size])), bounds=((0, 0), (1, np.inf)))\n",
    "                    #fits = scipy.optimize.minimize(residuals_base_gradual, x0 = [initial_point[0], initial_point[1]], args = (part_size, np.nan_to_num(np.ravel(curvatures[participant])[curr_trial:curr_trial+part_size], nan = np.nanmedian(np.ravel(curvatures[participant])[curr_trial:curr_trial+part_size]))), method = 'Nelder-Mead')\n",
    "                    fits = scipy.optimize.basinhopping(residuals_base_gradual, x0 = [initial_point[0], initial_point[1]], minimizer_kwargs={'args': (part_size, np.nan_to_num(np.ravel(curvatures[participant])[curr_trial:curr_trial+part_size], nan = np.nanmedian(np.ravel(curvatures[participant])[curr_trial:curr_trial+part_size]))), 'method': 'Nelder-Mead'})\n",
    "                    \n",
    "                    if fits.fun < fit_V[participant][fit_num]:\n",
    "                        fit_A[participant][fit_num] = fits.x[0]\n",
    "                        fit_B[participant][fit_num] = fits.x[1]\n",
    "                        fit_V[participant][fit_num] = fits.fun\n",
    "                        #fit_success[participant][fit_num] = fits.success\n",
    "                    print (fits.fun)\n",
    "\n",
    "        fit_num = fit_num + 1\n",
    "    return fit_A, fit_B, fit_V, fit_success\n",
    "        "
   ]
  },
  {
   "cell_type": "code",
   "execution_count": 1258,
   "metadata": {},
   "outputs": [
    {
     "data": {
      "text/plain": [
       "(60, 12, 64)"
      ]
     },
     "execution_count": 1258,
     "metadata": {},
     "output_type": "execute_result"
    }
   ],
   "source": [
    "curvatures_smooth = gaussian_filter1d(curvatures, 2)\n",
    "np.shape(curvatures_smooth)"
   ]
  },
  {
   "cell_type": "code",
   "execution_count": 1259,
   "metadata": {},
   "outputs": [
    {
     "name": "stdout",
     "output_type": "stream",
     "text": [
      "64021.15323502319\n"
     ]
    },
    {
     "name": "stderr",
     "output_type": "stream",
     "text": [
      "C:\\Users\\Tejas\\Anaconda3\\lib\\site-packages\\ipykernel_launcher.py:4: RuntimeWarning: overflow encountered in square\n",
      "  after removing the cwd from sys.path.\n"
     ]
    },
    {
     "name": "stdout",
     "output_type": "stream",
     "text": [
      "51997.75031553391\n"
     ]
    },
    {
     "name": "stderr",
     "output_type": "stream",
     "text": [
      "C:\\Users\\Tejas\\Anaconda3\\lib\\site-packages\\ipykernel_launcher.py:16: RuntimeWarning: overflow encountered in square\n",
      "  app.launch_new_instance()\n",
      "C:\\Users\\Tejas\\Anaconda3\\lib\\site-packages\\scipy\\optimize\\optimize.py:597: RuntimeWarning: invalid value encountered in subtract\n",
      "  numpy.max(numpy.abs(fsim[0] - fsim[1:])) <= fatol):\n",
      "C:\\Users\\Tejas\\Anaconda3\\lib\\site-packages\\numpy\\core\\fromnumeric.py:90: RuntimeWarning: overflow encountered in reduce\n",
      "  return ufunc.reduce(obj, axis, dtype, out, **passkwargs)\n"
     ]
    },
    {
     "name": "stdout",
     "output_type": "stream",
     "text": [
      "28738.816326181844\n",
      "16167.86930782385\n",
      "24003.449842575654\n",
      "17546.476709674094\n",
      "6562.357255104592\n",
      "15347.3650798208\n",
      "50012.0973030997\n",
      "69704.79927831984\n",
      "28728.11770247329\n",
      "8726.287450731004\n",
      "62759.27351823197\n",
      "56423.029360843626\n",
      "37086.466615873185\n",
      "4122.174340042394\n",
      "45776.11228782132\n",
      "6747.387312624588\n",
      "24226.08556894921\n",
      "11411.227359697401\n",
      "66864.23336307351\n",
      "38670.09594907944\n",
      "75264.21145040574\n",
      "23612.409280809017\n",
      "66856.68011659861\n",
      "37506.1959980829\n",
      "40681.659305479145\n",
      "30271.399734026425\n",
      "202983.8096181064\n",
      "55295.73421353887\n",
      "29756.52551375515\n",
      "8217.157454625536\n",
      "31842.95681975549\n",
      "44052.13722435634\n",
      "13874.113993002295\n",
      "6656.069265318798\n",
      "195456.1213858142\n",
      "135178.5122462227\n",
      "42286.80352280855\n",
      "5593.903356232555\n",
      "37759.01632634019\n",
      "31046.230518491655\n",
      "90021.50481608059\n",
      "7039.654857324252\n",
      "33807.58961211209\n",
      "92825.24181945469\n",
      "24972.361975651926\n",
      "12772.395774356237\n",
      "123799.11365151877\n",
      "65715.7211495172\n",
      "31565.905688142022\n",
      "16584.584166220426\n",
      "91546.36674988171\n",
      "61395.01247671658\n",
      "50935.89634872334\n",
      "15151.618988040082\n",
      "46086.72553549151\n",
      "14414.407999480793\n",
      "23392.081963804405\n",
      "10343.828368013197\n"
     ]
    }
   ],
   "source": [
    "fit_A, fit_B, fit_V, fit_success = run_fits(curvatures_smooth, 704, 640, 64)"
   ]
  },
  {
   "cell_type": "code",
   "execution_count": null,
   "metadata": {},
   "outputs": [],
   "source": []
  },
  {
   "cell_type": "code",
   "execution_count": null,
   "metadata": {},
   "outputs": [],
   "source": []
  },
  {
   "cell_type": "code",
   "execution_count": null,
   "metadata": {},
   "outputs": [],
   "source": []
  },
  {
   "cell_type": "code",
   "execution_count": 1017,
   "metadata": {},
   "outputs": [],
   "source": [
    "#Divide the whole thing into 16 trial blocks and fit them\n",
    "def run_fits_transfer(curvatures, num_trials, part_size, first):\n",
    "    num_parts = int((num_trials-first)/part_size)\n",
    "    fit_A = np.zeros((60, num_parts))\n",
    "    fit_B = np.zeros((60, num_parts))\n",
    "    fit_V = np.full((60, num_parts), np.inf)\n",
    "    fit_success = np.zeros((60, num_parts))\n",
    "    fit_num = 0\n",
    "    #starting_points = np.array([[0.5, 0.6], [0.4, 0.7], [0.3, 0.8], [0.2, 0.9], [0.1, 0.99], [0.9, 0.2], [0.99, 0.1], [0.8, 0.3], [0.7, 0.4], [0.6, 0.5]])\n",
    "    \n",
    "    #A = np.log(params[0]/(1-params[0]))\n",
    "    #B = np.log(params[1]/(1-params[1]))\n",
    "\n",
    "#    starting_points = np.array([[np.log(0.999/(1 - 0.999)), np.log(0.002/(1 - 0.002))]])\n",
    "    starting_points = np.array([[0.999, 0.002]])\n",
    "\n",
    "    for curr_trial in range(first, num_trials, part_size):\n",
    "        for participant in range(60):\n",
    "            for initial_point in starting_points:\n",
    "                fits = scipy.optimize.basinhopping(residuals_base_sudden, x0 = [initial_point[0], initial_point[1]], minimizer_kwargs={'args': (part_size, np.nan_to_num(np.ravel(curvatures[participant])[curr_trial:curr_trial+part_size], nan = np.nanmedian(np.ravel(curvatures[participant])[curr_trial:curr_trial+part_size]))), 'method': 'Nelder-Mead'}, stepsize=0.05)\n",
    "                if fits.fun < fit_V[participant][fit_num]:\n",
    "                    fit_A[participant][fit_num] = fits.x[0]\n",
    "                    fit_B[participant][fit_num] = fits.x[1]\n",
    "                    fit_V[participant][fit_num] = fits.fun\n",
    "                    #fit_success[participant][fit_num] = fits.success   \n",
    "                print (fits.fun)\n",
    "                #popt, pcov = curve_fit(base_model_gradual, part_size, np.nan_to_num(np.ravel(curvatures[participant])[curr_trial:curr_trial+part_size], nan = np.nanmedian(np.ravel(curvatures[participant])[curr_trial:curr_trial+part_size])), bounds=((0, 0), (1, np.inf)))\n",
    "                #fits = scipy.optimize.minimize(residuals_base_gradual, x0 = [initial_point[0], initial_point[1]], args = (part_size, np.nan_to_num(np.ravel(curvatures[participant])[curr_trial:curr_trial+part_size], nan = np.nanmedian(np.ravel(curvatures[participant])[curr_trial:curr_trial+part_size]))), method = 'Nelder-Mead')\n",
    "#                fits = scipy.optimize.basinhopping(residuals_base_gradual, x0 = [initial_point[0], initial_point[1]], minimizer_kwargs={'args': (part_size, np.nan_to_num(np.ravel(curvatures[participant])[curr_trial:curr_trial+part_size], nan = np.nanmedian(np.ravel(curvatures[participant])[curr_trial:curr_trial+part_size]))), 'method': 'Nelder-Mead'})#\n",
    "\n",
    "#                if fits.fun < fit_V[participant][fit_num]:\n",
    "#                    fit_A[participant][fit_num] = fits.x[0]\n",
    "#                    fit_B[participant][fit_num] = fits.x[1]\n",
    "#                    fit_V[participant][fit_num] = fits.fun\n",
    "                    #fit_success[participant][fit_num] = fits.success\n",
    "#                print (fits.fun)\n",
    "\n",
    "        fit_num = fit_num + 1\n",
    "    return fit_A, fit_B, fit_V, fit_success\n",
    "        "
   ]
  },
  {
   "cell_type": "code",
   "execution_count": 1018,
   "metadata": {},
   "outputs": [
    {
     "name": "stdout",
     "output_type": "stream",
     "text": [
      "13184.50494170786\n",
      "3175.7946098043763\n",
      "2387.645397586164\n",
      "3737.5102303689328\n",
      "5285.738951420718\n",
      "7010.583668757056\n",
      "3016.7324679885596\n",
      "3388.7398566681304\n",
      "8783.534118105921\n",
      "6663.158250118232\n",
      "4068.006833879782\n",
      "6865.4054218573665\n",
      "3939.189820103373\n",
      "6496.691071296313\n",
      "4184.9714842352905\n",
      "5544.016651834145\n",
      "3773.8805105546076\n",
      "5161.167109783915\n",
      "1412.0115023046096\n",
      "6311.771897878286\n",
      "5455.980846087044\n",
      "5641.739769310724\n",
      "2924.1423190983705\n",
      "5349.190275413527\n",
      "8287.937683837063\n",
      "4425.204246222113\n",
      "4535.9152707006415\n",
      "4351.841376012335\n",
      "1863.1394014102552\n",
      "4201.155683817464\n",
      "3987.0453469840922\n",
      "2703.591637916433\n",
      "4632.961295537151\n",
      "5021.431113838866\n",
      "3158.7371102964253\n",
      "6144.643357873842\n",
      "1660.6335200935305\n",
      "5507.732198703753\n",
      "8276.045229156605\n",
      "4444.1462425466425\n",
      "5714.53555470913\n",
      "7155.632435108976\n",
      "6157.9031794719\n",
      "6559.890607542531\n",
      "7637.2617373924095\n",
      "5709.144023170416\n",
      "5591.7958209235\n",
      "5098.501679871737\n",
      "6500.624152940096\n",
      "1101.9115480677035\n",
      "3141.888085827074\n",
      "4621.436158631901\n",
      "8466.983325599653\n",
      "2420.5349073643806\n",
      "5582.023604250846\n",
      "6039.300590943592\n",
      "5331.772646739704\n",
      "7477.168689993178\n",
      "3726.8125597166363\n",
      "6465.0788893576955\n"
     ]
    }
   ],
   "source": [
    "fit_transfer_A, fit_transfer_B, fit_transfer_V, fit_transfer_success = run_fits_transfer(curvatures_smooth, 768, 64, 704)"
   ]
  },
  {
   "cell_type": "code",
   "execution_count": null,
   "metadata": {},
   "outputs": [],
   "source": []
  },
  {
   "cell_type": "code",
   "execution_count": null,
   "metadata": {},
   "outputs": [],
   "source": []
  },
  {
   "cell_type": "code",
   "execution_count": 1362,
   "metadata": {},
   "outputs": [],
   "source": [
    "def plot_fits(fit_A, fit_B, x_label, y_label):\n",
    "    x = np.array([np.nanmean(fit_A[0::4, :], axis = 0), np.nanmean(fit_A[1::4, :], axis = 0), np.nanmean(fit_A[2::4, :], axis = 0), np.nanmean(fit_A[3::4, :], axis = 0)])\n",
    "    y = np.array([np.nanmean(fit_B[0::4, :], axis = 0), np.nanmean(fit_B[1::4, :], axis = 0), np.nanmean(fit_B[2::4, :], axis = 0), np.nanmean(fit_B[3::4, :], axis = 0)])\n",
    "    x_err = np.array([stat.sem(fit_A[0::4, :], axis = 0), stat.sem(fit_A[1::4, :], axis = 0), stat.sem(fit_A[2::4, :], axis = 0), stat.sem(fit_A[3::4, :], axis = 0)])\n",
    "    y_err = np.array([stat.sem(fit_B[0::4, :], axis = 0), stat.sem(fit_B[1::4, :], axis = 0), stat.sem(fit_B[2::4, :], axis = 0), stat.sem(fit_B[3::4, :], axis = 0)])\n",
    "    #x_err = np.array([stat.tstd(fit_A[0::4, :], axis = 0), stat.tstd(fit_A[1::4, :], axis = 0), stat.tstd(fit_A[2::4, :], axis = 0), stat.tstd(fit_A[3::4, :], axis = 0)])\n",
    "    #y_err = np.array([stat.tstd(fit_B[0::4, :], axis = 0), stat.tstd(fit_B[1::4, :], axis = 0), stat.tstd(fit_B[2::4, :], axis = 0), stat.tstd(fit_B[3::4, :], axis = 0)])\n",
    "\n",
    "    #x_conf_interval = np.array(stat.norm.interval(0.83, loc = x, scale = x_err))\n",
    "    #y_conf_interval = np.array(stat.norm.interval(0.83, loc = y, scale = y_err))\n",
    "    x_CI = x - np.array(stat.norm.interval(0.95, loc = x, scale = x_err))[0, :], np.array(stat.norm.interval(0.95, loc = x, scale = x_err))[1, :] - x\n",
    "    y_CI = y - np.array(stat.norm.interval(0.95, loc = y, scale = y_err))[0, :], np.array(stat.norm.interval(0.95, loc = y, scale = y_err))[1, :] - y\n",
    "\n",
    "\n",
    "    #print (x_conf_interval[:, 0])\n",
    "    #plt.errorbar(x, y, xerr = x_err, yerr = y_err, linestyle = 'None', capsize = 3)\n",
    "    plot0 = plt.errorbar(x[0], y[0], xerr = [x_CI[0][0], x_CI[1][0]], yerr = [y_CI[0][0], y_CI[1][0]], capsize = 3)\n",
    "    plot1 = plt.errorbar(x[1], y[1], xerr = [x_CI[0][1], x_CI[1][1]], yerr = [y_CI[0][1], y_CI[1][1]], capsize = 3)\n",
    "    plot2 = plt.errorbar(x[2], y[2], xerr = [x_CI[0][2], x_CI[1][2]], yerr = [y_CI[0][2], y_CI[1][2]], capsize = 3)\n",
    "    plot3 = plt.errorbar(x[3], y[3], xerr = [x_CI[0][3], x_CI[1][3]], yerr = [y_CI[0][3], y_CI[1][3]], capsize = 3)\n",
    "\n",
    "    #plot0 = plt.scatter(fit_A[0::4], fit_B[0::4])\n",
    "    #plot1 = plt.scatter(fit_A[1::4], fit_B[1::4])\n",
    "    #plot2 = plt.scatter(fit_A[2::4], fit_B[2::4])\n",
    "    #plot3 = plt.scatter(fit_A[3::4], fit_B[3::4])\n",
    "\n",
    "    plt.legend((plot0, plot1, plot2, plot3), ('Sudden Speed', 'Sudden Accuracy', 'Gradual Speed', 'Gradual Accuracy'))\n",
    "    plt.xlabel(x_label)\n",
    "    plt.ylabel(y_label)"
   ]
  },
  {
   "cell_type": "code",
   "execution_count": 1363,
   "metadata": {},
   "outputs": [
    {
     "data": {
      "image/png": "[encoded data removed]",
      "text/plain": [
       "<Figure size 432x288 with 1 Axes>"
      ]
     },
     "metadata": {
      "needs_background": "light"
     },
     "output_type": "display_data"
    }
   ],
   "source": [
    "plot_fits(Af, Bf, \"A Fast\", \"B Fast\")"
   ]
  },
  {
   "cell_type": "code",
   "execution_count": 1364,
   "metadata": {},
   "outputs": [
    {
     "data": {
      "image/png": "[encoded data removed]",
      "text/plain": [
       "<Figure size 432x288 with 1 Axes>"
      ]
     },
     "metadata": {
      "needs_background": "light"
     },
     "output_type": "display_data"
    }
   ],
   "source": [
    "plot_fits(As, Bs, \"A slow\", \"B slow\")"
   ]
  },
  {
   "cell_type": "code",
   "execution_count": 1019,
   "metadata": {},
   "outputs": [
    {
     "data": {
      "image/png": "[encoded data removed]",
      "text/plain": [
       "<Figure size 432x288 with 1 Axes>"
      ]
     },
     "metadata": {
      "needs_background": "light"
     },
     "output_type": "display_data"
    }
   ],
   "source": [
    "plot_fits(fit_transfer_A, fit_transfer_B)"
   ]
  },
  {
   "cell_type": "code",
   "execution_count": 1376,
   "metadata": {},
   "outputs": [],
   "source": [
    "def plot_collapsed_across_rotation_fits(fit_A, fit_B, x_label, y_label):\n",
    "    x = np.array([np.mean(np.concatenate((fit_A[0::4], fit_A[1::4])), axis = 0),np.mean(np.concatenate((fit_A[2::4], fit_A[3::4])), axis = 0)])\n",
    "    y = np.array([np.mean(np.concatenate((fit_B[0::4], fit_B[1::4])), axis = 0),np.mean(np.concatenate((fit_B[2::4], fit_B[3::4])), axis = 0)])\n",
    "    x_err = np.array([stat.sem(np.concatenate((fit_A[0::4], fit_A[1::4])), axis = 0),stat.sem(np.concatenate((fit_A[2::4], fit_A[3::4])), axis = 0)])\n",
    "    y_err = np.array([stat.sem(np.concatenate((fit_B[0::4], fit_B[1::4])), axis = 0), stat.sem(np.concatenate((fit_B[2::4], fit_B[3::4])), axis = 0)])\n",
    "    #x_err = np.array([stat.tstd(np.concatenate((fit_A[0::4], fit_A[1::4])), axis = 0),stat.tstd(np.concatenate((fit_A[2::4], fit_A[3::4])), axis = 0)])\n",
    "    #y_err = np.array([stat.tstd(np.concatenate((fit_B[0::4], fit_B[1::4])), axis = 0), stat.tstd(np.concatenate((fit_B[2::4], fit_B[3::4])), axis = 0)])\n",
    "\n",
    "    x_CI = x - np.array(stat.norm.interval(0.95, loc = x, scale = x_err))[0, :], np.array(stat.norm.interval(0.95, loc = x, scale = x_err))[1, :] - x\n",
    "    y_CI = y - np.array(stat.norm.interval(0.95, loc = y, scale = y_err))[0, :], np.array(stat.norm.interval(0.95, loc = y, scale = y_err))[1, :] - y\n",
    "\n",
    "    #x_conf_interval = np.array(stat.norm.interval(0.95, loc = x, scale = x_err))\n",
    "    #y_conf_interval = np.array(stat.norm.interval(0.95, loc = y, scale = y_err))\n",
    "    #plt.errorbar(x, y, xerr = x_err, yerr = y_err, linestyle = 'None', capsize = 3)\n",
    "    #plot0 = plt.errorbar(x[0], y[0], xerr = x_err[0], yerr = y_err[0], capsize = 3)\n",
    "    #plot0 = plt.scatter(np.concatenate((fit_A[0::4], fit_A[1::4])), np.concatenate((fit_B[0::4], fit_B[1::4])))\n",
    "\n",
    "    #plot1 = plt.errorbar(x[1], y[1], xerr = x_err[1], yerr = y_err[1], capsize = 3)\n",
    "    #plot1 = plt.scatter(np.concatenate((fit_A[2::4], fit_A[3::4])), np.concatenate((fit_B[2::4], fit_B[3::4])))\n",
    "    plot0 = plt.errorbar(x[0], y[0], xerr = [x_CI[0][0], x_CI[1][0]], yerr = [y_CI[0][0], y_CI[1][0]], capsize = 3)\n",
    "    plot1 = plt.errorbar(x[1], y[1], xerr = [x_CI[0][1], x_CI[1][1]], yerr = [y_CI[0][1], y_CI[1][1]], capsize = 3)\n",
    "\n",
    "    #plot0 = plt.errorbar(x[0], y[0], xerr = x_conf_interval[:, 0], yerr = y_conf_interval[:, 0], capsize = 3)\n",
    "    #plot1 = plt.errorbar(x[1], y[1], xerr = x_conf_interval[:, 1], yerr = y_conf_interval[:, 1], capsize = 3)\n",
    "    #plot2 = plt.errorbar(x[2], y[2], xerr = x_conf_interval[:, 2], yerr = y_conf_interval[:, 2], capsize = 3)\n",
    "    #plot3 = plt.errorbar(x[3], y[3], xerr = x_conf_interval[:, 3], yerr = y_conf_interval[:, 3], capsize = 3)\n",
    "\n",
    "    plt.legend((plot0, plot1), ('Sudden', 'Gradual'))\n",
    "    plt.xlabel(x_label)\n",
    "    plt.ylabel(y_label)"
   ]
  },
  {
   "cell_type": "code",
   "execution_count": 1368,
   "metadata": {},
   "outputs": [
    {
     "data": {
      "image/png": "[encoded data removed]",
      "text/plain": [
       "<Figure size 432x288 with 1 Axes>"
      ]
     },
     "metadata": {
      "needs_background": "light"
     },
     "output_type": "display_data"
    }
   ],
   "source": [
    "plot_collapsed_across_emphasis_fits(Af, Bf, \"A fast\", \"B fast\")"
   ]
  },
  {
   "cell_type": "code",
   "execution_count": 1020,
   "metadata": {},
   "outputs": [
    {
     "data": {
      "image/png": "[encoded data removed]",
      "text/plain": [
       "<Figure size 432x288 with 1 Axes>"
      ]
     },
     "metadata": {
      "needs_background": "light"
     },
     "output_type": "display_data"
    }
   ],
   "source": [
    "plot_collapsed_across_emphasis_fits(fit_transfer_A, fit_transfer_B)"
   ]
  },
  {
   "cell_type": "code",
   "execution_count": 1380,
   "metadata": {},
   "outputs": [],
   "source": [
    "def plot_collapsed_across_emphasis_fits(fit_A, fit_B, x_label, y_label):\n",
    "    x = np.array([np.nanmean(fit_A[0::2, :], axis = 0), np.nanmean(fit_A[1::2, :], axis = 0)])#, np.nanmean(fit_A[2::4, :], axis = 0), np.nanmean(fit_A[3::4, :], axis = 0)])\n",
    "    y = np.array([np.nanmean(fit_B[0::2, :], axis = 0), np.nanmean(fit_B[1::2, :], axis = 0)])#, np.nanmean(fit_B[2::4, :], axis = 0), np.nanmean(fit_B[3::4, :], axis = 0)])\n",
    "\n",
    "    #x = np.array([np.nanmean(fit_A[0::2, :] - fit_A[1::2, :], axis = 0)])#, np.nanmean(fit_A[1::2, :], axis = 0)])#, np.nanmean(fit_A[2::4, :], axis = 0), np.nanmean(fit_A[3::4, :], axis = 0)])\n",
    "    #y = np.array([np.nanmean(fit_B[0::2, :] - fit_B[1::2, :], axis = 0)])#, np.nanmean(fit_B[1::2, :], axis = 0)])#, np.nanmean(fit_B[2::4, :], axis = 0), np.nanmean(fit_B[3::4, :], axis = 0)])\n",
    "\n",
    "    x_err = np.array([stat.sem(fit_A[0::2, :], axis = 0), stat.sem(fit_A[1::2, :], axis = 0)])#, stat.sem(fit_A[2::4, :], axis = 0), stat.sem(fit_A[3::4, :], axis = 0)])\n",
    "    y_err = np.array([stat.sem(fit_B[0::2, :], axis = 0), stat.sem(fit_B[1::2, :], axis = 0)])#, stat.sem(fit_B[2::4, :], axis = 0), stat.sem(fit_B[3::4, :], axis = 0)])\n",
    "\n",
    "    #x_err = np.array([stat.tstd(fit_A[0::2, :], axis = 0), stat.tstd(fit_A[1::2, :], axis = 0)])#, stat.sem(fit_A[2::4, :], axis = 0), stat.sem(fit_A[3::4, :], axis = 0)])\n",
    "    #y_err = np.array([stat.tstd(fit_B[0::2, :], axis = 0), stat.tstd(fit_B[1::2, :], axis = 0)])#, stat.sem(fit_B[2::4, :], axis = 0), stat.sem(fit_B[3::4, :], axis = 0)])\n",
    "\n",
    "    #x_conf_interval = np.array(stat.norm.interval(0.83, loc = x, scale = x_err))\n",
    "    #y_conf_interval = np.array(stat.norm.interval(0.83, loc = y, scale = y_err))\n",
    "\n",
    "    x_CI = x - np.array(stat.norm.interval(0.95, loc = x, scale = x_err))[0, :], np.array(stat.norm.interval(0.95, loc = x, scale = x_err))[1, :] - x\n",
    "    y_CI = y - np.array(stat.norm.interval(0.95, loc = y, scale = y_err))[0, :], np.array(stat.norm.interval(0.95, loc = y, scale = y_err))[1, :] - y\n",
    "    plot0 = plt.errorbar(x[0], y[0], xerr = [x_CI[0][0], x_CI[1][0]], yerr = [y_CI[0][0], y_CI[1][0]], capsize = 3)\n",
    "    plot1 = plt.errorbar(x[1], y[1], xerr = [x_CI[0][1], x_CI[1][1]], yerr = [y_CI[0][1], y_CI[1][1]], capsize = 3)\n",
    "\n",
    "\n",
    "    #plot0 = plt.errorbar(x[0], y[0], xerr = x_err[0], yerr = y_err[0], capsize = 3)\n",
    "    #plot1 = plt.errorbar(x[1], y[1], xerr = x_err[1], yerr = y_err[1], capsize = 3)\n",
    "    #plot0 = plt.errorbar(x[0], y[0], xerr = x_conf_interval[:, 0], yerr = y_conf_interval[:, 0], capsize = 3)\n",
    "    #plot1 = plt.errorbar(x[1], y[1], xerr = x_conf_interval[:, 1], yerr = y_conf_interval[:, 1], capsize = 3)\n",
    "    #plot2 = plt.errorbar(x[2], y[2], xerr = x_conf_interval[:, 2], yerr = y_conf_interval[:, 2], capsize = 3)\n",
    "    #plot3 = plt.errorbar(x[3], y[3], xerr = x_conf_interval[:, 3], yerr = y_conf_interval[:, 3], capsize = 3)\n",
    "    print (x[0], y[0])\n",
    "    plt.legend((plot0, plot1), ('Speed', 'Accuracy'))#, 'Gradual Speed', 'Gradual Accuracy'))\n",
    "    plt.xlabel(x_label)\n",
    "    plt.ylabel(y_label)"
   ]
  },
  {
   "cell_type": "code",
   "execution_count": 1346,
   "metadata": {},
   "outputs": [
    {
     "name": "stdout",
     "output_type": "stream",
     "text": [
      "[0.98785995] [0.0145074]\n"
     ]
    },
    {
     "data": {
      "image/png": "[encoded data removed]",
      "text/plain": [
       "<Figure size 432x288 with 1 Axes>"
      ]
     },
     "metadata": {
      "needs_background": "light"
     },
     "output_type": "display_data"
    }
   ],
   "source": [
    "plot_collapsed_across_rotation_fits(As, Bs)"
   ]
  },
  {
   "cell_type": "code",
   "execution_count": 1021,
   "metadata": {},
   "outputs": [
    {
     "name": "stdout",
     "output_type": "stream",
     "text": [
      "[0.87887569] [0.40316036]\n"
     ]
    },
    {
     "data": {
      "image/png": "[encoded data removed]",
      "text/plain": [
       "<Figure size 432x288 with 1 Axes>"
      ]
     },
     "metadata": {
      "needs_background": "light"
     },
     "output_type": "display_data"
    }
   ],
   "source": [
    "plot_collapsed_across_rotation_fits(fit_transfer_A, fit_transfer_B)"
   ]
  },
  {
   "cell_type": "code",
   "execution_count": null,
   "metadata": {},
   "outputs": [],
   "source": []
  },
  {
   "cell_type": "code",
   "execution_count": null,
   "metadata": {},
   "outputs": [],
   "source": []
  },
  {
   "cell_type": "code",
   "execution_count": null,
   "metadata": {},
   "outputs": [],
   "source": []
  },
  {
   "cell_type": "code",
   "execution_count": 89,
   "metadata": {},
   "outputs": [],
   "source": [
    "#np.mean(np.mean(error_sum[1::4], axis = 2), axis = 0)\n",
    "#stat.sem(np.mean(error_sum[1::4], axis = 2), axis = 0)\n",
    "def plot_param_fits(fit_A, text):\n",
    "#    quantiles = get_quantile(total_times)\n",
    "    xpos = [0, 1, 2, 3, 4]\n",
    "    y = np.array([np.mean(fit_A[1::4]),\n",
    "                     np.mean(fit_A[0::4]), \n",
    "                     np.mean(fit_A[3::4]),\n",
    "                     np.mean(fit_A[2::4])])# - np.mean(np.median(distances[1::4], axis = 2), axis = 0)[10],\n",
    "    y_sem = np.array([stat.sem(fit_A[2::4]),\n",
    "                             stat.sem(fit_A[2::4]),\n",
    "                             stat.sem(fit_A[2::4]),\n",
    "                             stat.sem(fit_A[2::4])]) \n",
    "    #print (y_sem[0])\n",
    "    #y_sem = np.array([0, 0, 0, 0])\n",
    "    plt.bar(0, y[0], yerr = y_sem[0], capsize = 3, fill = False)\n",
    "    plt.bar(1, y[1], yerr = y_sem[1], capsize = 3, color = [0.5, 0.5, 0.5])\n",
    "    plt.bar(2, y[2], yerr = y_sem[2], capsize = 3, hatch = '\\\\', fill = False)\n",
    "    plt.bar(3, y[3], yerr = y_sem[3], capsize = 3, hatch = '\\\\', color = [0.5, 0.5, 0.5])\n",
    "\n",
    "#    handles = plt.bar(range(4), y, yerr = y_sem, capsize = 3, color = ['Blue', 'Green', 'Blue', 'Green'], alpha = [1, 0.5, 0.5, 1])\n",
    "    plt.xticks([0, 1, 2, 3], ['Sudden \\n Accuracy', 'Sudden \\n Speed', 'Gradual \\n Accuracy', 'Gradual \\nSpeed'], rotation = 'vertical')\n",
    "    plt.ylabel('fit values')\n",
    "    plt.xlabel('Condition')\n",
    "    #plt.legend([handles[0], handles[1]], ['Speed', 'Accuracy'])\n",
    "    plt.title(text)\n",
    "    #plt.ylim(0, 45)\n",
    "    print (y)\n",
    "#np.shape(np.mean(error_sum[1::4], axis = 0))\n"
   ]
  },
  {
   "cell_type": "code",
   "execution_count": null,
   "metadata": {},
   "outputs": [],
   "source": []
  },
  {
   "cell_type": "code",
   "execution_count": null,
   "metadata": {},
   "outputs": [],
   "source": []
  },
  {
   "cell_type": "code",
   "execution_count": null,
   "metadata": {},
   "outputs": [],
   "source": []
  },
  {
   "cell_type": "code",
   "execution_count": null,
   "metadata": {},
   "outputs": [],
   "source": []
  },
  {
   "cell_type": "code",
   "execution_count": null,
   "metadata": {},
   "outputs": [],
   "source": []
  },
  {
   "cell_type": "code",
   "execution_count": null,
   "metadata": {},
   "outputs": [],
   "source": []
  },
  {
   "cell_type": "code",
   "execution_count": null,
   "metadata": {},
   "outputs": [],
   "source": []
  },
  {
   "cell_type": "code",
   "execution_count": null,
   "metadata": {},
   "outputs": [],
   "source": []
  },
  {
   "cell_type": "code",
   "execution_count": null,
   "metadata": {},
   "outputs": [],
   "source": []
  },
  {
   "cell_type": "code",
   "execution_count": null,
   "metadata": {},
   "outputs": [],
   "source": []
  },
  {
   "cell_type": "code",
   "execution_count": null,
   "metadata": {},
   "outputs": [],
   "source": []
  },
  {
   "cell_type": "code",
   "execution_count": 38,
   "metadata": {},
   "outputs": [],
   "source": [
    "def plot_errors_trials(num_points, first_trial, last_trial, errors, title_text):\n",
    "    plt.figure(figsize=(20, 5))\n",
    "    plot_0, = plt.plot(np.nanmean(np.split(np.ravel(np.nanmean(errors[0::4], axis = 0)[1:][:, first_trial:last_trial]), num_points), axis = 1), alpha = 0.5)\n",
    "    plot_1, = plt.plot(np.nanmean(np.split(np.ravel(np.nanmean(errors[1::4], axis = 0)[1:][:, first_trial:last_trial]), num_points), axis = 1), alpha = 0.5)\n",
    "    plot_2, = plt.plot(np.nanmean(np.split(np.ravel(np.nanmean(errors[2::4], axis = 0)[1:][:, first_trial:last_trial]), num_points), axis = 1))\n",
    "    plot_3, = plt.plot(np.nanmean(np.split(np.ravel(np.nanmean(errors[3::4], axis = 0)[1:][:, first_trial:last_trial]), num_points), axis = 1))\n",
    "\n",
    "    plt.legend((plot_0, plot_1, plot_2, plot_3), ('Sudden Speed', 'Sudden Accuracy', 'Gradual Speed', 'Gradual Accuracy'))\n",
    "    plt.xlabel('Trials')\n",
    "    plt.ylabel('Angular Errors')\n",
    "    plt.title(title_text)"
   ]
  },
  {
   "cell_type": "code",
   "execution_count": null,
   "metadata": {},
   "outputs": [],
   "source": []
  },
  {
   "cell_type": "code",
   "execution_count": null,
   "metadata": {},
   "outputs": [],
   "source": []
  },
  {
   "cell_type": "code",
   "execution_count": null,
   "metadata": {},
   "outputs": [],
   "source": []
  },
  {
   "cell_type": "markdown",
   "metadata": {},
   "source": [
    "# 2-state model"
   ]
  },
  {
   "cell_type": "code",
   "execution_count": 1188,
   "metadata": {},
   "outputs": [],
   "source": [
    "def dual_model_sudden(num_trials, Af, Bf, As, Bs):\n",
    "    errors = np.zeros((num_trials))\n",
    "    rotation = 90\n",
    "    fast_est = 0\n",
    "    slow_est = 0\n",
    "    rotation_est = fast_est + slow_est\n",
    "    for trial in range(num_trials):\n",
    "        errors[trial] = rotation - rotation_est\n",
    "        #print(errors[trial])\n",
    "        fast_est = Af*fast_est + Bf*errors[trial]\n",
    "        slow_est = As*slow_est + Bs*errors[trial]\n",
    "        rotation_est = fast_est + slow_est\n",
    "        #print (rotation_est)\n",
    "    return errors\n",
    "\n",
    "def dual_model_gradual(num_trials, Af, Bf, As, Bs):\n",
    "    errors = np.zeros((num_trials))\n",
    "    fast_est = 0\n",
    "    slow_est = 0\n",
    "    rotation_est = 0\n",
    "    rotation = 0\n",
    "    for trial in range(num_trials):\n",
    "        if trial%64 == 0:\n",
    "            rotation = rotation + 10\n",
    "        if rotation > 90:\n",
    "            rotation = 90\n",
    "        errors[trial] = rotation - rotation_est\n",
    "        #print(errors[trial])\n",
    "        fast_est = Af*fast_est + Bf*errors[trial]\n",
    "        slow_est = As*slow_est + Bs*errors[trial]\n",
    "        rotation_est = fast_est + slow_est\n",
    "        #print (rotation_est)\n",
    "    return errors"
   ]
  },
  {
   "cell_type": "code",
   "execution_count": 1189,
   "metadata": {},
   "outputs": [],
   "source": [
    "def residuals_sudden(params, num_trials, data_errors):\n",
    "    model_errors = dual_model_sudden(num_trials, params[0], params[1], params[2], params[3])\n",
    "    residual_error = np.sum(np.square(model_errors - data_errors))\n",
    "    if params[0] > params[2]:\n",
    "        residual_error = residual_error + 10000000\n",
    "    if params[1] < params[3]:\n",
    "        residual_error = residual_error + 10000000\n",
    "    if params[0] < 0 or params[1] < 0 or params[2] < 0 or params[3] < 0:\n",
    "        residual_error = residual_error + 10000000\n",
    "    return residual_error\n",
    "\n",
    "def residuals_gradual(params, num_trials, data_errors):\n",
    "    model_errors = dual_model_gradual(num_trials, params[0], params[1], params[2], params[3])\n",
    "    residual_error = np.sum(np.square(model_errors - data_errors))\n",
    "    if params[0] > params[2]:\n",
    "        residual_error = residual_error + 10000000\n",
    "    if params[1] < params[3]:\n",
    "        residual_error = residual_error + 10000000\n",
    "    if params[0] < 0 or params[1] < 0 or params[2] < 0 or params[3] < 0:\n",
    "        residual_error = residual_error + 10000000\n",
    "    return residual_error"
   ]
  },
  {
   "cell_type": "code",
   "execution_count": 1230,
   "metadata": {},
   "outputs": [],
   "source": [
    "def dual_model_transfer(num_trials, Af, Bf, As, Bs):\n",
    " #   A = np.exp(A)/(1 + np.exp(A))\n",
    " #   B = np.exp(B)/(1 + np.exp(B))\n",
    "    \n",
    "    errors = np.zeros((num_trials))\n",
    "    rotation = 90\n",
    "    rotation_est = 0\n",
    "    fast_est = 0\n",
    "    slow_est = 0\n",
    "\n",
    "    for trial in range(num_trials):\n",
    "        errors[trial] = rotation - rotation_est\n",
    "        #print(errors[trial])\n",
    "        fast_est = Af*fast_est + Bf*errors[trial]\n",
    "        slow_est = As*slow_est + Bs*errors[trial]\n",
    "        rotation_est = fast_est + slow_est\n",
    "        #rotation_est = A*rotation_est + B*errors[trial]\n",
    "        #print (rotation_est)\n",
    "    return errors\n"
   ]
  },
  {
   "cell_type": "code",
   "execution_count": null,
   "metadata": {},
   "outputs": [],
   "source": []
  },
  {
   "cell_type": "code",
   "execution_count": null,
   "metadata": {},
   "outputs": [],
   "source": []
  },
  {
   "cell_type": "code",
   "execution_count": null,
   "metadata": {},
   "outputs": [],
   "source": []
  },
  {
   "cell_type": "code",
   "execution_count": null,
   "metadata": {},
   "outputs": [],
   "source": []
  },
  {
   "cell_type": "code",
   "execution_count": null,
   "metadata": {},
   "outputs": [],
   "source": []
  },
  {
   "cell_type": "code",
   "execution_count": 1196,
   "metadata": {},
   "outputs": [],
   "source": [
    "#Divide the whole thing into 16 trial blocks and fit them\n",
    "def run_fits_dual(curvatures, num_trials, part_size, fit_A, fit_B):\n",
    "    num_fits = int(num_trials/part_size)\n",
    "    fit_As = np.zeros((60, num_fits))\n",
    "    fit_Bs = np.zeros((60, num_fits))\n",
    "    fit_Af = np.zeros((60, num_fits))\n",
    "    fit_Bf = np.zeros((60, num_fits))\n",
    "    fit_V = np.full((60, num_fits), np.inf)\n",
    "    fit_success = np.zeros((60, num_fits))\n",
    "\n",
    "    for participant in range(60):\n",
    "        for fit_parts in range(num_fits):\n",
    "            #starting_points = np.array([[fit_A[participant][fit_parts], fit_B[participant][fit_parts], 0.9, 0.2], [fit_A[participant][fit_parts], fit_B[participant][fit_parts], 0.99, 0.1], [fit_A[participant][fit_parts], fit_B[participant][fit_parts], 0.8, 0.3], [fit_A[participant][fit_parts], fit_B[participant][fit_parts], 0.7, 0.4], [fit_A[participant][fit_parts], fit_B[participant][fit_parts], 0.6, 0.5], [fit_A[participant][fit_parts], fit_B[participant][fit_parts], 0.5, 0.6], [fit_A[participant][fit_parts], fit_B[participant][fit_parts], 0.4, 0.7], [fit_A[participant][fit_parts], fit_B[participant][fit_parts], 0.3, 0.8], [fit_A[participant][fit_parts], fit_B[participant][fit_parts], 0.2, 0.9], [fit_A[participant][fit_parts], fit_B[participant][fit_parts], 0.1, 0.99],\n",
    "            #                [0.9, 0.2, fit_A[participant][fit_parts], fit_B[participant][fit_parts]], [0.99, 0.1, fit_A[participant][fit_parts], fit_B[participant][fit_parts]], [0.8, 0.3, fit_A[participant][fit_parts], fit_B[participant][fit_parts]], [0.7, 0.4, fit_A[participant][fit_parts], fit_B[participant][fit_parts]], [0.6, 0.5, fit_A[participant][fit_parts], fit_B[participant][fit_parts]], [0.5, 0.6, fit_A[participant][fit_parts], fit_B[participant][fit_parts]], [0.4, 0.7, fit_A[participant][fit_parts], fit_B[participant][fit_parts]], [0.3, 0.8, fit_A[participant][fit_parts], fit_B[participant][fit_parts]], [0.2, 0.9, fit_A[participant][fit_parts], fit_B[participant][fit_parts]], [0.1, 0.99, fit_A[participant][fit_parts], fit_B[participant][fit_parts]]])\n",
    "            #starting_points = np.array([[0.9, 0.2, 0.99, 0.02], [0.8, 0.3, 0.9, 0.03], [0.7, 0.4, 0.8, 0.04], [0.6, 0.5, 0.7, 0.05]])\n",
    "            starting_points = np.array([[0.9, 0.2, 0.99, 0.02]])\n",
    "            for initial_point in starting_points:\n",
    "                if participant%4 == 0 or participant%4 == 1:      \n",
    "                    #fits = scipy.optimize.minimize(residuals_sudden, x0 = [initial_point[0], initial_point[1], initial_point[2], initial_point[3]], args = (640, np.nan_to_num(np.ravel(curvatures[participant][1:-1]), nan = np.nanmedian(curvatures[participant][1:-1]))), method = 'Nelder-Mead')            \n",
    "                    fits = scipy.optimize.basinhopping(residuals_sudden, x0 = [initial_point[0], initial_point[1], initial_point[2], initial_point[3]], minimizer_kwargs={'args': (640, np.nan_to_num(np.ravel(curvatures[participant][1:-1]), nan = np.nanmedian(curvatures[participant][1:-1]))), 'method': 'Nelder-Mead'})\n",
    "                    \n",
    "                    if fits.fun < fit_V[participant][fit_parts]:\n",
    "                        fit_Af[participant][fit_parts] = fits.x[0]\n",
    "                        fit_Bf[participant][fit_parts] = fits.x[1]\n",
    "                        fit_As[participant][fit_parts] = fits.x[2]\n",
    "                        fit_Bs[participant][fit_parts] = fits.x[3]\n",
    "                        fit_V[participant][fit_parts] = fits.fun\n",
    "                        #fit_success[participant][fit_parts] = fits.success                \n",
    "                else:\n",
    "                    #fits = scipy.optimize.minimize(residuals_gradual, x0 = [initial_point[0], initial_point[1], initial_point[2], initial_point[3]], args = (640, np.nan_to_num(np.ravel(curvatures[participant][1:-1]), nan = np.nanmedian(curvatures[participant][1:-1]))), method = 'Nelder-Mead')         \n",
    "                    fits = scipy.optimize.basinhopping(residuals_gradual, x0 = [initial_point[0], initial_point[1], initial_point[2], initial_point[3]], minimizer_kwargs={'args': (640, np.nan_to_num(np.ravel(curvatures[participant][1:-1]), nan = np.nanmedian(curvatures[participant][1:-1]))), 'method': 'Nelder-Mead'})\n",
    "                    if fits.fun < fit_V[participant][fit_parts]:\n",
    "                        fit_Af[participant][fit_parts] = fits.x[0]\n",
    "                        fit_Bf[participant][fit_parts] = fits.x[1]\n",
    "                        fit_As[participant][fit_parts] = fits.x[2]\n",
    "                        fit_Bs[participant][fit_parts] = fits.x[3]\n",
    "                        fit_V[participant][fit_parts] = fits.fun\n",
    "                        #fit_success[participant][fit_parts] = fits.success\n",
    "\n",
    "        print (participant, fits.fun)\n",
    "    return fit_Af, fit_Bf, fit_As, fit_Bs, fit_V, fit_success\n",
    "        "
   ]
  },
  {
   "cell_type": "code",
   "execution_count": 1197,
   "metadata": {},
   "outputs": [
    {
     "name": "stderr",
     "output_type": "stream",
     "text": [
      "C:\\Users\\Tejas\\Anaconda3\\lib\\site-packages\\ipykernel_launcher.py:3: RuntimeWarning: overflow encountered in square\n",
      "  This is separate from the ipykernel package so we can avoid doing imports until\n"
     ]
    },
    {
     "name": "stdout",
     "output_type": "stream",
     "text": [
      "0 61484.31207007441\n",
      "1 28768.694644781302\n",
      "2 27463.13335903259\n",
      "3 15442.748614531138\n",
      "4 22972.246158038746\n",
      "5 14100.241876979162\n",
      "6 6562.357279251695\n",
      "7 14852.057924915862\n",
      "8 30695.466355919372\n",
      "9 52155.389321301685\n",
      "10 28728.117707652964\n",
      "11 8547.691666738207\n",
      "12 51657.00459593862\n",
      "13 31327.11385893414\n",
      "14 37071.79058720014\n",
      "15 2698.9911352168206\n",
      "16 35816.95223650258\n",
      "17 4666.417870295172\n",
      "18 24226.08558521144\n",
      "19 11405.302629544247\n",
      "20 34505.84989490448\n",
      "21 33481.60882285421\n",
      "22 75302.55732648176\n",
      "23 23459.82563467951\n",
      "24 66104.76151770577\n",
      "25 17006.39038912671\n",
      "26 40397.64331687904\n",
      "27 30271.738774991776\n",
      "28 192985.68000800058\n",
      "29 55491.74268428862\n",
      "30 29885.969040853586\n",
      "31 7477.6244321421955\n",
      "32 19094.274598969925\n",
      "33 29043.09441001658\n",
      "34 13874.113993556832\n",
      "35 5330.816910730991\n",
      "36 175671.13283274922\n",
      "37 115652.17476885728\n",
      "38 41727.128036432085\n",
      "39 5574.129589365281\n",
      "40 31572.250194526612\n",
      "41 17924.873386727177\n",
      "42 90072.11722365019\n",
      "43 6410.105892795571\n",
      "44 33813.09001939304\n",
      "45 54291.22333135818\n",
      "46 24972.361985091073\n",
      "47 12354.789470380649\n",
      "48 108508.55796901358\n",
      "49 45623.6512510428\n",
      "50 31459.653957668197\n",
      "51 16455.96784842173\n",
      "52 53945.806478283856\n",
      "53 57376.05719000546\n",
      "54 50539.39244003511\n",
      "55 15139.7586973457\n",
      "56 39060.08581776853\n",
      "57 10676.626629434526\n",
      "58 23392.082118745377\n",
      "59 8566.981566989263\n"
     ]
    }
   ],
   "source": [
    "Af, Bf, As, Bs, fit_V_dual, fit_success_dual = run_fits_dual(curvatures_smooth, 640, 640, fit_A, fit_B)"
   ]
  },
  {
   "cell_type": "code",
   "execution_count": null,
   "metadata": {},
   "outputs": [],
   "source": []
  },
  {
   "cell_type": "markdown",
   "metadata": {},
   "source": [
    "# Parameter Fits"
   ]
  },
  {
   "cell_type": "code",
   "execution_count": 1384,
   "metadata": {},
   "outputs": [
    {
     "data": {
      "image/png": "[encoded data removed]",
      "text/plain": [
       "<Figure size 432x288 with 1 Axes>"
      ]
     },
     "metadata": {
      "needs_background": "light"
     },
     "output_type": "display_data"
    }
   ],
   "source": [
    "plot_fits(As, Bs, \"A slow\", \"B slow\")"
   ]
  },
  {
   "cell_type": "code",
   "execution_count": null,
   "metadata": {},
   "outputs": [],
   "source": []
  },
  {
   "cell_type": "markdown",
   "metadata": {},
   "source": [
    "## Collapse Across Sudden Gradual"
   ]
  },
  {
   "cell_type": "code",
   "execution_count": 1386,
   "metadata": {},
   "outputs": [
    {
     "data": {
      "image/png": "[encoded data removed]",
      "text/plain": [
       "<Figure size 432x288 with 1 Axes>"
      ]
     },
     "metadata": {
      "needs_background": "light"
     },
     "output_type": "display_data"
    }
   ],
   "source": [
    "plot_collapsed_across_rotation_fits(As, Bs, \"A slow\", \"B slow\")"
   ]
  },
  {
   "cell_type": "code",
   "execution_count": null,
   "metadata": {},
   "outputs": [],
   "source": []
  },
  {
   "cell_type": "markdown",
   "metadata": {},
   "source": [
    "## Collapsing across Speed/Accuracy"
   ]
  },
  {
   "cell_type": "code",
   "execution_count": 1387,
   "metadata": {},
   "outputs": [
    {
     "name": "stdout",
     "output_type": "stream",
     "text": [
      "[0.98785995] [0.0145074]\n"
     ]
    },
    {
     "data": {
      "image/png": "[encoded data removed]",
      "text/plain": [
       "<Figure size 432x288 with 1 Axes>"
      ]
     },
     "metadata": {
      "needs_background": "light"
     },
     "output_type": "display_data"
    }
   ],
   "source": [
    "plot_collapsed_across_emphasis_fits (As, Bs, \"A slow\", \"B slow\")"
   ]
  },
  {
   "cell_type": "code",
   "execution_count": null,
   "metadata": {},
   "outputs": [],
   "source": []
  },
  {
   "cell_type": "code",
   "execution_count": 134,
   "metadata": {},
   "outputs": [],
   "source": [
    "fit_V_single_state = fit_V\n"
   ]
  },
  {
   "cell_type": "code",
   "execution_count": 162,
   "metadata": {},
   "outputs": [
    {
     "data": {
      "text/plain": [
       "8049.162100068025"
      ]
     },
     "execution_count": 162,
     "metadata": {},
     "output_type": "execute_result"
    }
   ],
   "source": [
    "np.mean(fit_transfer_V)"
   ]
  },
  {
   "cell_type": "code",
   "execution_count": 1244,
   "metadata": {},
   "outputs": [
    {
     "data": {
      "text/plain": [
       "61562.954918534066"
      ]
     },
     "execution_count": 1244,
     "metadata": {},
     "output_type": "execute_result"
    }
   ],
   "source": []
  },
  {
   "cell_type": "code",
   "execution_count": 1266,
   "metadata": {},
   "outputs": [
    {
     "data": {
      "text/plain": [
       "44370.071412781646"
      ]
     },
     "execution_count": 1266,
     "metadata": {},
     "output_type": "execute_result"
    }
   ],
   "source": [
    "np.mean(fit_V)"
   ]
  },
  {
   "cell_type": "code",
   "execution_count": 1205,
   "metadata": {},
   "outputs": [
    {
     "data": {
      "text/plain": [
       "37585.5967655054"
      ]
     },
     "execution_count": 1205,
     "metadata": {},
     "output_type": "execute_result"
    }
   ],
   "source": [
    "np.mean(fit_V_dual)"
   ]
  },
  {
   "cell_type": "markdown",
   "metadata": {},
   "source": [
    "# % Variance accounted for"
   ]
  },
  {
   "cell_type": "code",
   "execution_count": 229,
   "metadata": {},
   "outputs": [
    {
     "data": {
      "text/plain": [
       "0.14992304958039027"
      ]
     },
     "execution_count": 229,
     "metadata": {},
     "output_type": "execute_result"
    }
   ],
   "source": [
    "1 - np.sum(fit_transfer_V)/np.nansum((np.ravel(curvatures[:, 11, :]) - np.nanmean(curvatures[:, 11, :]))**2)"
   ]
  },
  {
   "cell_type": "code",
   "execution_count": 1422,
   "metadata": {},
   "outputs": [
    {
     "data": {
      "text/plain": [
       "0.824526001972443"
      ]
     },
     "execution_count": 1422,
     "metadata": {},
     "output_type": "execute_result"
    }
   ],
   "source": [
    "1 - np.sum(fit_V_dual_rts)/np.nansum((np.ravel(curvatures_smooth[:, 1:-1, :]) - np.nanmean(curvatures_smooth[:, 1:-1, :]))**2)"
   ]
  },
  {
   "cell_type": "code",
   "execution_count": 1318,
   "metadata": {},
   "outputs": [
    {
     "data": {
      "text/plain": [
       "173075.40628043644"
      ]
     },
     "execution_count": 1318,
     "metadata": {},
     "output_type": "execute_result"
    }
   ],
   "source": [
    "fpe = ((1+(3/640))/(1 - (3/640)))*np.mean(fit_V_bound_raw_additive)\n",
    "fpe"
   ]
  },
  {
   "cell_type": "code",
   "execution_count": null,
   "metadata": {},
   "outputs": [],
   "source": []
  },
  {
   "cell_type": "code",
   "execution_count": null,
   "metadata": {},
   "outputs": [],
   "source": []
  },
  {
   "cell_type": "code",
   "execution_count": 1333,
   "metadata": {
    "scrolled": false
   },
   "outputs": [
    {
     "data": {
      "image/png": "[encoded data removed]",
      "text/plain": [
       "<Figure size 1440x720 with 4 Axes>"
      ]
     },
     "metadata": {
      "needs_background": "light"
     },
     "output_type": "display_data"
    }
   ],
   "source": [
    "plt.figure(figsize = (20, 10))\n",
    "errors_predict = np.zeros((60, 704))\n",
    "\n",
    "for participant in range(60):\n",
    "    if participant % 4 == 0 or participant%4 == 1:\n",
    "        errors_predict[participant][:640] = base_model_sudden(640, fit_A[participant], fit_B[participant])\n",
    "#num_trials, Af, Bf, As, Bs\n",
    "#        errors_predict[participant][:640] = dual_model_sudden(640, Af[participant], Bf[participant], As[participant], Bs[participant])\n",
    "\n",
    "    else:    \n",
    "#        errors_predict[participant][:640] = dual_model_gradual(640, Af[participant], Bf[participant], As[participant], Bs[participant])\n",
    "        errors_predict[participant][:640] = base_model_gradual(640, fit_A[participant], fit_B[participant])\n",
    "\n",
    "#    errors_predict[participant][640:] = dual_model_transfer(64, Af[participant], Bf[participant], As[participant], Bs[participant])\n",
    "    errors_predict[participant][640:] = base_model_transfer(64, fit_A[participant], fit_B[participant], np.nanmean(curvatures[participant][10][-16:]))\n",
    "\n",
    "for participant in range(4):\n",
    "    if participant % 4 == 0 or participant%4 == 1:\n",
    "        plt.subplot(4, 1, participant + 1 )\n",
    "        y_err = np.array(stat.norm.interval(0.95, loc = y, scale = y_err))\n",
    "        y_err = np.m\n",
    "        plt.plot(np.mean(errors_predict[participant::4], axis = 0))\n",
    "        plt.plot(np.ravel(np.mean(curvatures_smooth[participant::4], axis = 0)[1:]))\n",
    "    else:\n",
    "        plt.subplot(4, 1, participant + 1 )\n",
    "        plt.plot(np.mean(errors_predict[participant::4], axis = 0))\n",
    "        plt.plot(np.ravel(np.mean(curvatures_smooth[participant::4], axis = 0)[1:]))\n",
    "    plt.ylim((0, 100))\n"
   ]
  },
  {
   "cell_type": "code",
   "execution_count": null,
   "metadata": {},
   "outputs": [],
   "source": []
  },
  {
   "cell_type": "code",
   "execution_count": 243,
   "metadata": {},
   "outputs": [],
   "source": [
    "import pandas as pd"
   ]
  },
  {
   "cell_type": "code",
   "execution_count": 1434,
   "metadata": {},
   "outputs": [],
   "source": [
    "df_A = pd.DataFrame({\"Emphasis\": np.tile([\"Speed\", \"Accuracy\"], 30),\n",
    "                   \"Rotation\": np.tile([\"Sudden\", \"Sudden\", \"Gradual\", \"Gradual\"], 15),\n",
    "                   \"fit_A\": Af[:, 0]})\n",
    "\n",
    "model_A = ols('fit_A ~ C(Emphasis)*C(Rotation)', data = df_A).fit()\n",
    "\n",
    "aov_table_A = sm.stats.anova_lm(model_A)\n",
    "\n",
    "\n",
    "df_B = pd.DataFrame({\"Emphasis\": np.tile([\"Speed\", \"Accuracy\"], 30),\n",
    "                   \"Rotation\": np.tile([\"Sudden\", \"Sudden\", \"Gradual\", \"Gradual\"], 15),\n",
    "                   \"fit_B\": Bf[:, 0]})\n",
    "\n",
    "model_B = ols('fit_B ~ C(Emphasis)*C(Rotation)', data = df_B).fit()\n",
    "aov_table_B = sm.stats.anova_lm(model_B)\n"
   ]
  },
  {
   "cell_type": "code",
   "execution_count": 1435,
   "metadata": {},
   "outputs": [
    {
     "data": {
      "text/html": [
       "<div>\n",
       "<style scoped>\n",
       "    .dataframe tbody tr th:only-of-type {\n",
       "        vertical-align: middle;\n",
       "    }\n",
       "\n",
       "    .dataframe tbody tr th {\n",
       "        vertical-align: top;\n",
       "    }\n",
       "\n",
       "    .dataframe thead th {\n",
       "        text-align: right;\n",
       "    }\n",
       "</style>\n",
       "<table border=\"1\" class=\"dataframe\">\n",
       "  <thead>\n",
       "    <tr style=\"text-align: right;\">\n",
       "      <th></th>\n",
       "      <th>df</th>\n",
       "      <th>sum_sq</th>\n",
       "      <th>mean_sq</th>\n",
       "      <th>F</th>\n",
       "      <th>PR(&gt;F)</th>\n",
       "    </tr>\n",
       "  </thead>\n",
       "  <tbody>\n",
       "    <tr>\n",
       "      <th>C(Emphasis)</th>\n",
       "      <td>1.0</td>\n",
       "      <td>0.134141</td>\n",
       "      <td>0.134141</td>\n",
       "      <td>5.685327</td>\n",
       "      <td>0.020520</td>\n",
       "    </tr>\n",
       "    <tr>\n",
       "      <th>C(Rotation)</th>\n",
       "      <td>1.0</td>\n",
       "      <td>0.146227</td>\n",
       "      <td>0.146227</td>\n",
       "      <td>6.197585</td>\n",
       "      <td>0.015789</td>\n",
       "    </tr>\n",
       "    <tr>\n",
       "      <th>C(Emphasis):C(Rotation)</th>\n",
       "      <td>1.0</td>\n",
       "      <td>0.038939</td>\n",
       "      <td>0.038939</td>\n",
       "      <td>1.650372</td>\n",
       "      <td>0.204197</td>\n",
       "    </tr>\n",
       "    <tr>\n",
       "      <th>Residual</th>\n",
       "      <td>56.0</td>\n",
       "      <td>1.321274</td>\n",
       "      <td>0.023594</td>\n",
       "      <td>NaN</td>\n",
       "      <td>NaN</td>\n",
       "    </tr>\n",
       "  </tbody>\n",
       "</table>\n",
       "</div>"
      ],
      "text/plain": [
       "                           df    sum_sq   mean_sq         F    PR(>F)\n",
       "C(Emphasis)               1.0  0.134141  0.134141  5.685327  0.020520\n",
       "C(Rotation)               1.0  0.146227  0.146227  6.197585  0.015789\n",
       "C(Emphasis):C(Rotation)   1.0  0.038939  0.038939  1.650372  0.204197\n",
       "Residual                 56.0  1.321274  0.023594       NaN       NaN"
      ]
     },
     "execution_count": 1435,
     "metadata": {},
     "output_type": "execute_result"
    }
   ],
   "source": [
    "aov_table_B"
   ]
  },
  {
   "cell_type": "code",
   "execution_count": 1402,
   "metadata": {},
   "outputs": [
    {
     "data": {
      "text/html": [
       "<div>\n",
       "<style scoped>\n",
       "    .dataframe tbody tr th:only-of-type {\n",
       "        vertical-align: middle;\n",
       "    }\n",
       "\n",
       "    .dataframe tbody tr th {\n",
       "        vertical-align: top;\n",
       "    }\n",
       "\n",
       "    .dataframe thead th {\n",
       "        text-align: right;\n",
       "    }\n",
       "</style>\n",
       "<table border=\"1\" class=\"dataframe\">\n",
       "  <thead>\n",
       "    <tr style=\"text-align: right;\">\n",
       "      <th></th>\n",
       "      <th>df</th>\n",
       "      <th>sum_sq</th>\n",
       "      <th>mean_sq</th>\n",
       "      <th>F</th>\n",
       "      <th>PR(&gt;F)</th>\n",
       "    </tr>\n",
       "  </thead>\n",
       "  <tbody>\n",
       "    <tr>\n",
       "      <th>C(Emphasis)</th>\n",
       "      <td>1.0</td>\n",
       "      <td>0.002562</td>\n",
       "      <td>0.002562</td>\n",
       "      <td>10.581659</td>\n",
       "      <td>0.001938</td>\n",
       "    </tr>\n",
       "    <tr>\n",
       "      <th>C(Rotation)</th>\n",
       "      <td>1.0</td>\n",
       "      <td>0.000105</td>\n",
       "      <td>0.000105</td>\n",
       "      <td>0.435239</td>\n",
       "      <td>0.512134</td>\n",
       "    </tr>\n",
       "    <tr>\n",
       "      <th>C(Emphasis):C(Rotation)</th>\n",
       "      <td>1.0</td>\n",
       "      <td>0.000743</td>\n",
       "      <td>0.000743</td>\n",
       "      <td>3.069224</td>\n",
       "      <td>0.085262</td>\n",
       "    </tr>\n",
       "    <tr>\n",
       "      <th>Residual</th>\n",
       "      <td>56.0</td>\n",
       "      <td>0.013558</td>\n",
       "      <td>0.000242</td>\n",
       "      <td>NaN</td>\n",
       "      <td>NaN</td>\n",
       "    </tr>\n",
       "  </tbody>\n",
       "</table>\n",
       "</div>"
      ],
      "text/plain": [
       "                           df    sum_sq   mean_sq          F    PR(>F)\n",
       "C(Emphasis)               1.0  0.002562  0.002562  10.581659  0.001938\n",
       "C(Rotation)               1.0  0.000105  0.000105   0.435239  0.512134\n",
       "C(Emphasis):C(Rotation)   1.0  0.000743  0.000743   3.069224  0.085262\n",
       "Residual                 56.0  0.013558  0.000242        NaN       NaN"
      ]
     },
     "execution_count": 1402,
     "metadata": {},
     "output_type": "execute_result"
    }
   ],
   "source": [
    "aov_table_A"
   ]
  },
  {
   "cell_type": "markdown",
   "metadata": {},
   "source": [
    "Effect of emphasis on As\n",
    "\n",
    "Effect of rotation and emphasis on Bf"
   ]
  },
  {
   "cell_type": "markdown",
   "metadata": {},
   "source": [
    "# State Space model for RT data"
   ]
  },
  {
   "cell_type": "code",
   "execution_count": 1302,
   "metadata": {},
   "outputs": [],
   "source": [
    "num_trials = 640\n",
    "def base_model_sudden(num_trials, RT, A, B, m):\n",
    " #   A = np.exp(A)/(1 + np.exp(A))\n",
    " #   B = np.exp(B)/(1 + np.exp(B))\n",
    "    \n",
    "    errors = np.zeros((num_trials))\n",
    "    rotation = 90\n",
    "    rotation_est = 0\n",
    "    for trial in range(num_trials - 1):\n",
    "        errors[trial] = rotation - rotation_est\n",
    "        #print(errors[trial])\n",
    "        rotation_est = A*rotation_est + B*(1 - np.exp(-m*RT[trial+1]))*errors[trial]# + m*RT[trial+1]\n",
    "#        rotation_est = A*rotation_est + B*errors[trial] + m*RT[trial+1]\n",
    " \n",
    "    #print (rotation_est)\n",
    "    errors[trial+1] = rotation - rotation_est\n",
    "    \n",
    "    return errors\n",
    "\n",
    "def base_model_gradual(num_trials, RT, A, B, m):\n",
    "#    A = np.exp(A)/(1 + np.exp(A))\n",
    "#    B = np.exp(B)/(1 + np.exp(B))\n",
    "    \n",
    "    errors = np.zeros((num_trials))\n",
    "    rotation_est = 0\n",
    "    rotation = 0\n",
    "    for trial in range(num_trials - 1):\n",
    "        if trial%64 == 0:\n",
    "            rotation = rotation + 10\n",
    "        if rotation > 90:\n",
    "            rotation = 90\n",
    "        errors[trial] = rotation - rotation_est\n",
    "        #print(errors[trial])\n",
    "        rotation_est = A*rotation_est + B*(1 - np.exp(-m*RT[trial+1]))*errors[trial]# + m*RT[trial+1]\n",
    "#        rotation_est = A*rotation_est + B*errors[trial] + m*RT[trial+1]\n",
    "\n",
    "        #print (rotation_est)\n",
    "    errors[trial+1] = rotation - rotation_est\n",
    "\n",
    "    return errors\n",
    "\n",
    "def residuals_base_sudden(params, num_trials, data_errors, RTs):\n",
    "#   model_errors = base_model_sudden(num_trials, params[0], params[1])\n",
    "    model_errors = base_model_sudden(num_trials, RTs, params[0], params[1], params[2])\n",
    "    residual_error = np.sum(np.square(model_errors - data_errors))\n",
    "    #if params[0] > params[2]:\n",
    "    #    residual_error = residual_error + 1000000\n",
    "    #if params[1] < params[3]:\n",
    "    #    residual_error = residual_error + 1000000\n",
    "    if params[0] < 0 or params[1] < 0 or params[2] < 0:# or params[3] < 0:\n",
    "        residual_error = residual_error + 1000000\n",
    "    if params[0] > 1 or params[1] > 1 or params[2] > 1:# or params[3] < 0:\n",
    "        residual_error = residual_error + 1000000\n",
    "\n",
    "    return residual_error\n",
    "\n",
    "def residuals_base_gradual(params, num_trials, data_errors, RTs):\n",
    "#   model_errors = base_model_sudden(num_trials, params[0], params[1])\n",
    "    model_errors = base_model_gradual(num_trials, RTs, params[0], params[1], params[2])\n",
    "    residual_error = np.sum(np.square(model_errors - data_errors))\n",
    "    #if params[0] > params[2]:\n",
    "    #    residual_error = residual_error + 1000000\n",
    "    #if params[1] < params[3]:\n",
    "    #    residual_error = residual_error + 1000000\n",
    "    if params[0] < 0 or params[1] < 0 or params[2] < 0:# or params[3] < 0:\n",
    "        residual_error = residual_error + 1000000\n",
    "    if params[0] > 1 or params[1] > 1 or params[2] > 1:# or params[3] < 0:\n",
    "        residual_error = residual_error + 1000000\n",
    "\n",
    "    return residual_error"
   ]
  },
  {
   "cell_type": "code",
   "execution_count": 1076,
   "metadata": {},
   "outputs": [
    {
     "name": "stderr",
     "output_type": "stream",
     "text": [
      "C:\\Users\\Tejas\\Anaconda3\\lib\\site-packages\\ipykernel_launcher.py:12: RuntimeWarning: overflow encountered in double_scalars\n",
      "  if sys.path[0] == '':\n",
      "C:\\Users\\Tejas\\Anaconda3\\lib\\site-packages\\ipykernel_launcher.py:12: RuntimeWarning: invalid value encountered in double_scalars\n",
      "  if sys.path[0] == '':\n",
      "C:\\Users\\Tejas\\Anaconda3\\lib\\site-packages\\ipykernel_launcher.py:41: RuntimeWarning: overflow encountered in square\n",
      "C:\\Users\\Tejas\\Anaconda3\\lib\\site-packages\\numpy\\core\\fromnumeric.py:90: RuntimeWarning: overflow encountered in reduce\n",
      "  return ufunc.reduce(obj, axis, dtype, out, **passkwargs)\n",
      "C:\\Users\\Tejas\\Anaconda3\\lib\\site-packages\\scipy\\optimize\\optimize.py:597: RuntimeWarning: invalid value encountered in subtract\n",
      "  numpy.max(numpy.abs(fsim[0] - fsim[1:])) <= fatol):\n"
     ]
    },
    {
     "data": {
      "text/plain": [
       "                        fun: 149691.22282237012\n",
       " lowest_optimization_result:  final_simplex: (array([[0.99844346, 1.        , 0.00763147],\n",
       "       [0.99844351, 0.99999977, 0.00763136],\n",
       "       [0.99844355, 0.99999994, 0.0076313 ],\n",
       "       [0.9984435 , 0.99999926, 0.00763139]]), array([149691.22282237, 149691.22287292, 149691.22289002, 149691.22292078]))\n",
       "           fun: 149691.22282237012\n",
       "       message: 'Optimization terminated successfully.'\n",
       "          nfev: 547\n",
       "           nit: 306\n",
       "        status: 0\n",
       "       success: True\n",
       "             x: array([0.99844346, 1.        , 0.00763147])\n",
       "                    message: ['requested number of basinhopping iterations completed successfully']\n",
       "      minimization_failures: 65\n",
       "                       nfev: 52312\n",
       "                        nit: 100\n",
       "                          x: array([0.99844346, 1.        , 0.00763147])"
      ]
     },
     "execution_count": 1076,
     "metadata": {},
     "output_type": "execute_result"
    }
   ],
   "source": [
    "scipy.optimize.basinhopping(residuals_base_sudden, x0=[0.1, 0.1, 0.1], minimizer_kwargs={'args': (640, np.ravel(curvatures[1][1:-1]), np.ravel(its[1][1:-1])), 'method': 'Nelder-Mead'}, stepsize=0.5)"
   ]
  },
  {
   "cell_type": "markdown",
   "metadata": {},
   "source": [
    "# Read RT Data"
   ]
  },
  {
   "cell_type": "code",
   "execution_count": 1303,
   "metadata": {},
   "outputs": [],
   "source": [
    "def times(data, block):\n",
    "    initial_time = scipy.io.loadmat('data/data{data}/initial_time/initial_time{block}.mat'.format(block=str(block), data=str(data)))\n",
    "    movement_time = scipy.io.loadmat('data/data{data}/movement_time/movement_time{block}.mat'.format(block = str(block), data=str(data)))\n",
    "    #squares = scipy.io.loadmat('data/participants/data{data}/squares/coordinates/squares{block}.mat'.format(block=str(block), data=str(data)))\n",
    "    #xdiff = (ideal_traj['idealXs'] - traj['x'])\n",
    "    #ydiff = (ideal_traj['idealYs'] - traj['y'])\n",
    "    initial_time = initial_time['initial_time'][:, 0]\n",
    "    movement_time = movement_time['movement_time'][:, 0]\n",
    "    return initial_time, movement_time\n",
    "def get_times():\n",
    "    initial_times = np.zeros((60, 12, 64))\n",
    "    movement_times = np.zeros((60, 12, 64))\n",
    "    for participant in range(60):\n",
    "        for block in range(12):\n",
    "            it, mt = times(participant+1000, block)\n",
    "            initial_times[participant, block] = it\n",
    "            movement_times[participant, block] = mt\n",
    "    return initial_times, movement_times\n",
    "its, mts = get_times()"
   ]
  },
  {
   "cell_type": "code",
   "execution_count": 1304,
   "metadata": {},
   "outputs": [],
   "source": [
    "#Divide the whole thing into 16 trial blocks and fit them\n",
    "def run_fits(curvatures, RTs, num_trials, part_size, first):\n",
    "    num_parts = int((num_trials-first)/part_size)\n",
    "    fit_A = np.zeros((60, num_parts))\n",
    "    fit_B = np.zeros((60, num_parts))\n",
    "    fit_m = np.zeros((60, num_parts))\n",
    "    fit_bias = np.zeros((60, num_parts))\n",
    "    fit_V = np.full((60, num_parts), np.inf)\n",
    "    fit_success = np.zeros((60, num_parts))\n",
    "    fit_num = 0\n",
    "    #starting_points = np.array([[0.5, 0.6], [0.4, 0.7], [0.3, 0.8], [0.2, 0.9], [0.1, 0.99], [0.9, 0.2], [0.99, 0.1], [0.8, 0.3], [0.7, 0.4], [0.6, 0.5]])\n",
    "    \n",
    "    #A = np.log(params[0]/(1-params[0]))\n",
    "    #B = np.log(params[1]/(1-params[1]))\n",
    "\n",
    "#    starting_points = np.array([[np.log(0.999/(1 - 0.999)), np.log(0.002/(1 - 0.002))]])\n",
    "    starting_points = np.array([[0.999, 0.002, 0.1]])\n",
    "\n",
    "    for curr_trial in range(first, num_trials, part_size):\n",
    "        for participant in range(60):\n",
    "            for initial_point in starting_points:\n",
    "                if participant%4 == 0 or participant%4 == 1:\n",
    "                #print (np.nan_to_num(np.ravel(curvatures[participant])[first:first+part_size], nan = np.nanmedian(np.ravel(curvatures[participant])[first:first+part_size])))\n",
    "                #popt, pcov = curve_fit(base_model_sudden, part_size, np.nan_to_num(np.ravel(curvatures[participant])[curr_trial:curr_trial+part_size], nan = np.nanmedian(np.ravel(curvatures[participant])[curr_trial:curr_trial+part_size])), bounds=((0, 0), (1, np.inf)))\n",
    "                    #fits = scipy.optimize.minimize(residuals_base_sudden, x0 = [initial_point[0], initial_point[1]], args = (part_size, np.nan_to_num(np.ravel(curvatures[participant])[curr_trial:curr_trial+part_size], nan = np.nanmedian(np.ravel(curvatures[participant])[curr_trial:curr_trial+part_size]))), method = 'Nelder-Mead')\n",
    "                    fits = scipy.optimize.basinhopping(residuals_base_sudden, x0 = [initial_point[0], initial_point[1], initial_point[2]], minimizer_kwargs={'args': (part_size, np.nan_to_num(np.ravel(curvatures[participant])[curr_trial:curr_trial+part_size], nan = np.nanmedian(np.ravel(curvatures[participant])[curr_trial:curr_trial+part_size])), np.nan_to_num(np.ravel(RTs[participant])[curr_trial:curr_trial+part_size], nan = np.nanmedian(np.ravel(RTs[participant])[curr_trial:curr_trial+part_size]))), 'method': 'Nelder-Mead'}, stepsize=0.05)\n",
    "                    \n",
    "                    if fits.fun < fit_V[participant][fit_num]:\n",
    "                        fit_A[participant][fit_num] = fits.x[0]\n",
    "                        fit_B[participant][fit_num] = fits.x[1]\n",
    "                        fit_m[participant][fit_num] = fits.x[2]\n",
    "                        #fit_bias[participant][fit_num] = fits.x[2]\n",
    "                        fit_V[participant][fit_num] = fits.fun\n",
    "                        #fit_success[participant][fit_num] = fits.success   \n",
    "                    print (fits.fun)\n",
    "                else:\n",
    "                    #popt, pcov = curve_fit(base_model_gradual, part_size, np.nan_to_num(np.ravel(curvatures[participant])[curr_trial:curr_trial+part_size], nan = np.nanmedian(np.ravel(curvatures[participant])[curr_trial:curr_trial+part_size])), bounds=((0, 0), (1, np.inf)))\n",
    "                    #fits = scipy.optimize.minimize(residuals_base_gradual, x0 = [initial_point[0], initial_point[1]], args = (part_size, np.nan_to_num(np.ravel(curvatures[participant])[curr_trial:curr_trial+part_size], nan = np.nanmedian(np.ravel(curvatures[participant])[curr_trial:curr_trial+part_size]))), method = 'Nelder-Mead')\n",
    "                    fits = scipy.optimize.basinhopping(residuals_base_gradual, x0 = [initial_point[0], initial_point[1], initial_point[2]], minimizer_kwargs={'args': (part_size, np.nan_to_num(np.ravel(curvatures[participant])[curr_trial:curr_trial+part_size], nan = np.nanmedian(np.ravel(curvatures[participant])[curr_trial:curr_trial+part_size])), np.nan_to_num(np.ravel(its[participant])[curr_trial:curr_trial+part_size], nan = np.nanmedian(np.ravel(RTs[participant])[curr_trial:curr_trial+part_size]))), 'method': 'Nelder-Mead'}, stepsize = 0.05)\n",
    "                    \n",
    "                    if fits.fun < fit_V[participant][fit_num]:\n",
    "                        fit_A[participant][fit_num] = fits.x[0]\n",
    "                        fit_B[participant][fit_num] = fits.x[1]\n",
    "                        fit_m[participant][fit_num] = fits.x[2]\n",
    "                        #fit_bias[participant][fit_num] = fits.x[2]\n",
    "                        fit_V[participant][fit_num] = fits.fun\n",
    "                        #fit_success[participant][fit_num] = fits.success\n",
    "                    print (participant, fits.fun)\n",
    "\n",
    "        fit_num = fit_num + 1\n",
    "    return fit_A, fit_B, fit_m, fit_V\n",
    "        "
   ]
  },
  {
   "cell_type": "code",
   "execution_count": 1078,
   "metadata": {},
   "outputs": [
    {
     "name": "stdout",
     "output_type": "stream",
     "text": [
      "73084.2562164568\n",
      "41385.02307103401\n"
     ]
    },
    {
     "name": "stderr",
     "output_type": "stream",
     "text": [
      "C:\\Users\\Tejas\\Anaconda3\\lib\\site-packages\\ipykernel_launcher.py:56: RuntimeWarning: overflow encountered in square\n"
     ]
    },
    {
     "name": "stdout",
     "output_type": "stream",
     "text": [
      "2 29083.159083770457\n"
     ]
    },
    {
     "name": "stderr",
     "output_type": "stream",
     "text": [
      "C:\\Users\\Tejas\\Anaconda3\\lib\\site-packages\\ipykernel_launcher.py:32: RuntimeWarning: overflow encountered in double_scalars\n"
     ]
    },
    {
     "name": "stdout",
     "output_type": "stream",
     "text": [
      "3 16118.837872351158\n",
      "30538.000274869097\n",
      "19557.300323573756\n",
      "6 7162.663771211834\n",
      "7 15698.171441864211\n",
      "58437.19884830325\n",
      "72325.93998511901\n",
      "10 29013.455965402572\n",
      "11 9663.924076137588\n",
      "51025.04584334252\n",
      "61146.26630527824\n",
      "14 37607.25622185263\n",
      "15 3823.7398953154743\n",
      "47881.34373083387\n",
      "1006747.3873056432\n",
      "18 24979.33126022096\n",
      "19 11941.199008060254\n",
      "61346.42381847104\n",
      "43727.48448561174\n",
      "22 75475.13053745002\n",
      "23 25390.04452183286\n",
      "71756.46965518364\n"
     ]
    },
    {
     "name": "stderr",
     "output_type": "stream",
     "text": [
      "C:\\Users\\Tejas\\Anaconda3\\lib\\site-packages\\ipykernel_launcher.py:41: RuntimeWarning: overflow encountered in square\n",
      "C:\\Users\\Tejas\\Anaconda3\\lib\\site-packages\\ipykernel_launcher.py:12: RuntimeWarning: overflow encountered in double_scalars\n",
      "  if sys.path[0] == '':\n",
      "C:\\Users\\Tejas\\Anaconda3\\lib\\site-packages\\ipykernel_launcher.py:12: RuntimeWarning: invalid value encountered in double_scalars\n",
      "  if sys.path[0] == '':\n",
      "C:\\Users\\Tejas\\Anaconda3\\lib\\site-packages\\ipykernel_launcher.py:12: RuntimeWarning: overflow encountered in exp\n",
      "  if sys.path[0] == '':\n"
     ]
    },
    {
     "name": "stdout",
     "output_type": "stream",
     "text": [
      "26826.36155989761\n",
      "26 41033.13455620364\n",
      "27 35885.90558999058\n",
      "196579.39702343792\n",
      "61448.16736458981\n",
      "30 35192.631293892235\n",
      "31 8680.651040701843\n",
      "34910.68474088441\n",
      "43663.96305463285\n",
      "34 14563.969353074928\n",
      "35 6713.603370884623\n",
      "188691.532168561\n",
      "139394.62439498163\n",
      "38 43074.874234719406\n",
      "39 5724.079247272004\n",
      "43035.051284081186\n",
      "39080.30406381977\n",
      "42 84611.61422119517\n",
      "43 6115.443408124465\n",
      "35237.32709126566\n",
      "84453.68721782541\n",
      "46 25969.395133024354\n",
      "47 13131.361407996916\n",
      "116577.88042599976\n",
      "60770.96466117428\n",
      "50 31920.282429931867\n",
      "51 16112.342822534414\n",
      "88150.41100366821\n",
      "66942.11120214192\n",
      "54 48964.20101068852\n",
      "55 20097.9937156889\n",
      "55516.43384109538\n",
      "15223.926848059815\n",
      "58 23998.60092746016\n",
      "59 10569.329883353443\n"
     ]
    }
   ],
   "source": [
    "fit_A, fit_B, fit_m, fit_V = run_fits(curvatures_smooth, its, 704, 640, 64)"
   ]
  },
  {
   "cell_type": "code",
   "execution_count": 1305,
   "metadata": {},
   "outputs": [],
   "source": [
    "def plot_data_vs_fits(its, fit_A, fit_B, fit_m):\n",
    "    plt.figure(figsize = (20, 10))\n",
    "    errors_predict = np.zeros((60, 704))\n",
    "\n",
    "    for participant in range(60):\n",
    "        if participant % 4 == 0 or participant%4 == 1:\n",
    "            errors_predict[participant][:640] = base_model_sudden(640,np.ravel(its[participant][1:-1]), fit_A_unbound_smooth_additive[participant], fit_B_unbound_smooth_additive[participant], fit_m_unbound_smooth_additive[participant])\n",
    "\n",
    "        else:    \n",
    "            errors_predict[participant][:640] = base_model_gradual(640, np.ravel(its[participant][1:-1]), fit_A_unbound_smooth_additive[participant], fit_B_unbound_smooth_additive[participant], fit_m_unbound_smooth_additive[participant])\n",
    "\n",
    "        #errors_predict[participant][640:] = base_model_transfer(64, fit_A[participant], fit_B[participant])\n",
    "\n",
    "    for participant in range(4):\n",
    "        if participant % 4 == 0 or participant%4 == 1:\n",
    "            plt.subplot(4, 1, participant + 1 )\n",
    "            plt.plot(np.mean(errors_predict[participant::4], axis = 0))\n",
    "            plt.plot(np.ravel(np.mean(curvatures_smooth[participant::4], axis = 0)[1:]))\n",
    "        else:\n",
    "            plt.subplot(4, 1, participant + 1 )\n",
    "            plt.plot(np.mean(errors_predict[participant::4], axis = 0))\n",
    "            plt.plot(np.ravel(np.mean(curvatures_smooth[participant::4], axis = 0)[1:]))\n",
    "        plt.ylim((0, 100))\n"
   ]
  },
  {
   "cell_type": "code",
   "execution_count": 1306,
   "metadata": {},
   "outputs": [
    {
     "name": "stderr",
     "output_type": "stream",
     "text": [
      "C:\\Users\\Tejas\\Anaconda3\\lib\\site-packages\\ipykernel_launcher.py:12: RuntimeWarning: overflow encountered in multiply\n",
      "  if sys.path[0] == '':\n",
      "C:\\Users\\Tejas\\Anaconda3\\lib\\site-packages\\ipykernel_launcher.py:34: RuntimeWarning: overflow encountered in multiply\n"
     ]
    },
    {
     "data": {
      "image/png": "[encoded data removed]",
      "text/plain": [
       "<Figure size 1440x720 with 4 Axes>"
      ]
     },
     "metadata": {
      "needs_background": "light"
     },
     "output_type": "display_data"
    }
   ],
   "source": [
    "plot_data_vs_fits(its, fit_A_bound_smooth_multiplicative, fit_B_bound_smooth_multiplicative, fit_m_bound_smooth_multiplicative)"
   ]
  },
  {
   "cell_type": "code",
   "execution_count": 1290,
   "metadata": {},
   "outputs": [],
   "source": [
    "def plot_fits(fit_A, fit_B, x_label, y_label):\n",
    "    x = np.array([np.nanmean(fit_A[0::4, :], axis = 0), np.nanmean(fit_A[1::4, :], axis = 0), np.nanmean(fit_A[2::4, :], axis = 0), np.nanmean(fit_A[3::4, :], axis = 0)])\n",
    "    y = np.array([np.nanmean(fit_B[0::4, :], axis = 0), np.nanmean(fit_B[1::4, :], axis = 0), np.nanmean(fit_B[2::4, :], axis = 0), np.nanmean(fit_B[3::4, :], axis = 0)])\n",
    "    x_err = np.array([stat.sem(fit_A[0::4, :], axis = 0), stat.sem(fit_A[1::4, :], axis = 0), stat.sem(fit_A[2::4, :], axis = 0), stat.sem(fit_A[3::4, :], axis = 0)])\n",
    "    y_err = np.array([stat.sem(fit_B[0::4, :], axis = 0), stat.sem(fit_B[1::4, :], axis = 0), stat.sem(fit_B[2::4, :], axis = 0), stat.sem(fit_B[3::4, :], axis = 0)])\n",
    "    #x_err = np.array([stat.tstd(fit_A[0::4, :], axis = 0), stat.tstd(fit_A[1::4, :], axis = 0), stat.tstd(fit_A[2::4, :], axis = 0), stat.tstd(fit_A[3::4, :], axis = 0)])\n",
    "    #y_err = np.array([stat.tstd(fit_B[0::4, :], axis = 0), stat.tstd(fit_B[1::4, :], axis = 0), stat.tstd(fit_B[2::4, :], axis = 0), stat.tstd(fit_B[3::4, :], axis = 0)])\n",
    "\n",
    "    #x_conf_interval = np.array(stat.norm.interval(0.83, loc = x, scale = x_err))\n",
    "    #y_conf_interval = np.array(stat.norm.interval(0.83, loc = y, scale = y_err))\n",
    "    x_CI = x - np.array(stat.norm.interval(0.95, loc = x, scale = x_err))[0, :], np.array(stat.norm.interval(0.95, loc = x, scale = x_err))[1, :] - x\n",
    "    y_CI = y - np.array(stat.norm.interval(0.95, loc = y, scale = y_err))[0, :], np.array(stat.norm.interval(0.95, loc = y, scale = y_err))[1, :] - y\n",
    "\n",
    "\n",
    "    #print (x_conf_interval[:, 0])\n",
    "    #plt.errorbar(x, y, xerr = x_err, yerr = y_err, linestyle = 'None', capsize = 3)\n",
    "    plot0 = plt.errorbar(x[0], y[0], xerr = [x_CI[0][0], x_CI[1][0]], yerr = [y_CI[0][0], y_CI[1][0]], capsize = 3)\n",
    "    plot1 = plt.errorbar(x[1], y[1], xerr = [x_CI[0][1], x_CI[1][1]], yerr = [y_CI[0][1], y_CI[1][1]], capsize = 3)\n",
    "    plot2 = plt.errorbar(x[2], y[2], xerr = [x_CI[0][2], x_CI[1][2]], yerr = [y_CI[0][2], y_CI[1][2]], capsize = 3)\n",
    "    plot3 = plt.errorbar(x[3], y[3], xerr = [x_CI[0][3], x_CI[1][3]], yerr = [y_CI[0][3], y_CI[1][3]], capsize = 3)\n",
    "\n",
    "    #plot0 = plt.scatter(fit_A[0::4], fit_B[0::4])\n",
    "    #plot1 = plt.scatter(fit_A[1::4], fit_B[1::4])\n",
    "    #plot2 = plt.scatter(fit_A[2::4], fit_B[2::4])\n",
    "    #plot3 = plt.scatter(fit_A[3::4], fit_B[3::4])\n",
    "\n",
    "    plt.legend((plot0, plot1, plot2, plot3), ('Sudden Speed', 'Sudden Accuracy', 'Gradual Speed', 'Gradual Accuracy'))\n",
    "    plt.xlabel(x_label)\n",
    "    plt.ylabel(y_label)"
   ]
  },
  {
   "cell_type": "code",
   "execution_count": 1308,
   "metadata": {},
   "outputs": [
    {
     "data": {
      "image/png": "[encoded data removed]",
      "text/plain": [
       "<Figure size 432x288 with 1 Axes>"
      ]
     },
     "metadata": {
      "needs_background": "light"
     },
     "output_type": "display_data"
    }
   ],
   "source": [
    "#plot_fits(np.reshape(np.mean(np.nanmedian(its, axis = 2), axis = 1), (60, 1)), fit_m, \"Mean ITs\", \"fit_m\")\n",
    "plot_fits(fit_A_bound_smooth_multiplicative, fit_mb, \"fit_A\", \"fit_m\")"
   ]
  },
  {
   "cell_type": "markdown",
   "metadata": {},
   "source": [
    "## Adding RT to dual state model"
   ]
  },
  {
   "cell_type": "code",
   "execution_count": 1418,
   "metadata": {},
   "outputs": [],
   "source": [
    "def dual_model_sudden_rts(num_trials, rts, Af, Bf, As, Bs, m):\n",
    "    errors = np.zeros((num_trials))\n",
    "    rotation = 90\n",
    "    fast_est = 0\n",
    "    slow_est = 0\n",
    "    rotation_est = fast_est + slow_est\n",
    "    for trial in range(num_trials - 1):\n",
    "        errors[trial] = rotation - rotation_est\n",
    "        #print(errors[trial])\n",
    "        fast_est = Af*fast_est + Bf*errors[trial]\n",
    "        slow_est = As*slow_est + Bs*errors[trial]\n",
    "        rotation_est = fast_est + slow_est + m*rts[trial+1]\n",
    "        #print (rotation_est)\n",
    "    errors[trial+1] = rotation - rotation_est\n",
    "    return errors\n",
    "\n",
    "def dual_model_gradual_rts(num_trials, rts, Af, Bf, As, Bs, m):\n",
    "    errors = np.zeros((num_trials))\n",
    "    fast_est = 0\n",
    "    slow_est = 0\n",
    "    rotation_est = 0\n",
    "    rotation = 0\n",
    "    for trial in range(num_trials-1):\n",
    "        if trial%64 == 0:\n",
    "            rotation = rotation + 10\n",
    "        if rotation > 90:\n",
    "            rotation = 90\n",
    "        errors[trial] = rotation - rotation_est\n",
    "        #print(errors[trial])\n",
    "        fast_est = Af*fast_est + Bf*errors[trial]\n",
    "        slow_est = As*slow_est + Bs*errors[trial]\n",
    "        rotation_est = fast_est + slow_est + m*rts[trial+1]\n",
    "        #print (rotation_est)\n",
    "    errors[trial+1] = rotation - rotation_est\n",
    "    return errors\n"
   ]
  },
  {
   "cell_type": "code",
   "execution_count": 1419,
   "metadata": {},
   "outputs": [],
   "source": [
    "def residuals_sudden_rts(params, num_trials, data_errors, rts):\n",
    "    model_errors = dual_model_sudden_rts(num_trials, rts, params[0], params[1], params[2], params[3], params[4])\n",
    "    residual_error = np.sum(np.square(model_errors - data_errors))\n",
    "    if params[0] > params[2]:\n",
    "        residual_error = residual_error + 10000000\n",
    "    if params[1] < params[3]:\n",
    "        residual_error = residual_error + 10000000\n",
    "    if params[0] < 0 or params[1] < 0 or params[2] < 0 or params[3] < 0:\n",
    "        residual_error = residual_error + 10000000\n",
    "    return residual_error\n",
    "\n",
    "def residuals_gradual_rts(params, num_trials, data_errors, rts):\n",
    "    model_errors = dual_model_gradual_rts(num_trials, rts, params[0], params[1], params[2], params[3], params[4])\n",
    "    residual_error = np.sum(np.square(model_errors - data_errors))\n",
    "    if params[0] > params[2]:\n",
    "        residual_error = residual_error + 10000000\n",
    "    if params[1] < params[3]:\n",
    "        residual_error = residual_error + 10000000\n",
    "    if params[0] < 0 or params[1] < 0 or params[2] < 0 or params[3] < 0:\n",
    "        residual_error = residual_error + 10000000\n",
    "    return residual_error"
   ]
  },
  {
   "cell_type": "code",
   "execution_count": 1439,
   "metadata": {},
   "outputs": [],
   "source": [
    "#Divide the whole thing into 16 trial blocks and fit them\n",
    "def run_fits_dual_rts(curvatures, rts, num_trials, part_size, fit_A, fit_B):\n",
    "    num_fits = int(num_trials/part_size)\n",
    "    fit_As = np.zeros((60, num_fits))\n",
    "    fit_Bs = np.zeros((60, num_fits))\n",
    "    fit_Af = np.zeros((60, num_fits))\n",
    "    fit_Bf = np.zeros((60, num_fits))\n",
    "    fit_V = np.full((60, num_fits), np.inf)\n",
    "    fit_m = np.zeros((60, num_fits))\n",
    "    fit_success = np.zeros((60, num_fits))\n",
    "\n",
    "    for participant in range(60):\n",
    "        for fit_parts in range(num_fits):\n",
    "            #starting_points = np.array([[fit_A[participant][fit_parts], fit_B[participant][fit_parts], 0.9, 0.2], [fit_A[participant][fit_parts], fit_B[participant][fit_parts], 0.99, 0.1], [fit_A[participant][fit_parts], fit_B[participant][fit_parts], 0.8, 0.3], [fit_A[participant][fit_parts], fit_B[participant][fit_parts], 0.7, 0.4], [fit_A[participant][fit_parts], fit_B[participant][fit_parts], 0.6, 0.5], [fit_A[participant][fit_parts], fit_B[participant][fit_parts], 0.5, 0.6], [fit_A[participant][fit_parts], fit_B[participant][fit_parts], 0.4, 0.7], [fit_A[participant][fit_parts], fit_B[participant][fit_parts], 0.3, 0.8], [fit_A[participant][fit_parts], fit_B[participant][fit_parts], 0.2, 0.9], [fit_A[participant][fit_parts], fit_B[participant][fit_parts], 0.1, 0.99],\n",
    "            #                [0.9, 0.2, fit_A[participant][fit_parts], fit_B[participant][fit_parts]], [0.99, 0.1, fit_A[participant][fit_parts], fit_B[participant][fit_parts]], [0.8, 0.3, fit_A[participant][fit_parts], fit_B[participant][fit_parts]], [0.7, 0.4, fit_A[participant][fit_parts], fit_B[participant][fit_parts]], [0.6, 0.5, fit_A[participant][fit_parts], fit_B[participant][fit_parts]], [0.5, 0.6, fit_A[participant][fit_parts], fit_B[participant][fit_parts]], [0.4, 0.7, fit_A[participant][fit_parts], fit_B[participant][fit_parts]], [0.3, 0.8, fit_A[participant][fit_parts], fit_B[participant][fit_parts]], [0.2, 0.9, fit_A[participant][fit_parts], fit_B[participant][fit_parts]], [0.1, 0.99, fit_A[participant][fit_parts], fit_B[participant][fit_parts]]])\n",
    "            #starting_points = np.array([[0.9, 0.2, 0.99, 0.02], [0.8, 0.3, 0.9, 0.03], [0.7, 0.4, 0.8, 0.04], [0.6, 0.5, 0.7, 0.05]])\n",
    "            starting_points = np.array([[0.9, 0.2, 0.99, 0.02, 0.1]])\n",
    "            for initial_point in starting_points:\n",
    "                if participant%4 == 0 or participant%4 == 1:      \n",
    "                    #fits = scipy.optimize.minimize(residuals_sudden, x0 = [initial_point[0], initial_point[1], initial_point[2], initial_point[3]], args = (640, np.nan_to_num(np.ravel(curvatures[participant][1:-1]), nan = np.nanmedian(curvatures[participant][1:-1]))), method = 'Nelder-Mead')            \n",
    "                    fits = scipy.optimize.basinhopping(residuals_sudden_rts, x0 = [initial_point[0], initial_point[1], initial_point[2], initial_point[3], initial_point[4]], minimizer_kwargs={'args': (640, np.nan_to_num(np.ravel(curvatures[participant][1:-1]), nan = np.nanmedian(curvatures[participant][1:-1])), np.ravel(rts[participant][1:-1])), 'method': 'Nelder-Mead'})\n",
    "                    \n",
    "                    if fits.fun < fit_V[participant][fit_parts]:\n",
    "                        fit_Af[participant][fit_parts] = fits.x[0]\n",
    "                        fit_Bf[participant][fit_parts] = fits.x[1]\n",
    "                        fit_As[participant][fit_parts] = fits.x[2]\n",
    "                        fit_Bs[participant][fit_parts] = fits.x[3]\n",
    "                        fit_m[participant][fit_parts] = fits.x[4]\n",
    "                        fit_V[participant][fit_parts] = fits.fun\n",
    "                        #fit_success[participant][fit_parts] = fits.success                \n",
    "                else:\n",
    "                    #fits = scipy.optimize.minimize(residuals_gradual, x0 = [initial_point[0], initial_point[1], initial_point[2], initial_point[3]], args = (640, np.nan_to_num(np.ravel(curvatures[participant][1:-1]), nan = np.nanmedian(curvatures[participant][1:-1]))), method = 'Nelder-Mead')         \n",
    "                    fits = scipy.optimize.basinhopping(residuals_gradual_rts, x0 = [initial_point[0], initial_point[1], initial_point[2], initial_point[3], initial_point[4]], minimizer_kwargs={'args': (640, np.nan_to_num(np.ravel(curvatures[participant][1:-1]), nan = np.nanmedian(curvatures[participant][1:-1])), np.ravel(rts[participant][1:-1])), 'method': 'Nelder-Mead'})\n",
    "                    if fits.fun < fit_V[participant][fit_parts]:\n",
    "                        fit_Af[participant][fit_parts] = fits.x[0]\n",
    "                        fit_Bf[participant][fit_parts] = fits.x[1]\n",
    "                        fit_As[participant][fit_parts] = fits.x[2]\n",
    "                        fit_Bs[participant][fit_parts] = fits.x[3]\n",
    "                        fit_m[participant][fit_parts] = fits.x[4]\n",
    "                        fit_V[participant][fit_parts] = fits.fun\n",
    "                        #fit_success[participant][fit_parts] = fits.success\n",
    "\n",
    "        print (participant, fits.fun)\n",
    "    return fit_Af, fit_Bf, fit_As, fit_Bs, fit_m, fit_V, fit_success\n",
    "        "
   ]
  },
  {
   "cell_type": "code",
   "execution_count": 1440,
   "metadata": {},
   "outputs": [
    {
     "name": "stderr",
     "output_type": "stream",
     "text": [
      "C:\\Users\\Tejas\\Anaconda3\\lib\\site-packages\\ipykernel_launcher.py:3: RuntimeWarning: overflow encountered in square\n",
      "  This is separate from the ipykernel package so we can avoid doing imports until\n",
      "C:\\Users\\Tejas\\Anaconda3\\lib\\site-packages\\scipy\\optimize\\optimize.py:597: RuntimeWarning: invalid value encountered in subtract\n",
      "  numpy.max(numpy.abs(fsim[0] - fsim[1:])) <= fatol):\n"
     ]
    },
    {
     "name": "stdout",
     "output_type": "stream",
     "text": [
      "0 60101.16713775586\n"
     ]
    },
    {
     "name": "stderr",
     "output_type": "stream",
     "text": [
      "C:\\Users\\Tejas\\Anaconda3\\lib\\site-packages\\numpy\\core\\fromnumeric.py:90: RuntimeWarning: overflow encountered in reduce\n",
      "  return ufunc.reduce(obj, axis, dtype, out, **passkwargs)\n"
     ]
    },
    {
     "name": "stdout",
     "output_type": "stream",
     "text": [
      "1 28492.47287228045\n"
     ]
    },
    {
     "name": "stderr",
     "output_type": "stream",
     "text": [
      "C:\\Users\\Tejas\\Anaconda3\\lib\\site-packages\\ipykernel_launcher.py:14: RuntimeWarning: overflow encountered in square\n",
      "  \n"
     ]
    },
    {
     "name": "stdout",
     "output_type": "stream",
     "text": [
      "2 26562.884875103326\n",
      "3 15357.120255823917\n",
      "4 22765.60661455324\n",
      "5 13830.303176061465\n",
      "6 6500.164170428884\n",
      "7 14766.289000959165\n",
      "8 30273.5706032731\n",
      "9 51121.63856662554\n",
      "10 28723.528540280975\n",
      "11 8546.15521261914\n",
      "12 51044.35173127553\n",
      "13 31150.160564323214\n",
      "14 36705.99339556173\n",
      "15 2695.110885851627\n",
      "16 35727.61500415551\n",
      "17 4666.247983269219\n",
      "18 23255.82024157039\n",
      "19 11380.184368668673\n",
      "20 34370.103387597046\n",
      "21 33004.0717762647\n",
      "22 73274.92049820666\n",
      "23 22288.978439971645\n",
      "24 65766.51001519524\n",
      "25 16754.813002621464\n",
      "26 36332.311974953096\n",
      "27 26132.14418162084\n",
      "28 191189.89820324216\n",
      "29 53533.091921774976\n",
      "30 29438.253955711014\n",
      "31 7394.790744828155\n",
      "32 18413.889929523466\n",
      "33 28099.36898486953\n",
      "34 13850.100770437615\n",
      "35 5324.303266030445\n",
      "36 169966.9630037552\n",
      "37 107612.66733055667\n",
      "38 40053.56162870704\n",
      "39 5535.019363124424\n",
      "40 31105.389284502544\n",
      "41 17832.86992831358\n",
      "42 88175.07552359784\n",
      "43 6119.464753267142\n",
      "44 32359.19360289553\n",
      "45 54281.59448798602\n",
      "46 24832.7427238171\n",
      "47 12180.17634753754\n",
      "48 101154.6978066203\n",
      "49 44586.38559876633\n",
      "50 31423.916006537955\n",
      "51 15496.701305535402\n",
      "52 50590.47039791722\n",
      "53 56988.10887707185\n",
      "54 49981.811202173005\n",
      "55 14890.808045618083\n",
      "56 38937.60811331171\n",
      "57 10648.920553806987\n",
      "58 23053.829884819224\n",
      "59 8519.979883243741\n"
     ]
    }
   ],
   "source": [
    "Af_rts, Bf_rts, As_rts, Bs_rts, m_rts, fit_V_dual_rts, fit_success_dual_rts = run_fits_dual_rts(curvatures_smooth, its, 640, 640, fit_A, fit_B)"
   ]
  },
  {
   "cell_type": "code",
   "execution_count": 1445,
   "metadata": {},
   "outputs": [],
   "source": [
    "df_A = pd.DataFrame({\"Emphasis\": np.tile([\"Speed\", \"Accuracy\"], 30),\n",
    "                   \"Rotation\": np.tile([\"Sudden\", \"Sudden\", \"Gradual\", \"Gradual\"], 15),\n",
    "                   \"fit_A\": Af_rts[:, 0]})\n",
    "\n",
    "model_A = ols('fit_A ~ C(Emphasis)*C(Rotation)', data = df_A).fit()\n",
    "\n",
    "aov_table_A = sm.stats.anova_lm(model_A)\n",
    "\n",
    "\n",
    "df_B = pd.DataFrame({\"Emphasis\": np.tile([\"Speed\", \"Accuracy\"], 30),\n",
    "                   \"Rotation\": np.tile([\"Sudden\", \"Sudden\", \"Gradual\", \"Gradual\"], 15),\n",
    "                   \"fit_B\": Bf_rts[:, 0]})\n",
    "\n",
    "model_B = ols('fit_B ~ C(Emphasis)*C(Rotation)', data = df_B).fit()\n",
    "aov_table_B = sm.stats.anova_lm(model_B)\n"
   ]
  },
  {
   "cell_type": "code",
   "execution_count": 1446,
   "metadata": {},
   "outputs": [
    {
     "data": {
      "text/html": [
       "<div>\n",
       "<style scoped>\n",
       "    .dataframe tbody tr th:only-of-type {\n",
       "        vertical-align: middle;\n",
       "    }\n",
       "\n",
       "    .dataframe tbody tr th {\n",
       "        vertical-align: top;\n",
       "    }\n",
       "\n",
       "    .dataframe thead th {\n",
       "        text-align: right;\n",
       "    }\n",
       "</style>\n",
       "<table border=\"1\" class=\"dataframe\">\n",
       "  <thead>\n",
       "    <tr style=\"text-align: right;\">\n",
       "      <th></th>\n",
       "      <th>df</th>\n",
       "      <th>sum_sq</th>\n",
       "      <th>mean_sq</th>\n",
       "      <th>F</th>\n",
       "      <th>PR(&gt;F)</th>\n",
       "    </tr>\n",
       "  </thead>\n",
       "  <tbody>\n",
       "    <tr>\n",
       "      <th>C(Emphasis)</th>\n",
       "      <td>1.0</td>\n",
       "      <td>0.120799</td>\n",
       "      <td>0.120799</td>\n",
       "      <td>5.475723</td>\n",
       "      <td>0.022872</td>\n",
       "    </tr>\n",
       "    <tr>\n",
       "      <th>C(Rotation)</th>\n",
       "      <td>1.0</td>\n",
       "      <td>0.143691</td>\n",
       "      <td>0.143691</td>\n",
       "      <td>6.513380</td>\n",
       "      <td>0.013462</td>\n",
       "    </tr>\n",
       "    <tr>\n",
       "      <th>C(Emphasis):C(Rotation)</th>\n",
       "      <td>1.0</td>\n",
       "      <td>0.026320</td>\n",
       "      <td>0.026320</td>\n",
       "      <td>1.193058</td>\n",
       "      <td>0.279390</td>\n",
       "    </tr>\n",
       "    <tr>\n",
       "      <th>Residual</th>\n",
       "      <td>56.0</td>\n",
       "      <td>1.235409</td>\n",
       "      <td>0.022061</td>\n",
       "      <td>NaN</td>\n",
       "      <td>NaN</td>\n",
       "    </tr>\n",
       "  </tbody>\n",
       "</table>\n",
       "</div>"
      ],
      "text/plain": [
       "                           df    sum_sq   mean_sq         F    PR(>F)\n",
       "C(Emphasis)               1.0  0.120799  0.120799  5.475723  0.022872\n",
       "C(Rotation)               1.0  0.143691  0.143691  6.513380  0.013462\n",
       "C(Emphasis):C(Rotation)   1.0  0.026320  0.026320  1.193058  0.279390\n",
       "Residual                 56.0  1.235409  0.022061       NaN       NaN"
      ]
     },
     "execution_count": 1446,
     "metadata": {},
     "output_type": "execute_result"
    }
   ],
   "source": [
    "aov_table_B"
   ]
  },
  {
   "cell_type": "code",
   "execution_count": 198,
   "metadata": {},
   "outputs": [],
   "source": [
    "fit_V_unbound = fit_V\n",
    "fit_A_unbound = fit_A\n",
    "fit_B_unbound = fit_B\n",
    "fit_m_unbound = fit_m\n"
   ]
  },
  {
   "cell_type": "code",
   "execution_count": 1082,
   "metadata": {},
   "outputs": [],
   "source": [
    "fit_V_bound_smooth_multiplicative = fit_V\n",
    "fit_A_bound_smooth_multiplicative = fit_A\n",
    "fit_B_bound_smooth_multiplicative = fit_B\n",
    "fit_m_bound_smooth_multiplicative = fit_m\n"
   ]
  },
  {
   "cell_type": "code",
   "execution_count": 1054,
   "metadata": {},
   "outputs": [],
   "source": [
    "fit_V_bound_raw_multiplicative = fit_V\n",
    "fit_A_bound_raw_multiplicative = fit_A\n",
    "fit_B_bound_raw_multiplicative= fit_B\n",
    "fit_m_bound_raw_multiplicative = fit_m\n",
    "#fit_bias_bound_smooth = fit_bias\n"
   ]
  },
  {
   "cell_type": "code",
   "execution_count": 1065,
   "metadata": {},
   "outputs": [],
   "source": [
    "fit_V_bound_raw_additive = fit_V\n",
    "fit_A_bound_raw_additive = fit_A\n",
    "fit_B_bound_raw_additive = fit_B\n",
    "fit_m_bound_raw_additive = fit_m"
   ]
  },
  {
   "cell_type": "code",
   "execution_count": 1073,
   "metadata": {},
   "outputs": [],
   "source": [
    "fit_V_unbound_smooth_additive = fit_V\n",
    "fit_A_unbound_smooth_additive = fit_A\n",
    "fit_B_unbound_smooth_additive = fit_B\n",
    "fit_m_unbound_smooth_additive = fit_m"
   ]
  },
  {
   "cell_type": "markdown",
   "metadata": {},
   "source": [
    "# Direction-Wise analysis"
   ]
  },
  {
   "cell_type": "code",
   "execution_count": 484,
   "metadata": {},
   "outputs": [],
   "source": [
    "def get_targets():\n",
    "    targets = np.zeros((60, 12, 64))\n",
    "    for data in range(1000, 1060):\n",
    "        for block in range(12):\n",
    "            target_load = scipy.io.loadmat('data/data{data}/squares/squares{block}.mat'.format(block=str(block), data=str(data)))\n",
    "            targets[data-1000][block][:]= target_load['squares'][0]\n",
    "    return targets"
   ]
  },
  {
   "cell_type": "code",
   "execution_count": 487,
   "metadata": {},
   "outputs": [],
   "source": [
    "targets = get_targets()"
   ]
  },
  {
   "cell_type": "code",
   "execution_count": 699,
   "metadata": {},
   "outputs": [],
   "source": [
    "def target_specific_measures(targets, measure):\n",
    "    target_measure = np.zeros((60, 12, 4, 16))\n",
    "    for participant in range(60):\n",
    "        for block in range(12):\n",
    "            for target_loc in range(4):\n",
    "                target_measure[participant][block][target_loc] = measure[participant][block][np.where(targets[participant][block] == np.unique(targets[participant][block])[target_loc])]\n",
    "    return target_measure"
   ]
  },
  {
   "cell_type": "code",
   "execution_count": 948,
   "metadata": {},
   "outputs": [],
   "source": [
    "target_curvatures = target_specific_measures(targets, curvatures)\n",
    "target_its = target_specific_measures(targets, its)\n",
    "target_mts = target_specific_measures(targets, mts)"
   ]
  },
  {
   "cell_type": "code",
   "execution_count": null,
   "metadata": {},
   "outputs": [],
   "source": []
  },
  {
   "cell_type": "code",
   "execution_count": 950,
   "metadata": {},
   "outputs": [],
   "source": [
    "def difference_in_directions(condition, direction_considered, target_measure, title_text, y_label):\n",
    "    permutation = list()\n",
    "    permutation.append(direction_considered)\n",
    "        \n",
    "    for i in range(4):\n",
    "        if i == direction_considered:\n",
    "            continue\n",
    "        else:\n",
    "            permutation.append(i)\n",
    "    print (permutation)\n",
    "    idx = np.empty_like(permutation)\n",
    "    idx[permutation] = np.arange(len(permutation))\n",
    "\n",
    "    plot0, = plt.plot(np.ravel(np.nanmean(target_measure[condition::4, :, direction_considered, :], axis = 0)))\n",
    "    rearanged_measure = target_measure[:, :, idx, :]\n",
    "    plot1, = plt.plot(np.ravel(np.nanmean(np.mean(rearanged_measure[condition::4, :, 1:, :], axis = 0), axis = 1)))\n",
    "    plt.legend((plot0, plot1), ('Direction Considered', 'Mean of other directions'))\n",
    "    plt.title(title_text)\n",
    "    plt.xlabel('trials')\n",
    "    plt.ylabel(y_label)\n"
   ]
  },
  {
   "cell_type": "code",
   "execution_count": 951,
   "metadata": {},
   "outputs": [
    {
     "data": {
      "text/plain": [
       "<matplotlib.legend.Legend at 0x2406c168cf8>"
      ]
     },
     "execution_count": 951,
     "metadata": {},
     "output_type": "execute_result"
    },
    {
     "data": {
      "image/png": "[encoded data removed]",
      "text/plain": [
       "<Figure size 432x288 with 1 Axes>"
      ]
     },
     "metadata": {
      "needs_background": "light"
     },
     "output_type": "display_data"
    }
   ],
   "source": [
    "plot0, = plt.plot(np.ravel(np.mean(target_curvatures[3::4, :, 0, :], axis = 0)))\n",
    "plot1, = plt.plot(np.ravel(np.mean(np.mean(target_curvatures[3::4, :, 1:, :], axis = 0), axis = 1)))\n",
    "plt.legend((plot0, plot1), ('45 Degrees from Abscissa', 'Mean of other directions'))"
   ]
  },
  {
   "cell_type": "code",
   "execution_count": 961,
   "metadata": {},
   "outputs": [
    {
     "name": "stdout",
     "output_type": "stream",
     "text": [
      "[3, 0, 1, 2]\n"
     ]
    },
    {
     "data": {
      "image/png": "[encoded data removed]",
      "text/plain": [
       "<Figure size 432x288 with 1 Axes>"
      ]
     },
     "metadata": {
      "needs_background": "light"
     },
     "output_type": "display_data"
    }
   ],
   "source": [
    "difference_in_directions(condition = 0, direction_considered=3, target_measure=target_curvatures, title_text='Direction Considered: 315', y_label='Angular Errors')"
   ]
  },
  {
   "cell_type": "code",
   "execution_count": 657,
   "metadata": {},
   "outputs": [],
   "source": [
    "permutation = [1, 0, 2, 3]\n",
    "idx = np.empty_like(permutation)\n",
    "idx[permutation] = np.arange(len(permutation))\n"
   ]
  },
  {
   "cell_type": "code",
   "execution_count": 750,
   "metadata": {},
   "outputs": [
    {
     "data": {
      "text/plain": [
       "1.3517242999910697"
      ]
     },
     "execution_count": 750,
     "metadata": {},
     "output_type": "execute_result"
    }
   ],
   "source": [
    "np.mean(target_mts[2::4, :, 0, :])"
   ]
  },
  {
   "cell_type": "code",
   "execution_count": 749,
   "metadata": {},
   "outputs": [
    {
     "data": {
      "text/plain": [
       "1.2207978262288133"
      ]
     },
     "execution_count": 749,
     "metadata": {},
     "output_type": "execute_result"
    }
   ],
   "source": [
    "np.mean(target_mts[2::4, :, 2, :])"
   ]
  },
  {
   "cell_type": "markdown",
   "metadata": {},
   "source": [
    "# Calculating Speed"
   ]
  },
  {
   "cell_type": "code",
   "execution_count": 1084,
   "metadata": {},
   "outputs": [],
   "source": [
    "def get_dist():\n",
    "    distances = np.zeros((60, 12, 64))\n",
    "    for data in range(60):\n",
    "        for block in range(12):\n",
    "            traj = scipy.io.loadmat('data/data{data}/actual_trajectories/trajectories{block}.mat'.format(block=str(block), data=str(data+1000)))\n",
    "            for trial in range(64):\n",
    "                trajx, trajy = traj['x'][0][trial][0], traj['y'][0][trial][0]\n",
    "                distance_covered = 0\n",
    "                for i in range(len(trajx[:-1])):\n",
    "                    #print (trajx[i], trajy[i])\n",
    "                    distance_covered = distance_covered + np.sqrt((trajx[i+1] - trajx[i])**2 + (trajy[i+1] - trajy[i])**2)\n",
    "                distances[data][block][trial] = distance_covered\n",
    "    return distances"
   ]
  },
  {
   "cell_type": "code",
   "execution_count": 1085,
   "metadata": {},
   "outputs": [
    {
     "name": "stderr",
     "output_type": "stream",
     "text": [
      "C:\\Users\\Tejas\\Anaconda3\\lib\\site-packages\\ipykernel_launcher.py:11: RuntimeWarning: overflow encountered in ubyte_scalars\n",
      "  # This is added back by InteractiveShellApp.init_path()\n",
      "C:\\Users\\Tejas\\Anaconda3\\lib\\site-packages\\ipykernel_launcher.py:11: RuntimeWarning: overflow encountered in ushort_scalars\n",
      "  # This is added back by InteractiveShellApp.init_path()\n",
      "C:\\Users\\Tejas\\Anaconda3\\lib\\site-packages\\ipykernel_launcher.py:11: RuntimeWarning: invalid value encountered in sqrt\n",
      "  # This is added back by InteractiveShellApp.init_path()\n"
     ]
    }
   ],
   "source": [
    "distances = get_dist()"
   ]
  },
  {
   "cell_type": "code",
   "execution_count": 825,
   "metadata": {},
   "outputs": [],
   "source": [
    "dist_error = distances - np.sqrt(212**2 + 212**2)"
   ]
  },
  {
   "cell_type": "code",
   "execution_count": 1086,
   "metadata": {},
   "outputs": [],
   "source": [
    "target_distances = target_specific_measures(targets, distances)\n",
    "target_dist_error = target_specific_measures(targets, dist_error)\n"
   ]
  },
  {
   "cell_type": "code",
   "execution_count": 1094,
   "metadata": {},
   "outputs": [
    {
     "name": "stdout",
     "output_type": "stream",
     "text": [
      "[3, 0, 1, 2]\n"
     ]
    },
    {
     "data": {
      "image/png": "[encoded data removed]",
      "text/plain": [
       "<Figure size 432x288 with 1 Axes>"
      ]
     },
     "metadata": {
      "needs_background": "light"
     },
     "output_type": "display_data"
    }
   ],
   "source": [
    "difference_in_directions(condition = 0, direction_considered=3, target_measure=target_dist_error, title_text='Direction Considered: 315', y_label='Distance Covered')"
   ]
  },
  {
   "cell_type": "code",
   "execution_count": 1095,
   "metadata": {},
   "outputs": [],
   "source": [
    "speed = distances/mts"
   ]
  },
  {
   "cell_type": "code",
   "execution_count": 1096,
   "metadata": {},
   "outputs": [],
   "source": [
    "target_speed = target_specific_measures(targets, speed)"
   ]
  },
  {
   "cell_type": "code",
   "execution_count": 1296,
   "metadata": {},
   "outputs": [
    {
     "name": "stdout",
     "output_type": "stream",
     "text": [
      "[0, 1, 2, 3]\n"
     ]
    },
    {
     "data": {
      "image/png": "[encoded data removed]",
      "text/plain": [
       "<Figure size 432x288 with 1 Axes>"
      ]
     },
     "metadata": {
      "needs_background": "light"
     },
     "output_type": "display_data"
    }
   ],
   "source": [
    "difference_in_directions(condition = 0, direction_considered=0, target_measure=target_curvatures, title_text='Direction Considered: 45', y_label='Angular Error')"
   ]
  },
  {
   "cell_type": "code",
   "execution_count": 1130,
   "metadata": {},
   "outputs": [
    {
     "data": {
      "text/plain": [
       "1.699500414322449"
      ]
     },
     "execution_count": 1130,
     "metadata": {},
     "output_type": "execute_result"
    }
   ],
   "source": [
    "np.mean(its[1::4][9])"
   ]
  },
  {
   "cell_type": "code",
   "execution_count": 1187,
   "metadata": {},
   "outputs": [
    {
     "data": {
      "text/plain": [
       "(array([  4.,   6., 116., 311., 249.,  96.,  39.,  26.,  27.,  15.,  17.,\n",
       "          6.,   7.,   8.,   2.,   0.,   3.,   3.,   2.,   2.,   3.,   1.,\n",
       "          4.,   0.,   0.,   1.,   1.,   1.,   2.,   0.,   0.,   1.,   2.,\n",
       "          0.,   1.,   0.,   0.,   0.,   1.,   0.,   0.,   0.,   0.,   0.,\n",
       "          0.,   0.,   0.,   0.,   0.,   0.,   0.,   0.,   0.,   0.,   0.,\n",
       "          0.,   1.,   0.,   0.,   0.,   0.,   0.,   0.,   0.,   0.,   0.,\n",
       "          0.,   0.,   0.,   0.,   0.,   0.,   0.,   0.,   0.,   0.,   1.,\n",
       "          0.,   0.,   0.,   0.,   0.,   0.,   0.,   0.,   0.,   0.,   0.,\n",
       "          0.,   0.,   0.,   0.,   0.,   0.,   0.,   0.,   0.,   0.,   0.,\n",
       "          1.]),\n",
       " array([3.17541864e-04, 1.85238529e-01, 3.70159516e-01, 5.55080504e-01,\n",
       "        7.40001491e-01, 9.24922478e-01, 1.10984347e+00, 1.29476445e+00,\n",
       "        1.47968544e+00, 1.66460643e+00, 1.84952742e+00, 2.03444840e+00,\n",
       "        2.21936939e+00, 2.40429038e+00, 2.58921136e+00, 2.77413235e+00,\n",
       "        2.95905334e+00, 3.14397433e+00, 3.32889531e+00, 3.51381630e+00,\n",
       "        3.69873729e+00, 3.88365828e+00, 4.06857926e+00, 4.25350025e+00,\n",
       "        4.43842124e+00, 4.62334222e+00, 4.80826321e+00, 4.99318420e+00,\n",
       "        5.17810519e+00, 5.36302617e+00, 5.54794716e+00, 5.73286815e+00,\n",
       "        5.91778914e+00, 6.10271012e+00, 6.28763111e+00, 6.47255210e+00,\n",
       "        6.65747309e+00, 6.84239407e+00, 7.02731506e+00, 7.21223605e+00,\n",
       "        7.39715703e+00, 7.58207802e+00, 7.76699901e+00, 7.95192000e+00,\n",
       "        8.13684098e+00, 8.32176197e+00, 8.50668296e+00, 8.69160395e+00,\n",
       "        8.87652493e+00, 9.06144592e+00, 9.24636691e+00, 9.43128789e+00,\n",
       "        9.61620888e+00, 9.80112987e+00, 9.98605086e+00, 1.01709718e+01,\n",
       "        1.03558928e+01, 1.05408138e+01, 1.07257348e+01, 1.09106558e+01,\n",
       "        1.10955768e+01, 1.12804978e+01, 1.14654188e+01, 1.16503397e+01,\n",
       "        1.18352607e+01, 1.20201817e+01, 1.22051027e+01, 1.23900237e+01,\n",
       "        1.25749447e+01, 1.27598657e+01, 1.29447867e+01, 1.31297076e+01,\n",
       "        1.33146286e+01, 1.34995496e+01, 1.36844706e+01, 1.38693916e+01,\n",
       "        1.40543126e+01, 1.42392336e+01, 1.44241546e+01, 1.46090755e+01,\n",
       "        1.47939965e+01, 1.49789175e+01, 1.51638385e+01, 1.53487595e+01,\n",
       "        1.55336805e+01, 1.57186015e+01, 1.59035225e+01, 1.60884434e+01,\n",
       "        1.62733644e+01, 1.64582854e+01, 1.66432064e+01, 1.68281274e+01,\n",
       "        1.70130484e+01, 1.71979694e+01, 1.73828903e+01, 1.75678113e+01,\n",
       "        1.77527323e+01, 1.79376533e+01, 1.81225743e+01, 1.83074953e+01,\n",
       "        1.84924163e+01]),\n",
       " <a list of 100 Patch objects>)"
      ]
     },
     "execution_count": 1187,
     "metadata": {},
     "output_type": "execute_result"
    },
    {
     "data": {
      "image/png": "[encoded data removed]",
      "text/plain": [
       "<Figure size 432x288 with 1 Axes>"
      ]
     },
     "metadata": {
      "needs_background": "light"
     },
     "output_type": "display_data"
    }
   ],
   "source": [
    "plt.hist(np.ravel(its[0::4, 9]), bins = 100, color = 'blue')\n",
    "plt.hist(np.ravel(its[2::4, 9]), bins = 100, color = 'orange')\n",
    "\n",
    "plt.hist(np.ravel(its[3::4, 9]), bins = 100, alpha = 0.5, color = 'orange')\n",
    "plt.hist(np.ravel(its[1::4, 9]), bins = 100, alpha = 0.5, color = 'blue')\n"
   ]
  },
  {
   "cell_type": "code",
   "execution_count": 1176,
   "metadata": {},
   "outputs": [],
   "source": [
    "?plt.hist"
   ]
  }
 ],
 "metadata": {
  "kernelspec": {
   "display_name": "Python 3",
   "language": "python",
   "name": "python3"
  },
  "language_info": {
   "codemirror_mode": {
    "name": "ipython",
    "version": 3
   },
   "file_extension": ".py",
   "mimetype": "text/x-python",
   "name": "python",
   "nbconvert_exporter": "python",
   "pygments_lexer": "ipython3",
   "version": "3.7.0"
  }
 },
 "nbformat": 4,
 "nbformat_minor": 4
}
