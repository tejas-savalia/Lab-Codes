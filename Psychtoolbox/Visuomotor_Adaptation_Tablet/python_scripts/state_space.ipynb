{
 "cells": [
  {
   "cell_type": "code",
   "execution_count": 253,
   "metadata": {},
   "outputs": [],
   "source": [
    "#%matplotlib notebook\n",
    "import numpy as np\n",
    "import matplotlib.pyplot as plt\n",
    "import scipy.io\n",
    "from ipywidgets import interact, interactive, fixed, interact_manual\n",
    "import ipywidgets as widgets\n",
    "import scipy.stats as stat\n",
    "from sklearn.linear_model import LinearRegression\n",
    "import statsmodels.api as sm\n",
    "import statsmodels.formula.api as smf\n",
    "from multiprocessing import Pool\n",
    "from scipy import stats\n",
    "import math\n",
    "from scipy.optimize import curve_fit\n",
    "from mpl_toolkits import mplot3d\n",
    "from scipy.ndimage import gaussian_filter1d\n",
    "import statsmodels.api as sm\n",
    "from statsmodels.formula.api import ols"
   ]
  },
  {
   "cell_type": "code",
   "execution_count": null,
   "metadata": {},
   "outputs": [],
   "source": []
  },
  {
   "cell_type": "markdown",
   "metadata": {},
   "source": [
    "## Base Model\n",
    "$e_n^{target} = (r_n - r_n^{est})$\n",
    "\n",
    "$r_{n+1}^{est} = Ar_n^{est} + Be_n^{target}$"
   ]
  },
  {
   "cell_type": "code",
   "execution_count": 122,
   "metadata": {},
   "outputs": [],
   "source": [
    "num_trials = 640\n",
    "def base_model_sudden(num_trials, A, B):\n",
    " #   A = np.exp(A)/(1 + np.exp(A))\n",
    " #   B = np.exp(B)/(1 + np.exp(B))\n",
    "    \n",
    "    errors = np.zeros((num_trials))\n",
    "    rotation = 90\n",
    "    rotation_est = 0\n",
    "    for trial in range(num_trials):\n",
    "        errors[trial] = rotation - rotation_est\n",
    "        #print(errors[trial])\n",
    "        rotation_est = A*rotation_est + B*errors[trial]\n",
    "        #print (rotation_est)\n",
    "    return errors\n",
    "\n",
    "def base_model_gradual(num_trials, A, B):\n",
    "#    A = np.exp(A)/(1 + np.exp(A))\n",
    "#    B = np.exp(B)/(1 + np.exp(B))\n",
    "    \n",
    "    errors = np.zeros((num_trials))\n",
    "    rotation_est = 0\n",
    "    rotation = 0\n",
    "    for trial in range(num_trials):\n",
    "        if trial%64 == 0:\n",
    "            rotation = rotation + 10\n",
    "        if rotation > 90:\n",
    "            rotation = 90\n",
    "        errors[trial] = rotation - rotation_est\n",
    "        #print(errors[trial])\n",
    "        rotation_est = A*rotation_est + B*errors[trial]\n",
    "        #print (rotation_est)\n",
    "    return errors"
   ]
  },
  {
   "cell_type": "code",
   "execution_count": 142,
   "metadata": {},
   "outputs": [],
   "source": [
    "def base_model_transfer(num_trials, A, B):\n",
    " #   A = np.exp(A)/(1 + np.exp(A))\n",
    " #   B = np.exp(B)/(1 + np.exp(B))\n",
    "    \n",
    "    errors = np.zeros((num_trials))\n",
    "    rotation = 90\n",
    "    rotation_est = 0\n",
    "    for trial in range(num_trials):\n",
    "        errors[trial] = rotation - rotation_est\n",
    "        #print(errors[trial])\n",
    "        rotation_est = A*rotation_est + B*errors[trial]\n",
    "        #print (rotation_est)\n",
    "    return errors\n"
   ]
  },
  {
   "cell_type": "markdown",
   "metadata": {},
   "source": [
    "# Data\n",
    "## Curvatures"
   ]
  },
  {
   "cell_type": "code",
   "execution_count": 123,
   "metadata": {},
   "outputs": [],
   "source": [
    "def calc_angle(current_point, next_point, final_point):\n",
    "    vec1 = next_point - current_point\n",
    "    vec2 = final_point - current_point\n",
    "    cos_theta = np.dot(vec1, vec2)/(np.linalg.norm(vec1) * np.linalg.norm(vec2))\n",
    "    theta = np.degrees(np.arccos(cos_theta))\n",
    "    return theta\n",
    "\n",
    "def calc_curvature(data, block, trial, percentage_trajectory):\n",
    "    traj = scipy.io.loadmat('data/data{data}/actual_trajectories/trajectories{block}.mat'.format(block=str(block), data=str(data)))\n",
    "    trajx, trajy = traj['x'][0][trial][0], traj['y'][0][trial][0]\n",
    "    targetx, targety = trajx[-1], trajy[-1]\n",
    "    partial_trajx, partial_trajy = get_partial_traj(data, block, trial, percentage_trajectory)\n",
    "    angles = list([0])\n",
    "    for i in range(len(partial_trajx[:-1])):\n",
    "        #print (trajx[i], trajy[i])\n",
    "        angles.append(calc_angle(np.array([partial_trajx[i], partial_trajy[i]]), np.array([partial_trajx[i+1], partial_trajy[i+1]]), np.array([trajx[-1], trajy[-1]])))\n",
    "    return np.nanmedian(angles)\n",
    "\n",
    "def get_traj(data, block, trial):\n",
    "    traj = scipy.io.loadmat('data/data{data}/actual_trajectories/trajectories{block}.mat'.format(block=str(block), data=str(data)))\n",
    "    x_traj = traj['x'][0][trial][0]\n",
    "    y_traj = traj['y'][0][trial][0]\n",
    "    return x_traj, y_traj\n",
    "\n",
    "def get_partial_traj(data, block, trial, percentage_trajectory):\n",
    "    traj = get_traj(data, block, trial)\n",
    "    dist_cutoff = percentage_trajectory*np.sqrt(212**2 + 212**2, dtype = float)\n",
    "    for i in range(len(traj[0])):\n",
    "        dist_from_start = np.sqrt(traj[0][i]**2 + traj[1][i]**2, dtype = float)\n",
    "        if dist_from_start > dist_cutoff:\n",
    "            break\n",
    "    partial_trajx = traj[0][:i]\n",
    "    partial_trajy = traj[1][:i]\n",
    "        \n",
    "            \n",
    "    return partial_trajx, partial_trajy\n",
    "\n"
   ]
  },
  {
   "cell_type": "code",
   "execution_count": 4,
   "metadata": {},
   "outputs": [
    {
     "name": "stderr",
     "output_type": "stream",
     "text": [
      "C:\\Users\\Tejas\\Anaconda3\\lib\\site-packages\\ipykernel_launcher.py:4: RuntimeWarning: invalid value encountered in true_divide\n",
      "  after removing the cwd from sys.path.\n"
     ]
    },
    {
     "name": "stdout",
     "output_type": "stream",
     "text": [
      "0\n"
     ]
    },
    {
     "name": "stderr",
     "output_type": "stream",
     "text": [
      "C:\\Users\\Tejas\\Anaconda3\\lib\\site-packages\\ipykernel_launcher.py:5: RuntimeWarning: invalid value encountered in arccos\n",
      "  \"\"\"\n",
      "C:\\Users\\Tejas\\Anaconda3\\lib\\site-packages\\ipykernel_launcher.py:4: RuntimeWarning: invalid value encountered in double_scalars\n",
      "  after removing the cwd from sys.path.\n"
     ]
    },
    {
     "name": "stdout",
     "output_type": "stream",
     "text": [
      "10\n",
      "20\n",
      "30\n",
      "40\n",
      "50\n"
     ]
    }
   ],
   "source": [
    "curvatures = np.zeros((60, 12, 64))\n",
    "for data in range(60):\n",
    "    for block in range(12):\n",
    "        for trial in range(64):\n",
    "            curvatures[data][block][trial] = calc_curvature(data+1000, block, trial, 0.5)\n",
    "    if data%10 == 0:\n",
    "        print (data)"
   ]
  },
  {
   "cell_type": "code",
   "execution_count": 254,
   "metadata": {},
   "outputs": [],
   "source": [
    "def residuals_base_sudden(params, num_trials, data_errors):\n",
    "#   model_errors = base_model_sudden(num_trials, params[0], params[1])\n",
    "    model_errors = base_model_sudden(num_trials, params[0], params[1])\n",
    "    residual_error = np.sum(np.square(model_errors - data_errors))\n",
    "    #if params[0] > params[2]:\n",
    "    #    residual_error = residual_error + 1000000\n",
    "    #if params[1] < params[3]:\n",
    "    #    residual_error = residual_error + 1000000\n",
    "    if params[0] < 0 or params[1] < 0:# or params[2] < 0 or params[3] < 0:\n",
    "        residual_error = residual_error + 1000000\n",
    "    return residual_error\n",
    "\n",
    "def residuals_base_gradual(params, num_trials, data_errors):\n",
    "#   model_errors = base_model_sudden(num_trials, params[0], params[1])\n",
    "    model_errors = base_model_gradual(num_trials, params[0], params[1])\n",
    "    residual_error = np.sum(np.square(model_errors - data_errors))\n",
    "    #if params[0] > params[2]:\n",
    "    #    residual_error = residual_error + 1000000\n",
    "    #if params[1] < params[3]:\n",
    "    #    residual_error = residual_error + 1000000\n",
    "    if params[0] < 0 or params[1] < 0:# or params[2] < 0 or params[3] < 0:\n",
    "        residual_error = residual_error + 1000000\n",
    "    return residual_error"
   ]
  },
  {
   "cell_type": "code",
   "execution_count": 255,
   "metadata": {},
   "outputs": [],
   "source": [
    "#Divide the whole thing into 16 trial blocks and fit them\n",
    "def run_fits(curvatures, num_trials, part_size, first):\n",
    "    num_parts = int((num_trials-first)/part_size)\n",
    "    fit_A = np.zeros((60, num_parts))\n",
    "    fit_B = np.zeros((60, num_parts))\n",
    "    fit_V = np.full((60, num_parts), np.inf)\n",
    "    fit_success = np.zeros((60, num_parts))\n",
    "    fit_num = 0\n",
    "    #starting_points = np.array([[0.5, 0.6], [0.4, 0.7], [0.3, 0.8], [0.2, 0.9], [0.1, 0.99], [0.9, 0.2], [0.99, 0.1], [0.8, 0.3], [0.7, 0.4], [0.6, 0.5]])\n",
    "    \n",
    "    #A = np.log(params[0]/(1-params[0]))\n",
    "    #B = np.log(params[1]/(1-params[1]))\n",
    "\n",
    "#    starting_points = np.array([[np.log(0.999/(1 - 0.999)), np.log(0.002/(1 - 0.002))]])\n",
    "    starting_points = np.array([[0.999, 0.002]])\n",
    "\n",
    "    for curr_trial in range(first, num_trials, part_size):\n",
    "        for participant in range(60):\n",
    "            for initial_point in starting_points:\n",
    "                if participant%4 == 0 or participant%4 == 1:\n",
    "                #print (np.nan_to_num(np.ravel(curvatures[participant])[first:first+part_size], nan = np.nanmedian(np.ravel(curvatures[participant])[first:first+part_size])))\n",
    "                #popt, pcov = curve_fit(base_model_sudden, part_size, np.nan_to_num(np.ravel(curvatures[participant])[curr_trial:curr_trial+part_size], nan = np.nanmedian(np.ravel(curvatures[participant])[curr_trial:curr_trial+part_size])), bounds=((0, 0), (1, np.inf)))\n",
    "                    #fits = scipy.optimize.minimize(residuals_base_sudden, x0 = [initial_point[0], initial_point[1]], args = (part_size, np.nan_to_num(np.ravel(curvatures[participant])[curr_trial:curr_trial+part_size], nan = np.nanmedian(np.ravel(curvatures[participant])[curr_trial:curr_trial+part_size]))), method = 'Nelder-Mead')\n",
    "                    fits = scipy.optimize.basinhopping(residuals_base_sudden, x0 = [initial_point[0], initial_point[1]], minimizer_kwargs={'args': (part_size, np.nan_to_num(np.ravel(curvatures[participant])[curr_trial:curr_trial+part_size], nan = np.nanmedian(np.ravel(curvatures[participant])[curr_trial:curr_trial+part_size]))), 'method': 'Nelder-Mead'}, stepsize=0.05)\n",
    "                    \n",
    "                    if fits.fun < fit_V[participant][fit_num]:\n",
    "                        fit_A[participant][fit_num] = fits.x[0]\n",
    "                        fit_B[participant][fit_num] = fits.x[1]\n",
    "                        fit_V[participant][fit_num] = fits.fun\n",
    "                        #fit_success[participant][fit_num] = fits.success   \n",
    "                    print (fits.fun)\n",
    "                else:\n",
    "                    #popt, pcov = curve_fit(base_model_gradual, part_size, np.nan_to_num(np.ravel(curvatures[participant])[curr_trial:curr_trial+part_size], nan = np.nanmedian(np.ravel(curvatures[participant])[curr_trial:curr_trial+part_size])), bounds=((0, 0), (1, np.inf)))\n",
    "                    #fits = scipy.optimize.minimize(residuals_base_gradual, x0 = [initial_point[0], initial_point[1]], args = (part_size, np.nan_to_num(np.ravel(curvatures[participant])[curr_trial:curr_trial+part_size], nan = np.nanmedian(np.ravel(curvatures[participant])[curr_trial:curr_trial+part_size]))), method = 'Nelder-Mead')\n",
    "                    fits = scipy.optimize.basinhopping(residuals_base_gradual, x0 = [initial_point[0], initial_point[1]], minimizer_kwargs={'args': (part_size, np.nan_to_num(np.ravel(curvatures[participant])[curr_trial:curr_trial+part_size], nan = np.nanmedian(np.ravel(curvatures[participant])[curr_trial:curr_trial+part_size]))), 'method': 'Nelder-Mead'})\n",
    "                    \n",
    "                    if fits.fun < fit_V[participant][fit_num]:\n",
    "                        fit_A[participant][fit_num] = fits.x[0]\n",
    "                        fit_B[participant][fit_num] = fits.x[1]\n",
    "                        fit_V[participant][fit_num] = fits.fun\n",
    "                        #fit_success[participant][fit_num] = fits.success\n",
    "                    print (fits.fun)\n",
    "\n",
    "        fit_num = fit_num + 1\n",
    "    return fit_A, fit_B, fit_V, fit_success\n",
    "        "
   ]
  },
  {
   "cell_type": "code",
   "execution_count": 256,
   "metadata": {},
   "outputs": [
    {
     "data": {
      "text/plain": [
       "(60, 12, 64)"
      ]
     },
     "execution_count": 256,
     "metadata": {},
     "output_type": "execute_result"
    }
   ],
   "source": [
    "curvatures_smooth = gaussian_filter1d(curvatures, 2)\n",
    "np.shape(curvatures_smooth)"
   ]
  },
  {
   "cell_type": "code",
   "execution_count": 228,
   "metadata": {},
   "outputs": [
    {
     "name": "stdout",
     "output_type": "stream",
     "text": [
      "1370637.6788313133\n"
     ]
    },
    {
     "name": "stderr",
     "output_type": "stream",
     "text": [
      "C:\\Users\\Tejas\\Anaconda3\\lib\\site-packages\\ipykernel_launcher.py:4: RuntimeWarning: overflow encountered in square\n",
      "  after removing the cwd from sys.path.\n",
      "C:\\Users\\Tejas\\Anaconda3\\lib\\site-packages\\numpy\\core\\fromnumeric.py:90: RuntimeWarning: overflow encountered in reduce\n",
      "  return ufunc.reduce(obj, axis, dtype, out, **passkwargs)\n"
     ]
    },
    {
     "name": "stdout",
     "output_type": "stream",
     "text": [
      "556296.7110792629\n"
     ]
    },
    {
     "name": "stderr",
     "output_type": "stream",
     "text": [
      "C:\\Users\\Tejas\\Anaconda3\\lib\\site-packages\\ipykernel_launcher.py:16: RuntimeWarning: overflow encountered in square\n",
      "  app.launch_new_instance()\n",
      "C:\\Users\\Tejas\\Anaconda3\\lib\\site-packages\\scipy\\optimize\\optimize.py:597: RuntimeWarning: invalid value encountered in subtract\n",
      "  numpy.max(numpy.abs(fsim[0] - fsim[1:])) <= fatol):\n"
     ]
    },
    {
     "name": "stdout",
     "output_type": "stream",
     "text": [
      "156036.83955198218\n",
      "210378.0604318062\n",
      "276260.4764970705\n",
      "713549.1430093531\n",
      "128276.97980640794\n",
      "167812.17824945628\n",
      "812176.9240483424\n",
      "805561.118889566\n",
      "151333.86618192215\n",
      "130047.30221053156\n",
      "1517128.5995921306\n",
      "537137.4561126835\n",
      "229665.67303778263\n",
      "105761.66912140157\n",
      "505603.834755514\n",
      "636053.6424316065\n",
      "102909.93036644743\n",
      "176255.86747438612\n",
      "509029.3955912321\n",
      "356276.6130335669\n",
      "421248.5801911914\n",
      "160745.86610048226\n",
      "339874.97865387105\n",
      "516875.9051066147\n",
      "290427.4487632468\n",
      "175097.05076796518\n",
      "1774547.482055132\n",
      "766400.5771031122\n",
      "124156.98581437464\n",
      "153289.2688840761\n",
      "351991.714765499\n",
      "504761.9849809458\n",
      "102179.43365113979\n",
      "101445.27310338819\n",
      "892499.4736974051\n",
      "1070657.6448373476\n",
      "260557.72923294158\n",
      "137750.78874288936\n",
      "1187218.4810774634\n",
      "652971.7249854762\n",
      "431901.67950165574\n",
      "169517.7168430451\n",
      "551837.4044284918\n",
      "1410025.5267156793\n",
      "321370.5676476318\n",
      "149959.60160664812\n",
      "1075711.0329478362\n",
      "894359.519601649\n",
      "207138.92864358725\n",
      "239227.9339632535\n",
      "946010.5842520139\n",
      "869697.7406381579\n",
      "200003.8843060267\n",
      "114655.8979363462\n",
      "395164.54248784995\n",
      "803106.4303680877\n",
      "135962.95666596183\n",
      "103616.67940575365\n"
     ]
    }
   ],
   "source": [
    "fit_A, fit_B, fit_V, fit_success = run_fits(curvatures, 704, 640, 64)"
   ]
  },
  {
   "cell_type": "code",
   "execution_count": null,
   "metadata": {},
   "outputs": [],
   "source": []
  },
  {
   "cell_type": "code",
   "execution_count": null,
   "metadata": {},
   "outputs": [],
   "source": []
  },
  {
   "cell_type": "code",
   "execution_count": null,
   "metadata": {},
   "outputs": [],
   "source": []
  },
  {
   "cell_type": "code",
   "execution_count": 199,
   "metadata": {},
   "outputs": [],
   "source": [
    "#Divide the whole thing into 16 trial blocks and fit them\n",
    "def run_fits_transfer(curvatures, num_trials, part_size, first):\n",
    "    num_parts = int((num_trials-first)/part_size)\n",
    "    fit_A = np.zeros((60, num_parts))\n",
    "    fit_B = np.zeros((60, num_parts))\n",
    "    fit_V = np.full((60, num_parts), np.inf)\n",
    "    fit_success = np.zeros((60, num_parts))\n",
    "    fit_num = 0\n",
    "    #starting_points = np.array([[0.5, 0.6], [0.4, 0.7], [0.3, 0.8], [0.2, 0.9], [0.1, 0.99], [0.9, 0.2], [0.99, 0.1], [0.8, 0.3], [0.7, 0.4], [0.6, 0.5]])\n",
    "    \n",
    "    #A = np.log(params[0]/(1-params[0]))\n",
    "    #B = np.log(params[1]/(1-params[1]))\n",
    "\n",
    "#    starting_points = np.array([[np.log(0.999/(1 - 0.999)), np.log(0.002/(1 - 0.002))]])\n",
    "    starting_points = np.array([[0.999, 0.002]])\n",
    "\n",
    "    for curr_trial in range(first, num_trials, part_size):\n",
    "        for participant in range(60):\n",
    "            for initial_point in starting_points:\n",
    "                fits = scipy.optimize.basinhopping(residuals_base_sudden, x0 = [initial_point[0], initial_point[1]], minimizer_kwargs={'args': (part_size, np.nan_to_num(np.ravel(curvatures[participant])[curr_trial:curr_trial+part_size], nan = np.nanmedian(np.ravel(curvatures[participant])[curr_trial:curr_trial+part_size]))), 'method': 'Nelder-Mead'}, stepsize=0.05)\n",
    "                if fits.fun < fit_V[participant][fit_num]:\n",
    "                    fit_A[participant][fit_num] = fits.x[0]\n",
    "                    fit_B[participant][fit_num] = fits.x[1]\n",
    "                    fit_V[participant][fit_num] = fits.fun\n",
    "                    #fit_success[participant][fit_num] = fits.success   \n",
    "                print (fits.fun)\n",
    "                #popt, pcov = curve_fit(base_model_gradual, part_size, np.nan_to_num(np.ravel(curvatures[participant])[curr_trial:curr_trial+part_size], nan = np.nanmedian(np.ravel(curvatures[participant])[curr_trial:curr_trial+part_size])), bounds=((0, 0), (1, np.inf)))\n",
    "                #fits = scipy.optimize.minimize(residuals_base_gradual, x0 = [initial_point[0], initial_point[1]], args = (part_size, np.nan_to_num(np.ravel(curvatures[participant])[curr_trial:curr_trial+part_size], nan = np.nanmedian(np.ravel(curvatures[participant])[curr_trial:curr_trial+part_size]))), method = 'Nelder-Mead')\n",
    "#                fits = scipy.optimize.basinhopping(residuals_base_gradual, x0 = [initial_point[0], initial_point[1]], minimizer_kwargs={'args': (part_size, np.nan_to_num(np.ravel(curvatures[participant])[curr_trial:curr_trial+part_size], nan = np.nanmedian(np.ravel(curvatures[participant])[curr_trial:curr_trial+part_size]))), 'method': 'Nelder-Mead'})#\n",
    "\n",
    "#                if fits.fun < fit_V[participant][fit_num]:\n",
    "#                    fit_A[participant][fit_num] = fits.x[0]\n",
    "#                    fit_B[participant][fit_num] = fits.x[1]\n",
    "#                    fit_V[participant][fit_num] = fits.fun\n",
    "                    #fit_success[participant][fit_num] = fits.success\n",
    "#                print (fits.fun)\n",
    "\n",
    "        fit_num = fit_num + 1\n",
    "    return fit_A, fit_B, fit_V, fit_success\n",
    "        "
   ]
  },
  {
   "cell_type": "code",
   "execution_count": 200,
   "metadata": {},
   "outputs": [
    {
     "name": "stdout",
     "output_type": "stream",
     "text": [
      "118182.21959390104\n",
      "14981.450676994975\n",
      "13019.415906300303\n",
      "23017.222881786132\n",
      "20374.819531332276\n",
      "82744.66299706939\n",
      "37052.118803360354\n",
      "28012.55553870656\n",
      "92033.72256438923\n",
      "87786.53216139216\n",
      "38586.84361753225\n",
      "40771.662491797106\n",
      "41232.92092824745\n",
      "31730.976906629006\n",
      "61938.30082931905\n",
      "47839.67885684319\n",
      "28865.239701340346\n",
      "68258.20015896029\n",
      "15859.444975274688\n",
      "47286.60638431\n",
      "56564.206486385076\n",
      "74417.65100885928\n",
      "40746.385249535044\n",
      "72596.00762155824\n",
      "44040.70576823644\n",
      "59033.48328367884\n",
      "49386.58292951262\n",
      "30307.835739006878\n",
      "68797.80043260375\n",
      "64348.45376445934\n",
      "32031.17568741915\n",
      "14637.342439326676\n",
      "44510.494094702\n",
      "21803.39559498839\n",
      "20070.08362347501\n",
      "39659.447687356456\n",
      "60563.25328226769\n",
      "90710.96361736339\n",
      "56658.2121681691\n",
      "27266.186630228764\n",
      "99918.085375969\n",
      "89771.44355628095\n",
      "54958.61339672783\n",
      "68479.44492530852\n",
      "66460.20699543443\n",
      "64909.90297947041\n",
      "39508.96642901675\n",
      "26234.559622957757\n",
      "89317.19998614545\n",
      "81807.46914956314\n",
      "41389.09147140363\n",
      "32629.376225489934\n",
      "87340.73086459022\n",
      "87523.2650767949\n",
      "41270.13491978604\n",
      "34939.50838845062\n",
      "35697.04452520055\n",
      "87931.76921702977\n",
      "30082.32779719716\n",
      "26509.093094338816\n"
     ]
    }
   ],
   "source": [
    "fit_transfer_A, fit_transfer_B, fit_transfer_V, fit_transfer_success = run_fits_transfer(curvatures, 768, 64, 704)"
   ]
  },
  {
   "cell_type": "code",
   "execution_count": null,
   "metadata": {},
   "outputs": [],
   "source": []
  },
  {
   "cell_type": "code",
   "execution_count": null,
   "metadata": {},
   "outputs": [],
   "source": []
  },
  {
   "cell_type": "code",
   "execution_count": 201,
   "metadata": {},
   "outputs": [],
   "source": [
    "def plot_fits(fit_A, fit_B):\n",
    "    x = np.array([np.nanmean(fit_A[0::4, :], axis = 0), np.nanmean(fit_A[1::4, :], axis = 0), np.nanmean(fit_A[2::4, :], axis = 0), np.nanmean(fit_A[3::4, :], axis = 0)])\n",
    "    y = np.array([np.nanmean(fit_B[0::4, :], axis = 0), np.nanmean(fit_B[1::4, :], axis = 0), np.nanmean(fit_B[2::4, :], axis = 0), np.nanmean(fit_B[3::4, :], axis = 0)])\n",
    "    x_err = np.array([stat.sem(fit_A[0::4, :], axis = 0), stat.sem(fit_A[1::4, :], axis = 0), stat.sem(fit_A[2::4, :], axis = 0), stat.sem(fit_A[3::4, :], axis = 0)])\n",
    "    y_err = np.array([stat.sem(fit_B[0::4, :], axis = 0), stat.sem(fit_B[1::4, :], axis = 0), stat.sem(fit_B[2::4, :], axis = 0), stat.sem(fit_B[3::4, :], axis = 0)])\n",
    "    #x_err = np.array([stat.tstd(fit_A[0::4, :], axis = 0), stat.tstd(fit_A[1::4, :], axis = 0), stat.tstd(fit_A[2::4, :], axis = 0), stat.tstd(fit_A[3::4, :], axis = 0)])\n",
    "    #y_err = np.array([stat.tstd(fit_B[0::4, :], axis = 0), stat.tstd(fit_B[1::4, :], axis = 0), stat.tstd(fit_B[2::4, :], axis = 0), stat.tstd(fit_B[3::4, :], axis = 0)])\n",
    "\n",
    "    #x_conf_interval = np.array(stat.norm.interval(0.83, loc = x, scale = x_err))\n",
    "    #y_conf_interval = np.array(stat.norm.interval(0.83, loc = y, scale = y_err))\n",
    "    x_CI = x - np.array(stat.norm.interval(0.95, loc = x, scale = x_err))[0, :], np.array(stat.norm.interval(0.95, loc = x, scale = x_err))[1, :] - x\n",
    "    y_CI = y - np.array(stat.norm.interval(0.95, loc = y, scale = y_err))[0, :], np.array(stat.norm.interval(0.95, loc = y, scale = y_err))[1, :] - y\n",
    "\n",
    "\n",
    "    #print (x_conf_interval[:, 0])\n",
    "    #plt.errorbar(x, y, xerr = x_err, yerr = y_err, linestyle = 'None', capsize = 3)\n",
    "    plot0 = plt.errorbar(x[0], y[0], xerr = [x_CI[0][0], x_CI[1][0]], yerr = [y_CI[0][0], y_CI[1][0]], capsize = 3)\n",
    "    plot1 = plt.errorbar(x[1], y[1], xerr = [x_CI[0][1], x_CI[1][1]], yerr = [y_CI[0][1], y_CI[1][1]], capsize = 3)\n",
    "    plot2 = plt.errorbar(x[2], y[2], xerr = [x_CI[0][2], x_CI[1][2]], yerr = [y_CI[0][2], y_CI[1][2]], capsize = 3)\n",
    "    plot3 = plt.errorbar(x[3], y[3], xerr = [x_CI[0][3], x_CI[1][3]], yerr = [y_CI[0][3], y_CI[1][3]], capsize = 3)\n",
    "\n",
    "    #plot0 = plt.scatter(fit_A[0::4], fit_B[0::4])\n",
    "    #plot1 = plt.scatter(fit_A[1::4], fit_B[1::4])\n",
    "    #plot2 = plt.scatter(fit_A[2::4], fit_B[2::4])\n",
    "    #plot3 = plt.scatter(fit_A[3::4], fit_B[3::4])\n",
    "\n",
    "    plt.legend((plot0, plot1, plot2, plot3), ('Sudden Speed', 'Sudden Accuracy', 'Gradual Speed', 'Gradual Accuracy'))\n",
    "    plt.xlabel('fit A')\n",
    "    plt.ylabel('fit B')"
   ]
  },
  {
   "cell_type": "code",
   "execution_count": 202,
   "metadata": {},
   "outputs": [
    {
     "data": {
      "image/png": "[encoded data removed]",
      "text/plain": [
       "<Figure size 432x288 with 1 Axes>"
      ]
     },
     "metadata": {
      "needs_background": "light"
     },
     "output_type": "display_data"
    }
   ],
   "source": [
    "plot_fits(fit_A, fit_B)"
   ]
  },
  {
   "cell_type": "code",
   "execution_count": 203,
   "metadata": {},
   "outputs": [
    {
     "data": {
      "image/png": "[encoded data removed]",
      "text/plain": [
       "<Figure size 432x288 with 1 Axes>"
      ]
     },
     "metadata": {
      "needs_background": "light"
     },
     "output_type": "display_data"
    }
   ],
   "source": [
    "plot_fits(fit_transfer_A, fit_transfer_B)"
   ]
  },
  {
   "cell_type": "code",
   "execution_count": 157,
   "metadata": {},
   "outputs": [],
   "source": [
    "def plot_collapsed_across_emphasis_fits(fit_A, fit_B):\n",
    "    x = np.array([np.mean(np.concatenate((fit_A[0::4], fit_A[1::4])), axis = 0),np.mean(np.concatenate((fit_A[2::4], fit_A[3::4])), axis = 0)])\n",
    "    y = np.array([np.mean(np.concatenate((fit_B[0::4], fit_B[1::4])), axis = 0),np.mean(np.concatenate((fit_B[2::4], fit_B[3::4])), axis = 0)])\n",
    "    x_err = np.array([stat.sem(np.concatenate((fit_A[0::4], fit_A[1::4])), axis = 0),stat.sem(np.concatenate((fit_A[2::4], fit_A[3::4])), axis = 0)])\n",
    "    y_err = np.array([stat.sem(np.concatenate((fit_B[0::4], fit_B[1::4])), axis = 0), stat.sem(np.concatenate((fit_B[2::4], fit_B[3::4])), axis = 0)])\n",
    "    #x_err = np.array([stat.tstd(np.concatenate((fit_A[0::4], fit_A[1::4])), axis = 0),stat.tstd(np.concatenate((fit_A[2::4], fit_A[3::4])), axis = 0)])\n",
    "    #y_err = np.array([stat.tstd(np.concatenate((fit_B[0::4], fit_B[1::4])), axis = 0), stat.tstd(np.concatenate((fit_B[2::4], fit_B[3::4])), axis = 0)])\n",
    "\n",
    "    x_CI = x - np.array(stat.norm.interval(0.95, loc = x, scale = x_err))[0, :], np.array(stat.norm.interval(0.95, loc = x, scale = x_err))[1, :] - x\n",
    "    y_CI = y - np.array(stat.norm.interval(0.95, loc = y, scale = y_err))[0, :], np.array(stat.norm.interval(0.95, loc = y, scale = y_err))[1, :] - y\n",
    "\n",
    "    #x_conf_interval = np.array(stat.norm.interval(0.95, loc = x, scale = x_err))\n",
    "    #y_conf_interval = np.array(stat.norm.interval(0.95, loc = y, scale = y_err))\n",
    "    #plt.errorbar(x, y, xerr = x_err, yerr = y_err, linestyle = 'None', capsize = 3)\n",
    "    #plot0 = plt.errorbar(x[0], y[0], xerr = x_err[0], yerr = y_err[0], capsize = 3)\n",
    "    #plot0 = plt.scatter(np.concatenate((fit_A[0::4], fit_A[1::4])), np.concatenate((fit_B[0::4], fit_B[1::4])))\n",
    "\n",
    "    #plot1 = plt.errorbar(x[1], y[1], xerr = x_err[1], yerr = y_err[1], capsize = 3)\n",
    "    #plot1 = plt.scatter(np.concatenate((fit_A[2::4], fit_A[3::4])), np.concatenate((fit_B[2::4], fit_B[3::4])))\n",
    "    plot0 = plt.errorbar(x[0], y[0], xerr = [x_CI[0][0], x_CI[1][0]], yerr = [y_CI[0][0], y_CI[1][0]], capsize = 3)\n",
    "    plot1 = plt.errorbar(x[1], y[1], xerr = [x_CI[0][1], x_CI[1][1]], yerr = [y_CI[0][1], y_CI[1][1]], capsize = 3)\n",
    "\n",
    "    #plot0 = plt.errorbar(x[0], y[0], xerr = x_conf_interval[:, 0], yerr = y_conf_interval[:, 0], capsize = 3)\n",
    "    #plot1 = plt.errorbar(x[1], y[1], xerr = x_conf_interval[:, 1], yerr = y_conf_interval[:, 1], capsize = 3)\n",
    "    #plot2 = plt.errorbar(x[2], y[2], xerr = x_conf_interval[:, 2], yerr = y_conf_interval[:, 2], capsize = 3)\n",
    "    #plot3 = plt.errorbar(x[3], y[3], xerr = x_conf_interval[:, 3], yerr = y_conf_interval[:, 3], capsize = 3)\n",
    "\n",
    "    plt.legend((plot0, plot1), ('Sudden', 'Gradual'))\n",
    "    plt.xlabel('fit A')\n",
    "    plt.ylabel('fit B')"
   ]
  },
  {
   "cell_type": "code",
   "execution_count": 204,
   "metadata": {},
   "outputs": [
    {
     "data": {
      "image/png": "[encoded data removed]",
      "text/plain": [
       "<Figure size 432x288 with 1 Axes>"
      ]
     },
     "metadata": {
      "needs_background": "light"
     },
     "output_type": "display_data"
    }
   ],
   "source": [
    "plot_collapsed_across_emphasis_fits(fit_A, fit_B)"
   ]
  },
  {
   "cell_type": "code",
   "execution_count": 205,
   "metadata": {},
   "outputs": [
    {
     "data": {
      "image/png": "[encoded data removed]",
      "text/plain": [
       "<Figure size 432x288 with 1 Axes>"
      ]
     },
     "metadata": {
      "needs_background": "light"
     },
     "output_type": "display_data"
    }
   ],
   "source": [
    "plot_collapsed_across_emphasis_fits(fit_transfer_A, fit_transfer_B)"
   ]
  },
  {
   "cell_type": "code",
   "execution_count": 206,
   "metadata": {},
   "outputs": [],
   "source": [
    "def plot_collapsed_across_rotation_fits(fit_A, fit_B):\n",
    "    x = np.array([np.nanmean(fit_A[0::2, :], axis = 0), np.nanmean(fit_A[1::2, :], axis = 0)])#, np.nanmean(fit_A[2::4, :], axis = 0), np.nanmean(fit_A[3::4, :], axis = 0)])\n",
    "    y = np.array([np.nanmean(fit_B[0::2, :], axis = 0), np.nanmean(fit_B[1::2, :], axis = 0)])#, np.nanmean(fit_B[2::4, :], axis = 0), np.nanmean(fit_B[3::4, :], axis = 0)])\n",
    "\n",
    "    #x = np.array([np.nanmean(fit_A[0::2, :] - fit_A[1::2, :], axis = 0)])#, np.nanmean(fit_A[1::2, :], axis = 0)])#, np.nanmean(fit_A[2::4, :], axis = 0), np.nanmean(fit_A[3::4, :], axis = 0)])\n",
    "    #y = np.array([np.nanmean(fit_B[0::2, :] - fit_B[1::2, :], axis = 0)])#, np.nanmean(fit_B[1::2, :], axis = 0)])#, np.nanmean(fit_B[2::4, :], axis = 0), np.nanmean(fit_B[3::4, :], axis = 0)])\n",
    "\n",
    "    x_err = np.array([stat.sem(fit_A[0::2, :], axis = 0), stat.sem(fit_A[1::2, :], axis = 0)])#, stat.sem(fit_A[2::4, :], axis = 0), stat.sem(fit_A[3::4, :], axis = 0)])\n",
    "    y_err = np.array([stat.sem(fit_B[0::2, :], axis = 0), stat.sem(fit_B[1::2, :], axis = 0)])#, stat.sem(fit_B[2::4, :], axis = 0), stat.sem(fit_B[3::4, :], axis = 0)])\n",
    "\n",
    "    #x_err = np.array([stat.tstd(fit_A[0::2, :], axis = 0), stat.tstd(fit_A[1::2, :], axis = 0)])#, stat.sem(fit_A[2::4, :], axis = 0), stat.sem(fit_A[3::4, :], axis = 0)])\n",
    "    #y_err = np.array([stat.tstd(fit_B[0::2, :], axis = 0), stat.tstd(fit_B[1::2, :], axis = 0)])#, stat.sem(fit_B[2::4, :], axis = 0), stat.sem(fit_B[3::4, :], axis = 0)])\n",
    "\n",
    "    #x_conf_interval = np.array(stat.norm.interval(0.83, loc = x, scale = x_err))\n",
    "    #y_conf_interval = np.array(stat.norm.interval(0.83, loc = y, scale = y_err))\n",
    "\n",
    "    x_CI = x - np.array(stat.norm.interval(0.95, loc = x, scale = x_err))[0, :], np.array(stat.norm.interval(0.95, loc = x, scale = x_err))[1, :] - x\n",
    "    y_CI = y - np.array(stat.norm.interval(0.95, loc = y, scale = y_err))[0, :], np.array(stat.norm.interval(0.95, loc = y, scale = y_err))[1, :] - y\n",
    "    plot0 = plt.errorbar(x[0], y[0], xerr = [x_CI[0][0], x_CI[1][0]], yerr = [y_CI[0][0], y_CI[1][0]], capsize = 3)\n",
    "    plot1 = plt.errorbar(x[1], y[1], xerr = [x_CI[0][1], x_CI[1][1]], yerr = [y_CI[0][1], y_CI[1][1]], capsize = 3)\n",
    "\n",
    "\n",
    "    #plot0 = plt.errorbar(x[0], y[0], xerr = x_err[0], yerr = y_err[0], capsize = 3)\n",
    "    #plot1 = plt.errorbar(x[1], y[1], xerr = x_err[1], yerr = y_err[1], capsize = 3)\n",
    "    #plot0 = plt.errorbar(x[0], y[0], xerr = x_conf_interval[:, 0], yerr = y_conf_interval[:, 0], capsize = 3)\n",
    "    #plot1 = plt.errorbar(x[1], y[1], xerr = x_conf_interval[:, 1], yerr = y_conf_interval[:, 1], capsize = 3)\n",
    "    #plot2 = plt.errorbar(x[2], y[2], xerr = x_conf_interval[:, 2], yerr = y_conf_interval[:, 2], capsize = 3)\n",
    "    #plot3 = plt.errorbar(x[3], y[3], xerr = x_conf_interval[:, 3], yerr = y_conf_interval[:, 3], capsize = 3)\n",
    "    print (x[0], y[0])\n",
    "    plt.legend((plot0, plot1), ('Speed', 'Accuracy'))#, 'Gradual Speed', 'Gradual Accuracy'))\n",
    "    plt.xlabel('fit A')\n",
    "    plt.ylabel('fit B')"
   ]
  },
  {
   "cell_type": "code",
   "execution_count": 207,
   "metadata": {},
   "outputs": [
    {
     "name": "stdout",
     "output_type": "stream",
     "text": [
      "[0.8275174] [0.13779161]\n"
     ]
    },
    {
     "data": {
      "image/png": "[encoded data removed]",
      "text/plain": [
       "<Figure size 432x288 with 1 Axes>"
      ]
     },
     "metadata": {
      "needs_background": "light"
     },
     "output_type": "display_data"
    }
   ],
   "source": [
    "plot_collapsed_across_rotation_fits(fit_A, fit_B)"
   ]
  },
  {
   "cell_type": "code",
   "execution_count": 208,
   "metadata": {},
   "outputs": [
    {
     "name": "stdout",
     "output_type": "stream",
     "text": [
      "[0.77025441] [0.43096595]\n"
     ]
    },
    {
     "data": {
      "image/png": "[encoded data removed]",
      "text/plain": [
       "<Figure size 432x288 with 1 Axes>"
      ]
     },
     "metadata": {
      "needs_background": "light"
     },
     "output_type": "display_data"
    }
   ],
   "source": [
    "plot_collapsed_across_rotation_fits(fit_transfer_A, fit_transfer_B)"
   ]
  },
  {
   "cell_type": "code",
   "execution_count": null,
   "metadata": {},
   "outputs": [],
   "source": []
  },
  {
   "cell_type": "code",
   "execution_count": null,
   "metadata": {},
   "outputs": [],
   "source": []
  },
  {
   "cell_type": "code",
   "execution_count": null,
   "metadata": {},
   "outputs": [],
   "source": []
  },
  {
   "cell_type": "code",
   "execution_count": 22,
   "metadata": {},
   "outputs": [],
   "source": [
    "#np.mean(np.mean(error_sum[1::4], axis = 2), axis = 0)\n",
    "#stat.sem(np.mean(error_sum[1::4], axis = 2), axis = 0)\n",
    "def plot_param_fits(fit_A, text):\n",
    "#    quantiles = get_quantile(total_times)\n",
    "    xpos = [0, 1, 2, 3, 4]\n",
    "    y = np.array([np.mean(fit_A[1::4]),\n",
    "                     np.mean(fit_A[0::4]), \n",
    "                     np.mean(fit_A[3::4]),\n",
    "                     np.mean(fit_A[2::4])])# - np.mean(np.median(distances[1::4], axis = 2), axis = 0)[10],\n",
    "    y_sem = np.array([stat.sem(fit_A[2::4]),\n",
    "                             stat.sem(fit_A[2::4]),\n",
    "                             stat.sem(fit_A[2::4]),\n",
    "                             stat.sem(fit_A[2::4])]) \n",
    "    #print (y_sem[0])\n",
    "    #y_sem = np.array([0, 0, 0, 0])\n",
    "    plt.bar(0, y[0], yerr = y_sem[0], capsize = 3, fill = False)\n",
    "    plt.bar(1, y[1], yerr = y_sem[1], capsize = 3, color = [0.5, 0.5, 0.5])\n",
    "    plt.bar(2, y[2], yerr = y_sem[2], capsize = 3, hatch = '\\\\', fill = False)\n",
    "    plt.bar(3, y[3], yerr = y_sem[3], capsize = 3, hatch = '\\\\', color = [0.5, 0.5, 0.5])\n",
    "\n",
    "#    handles = plt.bar(range(4), y, yerr = y_sem, capsize = 3, color = ['Blue', 'Green', 'Blue', 'Green'], alpha = [1, 0.5, 0.5, 1])\n",
    "    plt.xticks([0, 1, 2, 3], ['Sudden \\n Accuracy', 'Sudden \\n Speed', 'Gradual \\n Accuracy', 'Gradual \\nSpeed'], rotation = 'vertical')\n",
    "    plt.ylabel('fit values')\n",
    "    plt.xlabel('Condition')\n",
    "    #plt.legend([handles[0], handles[1]], ['Speed', 'Accuracy'])\n",
    "    plt.title(text)\n",
    "    #plt.ylim(0, 45)\n",
    "    print (y)\n",
    "#np.shape(np.mean(error_sum[1::4], axis = 0))\n"
   ]
  },
  {
   "cell_type": "code",
   "execution_count": null,
   "metadata": {},
   "outputs": [],
   "source": []
  },
  {
   "cell_type": "code",
   "execution_count": null,
   "metadata": {},
   "outputs": [],
   "source": []
  },
  {
   "cell_type": "code",
   "execution_count": null,
   "metadata": {},
   "outputs": [],
   "source": []
  },
  {
   "cell_type": "code",
   "execution_count": null,
   "metadata": {},
   "outputs": [],
   "source": []
  },
  {
   "cell_type": "code",
   "execution_count": 159,
   "metadata": {},
   "outputs": [],
   "source": [
    "#Target error: Angle between start to current and start to target cursor\n",
    "def calc_target_error(percentage_trajectory):\n",
    "    target_errors = np.zeros((60, 12, 64))\n",
    "    for data in range(1000, 1060):\n",
    "        for block in range(12):\n",
    "            traj = scipy.io.loadmat('data/data{data}/actual_trajectories/trajectories{block}.mat'.format(block=str(block), data=str(data)))\n",
    "            for trial in range(64):\n",
    "                trajx, trajy = traj['x'][0][trial][0], traj['y'][0][trial][0]\n",
    "                targetx, targety = trajx[-1], trajy[-1]\n",
    "                partial_trajx, partial_trajy = get_partial_traj(data, block, trial, percentage_trajectory)\n",
    "                angles = list()\n",
    "                for i in range(len(partial_trajx[:-1])):\n",
    "                    #print (trajx[i], trajy[i])\n",
    "                    angles.append(calc_angle(np.array([0, 0]), np.array([partial_trajx[i], partial_trajy[i]]), np.array([trajx[-1], trajy[-1]])))  \n",
    "                target_errors[data-1000][block][trial] = np.nanmean(angles)\n",
    "    return target_errors"
   ]
  },
  {
   "cell_type": "code",
   "execution_count": 160,
   "metadata": {},
   "outputs": [
    {
     "name": "stderr",
     "output_type": "stream",
     "text": [
      "C:\\Users\\Tejas\\Anaconda3\\lib\\site-packages\\ipykernel_launcher.py:4: RuntimeWarning: invalid value encountered in true_divide\n",
      "  after removing the cwd from sys.path.\n",
      "C:\\Users\\Tejas\\Anaconda3\\lib\\site-packages\\ipykernel_launcher.py:4: RuntimeWarning: invalid value encountered in double_scalars\n",
      "  after removing the cwd from sys.path.\n",
      "C:\\Users\\Tejas\\Anaconda3\\lib\\site-packages\\ipykernel_launcher.py:15: RuntimeWarning: Mean of empty slice\n",
      "  from ipykernel import kernelapp as app\n",
      "C:\\Users\\Tejas\\Anaconda3\\lib\\site-packages\\ipykernel_launcher.py:5: RuntimeWarning: invalid value encountered in arccos\n",
      "  \"\"\"\n"
     ]
    }
   ],
   "source": [
    "target_errors = calc_target_error(1)"
   ]
  },
  {
   "cell_type": "code",
   "execution_count": null,
   "metadata": {},
   "outputs": [],
   "source": []
  },
  {
   "cell_type": "code",
   "execution_count": 48,
   "metadata": {},
   "outputs": [],
   "source": [
    "def calc_aiming_error(percentage_trajectory):\n",
    "    aiming_errors = np.zeros((60, 12, 64))\n",
    "    for data in range(1000, 1060):\n",
    "        for block in range(12):\n",
    "            traj = scipy.io.loadmat('data/data{data}/actual_trajectories/trajectories{block}.mat'.format(block=str(block), data=str(data)))\n",
    "            for trial in range(64):\n",
    "                trajx, trajy = traj['x'][0][trial][0], traj['y'][0][trial][0]\n",
    "                targetx, targety = trajx[-1], trajy[-1]\n",
    "                partial_trajx, partial_trajy = get_partial_traj(data, block, trial, percentage_trajectory)\n",
    "                angles = list()\n",
    "                for i in range(len(partial_trajx[:-1])):\n",
    "                    #print (trajx[i], trajy[i])\n",
    "                    angles.append(calc_angle(np.array([0, 0]), np.array([partial_trajx[i], partial_trajy[i]]), np.array([-trajx[-1], trajy[-1]])))  \n",
    "                if data%4 == 2 or data%4 == 3:\n",
    "                    aiming_errors[data-1000][block][trial] = np.nanmean(angles) - (90 - block*10)\n",
    "                else:\n",
    "                    aiming_errors[data-1000][block][trial] = np.nanmean(angles)\n",
    "\n",
    "    return aiming_errors"
   ]
  },
  {
   "cell_type": "code",
   "execution_count": 231,
   "metadata": {},
   "outputs": [
    {
     "name": "stderr",
     "output_type": "stream",
     "text": [
      "C:\\Users\\Tejas\\Anaconda3\\lib\\site-packages\\ipykernel_launcher.py:4: RuntimeWarning: invalid value encountered in true_divide\n",
      "  after removing the cwd from sys.path.\n",
      "C:\\Users\\Tejas\\Anaconda3\\lib\\site-packages\\ipykernel_launcher.py:4: RuntimeWarning: invalid value encountered in double_scalars\n",
      "  after removing the cwd from sys.path.\n",
      "C:\\Users\\Tejas\\Anaconda3\\lib\\site-packages\\ipykernel_launcher.py:17: RuntimeWarning: Mean of empty slice\n",
      "C:\\Users\\Tejas\\Anaconda3\\lib\\site-packages\\ipykernel_launcher.py:15: RuntimeWarning: Mean of empty slice\n",
      "  from ipykernel import kernelapp as app\n",
      "C:\\Users\\Tejas\\Anaconda3\\lib\\site-packages\\ipykernel_launcher.py:5: RuntimeWarning: invalid value encountered in arccos\n",
      "  \"\"\"\n"
     ]
    }
   ],
   "source": [
    "aiming_errors = calc_aiming_error(1)"
   ]
  },
  {
   "cell_type": "code",
   "execution_count": null,
   "metadata": {},
   "outputs": [],
   "source": []
  },
  {
   "cell_type": "code",
   "execution_count": null,
   "metadata": {},
   "outputs": [],
   "source": []
  },
  {
   "cell_type": "code",
   "execution_count": 38,
   "metadata": {},
   "outputs": [],
   "source": [
    "def plot_errors_trials(num_points, first_trial, last_trial, errors, title_text):\n",
    "    plt.figure(figsize=(20, 5))\n",
    "    plot_0, = plt.plot(np.nanmean(np.split(np.ravel(np.nanmean(errors[0::4], axis = 0)[1:][:, first_trial:last_trial]), num_points), axis = 1), alpha = 0.5)\n",
    "    plot_1, = plt.plot(np.nanmean(np.split(np.ravel(np.nanmean(errors[1::4], axis = 0)[1:][:, first_trial:last_trial]), num_points), axis = 1), alpha = 0.5)\n",
    "    plot_2, = plt.plot(np.nanmean(np.split(np.ravel(np.nanmean(errors[2::4], axis = 0)[1:][:, first_trial:last_trial]), num_points), axis = 1))\n",
    "    plot_3, = plt.plot(np.nanmean(np.split(np.ravel(np.nanmean(errors[3::4], axis = 0)[1:][:, first_trial:last_trial]), num_points), axis = 1))\n",
    "\n",
    "    plt.legend((plot_0, plot_1, plot_2, plot_3), ('Sudden Speed', 'Sudden Accuracy', 'Gradual Speed', 'Gradual Accuracy'))\n",
    "    plt.xlabel('Trials')\n",
    "    plt.ylabel('Angular Errors')\n",
    "    plt.title(title_text)"
   ]
  },
  {
   "cell_type": "code",
   "execution_count": null,
   "metadata": {},
   "outputs": [],
   "source": []
  },
  {
   "cell_type": "code",
   "execution_count": null,
   "metadata": {},
   "outputs": [],
   "source": []
  },
  {
   "cell_type": "code",
   "execution_count": null,
   "metadata": {},
   "outputs": [],
   "source": []
  },
  {
   "cell_type": "markdown",
   "metadata": {},
   "source": [
    "# 2-state model"
   ]
  },
  {
   "cell_type": "code",
   "execution_count": 236,
   "metadata": {},
   "outputs": [],
   "source": [
    "def dual_model_sudden(num_trials, Af, Bf, As, Bs):\n",
    "    errors = np.zeros((num_trials))\n",
    "    rotation = 90\n",
    "    fast_est = 0\n",
    "    slow_est = 0\n",
    "    rotation_est = fast_est + slow_est\n",
    "    for trial in range(num_trials):\n",
    "        errors[trial] = rotation - rotation_est\n",
    "        #print(errors[trial])\n",
    "        fast_est = Af*fast_est + Bf*errors[trial]\n",
    "        slow_est = As*slow_est + Bs*errors[trial]\n",
    "        rotation_est = fast_est + slow_est\n",
    "        #print (rotation_est)\n",
    "    return errors\n",
    "\n",
    "def dual_model_gradual(num_trials, Af, Bf, As, Bs):\n",
    "    errors = np.zeros((num_trials))\n",
    "    fast_est = 0\n",
    "    slow_est = 0\n",
    "    rotation_est = 0\n",
    "    rotation = 0\n",
    "    for trial in range(num_trials):\n",
    "        if trial%64 == 0:\n",
    "            if rotation != 90:\n",
    "                rotation = rotation + 10\n",
    "        errors[trial] = rotation - rotation_est\n",
    "        #print(errors[trial])\n",
    "        fast_est = Af*fast_est + Bf*errors[trial]\n",
    "        slow_est = As*slow_est + Bs*errors[trial]\n",
    "        rotation_est = fast_est + slow_est\n",
    "        #print (rotation_est)\n",
    "    return errors"
   ]
  },
  {
   "cell_type": "code",
   "execution_count": 237,
   "metadata": {},
   "outputs": [],
   "source": [
    "def residuals_sudden(params, num_trials, data_errors):\n",
    "    model_errors = dual_model_sudden(num_trials, params[0], params[1], params[2], params[3])\n",
    "    residual_error = np.sum(np.square(model_errors - data_errors))\n",
    "    if params[0] > params[2]:\n",
    "        residual_error = residual_error + 10000000\n",
    "    if params[1] < params[3]:\n",
    "        residual_error = residual_error + 10000000\n",
    "    if params[0] < 0 or params[1] < 0 or params[2] < 0 or params[3] < 0:\n",
    "        residual_error = residual_error + 10000000\n",
    "    return residual_error"
   ]
  },
  {
   "cell_type": "code",
   "execution_count": 238,
   "metadata": {},
   "outputs": [],
   "source": [
    "def residuals_gradual(params, num_trials, data_errors):\n",
    "    model_errors = dual_model_gradual(num_trials, params[0], params[1], params[2], params[3])\n",
    "    residual_error = np.sum(np.square(model_errors - data_errors))\n",
    "    if params[0] > params[2]:\n",
    "        residual_error = residual_error + 10000000\n",
    "    if params[1] < params[3]:\n",
    "        residual_error = residual_error + 10000000\n",
    "    if params[0] < 0 or params[1] < 0 or params[2] < 0 or params[3] < 0:\n",
    "        residual_error = residual_error + 10000000\n",
    "    return residual_error"
   ]
  },
  {
   "cell_type": "code",
   "execution_count": null,
   "metadata": {},
   "outputs": [],
   "source": []
  },
  {
   "cell_type": "code",
   "execution_count": null,
   "metadata": {},
   "outputs": [],
   "source": []
  },
  {
   "cell_type": "code",
   "execution_count": null,
   "metadata": {},
   "outputs": [],
   "source": []
  },
  {
   "cell_type": "code",
   "execution_count": null,
   "metadata": {},
   "outputs": [],
   "source": []
  },
  {
   "cell_type": "code",
   "execution_count": null,
   "metadata": {},
   "outputs": [],
   "source": []
  },
  {
   "cell_type": "code",
   "execution_count": null,
   "metadata": {},
   "outputs": [],
   "source": []
  },
  {
   "cell_type": "code",
   "execution_count": 257,
   "metadata": {},
   "outputs": [],
   "source": [
    "#Divide the whole thing into 16 trial blocks and fit them\n",
    "def run_fits_dual(curvatures, num_trials, part_size, fit_A, fit_B):\n",
    "    num_fits = int(num_trials/part_size)\n",
    "    fit_As = np.zeros((60, num_fits))\n",
    "    fit_Bs = np.zeros((60, num_fits))\n",
    "    fit_Af = np.zeros((60, num_fits))\n",
    "    fit_Bf = np.zeros((60, num_fits))\n",
    "    fit_V = np.full((60, num_fits), np.inf)\n",
    "    fit_success = np.zeros((60, num_fits))\n",
    "\n",
    "    for participant in range(60):\n",
    "        for fit_parts in range(num_fits):\n",
    "            #starting_points = np.array([[fit_A[participant][fit_parts], fit_B[participant][fit_parts], 0.9, 0.2], [fit_A[participant][fit_parts], fit_B[participant][fit_parts], 0.99, 0.1], [fit_A[participant][fit_parts], fit_B[participant][fit_parts], 0.8, 0.3], [fit_A[participant][fit_parts], fit_B[participant][fit_parts], 0.7, 0.4], [fit_A[participant][fit_parts], fit_B[participant][fit_parts], 0.6, 0.5], [fit_A[participant][fit_parts], fit_B[participant][fit_parts], 0.5, 0.6], [fit_A[participant][fit_parts], fit_B[participant][fit_parts], 0.4, 0.7], [fit_A[participant][fit_parts], fit_B[participant][fit_parts], 0.3, 0.8], [fit_A[participant][fit_parts], fit_B[participant][fit_parts], 0.2, 0.9], [fit_A[participant][fit_parts], fit_B[participant][fit_parts], 0.1, 0.99],\n",
    "            #                [0.9, 0.2, fit_A[participant][fit_parts], fit_B[participant][fit_parts]], [0.99, 0.1, fit_A[participant][fit_parts], fit_B[participant][fit_parts]], [0.8, 0.3, fit_A[participant][fit_parts], fit_B[participant][fit_parts]], [0.7, 0.4, fit_A[participant][fit_parts], fit_B[participant][fit_parts]], [0.6, 0.5, fit_A[participant][fit_parts], fit_B[participant][fit_parts]], [0.5, 0.6, fit_A[participant][fit_parts], fit_B[participant][fit_parts]], [0.4, 0.7, fit_A[participant][fit_parts], fit_B[participant][fit_parts]], [0.3, 0.8, fit_A[participant][fit_parts], fit_B[participant][fit_parts]], [0.2, 0.9, fit_A[participant][fit_parts], fit_B[participant][fit_parts]], [0.1, 0.99, fit_A[participant][fit_parts], fit_B[participant][fit_parts]]])\n",
    "            #starting_points = np.array([[0.9, 0.2, 0.99, 0.02], [0.8, 0.3, 0.9, 0.03], [0.7, 0.4, 0.8, 0.04], [0.6, 0.5, 0.7, 0.05]])\n",
    "            starting_points = np.array([[0.9, 0.2, 0.99, 0.02]])\n",
    "            for initial_point in starting_points:\n",
    "                if participant%4 == 0 or participant%4 == 1:      \n",
    "                    #fits = scipy.optimize.minimize(residuals_sudden, x0 = [initial_point[0], initial_point[1], initial_point[2], initial_point[3]], args = (640, np.nan_to_num(np.ravel(curvatures[participant][1:-1]), nan = np.nanmedian(curvatures[participant][1:-1]))), method = 'Nelder-Mead')            \n",
    "                    fits = scipy.optimize.basinhopping(residuals_sudden, x0 = [initial_point[0], initial_point[1], initial_point[2], initial_point[3]], minimizer_kwargs={'args': (640, np.nan_to_num(np.ravel(curvatures[participant][1:-1]), nan = np.nanmedian(curvatures[participant][1:-1]))), 'method': 'Nelder-Mead'})\n",
    "                    \n",
    "                    if fits.fun < fit_V[participant][fit_parts]:\n",
    "                        fit_Af[participant][fit_parts] = fits.x[0]\n",
    "                        fit_Bf[participant][fit_parts] = fits.x[1]\n",
    "                        fit_As[participant][fit_parts] = fits.x[2]\n",
    "                        fit_Bs[participant][fit_parts] = fits.x[3]\n",
    "                        fit_V[participant][fit_parts] = fits.fun\n",
    "                        #fit_success[participant][fit_parts] = fits.success                \n",
    "                else:\n",
    "                    #fits = scipy.optimize.minimize(residuals_gradual, x0 = [initial_point[0], initial_point[1], initial_point[2], initial_point[3]], args = (640, np.nan_to_num(np.ravel(curvatures[participant][1:-1]), nan = np.nanmedian(curvatures[participant][1:-1]))), method = 'Nelder-Mead')         \n",
    "                    fits = scipy.optimize.basinhopping(residuals_gradual, x0 = [initial_point[0], initial_point[1], initial_point[2], initial_point[3]], minimizer_kwargs={'args': (640, np.nan_to_num(np.ravel(curvatures[participant][1:-1]), nan = np.nanmedian(curvatures[participant][1:-1]))), 'method': 'Nelder-Mead'})\n",
    "                    if fits.fun < fit_V[participant][fit_parts]:\n",
    "                        fit_Af[participant][fit_parts] = fits.x[0]\n",
    "                        fit_Bf[participant][fit_parts] = fits.x[1]\n",
    "                        fit_As[participant][fit_parts] = fits.x[2]\n",
    "                        fit_Bs[participant][fit_parts] = fits.x[3]\n",
    "                        fit_V[participant][fit_parts] = fits.fun\n",
    "                        #fit_success[participant][fit_parts] = fits.success\n",
    "\n",
    "        print (fits.fun)\n",
    "    return fit_Af, fit_Bf, fit_As, fit_Bs, fit_V, fit_success\n",
    "        "
   ]
  },
  {
   "cell_type": "code",
   "execution_count": 258,
   "metadata": {},
   "outputs": [
    {
     "name": "stdout",
     "output_type": "stream",
     "text": [
      "178495.61238475758\n"
     ]
    },
    {
     "name": "stderr",
     "output_type": "stream",
     "text": [
      "C:\\Users\\Tejas\\Anaconda3\\lib\\site-packages\\ipykernel_launcher.py:3: RuntimeWarning: overflow encountered in square\n",
      "  This is separate from the ipykernel package so we can avoid doing imports until\n",
      "C:\\Users\\Tejas\\Anaconda3\\lib\\site-packages\\scipy\\optimize\\optimize.py:597: RuntimeWarning: invalid value encountered in subtract\n",
      "  numpy.max(numpy.abs(fsim[0] - fsim[1:])) <= fatol):\n"
     ]
    },
    {
     "name": "stdout",
     "output_type": "stream",
     "text": [
      "81347.33855405595\n"
     ]
    },
    {
     "name": "stderr",
     "output_type": "stream",
     "text": [
      "C:\\Users\\Tejas\\Anaconda3\\lib\\site-packages\\numpy\\core\\fromnumeric.py:90: RuntimeWarning: overflow encountered in reduce\n",
      "  return ufunc.reduce(obj, axis, dtype, out, **passkwargs)\n"
     ]
    },
    {
     "name": "stdout",
     "output_type": "stream",
     "text": [
      "23228.9863721101\n",
      "32048.545940530475\n",
      "53727.13272105944\n",
      "73429.85569893618\n",
      "29094.716117059656\n",
      "28662.192874071487\n",
      "86889.36730600016\n",
      "116848.68603806105\n",
      "51097.53192860754\n",
      "21779.296953469435\n",
      "544539.6669669847\n",
      "94462.77277125925\n",
      "110165.94149079986\n",
      "15364.91088791128\n",
      "102293.71575219001\n",
      "57838.13228524553\n",
      "22301.642106993197\n",
      "36798.977525510185\n",
      "94045.28867625646\n",
      "92364.62670680381\n",
      "75540.51292840557\n",
      "33914.85448348578\n",
      "104355.52495467654\n",
      "64807.04372433421\n",
      "49307.16844628367\n",
      "50317.648076790065\n",
      "412369.70410926914\n",
      "124565.49202562371\n",
      "30723.754068566792\n",
      "30562.70546827284\n",
      "55965.30422679499\n",
      "74844.88529994924\n",
      "24277.246922020935\n",
      "19300.515556075414\n",
      "161376.4528489173\n",
      "142623.1274912663\n",
      "52146.004444510654\n",
      "24195.43561377816\n",
      "595475.6952403204\n",
      "58900.40929604088\n",
      "92936.79906893699\n",
      "29881.088869419837\n",
      "97871.17674538706\n",
      "202721.56144019502\n",
      "133534.94058420745\n",
      "28352.752654685937\n",
      "255153.6041489806\n",
      "106281.85955100533\n",
      "39106.260444282394\n",
      "39714.66890848616\n",
      "133305.82624343183\n",
      "101971.66171135214\n",
      "32499.609601312768\n",
      "24346.377110231722\n",
      "76136.72350531409\n",
      "81671.1695920281\n",
      "34399.4940670225\n",
      "20158.15253843285\n"
     ]
    }
   ],
   "source": [
    "Af, Bf, As, Bs, fit_V_dual, fit_success_dual = run_fits_dual(curvatures_smooth, 640, 640, fit_A, fit_B)"
   ]
  },
  {
   "cell_type": "code",
   "execution_count": 53,
   "metadata": {},
   "outputs": [],
   "source": [
    "#plot_param_fits(As, \"A slow\")\n",
    "#plot_param_fits(Af, \"A fast\")"
   ]
  },
  {
   "cell_type": "code",
   "execution_count": 209,
   "metadata": {},
   "outputs": [
    {
     "data": {
      "application/javascript": [
       "/* Put everything inside the global mpl namespace */\n",
       "window.mpl = {};\n",
       "\n",
       "\n",
       "mpl.get_websocket_type = function() {\n",
       "    if (typeof(WebSocket) !== 'undefined') {\n",
       "        return WebSocket;\n",
       "    } else if (typeof(MozWebSocket) !== 'undefined') {\n",
       "        return MozWebSocket;\n",
       "    } else {\n",
       "        alert('Your browser does not have WebSocket support. ' +\n",
       "              'Please try Chrome, Safari or Firefox ≥ 6. ' +\n",
       "              'Firefox 4 and 5 are also supported but you ' +\n",
       "              'have to enable WebSockets in about:config.');\n",
       "    };\n",
       "}\n",
       "\n",
       "mpl.figure = function(figure_id, websocket, ondownload, parent_element) {\n",
       "    this.id = figure_id;\n",
       "\n",
       "    this.ws = websocket;\n",
       "\n",
       "    this.supports_binary = (this.ws.binaryType != undefined);\n",
       "\n",
       "    if (!this.supports_binary) {\n",
       "        var warnings = document.getElementById(\"mpl-warnings\");\n",
       "        if (warnings) {\n",
       "            warnings.style.display = 'block';\n",
       "            warnings.textContent = (\n",
       "                \"This browser does not support binary websocket messages. \" +\n",
       "                    \"Performance may be slow.\");\n",
       "        }\n",
       "    }\n",
       "\n",
       "    this.imageObj = new Image();\n",
       "\n",
       "    this.context = undefined;\n",
       "    this.message = undefined;\n",
       "    this.canvas = undefined;\n",
       "    this.rubberband_canvas = undefined;\n",
       "    this.rubberband_context = undefined;\n",
       "    this.format_dropdown = undefined;\n",
       "\n",
       "    this.image_mode = 'full';\n",
       "\n",
       "    this.root = $('<div/>');\n",
       "    this._root_extra_style(this.root)\n",
       "    this.root.attr('style', 'display: inline-block');\n",
       "\n",
       "    $(parent_element).append(this.root);\n",
       "\n",
       "    this._init_header(this);\n",
       "    this._init_canvas(this);\n",
       "    this._init_toolbar(this);\n",
       "\n",
       "    var fig = this;\n",
       "\n",
       "    this.waiting = false;\n",
       "\n",
       "    this.ws.onopen =  function () {\n",
       "            fig.send_message(\"supports_binary\", {value: fig.supports_binary});\n",
       "            fig.send_message(\"send_image_mode\", {});\n",
       "            if (mpl.ratio != 1) {\n",
       "                fig.send_message(\"set_dpi_ratio\", {'dpi_ratio': mpl.ratio});\n",
       "            }\n",
       "            fig.send_message(\"refresh\", {});\n",
       "        }\n",
       "\n",
       "    this.imageObj.onload = function() {\n",
       "            if (fig.image_mode == 'full') {\n",
       "                // Full images could contain transparency (where diff images\n",
       "                // almost always do), so we need to clear the canvas so that\n",
       "                // there is no ghosting.\n",
       "                fig.context.clearRect(0, 0, fig.canvas.width, fig.canvas.height);\n",
       "            }\n",
       "            fig.context.drawImage(fig.imageObj, 0, 0);\n",
       "        };\n",
       "\n",
       "    this.imageObj.onunload = function() {\n",
       "        fig.ws.close();\n",
       "    }\n",
       "\n",
       "    this.ws.onmessage = this._make_on_message_function(this);\n",
       "\n",
       "    this.ondownload = ondownload;\n",
       "}\n",
       "\n",
       "mpl.figure.prototype._init_header = function() {\n",
       "    var titlebar = $(\n",
       "        '<div class=\"ui-dialog-titlebar ui-widget-header ui-corner-all ' +\n",
       "        'ui-helper-clearfix\"/>');\n",
       "    var titletext = $(\n",
       "        '<div class=\"ui-dialog-title\" style=\"width: 100%; ' +\n",
       "        'text-align: center; padding: 3px;\"/>');\n",
       "    titlebar.append(titletext)\n",
       "    this.root.append(titlebar);\n",
       "    this.header = titletext[0];\n",
       "}\n",
       "\n",
       "\n",
       "\n",
       "mpl.figure.prototype._canvas_extra_style = function(canvas_div) {\n",
       "\n",
       "}\n",
       "\n",
       "\n",
       "mpl.figure.prototype._root_extra_style = function(canvas_div) {\n",
       "\n",
       "}\n",
       "\n",
       "mpl.figure.prototype._init_canvas = function() {\n",
       "    var fig = this;\n",
       "\n",
       "    var canvas_div = $('<div/>');\n",
       "\n",
       "    canvas_div.attr('style', 'position: relative; clear: both; outline: 0');\n",
       "\n",
       "    function canvas_keyboard_event(event) {\n",
       "        return fig.key_event(event, event['data']);\n",
       "    }\n",
       "\n",
       "    canvas_div.keydown('key_press', canvas_keyboard_event);\n",
       "    canvas_div.keyup('key_release', canvas_keyboard_event);\n",
       "    this.canvas_div = canvas_div\n",
       "    this._canvas_extra_style(canvas_div)\n",
       "    this.root.append(canvas_div);\n",
       "\n",
       "    var canvas = $('<canvas/>');\n",
       "    canvas.addClass('mpl-canvas');\n",
       "    canvas.attr('style', \"left: 0; top: 0; z-index: 0; outline: 0\")\n",
       "\n",
       "    this.canvas = canvas[0];\n",
       "    this.context = canvas[0].getContext(\"2d\");\n",
       "\n",
       "    var backingStore = this.context.backingStorePixelRatio ||\n",
       "\tthis.context.webkitBackingStorePixelRatio ||\n",
       "\tthis.context.mozBackingStorePixelRatio ||\n",
       "\tthis.context.msBackingStorePixelRatio ||\n",
       "\tthis.context.oBackingStorePixelRatio ||\n",
       "\tthis.context.backingStorePixelRatio || 1;\n",
       "\n",
       "    mpl.ratio = (window.devicePixelRatio || 1) / backingStore;\n",
       "\n",
       "    var rubberband = $('<canvas/>');\n",
       "    rubberband.attr('style', \"position: absolute; left: 0; top: 0; z-index: 1;\")\n",
       "\n",
       "    var pass_mouse_events = true;\n",
       "\n",
       "    canvas_div.resizable({\n",
       "        start: function(event, ui) {\n",
       "            pass_mouse_events = false;\n",
       "        },\n",
       "        resize: function(event, ui) {\n",
       "            fig.request_resize(ui.size.width, ui.size.height);\n",
       "        },\n",
       "        stop: function(event, ui) {\n",
       "            pass_mouse_events = true;\n",
       "            fig.request_resize(ui.size.width, ui.size.height);\n",
       "        },\n",
       "    });\n",
       "\n",
       "    function mouse_event_fn(event) {\n",
       "        if (pass_mouse_events)\n",
       "            return fig.mouse_event(event, event['data']);\n",
       "    }\n",
       "\n",
       "    rubberband.mousedown('button_press', mouse_event_fn);\n",
       "    rubberband.mouseup('button_release', mouse_event_fn);\n",
       "    // Throttle sequential mouse events to 1 every 20ms.\n",
       "    rubberband.mousemove('motion_notify', mouse_event_fn);\n",
       "\n",
       "    rubberband.mouseenter('figure_enter', mouse_event_fn);\n",
       "    rubberband.mouseleave('figure_leave', mouse_event_fn);\n",
       "\n",
       "    canvas_div.on(\"wheel\", function (event) {\n",
       "        event = event.originalEvent;\n",
       "        event['data'] = 'scroll'\n",
       "        if (event.deltaY < 0) {\n",
       "            event.step = 1;\n",
       "        } else {\n",
       "            event.step = -1;\n",
       "        }\n",
       "        mouse_event_fn(event);\n",
       "    });\n",
       "\n",
       "    canvas_div.append(canvas);\n",
       "    canvas_div.append(rubberband);\n",
       "\n",
       "    this.rubberband = rubberband;\n",
       "    this.rubberband_canvas = rubberband[0];\n",
       "    this.rubberband_context = rubberband[0].getContext(\"2d\");\n",
       "    this.rubberband_context.strokeStyle = \"#000000\";\n",
       "\n",
       "    this._resize_canvas = function(width, height) {\n",
       "        // Keep the size of the canvas, canvas container, and rubber band\n",
       "        // canvas in synch.\n",
       "        canvas_div.css('width', width)\n",
       "        canvas_div.css('height', height)\n",
       "\n",
       "        canvas.attr('width', width * mpl.ratio);\n",
       "        canvas.attr('height', height * mpl.ratio);\n",
       "        canvas.attr('style', 'width: ' + width + 'px; height: ' + height + 'px;');\n",
       "\n",
       "        rubberband.attr('width', width);\n",
       "        rubberband.attr('height', height);\n",
       "    }\n",
       "\n",
       "    // Set the figure to an initial 600x600px, this will subsequently be updated\n",
       "    // upon first draw.\n",
       "    this._resize_canvas(600, 600);\n",
       "\n",
       "    // Disable right mouse context menu.\n",
       "    $(this.rubberband_canvas).bind(\"contextmenu\",function(e){\n",
       "        return false;\n",
       "    });\n",
       "\n",
       "    function set_focus () {\n",
       "        canvas.focus();\n",
       "        canvas_div.focus();\n",
       "    }\n",
       "\n",
       "    window.setTimeout(set_focus, 100);\n",
       "}\n",
       "\n",
       "mpl.figure.prototype._init_toolbar = function() {\n",
       "    var fig = this;\n",
       "\n",
       "    var nav_element = $('<div/>');\n",
       "    nav_element.attr('style', 'width: 100%');\n",
       "    this.root.append(nav_element);\n",
       "\n",
       "    // Define a callback function for later on.\n",
       "    function toolbar_event(event) {\n",
       "        return fig.toolbar_button_onclick(event['data']);\n",
       "    }\n",
       "    function toolbar_mouse_event(event) {\n",
       "        return fig.toolbar_button_onmouseover(event['data']);\n",
       "    }\n",
       "\n",
       "    for(var toolbar_ind in mpl.toolbar_items) {\n",
       "        var name = mpl.toolbar_items[toolbar_ind][0];\n",
       "        var tooltip = mpl.toolbar_items[toolbar_ind][1];\n",
       "        var image = mpl.toolbar_items[toolbar_ind][2];\n",
       "        var method_name = mpl.toolbar_items[toolbar_ind][3];\n",
       "\n",
       "        if (!name) {\n",
       "            // put a spacer in here.\n",
       "            continue;\n",
       "        }\n",
       "        var button = $('<button/>');\n",
       "        button.addClass('ui-button ui-widget ui-state-default ui-corner-all ' +\n",
       "                        'ui-button-icon-only');\n",
       "        button.attr('role', 'button');\n",
       "        button.attr('aria-disabled', 'false');\n",
       "        button.click(method_name, toolbar_event);\n",
       "        button.mouseover(tooltip, toolbar_mouse_event);\n",
       "\n",
       "        var icon_img = $('<span/>');\n",
       "        icon_img.addClass('ui-button-icon-primary ui-icon');\n",
       "        icon_img.addClass(image);\n",
       "        icon_img.addClass('ui-corner-all');\n",
       "\n",
       "        var tooltip_span = $('<span/>');\n",
       "        tooltip_span.addClass('ui-button-text');\n",
       "        tooltip_span.html(tooltip);\n",
       "\n",
       "        button.append(icon_img);\n",
       "        button.append(tooltip_span);\n",
       "\n",
       "        nav_element.append(button);\n",
       "    }\n",
       "\n",
       "    var fmt_picker_span = $('<span/>');\n",
       "\n",
       "    var fmt_picker = $('<select/>');\n",
       "    fmt_picker.addClass('mpl-toolbar-option ui-widget ui-widget-content');\n",
       "    fmt_picker_span.append(fmt_picker);\n",
       "    nav_element.append(fmt_picker_span);\n",
       "    this.format_dropdown = fmt_picker[0];\n",
       "\n",
       "    for (var ind in mpl.extensions) {\n",
       "        var fmt = mpl.extensions[ind];\n",
       "        var option = $(\n",
       "            '<option/>', {selected: fmt === mpl.default_extension}).html(fmt);\n",
       "        fmt_picker.append(option);\n",
       "    }\n",
       "\n",
       "    // Add hover states to the ui-buttons\n",
       "    $( \".ui-button\" ).hover(\n",
       "        function() { $(this).addClass(\"ui-state-hover\");},\n",
       "        function() { $(this).removeClass(\"ui-state-hover\");}\n",
       "    );\n",
       "\n",
       "    var status_bar = $('<span class=\"mpl-message\"/>');\n",
       "    nav_element.append(status_bar);\n",
       "    this.message = status_bar[0];\n",
       "}\n",
       "\n",
       "mpl.figure.prototype.request_resize = function(x_pixels, y_pixels) {\n",
       "    // Request matplotlib to resize the figure. Matplotlib will then trigger a resize in the client,\n",
       "    // which will in turn request a refresh of the image.\n",
       "    this.send_message('resize', {'width': x_pixels, 'height': y_pixels});\n",
       "}\n",
       "\n",
       "mpl.figure.prototype.send_message = function(type, properties) {\n",
       "    properties['type'] = type;\n",
       "    properties['figure_id'] = this.id;\n",
       "    this.ws.send(JSON.stringify(properties));\n",
       "}\n",
       "\n",
       "mpl.figure.prototype.send_draw_message = function() {\n",
       "    if (!this.waiting) {\n",
       "        this.waiting = true;\n",
       "        this.ws.send(JSON.stringify({type: \"draw\", figure_id: this.id}));\n",
       "    }\n",
       "}\n",
       "\n",
       "\n",
       "mpl.figure.prototype.handle_save = function(fig, msg) {\n",
       "    var format_dropdown = fig.format_dropdown;\n",
       "    var format = format_dropdown.options[format_dropdown.selectedIndex].value;\n",
       "    fig.ondownload(fig, format);\n",
       "}\n",
       "\n",
       "\n",
       "mpl.figure.prototype.handle_resize = function(fig, msg) {\n",
       "    var size = msg['size'];\n",
       "    if (size[0] != fig.canvas.width || size[1] != fig.canvas.height) {\n",
       "        fig._resize_canvas(size[0], size[1]);\n",
       "        fig.send_message(\"refresh\", {});\n",
       "    };\n",
       "}\n",
       "\n",
       "mpl.figure.prototype.handle_rubberband = function(fig, msg) {\n",
       "    var x0 = msg['x0'] / mpl.ratio;\n",
       "    var y0 = (fig.canvas.height - msg['y0']) / mpl.ratio;\n",
       "    var x1 = msg['x1'] / mpl.ratio;\n",
       "    var y1 = (fig.canvas.height - msg['y1']) / mpl.ratio;\n",
       "    x0 = Math.floor(x0) + 0.5;\n",
       "    y0 = Math.floor(y0) + 0.5;\n",
       "    x1 = Math.floor(x1) + 0.5;\n",
       "    y1 = Math.floor(y1) + 0.5;\n",
       "    var min_x = Math.min(x0, x1);\n",
       "    var min_y = Math.min(y0, y1);\n",
       "    var width = Math.abs(x1 - x0);\n",
       "    var height = Math.abs(y1 - y0);\n",
       "\n",
       "    fig.rubberband_context.clearRect(\n",
       "        0, 0, fig.canvas.width / mpl.ratio, fig.canvas.height / mpl.ratio);\n",
       "\n",
       "    fig.rubberband_context.strokeRect(min_x, min_y, width, height);\n",
       "}\n",
       "\n",
       "mpl.figure.prototype.handle_figure_label = function(fig, msg) {\n",
       "    // Updates the figure title.\n",
       "    fig.header.textContent = msg['label'];\n",
       "}\n",
       "\n",
       "mpl.figure.prototype.handle_cursor = function(fig, msg) {\n",
       "    var cursor = msg['cursor'];\n",
       "    switch(cursor)\n",
       "    {\n",
       "    case 0:\n",
       "        cursor = 'pointer';\n",
       "        break;\n",
       "    case 1:\n",
       "        cursor = 'default';\n",
       "        break;\n",
       "    case 2:\n",
       "        cursor = 'crosshair';\n",
       "        break;\n",
       "    case 3:\n",
       "        cursor = 'move';\n",
       "        break;\n",
       "    }\n",
       "    fig.rubberband_canvas.style.cursor = cursor;\n",
       "}\n",
       "\n",
       "mpl.figure.prototype.handle_message = function(fig, msg) {\n",
       "    fig.message.textContent = msg['message'];\n",
       "}\n",
       "\n",
       "mpl.figure.prototype.handle_draw = function(fig, msg) {\n",
       "    // Request the server to send over a new figure.\n",
       "    fig.send_draw_message();\n",
       "}\n",
       "\n",
       "mpl.figure.prototype.handle_image_mode = function(fig, msg) {\n",
       "    fig.image_mode = msg['mode'];\n",
       "}\n",
       "\n",
       "mpl.figure.prototype.updated_canvas_event = function() {\n",
       "    // Called whenever the canvas gets updated.\n",
       "    this.send_message(\"ack\", {});\n",
       "}\n",
       "\n",
       "// A function to construct a web socket function for onmessage handling.\n",
       "// Called in the figure constructor.\n",
       "mpl.figure.prototype._make_on_message_function = function(fig) {\n",
       "    return function socket_on_message(evt) {\n",
       "        if (evt.data instanceof Blob) {\n",
       "            /* FIXME: We get \"Resource interpreted as Image but\n",
       "             * transferred with MIME type text/plain:\" errors on\n",
       "             * Chrome.  But how to set the MIME type?  It doesn't seem\n",
       "             * to be part of the websocket stream */\n",
       "            evt.data.type = \"image/png\";\n",
       "\n",
       "            /* Free the memory for the previous frames */\n",
       "            if (fig.imageObj.src) {\n",
       "                (window.URL || window.webkitURL).revokeObjectURL(\n",
       "                    fig.imageObj.src);\n",
       "            }\n",
       "\n",
       "            fig.imageObj.src = (window.URL || window.webkitURL).createObjectURL(\n",
       "                evt.data);\n",
       "            fig.updated_canvas_event();\n",
       "            fig.waiting = false;\n",
       "            return;\n",
       "        }\n",
       "        else if (typeof evt.data === 'string' && evt.data.slice(0, 21) == \"data:image/png;base64\") {\n",
       "            fig.imageObj.src = evt.data;\n",
       "            fig.updated_canvas_event();\n",
       "            fig.waiting = false;\n",
       "            return;\n",
       "        }\n",
       "\n",
       "        var msg = JSON.parse(evt.data);\n",
       "        var msg_type = msg['type'];\n",
       "\n",
       "        // Call the  \"handle_{type}\" callback, which takes\n",
       "        // the figure and JSON message as its only arguments.\n",
       "        try {\n",
       "            var callback = fig[\"handle_\" + msg_type];\n",
       "        } catch (e) {\n",
       "            console.log(\"No handler for the '\" + msg_type + \"' message type: \", msg);\n",
       "            return;\n",
       "        }\n",
       "\n",
       "        if (callback) {\n",
       "            try {\n",
       "                // console.log(\"Handling '\" + msg_type + \"' message: \", msg);\n",
       "                callback(fig, msg);\n",
       "            } catch (e) {\n",
       "                console.log(\"Exception inside the 'handler_\" + msg_type + \"' callback:\", e, e.stack, msg);\n",
       "            }\n",
       "        }\n",
       "    };\n",
       "}\n",
       "\n",
       "// from http://stackoverflow.com/questions/1114465/getting-mouse-location-in-canvas\n",
       "mpl.findpos = function(e) {\n",
       "    //this section is from http://www.quirksmode.org/js/events_properties.html\n",
       "    var targ;\n",
       "    if (!e)\n",
       "        e = window.event;\n",
       "    if (e.target)\n",
       "        targ = e.target;\n",
       "    else if (e.srcElement)\n",
       "        targ = e.srcElement;\n",
       "    if (targ.nodeType == 3) // defeat Safari bug\n",
       "        targ = targ.parentNode;\n",
       "\n",
       "    // jQuery normalizes the pageX and pageY\n",
       "    // pageX,Y are the mouse positions relative to the document\n",
       "    // offset() returns the position of the element relative to the document\n",
       "    var x = e.pageX - $(targ).offset().left;\n",
       "    var y = e.pageY - $(targ).offset().top;\n",
       "\n",
       "    return {\"x\": x, \"y\": y};\n",
       "};\n",
       "\n",
       "/*\n",
       " * return a copy of an object with only non-object keys\n",
       " * we need this to avoid circular references\n",
       " * http://stackoverflow.com/a/24161582/3208463\n",
       " */\n",
       "function simpleKeys (original) {\n",
       "  return Object.keys(original).reduce(function (obj, key) {\n",
       "    if (typeof original[key] !== 'object')\n",
       "        obj[key] = original[key]\n",
       "    return obj;\n",
       "  }, {});\n",
       "}\n",
       "\n",
       "mpl.figure.prototype.mouse_event = function(event, name) {\n",
       "    var canvas_pos = mpl.findpos(event)\n",
       "\n",
       "    if (name === 'button_press')\n",
       "    {\n",
       "        this.canvas.focus();\n",
       "        this.canvas_div.focus();\n",
       "    }\n",
       "\n",
       "    var x = canvas_pos.x * mpl.ratio;\n",
       "    var y = canvas_pos.y * mpl.ratio;\n",
       "\n",
       "    this.send_message(name, {x: x, y: y, button: event.button,\n",
       "                             step: event.step,\n",
       "                             guiEvent: simpleKeys(event)});\n",
       "\n",
       "    /* This prevents the web browser from automatically changing to\n",
       "     * the text insertion cursor when the button is pressed.  We want\n",
       "     * to control all of the cursor setting manually through the\n",
       "     * 'cursor' event from matplotlib */\n",
       "    event.preventDefault();\n",
       "    return false;\n",
       "}\n",
       "\n",
       "mpl.figure.prototype._key_event_extra = function(event, name) {\n",
       "    // Handle any extra behaviour associated with a key event\n",
       "}\n",
       "\n",
       "mpl.figure.prototype.key_event = function(event, name) {\n",
       "\n",
       "    // Prevent repeat events\n",
       "    if (name == 'key_press')\n",
       "    {\n",
       "        if (event.which === this._key)\n",
       "            return;\n",
       "        else\n",
       "            this._key = event.which;\n",
       "    }\n",
       "    if (name == 'key_release')\n",
       "        this._key = null;\n",
       "\n",
       "    var value = '';\n",
       "    if (event.ctrlKey && event.which != 17)\n",
       "        value += \"ctrl+\";\n",
       "    if (event.altKey && event.which != 18)\n",
       "        value += \"alt+\";\n",
       "    if (event.shiftKey && event.which != 16)\n",
       "        value += \"shift+\";\n",
       "\n",
       "    value += 'k';\n",
       "    value += event.which.toString();\n",
       "\n",
       "    this._key_event_extra(event, name);\n",
       "\n",
       "    this.send_message(name, {key: value,\n",
       "                             guiEvent: simpleKeys(event)});\n",
       "    return false;\n",
       "}\n",
       "\n",
       "mpl.figure.prototype.toolbar_button_onclick = function(name) {\n",
       "    if (name == 'download') {\n",
       "        this.handle_save(this, null);\n",
       "    } else {\n",
       "        this.send_message(\"toolbar_button\", {name: name});\n",
       "    }\n",
       "};\n",
       "\n",
       "mpl.figure.prototype.toolbar_button_onmouseover = function(tooltip) {\n",
       "    this.message.textContent = tooltip;\n",
       "};\n",
       "mpl.toolbar_items = [[\"Home\", \"Reset original view\", \"fa fa-home icon-home\", \"home\"], [\"Back\", \"Back to previous view\", \"fa fa-arrow-left icon-arrow-left\", \"back\"], [\"Forward\", \"Forward to next view\", \"fa fa-arrow-right icon-arrow-right\", \"forward\"], [\"\", \"\", \"\", \"\"], [\"Pan\", \"Pan axes with left mouse, zoom with right\", \"fa fa-arrows icon-move\", \"pan\"], [\"Zoom\", \"Zoom to rectangle\", \"fa fa-square-o icon-check-empty\", \"zoom\"], [\"\", \"\", \"\", \"\"], [\"Download\", \"Download plot\", \"fa fa-floppy-o icon-save\", \"download\"]];\n",
       "\n",
       "mpl.extensions = [\"eps\", \"jpeg\", \"pdf\", \"png\", \"ps\", \"raw\", \"svg\", \"tif\"];\n",
       "\n",
       "mpl.default_extension = \"png\";var comm_websocket_adapter = function(comm) {\n",
       "    // Create a \"websocket\"-like object which calls the given IPython comm\n",
       "    // object with the appropriate methods. Currently this is a non binary\n",
       "    // socket, so there is still some room for performance tuning.\n",
       "    var ws = {};\n",
       "\n",
       "    ws.close = function() {\n",
       "        comm.close()\n",
       "    };\n",
       "    ws.send = function(m) {\n",
       "        //console.log('sending', m);\n",
       "        comm.send(m);\n",
       "    };\n",
       "    // Register the callback with on_msg.\n",
       "    comm.on_msg(function(msg) {\n",
       "        //console.log('receiving', msg['content']['data'], msg);\n",
       "        // Pass the mpl event to the overridden (by mpl) onmessage function.\n",
       "        ws.onmessage(msg['content']['data'])\n",
       "    });\n",
       "    return ws;\n",
       "}\n",
       "\n",
       "mpl.mpl_figure_comm = function(comm, msg) {\n",
       "    // This is the function which gets called when the mpl process\n",
       "    // starts-up an IPython Comm through the \"matplotlib\" channel.\n",
       "\n",
       "    var id = msg.content.data.id;\n",
       "    // Get hold of the div created by the display call when the Comm\n",
       "    // socket was opened in Python.\n",
       "    var element = $(\"#\" + id);\n",
       "    var ws_proxy = comm_websocket_adapter(comm)\n",
       "\n",
       "    function ondownload(figure, format) {\n",
       "        window.open(figure.imageObj.src);\n",
       "    }\n",
       "\n",
       "    var fig = new mpl.figure(id, ws_proxy,\n",
       "                           ondownload,\n",
       "                           element.get(0));\n",
       "\n",
       "    // Call onopen now - mpl needs it, as it is assuming we've passed it a real\n",
       "    // web socket which is closed, not our websocket->open comm proxy.\n",
       "    ws_proxy.onopen();\n",
       "\n",
       "    fig.parent_element = element.get(0);\n",
       "    fig.cell_info = mpl.find_output_cell(\"<div id='\" + id + \"'></div>\");\n",
       "    if (!fig.cell_info) {\n",
       "        console.error(\"Failed to find cell for figure\", id, fig);\n",
       "        return;\n",
       "    }\n",
       "\n",
       "    var output_index = fig.cell_info[2]\n",
       "    var cell = fig.cell_info[0];\n",
       "\n",
       "};\n",
       "\n",
       "mpl.figure.prototype.handle_close = function(fig, msg) {\n",
       "    var width = fig.canvas.width/mpl.ratio\n",
       "    fig.root.unbind('remove')\n",
       "\n",
       "    // Update the output cell to use the data from the current canvas.\n",
       "    fig.push_to_output();\n",
       "    var dataURL = fig.canvas.toDataURL();\n",
       "    // Re-enable the keyboard manager in IPython - without this line, in FF,\n",
       "    // the notebook keyboard shortcuts fail.\n",
       "    IPython.keyboard_manager.enable()\n",
       "    $(fig.parent_element).html('<img src=\"' + dataURL + '\" width=\"' + width + '\">');\n",
       "    fig.close_ws(fig, msg);\n",
       "}\n",
       "\n",
       "mpl.figure.prototype.close_ws = function(fig, msg){\n",
       "    fig.send_message('closing', msg);\n",
       "    // fig.ws.close()\n",
       "}\n",
       "\n",
       "mpl.figure.prototype.push_to_output = function(remove_interactive) {\n",
       "    // Turn the data on the canvas into data in the output cell.\n",
       "    var width = this.canvas.width/mpl.ratio\n",
       "    var dataURL = this.canvas.toDataURL();\n",
       "    this.cell_info[1]['text/html'] = '<img src=\"' + dataURL + '\" width=\"' + width + '\">';\n",
       "}\n",
       "\n",
       "mpl.figure.prototype.updated_canvas_event = function() {\n",
       "    // Tell IPython that the notebook contents must change.\n",
       "    IPython.notebook.set_dirty(true);\n",
       "    this.send_message(\"ack\", {});\n",
       "    var fig = this;\n",
       "    // Wait a second, then push the new image to the DOM so\n",
       "    // that it is saved nicely (might be nice to debounce this).\n",
       "    setTimeout(function () { fig.push_to_output() }, 1000);\n",
       "}\n",
       "\n",
       "mpl.figure.prototype._init_toolbar = function() {\n",
       "    var fig = this;\n",
       "\n",
       "    var nav_element = $('<div/>');\n",
       "    nav_element.attr('style', 'width: 100%');\n",
       "    this.root.append(nav_element);\n",
       "\n",
       "    // Define a callback function for later on.\n",
       "    function toolbar_event(event) {\n",
       "        return fig.toolbar_button_onclick(event['data']);\n",
       "    }\n",
       "    function toolbar_mouse_event(event) {\n",
       "        return fig.toolbar_button_onmouseover(event['data']);\n",
       "    }\n",
       "\n",
       "    for(var toolbar_ind in mpl.toolbar_items){\n",
       "        var name = mpl.toolbar_items[toolbar_ind][0];\n",
       "        var tooltip = mpl.toolbar_items[toolbar_ind][1];\n",
       "        var image = mpl.toolbar_items[toolbar_ind][2];\n",
       "        var method_name = mpl.toolbar_items[toolbar_ind][3];\n",
       "\n",
       "        if (!name) { continue; };\n",
       "\n",
       "        var button = $('<button class=\"btn btn-default\" href=\"#\" title=\"' + name + '\"><i class=\"fa ' + image + ' fa-lg\"></i></button>');\n",
       "        button.click(method_name, toolbar_event);\n",
       "        button.mouseover(tooltip, toolbar_mouse_event);\n",
       "        nav_element.append(button);\n",
       "    }\n",
       "\n",
       "    // Add the status bar.\n",
       "    var status_bar = $('<span class=\"mpl-message\" style=\"text-align:right; float: right;\"/>');\n",
       "    nav_element.append(status_bar);\n",
       "    this.message = status_bar[0];\n",
       "\n",
       "    // Add the close button to the window.\n",
       "    var buttongrp = $('<div class=\"btn-group inline pull-right\"></div>');\n",
       "    var button = $('<button class=\"btn btn-mini btn-primary\" href=\"#\" title=\"Stop Interaction\"><i class=\"fa fa-power-off icon-remove icon-large\"></i></button>');\n",
       "    button.click(function (evt) { fig.handle_close(fig, {}); } );\n",
       "    button.mouseover('Stop Interaction', toolbar_mouse_event);\n",
       "    buttongrp.append(button);\n",
       "    var titlebar = this.root.find($('.ui-dialog-titlebar'));\n",
       "    titlebar.prepend(buttongrp);\n",
       "}\n",
       "\n",
       "mpl.figure.prototype._root_extra_style = function(el){\n",
       "    var fig = this\n",
       "    el.on(\"remove\", function(){\n",
       "\tfig.close_ws(fig, {});\n",
       "    });\n",
       "}\n",
       "\n",
       "mpl.figure.prototype._canvas_extra_style = function(el){\n",
       "    // this is important to make the div 'focusable\n",
       "    el.attr('tabindex', 0)\n",
       "    // reach out to IPython and tell the keyboard manager to turn it's self\n",
       "    // off when our div gets focus\n",
       "\n",
       "    // location in version 3\n",
       "    if (IPython.notebook.keyboard_manager) {\n",
       "        IPython.notebook.keyboard_manager.register_events(el);\n",
       "    }\n",
       "    else {\n",
       "        // location in version 2\n",
       "        IPython.keyboard_manager.register_events(el);\n",
       "    }\n",
       "\n",
       "}\n",
       "\n",
       "mpl.figure.prototype._key_event_extra = function(event, name) {\n",
       "    var manager = IPython.notebook.keyboard_manager;\n",
       "    if (!manager)\n",
       "        manager = IPython.keyboard_manager;\n",
       "\n",
       "    // Check for shift+enter\n",
       "    if (event.shiftKey && event.which == 13) {\n",
       "        this.canvas_div.blur();\n",
       "        // select the cell after this one\n",
       "        var index = IPython.notebook.find_cell_index(this.cell_info[0]);\n",
       "        IPython.notebook.select(index + 1);\n",
       "    }\n",
       "}\n",
       "\n",
       "mpl.figure.prototype.handle_save = function(fig, msg) {\n",
       "    fig.ondownload(fig, null);\n",
       "}\n",
       "\n",
       "\n",
       "mpl.find_output_cell = function(html_output) {\n",
       "    // Return the cell and output element which can be found *uniquely* in the notebook.\n",
       "    // Note - this is a bit hacky, but it is done because the \"notebook_saving.Notebook\"\n",
       "    // IPython event is triggered only after the cells have been serialised, which for\n",
       "    // our purposes (turning an active figure into a static one), is too late.\n",
       "    var cells = IPython.notebook.get_cells();\n",
       "    var ncells = cells.length;\n",
       "    for (var i=0; i<ncells; i++) {\n",
       "        var cell = cells[i];\n",
       "        if (cell.cell_type === 'code'){\n",
       "            for (var j=0; j<cell.output_area.outputs.length; j++) {\n",
       "                var data = cell.output_area.outputs[j];\n",
       "                if (data.data) {\n",
       "                    // IPython >= 3 moved mimebundle to data attribute of output\n",
       "                    data = data.data;\n",
       "                }\n",
       "                if (data['text/html'] == html_output) {\n",
       "                    return [cell, data, j];\n",
       "                }\n",
       "            }\n",
       "        }\n",
       "    }\n",
       "}\n",
       "\n",
       "// Register the function which deals with the matplotlib target/channel.\n",
       "// The kernel may be null if the page has been refreshed.\n",
       "if (IPython.notebook.kernel != null) {\n",
       "    IPython.notebook.kernel.comm_manager.register_target('matplotlib', mpl.mpl_figure_comm);\n",
       "}\n"
      ],
      "text/plain": [
       "<IPython.core.display.Javascript object>"
      ]
     },
     "metadata": {},
     "output_type": "display_data"
    },
    {
     "data": {
      "text/html": [
       "<img src=\"data:image/png;base64,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\" width=\"640\">"
      ],
      "text/plain": [
       "<IPython.core.display.HTML object>"
      ]
     },
     "metadata": {},
     "output_type": "display_data"
    },
    {
     "name": "stdout",
     "output_type": "stream",
     "text": [
      "[0.19937675 0.11229053 0.66982926 0.64866456]\n"
     ]
    }
   ],
   "source": [
    "#plot_param_fits(Bs, \"B slow\")\n",
    "plot_param_fits(Bf, \"B fast\")"
   ]
  },
  {
   "cell_type": "code",
   "execution_count": 259,
   "metadata": {},
   "outputs": [],
   "source": [
    "Aslows = np.array([np.mean(As[0::4], axis = 0), np.mean(As[1::4], axis = 0), np.mean(As[2::4], axis = 0), np.mean(As[3::4], axis = 0)])\n",
    "Bslows = np.array([np.mean(Bs[0::4], axis = 0), np.mean(Bs[1::4], axis = 0), np.mean(Bs[2::4], axis = 0), np.mean(Bs[3::4], axis = 0)])\n",
    "Afasts = np.array([np.mean(Af[0::4], axis = 0), np.mean(Af[1::4], axis = 0), np.mean(Af[2::4], axis = 0), np.mean(Af[3::4], axis = 0)])\n",
    "Bfasts = np.array([np.mean(Bf[0::4], axis = 0), np.mean(Bf[1::4], axis = 0), np.mean(Bf[2::4], axis = 0), np.mean(Bf[3::4], axis = 0)])\n",
    "Aserrors = np.array([stat.sem(As[0::4], axis = 0), stat.sem(As[1::4], axis = 0), stat.sem(As[2::4], axis = 0), stat.sem(As[3::4], axis = 0)])\n",
    "Bserrors = np.array([stat.sem(Bs[0::4], axis = 0), stat.sem(Bs[1::4], axis = 0), stat.sem(Bs[2::4], axis = 0), stat.sem(Bs[3::4], axis = 0)])\n",
    "Aferrors = np.array([stat.sem(Af[0::4], axis = 0), stat.sem(Af[1::4], axis = 0), stat.sem(Af[2::4], axis = 0), stat.sem(Af[3::4], axis = 0)])\n",
    "Bferrors = np.array([stat.sem(Bf[0::4], axis = 0), stat.sem(Bf[1::4], axis = 0), stat.sem(Bf[2::4], axis = 0), stat.sem(Bf[3::4], axis = 0)])\n",
    "\n",
    "#Aserrors = np.array([stat.tstd(As[0::4], axis = 0), stat.tstd(As[1::4], axis = 0), stat.tstd(As[2::4], axis = 0), stat.tstd(As[3::4], axis = 0)])\n",
    "#Bserrors = np.array([stat.tstd(Bs[0::4], axis = 0), stat.tstd(Bs[1::4], axis = 0), stat.tstd(Bs[2::4], axis = 0), stat.tstd(Bs[3::4], axis = 0)])\n",
    "#Aferrors = np.array([stat.tstd(Af[0::4], axis = 0), stat.tstd(Af[1::4], axis = 0), stat.tstd(Af[2::4], axis = 0), stat.tstd(Af[3::4], axis = 0)])\n",
    "#Bferrors = np.array([stat.tstd(Bf[0::4], axis = 0), stat.tstd(Bf[1::4], axis = 0), stat.tstd(Bf[2::4], axis = 0), stat.tstd(Bf[3::4], axis = 0)])\n"
   ]
  },
  {
   "cell_type": "code",
   "execution_count": 260,
   "metadata": {},
   "outputs": [
    {
     "data": {
      "text/plain": [
       "Text(0, 0.5, 'B')"
      ]
     },
     "execution_count": 260,
     "metadata": {},
     "output_type": "execute_result"
    },
    {
     "data": {
      "image/png": "[encoded data removed]",
      "text/plain": [
       "<Figure size 432x288 with 1 Axes>"
      ]
     },
     "metadata": {
      "needs_background": "light"
     },
     "output_type": "display_data"
    }
   ],
   "source": [
    "plot0 = plt.errorbar(Aslows[0], Bslows[0], xerr=Aserrors[0], yerr=Bserrors[0], alpha = 0.3, color = 'Blue')\n",
    "plot1 = plt.errorbar(Aslows[1], Bslows[1], xerr=Aserrors[1], yerr=Bserrors[1], alpha = 0.3, color = 'Orange')\n",
    "plot2 = plt.errorbar(Aslows[2], Bslows[2], xerr=Aserrors[2], yerr=Bserrors[2], alpha = 0.3, color = 'Red')\n",
    "plot3 = plt.errorbar(Aslows[3], Bslows[3], xerr=Aserrors[3], yerr=Bserrors[3], alpha = 0.3, color = 'Green')\n",
    "\n",
    "plot0 = plt.errorbar(Afasts[0], Bfasts[0], xerr=Aferrors[0], yerr=Bferrors[0])\n",
    "plot1 = plt.errorbar(Afasts[1], Bfasts[1], xerr=Aferrors[1], yerr=Bferrors[1])\n",
    "plot2 = plt.errorbar(Afasts[2], Bfasts[2], xerr=Aferrors[2], yerr=Bferrors[2])\n",
    "plot3 = plt.errorbar(Afasts[3], Bfasts[3], xerr=Aferrors[3], yerr=Bferrors[3])\n",
    "plt.legend((plot0, plot1, plot2, plot3), ('Sudden Speed', 'Sudden Accuracy', 'Gradual Speed', 'Gradual Accuracy'))\n",
    "plt.xlabel(\"A\")\n",
    "plt.ylabel('B')"
   ]
  },
  {
   "cell_type": "markdown",
   "metadata": {},
   "source": [
    "## Collapse Across Sudden Gradual"
   ]
  },
  {
   "cell_type": "code",
   "execution_count": 261,
   "metadata": {},
   "outputs": [],
   "source": [
    "Aslows = np.array([np.mean(As[0::2], axis = 0), np.mean(As[1::2], axis = 0)])#, np.mean(As[2::4], axis = 0), np.mean(As[3::4], axis = 0)])\n",
    "Bslows = np.array([np.mean(Bs[0::2], axis = 0), np.mean(Bs[1::2], axis = 0)])#, np.mean(Bs[2::4], axis = 0), np.mean(Bs[3::4], axis = 0)])\n",
    "Afasts = np.array([np.mean(Af[0::2], axis = 0), np.mean(Af[1::2], axis = 0)])#, np.mean(Af[2::4], axis = 0), np.mean(Af[3::4], axis = 0)])\n",
    "Bfasts = np.array([np.mean(Bf[0::2], axis = 0), np.mean(Bf[1::2], axis = 0)])#, np.mean(Bf[2::4], axis = 0), np.mean(Bf[3::4], axis = 0)])\n",
    "Aserrors = np.array([stat.sem(As[0::2], axis = 0), stat.sem(As[1::2], axis = 0)])#, stat.sem(As[2::4], axis = 0), stat.sem(As[3::4], axis = 0)])\n",
    "Bserrors = np.array([stat.sem(Bs[0::2], axis = 0), stat.sem(Bs[1::2], axis = 0)])#, stat.sem(Bs[2::4], axis = 0), stat.sem(Bs[3::4], axis = 0)])\n",
    "Aferrors = np.array([stat.sem(Af[0::2], axis = 0), stat.sem(Af[1::2], axis = 0)])#, stat.sem(Af[2::4], axis = 0), stat.sem(Af[3::4], axis = 0)])\n",
    "Bferrors = np.array([stat.sem(Bf[0::2], axis = 0), stat.sem(Bf[1::2], axis = 0)])#, stat.sem(Bf[2::4], axis = 0), stat.sem(Bf[3::4], axis = 0)])\n",
    "\n",
    "#Aserrors = np.array([stat.tstd(As[0::2], axis = 0), stat.tstd(As[1::2], axis = 0)])#, stat.tstd(As[2::4], axis = 0), stat.tstd(As[3::4], axis = 0)])\n",
    "#Bserrors = np.array([stat.tstd(Bs[0::2], axis = 0), stat.tstd(Bs[1::2], axis = 0)])#, stat.tstd(Bs[2::4], axis = 0), stat.tstd(Bs[3::4], axis = 0)])\n",
    "#Aferrors = np.array([stat.tstd(Af[0::2], axis = 0), stat.tstd(Af[1::2], axis = 0)])#, stat.tstd(Af[2::4], axis = 0), stat.tstd(Af[3::4], axis = 0)])\n",
    "#Bferrors = np.array([stat.tstd(Bf[0::2], axis = 0), stat.tstd(Bf[1::2], axis = 0)])#, stat.tstd(Bf[2::4], axis = 0), stat.tstd(Bf[3::4], axis = 0)])\n"
   ]
  },
  {
   "cell_type": "code",
   "execution_count": 262,
   "metadata": {},
   "outputs": [
    {
     "data": {
      "text/plain": [
       "Text(0, 0.5, 'B')"
      ]
     },
     "execution_count": 262,
     "metadata": {},
     "output_type": "execute_result"
    },
    {
     "data": {
      "image/png": "[encoded data removed]",
      "text/plain": [
       "<Figure size 432x288 with 1 Axes>"
      ]
     },
     "metadata": {
      "needs_background": "light"
     },
     "output_type": "display_data"
    }
   ],
   "source": [
    "plot0 = plt.errorbar(Aslows[0], Bslows[0], xerr=Aserrors[0], yerr=Bserrors[0], alpha = 0.3, color = 'Blue')\n",
    "plot1 = plt.errorbar(Aslows[1], Bslows[1], xerr=Aserrors[1], yerr=Bserrors[1], alpha = 0.3, color = 'Orange')\n",
    "#plot2 = plt.errorbar(Aslows[2], Bslows[2], xerr=Aserrors[2], yerr=Bserrors[2], alpha = 0.3, color = 'Red')\n",
    "#plot3 = plt.errorbar(Aslows[3], Bslows[3], xerr=Aserrors[3], yerr=Bserrors[3], alpha = 0.3, color = 'Green')\n",
    "\n",
    "plot0 = plt.errorbar(Afasts[0], Bfasts[0], xerr=Aferrors[0], yerr=Bferrors[0], color = 'Blue')\n",
    "plot1 = plt.errorbar(Afasts[1], Bfasts[1], xerr=Aferrors[1], yerr=Bferrors[1], color = 'Orange')\n",
    "#plot2 = plt.errorbar(Afasts[2], Bfasts[2], xerr=Aferrors[2], yerr=Bferrors[2])\n",
    "#plot3 = plt.errorbar(Afasts[3], Bfasts[3], xerr=Aferrors[3], yerr=Bferrors[3])\n",
    "plt.legend((plot0, plot1), ('Speed','Accuracy'))\n",
    "plt.xlabel(\"A\")\n",
    "plt.ylabel('B')"
   ]
  },
  {
   "cell_type": "markdown",
   "metadata": {},
   "source": [
    "## Collapsing across Speed/Accuracy"
   ]
  },
  {
   "cell_type": "code",
   "execution_count": 265,
   "metadata": {},
   "outputs": [],
   "source": [
    "Aslows = np.array([np.mean(np.concatenate((As[0::4], As[0::4])), axis = 0), np.mean(np.concatenate((As[2::4], As[3::4])), axis = 0)])\n",
    "Bslows = np.array([np.mean(np.concatenate((Bs[0::4], Bs[0::4])), axis = 0), np.mean(np.concatenate((Bs[2::4], Bs[3::4])), axis = 0)])\n",
    "Afasts = np.array([np.mean(np.concatenate((Af[0::4], Af[0::4])), axis = 0), np.mean(np.concatenate((Af[2::4], Af[3::4])), axis = 0)])\n",
    "Bfasts = np.array([np.mean(np.concatenate((Bf[0::4], Bf[0::4])), axis = 0), np.mean(np.concatenate((Bf[2::4], Bf[3::4])), axis = 0)])\n",
    "\n",
    "#Aserrors = np.array([stat.sem(np.concatenate((As[0::4], As[0::4])), axis = 0), stat.sem(np.concatenate((As[2::4], As[3::4])), axis = 0)])\n",
    "#Bserrors = np.array([stat.sem(np.concatenate((Bs[0::4], Bs[0::4])), axis = 0), stat.sem(np.concatenate((Bs[2::4], Bs[3::4])), axis = 0)])\n",
    "#Aferrors = np.array([stat.sem(np.concatenate((Af[0::4], Af[0::4])), axis = 0), stat.sem(np.concatenate((Af[2::4], Af[3::4])), axis = 0)])\n",
    "#Bferrors = np.array([stat.sem(np.concatenate((Bf[0::4], Bf[0::4])), axis = 0), stat.sem(np.concatenate((Bf[2::4], Bf[3::4])), axis = 0)])\n",
    "\n",
    "Aserrors = np.array([stat.tstd(np.concatenate((As[0::4], As[0::4])), axis = 0), stat.tstd(np.concatenate((As[2::4], As[3::4])), axis = 0)])\n",
    "Bserrors = np.array([stat.tstd(np.concatenate((Bs[0::4], Bs[0::4])), axis = 0), stat.tstd(np.concatenate((Bs[2::4], Bs[3::4])), axis = 0)])\n",
    "Aferrors = np.array([stat.tstd(np.concatenate((Af[0::4], Af[0::4])), axis = 0), stat.tstd(np.concatenate((Af[2::4], Af[3::4])), axis = 0)])\n",
    "Bferrors = np.array([stat.tstd(np.concatenate((Bf[0::4], Bf[0::4])), axis = 0), stat.tstd(np.concatenate((Bf[2::4], Bf[3::4])), axis = 0)])\n",
    "\n"
   ]
  },
  {
   "cell_type": "code",
   "execution_count": 266,
   "metadata": {},
   "outputs": [
    {
     "data": {
      "text/plain": [
       "Text(0, 0.5, 'B')"
      ]
     },
     "execution_count": 266,
     "metadata": {},
     "output_type": "execute_result"
    },
    {
     "data": {
      "image/png": "[encoded data removed]",
      "text/plain": [
       "<Figure size 432x288 with 1 Axes>"
      ]
     },
     "metadata": {
      "needs_background": "light"
     },
     "output_type": "display_data"
    }
   ],
   "source": [
    "plot0 = plt.errorbar(Aslows[0], Bslows[0], xerr=Aserrors[0], yerr=Bserrors[0], alpha = 0.3, color = 'Blue')\n",
    "plot1 = plt.errorbar(Aslows[1], Bslows[1], xerr=Aserrors[1], yerr=Bserrors[1], alpha = 0.3, color = 'Orange')\n",
    "#plot2 = plt.errorbar(Aslows[2], Bslows[2], xerr=Aserrors[2], yerr=Bserrors[2], alpha = 0.3, color = 'Red')\n",
    "#plot3 = plt.errorbar(Aslows[3], Bslows[3], xerr=Aserrors[3], yerr=Bserrors[3], alpha = 0.3, color = 'Green')\n",
    "plot0 = plt.scatter(np.concatenate((As[0::4], As[1::4])), np.concatenate((Bs[0::4], Bs[1::4])), alpha = 0.3, color = 'Blue')\n",
    "plot1 = plt.scatter(np.concatenate((As[2::4], As[3::4])), np.concatenate((Bs[2::4], Bs[3::4])), alpha = 0.3, color = 'Orange')\n",
    "\n",
    "\n",
    "plot0 = plt.errorbar(Afasts[0], Bfasts[0], xerr=Aferrors[0], yerr=Bferrors[0], color = 'Blue')\n",
    "plot1 = plt.errorbar(Afasts[1], Bfasts[1], xerr=Aferrors[1], yerr=Bferrors[1], color = 'Orange')\n",
    "#plot2 = plt.errorbar(Afasts[2], Bfasts[2], xerr=Aferrors[2], yerr=Bferrors[2])\n",
    "#plot3 = plt.errorbar(Afasts[3], Bfasts[3], xerr=Aferrors[3], yerr=Bferrors[3])\n",
    "plot0 = plt.scatter(np.concatenate((Af[0::4], Af[1::4])), np.concatenate((Bf[0::4], Bf[1::4])), color = 'Blue')\n",
    "plot1 = plt.scatter(np.concatenate((Af[2::4], Af[3::4])), np.concatenate((Bf[2::4], Bf[3::4])), color = 'Orange')\n",
    "\n",
    "plt.legend((plot0, plot1), ('Sudden','Gradual'))\n",
    "plt.xlabel(\"A\")\n",
    "plt.ylabel('B')"
   ]
  },
  {
   "cell_type": "code",
   "execution_count": 134,
   "metadata": {},
   "outputs": [],
   "source": [
    "fit_V_single_state = fit_V\n"
   ]
  },
  {
   "cell_type": "code",
   "execution_count": 162,
   "metadata": {},
   "outputs": [
    {
     "data": {
      "text/plain": [
       "8049.162100068025"
      ]
     },
     "execution_count": 162,
     "metadata": {},
     "output_type": "execute_result"
    }
   ],
   "source": [
    "np.mean(fit_transfer_V)"
   ]
  },
  {
   "cell_type": "code",
   "execution_count": 135,
   "metadata": {},
   "outputs": [
    {
     "data": {
      "text/plain": [
       "95908.70196157394"
      ]
     },
     "execution_count": 135,
     "metadata": {},
     "output_type": "execute_result"
    }
   ],
   "source": [
    "np.mean(fit_V)"
   ]
  },
  {
   "cell_type": "code",
   "execution_count": 267,
   "metadata": {},
   "outputs": [
    {
     "data": {
      "text/plain": [
       "485969.28301296674"
      ]
     },
     "execution_count": 267,
     "metadata": {},
     "output_type": "execute_result"
    }
   ],
   "source": [
    "np.mean(fit_V)"
   ]
  },
  {
   "cell_type": "code",
   "execution_count": 269,
   "metadata": {},
   "outputs": [
    {
     "data": {
      "text/plain": [
       "94373.96916781281"
      ]
     },
     "execution_count": 269,
     "metadata": {},
     "output_type": "execute_result"
    }
   ],
   "source": [
    "np.mean(fit_V_dual)"
   ]
  },
  {
   "cell_type": "markdown",
   "metadata": {},
   "source": [
    "# % Variance accounted for"
   ]
  },
  {
   "cell_type": "code",
   "execution_count": 229,
   "metadata": {},
   "outputs": [
    {
     "data": {
      "text/plain": [
       "0.14992304958039027"
      ]
     },
     "execution_count": 229,
     "metadata": {},
     "output_type": "execute_result"
    }
   ],
   "source": [
    "1 - np.sum(fit_transfer_V)/np.nansum((np.ravel(curvatures[:, 11, :]) - np.nanmean(curvatures[:, 11, :]))**2)"
   ]
  },
  {
   "cell_type": "code",
   "execution_count": 252,
   "metadata": {},
   "outputs": [
    {
     "data": {
      "text/plain": [
       "0.4830259518291956"
      ]
     },
     "execution_count": 252,
     "metadata": {},
     "output_type": "execute_result"
    }
   ],
   "source": [
    "1 - np.sum(fit_V)/np.nansum((np.ravel(curvatures[:, 1:-1, :]) - np.nanmean(curvatures[:, 1:-1, :]))**2)"
   ]
  },
  {
   "cell_type": "code",
   "execution_count": null,
   "metadata": {},
   "outputs": [],
   "source": []
  },
  {
   "cell_type": "code",
   "execution_count": null,
   "metadata": {},
   "outputs": [],
   "source": []
  },
  {
   "cell_type": "code",
   "execution_count": null,
   "metadata": {},
   "outputs": [],
   "source": []
  },
  {
   "cell_type": "code",
   "execution_count": 235,
   "metadata": {
    "scrolled": false
   },
   "outputs": [
    {
     "data": {
      "image/png": "[encoded data removed]",
      "text/plain": [
       "<Figure size 1440x720 with 4 Axes>"
      ]
     },
     "metadata": {
      "needs_background": "light"
     },
     "output_type": "display_data"
    }
   ],
   "source": [
    "plt.figure(figsize = (20, 10))\n",
    "errors_predict = np.zeros((60, 704))\n",
    "\n",
    "for participant in range(60):\n",
    "    if participant % 4 == 0 or participant%4 == 1:\n",
    "        errors_predict[participant][:640] = base_model_sudden(640, fit_A[participant], fit_B[participant])\n",
    "\n",
    "    else:    \n",
    "        errors_predict[participant][:640] = base_model_gradual(640, fit_A[participant], fit_B[participant])\n",
    "\n",
    "    errors_predict[participant][640:] = base_model_transfer(64, fit_A[participant], fit_B[participant])\n",
    "\n",
    "for participant in range(4):\n",
    "    if participant % 4 == 0 or participant%4 == 1:\n",
    "        plt.subplot(4, 1, participant + 1 )\n",
    "        plt.plot(np.mean(errors_predict[participant::4], axis = 0))\n",
    "        plt.plot(np.ravel(np.mean(curvatures[participant::4], axis = 0)[1:]))\n",
    "    else:\n",
    "        plt.subplot(4, 1, participant + 1 )\n",
    "        plt.plot(np.mean(errors_predict[participant::4], axis = 0))\n",
    "        plt.plot(np.ravel(np.mean(curvatures[participant::4], axis = 0)[1:]))\n",
    "    plt.ylim((0, 100))\n"
   ]
  },
  {
   "cell_type": "code",
   "execution_count": null,
   "metadata": {},
   "outputs": [],
   "source": []
  },
  {
   "cell_type": "code",
   "execution_count": 144,
   "metadata": {},
   "outputs": [],
   "source": [
    "import pandas as pd"
   ]
  },
  {
   "cell_type": "code",
   "execution_count": 216,
   "metadata": {},
   "outputs": [],
   "source": [
    "df_A = pd.DataFrame({\"Emphasis\": np.tile([\"Speed\", \"Accuracy\"], 30),\n",
    "                   \"Rotation\": np.tile([\"Sudden\", \"Sudden\", \"Gradual\", \"Gradual\"], 15),\n",
    "                   \"fit_A\": fit_A[:, 0]})"
   ]
  },
  {
   "cell_type": "code",
   "execution_count": 217,
   "metadata": {},
   "outputs": [],
   "source": [
    "model_A = ols('fit_A ~ C(Emphasis)*C(Rotation)', data = df_A).fit()"
   ]
  },
  {
   "cell_type": "code",
   "execution_count": 218,
   "metadata": {},
   "outputs": [],
   "source": [
    "aov_table_A = sm.stats.anova_lm(model_A)\n"
   ]
  },
  {
   "cell_type": "code",
   "execution_count": 219,
   "metadata": {},
   "outputs": [],
   "source": [
    "df_B = pd.DataFrame({\"Emphasis\": np.tile([\"Speed\", \"Accuracy\"], 30),\n",
    "                   \"Rotation\": np.tile([\"Sudden\", \"Sudden\", \"Gradual\", \"Gradual\"], 15),\n",
    "                   \"fit_B\": fit_B[:, 0]})"
   ]
  },
  {
   "cell_type": "code",
   "execution_count": 220,
   "metadata": {},
   "outputs": [],
   "source": [
    "model_B = ols('fit_B ~ C(Emphasis)*C(Rotation)', data = df_B).fit()\n",
    "aov_table_B = sm.stats.anova_lm(model_B)\n"
   ]
  },
  {
   "cell_type": "code",
   "execution_count": 221,
   "metadata": {},
   "outputs": [
    {
     "data": {
      "text/html": [
       "<div>\n",
       "<style scoped>\n",
       "    .dataframe tbody tr th:only-of-type {\n",
       "        vertical-align: middle;\n",
       "    }\n",
       "\n",
       "    .dataframe tbody tr th {\n",
       "        vertical-align: top;\n",
       "    }\n",
       "\n",
       "    .dataframe thead th {\n",
       "        text-align: right;\n",
       "    }\n",
       "</style>\n",
       "<table border=\"1\" class=\"dataframe\">\n",
       "  <thead>\n",
       "    <tr style=\"text-align: right;\">\n",
       "      <th></th>\n",
       "      <th>df</th>\n",
       "      <th>sum_sq</th>\n",
       "      <th>mean_sq</th>\n",
       "      <th>F</th>\n",
       "      <th>PR(&gt;F)</th>\n",
       "    </tr>\n",
       "  </thead>\n",
       "  <tbody>\n",
       "    <tr>\n",
       "      <th>C(Emphasis)</th>\n",
       "      <td>1.0</td>\n",
       "      <td>0.053256</td>\n",
       "      <td>0.053256</td>\n",
       "      <td>0.831120</td>\n",
       "      <td>0.365857</td>\n",
       "    </tr>\n",
       "    <tr>\n",
       "      <th>C(Rotation)</th>\n",
       "      <td>1.0</td>\n",
       "      <td>0.396558</td>\n",
       "      <td>0.396558</td>\n",
       "      <td>6.188771</td>\n",
       "      <td>0.015860</td>\n",
       "    </tr>\n",
       "    <tr>\n",
       "      <th>C(Emphasis):C(Rotation)</th>\n",
       "      <td>1.0</td>\n",
       "      <td>0.033360</td>\n",
       "      <td>0.033360</td>\n",
       "      <td>0.520623</td>\n",
       "      <td>0.473578</td>\n",
       "    </tr>\n",
       "    <tr>\n",
       "      <th>Residual</th>\n",
       "      <td>56.0</td>\n",
       "      <td>3.588312</td>\n",
       "      <td>0.064077</td>\n",
       "      <td>NaN</td>\n",
       "      <td>NaN</td>\n",
       "    </tr>\n",
       "  </tbody>\n",
       "</table>\n",
       "</div>"
      ],
      "text/plain": [
       "                           df    sum_sq   mean_sq         F    PR(>F)\n",
       "C(Emphasis)               1.0  0.053256  0.053256  0.831120  0.365857\n",
       "C(Rotation)               1.0  0.396558  0.396558  6.188771  0.015860\n",
       "C(Emphasis):C(Rotation)   1.0  0.033360  0.033360  0.520623  0.473578\n",
       "Residual                 56.0  3.588312  0.064077       NaN       NaN"
      ]
     },
     "execution_count": 221,
     "metadata": {},
     "output_type": "execute_result"
    }
   ],
   "source": [
    "aov_table_B"
   ]
  },
  {
   "cell_type": "code",
   "execution_count": 222,
   "metadata": {},
   "outputs": [
    {
     "data": {
      "text/html": [
       "<div>\n",
       "<style scoped>\n",
       "    .dataframe tbody tr th:only-of-type {\n",
       "        vertical-align: middle;\n",
       "    }\n",
       "\n",
       "    .dataframe tbody tr th {\n",
       "        vertical-align: top;\n",
       "    }\n",
       "\n",
       "    .dataframe thead th {\n",
       "        text-align: right;\n",
       "    }\n",
       "</style>\n",
       "<table border=\"1\" class=\"dataframe\">\n",
       "  <thead>\n",
       "    <tr style=\"text-align: right;\">\n",
       "      <th></th>\n",
       "      <th>df</th>\n",
       "      <th>sum_sq</th>\n",
       "      <th>mean_sq</th>\n",
       "      <th>F</th>\n",
       "      <th>PR(&gt;F)</th>\n",
       "    </tr>\n",
       "  </thead>\n",
       "  <tbody>\n",
       "    <tr>\n",
       "      <th>C(Emphasis)</th>\n",
       "      <td>1.0</td>\n",
       "      <td>0.166506</td>\n",
       "      <td>0.166506</td>\n",
       "      <td>3.478504</td>\n",
       "      <td>0.067414</td>\n",
       "    </tr>\n",
       "    <tr>\n",
       "      <th>C(Rotation)</th>\n",
       "      <td>1.0</td>\n",
       "      <td>0.001972</td>\n",
       "      <td>0.001972</td>\n",
       "      <td>0.041192</td>\n",
       "      <td>0.839903</td>\n",
       "    </tr>\n",
       "    <tr>\n",
       "      <th>C(Emphasis):C(Rotation)</th>\n",
       "      <td>1.0</td>\n",
       "      <td>0.002901</td>\n",
       "      <td>0.002901</td>\n",
       "      <td>0.060602</td>\n",
       "      <td>0.806448</td>\n",
       "    </tr>\n",
       "    <tr>\n",
       "      <th>Residual</th>\n",
       "      <td>56.0</td>\n",
       "      <td>2.680560</td>\n",
       "      <td>0.047867</td>\n",
       "      <td>NaN</td>\n",
       "      <td>NaN</td>\n",
       "    </tr>\n",
       "  </tbody>\n",
       "</table>\n",
       "</div>"
      ],
      "text/plain": [
       "                           df    sum_sq   mean_sq         F    PR(>F)\n",
       "C(Emphasis)               1.0  0.166506  0.166506  3.478504  0.067414\n",
       "C(Rotation)               1.0  0.001972  0.001972  0.041192  0.839903\n",
       "C(Emphasis):C(Rotation)   1.0  0.002901  0.002901  0.060602  0.806448\n",
       "Residual                 56.0  2.680560  0.047867       NaN       NaN"
      ]
     },
     "execution_count": 222,
     "metadata": {},
     "output_type": "execute_result"
    }
   ],
   "source": [
    "aov_table_A"
   ]
  },
  {
   "cell_type": "markdown",
   "metadata": {},
   "source": [
    "# Check for Predictions on the transfer block"
   ]
  },
  {
   "cell_type": "code",
   "execution_count": 64,
   "metadata": {},
   "outputs": [],
   "source": [
    "errors_predict = np.zeros((60, 1, 64))"
   ]
  },
  {
   "cell_type": "code",
   "execution_count": 67,
   "metadata": {},
   "outputs": [],
   "source": [
    "for participant in range(60):\n",
    "    errors_predict[participant][0][:] = base_model_sudden(64, fit_A[participant], fit_B[participant])"
   ]
  },
  {
   "cell_type": "code",
   "execution_count": 87,
   "metadata": {},
   "outputs": [
    {
     "data": {
      "text/plain": [
       "258958614.33577323"
      ]
     },
     "execution_count": 87,
     "metadata": {},
     "output_type": "execute_result"
    }
   ],
   "source": [
    "np.sum((errors_predict - curvatures_smooth[:, 11])**2)"
   ]
  },
  {
   "cell_type": "code",
   "execution_count": 88,
   "metadata": {},
   "outputs": [
    {
     "ename": "IndexError",
     "evalue": "index 60 is out of bounds for axis 0 with size 60",
     "output_type": "error",
     "traceback": [
      "\u001b[1;31m---------------------------------------------------------------------------\u001b[0m",
      "\u001b[1;31mIndexError\u001b[0m                                Traceback (most recent call last)",
      "\u001b[1;32m<ipython-input-88-144650430b55>\u001b[0m in \u001b[0;36m<module>\u001b[1;34m\u001b[0m\n\u001b[0;32m      1\u001b[0m \u001b[1;32mfor\u001b[0m \u001b[0mparticipant\u001b[0m \u001b[1;32min\u001b[0m \u001b[0mrange\u001b[0m\u001b[1;33m(\u001b[0m\u001b[1;36m2\u001b[0m\u001b[1;33m,\u001b[0m \u001b[1;36m62\u001b[0m\u001b[1;33m)\u001b[0m\u001b[1;33m:\u001b[0m\u001b[1;33m\u001b[0m\u001b[0m\n\u001b[1;32m----> 2\u001b[1;33m     \u001b[0merrors_predict\u001b[0m\u001b[1;33m[\u001b[0m\u001b[0mparticipant\u001b[0m \u001b[1;33m-\u001b[0m \u001b[1;36m2\u001b[0m\u001b[1;33m]\u001b[0m\u001b[1;33m[\u001b[0m\u001b[1;36m0\u001b[0m\u001b[1;33m]\u001b[0m\u001b[1;33m[\u001b[0m\u001b[1;33m:\u001b[0m\u001b[1;33m]\u001b[0m \u001b[1;33m=\u001b[0m \u001b[0mbase_model_sudden\u001b[0m\u001b[1;33m(\u001b[0m\u001b[1;36m64\u001b[0m\u001b[1;33m,\u001b[0m \u001b[0mfit_A\u001b[0m\u001b[1;33m[\u001b[0m\u001b[0mparticipant\u001b[0m\u001b[1;33m]\u001b[0m\u001b[1;33m,\u001b[0m \u001b[0mfit_B\u001b[0m\u001b[1;33m[\u001b[0m\u001b[0mparticipant\u001b[0m\u001b[1;33m]\u001b[0m\u001b[1;33m)\u001b[0m\u001b[1;33m\u001b[0m\u001b[0m\n\u001b[0m",
      "\u001b[1;31mIndexError\u001b[0m: index 60 is out of bounds for axis 0 with size 60"
     ]
    }
   ],
   "source": [
    "for participant in range(2, 62):\n",
    "    errors_predict[participant - 2][0][:] = base_model_sudden(64, fit_A[participant], fit_B[participant])"
   ]
  },
  {
   "cell_type": "code",
   "execution_count": 138,
   "metadata": {},
   "outputs": [],
   "source": [
    "    "
   ]
  },
  {
   "cell_type": "code",
   "execution_count": null,
   "metadata": {},
   "outputs": [],
   "source": []
  }
 ],
 "metadata": {
  "kernelspec": {
   "display_name": "Python 3",
   "language": "python",
   "name": "python3"
  },
  "language_info": {
   "codemirror_mode": {
    "name": "ipython",
    "version": 3
   },
   "file_extension": ".py",
   "mimetype": "text/x-python",
   "name": "python",
   "nbconvert_exporter": "python",
   "pygments_lexer": "ipython3",
   "version": "3.7.0"
  }
 },
 "nbformat": 4,
 "nbformat_minor": 4
}
