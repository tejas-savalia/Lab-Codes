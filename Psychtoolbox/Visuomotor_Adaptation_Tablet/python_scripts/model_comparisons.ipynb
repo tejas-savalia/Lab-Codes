{
 "cells": [
  {
   "cell_type": "code",
   "execution_count": 1,
   "metadata": {},
   "outputs": [],
   "source": [
    "import scipy.io\n",
    "import numpy as np\n",
    "import matplotlib.pyplot as plt\n",
    "from ipywidgets import interact, interactive, fixed, interact_manual\n",
    "import ipywidgets as widgets\n",
    "import scipy.stats as stat\n",
    "from sklearn.linear_model import LinearRegression\n",
    "import statsmodels.api as sm\n",
    "import statsmodels.formula.api as smf\n",
    "from scipy import stats\n",
    "import pickle\n",
    "from sklearn.metrics import *\n",
    "import pandas as pd\n",
    "import seaborn as sns\n",
    "sns.set_theme()\n",
    "import statsmodels"
   ]
  },
  {
   "cell_type": "code",
   "execution_count": 2,
   "metadata": {},
   "outputs": [],
   "source": [
    "from all_models import *\n",
    "#from transfer_models import *"
   ]
  },
  {
   "cell_type": "code",
   "execution_count": 3,
   "metadata": {},
   "outputs": [],
   "source": [
    "# read fit values\n",
    "fits_single = pickle.load(open('fit_single_CV_704.pickle', 'rb'))\n",
    "fits_dual = pickle.load(open('fit_dual_CV_704.pickle', 'rb'))\n",
    "fits_avg = pickle.load(open('fit_dual_fastavg_CV_704.pickle', 'rb'))\n",
    "fits_eight = pickle.load(open('fit_dual_eight_CV_704.pickle', 'rb'))\n",
    "\n",
    "#fits_six = pickle.load(open('fit_six_CV_704.pickle', 'rb'))\n",
    "#fits_mixed = pickle.load(open('fit_mixed_CV_704.pickle', 'rb'))\n",
    "fits_single_640 = pickle.load(open('fit_single_CV_640.pickle', 'rb'))\n",
    "fits_dual_640 = pickle.load(open('fit_dual_CV_640.pickle', 'rb'))\n",
    "\n",
    "fits_single_transfer = pickle.load(open('fit_single_CV_transfer.pickle', 'rb'))\n",
    "fits_dual_transfer = pickle.load(open('fit_dual_CV_transfer.pickle', 'rb'))\n",
    "\n",
    "curvatures_smooth = pickle.load(open('curvatures_smooth.pickle', 'rb'))\n",
    "curvatures_smooth = curvatures_smooth/90.0\n",
    "curvatures = pickle.load(open('curvatures.pickle', 'rb'))"
   ]
  },
  {
   "cell_type": "code",
   "execution_count": 5,
   "metadata": {},
   "outputs": [],
   "source": [
    "def plot_data_vs_fits_dual(curvatures_smooth, Af, Bf, As, Bs):\n",
    "    plt.figure(figsize = (20, 10))\n",
    "    errors_predict = np.zeros((60, 704))\n",
    "    fast = np.zeros((60, 704))\n",
    "    slow = np.zeros((60, 704))\n",
    "    rotation_est = np.zeros((60, 704))\n",
    "    corr_coef = np.zeros(60)\n",
    "    for participant in range(60):\n",
    "        if participant % 4 == 0 or participant%4 == 1:\n",
    "            errors_predict[participant], rotation_est[participant], fast[participant], slow[participant] = dual_model_sudden(704, Af[participant], Bf[participant], As[participant], Bs[participant])\n",
    "            corr_coef[participant] = np.ma.corrcoef(errors_predict[participant], np.ravel(curvatures_smooth[participant])[64:])[0, 1]\n",
    "        else:    \n",
    "            errors_predict[participant], rotation_est[participant], fast[participant], slow[participant] = dual_model_gradual(704, Af[participant], Bf[participant], As[participant], Bs[participant])\n",
    "            corr_coef[participant] = np.ma.corrcoef(errors_predict[participant], np.ravel(curvatures_smooth[participant])[64:])[0, 1]\n",
    "\n",
    "    fig, ax = plt.subplots(4, dpi = 300, sharex = True, constrained_layout = True, figsize = (25, 15))\n",
    "    plt.setp(ax, ylim=(-1, 2))\n",
    "    legend_size = 15\n",
    "    for participant in range(4):\n",
    "        if participant%4 == 0  or participant%4 == 1:\n",
    "            #plt.plot(np.nanmean(errors_predict[participant::4], axis = 0))\n",
    "            l1, = ax[participant].plot(np.nanmean(rotation_est[participant::4], axis = 0))\n",
    "            l2, = ax[participant].plot(np.nanmean(fast[participant::4], axis = 0))\n",
    "            l3, = ax[participant].plot(np.nanmean(slow[participant::4], axis = 0))\n",
    "            l4, = ax[participant].plot(np.append(np.ravel(np.nanmean(1 - curvatures_smooth[participant::4], axis = 0)[1:-1]), np.ravel(np.nanmean(curvatures_smooth[participant::4], axis = 0)[11])))\n",
    "            ax[participant].legend([l1, l2, l3, l4], ['Rotation Est', 'Fast Est', 'Slow Est', 'Rotation Est Data'], prop={'size': legend_size})\n",
    "        else:\n",
    "            l1, = ax[participant].plot(np.nanmean(rotation_est[participant::4], axis = 0))\n",
    "            l2, = ax[participant].plot(np.nanmean(fast[participant::4], axis = 0))\n",
    "            l3, = ax[participant].plot(np.nanmean(slow[participant::4], axis = 0))\n",
    "            cs = np.zeros((704))\n",
    "            csm = np.nanmean(curvatures_smooth[participant::4], axis = 0)\n",
    "            for i in range(9):\n",
    "                cs[i*64:(i+1)*64] = (i+1)*10/90.0 - csm[i+1]\n",
    "            cs[576:640] = 1 - csm[10]\n",
    "            cs[640:] = csm[11]\n",
    "            l4, = ax[participant].plot(cs)\n",
    "            #plt.plot(np.append(np.ravel(np.nanmean(90 - curvatures_smooth[participant::4], axis = 0)[1:-1]), -np.ravel(np.nanmean(curvatures_smooth[participant::4], axis = 0)[11])))\n",
    "            ax[participant].legend([l1, l2, l3, l4], ['Rotation Est', 'Fast Est', 'Slow Est', 'Rotation Est Data'], prop = {'size' : legend_size})\n",
    "\n",
    "\n",
    "        ax[participant].plot(np.zeros(704), color = 'black')\n",
    "        ax[0].set_ylabel('Sudden \\n Speed', fontsize = 15)\n",
    "        ax[1].set_ylabel('Sudden \\n Accuracy', fontsize = 15)\n",
    "        ax[2].set_ylabel('Gradual \\n Speed', fontsize = 15)\n",
    "        ax[3].set_ylabel('Gradual \\n Accuracy', fontsize = 15)\n",
    "    fig.suptitle('Dual Model Predictions', fontsize = 20)\n",
    "    return corr_coef\n"
   ]
  },
  {
   "cell_type": "code",
   "execution_count": null,
   "metadata": {},
   "outputs": [],
   "source": [
    "def plot_data_vs_fits_single(curvatures_smooth, A, B):\n",
    "    plt.figure(figsize = (20, 10))\n",
    "    errors_predict = np.zeros((60, 704))\n",
    "    fast = np.zeros((60, 704))\n",
    "    slow = np.zeros((60, 704))\n",
    "    rotation_est = np.zeros((60, 704))\n",
    "    corr_coef = np.zeros(60)\n",
    "    for participant in range(60):\n",
    "        if participant % 4 == 0 or participant%4 == 1:\n",
    "            errors_predict[participant], rotation_est[participant] = model_sudden(704, A[participant], B[participant])\n",
    "            corr_coef[participant] = np.ma.corrcoef(errors_predict[participant], np.ravel(curvatures_smooth[participant])[64:])[0, 1]\n",
    "        else:    \n",
    "            errors_predict[participant], rotation_est[participant] = model_gradual(704, A[participant], B[participant])\n",
    "            corr_coef[participant] = np.ma.corrcoef(errors_predict[participant], np.ravel(curvatures_smooth[participant])[64:])[0, 1]\n",
    "\n",
    "    fig, ax = plt.subplots(4, dpi = 300, sharex = True, constrained_layout = True, figsize = (25, 15))\n",
    "    plt.setp(ax, ylim=(-1, 2))\n",
    "    legend_size = 15\n",
    "    \n",
    "    for participant in range(4):\n",
    "        if participant%4 == 0  or participant%4 == 1:\n",
    "            #plt.plot(np.nanmean(errors_predict[participant::4], axis = 0))\n",
    "            l1, = ax[participant].plot(np.nanmean(rotation_est[participant::4], axis = 0))\n",
    "            l4, = ax[participant].plot(np.append(np.ravel(np.nanmean(1 - curvatures_smooth[participant::4], axis = 0)[1:-1]), np.ravel(np.nanmean(curvatures_smooth[participant::4], axis = 0)[11])))\n",
    "            ax[participant].legend([l1, l4], ['Rotation Est', 'Rotation Est Data'], prop={'size': legend_size})\n",
    "        else:\n",
    "            l1, = ax[participant].plot(np.nanmean(rotation_est[participant::4], axis = 0))\n",
    "            cs = np.zeros((704))\n",
    "            csm = np.nanmean(curvatures_smooth[participant::4], axis = 0)\n",
    "            for i in range(9):\n",
    "                cs[i*64:(i+1)*64] = (i+1)*10/90.0 - csm[i+1]\n",
    "            cs[576:640] = 1 - csm[10]\n",
    "            cs[640:] = csm[11]\n",
    "            l4, = ax[participant].plot(cs)\n",
    "            #plt.plot(np.append(np.ravel(np.nanmean(90 - curvatures_smooth[participant::4], axis = 0)[1:-1]), -np.ravel(np.nanmean(curvatures_smooth[participant::4], axis = 0)[11])))\n",
    "            ax[participant].legend([l1, l4], ['Rotation Est', 'Rotation Est Data'], prop = {'size' : legend_size})\n",
    "\n",
    "\n",
    "        ax[participant].plot(np.zeros(704), color = 'black')\n",
    "        ax[0].set_ylabel('Sudden \\n Speed', fontsize = 15)\n",
    "        ax[1].set_ylabel('Sudden \\n Accuracy', fontsize = 15)\n",
    "        ax[2].set_ylabel('Gradual \\n Speed', fontsize = 15)\n",
    "        ax[3].set_ylabel('Gradual \\n Accuracy', fontsize = 15)\n",
    "    fig.suptitle('Single state model predictions', fontsize = 20)\n",
    "    return corr_coef\n"
   ]
  },
  {
   "cell_type": "code",
   "execution_count": 5,
   "metadata": {},
   "outputs": [],
   "source": [
    "num_trials = 704\n",
    "model_errors_dual = np.zeros((100, 60, num_trials))\n",
    "model_errors_single = np.zeros((100, 60, num_trials))\n",
    "#model_errors_dual_704 = np.zeros((100, 60, 704))\n",
    "#model_errors_single_704 = np.zeros((100, 60, 704))\n",
    "#model_errors_avg = np.zeros((100, 60, 704))\n",
    "model_errors_eight = np.zeros((100, 60, 704))\n",
    "\n",
    "\n",
    "for i in range(100):\n",
    "    for participant in range(60):\n",
    "        if participant%4 == 0 or participant%4 == 1:\n",
    "            #model_errors_dual[i][participant]  = dual_model_sudden(num_trials, fits_dual_640[i][participant][0], fits_dual_640[i][participant][1], fits_dual_640[i][participant][2], fits_dual_640[i][participant][3])[0]\n",
    "            #model_errors_single[i][participant] = model_sudden(num_trials, fits_single_640[i][participant][0], fits_single_640[i][participant][1])[0]\n",
    "\n",
    "            model_errors_dual[i][participant]  = dual_model_sudden(704, fits_dual[i][participant][0], fits_dual[i][participant][1], fits_dual[i][participant][2], fits_dual[i][participant][3])[0]\n",
    "            model_errors_single[i][participant] = model_sudden(704, fits_single[i][participant][0], fits_single[i][participant][1])[0]\n",
    "            model_errors_eight[i][participant] = dual_eight_param_sudden(704, \n",
    "                                                                         fits_eight[i][participant][0], fits_eight[i][participant][1], fits_eight[i][participant][2], fits_eight[i][participant][3],  \n",
    "                                                                         fits_eight[i][participant][4], fits_eight[i][participant][5], fits_eight[i][participant][6], fits_eight[i][participant][7])[0]\n",
    "            #model_errors_avg[i][participant, :]  = dual_model_sudden_avg(704, fits_avg[i][participant][0], fits_avg[i][participant][1], fits_avg[i][participant][2], fits_avg[i][participant][3], avg_errors)[0]\n",
    "\n",
    "            #model_errors_mixed[i][participant] = mixed_sudden(num_trials, fits_mixed[i][participant][0], fits_mixed[i][participant][1], fits_mixed[i][participant][2], fits_mixed[i][participant][3])[0]\n",
    "            #model_errors_six[i][participant] = dual_six_param_sudden(num_trials, fits_six[i][participant][0], fits_six[i][participant][1], fits_six[i][participant][2], fits_six[i][participant][3], fits_six[i][participant][4], fits_six[i][participant][5])[0]\n",
    "            #model_errors_six[i][participant]  = dual_six_param_sudden(num_trials, fits_dual[i][participant][0], fits_dual[i][participant][1], fits_dual[i][participant][0], fits_dual[i][participant][1], fits_dual[i][participant][2], fits_dual[i][participant][3])[0]\n",
    "        \n",
    "        else:\n",
    "            #model_errors_dual[i][participant] = dual_model_gradual(num_trials, fits_dual_640[i][participant][0], fits_dual_640[i][participant][1], fits_dual_640[i][participant][2], fits_dual_640[i][participant][3])[0]\n",
    "            #model_errors_single[i][participant] = model_gradual(num_trials, fits_single_640[i][participant][0], fits_single_640[i][participant][1])[0]\n",
    "\n",
    "            model_errors_dual[i][participant] = dual_model_gradual(704, fits_dual[i][participant][0], fits_dual[i][participant][1], fits_dual[i][participant][2], fits_dual[i][participant][3])[0]\n",
    "            model_errors_single[i][participant] = model_gradual(704, fits_single[i][participant][0], fits_single[i][participant][1])[0]\n",
    "            model_errors_eight[i][participant] = dual_eight_param_gradual(704, \n",
    "                                                                         fits_eight[i][participant][0], fits_eight[i][participant][1], fits_eight[i][participant][2], fits_eight[i][participant][3],  \n",
    "                                                                         fits_eight[i][participant][4], fits_eight[i][participant][5], fits_eight[i][participant][6], fits_eight[i][participant][7])[0]\n",
    "\n",
    "            #model_errors_avg[i][participant]  = dual_model_gradual_avg(704, fits_avg[i][participant][0], fits_avg[i][participant][1], fits_avg[i][participant][2], fits_avg[i][participant][3], avg_errors)[0]\n",
    "            \n",
    "            #model_errors_mixed[i][participant] = mixed_gradual(num_trials, fits_mixed[i][participant][0], fits_mixed[i][participant][1], fits_mixed[i][participant][2], fits_mixed[i][participant][3])[0]\n",
    "            #model_errors_six[i][participant] = dual_six_param_gradual(num_trials, fits_six[i][participant][0], fits_six[i][participant][1], fits_six[i][participant][2], fits_six[i][participant][3], fits_six[i][participant][4], fits_six[i][participant][5])[0]\n",
    "            #model_errors_six[i][participant]  = dual_six_param_gradual(num_trials, fits_dual[i][participant][0], fits_dual[i][participant][1], fits_dual[i][participant][0], fits_dual[i][participant][1], fits_dual[i][participant][2], fits_dual[i][participant][3])[0]\n",
    "\n",
    "        "
   ]
  },
  {
   "cell_type": "code",
   "execution_count": 72,
   "metadata": {},
   "outputs": [
    {
     "data": {
      "text/plain": [
       "0.0"
      ]
     },
     "execution_count": 72,
     "metadata": {},
     "output_type": "execute_result"
    }
   ],
   "source": [
    "model_errors_eight[1][6][4]"
   ]
  },
  {
   "cell_type": "code",
   "execution_count": 8,
   "metadata": {},
   "outputs": [],
   "source": [
    "ll_dual = np.zeros((100, 60, num_trials))\n",
    "ll_single = np.zeros((100, 60, num_trials))\n",
    "ll_eight = np.zeros((100, 60, num_trials))\n",
    "#ll_mix = np.zeros((100, 60, 704))\n",
    "#ll_six = np.zeros((100, 60, 704))\n",
    "\n",
    "#ll_dual_avg = np.zeros((100, 60, 704))\n",
    "\n",
    "#ll_dual_704 = np.zeros((100, 60, 704))\n",
    "#ll_single_704 = np.zeros((100, 60, 704))\n",
    "\n",
    "for i in range(100):\n",
    "    for participant in range(60):\n",
    "        #ll_dual_transfer[i][participant] = stat.norm.logpdf(np.ravel(curvatures_smooth[participant][-1]), model_errors_dual_transfer[i][participant], fits_dual_transfer[i][participant, -2])\n",
    "        #ll_single_transfer[i][participant] = stat.norm.logpdf(np.ravel(curvatures_smooth[participant][-1]), model_errors_single_transfer[i][participant], fits_single_transfer[i][participant, -2])\n",
    "\n",
    "        #ll_dual[i][participant] = stat.norm.logpdf(np.ravel(curvatures_smooth[participant][1:-1]), model_errors_dual[i][participant], fits_dual_640[i][participant, -2])\n",
    "        #ll_single[i][participant] = stat.norm.logpdf(np.ravel(curvatures_smooth[participant][1:-1]), model_errors_single[i][participant], fits_single_640[i][participant, -2])\n",
    "\n",
    "        ll_dual[i][participant] = stat.norm.logpdf(np.ravel(curvatures_smooth[participant][1:]), model_errors_dual[i][participant], fits_dual[i][participant, -2])\n",
    "        ll_single[i][participant] = stat.norm.logpdf(np.ravel(curvatures_smooth[participant][1:]), model_errors_single[i][participant], fits_single[i][participant, -2])\n",
    "\n",
    "        #ll_mix[i][participant] = stat.norm.logpdf(np.ravel(curvatures_smooth[participant][1:]), model_errors_mixed[i][participant], fits_mixed[i][participant, -2])\n",
    "        #ll_six[i][participant] = stat.norm.logpdf(np.ravel(curvatures_smooth[participant][1:]), model_errors_six[i][participant], fits_six[i][participant, -2])\n",
    "        #ll_six[i][participant] = stat.norm.logpdf(np.ravel(curvatures_smooth[participant][1:]), model_errors_six[i][participant], fits_dual[i][participant, -2])\n",
    "\n",
    "        #ll_dual_avg[i][participant] = stat.norm.logpdf(np.ravel(curvatures_smooth[participant][1:]), model_errors_avg[i][participant], fits_avg[i][participant, -2])\n",
    "        ll_eight[i][participant] = stat.norm.logpdf(np.ravel(curvatures_smooth[participant][1:]), model_errors_eight[i][participant], fits_eight[i][participant, -2])"
   ]
  },
  {
   "cell_type": "code",
   "execution_count": 6,
   "metadata": {},
   "outputs": [],
   "source": [
    "ll_dual_combined = np.concatenate((ll_dual, ll_dual_transfer), axis = 2)\n",
    "ll_single_combined = np.concatenate((ll_single, ll_single_transfer), axis = 2)\n"
   ]
  },
  {
   "cell_type": "code",
   "execution_count": 66,
   "metadata": {},
   "outputs": [
    {
     "data": {
      "text/plain": [
       "0.07652138968014394"
      ]
     },
     "execution_count": 66,
     "metadata": {},
     "output_type": "execute_result"
    }
   ],
   "source": []
  },
  {
   "cell_type": "code",
   "execution_count": 111,
   "metadata": {},
   "outputs": [
    {
     "data": {
      "text/plain": [
       "(-1401.1223543048907, 781.883117556366)"
      ]
     },
     "execution_count": 111,
     "metadata": {},
     "output_type": "execute_result"
    }
   ],
   "source": [
    "participant = 21\n",
    "fits_dual[0][participant][4], sum(ll_dual_704[0][participant])"
   ]
  },
  {
   "cell_type": "code",
   "execution_count": 112,
   "metadata": {},
   "outputs": [
    {
     "data": {
      "text/plain": [
       "(-1139.8119602207562, 637.309769702429)"
      ]
     },
     "execution_count": 112,
     "metadata": {},
     "output_type": "execute_result"
    }
   ],
   "source": [
    "fits_avg[0][participant][4], sum(ll_dual_avg[0][participant])"
   ]
  },
  {
   "cell_type": "code",
   "execution_count": 9,
   "metadata": {},
   "outputs": [],
   "source": [
    "def get_lls(fits, ll, rotate):\n",
    "    ll_rotate_train = np.zeros((100, 60))\n",
    "    ll_transfer_train = np.zeros((100, 60))\n",
    "    ll_rotate_test = np.zeros((100, 60))\n",
    "    ll_transfer_test = np.zeros((100, 60))\n",
    "    ll_all_test = np.zeros((100, 60))\n",
    "    ll_all_train = np.zeros((100, 60))\n",
    "\n",
    "    for i in range(100):\n",
    "        for participant in range(60):\n",
    "            rotate_train_indices = fits[i][participant, -1][fits[i][participant, -1] < 640]\n",
    "            transfer_train_indices = fits[i][participant, -1][fits[i][participant, -1] >= 640]\n",
    "            \n",
    "            all_test_indices = np.delete(range(704), fits[i][participant, -1])\n",
    "            rotate_test_indices = all_test_indices[all_test_indices<640]\n",
    "            transfer_test_indices = all_test_indices[all_test_indices>=640]\n",
    "            #if rotate:\n",
    "            ll_rotate_train[i][participant] = sum(ll[i][participant][rotate_train_indices])\n",
    "            ll_rotate_test[i][participant] = sum(ll[i][participant][rotate_test_indices])\n",
    "            #else:\n",
    "            ll_transfer_train[i][participant] = sum(ll[i][participant][transfer_train_indices])\n",
    "            ll_transfer_test[i][participant] = sum(ll[i][participant][transfer_test_indices])\n",
    "            #Uncomment for combined rotate + transfer\n",
    "            ll_all_test[i][participant] = sum(ll[i][participant][all_test_indices])\n",
    "            ll_all_train[i][participant] = sum(ll[i][participant][fits[i][participant, -1]])\n",
    "    return [ll_rotate_train, ll_rotate_test, ll_transfer_train, ll_transfer_test, ll_all_train, ll_all_test]"
   ]
  },
  {
   "cell_type": "code",
   "execution_count": 6,
   "metadata": {},
   "outputs": [
    {
     "ename": "NameError",
     "evalue": "name 'll_dual' is not defined",
     "output_type": "error",
     "traceback": [
      "\u001b[1;31m---------------------------------------------------------------------------\u001b[0m",
      "\u001b[1;31mNameError\u001b[0m                                 Traceback (most recent call last)",
      "\u001b[1;32m<ipython-input-6-3924099e5100>\u001b[0m in \u001b[0;36m<module>\u001b[1;34m\u001b[0m\n\u001b[1;32m----> 1\u001b[1;33m \u001b[0mdual_rotate_lls\u001b[0m \u001b[1;33m=\u001b[0m \u001b[0mget_lls\u001b[0m\u001b[1;33m(\u001b[0m\u001b[0mfits_dual\u001b[0m\u001b[1;33m,\u001b[0m \u001b[0mll_dual\u001b[0m\u001b[1;33m,\u001b[0m \u001b[1;36m1\u001b[0m\u001b[1;33m)\u001b[0m\u001b[1;33m\u001b[0m\u001b[1;33m\u001b[0m\u001b[0m\n\u001b[0m\u001b[0;32m      2\u001b[0m \u001b[0msingle_rotate_lls\u001b[0m \u001b[1;33m=\u001b[0m \u001b[0mget_lls\u001b[0m\u001b[1;33m(\u001b[0m\u001b[0mfits_single\u001b[0m\u001b[1;33m,\u001b[0m \u001b[0mll_single\u001b[0m\u001b[1;33m,\u001b[0m \u001b[1;36m1\u001b[0m\u001b[1;33m)\u001b[0m\u001b[1;33m\u001b[0m\u001b[1;33m\u001b[0m\u001b[0m\n\u001b[0;32m      3\u001b[0m \u001b[0mdual_transfer_lls\u001b[0m \u001b[1;33m=\u001b[0m \u001b[0mget_lls\u001b[0m\u001b[1;33m(\u001b[0m\u001b[0mfits_dual\u001b[0m\u001b[1;33m,\u001b[0m \u001b[0mll_dual_transfer\u001b[0m\u001b[1;33m,\u001b[0m \u001b[1;36m0\u001b[0m\u001b[1;33m)\u001b[0m\u001b[1;33m\u001b[0m\u001b[1;33m\u001b[0m\u001b[0m\n\u001b[0;32m      4\u001b[0m \u001b[0msingle_transfer_lls\u001b[0m \u001b[1;33m=\u001b[0m \u001b[0mget_lls\u001b[0m\u001b[1;33m(\u001b[0m\u001b[0mfits_single\u001b[0m\u001b[1;33m,\u001b[0m \u001b[0mll_single_transfer\u001b[0m\u001b[1;33m,\u001b[0m \u001b[1;36m0\u001b[0m\u001b[1;33m)\u001b[0m\u001b[1;33m\u001b[0m\u001b[1;33m\u001b[0m\u001b[0m\n",
      "\u001b[1;31mNameError\u001b[0m: name 'll_dual' is not defined"
     ]
    }
   ],
   "source": [
    "dual_rotate_lls = get_lls(fits_dual, ll_dual, 1)\n",
    "single_rotate_lls = get_lls(fits_single, ll_single, 1)\n",
    "dual_transfer_lls = get_lls(fits_dual, ll_dual_transfer, 0)\n",
    "single_transfer_lls = get_lls(fits_single, ll_single_transfer, 0)\n"
   ]
  },
  {
   "cell_type": "code",
   "execution_count": 10,
   "metadata": {},
   "outputs": [],
   "source": [
    "dual_lls = get_lls(fits_dual, ll_dual, 0)\n",
    "single_lls = get_lls(fits_single, ll_single, 0)\n",
    "eight_lls = get_lls(fits_eight, ll_eight, 0)"
   ]
  },
  {
   "cell_type": "code",
   "execution_count": 17,
   "metadata": {},
   "outputs": [],
   "source": [
    "def get_full_split_df(ll_selected, ll_compared, selected_model):\n",
    "    d = {'Rotation': np.ravel(np.row_stack((np.repeat('Sudden', 120), np.repeat('Gradual', 120)))),\n",
    "         'Emphasis': np.ravel(np.row_stack((np.repeat('Speed', 60), np.repeat('Accuracy', 60), np.repeat('Speed', 60), np.repeat('Accuracy', 60)))),\n",
    "         'Phase': np.ravel(np.row_stack((np.repeat('Rotate', 30), np.repeat('Transfer', 30), np.repeat('Rotate', 30), np.repeat('Transfer', 30), np.repeat('Rotate', 30), np.repeat('Transfer', 30), np.repeat('Rotate', 30), np.repeat('Transfer', 30)))),\n",
    "         'Set': np.ravel(np.row_stack((np.repeat('Train', 15), np.repeat('Test', 15), np.repeat('Train', 15), np.repeat('Test', 15), np.repeat('Train', 15), np.repeat('Test', 15), np.repeat('Train', 15), np.repeat('Test', 15), (np.repeat('Train', 15), np.repeat('Test', 15), np.repeat('Train', 15), np.repeat('Test', 15), np.repeat('Train', 15), np.repeat('Test', 15), np.repeat('Train', 15), np.repeat('Test', 15)))))}\n",
    "    df = pd.DataFrame(d)\n",
    "\n",
    "    df[selected_model] = np.concatenate((\n",
    "    sum(ll_compared[0][:, 0::4] <= ll_selected[0][:, 0::4]), \n",
    "    sum(ll_compared[1][:, 0::4] <= ll_selected[1][:, 0::4]),\n",
    "    sum(ll_compared[2][:, 0::4] <= ll_selected[2][:, 0::4]),\n",
    "    sum(ll_compared[3][:, 0::4] <= ll_selected[3][:, 0::4]),\n",
    "\n",
    "    sum(ll_compared[0][:, 1::4] <= ll_selected[0][:, 1::4]), \n",
    "    sum(ll_compared[1][:, 1::4] <= ll_selected[1][:, 1::4]),\n",
    "    sum(ll_compared[2][:, 1::4] <= ll_selected[2][:, 1::4]),\n",
    "    sum(ll_compared[3][:, 1::4] <= ll_selected[3][:, 1::4]),\n",
    "\n",
    "    sum(ll_compared[0][:, 2::4] <= ll_selected[0][:, 2::4]), \n",
    "    sum(ll_compared[1][:, 2::4] <= ll_selected[1][:, 2::4]),\n",
    "    sum(ll_compared[2][:, 2::4] <= ll_selected[2][:, 2::4]),\n",
    "    sum(ll_compared[3][:, 2::4] <= ll_selected[3][:, 2::4]),\n",
    "\n",
    "    sum(ll_compared[0][:, 3::4] <= ll_selected[0][:, 3::4]), \n",
    "    sum(ll_compared[1][:, 3::4] <= ll_selected[1][:, 3::4]),\n",
    "    sum(ll_compared[2][:, 3::4] <= ll_selected[2][:, 3::4]),\n",
    "    sum(ll_compared[3][:, 3::4] <= ll_selected[3][:, 3::4])\n",
    "    ))\n",
    "    return df"
   ]
  },
  {
   "cell_type": "code",
   "execution_count": 18,
   "metadata": {},
   "outputs": [],
   "source": [
    "def get_train_test_split(ll_selected, ll_compared, model_selected):\n",
    "    d = {'Rotation': np.ravel(np.row_stack((np.repeat('Sudden', 60), np.repeat('Gradual', 60)))),\n",
    "     'Emphasis': np.ravel(np.row_stack((np.repeat('Speed', 30), np.repeat('Accuracy', 30), np.repeat('Speed', 30), np.repeat('Accuracy', 30)))),\n",
    "     'Set': np.ravel(np.row_stack((np.repeat('Train', 15), np.repeat('Test', 15), np.repeat('Train', 15), np.repeat('Test', 15), np.repeat('Train', 15), np.repeat('Test', 15), np.repeat('Train', 15), np.repeat('Test', 15))))}\n",
    "    df = pd.DataFrame(d)\n",
    "    df[model_selected] = np.concatenate((\n",
    "    sum(ll_compared[4][:, 0::4] <= ll_selected[4][:, 0::4]), \n",
    "    sum(ll_compared[5][:, 0::4] <= ll_selected[5][:, 0::4]),\n",
    "\n",
    "    sum(ll_compared[4][:, 1::4] <= ll_selected[4][:, 1::4]), \n",
    "    sum(ll_compared[5][:, 1::4] <= ll_selected[5][:, 1::4]),\n",
    "\n",
    "    sum(ll_compared[4][:, 2::4] <= ll_selected[4][:, 2::4]), \n",
    "    sum(ll_compared[5][:, 2::4] <= ll_selected[5][:, 2::4]),\n",
    "\n",
    "    sum(ll_compared[4][:, 3::4] <= ll_selected[4][:, 3::4]), \n",
    "    sum(ll_compared[5][:, 3::4] <= ll_selected[5][:, 3::4]),\n",
    "    ))\n",
    "    return df"
   ]
  },
  {
   "cell_type": "code",
   "execution_count": 32,
   "metadata": {},
   "outputs": [],
   "source": [
    "df_full_split = get_full_split_df(eight_lls, single_lls, \"Eight_Selected\")\n",
    "df_train_test = get_train_test_split(eight_lls, single_lls, \"Eight_Selected\")"
   ]
  },
  {
   "cell_type": "code",
   "execution_count": null,
   "metadata": {},
   "outputs": [],
   "source": []
  },
  {
   "cell_type": "code",
   "execution_count": 33,
   "metadata": {},
   "outputs": [
    {
     "data": {
      "text/plain": [
       "Text(0.5, 0.98, 'Compared to Single')"
      ]
     },
     "execution_count": 33,
     "metadata": {},
     "output_type": "execute_result"
    },
    {
     "data": {
      "image/png": "[encoded data removed]",
      "text/plain": [
       "<Figure size 732.975x864 with 4 Axes>"
      ]
     },
     "metadata": {},
     "output_type": "display_data"
    }
   ],
   "source": [
    "g = sns.catplot(x=\"Rotation\", y=\"Eight_Selected\", hue=\"Emphasis\", col=\"Set\", row = \"Phase\",\n",
    "                capsize=.2, height=6, aspect=.75,ci = 95,\n",
    "                kind = 'bar', data=df_full_split)\n",
    "plt.subplots_adjust(top=0.93)\n",
    "plt.ylim((0, 100))\n",
    "g.fig.suptitle('Compared to Single')\n"
   ]
  },
  {
   "cell_type": "code",
   "execution_count": 35,
   "metadata": {},
   "outputs": [
    {
     "data": {
      "text/plain": [
       "Text(0.5, 0.98, 'Compared to Single')"
      ]
     },
     "execution_count": 35,
     "metadata": {},
     "output_type": "execute_result"
    },
    {
     "data": {
      "image/png": "[encoded data removed]",
      "text/plain": [
       "<Figure size 732.975x432 with 2 Axes>"
      ]
     },
     "metadata": {},
     "output_type": "display_data"
    }
   ],
   "source": [
    "g = sns.catplot(x=\"Rotation\", y=\"Eight_Selected\", hue=\"Emphasis\", col=\"Set\", \n",
    "                capsize=.2, height=6, aspect=.75,ci = 95,\n",
    "                kind = 'bar', data=df_train_test)\n",
    "plt.subplots_adjust(top=0.91)\n",
    "plt.ylim((0, 100))\n",
    "g.fig.suptitle('Compared to Single')"
   ]
  },
  {
   "cell_type": "code",
   "execution_count": 34,
   "metadata": {},
   "outputs": [
    {
     "name": "stderr",
     "output_type": "stream",
     "text": [
      "<ipython-input-34-d1907dea8f1d>:1: UserWarning: Boolean Series key will be reindexed to match DataFrame index.\n",
      "  model = smf.ols('Eight_Selected ~ Rotation*Emphasis', data=df_train_test[df_full_split['Set'] == 'Test']).fit()\n"
     ]
    },
    {
     "data": {
      "text/html": [
       "<div>\n",
       "<style scoped>\n",
       "    .dataframe tbody tr th:only-of-type {\n",
       "        vertical-align: middle;\n",
       "    }\n",
       "\n",
       "    .dataframe tbody tr th {\n",
       "        vertical-align: top;\n",
       "    }\n",
       "\n",
       "    .dataframe thead th {\n",
       "        text-align: right;\n",
       "    }\n",
       "</style>\n",
       "<table border=\"1\" class=\"dataframe\">\n",
       "  <thead>\n",
       "    <tr style=\"text-align: right;\">\n",
       "      <th></th>\n",
       "      <th>sum_sq</th>\n",
       "      <th>df</th>\n",
       "      <th>F</th>\n",
       "      <th>PR(&gt;F)</th>\n",
       "    </tr>\n",
       "  </thead>\n",
       "  <tbody>\n",
       "    <tr>\n",
       "      <th>Rotation</th>\n",
       "      <td>375.000000</td>\n",
       "      <td>1.0</td>\n",
       "      <td>0.342537</td>\n",
       "      <td>0.560719</td>\n",
       "    </tr>\n",
       "    <tr>\n",
       "      <th>Emphasis</th>\n",
       "      <td>25297.066667</td>\n",
       "      <td>1.0</td>\n",
       "      <td>23.107167</td>\n",
       "      <td>0.000012</td>\n",
       "    </tr>\n",
       "    <tr>\n",
       "      <th>Rotation:Emphasis</th>\n",
       "      <td>2257.066667</td>\n",
       "      <td>1.0</td>\n",
       "      <td>2.061678</td>\n",
       "      <td>0.156606</td>\n",
       "    </tr>\n",
       "    <tr>\n",
       "      <th>Residual</th>\n",
       "      <td>61307.200000</td>\n",
       "      <td>56.0</td>\n",
       "      <td>NaN</td>\n",
       "      <td>NaN</td>\n",
       "    </tr>\n",
       "  </tbody>\n",
       "</table>\n",
       "</div>"
      ],
      "text/plain": [
       "                         sum_sq    df          F    PR(>F)\n",
       "Rotation             375.000000   1.0   0.342537  0.560719\n",
       "Emphasis           25297.066667   1.0  23.107167  0.000012\n",
       "Rotation:Emphasis   2257.066667   1.0   2.061678  0.156606\n",
       "Residual           61307.200000  56.0        NaN       NaN"
      ]
     },
     "execution_count": 34,
     "metadata": {},
     "output_type": "execute_result"
    }
   ],
   "source": [
    "model = smf.ols('Eight_Selected ~ Rotation*Emphasis', data=df_train_test[df_full_split['Set'] == 'Test']).fit()\n",
    "anova_table = sm.stats.anova_lm(model, typ=2)\n",
    "anova_table"
   ]
  },
  {
   "cell_type": "code",
   "execution_count": 23,
   "metadata": {},
   "outputs": [],
   "source": [
    "SS = df_train_test['Dual_Selected'][df_train_test['Set'] == 'Test'][df_train_test['Emphasis'] == 'Speed'][df_train_test['Rotation'] == 'Sudden']\n",
    "GS = df_train_test['Dual_Selected'][df_train_test['Set'] == 'Test'][df_train_test['Emphasis'] == 'Speed'][df_train_test['Rotation'] == 'Gradual']\n",
    "SA = df_train_test['Dual_Selected'][df_train_test['Set'] == 'Test'][df_train_test['Emphasis'] == 'Accuracy'][df_train_test['Rotation'] == 'Sudden']\n",
    "GA = df_train_test['Dual_Selected'][df_train_test['Set'] == 'Test'][df_train_test['Emphasis'] == 'Accuracy'][df_train_test['Rotation'] == 'Gradual']\n"
   ]
  },
  {
   "cell_type": "code",
   "execution_count": 24,
   "metadata": {},
   "outputs": [
    {
     "ename": "NameError",
     "evalue": "name 'SG' is not defined",
     "output_type": "error",
     "traceback": [
      "\u001b[1;31m---------------------------------------------------------------------------\u001b[0m",
      "\u001b[1;31mNameError\u001b[0m                                 Traceback (most recent call last)",
      "\u001b[1;32m<ipython-input-24-980b5c2cae61>\u001b[0m in \u001b[0;36m<module>\u001b[1;34m\u001b[0m\n\u001b[1;32m----> 1\u001b[1;33m \u001b[0mstatsmodels\u001b[0m\u001b[1;33m.\u001b[0m\u001b[0mstats\u001b[0m\u001b[1;33m.\u001b[0m\u001b[0mproportion\u001b[0m\u001b[1;33m.\u001b[0m\u001b[0mproportions_chisquare\u001b[0m\u001b[1;33m(\u001b[0m\u001b[1;33m[\u001b[0m\u001b[0mnp\u001b[0m\u001b[1;33m.\u001b[0m\u001b[0mmean\u001b[0m\u001b[1;33m(\u001b[0m\u001b[0mSS\u001b[0m\u001b[1;33m)\u001b[0m\u001b[1;33m,\u001b[0m \u001b[0mnp\u001b[0m\u001b[1;33m.\u001b[0m\u001b[0mmean\u001b[0m\u001b[1;33m(\u001b[0m\u001b[0mSG\u001b[0m\u001b[1;33m)\u001b[0m\u001b[1;33m,\u001b[0m \u001b[0mnp\u001b[0m\u001b[1;33m.\u001b[0m\u001b[0mmean\u001b[0m\u001b[1;33m(\u001b[0m\u001b[0mAS\u001b[0m\u001b[1;33m)\u001b[0m\u001b[1;33m,\u001b[0m \u001b[0mnp\u001b[0m\u001b[1;33m.\u001b[0m\u001b[0mmean\u001b[0m\u001b[1;33m(\u001b[0m\u001b[0mAG\u001b[0m\u001b[1;33m)\u001b[0m\u001b[1;33m]\u001b[0m\u001b[1;33m,\u001b[0m\u001b[1;33m[\u001b[0m\u001b[1;36m100\u001b[0m\u001b[1;33m,\u001b[0m \u001b[1;36m100\u001b[0m\u001b[1;33m,\u001b[0m \u001b[1;36m100\u001b[0m\u001b[1;33m,\u001b[0m \u001b[1;36m100\u001b[0m\u001b[1;33m]\u001b[0m\u001b[1;33m)\u001b[0m\u001b[1;33m\u001b[0m\u001b[1;33m\u001b[0m\u001b[0m\n\u001b[0m",
      "\u001b[1;31mNameError\u001b[0m: name 'SG' is not defined"
     ]
    }
   ],
   "source": [
    "statsmodels.stats.proportion.proportions_chisquare([np.mean(SS), np.mean(SG), np.mean(AS), np.mean(AG)],[100, 100, 100, 100])"
   ]
  },
  {
   "cell_type": "code",
   "execution_count": null,
   "metadata": {},
   "outputs": [],
   "source": []
  },
  {
   "cell_type": "code",
   "execution_count": null,
   "metadata": {},
   "outputs": [],
   "source": []
  },
  {
   "cell_type": "code",
   "execution_count": null,
   "metadata": {},
   "outputs": [],
   "source": []
  },
  {
   "cell_type": "code",
   "execution_count": 139,
   "metadata": {},
   "outputs": [
    {
     "data": {
      "text/plain": [
       "(-1.0, 1.0)"
      ]
     },
     "execution_count": 139,
     "metadata": {},
     "output_type": "execute_result"
    },
    {
     "data": {
      "image/png": "[encoded data removed]",
      "text/plain": [
       "<Figure size 408.975x432 with 1 Axes>"
      ]
     },
     "metadata": {},
     "output_type": "display_data"
    }
   ],
   "source": [
    "block = 11\n",
    "d = {'Rotation': np.ravel(np.row_stack((np.repeat('Sudden', 30), np.repeat('Gradual', 30)))),\n",
    "     'Emphasis': np.ravel(np.row_stack((np.repeat('Speed', 15), np.repeat('Accuracy', 15), np.repeat('Speed', 15), np.repeat('Accuracy', 15)))),\n",
    "     \n",
    "    'Mean_curvatures': np.concatenate((np.mean(curvatures_smooth[0::4], axis = 2)[:, block-1] - np.mean(curvatures_smooth[0::4], axis = 2)[:, block],\n",
    "                np.mean(curvatures_smooth[1::4], axis = 2)[:, block-1] - np.mean(curvatures_smooth[1::4], axis = 2)[:, block],\n",
    "                np.mean(curvatures_smooth[2::4], axis = 2)[:, block-1] - np.mean(curvatures_smooth[2::4], axis = 2)[:, block],\n",
    "                np.mean(curvatures_smooth[3::4], axis = 2)[:, block-1] - np.mean(curvatures_smooth[3::4], axis = 2)[:, block],\n",
    "             ))\n",
    "\n",
    "    }\n",
    "\n",
    "df_last_rotate = pd.DataFrame(d)\n",
    "g = sns.catplot(x=\"Rotation\", y=\"Mean_curvatures\", hue=\"Emphasis\",\n",
    "                capsize=.2, height=6, aspect=.75,ci = 95,\n",
    "                kind = 'bar', data=df_last_rotate)\n",
    "plt.title('Block 10 - Transfer')\n",
    "plt.ylim((-1, 1))"
   ]
  },
  {
   "cell_type": "code",
   "execution_count": 140,
   "metadata": {},
   "outputs": [
    {
     "data": {
      "text/html": [
       "<div>\n",
       "<style scoped>\n",
       "    .dataframe tbody tr th:only-of-type {\n",
       "        vertical-align: middle;\n",
       "    }\n",
       "\n",
       "    .dataframe tbody tr th {\n",
       "        vertical-align: top;\n",
       "    }\n",
       "\n",
       "    .dataframe thead th {\n",
       "        text-align: right;\n",
       "    }\n",
       "</style>\n",
       "<table border=\"1\" class=\"dataframe\">\n",
       "  <thead>\n",
       "    <tr style=\"text-align: right;\">\n",
       "      <th></th>\n",
       "      <th>sum_sq</th>\n",
       "      <th>df</th>\n",
       "      <th>F</th>\n",
       "      <th>PR(&gt;F)</th>\n",
       "    </tr>\n",
       "  </thead>\n",
       "  <tbody>\n",
       "    <tr>\n",
       "      <th>Rotation</th>\n",
       "      <td>0.821691</td>\n",
       "      <td>1.0</td>\n",
       "      <td>18.930433</td>\n",
       "      <td>0.000058</td>\n",
       "    </tr>\n",
       "    <tr>\n",
       "      <th>Emphasis</th>\n",
       "      <td>0.282815</td>\n",
       "      <td>1.0</td>\n",
       "      <td>6.515604</td>\n",
       "      <td>0.013447</td>\n",
       "    </tr>\n",
       "    <tr>\n",
       "      <th>Rotation:Emphasis</th>\n",
       "      <td>0.031229</td>\n",
       "      <td>1.0</td>\n",
       "      <td>0.719476</td>\n",
       "      <td>0.399927</td>\n",
       "    </tr>\n",
       "    <tr>\n",
       "      <th>Residual</th>\n",
       "      <td>2.430727</td>\n",
       "      <td>56.0</td>\n",
       "      <td>NaN</td>\n",
       "      <td>NaN</td>\n",
       "    </tr>\n",
       "  </tbody>\n",
       "</table>\n",
       "</div>"
      ],
      "text/plain": [
       "                     sum_sq    df          F    PR(>F)\n",
       "Rotation           0.821691   1.0  18.930433  0.000058\n",
       "Emphasis           0.282815   1.0   6.515604  0.013447\n",
       "Rotation:Emphasis  0.031229   1.0   0.719476  0.399927\n",
       "Residual           2.430727  56.0        NaN       NaN"
      ]
     },
     "execution_count": 140,
     "metadata": {},
     "output_type": "execute_result"
    }
   ],
   "source": [
    "model = smf.ols('Mean_curvatures ~ Rotation*Emphasis', data=df_last_rotate).fit()\n",
    "anova_table = sm.stats.anova_lm(model, typ=2)\n",
    "anova_table"
   ]
  },
  {
   "cell_type": "code",
   "execution_count": 95,
   "metadata": {},
   "outputs": [
    {
     "data": {
      "text/plain": [
       "-0.17998015909867204"
      ]
     },
     "execution_count": 95,
     "metadata": {},
     "output_type": "execute_result"
    }
   ],
   "source": [
    "np.mean(df_last_rotate['Mean_curvatures'][46:60])"
   ]
  },
  {
   "cell_type": "code",
   "execution_count": 151,
   "metadata": {},
   "outputs": [],
   "source": [
    "a, b = stats.chisquare([GS, GA, SS, SA])"
   ]
  },
  {
   "cell_type": "code",
   "execution_count": 153,
   "metadata": {},
   "outputs": [
    {
     "data": {
      "text/plain": [
       "array([88.4       , 17.61643836, 70.19806763, 10.90797546, 32.59036145,\n",
       "       54.28571429, 47.72151899, 11.47770701, 48.03971119,  9.67701863,\n",
       "       29.75409836, 12.34680135, 17.83387622, 55.20216606, 26.39649123])"
      ]
     },
     "execution_count": 153,
     "metadata": {},
     "output_type": "execute_result"
    }
   ],
   "source": []
  },
  {
   "cell_type": "code",
   "execution_count": 155,
   "metadata": {},
   "outputs": [
    {
     "data": {
      "text/plain": [
       "Text(0.5, 1.0, 'Rotate')"
      ]
     },
     "execution_count": 155,
     "metadata": {},
     "output_type": "execute_result"
    },
    {
     "data": {
      "image/png": "[encoded data removed]",
      "text/plain": [
       "<Figure size 432x288 with 1 Axes>"
      ]
     },
     "metadata": {},
     "output_type": "display_data"
    }
   ],
   "source": [
    "participant = 41\n",
    "itr = 22\n",
    "p0, = plt.plot(np.ravel(curvatures_smooth[participant][1:]))\n",
    "p1, = plt.plot(model_errors_single[itr][participant])\n",
    "p2, = plt.plot(model_errors_dual[itr][participant])\n",
    "plt.legend((p0, p1, p2), ('Data', 'Single State', 'Dual State'))\n",
    "plt.title('Rotate')"
   ]
  },
  {
   "cell_type": "code",
   "execution_count": 48,
   "metadata": {},
   "outputs": [
    {
     "data": {
      "text/plain": [
       "Text(0.5, 1.0, 'Transfer')"
      ]
     },
     "execution_count": 48,
     "metadata": {},
     "output_type": "execute_result"
    },
    {
     "data": {
      "image/png": "[encoded data removed]",
      "text/plain": [
       "<Figure size 432x288 with 1 Axes>"
      ]
     },
     "metadata": {},
     "output_type": "display_data"
    }
   ],
   "source": [
    "participant = 37\n",
    "\n",
    "p0, = plt.plot(np.ravel(curvatures_smooth[participant][-1]))\n",
    "p1, = plt.plot(np.mean(model_errors_single_transfer, axis = 0)[participant])\n",
    "p2, = plt.plot(np.mean(model_errors_dual_transfer, axis = 0)[participant])\n",
    "\n",
    "plt.legend((p0, p1, p2), ('Data', 'Single State', 'Dual State'))\n",
    "plt.title('Transfer')"
   ]
  },
  {
   "cell_type": "code",
   "execution_count": 49,
   "metadata": {},
   "outputs": [
    {
     "data": {
      "text/plain": [
       "0.8514456500218309"
      ]
     },
     "execution_count": 49,
     "metadata": {},
     "output_type": "execute_result"
    }
   ],
   "source": [
    "curvatures_smooth[participant][10][-1]"
   ]
  },
  {
   "cell_type": "code",
   "execution_count": 32,
   "metadata": {},
   "outputs": [
    {
     "data": {
      "text/plain": [
       "(-16.286725535895798, -7.450671493772525)"
      ]
     },
     "execution_count": 32,
     "metadata": {},
     "output_type": "execute_result"
    }
   ],
   "source": [
    "participant = 53\n",
    "fits_single_transfer[1][participant][2], fits_dual_transfer[1][participant][4]"
   ]
  },
  {
   "cell_type": "code",
   "execution_count": 38,
   "metadata": {},
   "outputs": [
    {
     "data": {
      "text/plain": [
       "121.11122410290955"
      ]
     },
     "execution_count": 38,
     "metadata": {},
     "output_type": "execute_result"
    }
   ],
   "source": [
    "participant = 14\n",
    "-2*np.sum(stat.norm.logpdf(curvatures_smooth[participant][-1], model_errors_dual_transfer[0][participant]))"
   ]
  },
  {
   "cell_type": "code",
   "execution_count": null,
   "metadata": {},
   "outputs": [],
   "source": []
  },
  {
   "cell_type": "code",
   "execution_count": 164,
   "metadata": {},
   "outputs": [
    {
     "data": {
      "text/plain": [
       "[<matplotlib.lines.Line2D at 0x1ef732bed90>]"
      ]
     },
     "execution_count": 164,
     "metadata": {},
     "output_type": "execute_result"
    },
    {
     "data": {
      "image/png": "[encoded data removed]",
      "text/plain": [
       "<Figure size 432x288 with 1 Axes>"
      ]
     },
     "metadata": {},
     "output_type": "display_data"
    }
   ],
   "source": [
    "plt.plot(model_transfer(0.89, 64, 0.9210593053638314, 0.06433684145450244)[0])\n",
    "plt.plot(dual_transfer(0.89, 64, 0.7135521829308, 0.49866691606443314, 0.9526619783821537, 0.4986667586384563,)[0])\n",
    "\n",
    "plt.plot(curvatures_smooth[participant][-1])"
   ]
  },
  {
   "cell_type": "code",
   "execution_count": 158,
   "metadata": {},
   "outputs": [
    {
     "data": {
      "text/plain": [
       "0.8995634881336975"
      ]
     },
     "execution_count": 158,
     "metadata": {},
     "output_type": "execute_result"
    }
   ],
   "source": [
    "1 - curvatures_smooth[participant][10][-1]"
   ]
  },
  {
   "cell_type": "code",
   "execution_count": 117,
   "metadata": {},
   "outputs": [],
   "source": [
    "its = pickle.load(open('params/its.pickle', 'rb'))\n",
    "mts = pickle.load(open('mts.pickle', 'rb'))"
   ]
  },
  {
   "cell_type": "code",
   "execution_count": 157,
   "metadata": {},
   "outputs": [
    {
     "data": {
      "text/plain": [
       "<matplotlib.legend.Legend at 0x1234e3c94f0>"
      ]
     },
     "execution_count": 157,
     "metadata": {},
     "output_type": "execute_result"
    },
    {
     "data": {
      "image/png": "[encoded data removed]",
      "text/plain": [
       "<Figure size 432x288 with 1 Axes>"
      ]
     },
     "metadata": {},
     "output_type": "display_data"
    }
   ],
   "source": [
    "participant = 41\n",
    "p, = plt.plot(gaussian_filter1d(np.ravel( (mts[participant][1:])/np.max(mts[participant]) + its[20][1:]/np.max(its[participant])), sigma = 3))\n",
    "#plt.plot(np.ravel(curvatures_smooth[participant][1:]))\n",
    "p0, = plt.plot(np.ravel(curvatures_smooth[participant][1:]))\n",
    "p1, = plt.plot(model_errors_single[itr][participant])\n",
    "p2, = plt.plot(model_errors_dual[itr][participant])\n",
    "plt.legend((p, p0, p1, p2), ('rts', 'Data', 'Single State', 'Dual State'))\n"
   ]
  },
  {
   "cell_type": "code",
   "execution_count": null,
   "metadata": {},
   "outputs": [],
   "source": []
  },
  {
   "cell_type": "code",
   "execution_count": null,
   "metadata": {},
   "outputs": [],
   "source": []
  },
  {
   "cell_type": "markdown",
   "metadata": {},
   "source": []
  },
  {
   "cell_type": "code",
   "execution_count": null,
   "metadata": {},
   "outputs": [],
   "source": []
  },
  {
   "cell_type": "code",
   "execution_count": null,
   "metadata": {},
   "outputs": [],
   "source": []
  },
  {
   "cell_type": "code",
   "execution_count": null,
   "metadata": {
    "scrolled": true
   },
   "outputs": [],
   "source": []
  },
  {
   "cell_type": "code",
   "execution_count": null,
   "metadata": {},
   "outputs": [],
   "source": [
    "\n"
   ]
  },
  {
   "cell_type": "code",
   "execution_count": null,
   "metadata": {},
   "outputs": [],
   "source": []
  },
  {
   "cell_type": "code",
   "execution_count": null,
   "metadata": {},
   "outputs": [],
   "source": []
  },
  {
   "cell_type": "code",
   "execution_count": 49,
   "metadata": {},
   "outputs": [
    {
     "data": {
      "text/plain": [
       "50.24349663838527"
      ]
     },
     "execution_count": 49,
     "metadata": {},
     "output_type": "execute_result"
    }
   ],
   "source": []
  },
  {
   "cell_type": "code",
   "execution_count": null,
   "metadata": {},
   "outputs": [],
   "source": []
  },
  {
   "cell_type": "code",
   "execution_count": null,
   "metadata": {},
   "outputs": [],
   "source": []
  },
  {
   "cell_type": "code",
   "execution_count": null,
   "metadata": {},
   "outputs": [],
   "source": []
  },
  {
   "cell_type": "code",
   "execution_count": null,
   "metadata": {},
   "outputs": [],
   "source": []
  },
  {
   "cell_type": "code",
   "execution_count": null,
   "metadata": {},
   "outputs": [],
   "source": []
  },
  {
   "cell_type": "code",
   "execution_count": null,
   "metadata": {},
   "outputs": [],
   "source": []
  },
  {
   "cell_type": "code",
   "execution_count": 47,
   "metadata": {},
   "outputs": [
    {
     "data": {
      "text/plain": [
       "10.503401873917536"
      ]
     },
     "execution_count": 47,
     "metadata": {},
     "output_type": "execute_result"
    }
   ],
   "source": [
    "fits_dual[0, 5]"
   ]
  },
  {
   "cell_type": "code",
   "execution_count": 49,
   "metadata": {},
   "outputs": [
    {
     "data": {
      "text/plain": [
       "-82.73038327528457"
      ]
     },
     "execution_count": 49,
     "metadata": {},
     "output_type": "execute_result"
    }
   ],
   "source": [
    "fits_single[0, 3]"
   ]
  },
  {
   "cell_type": "code",
   "execution_count": 50,
   "metadata": {},
   "outputs": [
    {
     "data": {
      "text/plain": [
       "93.2337851492021"
      ]
     },
     "execution_count": 50,
     "metadata": {},
     "output_type": "execute_result"
    }
   ],
   "source": []
  },
  {
   "cell_type": "code",
   "execution_count": null,
   "metadata": {},
   "outputs": [],
   "source": []
  }
 ],
 "metadata": {
  "kernelspec": {
   "display_name": "Python 3",
   "language": "python",
   "name": "python3"
  },
  "language_info": {
   "codemirror_mode": {
    "name": "ipython",
    "version": 3
   },
   "file_extension": ".py",
   "mimetype": "text/x-python",
   "name": "python",
   "nbconvert_exporter": "python",
   "pygments_lexer": "ipython3",
   "version": "3.8.5"
  }
 },
 "nbformat": 4,
 "nbformat_minor": 4
}
