{
 "cells": [
  {
   "cell_type": "code",
   "execution_count": 1,
   "metadata": {},
   "outputs": [],
   "source": [
    "import numpy as np\n",
    "import pandas as pd\n",
    "import matplotlib.pyplot as plt\n",
    "from ddm import Model, Sample\n",
    "from ddm import Model\n",
    "from ddm.models import DriftConstant, NoiseConstant, BoundConstant, OverlayNonDecision, ICRange\n",
    "from ddm.functions import fit_adjust_model, display_model\n",
    "from ddm import Fittable\n",
    "from ddm.models import LossRobustBIC, LossRobustLikelihood, LossSquaredError\n",
    "from ddm.functions import fit_adjust_model, fit_model\n",
    "import seaborn as sns\n",
    "import pickle\n",
    "import scipy.io\n"
   ]
  },
  {
   "cell_type": "code",
   "execution_count": 41,
   "metadata": {},
   "outputs": [],
   "source": [
    "df_errors = pd.read_csv('Curvature_Errors.csv')\n",
    "def fit_ddm_participant(participant):\n",
    "    incorrect_thresold = np.array([9/90, 15/90, 20/90, 30/90, 45/90])\n",
    "    model_fits_4param = np.zeros((12, len(incorrect_thresold)), dtype = object)\n",
    "    for block in range(12):\n",
    "        print(\"Participant: \", participant)\n",
    "        print(\"Block: \", block)\n",
    "        for ic in range(len(incorrect_thresold)):\n",
    "            df_rt = pd.read_csv('RTs.csv')            \n",
    "            df_rt['Correct'] = df_errors['Errors'] < incorrect_thresold[ic]            \n",
    "            df_rt = df_rt[df_rt['Participant_Id'] == participant]\n",
    "            df_rt = df_rt[df_rt[\"ITs\"] > .001]\n",
    "            df_rt = df_rt[df_rt[\"ITs\"] < 5]\n",
    "            df_rt = df_rt.drop(['Trial', 'Unnamed: 0', 'Participant_Id', 'Rotation', 'Emphasis', 'MTs'], axis = 1)\n",
    "\n",
    "            samp = Sample.from_pandas_dataframe(df_rt[df_rt['Block'] == block], rt_column_name=\"ITs\", correct_column_name=\"Correct\")\n",
    "            model_fit = Model(name='Simple model (fitted)',\n",
    "                          drift=DriftConstant(drift=Fittable(minval=-20, maxval=20)),\n",
    "                          noise=NoiseConstant(noise=Fittable(minval = 0, maxval = 5)),                      \n",
    "                          bound=BoundConstant(B=Fittable(minval = 0, maxval = 20)),\n",
    "                          overlay=OverlayNonDecision(nondectime=Fittable(minval = 0, maxval = 1)),\n",
    "                          dx=.001, dt=.01, T_dur=5)\n",
    "\n",
    "            try:\n",
    "                fit_adjust_model(samp, model_fit,\n",
    "                             fitting_method=\"differential_evolution\",\n",
    "                             lossfunction=LossRobustLikelihood, verbose=False)\n",
    "            except:\n",
    "                print (\"In except: \")\n",
    "                print (participant, block)\n",
    "            model_fits_4param[participant][block][ic] = model_fit\n",
    "    return model_fits_4param"
   ]
  },
  {
   "cell_type": "markdown",
   "metadata": {},
   "source": [
    "# Analyzing 4 param ddm models"
   ]
  },
  {
   "cell_type": "code",
   "execution_count": 5,
   "metadata": {},
   "outputs": [],
   "source": [
    "ddm_params = np.array(pickle.load(open('ddm_fits.pickle', 'rb')))\n"
   ]
  },
  {
   "cell_type": "code",
   "execution_count": 104,
   "metadata": {},
   "outputs": [
    {
     "data": {
      "text/plain": [
       "37.19494739504438"
      ]
     },
     "execution_count": 104,
     "metadata": {},
     "output_type": "execute_result"
    }
   ],
   "source": [
    "ddm_params[0][0][0].get_fit_result().value()"
   ]
  },
  {
   "cell_type": "code",
   "execution_count": 105,
   "metadata": {},
   "outputs": [],
   "source": [
    "drift = np.zeros((60, 12, 5))\n",
    "drift_noise = np.zeros((60, 12, 5))\n",
    "B = np.zeros((60, 12, 5))\n",
    "Ter = np.zeros((60, 12, 5))\n",
    "neg_ll = np.zeros((60, 12, 5))\n",
    "for participant in range(60):\n",
    "    for block in range(12):\n",
    "        for ic in range(5):\n",
    "            drift[participant][block][ic] = ddm_params[participant][block][ic].get_model_parameters()[0].real\n",
    "            drift_noise[participant][block][ic] = ddm_params[participant][block][ic].get_model_parameters()[1].real\n",
    "            B[participant][block][ic] = ddm_params[participant][block][ic].get_model_parameters()[2].real\n",
    "            Ter[participant][block][ic] = ddm_params[participant][block][ic].get_model_parameters()[3].real\n",
    "            neg_ll[participant][block][ic] = ddm_params[participant][block][ic].get_fit_result().value()\n",
    "                        "
   ]
  },
  {
   "cell_type": "code",
   "execution_count": 106,
   "metadata": {},
   "outputs": [],
   "source": [
    "ddm_fits = pd.DataFrame({'Participant_no': np.repeat(np.arange(60), 12*5),\n",
    "                         'Rotation': np.tile(np.repeat(np.array(['Sudden', 'Gradual']), 12*2*5), 15),\n",
    "                         'Emphasis': np.tile(np.repeat(np.array(['Speed', 'Accuracy']), 12*5), 30),\n",
    "                         'Incorrect_Criterion': np.tile(np.tile(np.array(['10', '15', '20', '30', '45']), 12), 60),\n",
    "                         'Block':np.tile(np.repeat(np.arange(12), 5), 60), \n",
    "                         'Drift': np.ravel(drift),\n",
    "                         'Drift_Noise': np.ravel(drift_noise),\n",
    "                         'Boundary': np.ravel(B), \n",
    "                         'Ter': np.ravel(Ter),\n",
    "                         'neg_LL': np.ravel(neg_ll)\n",
    "                        })"
   ]
  },
  {
   "cell_type": "code",
   "execution_count": 107,
   "metadata": {},
   "outputs": [],
   "source": [
    "ddm_fits.to_csv('ddm_fits.csv')"
   ]
  },
  {
   "cell_type": "code",
   "execution_count": null,
   "metadata": {},
   "outputs": [],
   "source": []
  },
  {
   "cell_type": "code",
   "execution_count": 139,
   "metadata": {},
   "outputs": [
    {
     "data": {
      "text/plain": [
       "<seaborn.axisgrid.FacetGrid at 0x25602798190>"
      ]
     },
     "execution_count": 139,
     "metadata": {},
     "output_type": "execute_result"
    },
    {
     "data": {
      "image/png": "[encoded data removed]",
      "text/plain": [
       "<Figure size 360x360 with 1 Axes>"
      ]
     },
     "metadata": {
      "needs_background": "light"
     },
     "output_type": "display_data"
    }
   ],
   "source": [
    "sns.catplot(x = \"Incorrect_Criterion\", y = 'neg_LL',  kind = 'box',  \n",
    "           data = ddm_fits)"
   ]
  },
  {
   "cell_type": "code",
   "execution_count": null,
   "metadata": {},
   "outputs": [],
   "source": [
    "\n"
   ]
  },
  {
   "cell_type": "code",
   "execution_count": null,
   "metadata": {},
   "outputs": [],
   "source": [
    "d"
   ]
  }
 ],
 "metadata": {
  "kernelspec": {
   "display_name": "Python 3",
   "language": "python",
   "name": "python3"
  },
  "language_info": {
   "codemirror_mode": {
    "name": "ipython",
    "version": 3
   },
   "file_extension": ".py",
   "mimetype": "text/x-python",
   "name": "python",
   "nbconvert_exporter": "python",
   "pygments_lexer": "ipython3",
   "version": "3.8.5"
  }
 },
 "nbformat": 4,
 "nbformat_minor": 4
}
