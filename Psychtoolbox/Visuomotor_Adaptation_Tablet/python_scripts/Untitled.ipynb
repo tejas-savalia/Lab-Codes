{
 "cells": [
  {
   "cell_type": "code",
   "execution_count": 1,
   "metadata": {},
   "outputs": [],
   "source": [
    "import scipy.io\n",
    "import numpy as np\n",
    "import matplotlib.pyplot as plt\n",
    "from ipywidgets import interact, interactive, fixed, interact_manual\n",
    "import ipywidgets as widgets\n",
    "import scipy.stats as stat\n",
    "from sklearn.linear_model import LinearRegression\n",
    "import statsmodels.api as sm\n",
    "import statsmodels.formula.api as smf\n",
    "from multiprocessing import Pool\n",
    "from scipy import stats\n",
    "from scipy.optimize import curve_fit\n",
    "import control"
   ]
  },
  {
   "cell_type": "code",
   "execution_count": null,
   "metadata": {},
   "outputs": [],
   "source": []
  },
  {
   "cell_type": "markdown",
   "metadata": {},
   "source": [
    "# Environment\n",
    "1. States\n",
    "2. Transitions\n",
    "3. Rewards"
   ]
  },
  {
   "cell_type": "code",
   "execution_count": 2,
   "metadata": {},
   "outputs": [],
   "source": [
    "def create_environment(grid_size, reward_loc, reward_value):\n",
    "    environment = np.zeros((grid_size[0], grid_size[1]))\n",
    "    model = np.zeros((grid_size[0], grid_size[1]))\n",
    "#    model = np.random.rand(grid_size[0], grid_size[1])\n",
    "    #for i in range(len(environment[:, 0])):\n",
    "    #    for j in range(len(environment[0, :])):\n",
    "    #        environment[i][j] = np.linalg.norm(np.array([i, j]) - np.array(reward_loc))\n",
    "    #environment = (np.max(environment) - environment)/np.max(environment)\n",
    "    environment[reward_loc[0]][reward_loc[1]] = reward_value\n",
    "    return environment, model"
   ]
  },
  {
   "cell_type": "code",
   "execution_count": 3,
   "metadata": {},
   "outputs": [],
   "source": [
    "environment, model = create_environment((100, 100), (90, 90), 10)\n"
   ]
  },
  {
   "cell_type": "code",
   "execution_count": null,
   "metadata": {},
   "outputs": [],
   "source": []
  },
  {
   "cell_type": "code",
   "execution_count": 4,
   "metadata": {},
   "outputs": [],
   "source": [
    "def step(environment, curr_pos, action, transition):\n",
    "    if transition == 0:\n",
    "        new_pos = np.array(curr_pos) + action\n",
    "    else:\n",
    "        new_pos = np.array(curr_pos) + np.dot(np.array(action), np.array([[0, 1], [-1 , 0]]))\n",
    "        \n",
    "    if new_pos[0] in range(len(environment[:, 0])) and new_pos[1] in range(len(environment[0, :])):\n",
    "        reward = environment[new_pos[0]][new_pos[1]]\n",
    "    else:\n",
    "        #print ('Here')\n",
    "        reward = environment[curr_pos[0]][curr_pos[1]]\n",
    "        new_pos = np.array(curr_pos)\n",
    "    return new_pos, reward"
   ]
  },
  {
   "cell_type": "code",
   "execution_count": 5,
   "metadata": {},
   "outputs": [],
   "source": [
    "def select_action(model, curr_pos, visited):\n",
    "    actions = np.array([[1, 0], [0, 1], [-1, 0], [0, -1], [1, 1], [-1, -1]])\n",
    "    #print (curr_pos)\n",
    "    rewards = list()\n",
    "    for pick_action in actions:\n",
    "        new_pos, r = step(model, curr_pos, pick_action, 0)\n",
    "        #print (visited)\n",
    "        #print (new_pos.tolist())\n",
    "        if new_pos.tolist() in visited:\n",
    "            r = -1\n",
    "        rewards.append(r)\n",
    "        #print (r)\n",
    "    picked_reward = np.random.choice(len(rewards), 1, p = scipy.special.softmax(rewards))\n",
    "    return actions[picked_reward][0]"
   ]
  },
  {
   "cell_type": "code",
   "execution_count": 6,
   "metadata": {},
   "outputs": [],
   "source": [
    "def update_model(model, curr_position, new_position, reward, visited):\n",
    "    model[curr_position[0]][curr_position[1]] = model[curr_position[0]][curr_position[1]] + 0.5*(reward + 0.9*model[new_position[0]][new_position[1]] - model[curr_position[0]][curr_position[1]])\n",
    "    visited.append(curr_position.tolist())\n",
    "    return model, visited"
   ]
  },
  {
   "cell_type": "code",
   "execution_count": 17,
   "metadata": {},
   "outputs": [
    {
     "ename": "KeyboardInterrupt",
     "evalue": "",
     "output_type": "error",
     "traceback": [
      "\u001b[1;31m---------------------------------------------------------------------------\u001b[0m",
      "\u001b[1;31mKeyboardInterrupt\u001b[0m                         Traceback (most recent call last)",
      "\u001b[1;32m<ipython-input-17-eb4d8c7e5958>\u001b[0m in \u001b[0;36m<module>\u001b[1;34m\u001b[0m\n\u001b[0;32m      5\u001b[0m         \u001b[0mcurr_pos\u001b[0m \u001b[1;33m=\u001b[0m \u001b[0mnp\u001b[0m\u001b[1;33m.\u001b[0m\u001b[0marray\u001b[0m\u001b[1;33m(\u001b[0m\u001b[1;33m[\u001b[0m\u001b[1;36m10\u001b[0m\u001b[1;33m,\u001b[0m \u001b[1;36m10\u001b[0m\u001b[1;33m]\u001b[0m\u001b[1;33m)\u001b[0m\u001b[1;33m\u001b[0m\u001b[0m\n\u001b[0;32m      6\u001b[0m     \u001b[0maction\u001b[0m \u001b[1;33m=\u001b[0m \u001b[0mselect_action\u001b[0m\u001b[1;33m(\u001b[0m\u001b[0mmodel\u001b[0m\u001b[1;33m,\u001b[0m \u001b[0mcurr_pos\u001b[0m\u001b[1;33m,\u001b[0m \u001b[0mvisited\u001b[0m\u001b[1;33m)\u001b[0m\u001b[1;33m\u001b[0m\u001b[0m\n\u001b[1;32m----> 7\u001b[1;33m     \u001b[0mnew_pos\u001b[0m\u001b[1;33m,\u001b[0m \u001b[0mreward\u001b[0m \u001b[1;33m=\u001b[0m \u001b[0mstep\u001b[0m\u001b[1;33m(\u001b[0m\u001b[0menvironment\u001b[0m\u001b[1;33m,\u001b[0m \u001b[0mcurr_pos\u001b[0m\u001b[1;33m,\u001b[0m \u001b[0maction\u001b[0m\u001b[1;33m,\u001b[0m \u001b[1;36m0\u001b[0m\u001b[1;33m)\u001b[0m\u001b[1;33m\u001b[0m\u001b[0m\n\u001b[0m\u001b[0;32m      8\u001b[0m     \u001b[0mmodel\u001b[0m\u001b[1;33m,\u001b[0m \u001b[0mvisited\u001b[0m \u001b[1;33m=\u001b[0m \u001b[0mupdate_model\u001b[0m\u001b[1;33m(\u001b[0m\u001b[0mmodel\u001b[0m\u001b[1;33m,\u001b[0m \u001b[0mcurr_pos\u001b[0m\u001b[1;33m,\u001b[0m \u001b[0mnew_pos\u001b[0m\u001b[1;33m,\u001b[0m \u001b[0mreward\u001b[0m\u001b[1;33m,\u001b[0m \u001b[0mvisited\u001b[0m\u001b[1;33m)\u001b[0m\u001b[1;33m\u001b[0m\u001b[0m\n\u001b[0;32m      9\u001b[0m     \u001b[0mcurr_pos\u001b[0m \u001b[1;33m=\u001b[0m \u001b[0mnew_pos\u001b[0m\u001b[1;33m\u001b[0m\u001b[0m\n",
      "\u001b[1;32m<ipython-input-14-2374ca470979>\u001b[0m in \u001b[0;36mstep\u001b[1;34m(environment, curr_pos, action, transition)\u001b[0m\n\u001b[0;32m      1\u001b[0m \u001b[1;32mdef\u001b[0m \u001b[0mstep\u001b[0m\u001b[1;33m(\u001b[0m\u001b[0menvironment\u001b[0m\u001b[1;33m,\u001b[0m \u001b[0mcurr_pos\u001b[0m\u001b[1;33m,\u001b[0m \u001b[0maction\u001b[0m\u001b[1;33m,\u001b[0m \u001b[0mtransition\u001b[0m\u001b[1;33m)\u001b[0m\u001b[1;33m:\u001b[0m\u001b[1;33m\u001b[0m\u001b[0m\n\u001b[0;32m      2\u001b[0m     \u001b[1;32mif\u001b[0m \u001b[0mtransition\u001b[0m \u001b[1;33m==\u001b[0m \u001b[1;36m0\u001b[0m\u001b[1;33m:\u001b[0m\u001b[1;33m\u001b[0m\u001b[0m\n\u001b[1;32m----> 3\u001b[1;33m         \u001b[0mnew_pos\u001b[0m \u001b[1;33m=\u001b[0m \u001b[0mnp\u001b[0m\u001b[1;33m.\u001b[0m\u001b[0marray\u001b[0m\u001b[1;33m(\u001b[0m\u001b[0mcurr_pos\u001b[0m\u001b[1;33m)\u001b[0m \u001b[1;33m+\u001b[0m \u001b[0maction\u001b[0m\u001b[1;33m\u001b[0m\u001b[0m\n\u001b[0m\u001b[0;32m      4\u001b[0m     \u001b[1;32melse\u001b[0m\u001b[1;33m:\u001b[0m\u001b[1;33m\u001b[0m\u001b[0m\n\u001b[0;32m      5\u001b[0m         \u001b[0mnew_pos\u001b[0m \u001b[1;33m=\u001b[0m \u001b[0mnp\u001b[0m\u001b[1;33m.\u001b[0m\u001b[0marray\u001b[0m\u001b[1;33m(\u001b[0m\u001b[0mcurr_pos\u001b[0m\u001b[1;33m)\u001b[0m \u001b[1;33m+\u001b[0m \u001b[0mnp\u001b[0m\u001b[1;33m.\u001b[0m\u001b[0mdot\u001b[0m\u001b[1;33m(\u001b[0m\u001b[0mnp\u001b[0m\u001b[1;33m.\u001b[0m\u001b[0marray\u001b[0m\u001b[1;33m(\u001b[0m\u001b[0maction\u001b[0m\u001b[1;33m)\u001b[0m\u001b[1;33m,\u001b[0m \u001b[0mnp\u001b[0m\u001b[1;33m.\u001b[0m\u001b[0marray\u001b[0m\u001b[1;33m(\u001b[0m\u001b[1;33m[\u001b[0m\u001b[1;33m[\u001b[0m\u001b[1;36m0\u001b[0m\u001b[1;33m,\u001b[0m \u001b[1;36m1\u001b[0m\u001b[1;33m]\u001b[0m\u001b[1;33m,\u001b[0m \u001b[1;33m[\u001b[0m\u001b[1;33m-\u001b[0m\u001b[1;36m1\u001b[0m \u001b[1;33m,\u001b[0m \u001b[1;36m0\u001b[0m\u001b[1;33m]\u001b[0m\u001b[1;33m]\u001b[0m\u001b[1;33m)\u001b[0m\u001b[1;33m)\u001b[0m\u001b[1;33m\u001b[0m\u001b[0m\n",
      "\u001b[1;31mKeyboardInterrupt\u001b[0m: "
     ]
    }
   ],
   "source": [
    "curr_pos = np.array([10, 10])\n",
    "visited = list()\n",
    "for i in range(300000):\n",
    "    if i%1000 == 0:\n",
    "        curr_pos = np.array([10, 10])\n",
    "    action = select_action(model, curr_pos, visited)\n",
    "    new_pos, reward = step(environment, curr_pos, action, 0)\n",
    "    model, visited = update_model(model, curr_pos, new_pos, reward, visited)\n",
    "    curr_pos = new_pos\n",
    "    #print (visited)"
   ]
  },
  {
   "cell_type": "code",
   "execution_count": 18,
   "metadata": {},
   "outputs": [
    {
     "data": {
      "text/plain": [
       "<matplotlib.image.AxesImage at 0x25bf2153320>"
      ]
     },
     "execution_count": 18,
     "metadata": {},
     "output_type": "execute_result"
    },
    {
     "data": {
      "image/png": "[encoded data removed]",
      "text/plain": [
       "<Figure size 432x288 with 1 Axes>"
      ]
     },
     "metadata": {
      "needs_background": "light"
     },
     "output_type": "display_data"
    }
   ],
   "source": [
    "plt.imshow(model, cmap = 'hot')"
   ]
  },
  {
   "cell_type": "code",
   "execution_count": 7,
   "metadata": {},
   "outputs": [],
   "source": [
    "\n",
    "def calc_angle(current_point, next_point, final_point):\n",
    "    vec1 = next_point - current_point\n",
    "    vec2 = final_point - current_point\n",
    "    vec1 = vec1.astype('float64')\n",
    "    vec2 = vec2.astype('float64')\n",
    "    cos_theta = np.dot(vec1, vec2)/(np.linalg.norm(vec1) * np.linalg.norm(vec2))\n",
    "    theta = np.degrees(np.arccos(cos_theta))\n",
    "    return theta\n",
    "\n",
    "def get_partial_traj(data, block, trial, percentage_trajectory):\n",
    "    traj = get_traj(data, block, trial)\n",
    "    dist_cutoff = percentage_trajectory*np.sqrt(212**2 + 212**2, dtype = float)\n",
    "    for i in range(len(traj[0])):\n",
    "        dist_from_start = np.sqrt(traj[0][i]**2 + traj[1][i]**2, dtype = float)\n",
    "        if dist_from_start > dist_cutoff:\n",
    "            break\n",
    "    partial_trajx = traj[0][:i]\n",
    "    partial_trajy = traj[1][:i]\n",
    "        \n",
    "            \n",
    "    return partial_trajx, partial_trajy\n",
    "\n",
    "def get_traj(data, block, trial):\n",
    "    traj = scipy.io.loadmat('data/data{data}/actual_trajectories/trajectories{block}.mat'.format(block=str(block), data=str(data)))\n",
    "    x_traj = traj['x'][0][trial][0]\n",
    "    y_traj = traj['y'][0][trial][0]\n",
    "    return x_traj, y_traj\n"
   ]
  },
  {
   "cell_type": "code",
   "execution_count": 8,
   "metadata": {},
   "outputs": [],
   "source": [
    "def calc_curvature_raw(data, block, trial, percentage_trajectory):\n",
    "    traj = scipy.io.loadmat('data/data{data}/actual_trajectories/trajectories{block}.mat'.format(block=str(block), data=str(data)))\n",
    "    trajx, trajy = traj['x'][0][trial][0], traj['y'][0][trial][0]\n",
    "    targetx, targety = trajx[-1], trajy[-1]\n",
    "    partial_trajx, partial_trajy = get_partial_traj(data, block, trial, percentage_trajectory)\n",
    "    angles = list()\n",
    "    for i in range(len(partial_trajx[:-1])):\n",
    "        #print (trajx[i], trajy[i])\n",
    "        angles.append(calc_angle(np.array([partial_trajx[i], partial_trajy[i]]), np.array([partial_trajx[i+1], partial_trajy[i+1]]), np.array([trajx[-1], trajy[-1]])))\n",
    "    return angles"
   ]
  },
  {
   "cell_type": "markdown",
   "metadata": {},
   "source": [
    "# Forming trajectories from distributions"
   ]
  },
  {
   "cell_type": "code",
   "execution_count": 9,
   "metadata": {},
   "outputs": [],
   "source": [
    "def perceived_required_angle(position, target_position, est_rotation):\n",
    "    unit_vector_1 = position / np.linalg.norm(position)\n",
    "    unit_vector_2 = target_position / np.linalg.norm(target_position)\n",
    "    dot_product = np.dot(unit_vector_1, unit_vector_2)\n",
    "    angle = np.arccos(dot_product) + 0.9*est_rotation        \n",
    "    return angle"
   ]
  },
  {
   "cell_type": "code",
   "execution_count": 10,
   "metadata": {},
   "outputs": [],
   "source": [
    "def step_angle(curr_pos, angle, sigma, speed, actual_rotation):\n",
    "    movement_angle = np.random.normal(angle, sigma)\n",
    "    new_pos = np.zeros(2)\n",
    "    new_pos[0] = curr_pos[0] + speed*np.cos(movement_angle+actual_rotation)\n",
    "    new_pos[1] = curr_pos[1] + speed*np.sin(movement_angle+actual_rotation)\n",
    "    return new_pos"
   ]
  },
  {
   "cell_type": "code",
   "execution_count": 11,
   "metadata": {},
   "outputs": [],
   "source": [
    "visited = list()\n",
    "def calc_cost(params, actual_rotation, steps):\n",
    "    motor_sigma = params[0]\n",
    "    speed = params[1]\n",
    "    est_rotation = params[2]\n",
    "    target = np.array([90, 90])\n",
    "    curr_pos = np.array([10, 10])\n",
    "    if motor_sigma < 0:\n",
    "        return 100000\n",
    "    if speed < 0:\n",
    "        return 100000\n",
    "    if est_rotation < 0:\n",
    "        return 100000\n",
    "    for i in range(steps):\n",
    "        angle = perceived_required_angle(curr_pos, target, est_rotation)\n",
    "\n",
    "        new_pos = step_angle(curr_pos, angle, motor_sigma, speed, actual_rotation)\n",
    "        curr_pos = new_pos\n",
    "        visited.append(curr_pos)\n",
    "        if np.linalg.norm(np.abs(curr_pos) - np.abs(target)) < 10:\n",
    "            break\n",
    "    \n",
    "    return np.linalg.norm(np.abs(curr_pos) - np.abs(target))"
   ]
  },
  {
   "cell_type": "markdown",
   "metadata": {},
   "source": [
    "# Control Theory"
   ]
  },
  {
   "cell_type": "code",
   "execution_count": 12,
   "metadata": {},
   "outputs": [],
   "source": [
    "class LDS:\n",
    "    def __init__(self, time_steps, ini_state, noise_var, goal):\n",
    "        self.time_steps = time_steps\n",
    "        self.ini_state = ini_state\n",
    "        self.noise_var = noise_var\n",
    "        self.goal = goal\n",
    "        \n",
    "    def dynamics(self, D, B):\n",
    "        time_states = np.zeros(self.time_steps)\n",
    "        time_states[0] = self.ini_state\n",
    "        noise = np.random.normal(0, self.noise_var, self.time_steps)\n",
    "        for t in range(self.time_steps - 1):\n",
    "            time_states[t+1] = D*time_states[t] + noise[t]\n",
    "        return time_states\n",
    "    def dynamics_openloop(self, D, B, a):\n",
    "        time_states = np.zeros(self.time_steps)\n",
    "        time_states[0] = self.ini_state\n",
    "        noise = np.random.normal(0, self.noise_var, self.time_steps)\n",
    "        for t in range(self.time_steps - 1):\n",
    "            time_states[t+1] = D*time_states[t] + B*a[t] + noise[t]\n",
    "        return time_states\n",
    "    def dynamics_closedloop(self, params):\n",
    "        D = params[0]\n",
    "        B = params[1]\n",
    "        L = params[2:]\n",
    "        time_states = np.zeros(self.time_steps)\n",
    "        time_states[0] = self.ini_state\n",
    "        noise = np.random.normal(0, self.noise_var, self.time_steps)\n",
    "        for t in range(self.time_steps - 1):\n",
    "            a[t] = L[t]*time_states[t]\n",
    "            time_states[t+1] = D*time_states[t] + B*a[t] + noise[t]\n",
    "        J = np.sum((time_states - self.goal)**2)\n",
    "        \n",
    "        return J, a, time_states\n",
    "    \n"
   ]
  },
  {
   "cell_type": "code",
   "execution_count": 283,
   "metadata": {},
   "outputs": [],
   "source": [
    "# Complete the helper class LQR for LQR\n",
    "\n",
    "class LQR(LDS):\n",
    "    def __init__(self, time_steps, ini_state, noise_var, goal):\n",
    "        super().__init__(time_steps, ini_state, noise_var, goal)\n",
    "    \n",
    "    def control_gain_LQR(self, D, B, rho):\n",
    "        P = np.zeros(self.time_steps) # Riccati updates\n",
    "        P[-1] = 1  \n",
    "        \n",
    "        L = np.zeros(self.time_steps-1) # control gain \n",
    "        \n",
    "        for t in range(self.time_steps-1):\n",
    "            P[self.time_steps - t - 2] = (1 + \n",
    "                            P[self.time_steps - t - 1] * D **2 - \n",
    "                            D * P[self.time_steps - t - 1] * B / (\n",
    "                                rho + P[self.time_steps - t - 1] * B) * B ** 2 * P[self.time_steps - t - 1] * D)\n",
    "\n",
    "            L[self.time_steps - t - 2] =  -(1 / (rho + P[self.time_steps - t - 1] * B ** 2) * B * P[self.time_steps - t - 1] * D) \n",
    "        \n",
    "        return L\n",
    "\n",
    "\n",
    "    def calculate_J_state(self, s):\n",
    "        ###################################################################\n",
    "        ## Insert your code here to calculate J_state(s).\n",
    "        ## complete the function and remove\n",
    "        raise NotImplementedError(\"Student exercise: Please complete <J_state>\")\n",
    "        ###################################################################\n",
    "        # J_state = ?\n",
    "\n",
    "        return J_state \n",
    "\n",
    "\n",
    "    def calculate_J_control(self, a):\n",
    "        ###################################################################\n",
    "        ## Insert your code here to calculate J_control(s).\n",
    "        ## complete the function and remove\n",
    "        raise NotImplementedError(\"Student exercise: Please complete <J_control> \")\n",
    "        ###################################################################\n",
    "        # J_control = ?\n",
    "\n",
    "        return J_control\n"
   ]
  },
  {
   "cell_type": "code",
   "execution_count": 299,
   "metadata": {},
   "outputs": [],
   "source": [
    "class LQR_tracking(LQR):\n",
    "    def __init__(self, time_steps, ini_state, noise_var, goal):\n",
    "        super().__init__(time_steps, ini_state, noise_var, goal)\n",
    "\n",
    "    def dynamics_tracking(self, D, B, L):\n",
    "        \n",
    "        s = np.zeros(self.time_steps) # states intialization\n",
    "        s[0] = self.ini_state\n",
    "\n",
    "        noise = np.random.normal(0, self.noise_var, self.time_steps)\n",
    "        \n",
    "        a = np.zeros(self.time_steps) # control intialization\n",
    "        a_bar = np.zeros(self.time_steps)\n",
    "        for t in range(self.time_steps - 1):\n",
    "            a_bar[t] = ( - D * s[t] + self.goal[t + 1]) / B\n",
    "            a[t] =  L[t] * (s[t] - self.goal[t]) + a_bar[t]\n",
    "            s[t + 1] = D * s[t] + B * a[t] + noise[t]\n",
    "        \n",
    "        return s, a, a_bar"
   ]
  },
  {
   "cell_type": "code",
   "execution_count": 180,
   "metadata": {},
   "outputs": [],
   "source": [
    "traj_example = calc_curvature_raw(1004, 5, 10, 1)"
   ]
  },
  {
   "cell_type": "code",
   "execution_count": 181,
   "metadata": {},
   "outputs": [],
   "source": []
  },
  {
   "cell_type": "code",
   "execution_count": 182,
   "metadata": {},
   "outputs": [],
   "source": [
    "L = tracker.control_gain_LQR(0.1, 0.1, 20)\n",
    "s, a, a_bar = tracker.dynamics_tracking(0.1, 0.1, L)"
   ]
  },
  {
   "cell_type": "code",
   "execution_count": 285,
   "metadata": {},
   "outputs": [],
   "source": [
    "def track_error(params, traj_example):\n",
    "    D = params[0]\n",
    "    B = params[1]\n",
    "    L = params[2:]\n",
    "    tracker = LQR_tracking(len(traj_example), traj_example[0], 0.1, traj_example)\n",
    "    s, a, a_bar = tracker.dynamics_tracking(D, B, L)\n",
    "    error = np.sum((s - traj_example)**2)\n",
    "    return error"
   ]
  },
  {
   "cell_type": "code",
   "execution_count": 300,
   "metadata": {},
   "outputs": [],
   "source": [
    "traj_example = calc_curvature_raw(1024, 5, 10, 1)\n",
    "x0 = [0.1, 0.1]\n",
    "L0 = np.zeros(len(traj_example))\n",
    "x0.extend(L0.tolist())\n",
    "fits = scipy.optimize.basinhopping(track_error, x0, minimizer_kwargs={\"args\":traj_example, \"method\":\"Nelder-Mead\"})\n",
    "B = fits.x[0]\n",
    "D = fits.x[1]\n",
    "L = fits.x[2:]\n",
    "tracker = LQR_tracking(len(traj_example), traj_example[0], 0.1, traj_example)\n",
    "s, a, a_bar = tracker.dynamics_tracking(D, B, L)"
   ]
  },
  {
   "cell_type": "code",
   "execution_count": 303,
   "metadata": {},
   "outputs": [
    {
     "data": {
      "text/plain": [
       "array([-1.20344786e+00, -3.75838923e+00,  2.28508102e+00,  9.66781343e-01,\n",
       "       -7.88114158e+00,  2.04780356e+00,  2.99898324e+00, -7.53696033e+00,\n",
       "       -3.43647264e-03, -1.05793417e+00, -1.46292301e+00,  1.47368011e+00,\n",
       "       -2.98117317e+00,  6.62630235e-01,  2.69519293e+00, -3.93605670e-01,\n",
       "       -1.25089438e+00,  7.11746113e+00,  1.26013064e+00,  8.07965824e-01,\n",
       "        1.64067639e-01,  1.56913070e+00,  1.23133507e+00])"
      ]
     },
     "execution_count": 303,
     "metadata": {},
     "output_type": "execute_result"
    },
    {
     "data": {
      "image/png": "[encoded data removed]",
      "text/plain": [
       "<Figure size 432x288 with 1 Axes>"
      ]
     },
     "metadata": {
      "needs_background": "light"
     },
     "output_type": "display_data"
    }
   ],
   "source": [
    "plt.plot(s)\n",
    "plt.plot(traj_example)\n",
    "L"
   ]
  },
  {
   "cell_type": "markdown",
   "metadata": {},
   "source": [
    "# Using the control library\n"
   ]
  },
  {
   "cell_type": "code",
   "execution_count": null,
   "metadata": {},
   "outputs": [],
   "source": []
  },
  {
   "cell_type": "code",
   "execution_count": null,
   "metadata": {},
   "outputs": [],
   "source": []
  },
  {
   "cell_type": "code",
   "execution_count": null,
   "metadata": {},
   "outputs": [],
   "source": []
  },
  {
   "cell_type": "code",
   "execution_count": null,
   "metadata": {},
   "outputs": [],
   "source": []
  }
 ],
 "metadata": {
  "kernelspec": {
   "display_name": "Python 3",
   "language": "python",
   "name": "python3"
  },
  "language_info": {
   "codemirror_mode": {
    "name": "ipython",
    "version": 3
   },
   "file_extension": ".py",
   "mimetype": "text/x-python",
   "name": "python",
   "nbconvert_exporter": "python",
   "pygments_lexer": "ipython3",
   "version": "3.7.0"
  }
 },
 "nbformat": 4,
 "nbformat_minor": 4
}
