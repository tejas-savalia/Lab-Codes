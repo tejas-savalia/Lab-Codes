{
 "cells": [
  {
   "cell_type": "code",
   "execution_count": 1,
   "metadata": {},
   "outputs": [
    {
     "ename": "SyntaxError",
     "evalue": "duplicate argument 'num_trials' in function definition (all_models.py, line 272)",
     "output_type": "error",
     "traceback": [
      "Traceback \u001b[1;36m(most recent call last)\u001b[0m:\n",
      "  File \u001b[0;32m\"C:\\Users\\Tejas\\anaconda3\\lib\\site-packages\\IPython\\core\\interactiveshell.py\"\u001b[0m, line \u001b[0;32m3418\u001b[0m, in \u001b[0;35mrun_code\u001b[0m\n    exec(code_obj, self.user_global_ns, self.user_ns)\n",
      "\u001b[1;36m  File \u001b[1;32m\"<ipython-input-1-5bd819917e54>\"\u001b[1;36m, line \u001b[1;32m11\u001b[1;36m, in \u001b[1;35m<module>\u001b[1;36m\u001b[0m\n\u001b[1;33m    from all_models import *\u001b[0m\n",
      "\u001b[1;36m  File \u001b[1;32m\"C:\\Users\\Tejas\\Documents\\Lab-Codes\\Psychtoolbox\\Visuomotor_Adaptation_Tablet\\python_scripts\\all_models.py\"\u001b[1;36m, line \u001b[1;32m272\u001b[0m\n\u001b[1;33m    def run_fits_dual(curvatures, num_trials, part_size, num_trials):\u001b[0m\n\u001b[1;37m    ^\u001b[0m\n\u001b[1;31mSyntaxError\u001b[0m\u001b[1;31m:\u001b[0m duplicate argument 'num_trials' in function definition\n"
     ]
    }
   ],
   "source": [
    "import numpy as np\n",
    "from multiprocessing import Pool\n",
    "from functools import partial\n",
    "import pickle\n",
    "import scipy\n",
    "import scipy.optimize\n",
    "from sklearn.metrics import *\n",
    "import scipy.stats as stat\n",
    "import matplotlib.pyplot as plt\n",
    "from scipy.ndimage import gaussian_filter1d\n",
    "from all_models import *"
   ]
  },
  {
   "cell_type": "code",
   "execution_count": null,
   "metadata": {},
   "outputs": [],
   "source": [
    "def main():\n",
    "    \n",
    "    curvatures_smooth = pickle.load(open('curvatures_smooth.pickle', 'rb'))\n",
    "    curvatures_smooth = curvatures_smooth/90\n",
    "    print(\"parallel curvatures successful\")\n",
    "    print (curvatures_smooth)\n",
    "    \n",
    "    print (\"Curvatures Loaded. In Fit routine\")\n",
    "\n",
    "    #%% Parallel run and dump fits\n",
    "    fits = run_fits_single(curvatures_smooth, 640, 640, 640)\n",
    "    with open('fit_single_ll_transfer_test_rep.pickle', 'wb') as f:\n",
    "        pickle.dump(fits, f)\n",
    "    f.close()\n",
    "        \n",
    "    \n",
    "    #%% Run this to save parameters\n",
    "    \n",
    "if __name__ == '__main__':\n",
    "    main()\n",
    "    \n"
   ]
  },
  {
   "cell_type": "code",
   "execution_count": null,
   "metadata": {},
   "outputs": [],
   "source": []
  }
 ],
 "metadata": {
  "kernelspec": {
   "display_name": "Python 3",
   "language": "python",
   "name": "python3"
  },
  "language_info": {
   "codemirror_mode": {
    "name": "ipython",
    "version": 3
   },
   "file_extension": ".py",
   "mimetype": "text/x-python",
   "name": "python",
   "nbconvert_exporter": "python",
   "pygments_lexer": "ipython3",
   "version": "3.8.5"
  }
 },
 "nbformat": 4,
 "nbformat_minor": 4
}
