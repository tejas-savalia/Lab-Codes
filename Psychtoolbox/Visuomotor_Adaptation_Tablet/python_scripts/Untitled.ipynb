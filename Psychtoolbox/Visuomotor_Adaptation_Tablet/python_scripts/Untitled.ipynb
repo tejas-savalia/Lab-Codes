{
 "cells": [
  {
   "cell_type": "code",
   "execution_count": 1,
   "metadata": {},
   "outputs": [],
   "source": [
    "import numpy as np\n",
    "from multiprocessing import Pool\n",
    "from functools import partial\n",
    "import pickle\n",
    "import scipy\n",
    "import scipy.optimize\n",
    "from sklearn.metrics import *\n",
    "import scipy.stats as stat\n",
    "import matplotlib.pyplot as plt\n",
    "from scipy.ndimage import gaussian_filter1d\n",
    "from all_models import *"
   ]
  },
  {
   "cell_type": "code",
   "execution_count": 16,
   "metadata": {},
   "outputs": [],
   "source": [
    "curvatures_smooth = pickle.load(open('curvatures_smooth.pickle', 'rb'))/90"
   ]
  },
  {
   "cell_type": "code",
   "execution_count": 41,
   "metadata": {},
   "outputs": [],
   "source": [
    "convolved = np.zeros((60, 704))\n",
    "raveled = np.zeros((60, 704))\n",
    "\n",
    "for participant in range(60):\n",
    "    if participant%4 == 0 or participant%4 == 1:\n",
    "        convolved[participant][15:640] = np.convolve(np.ravel(curvatures_smooth[participant][1:-1]), np.ones(16)/16, 'valid')\n",
    "        convolved[participant][655:704] = np.convolve(curvatures_smooth[participant][-1], np.ones(16)/16, 'valid')\n",
    "        convolved[participant][0] = curvatures_smooth[participant][1][0]\n",
    "        for trial in range(1, 16):\n",
    "            convolved[participant][trial] = np.mean(curvatures_smooth[participant][1][:trial+1])\n",
    "    else:\n",
    "        for block in range(11):\n",
    "            convolved[participant][block*64] = curvatures_smooth[participant][block][0]\n",
    "            for trial in range(1, 16):\n",
    "                convolved[participant][block*64+trial] = np.mean(curvatures_smooth[participant][block][:trial+1])\n",
    "            convolved[participant][15+block*64:(block+1)*64] = np.convolve(curvatures_smooth[participant][block+1], np.ones(16)/16, 'valid')"
   ]
  },
  {
   "cell_type": "code",
   "execution_count": 42,
   "metadata": {},
   "outputs": [],
   "source": [
    "pickle.dump(convolved, open('curvatures_smooth_convolved_avg_16.pickle', 'wb'))"
   ]
  },
  {
   "cell_type": "code",
   "execution_count": 43,
   "metadata": {},
   "outputs": [],
   "source": [
    "a = pickle.load(open('curvatures_smooth_convolved_avg_16.pickle', 'rb'))"
   ]
  },
  {
   "cell_type": "code",
   "execution_count": null,
   "metadata": {},
   "outputs": [],
   "source": []
  }
 ],
 "metadata": {
  "kernelspec": {
   "display_name": "Python 3",
   "language": "python",
   "name": "python3"
  },
  "language_info": {
   "codemirror_mode": {
    "name": "ipython",
    "version": 3
   },
   "file_extension": ".py",
   "mimetype": "text/x-python",
   "name": "python",
   "nbconvert_exporter": "python",
   "pygments_lexer": "ipython3",
   "version": "3.8.5"
  }
 },
 "nbformat": 4,
 "nbformat_minor": 4
}
